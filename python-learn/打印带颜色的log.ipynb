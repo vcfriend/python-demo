{
 "cells": [
  {
   "cell_type": "code",
   "execution_count": null,
   "metadata": {
    "collapsed": true
   },
   "outputs": [],
   "source": []
  },
  {
   "cell_type": "code",
   "execution_count": 1,
   "outputs": [
    {
     "name": "stdout",
     "output_type": "stream",
     "text": [
      "\u001B[31mhello\u001B[0m\n",
      "\u001B[42mcolor\u001B[0m\n",
      "\n",
      "                    Black      Red        Green      Yellow     Blue       Magenta    Cyan       White      \n",
      "Foreground          \u001B[30mHelloColor\u001B[0m \u001B[31mHelloColor\u001B[0m \u001B[32mHelloColor\u001B[0m \u001B[33mHelloColor\u001B[0m \u001B[34mHelloColor\u001B[0m \u001B[35mHelloColor\u001B[0m \u001B[36mHelloColor\u001B[0m \u001B[37mHelloColor\u001B[0m \n",
      "Background          \u001B[40mHelloColor\u001B[0m \u001B[41mHelloColor\u001B[0m \u001B[42mHelloColor\u001B[0m \u001B[43mHelloColor\u001B[0m \u001B[44mHelloColor\u001B[0m \u001B[45mHelloColor\u001B[0m \u001B[46mHelloColor\u001B[0m \u001B[47mHelloColor\u001B[0m \n",
      "ForegroundBright    \u001B[90mHelloColor\u001B[0m \u001B[91mHelloColor\u001B[0m \u001B[92mHelloColor\u001B[0m \u001B[93mHelloColor\u001B[0m \u001B[94mHelloColor\u001B[0m \u001B[95mHelloColor\u001B[0m \u001B[96mHelloColor\u001B[0m \u001B[97mHelloColor\u001B[0m \n",
      "BackgroundBright    \u001B[100mHelloColor\u001B[0m \u001B[101mHelloColor\u001B[0m \u001B[102mHelloColor\u001B[0m \u001B[103mHelloColor\u001B[0m \u001B[104mHelloColor\u001B[0m \u001B[105mHelloColor\u001B[0m \u001B[106mHelloColor\u001B[0m \u001B[107mHelloColor\u001B[0m \n"
     ]
    }
   ],
   "source": [
    "class Color:\n",
    "    Black = 0\n",
    "    Red = 1\n",
    "    Green = 2\n",
    "    Yellow = 3\n",
    "    Blue = 4\n",
    "    Magenta = 5\n",
    "    Cyan = 6\n",
    "    White = 7\n",
    "\n",
    "\n",
    "class Mode:\n",
    "    Foreground = 30\n",
    "    Background = 40\n",
    "    ForegroundBright = 90\n",
    "    BackgroundBright = 100\n",
    "\n",
    "\n",
    "def tcolor(c, m=Mode.Foreground):\n",
    "    return '\\033[{}m'.format(m + c)\n",
    "\n",
    "\n",
    "def treset():\n",
    "    return '\\033[0m'\n",
    "\n",
    "\n",
    "if __name__ == '__main__':\n",
    "    import os\n",
    "\n",
    "    os.system('')\n",
    "\n",
    "    # usage\n",
    "    print(tcolor(Color.Red) + 'hello' + treset())\n",
    "    print(tcolor(Color.Green, Mode.Background) + 'color' + treset())\n",
    "    print()\n",
    "\n",
    "    COLOR_NAMES = ['Black', 'Red', 'Green', 'Yellow', 'Blue', 'Magenta', 'Cyan', 'White']\n",
    "    MODE_NAMES = ['Foreground', 'Background', 'ForegroundBright', 'BackgroundBright']\n",
    "\n",
    "    fmt = '{:11}' * len(COLOR_NAMES)\n",
    "    print(' ' * 20 + fmt.format(*COLOR_NAMES))\n",
    "\n",
    "    for mode_name in MODE_NAMES:\n",
    "        print('{:20}'.format(mode_name), end='')\n",
    "        for color_name in COLOR_NAMES:\n",
    "            color = getattr(Color, color_name)\n",
    "            mode = getattr(Mode, mode_name)\n",
    "            print(tcolor(color, mode) + 'HelloColor' + treset(), end=' ')\n",
    "        print()"
   ],
   "metadata": {
    "collapsed": false,
    "pycharm": {
     "name": "#%%\n"
    }
   }
  },
  {
   "cell_type": "code",
   "execution_count": 25,
   "outputs": [
    {
     "name": "stdout",
     "output_type": "stream",
     "text": [
      "\u001B[42m 你好颜色1 \u001B[41m 你好颜色2 \u001B[0m 你好颜色3  你好颜色4 \n"
     ]
    }
   ],
   "source": [
    "t = ''\n",
    "t += tcolor(Color.Green, Mode.Background) + ' 你好颜色1 '\n",
    "t += tcolor(Color.Red, Mode.Background) + ' 你好颜色2 ' + treset()\n",
    "t += ' 你好颜色3 '\n",
    "t += ' 你好颜色4 '\n",
    "\n",
    "print(t)"
   ],
   "metadata": {
    "collapsed": false,
    "pycharm": {
     "name": "#%%\n"
    }
   }
  },
  {
   "cell_type": "code",
   "execution_count": 51,
   "outputs": [
    {
     "name": "stdout",
     "output_type": "stream",
     "text": [
      "\u001B[42m 你好颜色0 520\u001B[0m\u001B[36m 你好颜色1 520\u001B[0m\u001B[41m 你好颜色3 222\u001B[0m\u001B[32m 你好颜色3 -333\u001B[0m\u001B[42m 你好颜色4 \u001B[0m\n"
     ]
    }
   ],
   "source": [
    "t = ''\n",
    "pnl = 520\n",
    "color_mode = (getattr(Color, 'Green'), getattr(Mode, 'Background'))\n",
    "t += (tcolor(*color_mode) + ' 你好颜色0 {:}'.format(pnl) + treset())\n",
    "t += (tcolor(Color.Cyan, Mode.Foreground) + ' 你好颜色1 {:}'.format(pnl) + treset())\n",
    "pnl = 222\n",
    "color_mode = (Color.Red, Mode.Background) if pnl > 0 else (Color.Green, Mode.Background)\n",
    "t += (tcolor(*color_mode) + ' 你好颜色3 {:}'.format(pnl) + treset())\n",
    "pnl = -333\n",
    "color = Color.Red if pnl > 0 else Color.Green\n",
    "t += (tcolor(color, Mode.Foreground) + ' 你好颜色3 {:}'.format(pnl) + treset())\n",
    "t += (tcolor(color, Mode.Background) + ' 你好颜色4 ' + treset())\n",
    "\n",
    "print(t)"
   ],
   "metadata": {
    "collapsed": false,
    "pycharm": {
     "name": "#%%\n"
    }
   }
  },
  {
   "cell_type": "code",
   "execution_count": null,
   "outputs": [],
   "source": [],
   "metadata": {
    "collapsed": false,
    "pycharm": {
     "name": "#%%\n"
    }
   }
  }
 ],
 "metadata": {
  "kernelspec": {
   "display_name": "Python 3",
   "language": "python",
   "name": "python3"
  },
  "language_info": {
   "codemirror_mode": {
    "name": "ipython",
    "version": 2
   },
   "file_extension": ".py",
   "mimetype": "text/x-python",
   "name": "python",
   "nbconvert_exporter": "python",
   "pygments_lexer": "ipython2",
   "version": "2.7.6"
  }
 },
 "nbformat": 4,
 "nbformat_minor": 0
}