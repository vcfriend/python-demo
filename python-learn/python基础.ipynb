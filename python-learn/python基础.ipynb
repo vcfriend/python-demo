{
 "cells": [
  {
   "cell_type": "code",
   "execution_count": 5,
   "metadata": {
    "collapsed": true
   },
   "outputs": [
    {
     "name": "stdout",
     "output_type": "stream",
     "text": [
      "name= unreg\n",
      "value= 1\n",
      "name= reg\n",
      "value= 0.05\n"
     ]
    }
   ],
   "source": [
    "\n",
    "for name, penalty in ((\"unreg\", 1), (\"reg\", 0.05)):\n",
    "    print('name=', name)\n",
    "    print('value=', penalty)"
   ]
  },
  {
   "cell_type": "code",
   "execution_count": 1,
   "outputs": [],
   "source": [
    "import numpy as np\n",
    "# c = [1, 2, 3]\n",
    "# a, b = [1, -1] *10\n",
    "# print(a, b)"
   ],
   "metadata": {
    "collapsed": false,
    "pycharm": {
     "name": "#%%\n"
    }
   }
  },
  {
   "cell_type": "code",
   "execution_count": 33,
   "outputs": [
    {
     "name": "stdout",
     "output_type": "stream",
     "text": [
      "<class 'int'>\n"
     ]
    },
    {
     "data": {
      "text/plain": "2"
     },
     "execution_count": 33,
     "metadata": {},
     "output_type": "execute_result"
    }
   ],
   "source": [
    "\n",
    "from enum import Enum\n",
    "\n",
    "\n",
    "# 列标头\n",
    "class header(Enum):\n",
    "    \"\"\"枚举列表头\"\"\"\n",
    "    DATE = 0  # date所在列\n",
    "    OPEN = 1\n",
    "    HIGH = 2\n",
    "    LOW = 3\n",
    "    CLOSE = 4\n",
    "    VOLUME = 5\n",
    "\n",
    "\n",
    "print(type(header.HIGH.value))\n",
    "header.HIGH.value"
   ],
   "metadata": {
    "collapsed": false,
    "pycharm": {
     "name": "#%%\n"
    }
   }
  },
  {
   "cell_type": "code",
   "execution_count": 41,
   "outputs": [],
   "source": [
    "import sys\n",
    "\n",
    "\n",
    "def dump(obj, nested_level=0, output=sys.stdout):\n",
    "    spacing = ' '\n",
    "    end = ''\n",
    "    if type(obj) == dict:\n",
    "        print('%s{' % ((nested_level) * spacing), end=end)\n",
    "        for k, v in obj.items():\n",
    "            if hasattr(v, '__iter__'):\n",
    "                print('%s%s:' % ((nested_level + 1) * spacing, k), end=end)\n",
    "                dump(v, nested_level + 1, output)\n",
    "            else:\n",
    "                print('%s%s: %s' % ((nested_level + 1) * spacing, k, v))\n",
    "        print('%s}' % (nested_level * spacing), end=end)\n",
    "    elif type(obj) == list:\n",
    "        print('%s[' % ((nested_level) * spacing), end=end)\n",
    "        for v in obj:\n",
    "            if hasattr(v, '__iter__'):\n",
    "                dump(v, nested_level + 1, output)\n",
    "            else:\n",
    "                print('%s%s' % ((nested_level + 1) * spacing, v))\n",
    "        print('%s]' % ((nested_level) * spacing), end=end)\n",
    "    else:\n",
    "        print('%s%s' % (nested_level * spacing, obj), end=end)\n",
    "\n"
   ],
   "metadata": {
    "collapsed": false,
    "pycharm": {
     "name": "#%%\n"
    }
   }
  },
  {
   "cell_type": "code",
   "execution_count": 42,
   "outputs": [
    {
     "name": "stdout",
     "output_type": "stream",
     "text": [
      "{0: 'value 0', 1: 'value 1', 2: 'value 2', 3: 'value 3', 4: 'value 4'}\n",
      "{0: 'value 0', 1: 'value 1', 2: 'value 2', 3: 'value 3', 4: 'value 4'}\n",
      "{ 0: value 0 1: value 1 2: value 2 3: value 3 4: value 4}"
     ]
    }
   ],
   "source": [
    "import pprint\n",
    "\n",
    "# 格式化输出集合\n",
    "dic = {}\n",
    "for i in range(5):\n",
    "    dic[i] = \"value %d\" % i\n",
    "print(dic)\n",
    "# 自定义缩进为4空格\n",
    "pp = pprint.PrettyPrinter(indent=2)\n",
    "pp.pprint(dic)\n",
    "dump({0: 'value 0', 1: 'value 1', 2: 'value 2', 3: 'value 3', 4: 'value 4'})"
   ],
   "metadata": {
    "collapsed": false,
    "pycharm": {
     "name": "#%%\n"
    }
   }
  },
  {
   "cell_type": "code",
   "execution_count": 74,
   "outputs": [
    {
     "name": "stdout",
     "output_type": "stream",
     "text": [
      "4.0\n",
      "4\n",
      "1 2\n",
      "-----\n",
      "1季度: 1\n",
      "2季度: 2\n",
      "3季度: 3\n",
      "4季度: 4\n"
     ]
    }
   ],
   "source": [
    "print(8.3 // 2)  # 整除\n",
    "print(round(8.3 // 2))  # 取得int型结果\n",
    "print(round(5 // 3), round(6 // 3))  #\n",
    "month = (5 - 1) - (5 - 1) % 3 + 1\n",
    "\n",
    "print('-----')\n",
    "print('1季度:', ((1 - 1) // 3) % 4 + 1)\n",
    "print('2季度:', ((4 - 1) // 3) % 4 + 1)\n",
    "print('3季度:', ((7 - 1) // 3) % 4 + 1)\n",
    "print('4季度:', ((10 - 1) // 3) % 4 + 1)"
   ],
   "metadata": {
    "collapsed": false,
    "pycharm": {
     "name": "#%%\n"
    }
   }
  },
  {
   "cell_type": "code",
   "execution_count": null,
   "outputs": [],
   "source": [
    "print((2 - 1) % 3 + 1)"
   ],
   "metadata": {
    "collapsed": false,
    "pycharm": {
     "name": "#%%\n"
    }
   }
  },
  {
   "cell_type": "code",
   "execution_count": 14,
   "outputs": [
    {
     "name": "stdout",
     "output_type": "stream",
     "text": [
      "2\n"
     ]
    }
   ],
   "source": [
    "itoken = iter(\"2022-04-09\")\n",
    "dttxt = next(itoken)\n",
    "print(int(dttxt[0:4]))\n"
   ],
   "metadata": {
    "collapsed": false,
    "pycharm": {
     "name": "#%%\n"
    }
   }
  },
  {
   "cell_type": "code",
   "execution_count": 20,
   "outputs": [
    {
     "name": "stdout",
     "output_type": "stream",
     "text": [
      "4\n"
     ]
    }
   ],
   "source": [
    "dttxt = next(itoken)\n",
    "print(int(dttxt[0:4]))\n"
   ],
   "metadata": {
    "collapsed": false,
    "pycharm": {
     "name": "#%%\n"
    }
   }
  },
  {
   "cell_type": "code",
   "execution_count": 26,
   "outputs": [
    {
     "name": "stdout",
     "output_type": "stream",
     "text": [
      "%Y-%m-%d \n",
      "%H:%M:%S\n"
     ]
    }
   ],
   "source": [
    "dt_format = \"%Y-%m-%d %H:%M:%S\"\n",
    "dt_dtformat = dt_format[:dt_format.find('%H')]\n",
    "dt_tmformat = dt_format[dt_format.find('%H'):]\n",
    "print(dt_dtformat)\n",
    "print(dt_tmformat)"
   ],
   "metadata": {
    "collapsed": false,
    "pycharm": {
     "name": "#%%\n"
    }
   }
  },
  {
   "cell_type": "code",
   "execution_count": 25,
   "outputs": [
    {
     "data": {
      "text/plain": "9"
     },
     "execution_count": 25,
     "metadata": {},
     "output_type": "execute_result"
    }
   ],
   "source": [
    "dt_format.find('%H')"
   ],
   "metadata": {
    "collapsed": false,
    "pycharm": {
     "name": "#%%\n"
    }
   }
  },
  {
   "cell_type": "code",
   "execution_count": 4,
   "outputs": [
    {
     "data": {
      "text/plain": "[1, 3, 5, 7, 9]"
     },
     "execution_count": 4,
     "metadata": {},
     "output_type": "execute_result"
    }
   ],
   "source": [
    "# 生成间隔为2, 范围1-10内的整数\n",
    "list(range(1, 10, 2))"
   ],
   "metadata": {
    "collapsed": false,
    "pycharm": {
     "name": "#%%\n"
    }
   }
  },
  {
   "cell_type": "code",
   "execution_count": 8,
   "outputs": [
    {
     "data": {
      "text/plain": "[1, 3, 5, 7, 1]"
     },
     "execution_count": 8,
     "metadata": {},
     "output_type": "execute_result"
    }
   ],
   "source": [
    "# 单个数与列表运算\n",
    "[1, 3, 5, 7] + [1, ]"
   ],
   "metadata": {
    "collapsed": false,
    "pycharm": {
     "name": "#%%\n"
    }
   }
  },
  {
   "cell_type": "code",
   "execution_count": 15,
   "outputs": [
    {
     "name": "stdout",
     "output_type": "stream",
     "text": [
      "86400.0\n",
      "1440\n"
     ]
    }
   ],
   "source": [
    "import datetime\n",
    "\n",
    "\n",
    "def minNums(startTime, endTime):\n",
    "    '''计算两个时间点之间的分钟数'''\n",
    "    # 处理格式,加上秒位\n",
    "    startTime1 = startTime + ':00'\n",
    "    endTime1 = endTime + ':00'\n",
    "    # 计算分钟数\n",
    "    startTime2 = datetime.datetime.strptime(startTime1, \"%Y-%m-%d %H:%M:%S\")\n",
    "    endTime2 = datetime.datetime.strptime(endTime1, \"%Y-%m-%d %H:%M:%S\")\n",
    "    seconds = (endTime2 - startTime2).seconds\n",
    "    # 来获取时间差中的秒数。注意，seconds获得的秒只是时间差中的小时、分钟和秒部分的和，并没有包含时间差的天数（既是两个时间点不是同一天，失效）\n",
    "    total_seconds = (endTime2 - startTime2).total_seconds()\n",
    "    # 来获取准确的时间差，并将时间差转换为秒\n",
    "    print(total_seconds)\n",
    "    mins = total_seconds / 60\n",
    "    return int(mins)\n",
    "\n",
    "\n",
    "if __name__ == \"__main__\":\n",
    "    startTime_1 = '2019-07-28 00:00'\n",
    "    endTime_1 = '2019-07-29 00:00'\n",
    "    fenNum = minNums(startTime_1, endTime_1)\n",
    "    print(fenNum)"
   ],
   "metadata": {
    "collapsed": false,
    "pycharm": {
     "name": "#%%\n"
    }
   }
  },
  {
   "cell_type": "code",
   "execution_count": 23,
   "outputs": [
    {
     "data": {
      "text/plain": "60.0"
     },
     "execution_count": 23,
     "metadata": {},
     "output_type": "execute_result"
    }
   ],
   "source": [
    "import datetime\n",
    "\n",
    "dt1 = datetime.datetime.strptime('2019-07-28 5:20', \"%Y-%m-%d %H:%M\")\n",
    "dt2 = datetime.datetime.strptime('2019-07-28 6:20', \"%Y-%m-%d %H:%M\")\n",
    "(dt2 - dt1).total_seconds() / 60"
   ],
   "metadata": {
    "collapsed": false,
    "pycharm": {
     "name": "#%%\n"
    }
   }
  },
  {
   "cell_type": "code",
   "execution_count": 2,
   "outputs": [
    {
     "data": {
      "text/plain": "'键值不存在'"
     },
     "execution_count": 2,
     "metadata": {},
     "output_type": "execute_result"
    }
   ],
   "source": [
    "# 字典操作\n",
    "score = dict()\n",
    "score['语文'] if '语文' in score else '键值不存在'"
   ],
   "metadata": {
    "collapsed": false,
    "pycharm": {
     "name": "#%%\n"
    }
   }
  },
  {
   "cell_type": "code",
   "execution_count": 8,
   "outputs": [
    {
     "name": "stdout",
     "output_type": "stream",
     "text": [
      "['b', 'c', 'd']\n"
     ]
    }
   ],
   "source": [
    "list1 = ['a', 'b', 'c', 'd']\n",
    "list1.remove('a')\n",
    "print(list1)"
   ],
   "metadata": {
    "collapsed": false,
    "pycharm": {
     "name": "#%%\n"
    }
   }
  },
  {
   "cell_type": "code",
   "execution_count": 1,
   "outputs": [
    {
     "name": "stdout",
     "output_type": "stream",
     "text": [
      "{'a': 'a1', 'b': 'b2'}\n",
      "{'a': 'a1', 'b': 'b2', 'c': {'c1': 'c3'}}\n",
      "{'a': 'a1', 'b': 'b2', 'c': {'c1': 'c3'}, 'd3': {'a1': 'a1', 'a2': 'a2'}}\n"
     ]
    }
   ],
   "source": [
    "# 字典初始化与赋值\n",
    "d1 = dict(a='a1', b='b2')\n",
    "print(d1)\n",
    "d1['c'] = dict(c1='c3')\n",
    "print(d1)\n",
    "d1['d3'] = dict()\n",
    "d1['d3']['a1'] = 'a1'\n",
    "d1['d3']['a2'] = 'a2'\n",
    "print(d1)"
   ],
   "metadata": {
    "collapsed": false,
    "pycharm": {
     "name": "#%%\n"
    }
   }
  },
  {
   "cell_type": "code",
   "execution_count": 13,
   "outputs": [
    {
     "name": "stdout",
     "output_type": "stream",
     "text": [
      "Before = {'Name': 'HaiCoder', 'Age': 100, 'Score': 99.5}\n",
      "{'Name': 'HaiCoder', 'Age': 100, 'Score': 99.5, 'a1': 'a1', 'b1': 'b1'}\n"
     ]
    }
   ],
   "source": [
    "# 字典批量添加\n",
    "# 使用键作为下标，更新字典元素\n",
    "dic = {\"Name\": \"HaiCoder\", \"Age\": 100, \"Score\": 99.5}\n",
    "print(\"Before =\", dic)\n",
    "dic.update(({'a1': 'a1', 'b1': 'b1'}))\n",
    "print(dic)\n"
   ],
   "metadata": {
    "collapsed": false,
    "pycharm": {
     "name": "#%%\n"
    }
   }
  },
  {
   "cell_type": "code",
   "execution_count": 5,
   "outputs": [
    {
     "name": "stdout",
     "output_type": "stream",
     "text": [
      "11\n",
      "22\n",
      "33\n"
     ]
    }
   ],
   "source": [
    "# 元组遍历\n",
    "t1 = (11, 22, 33,)\n",
    "for t in tuple(t1):\n",
    "    print(t)"
   ],
   "metadata": {
    "collapsed": false,
    "pycharm": {
     "name": "#%%\n"
    }
   }
  },
  {
   "cell_type": "code",
   "execution_count": 7,
   "outputs": [
    {
     "name": "stdout",
     "output_type": "stream",
     "text": [
      "[1, 3, 5]\n"
     ]
    }
   ],
   "source": [
    "# for if 组合写法\n",
    "x = [1, 2, 3, 4, 5]\n",
    "c = [k for k in x if k % 2 == 1]\n",
    "print(c)  #[1, 3, 5]"
   ],
   "metadata": {
    "collapsed": false,
    "pycharm": {
     "name": "#%%\n"
    }
   }
  },
  {
   "cell_type": "code",
   "execution_count": 25,
   "outputs": [
    {
     "name": "stdout",
     "output_type": "stream",
     "text": [
      "{datetime.date(2001, 1, 5): 2300, datetime.date(2002, 1, 5): 2500, datetime.date(2003, 1, 5): 2500}\n",
      "[2500, 2500]\n",
      "{datetime.date(2002, 1, 5): 2500, datetime.date(2003, 1, 5): 2500}\n"
     ]
    }
   ],
   "source": [
    "from datetime import datetime\n",
    "\n",
    "dc1 = {\n",
    "    datetime(2001, 1, 5).date(): 2300,\n",
    "    datetime(2002, 1, 5).date(): 2500,\n",
    "    datetime(2003, 1, 5).date(): 2500,\n",
    "}\n",
    "dt = datetime(2001, 2, 1).date()\n",
    "print(dc1)\n",
    "print([v for k, v in dc1.items() if k > dt])  # 过滤日期小于dt的值,组成新的列表\n",
    "print(({k: v for k, v in dc1.items() if k > dt}))  # 过滤日期小于dt的键值,组成新的字典\n"
   ],
   "metadata": {
    "collapsed": false,
    "pycharm": {
     "name": "#%%\n"
    }
   }
  },
  {
   "cell_type": "code",
   "execution_count": 8,
   "outputs": [
    {
     "data": {
      "text/plain": "[1, 3, 5]"
     },
     "execution_count": 8,
     "metadata": {},
     "output_type": "execute_result"
    }
   ],
   "source": [
    "# 带有if语句\n",
    "L = [1, 2, 3, 4, 5, 6]\n",
    "L = [x for x in L if x % 2 != 0]\n",
    "L"
   ],
   "metadata": {
    "collapsed": false,
    "pycharm": {
     "name": "#%%\n"
    }
   }
  },
  {
   "cell_type": "code",
   "execution_count": 9,
   "outputs": [
    {
     "data": {
      "text/plain": "['aj', 'ak', 'bj', 'bk']"
     },
     "execution_count": 9,
     "metadata": {},
     "output_type": "execute_result"
    }
   ],
   "source": [
    "# 带有for嵌套\n",
    "[x + y for x in 'ab' for y in 'jk']"
   ],
   "metadata": {
    "collapsed": false,
    "pycharm": {
     "name": "#%%\n"
    }
   }
  },
  {
   "cell_type": "markdown",
   "source": [
    "既有if语句又有for嵌套\n",
    "通用语法\n",
    "[ expression for x in X [if condition]\n",
    "             for y in Y [if condition]\n",
    "             ...\n",
    "             for n in N [if condition] ]"
   ],
   "metadata": {
    "collapsed": false,
    "pycharm": {
     "name": "#%% md\n"
    }
   }
  },
  {
   "cell_type": "code",
   "execution_count": 11,
   "outputs": [
    {
     "data": {
      "text/plain": "[(0, 1), (0, 3), (2, 1), (2, 3), (4, 1), (4, 3)]"
     },
     "execution_count": 11,
     "metadata": {},
     "output_type": "execute_result"
    }
   ],
   "source": [
    "[(x, y) for x in range(5) if x % 2 == 0 for y in range(5) if y % 2 == 1]"
   ],
   "metadata": {
    "collapsed": false,
    "pycharm": {
     "name": "#%%\n"
    }
   }
  },
  {
   "cell_type": "code",
   "execution_count": 12,
   "outputs": [
    {
     "data": {
      "text/plain": "[(0, 1), (0, 3), (2, 1), (2, 3), (4, 1), (4, 3)]"
     },
     "execution_count": 12,
     "metadata": {},
     "output_type": "execute_result"
    }
   ],
   "source": [
    "# 等价于下面的一般 for 循环\n",
    "L = []\n",
    "for x in range(5):\n",
    "    if x % 2 == 0:\n",
    "        for y in range(5):\n",
    "            if y % 2 == 1:\n",
    "                L.append((x, y))\n",
    "L"
   ],
   "metadata": {
    "collapsed": false,
    "pycharm": {
     "name": "#%%\n"
    }
   }
  },
  {
   "cell_type": "code",
   "execution_count": 5,
   "outputs": [
    {
     "data": {
      "text/plain": "'(20131028)'"
     },
     "execution_count": 5,
     "metadata": {},
     "output_type": "execute_result"
    }
   ],
   "source": [
    "from datetime import datetime\n",
    "\n",
    "datetime(2013, 10, 28).date().strftime('(%Y%m%d)')"
   ],
   "metadata": {
    "collapsed": false,
    "pycharm": {
     "name": "#%%\n"
    }
   }
  },
  {
   "cell_type": "code",
   "execution_count": 17,
   "outputs": [
    {
     "data": {
      "text/plain": "datetime.date(2013, 8, 29)"
     },
     "execution_count": 17,
     "metadata": {},
     "output_type": "execute_result"
    }
   ],
   "source": [
    "from datetime import timedelta\n",
    "\n",
    "datetime(2013, 10, 28).date() - timedelta(days=30 * 2)"
   ],
   "metadata": {
    "collapsed": false,
    "pycharm": {
     "name": "#%%\n"
    }
   }
  },
  {
   "cell_type": "code",
   "execution_count": 37,
   "outputs": [
    {
     "data": {
      "text/plain": "[{datetime.date(2015, 6, 30): {'kps': [2323, 2450]}}]"
     },
     "execution_count": 37,
     "metadata": {},
     "output_type": "execute_result"
    }
   ],
   "source": [
    "# 过滤字典内六个月前的数据\n",
    "kpr = {\n",
    "    datetime(2013, 1, 30).date(): {'kps': [2448, 2323], },\n",
    "    datetime(2015, 6, 30).date(): {'kps': [2323, 2450], },\n",
    "}\n",
    "dtdate = datetime(2013, 8, 28).date()\n",
    "\n",
    "v_kprs = ([{k_kpr: v_kpr} for k_kpr, v_kpr in dict(kpr).items() if (k_kpr + timedelta(days=30 * 6)) >= dtdate])\n",
    "v_kprs"
   ],
   "metadata": {
    "collapsed": false,
    "pycharm": {
     "name": "#%%\n"
    }
   }
  },
  {
   "cell_type": "code",
   "execution_count": 68,
   "outputs": [
    {
     "name": "stdout",
     "output_type": "stream",
     "text": [
      "(20130828)\n"
     ]
    },
    {
     "data": {
      "text/plain": "datetime.date(2013, 3, 1)"
     },
     "execution_count": 68,
     "metadata": {},
     "output_type": "execute_result"
    }
   ],
   "source": [
    "dtdate = datetime(2013, 8, 28).strftime('(%Y%m%d)')\n",
    "print(dtdate)\n",
    "(datetime.strptime(dtdate, '(%Y%m%d)').date() - timedelta(days=30 * 6))\n"
   ],
   "metadata": {
    "collapsed": false,
    "pycharm": {
     "name": "#%%\n"
    }
   }
  },
  {
   "cell_type": "code",
   "execution_count": 53,
   "outputs": [
    {
     "data": {
      "text/plain": "datetime.datetime(2013, 8, 28, 0, 0)"
     },
     "execution_count": 53,
     "metadata": {},
     "output_type": "execute_result"
    }
   ],
   "source": [
    "dtdate = datetime(2013, 8, 28).date().strftime('(%Y%m%d)')\n",
    "datetime.strptime(dtdate, '(%Y%m%d)')"
   ],
   "metadata": {
    "collapsed": false,
    "pycharm": {
     "name": "#%%\n"
    }
   }
  },
  {
   "cell_type": "code",
   "execution_count": 17,
   "outputs": [
    {
     "name": "stdout",
     "output_type": "stream",
     "text": [
      "不存在\n",
      "不存在\n",
      "None\n",
      "不存在\n"
     ]
    }
   ],
   "source": [
    "# 字典访问不存的键值时,给出默认值的二种方法\n",
    "dt2 = dict({'a1': {'a11': [11,12,13]},\n",
    "            'a2': {'a22': [21,22,23]}})\n",
    "print(dt2['a3'] if 'a3' in dt2 else '不存在')\n",
    "print(dt2.get('a3','不存在'))\n",
    "print(dt2.get('a3'))\n",
    "print(dt2.get('a3').get('a33') if dt2.get('a3') else '不存在')\n",
    "# print(dt2.get('a3').get('a33') if dt2.get('a3').get('a33') else '不存在')"
   ],
   "metadata": {
    "collapsed": false,
    "pycharm": {
     "name": "#%%\n"
    }
   }
  },
  {
   "cell_type": "code",
   "execution_count": 114,
   "outputs": [
    {
     "name": "stdout",
     "output_type": "stream",
     "text": [
      "5\n",
      "-10\n",
      "za\n",
      "az\n",
      "4\n"
     ]
    }
   ],
   "source": [
    "# max函数的用法\n",
    "mps = [x for x in [0, -10, 5, 2, -1] if x != 0]  # 不为0的参数列表\n",
    "print(min([x for x in mps if x >= 5]))  # 大于5的最小值\n",
    "print(max(mps, key=lambda x: abs(x)))  # 绝对值最大的值\n",
    "\n",
    "haha0 = max(['az', 'za'], key=lambda a: a[0])\n",
    "haha1 = max(['az', 'za'], key=lambda a: a[1])\n",
    "haha2 = max(range(10), key=lambda a: a > 3)\n",
    "\n",
    "print(haha0)  #输出za\n",
    "print(haha1)  #输出az\n",
    "print(haha2)  #输出4"
   ],
   "metadata": {
    "collapsed": false,
    "pycharm": {
     "name": "#%%\n"
    }
   }
  },
  {
   "cell_type": "code",
   "execution_count": null,
   "outputs": [],
   "source": [
    "import time\n",
    "from datetime import datetime\n",
    "tstart = time.perf_counter()\n",
    "print(tstart)\n",
    "print(type(tstart))\n",
    "print(datetime.now())"
   ],
   "metadata": {
    "collapsed": false,
    "pycharm": {
     "name": "#%%\n"
    }
   }
  },
  {
   "cell_type": "code",
   "execution_count": 4,
   "outputs": [
    {
     "name": "stdout",
     "output_type": "stream",
     "text": [
      "当前时间: 2022-05-08 13:52:32.887481\n"
     ]
    },
    {
     "data": {
      "text/plain": "datetime.datetime(2022, 5, 8, 13, 52, 32, 887481)"
     },
     "execution_count": 4,
     "metadata": {},
     "output_type": "execute_result"
    }
   ],
   "source": [
    "# 调用其他模块中的函数\n",
    "import demo01\n",
    "global now_datetime  # 在任何地方都可提前定义全局变量\n",
    "now_datetime = demo01.show_datetime()  #  使用变量,需要返回值\n",
    "\n"
   ],
   "metadata": {
    "collapsed": false,
    "pycharm": {
     "name": "#%%\n"
    }
   }
  },
  {
   "cell_type": "code",
   "execution_count": 11,
   "outputs": [
    {
     "name": "stdout",
     "output_type": "stream",
     "text": [
      "APP_NAME 全局变量测试\n",
      "test_kwargs {'rp': 10, 'sp': 10}\n",
      "test_kwargs None\n",
      "kwargs {'a1': 'a1', 'b1': 'b1', 'test_kwargs': {'rp': 10, 'sp': 10}}\n"
     ]
    }
   ],
   "source": [
    "\n",
    "import 跨模块全局变量.global_variable as glv\n",
    "\n",
    "glv.init()\n",
    "glv.set(\"APP_NAME\", \"全局变量测试\")\n",
    "kwargs = dict()  # 参数字典\n",
    "kwargs['a1'] = 'a1'\n",
    "kwargs['b1'] = 'b1'\n",
    "kwargs['test_kwargs'] = dict({\n",
    "    'rp': 10,\n",
    "    'sp': 10,\n",
    "})  # 回测参数字典\n",
    "glv.set('kwargs', kwargs)\n",
    "glv.get('kwargs')['test_kwargs'] = kwargs['test_kwargs']\n",
    "\n",
    "print('APP_NAME', glv.get(\"APP_NAME\"))\n",
    "print('test_kwargs', glv.get('kwargs').get('test_kwargs'))\n",
    "print('test_kwargs', glv.get('test_kwargs'))\n",
    "print('kwargs', glv.get('kwargs'))\n"
   ],
   "metadata": {
    "collapsed": false,
    "pycharm": {
     "name": "#%%\n"
    }
   }
  },
  {
   "cell_type": "code",
   "execution_count": 1,
   "outputs": [
    {
     "ename": "NameError",
     "evalue": "name 'glv' is not defined",
     "output_type": "error",
     "traceback": [
      "\u001B[1;31m---------------------------------------------------------------------------\u001B[0m",
      "\u001B[1;31mNameError\u001B[0m                                 Traceback (most recent call last)",
      "\u001B[1;32m~\\AppData\\Local\\Temp/ipykernel_10556/1640549859.py\u001B[0m in \u001B[0;36m<module>\u001B[1;34m\u001B[0m\n\u001B[0;32m      1\u001B[0m \u001B[1;31m# glv['G_FILE_PATH'] = \"datas\\\\ZJIF13-5m-20100416-20220427.csv\"\u001B[0m\u001B[1;33m\u001B[0m\u001B[1;33m\u001B[0m\u001B[1;33m\u001B[0m\u001B[0m\n\u001B[0;32m      2\u001B[0m \u001B[1;31m# glv['G_DT_START'], glv['G_DT_END'] = '2013-01-01', '2022-02-01'\u001B[0m\u001B[1;33m\u001B[0m\u001B[1;33m\u001B[0m\u001B[1;33m\u001B[0m\u001B[0m\n\u001B[1;32m----> 3\u001B[1;33m \u001B[0mglv\u001B[0m\u001B[1;33m[\u001B[0m\u001B[1;34m'G_FILE_PATH'\u001B[0m\u001B[1;33m]\u001B[0m \u001B[1;33m=\u001B[0m \u001B[1;34m\"datas\\\\DQC13-5m-20120709-20220330.csv\"\u001B[0m\u001B[1;33m\u001B[0m\u001B[1;33m\u001B[0m\u001B[0m\n\u001B[0m\u001B[0;32m      4\u001B[0m \u001B[0mglv\u001B[0m\u001B[1;33m[\u001B[0m\u001B[1;34m'G_DT_START'\u001B[0m\u001B[1;33m]\u001B[0m\u001B[1;33m,\u001B[0m \u001B[0mglv\u001B[0m\u001B[1;33m[\u001B[0m\u001B[1;34m'G_DT_END'\u001B[0m\u001B[1;33m]\u001B[0m \u001B[1;33m=\u001B[0m \u001B[1;34m'2013-01-01'\u001B[0m\u001B[1;33m,\u001B[0m \u001B[1;34m'2017-02-01'\u001B[0m\u001B[1;33m\u001B[0m\u001B[1;33m\u001B[0m\u001B[0m\n\u001B[0;32m      5\u001B[0m \u001B[1;31m# glv['G_DT_START'], glv['G_DT_END'] = '2013-01-01', '2015-02-01'\u001B[0m\u001B[1;33m\u001B[0m\u001B[1;33m\u001B[0m\u001B[1;33m\u001B[0m\u001B[0m\n",
      "\u001B[1;31mNameError\u001B[0m: name 'glv' is not defined"
     ]
    }
   ],
   "source": [
    "# glv['G_FILE_PATH'] = \"datas\\\\ZJIF13-5m-20100416-20220427.csv\"\n",
    "# glv['G_DT_START'], glv['G_DT_END'] = '2013-01-01', '2022-02-01'\n",
    "glv['G_FILE_PATH'] = \"datas\\\\DQC13-5m-20120709-20220330.csv\"\n",
    "glv['G_DT_START'], glv['G_DT_END'] = '2013-01-01', '2017-02-01'\n",
    "# glv['G_DT_START'], glv['G_DT_END'] = '2013-01-01', '2015-02-01'\n",
    "# glv['G_FILE_PATH'] = \"datas\\\\ZQCF13-5m-20121224-20220415.csv\"\n",
    "# glv['G_DT_START'], glv['G_DT_END'] = '2013-01-01', '2014-02-01'\n",
    "# glv['G_FILE_PATH'] = \"datas\\\\SQRB13-5m-20121224-20220330.csv\"\n",
    "# glv['G_FILE_PATH'] = \"datas\\\\SQRBOC-5m-20090327-20211231.csv\"\n",
    "# glv['G_DT_START'], glv['G_DT_END'] = '2009-04-01', '2015-02-01'\n",
    "# glv['G_DT_START'], glv['G_DT_END'] = '2009-04-01', '2009-05-01'\n",
    "# glv['G_FILE_PATH'] = \"datas\\\\SQCU13-5m-20150625-20220427.csv\"\n",
    "# glv['G_DT_START'], glv['G_DT_END'] = '2015-06-25', '2019-02-01'"
   ],
   "metadata": {
    "collapsed": false,
    "pycharm": {
     "name": "#%%\n"
    }
   }
  },
  {
   "cell_type": "code",
   "execution_count": 1,
   "outputs": [
    {
     "name": "stdout",
     "output_type": "stream",
     "text": [
      "冒号连接 abc:123\n",
      "简单拼接 abc123\n",
      "简单拼接 abc123\n"
     ]
    }
   ],
   "source": [
    "# 字符串连接\n",
    "print('冒号连接',':'.join(['abc','123']))\n",
    "print('简单拼接', ''.join(['abc', '123']))\n",
    "print('简单拼接', ('abc'+'123'))"
   ],
   "metadata": {
    "collapsed": false,
    "pycharm": {
     "name": "#%%\n"
    }
   }
  },
  {
   "cell_type": "code",
   "execution_count": 5,
   "outputs": [
    {
     "name": "stdout",
     "output_type": "stream",
     "text": [
      "1001\n"
     ]
    }
   ],
   "source": [
    "# 字典操作\n",
    "dc1 = dict()\n",
    "dc1['价格'] = 1000\n",
    "dc1['价格'] += 1\n",
    "print(dc1['价格'])"
   ],
   "metadata": {
    "collapsed": false,
    "pycharm": {
     "name": "#%%\n"
    }
   }
  }
 ],
 "metadata": {
  "kernelspec": {
   "name": "pycharm-50a0962a",
   "language": "python",
   "display_name": "PyCharm (python-demo)"
  },
  "language_info": {
   "codemirror_mode": {
    "name": "ipython",
    "version": 2
   },
   "file_extension": ".py",
   "mimetype": "text/x-python",
   "name": "python",
   "nbconvert_exporter": "python",
   "pygments_lexer": "ipython2",
   "version": "2.7.6"
  }
 },
 "nbformat": 4,
 "nbformat_minor": 0
}