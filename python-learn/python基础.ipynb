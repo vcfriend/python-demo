{
 "cells": [
  {
   "cell_type": "markdown",
   "source": [
    "## 元组"
   ],
   "metadata": {
    "collapsed": false,
    "pycharm": {
     "name": "#%% md\n"
    }
   }
  },
  {
   "cell_type": "code",
   "execution_count": null,
   "outputs": [],
   "source": [
    "p = (\n",
    "    ('a', 1),\n",
    "    ('b', 2),\n",
    "    ('c', 3),\n",
    ")\n",
    "print('类型:', type(p))\n",
    "# 元组遍历\n",
    "t1 = (11, 22, 33,)\n",
    "for t in tuple(t1):\n",
    "    print(t)"
   ],
   "metadata": {
    "collapsed": false,
    "pycharm": {
     "name": "#%%\n"
    }
   }
  },
  {
   "cell_type": "code",
   "execution_count": null,
   "outputs": [],
   "source": [],
   "metadata": {
    "collapsed": false,
    "pycharm": {
     "name": "#%%\n"
    }
   }
  },
  {
   "cell_type": "markdown",
   "source": [
    "## 枚举"
   ],
   "metadata": {
    "collapsed": false
   }
  },
  {
   "cell_type": "code",
   "execution_count": 33,
   "outputs": [
    {
     "name": "stdout",
     "output_type": "stream",
     "text": [
      "<class 'int'>\n"
     ]
    },
    {
     "data": {
      "text/plain": "2"
     },
     "execution_count": 33,
     "metadata": {},
     "output_type": "execute_result"
    }
   ],
   "source": [
    "\n",
    "from enum import Enum\n",
    "\n",
    "\n",
    "# 列标头\n",
    "class header(Enum):\n",
    "    \"\"\"枚举列表头\"\"\"\n",
    "    DATE = 0  # date所在列\n",
    "    OPEN = 1\n",
    "    HIGH = 2\n",
    "    LOW = 3\n",
    "    CLOSE = 4\n",
    "    VOLUME = 5\n",
    "\n",
    "\n",
    "print(type(header.HIGH.value))\n",
    "header.HIGH.value"
   ],
   "metadata": {
    "collapsed": false,
    "pycharm": {
     "name": "#%%\n"
    }
   }
  },
  {
   "cell_type": "markdown",
   "source": [
    "## 数值运算"
   ],
   "metadata": {
    "collapsed": false,
    "pycharm": {
     "name": "#%% md\n"
    }
   }
  },
  {
   "cell_type": "markdown",
   "source": [
    "### 数值精确小数位"
   ],
   "metadata": {
    "collapsed": false,
    "pycharm": {
     "name": "#%% md\n"
    }
   }
  },
  {
   "cell_type": "code",
   "execution_count": 28,
   "outputs": [
    {
     "name": "stdout",
     "output_type": "stream",
     "text": [
      "3.15\n",
      "4.0\n",
      "4\n",
      "1 2\n",
      "-----\n",
      "1季度: 1\n",
      "2季度: 2\n",
      "3季度: 3\n",
      "4季度: 4\n",
      "float小数位 3.14\n",
      "float小数位 3.15\n"
     ]
    }
   ],
   "source": [
    "print(round(3.145, 2))  # 设置小数位\n",
    "print(8.3 // 2)  # 整除\n",
    "print(round(8.3 // 2))  # 取得int型结果\n",
    "print(round(5 // 3), round(6 // 3))  #\n",
    "month = (5 - 1) - (5 - 1) % 3 + 1\n",
    "\n",
    "print('-----')\n",
    "print('1季度:', ((1 - 1) // 3) % 4 + 1)\n",
    "print('2季度:', ((4 - 1) // 3) % 4 + 1)\n",
    "print('3季度:', ((7 - 1) // 3) % 4 + 1)\n",
    "print('4季度:', ((10 - 1) // 3) % 4 + 1)\n",
    "print('float小数位', float('%.2f' % 3.1415))\n",
    "print('数值小数位', round(3.145, 2))"
   ],
   "metadata": {
    "collapsed": false,
    "pycharm": {
     "name": "#%%\n"
    }
   }
  },
  {
   "cell_type": "code",
   "execution_count": 26,
   "outputs": [
    {
     "name": "stdout",
     "output_type": "stream",
     "text": [
      "取余数 1\n"
     ]
    }
   ],
   "source": [
    "print('取余数', 5 % 2)"
   ],
   "metadata": {
    "collapsed": false,
    "pycharm": {
     "name": "#%%\n"
    }
   }
  },
  {
   "cell_type": "code",
   "execution_count": 23,
   "outputs": [
    {
     "data": {
      "text/plain": "60.0"
     },
     "execution_count": 23,
     "metadata": {},
     "output_type": "execute_result"
    }
   ],
   "source": [],
   "metadata": {
    "collapsed": false,
    "pycharm": {
     "name": "#%%\n"
    }
   }
  },
  {
   "cell_type": "markdown",
   "source": [
    "## 列表"
   ],
   "metadata": {
    "collapsed": false,
    "pycharm": {
     "name": "#%% md\n"
    }
   }
  },
  {
   "cell_type": "markdown",
   "source": [
    "### for if 组合写法"
   ],
   "metadata": {
    "collapsed": false,
    "pycharm": {
     "name": "#%% md\n"
    }
   }
  },
  {
   "cell_type": "code",
   "execution_count": 7,
   "outputs": [
    {
     "name": "stdout",
     "output_type": "stream",
     "text": [
      "[1, 3, 5]\n"
     ]
    }
   ],
   "source": [
    "# for if 组合写法\n",
    "# 列表推导式的语法格式如下：\n",
    "# [表达式 for 迭代变量 in 可迭代对象 [if 条件表达式] ]\n",
    "x = [1, 2, 3, 4, 5]\n",
    "c = [k for k in x if k % 2 == 1]\n",
    "print(c)  #[1, 3, 5]"
   ],
   "metadata": {
    "collapsed": false,
    "pycharm": {
     "name": "#%%\n"
    }
   }
  },
  {
   "cell_type": "code",
   "execution_count": 29,
   "outputs": [
    {
     "data": {
      "text/plain": "'None'"
     },
     "execution_count": 29,
     "metadata": {},
     "output_type": "execute_result"
    }
   ],
   "source": [
    "id = None\n",
    "'True' if not id is None else 'None'"
   ],
   "metadata": {
    "collapsed": false,
    "pycharm": {
     "name": "#%%\n"
    }
   }
  },
  {
   "cell_type": "code",
   "execution_count": 42,
   "outputs": [
    {
     "ename": "SyntaxError",
     "evalue": "invalid syntax (Temp/ipykernel_1052/1142869149.py, line 2)",
     "output_type": "error",
     "traceback": [
      "\u001B[1;36m  File \u001B[1;32m\"C:\\Users\\yalin\\AppData\\Local\\Temp/ipykernel_1052/1142869149.py\"\u001B[1;36m, line \u001B[1;32m2\u001B[0m\n\u001B[1;33m    [(ll=l['a']) for l in l1]\u001B[0m\n\u001B[1;37m        ^\u001B[0m\n\u001B[1;31mSyntaxError\u001B[0m\u001B[1;31m:\u001B[0m invalid syntax\n"
     ]
    }
   ],
   "source": [
    "l1 = [{'a': 1, 'b': 1}, {'a': 2, 'b': 2}, {'a': 3, 'b': 3}, ]\n",
    "[(ll=l['a']) for l in l1]\n"
   ],
   "metadata": {
    "collapsed": false,
    "pycharm": {
     "name": "#%%\n"
    }
   }
  },
  {
   "cell_type": "code",
   "execution_count": null,
   "outputs": [],
   "source": [
    "# 单个数与列表运算\n",
    "[1, 3, 5, 7] + [1, ]"
   ],
   "metadata": {
    "collapsed": false,
    "pycharm": {
     "name": "#%%\n"
    }
   }
  },
  {
   "cell_type": "code",
   "execution_count": 21,
   "outputs": [
    {
     "name": "stdout",
     "output_type": "stream",
     "text": [
      "2\n",
      "0\n"
     ]
    }
   ],
   "source": [
    "itoken = iter(\"2022-04-09\")\n",
    "dttxt = next(itoken)\n",
    "print(int(dttxt[0:4]))\n",
    "dttxt = next(itoken)\n",
    "print(int(dttxt[0:4]))"
   ],
   "metadata": {
    "collapsed": false,
    "pycharm": {
     "name": "#%%\n"
    }
   }
  },
  {
   "cell_type": "code",
   "execution_count": 30,
   "outputs": [
    {
     "name": "stdout",
     "output_type": "stream",
     "text": [
      "name= unreg\n",
      "value= 1\n",
      "name= reg\n",
      "value= 0.05\n"
     ]
    }
   ],
   "source": [
    "for name, penalty in ((\"unreg\", 1), (\"reg\", 0.05)):\n",
    "    print('name=', name)\n",
    "    print('value=', penalty)"
   ],
   "metadata": {
    "collapsed": false,
    "pycharm": {
     "name": "#%%\n"
    }
   }
  },
  {
   "cell_type": "code",
   "execution_count": null,
   "outputs": [],
   "source": [
    "# 生成间隔为2, 范围1-10内的整数\n",
    "list(range(1, 10, 2))"
   ],
   "metadata": {
    "collapsed": false,
    "pycharm": {
     "name": "#%%\n"
    }
   }
  },
  {
   "cell_type": "code",
   "execution_count": 8,
   "outputs": [
    {
     "data": {
      "text/plain": "[1, 3, 5]"
     },
     "execution_count": 8,
     "metadata": {},
     "output_type": "execute_result"
    }
   ],
   "source": [
    "# 带有if语句\n",
    "L = [1, 2, 3, 4, 5, 6]\n",
    "L = [x for x in L if x % 2 != 0]\n",
    "L"
   ],
   "metadata": {
    "collapsed": false,
    "pycharm": {
     "name": "#%%\n"
    }
   }
  },
  {
   "cell_type": "markdown",
   "source": [
    "### for嵌套使用"
   ],
   "metadata": {
    "collapsed": false
   }
  },
  {
   "cell_type": "code",
   "execution_count": 9,
   "outputs": [
    {
     "data": {
      "text/plain": "['aj', 'ak', 'bj', 'bk']"
     },
     "execution_count": 9,
     "metadata": {},
     "output_type": "execute_result"
    }
   ],
   "source": [
    "# for嵌套使用\n",
    "[x + y for x in 'ab' for y in 'jk']"
   ],
   "metadata": {
    "collapsed": false,
    "pycharm": {
     "name": "#%%\n"
    }
   }
  },
  {
   "cell_type": "markdown",
   "source": [
    "既有if语句又有for嵌套\n",
    "通用语法\n",
    "[ expression for x in X [if condition]\n",
    "             for y in Y [if condition]\n",
    "             ...\n",
    "             for n in N [if condition] ]"
   ],
   "metadata": {
    "collapsed": false,
    "pycharm": {
     "name": "#%% md\n"
    }
   }
  },
  {
   "cell_type": "code",
   "execution_count": 11,
   "outputs": [
    {
     "data": {
      "text/plain": "[(0, 1), (0, 3), (2, 1), (2, 3), (4, 1), (4, 3)]"
     },
     "execution_count": 11,
     "metadata": {},
     "output_type": "execute_result"
    }
   ],
   "source": [
    "[(x, y) for x in range(5) if x % 2 == 0 for y in range(5) if y % 2 == 1]"
   ],
   "metadata": {
    "collapsed": false,
    "pycharm": {
     "name": "#%%\n"
    }
   }
  },
  {
   "cell_type": "code",
   "source": [
    "# 等价于下面的一般 for 循环\n",
    "L = []\n",
    "for x in range(5):\n",
    "    if x % 2 == 0:\n",
    "        for y in range(5):\n",
    "            if y % 2 == 1:\n",
    "                L.append((x, y))\n",
    "L"
   ],
   "metadata": {
    "collapsed": false,
    "pycharm": {
     "name": "#%%\n"
    }
   },
   "execution_count": null,
   "outputs": []
  },
  {
   "cell_type": "markdown",
   "source": [
    "### 判断列表里是否有重复元素的三种方法"
   ],
   "metadata": {
    "collapsed": false,
    "pycharm": {
     "name": "#%% md\n"
    }
   }
  },
  {
   "cell_type": "code",
   "execution_count": 33,
   "outputs": [
    {
     "name": "stdout",
     "output_type": "stream",
     "text": [
      "列表里有重复的元素！\n"
     ]
    }
   ],
   "source": [
    "# 一、用set方法去重后与原列表长度比较\n",
    "lst = [1, 3, 5, 3, 4, 4, 2, 9, 6, 7]\n",
    "set_lst = set(lst)\n",
    "#set会生成一个元素无序且不重复的可迭代对象，也就是我们常说的去重\n",
    "if len(set_lst) == len(lst):\n",
    "    print('列表里的元素互不重复！')\n",
    "else:\n",
    "    print('列表里有重复的元素！')"
   ],
   "metadata": {
    "collapsed": false,
    "pycharm": {
     "name": "#%%\n"
    }
   }
  },
  {
   "cell_type": "code",
   "execution_count": 34,
   "outputs": [
    {
     "name": "stdout",
     "output_type": "stream",
     "text": [
      "原列表里有重复的元素！\n"
     ]
    }
   ],
   "source": [
    "# 二、用append的方式把原列表中的元素添加到一个新列表，确保新列表里不存在重复的元素，然后比较两个列表\n",
    "lst = [1, 3, 5, 8, 9, 9, 0, 0, 3, 3]\n",
    "new_list = []\n",
    "\n",
    "for i in lst:\n",
    "    if i not in new_list:\n",
    "        new_list.append(i)\n",
    "        #这样能确保新的列表里包含原列表里所有种类的元素，且元素互不重复\n",
    "\n",
    "if len(new_list) == len(lst):\n",
    "    print('原列表里的元素互不重复！')\n",
    "else:\n",
    "    print('原列表里有重复的元素！')"
   ],
   "metadata": {
    "collapsed": false,
    "pycharm": {
     "name": "#%%\n"
    }
   }
  },
  {
   "cell_type": "code",
   "execution_count": 35,
   "outputs": [
    {
     "name": "stdout",
     "output_type": "stream",
     "text": [
      "原列表里有重复的元素！\n"
     ]
    }
   ],
   "source": [
    "# 我们只需要判断有无重复元素，并不需要得到去重后的元素，因此上面的代码显得有些多余。下面是我的改良版本(2021年7月15日补充)：\n",
    "lst = [1, 3, 5, 8, 9, 9, 0, 0, 3, 3]\n",
    "\n",
    "# False表示没有重复，我们先假设没有重复的元素\n",
    "flag = False\n",
    "length = len(lst)\n",
    "for i in range(length):\n",
    "    # 这里是检查第i个元素是否跟第0到第i-1个元素中的某个重复\n",
    "    for j in range(i):\n",
    "        # 发现了一个重复的元素，就可以修改flag的状态\n",
    "        # 并且后面的元素没有检查的必要了\n",
    "        if lst[i] == lst[j]:\n",
    "            flag = True\n",
    "            break\n",
    "    if flag:\n",
    "        break\n",
    "\n",
    "if flag:\n",
    "    print('原列表里有重复的元素！')\n",
    "else:\n",
    "    print('原列表里没有重复的元素！')"
   ],
   "metadata": {
    "collapsed": false,
    "pycharm": {
     "name": "#%%\n"
    }
   }
  },
  {
   "cell_type": "code",
   "source": [
    "# 三、用fromkeys的方法创建一个字典，因为字典的键会自动去重，所以可以比较字典和原列表的长度，跟方法一很像\n",
    "lst = [1, 3, 5, 8, 9, 9, 0, 0]\n",
    "dic = {}.fromkeys(lst)\n",
    "print('dic:', dic)\n",
    "#这种方法建立字典，会把列表里的元素当做字典的键，由于字典的键不能重复，所以会自动去重\n",
    "if len(dic) == len(lst):\n",
    "    print('列表里的元素互不重复！')\n",
    "else:\n",
    "    print('列表里有重复的元素！')"
   ],
   "metadata": {
    "collapsed": false,
    "pycharm": {
     "name": "#%%\n"
    }
   },
   "execution_count": null,
   "outputs": []
  },
  {
   "cell_type": "markdown",
   "source": [
    "### 查找列表中的元素"
   ],
   "metadata": {
    "collapsed": false,
    "pycharm": {
     "name": "#%% md\n"
    }
   }
  },
  {
   "cell_type": "code",
   "execution_count": 8,
   "outputs": [
    {
     "data": {
      "text/plain": "2"
     },
     "execution_count": 8,
     "metadata": {},
     "output_type": "execute_result"
    }
   ],
   "source": [
    "lstdict = [{'a': 1, 'b': 1}, {'a': 1, 'b': 1}, {'a': 2, 'b': 1}, {'a': 2, 'b': 3}, ]\n",
    "\n",
    "lstdict.count({'a': 1, 'b': 1})"
   ],
   "metadata": {
    "collapsed": false,
    "pycharm": {
     "name": "#%%\n"
    }
   }
  },
  {
   "cell_type": "markdown",
   "source": [
    "### 使用 next() 函数搜索字典列表"
   ],
   "metadata": {
    "collapsed": false,
    "pycharm": {
     "name": "#%% md\n"
    }
   }
  },
  {
   "cell_type": "code",
   "execution_count": 13,
   "outputs": [
    {
     "name": "stdout",
     "output_type": "stream",
     "text": [
      "{'a': 1, 'b': 1}\n",
      "{'a': 2, 'b': 1}\n"
     ]
    },
    {
     "ename": "StopIteration",
     "evalue": "",
     "output_type": "error",
     "traceback": [
      "\u001B[1;31m---------------------------------------------------------------------------\u001B[0m",
      "\u001B[1;31mStopIteration\u001B[0m                             Traceback (most recent call last)",
      "Input \u001B[1;32mIn [13]\u001B[0m, in \u001B[0;36m<cell line: 4>\u001B[1;34m()\u001B[0m\n\u001B[0;32m      2\u001B[0m \u001B[38;5;28mprint\u001B[39m(\u001B[38;5;28mnext\u001B[39m(x \u001B[38;5;28;01mfor\u001B[39;00m x \u001B[38;5;129;01min\u001B[39;00m lstdict \u001B[38;5;28;01mif\u001B[39;00m x[\u001B[38;5;124m\"\u001B[39m\u001B[38;5;124ma\u001B[39m\u001B[38;5;124m\"\u001B[39m] \u001B[38;5;241m==\u001B[39m \u001B[38;5;241m1\u001B[39m))\n\u001B[0;32m      3\u001B[0m \u001B[38;5;28mprint\u001B[39m(\u001B[38;5;28mnext\u001B[39m(x \u001B[38;5;28;01mfor\u001B[39;00m x \u001B[38;5;129;01min\u001B[39;00m lstdict \u001B[38;5;28;01mif\u001B[39;00m x[\u001B[38;5;124m\"\u001B[39m\u001B[38;5;124ma\u001B[39m\u001B[38;5;124m\"\u001B[39m] \u001B[38;5;241m==\u001B[39m \u001B[38;5;241m2\u001B[39m))\n\u001B[1;32m----> 4\u001B[0m \u001B[38;5;28mprint\u001B[39m(\u001B[38;5;28;43mnext\u001B[39;49m\u001B[43m(\u001B[49m\u001B[43mx\u001B[49m\u001B[43m \u001B[49m\u001B[38;5;28;43;01mfor\u001B[39;49;00m\u001B[43m \u001B[49m\u001B[43mx\u001B[49m\u001B[43m \u001B[49m\u001B[38;5;129;43;01min\u001B[39;49;00m\u001B[43m \u001B[49m\u001B[43mlstdict\u001B[49m\u001B[43m \u001B[49m\u001B[38;5;28;43;01mif\u001B[39;49;00m\u001B[43m \u001B[49m\u001B[43mx\u001B[49m\u001B[43m[\u001B[49m\u001B[38;5;124;43m\"\u001B[39;49m\u001B[38;5;124;43ma\u001B[39;49m\u001B[38;5;124;43m\"\u001B[39;49m\u001B[43m]\u001B[49m\u001B[43m \u001B[49m\u001B[38;5;241;43m==\u001B[39;49m\u001B[43m \u001B[49m\u001B[38;5;241;43m3\u001B[39;49m\u001B[43m)\u001B[49m)\n",
      "\u001B[1;31mStopIteration\u001B[0m: "
     ]
    }
   ],
   "source": [
    "lstdict = [{'a': 1, 'b': 1}, {'a': 1, 'b': 1}, {'a': 2, 'b': 1}, {'a': 2, 'b': 3}, ]\n",
    "print(next(x for x in lstdict if x[\"a\"] == 1))\n",
    "print(next(x for x in lstdict if x[\"a\"] == 2))\n",
    "print(next(x for x in lstdict if x[\"a\"] == 3))  # 如果不存在会报错"
   ],
   "metadata": {
    "collapsed": false,
    "pycharm": {
     "name": "#%%\n"
    }
   }
  },
  {
   "cell_type": "markdown",
   "source": [
    "当我们搜索字典列表中已经存在的名称时，该方法成功实现。尽管如此，当搜索字典列表中不存在的名称时，它会给出StopIteration错误。\n",
    "但是，在上面的代码中可以很容易地处理这个问题。你只需使用稍微不同的API来调整并提供默认值"
   ],
   "metadata": {
    "collapsed": false,
    "pycharm": {
     "name": "#%% md\n"
    }
   }
  },
  {
   "cell_type": "code",
   "execution_count": 15,
   "outputs": [
    {
     "name": "stdout",
     "output_type": "stream",
     "text": [
      "{'a': 1, 'b': 1}\n",
      "{'a': 2, 'b': 1}\n",
      "None\n"
     ]
    }
   ],
   "source": [
    "lstdict = [{'a': 1, 'b': 1}, {'a': 1, 'b': 1}, {'a': 2, 'b': 1}, {'a': 2, 'b': 3}, ]\n",
    "\n",
    "print(next(x for x in lstdict if x[\"a\"] == 1))\n",
    "print(next(x for x in lstdict if x[\"a\"] == 2))\n",
    "print(next((x for x in lstdict if x[\"a\"] == 3), None))  # 如果不存返回None"
   ],
   "metadata": {
    "collapsed": false,
    "pycharm": {
     "name": "#%%\n"
    }
   }
  },
  {
   "cell_type": "markdown",
   "source": [
    "### 使用 enumerate() 查找字典列表中项目的索引\n",
    "除了查找项目本身，我们还可以在字典列表中查找项目的索引。为了实现这一点，我们可以使用 enumerate() 函数。\n",
    "\n",
    "以下代码使用 next() 函数和 enumerate() 函数来搜索和查找项目的索引。"
   ],
   "metadata": {
    "collapsed": false,
    "pycharm": {
     "name": "#%% md\n"
    }
   }
  },
  {
   "cell_type": "code",
   "execution_count": 25,
   "outputs": [
    {
     "name": "stdout",
     "output_type": "stream",
     "text": [
      "2\n"
     ]
    }
   ],
   "source": [
    "lstdict = [{'a': 1, 'b': 1}, {'a': 1, 'b': 1}, {'a': 2, 'b': 1}, {'a': 2, 'b': 3}, ]\n",
    "\n",
    "print(next((i for i, x in enumerate(lstdict) if x[\"a\"] == 2), None))"
   ],
   "metadata": {
    "collapsed": false,
    "pycharm": {
     "name": "#%%\n"
    }
   }
  },
  {
   "cell_type": "markdown",
   "source": [
    "### 使用 filter() 函数搜索字典列表\n",
    "filter(function, sequence) function 用于将 sequence 与 Python 中的 function 进行比较。它根据函数检查序列中的每个元素是否为真。通过使用 filter() 函数和 lambda 函数，我们可以轻松地在字典列表中搜索一个项目。在 Python3 中，filter() 函数返回 filter 类的对象。我们可以使用 list() 函数将该对象转换为列表。"
   ],
   "metadata": {
    "collapsed": false,
    "pycharm": {
     "name": "#%% md\n"
    }
   }
  },
  {
   "cell_type": "code",
   "execution_count": 33,
   "outputs": [
    {
     "name": "stdout",
     "output_type": "stream",
     "text": [
      "过滤出由odd函数计算出的余数\n",
      "[1, 3, 5, 7, 9]\n",
      "此时lambda函数用于过滤列表元素的条件\n",
      "[1, 3, 5, 7, 9]\n",
      "此时lambda函数用于指定对列表中每一个元素的共同操作\n",
      "[2, 3, 4]\n"
     ]
    }
   ],
   "source": [
    "# 2.将lambda函数作为参数传递给其他函数。部分Python内置函数接收函数作为参数。\n",
    "def odd(x):\n",
    "    return x % 2  # 取余数\n",
    "\n",
    "\n",
    "list1 = range(10)  # 列表\n",
    "show = filter(odd, list1)  # 过滤出由odd函数计算出的余数\n",
    "print('过滤出由odd函数计算出的余数')\n",
    "print(list(show))  #[1, 3, 5, 7, 9]\n",
    "# 此时lambda函数用于过滤列表元素的条件\n",
    "print('此时lambda函数用于过滤列表元素的条件')\n",
    "print(list(filter(lambda x: x % 2, range(10))))  #[1, 3, 5, 7, 9]\n",
    "# 此时lambda函数用于指定对列表中每一个元素的共同操作\n",
    "print('此时lambda函数用于指定对列表中每一个元素的共同操作')\n",
    "print(list(map(lambda x: x + 1, [1, 2, 3])))  #[2, 3, 4]"
   ],
   "metadata": {
    "collapsed": false,
    "pycharm": {
     "name": "#%%\n"
    }
   }
  },
  {
   "cell_type": "markdown",
   "source": [
    "## lambda 匿名函数"
   ],
   "metadata": {
    "collapsed": false,
    "pycharm": {
     "name": "#%% md\n"
    }
   }
  },
  {
   "cell_type": "markdown",
   "source": [
    "### 表达式: lambda [arg1 [,arg2,.....argn]]: expression\n",
    "冒号前是参数，可以有多个，用逗号隔开，冒号右边的为表达式（只能为一个）。其实lambda返回值是一个函数的地址，也就是函数对象。"
   ],
   "metadata": {
    "collapsed": false,
    "pycharm": {
     "name": "#%% md\n"
    }
   }
  },
  {
   "cell_type": "markdown",
   "source": [
    "### 使用lambda函数："
   ],
   "metadata": {
    "collapsed": false,
    "pycharm": {
     "name": "#%% md\n"
    }
   }
  },
  {
   "cell_type": "markdown",
   "source": [
    "### 1.将lambda函数赋值给一个变量"
   ],
   "metadata": {
    "collapsed": false,
    "pycharm": {
     "name": "#%% md\n"
    }
   }
  },
  {
   "cell_type": "code",
   "execution_count": 72,
   "outputs": [
    {
     "name": "stdout",
     "output_type": "stream",
     "text": [
      "3\n"
     ]
    }
   ],
   "source": [
    "# 1.将lambda函数赋值给一个变量，通过这个变量间接调用该lambda函数。\n",
    "sum_ = lambda x, y: x + y\n",
    "print(sum_(1, 2))"
   ],
   "metadata": {
    "collapsed": false,
    "pycharm": {
     "name": "#%%\n"
    }
   }
  },
  {
   "cell_type": "code",
   "execution_count": 73,
   "outputs": [
    {
     "data": {
      "text/plain": "3"
     },
     "execution_count": 73,
     "metadata": {},
     "output_type": "execute_result"
    }
   ],
   "source": [
    "# lambda 是一个没有名字的函数,需要被调用lambda(),才能执行\n",
    "(lambda x=1, y=1: x + y)(1, 2)"
   ],
   "metadata": {
    "collapsed": false,
    "pycharm": {
     "name": "#%%\n"
    }
   }
  },
  {
   "cell_type": "markdown",
   "source": [
    "### 2.将lambda函数作为参数和条件"
   ],
   "metadata": {
    "collapsed": false,
    "pycharm": {
     "name": "#%% md\n"
    }
   }
  },
  {
   "cell_type": "code",
   "execution_count": 32,
   "outputs": [
    {
     "name": "stdout",
     "output_type": "stream",
     "text": [
      "过滤出由odd函数计算出的余数\n",
      "[1, 3, 5, 7, 9]\n",
      "此时lambda函数用于过滤列表元素的条件\n",
      "[1, 3, 5, 7, 9]\n",
      "此时lambda函数用于指定对列表中每一个元素的共同操作\n",
      "[2, 3, 4]\n"
     ]
    }
   ],
   "source": [
    "# 2.将lambda函数作为参数传递给其他函数。部分Python内置函数接收函数作为参数。\n",
    "def odd(x):\n",
    "    return x % 2  # 取余数\n",
    "\n",
    "\n",
    "list1 = range(10)  # 列表\n",
    "show = filter(odd, list1)  # 过滤出由odd函数计算出的余数\n",
    "print('过滤出由odd函数计算出的余数')\n",
    "print(list(show))  #[1, 3, 5, 7, 9]\n",
    "# 此时lambda函数用于过滤列表元素的条件\n",
    "print('此时lambda函数用于过滤列表元素的条件')\n",
    "print(list(filter(lambda x: x % 2, range(10))))  #[1, 3, 5, 7, 9]\n",
    "# 此时lambda函数用于指定对列表中每一个元素的共同操作\n",
    "print('此时lambda函数用于指定对列表中每一个元素的共同操作')\n",
    "print(list(map(lambda x: x + 1, [1, 2, 3])))  #[2, 3, 4]"
   ],
   "metadata": {
    "collapsed": false,
    "pycharm": {
     "name": "#%%\n"
    }
   }
  },
  {
   "cell_type": "code",
   "execution_count": 64,
   "outputs": [
    {
     "name": "stdout",
     "output_type": "stream",
     "text": [
      "此时lambda函数用于过滤列表元素的条件\n",
      "[1, 3, 5, 7, 9]\n",
      "此时lambda函数用于指定对列表中每一个元素的共同操作\n",
      "[2, 3, 4]\n"
     ]
    }
   ],
   "source": [],
   "metadata": {
    "collapsed": false,
    "pycharm": {
     "name": "#%%\n"
    }
   }
  },
  {
   "cell_type": "markdown",
   "source": [
    "### 3.将lambda函数作为其他函数的返回值，返回给调用者。\n",
    "函数的返回值也可以是函数。例如return lambda x, y: x+y返回一个加法函数。这时，lambda函数实际上是定义在某个函数内部的函数，称之为嵌套函数，或者内部函数。对应的，将包含嵌套函数的函数称之为外部函数。内部函数能够访问外部函数的局部变量，这个特性是闭包(Closure)编程的基础。"
   ],
   "metadata": {
    "collapsed": false,
    "pycharm": {
     "name": "#%% md\n"
    }
   }
  },
  {
   "cell_type": "markdown",
   "source": [
    "### 4.将lambda函数赋值给其他函数，从而将其他函数用该lambda函数替换。\n",
    "例如，为了把标准库time中的函数sleep的功能屏蔽(Mock)，我们可以在程序初始化时调用：time.sleep=lambda x:None。这样，在后续代码中调用time库的sleep函数将不会执行原有的功能。例如，执行time.sleep(3)时，程序不会休眠3秒钟，而是什么都不做"
   ],
   "metadata": {
    "collapsed": false,
    "pycharm": {
     "name": "#%% md\n"
    }
   }
  },
  {
   "cell_type": "markdown",
   "source": [
    "### 5.将if...else语句缩减为单一的条件表达式，\n",
    "语法为：expression1 if A else expression2\n",
    "如果A为True，条件表达式的结果为expression1，否则为expression2"
   ],
   "metadata": {
    "collapsed": false,
    "pycharm": {
     "name": "#%% md\n"
    }
   }
  },
  {
   "cell_type": "code",
   "execution_count": 31,
   "outputs": [
    {
     "name": "stdout",
     "output_type": "stream",
     "text": [
      "s(hello) java\n"
     ]
    }
   ],
   "source": [
    "s = lambda od: 'python' if od == 'python' else 'java'\n",
    "print('s(hello)', s('j'))"
   ],
   "metadata": {
    "collapsed": false,
    "pycharm": {
     "name": "#%%\n"
    }
   }
  },
  {
   "cell_type": "code",
   "execution_count": 10,
   "outputs": [
    {
     "name": "stdout",
     "output_type": "stream",
     "text": [
      "s([1,2,3],sum)= 6 s([1,2,3],avg) 2.0\n",
      "s([1,2,3],sum)= 6 s(lis=[1,2,3]) 2.0\n"
     ]
    }
   ],
   "source": [
    "def s(lis, od):\n",
    "    if od == 'sum':\n",
    "        return sum(lis)\n",
    "    else:\n",
    "        return sum(lis) / len(lis)\n",
    "\n",
    "\n",
    "print('s([1,2,3],sum)=', s([1, 2, 3], 'sum', ), 's([1,2,3],avg)', s([1, 2, 3], 'avg'))\n",
    "# 使用lambda函数:\n",
    "s = lambda lis=[1, 2, 3], od='avg': sum(lis) if od == 'sum' else sum(lis) / len(lis)\n",
    "print('s([1,2,3],sum)=', s([1, 2, 3], 'sum'), 's(lis=[1,2,3])', s(lis=[1, 2, 3]))"
   ],
   "metadata": {
    "collapsed": false,
    "pycharm": {
     "name": "#%%\n"
    }
   }
  },
  {
   "cell_type": "markdown",
   "source": [
    "## 日期时间"
   ],
   "metadata": {
    "collapsed": false,
    "pycharm": {
     "name": "#%% md\n"
    }
   }
  },
  {
   "cell_type": "markdown",
   "source": [
    "### 日期格式化"
   ],
   "metadata": {
    "collapsed": false,
    "pycharm": {
     "name": "#%% md\n"
    }
   }
  },
  {
   "cell_type": "code",
   "execution_count": 19,
   "outputs": [
    {
     "name": "stdout",
     "output_type": "stream",
     "text": [
      "日期格式化: (20131028)\n",
      "日期格式化: 2022-05-18 13:54:47\n",
      "计算时间相关的分钟数 60.0\n"
     ]
    }
   ],
   "source": [
    "from datetime import datetime\n",
    "\n",
    "print('日期格式化:', datetime(2013, 10, 28).date().strftime('(%Y%m%d)'))\n",
    "print('日期格式化:', datetime.now().strftime('%Y-%m-%d %H:%M:%S'))\n",
    "\n"
   ],
   "metadata": {
    "collapsed": false,
    "pycharm": {
     "name": "#%%\n"
    }
   }
  },
  {
   "cell_type": "markdown",
   "source": [
    "### 计算时间差"
   ],
   "metadata": {
    "collapsed": false,
    "pycharm": {
     "name": "#%% md\n"
    }
   }
  },
  {
   "cell_type": "code",
   "execution_count": 3,
   "outputs": [
    {
     "data": {
      "text/plain": "datetime.timedelta(days=1)"
     },
     "execution_count": 3,
     "metadata": {},
     "output_type": "execute_result"
    }
   ],
   "source": [
    "from datetime import timedelta\n",
    "from datetime import datetime\n",
    "\n",
    "datetime(2013, 10, 28).date() - timedelta(days=30 * 2)  # 计算时间差\n",
    "(datetime(2013, 10, 29).date() - datetime(2013, 10, 28).date())"
   ],
   "metadata": {
    "collapsed": false,
    "pycharm": {
     "name": "#%%\n"
    }
   }
  },
  {
   "cell_type": "code",
   "execution_count": 20,
   "outputs": [
    {
     "name": "stdout",
     "output_type": "stream",
     "text": [
      "计算时间相关的分钟数 60.0\n"
     ]
    }
   ],
   "source": [
    "from datetime import datetime\n",
    "\n",
    "dt1 = datetime.strptime('2019-07-28 5:20', \"%Y-%m-%d %H:%M\")\n",
    "dt2 = datetime.strptime('2019-07-28 6:20', \"%Y-%m-%d %H:%M\")\n",
    "print('计算时间相关的分钟数', (dt2 - dt1).total_seconds() / 60)"
   ],
   "metadata": {
    "collapsed": false,
    "pycharm": {
     "name": "#%%\n"
    }
   }
  },
  {
   "cell_type": "code",
   "execution_count": 5,
   "outputs": [
    {
     "name": "stdout",
     "output_type": "stream",
     "text": [
      "(20130828)\n"
     ]
    },
    {
     "data": {
      "text/plain": "datetime.date(2013, 3, 1)"
     },
     "execution_count": 5,
     "metadata": {},
     "output_type": "execute_result"
    }
   ],
   "source": [
    "from datetime import timedelta\n",
    "from datetime import datetime\n",
    "\n",
    "dt1 = datetime(2013, 8, 28).strftime('(%Y%m%d)')\n",
    "dt2 = datetime(2013, 8, 29).strftime('(%Y%m%d)')\n",
    "print(dt1)\n",
    "(datetime.strptime(dt1, '(%Y%m%d)').date() - timedelta(days=30 * 6))  # 时间计算\n"
   ],
   "metadata": {
    "collapsed": false,
    "pycharm": {
     "name": "#%%\n"
    }
   }
  },
  {
   "cell_type": "code",
   "execution_count": 4,
   "outputs": [
    {
     "data": {
      "text/plain": "datetime.datetime(2013, 8, 28, 0, 0)"
     },
     "execution_count": 4,
     "metadata": {},
     "output_type": "execute_result"
    }
   ],
   "source": [
    "dtdate = datetime(2013, 8, 28).date().strftime('(%Y%m%d)')\n",
    "datetime.strptime(dtdate, '(%Y%m%d)')"
   ],
   "metadata": {
    "collapsed": false,
    "pycharm": {
     "name": "#%%\n"
    }
   }
  },
  {
   "cell_type": "code",
   "execution_count": 85,
   "outputs": [
    {
     "data": {
      "text/plain": "datetime.datetime(2013, 10, 26, 23, 59)"
     },
     "execution_count": 85,
     "metadata": {},
     "output_type": "execute_result"
    }
   ],
   "source": [
    "dt1 = datetime(2013, 10, 28)\n",
    "delta = timedelta(days=1)  # 计算天单位差值\n",
    "delta += timedelta(minutes=1)  # 计算分钟单位差值\n",
    "dt1 - delta"
   ],
   "metadata": {
    "collapsed": false,
    "pycharm": {
     "name": "#%%\n"
    }
   }
  },
  {
   "cell_type": "code",
   "execution_count": 17,
   "outputs": [
    {
     "name": "stdout",
     "output_type": "stream",
     "text": [
      "86400.0\n",
      "1440\n"
     ]
    }
   ],
   "source": [
    "from datetime import timedelta\n",
    "from datetime import datetime\n",
    "\n",
    "\n",
    "def minNums(startTime, endTime):\n",
    "    '''计算两个时间点之间的分钟数'''\n",
    "    # 处理格式,加上秒位\n",
    "    startTime1 = startTime + ':00'\n",
    "    endTime1 = endTime + ':00'\n",
    "    # 计算分钟数\n",
    "    startTime2 = datetime.strptime(startTime1, \"%Y-%m-%d %H:%M:%S\")\n",
    "    endTime2 = datetime.strptime(endTime1, \"%Y-%m-%d %H:%M:%S\")\n",
    "    seconds = (endTime2 - startTime2).seconds\n",
    "    # 来获取时间差中的秒数。注意，seconds获得的秒只是时间差中的小时、分钟和秒部分的和，并没有包含时间差的天数（既是两个时间点不是同一天，失效）\n",
    "    total_seconds = (endTime2 - startTime2).total_seconds()\n",
    "    # 来获取准确的时间差，并将时间差转换为秒\n",
    "    print(total_seconds)\n",
    "    mins = total_seconds / 60\n",
    "    return int(mins)\n",
    "\n",
    "\n",
    "if __name__ == \"__main__\":\n",
    "    startTime_1 = '2019-07-28 00:00'\n",
    "endTime_1 = '2019-07-29 00:00'\n",
    "fenNum = minNums(startTime_1, endTime_1)\n",
    "print(fenNum)"
   ],
   "metadata": {
    "collapsed": false,
    "pycharm": {
     "name": "#%%\n"
    }
   }
  },
  {
   "cell_type": "markdown",
   "source": [
    "### 程序运行时间计数器"
   ],
   "metadata": {
    "collapsed": false,
    "pycharm": {
     "name": "#%% md\n"
    }
   }
  },
  {
   "cell_type": "code",
   "execution_count": 10,
   "outputs": [
    {
     "name": "stdout",
     "output_type": "stream",
     "text": [
      "1633.3140744\n",
      "用时: -0.4956452999999783\n"
     ]
    }
   ],
   "source": [
    "import time\n",
    "from datetime import datetime\n",
    "\n",
    "tstart = time.perf_counter()\n",
    "print(tstart)\n",
    "time.sleep(0.5)  # 休眠时间\n",
    "tsend = time.perf_counter()\n",
    "print('用时s:', tstart - tsend)"
   ],
   "metadata": {
    "collapsed": false,
    "pycharm": {
     "name": "#%%\n"
    }
   }
  },
  {
   "cell_type": "markdown",
   "source": [
    "### 字典时间过滤"
   ],
   "metadata": {
    "collapsed": false,
    "pycharm": {
     "name": "#%% md\n"
    }
   }
  },
  {
   "cell_type": "code",
   "execution_count": 37,
   "outputs": [
    {
     "data": {
      "text/plain": "[{datetime.date(2015, 6, 30): {'kps': [2323, 2450]}}]"
     },
     "execution_count": 37,
     "metadata": {},
     "output_type": "execute_result"
    }
   ],
   "source": [
    "# 过滤字典内六个月前的数据\n",
    "kpr = {\n",
    "    datetime(2013, 1, 30).date(): {'kps': [2448, 2323], },\n",
    "    datetime(2015, 6, 30).date(): {'kps': [2323, 2450], },\n",
    "}\n",
    "dtdate = datetime(2013, 8, 28).date()\n",
    "\n",
    "v_kprs = ([{k_kpr: v_kpr} for k_kpr, v_kpr in dict(kpr).items() if (k_kpr + timedelta(days=30 * 6)) >= dtdate])\n",
    "v_kprs"
   ],
   "metadata": {
    "collapsed": false,
    "pycharm": {
     "name": "#%%\n"
    }
   }
  },
  {
   "cell_type": "code",
   "execution_count": null,
   "outputs": [],
   "source": [
    "from datetime import datetime\n",
    "\n",
    "dc1 = {\n",
    "    datetime(2001, 1, 5).date(): 2300,\n",
    "    datetime(2002, 1, 5).date(): 2500,\n",
    "    datetime(2003, 1, 5).date(): 2500,\n",
    "}\n",
    "dt = datetime(2001, 2, 1).date()\n",
    "print(dc1)\n",
    "print([v for k, v in dc1.items() if k > dt])  # 过滤日期小于dt的值,组成新的列表\n",
    "print(({k: v for k, v in dc1.items() if k > dt}))  # 过滤日期小于dt的键值,组成新的字典\n"
   ],
   "metadata": {
    "collapsed": false,
    "pycharm": {
     "name": "#%%\n"
    }
   }
  },
  {
   "cell_type": "markdown",
   "source": [
    "## max函数用法"
   ],
   "metadata": {
    "collapsed": false,
    "pycharm": {
     "name": "#%% md\n"
    }
   }
  },
  {
   "cell_type": "code",
   "execution_count": 114,
   "outputs": [
    {
     "name": "stdout",
     "output_type": "stream",
     "text": [
      "5\n",
      "-10\n",
      "za\n",
      "az\n",
      "4\n"
     ]
    }
   ],
   "source": [
    "# max函数的用法\n",
    "mps = [x for x in [0, -10, 5, 2, -1] if x != 0]  # 不为0的参数列表\n",
    "print(min([x for x in mps if x >= 5]))  # 大于5的最小值\n",
    "print(max(mps, key=lambda x: abs(x)))  # 绝对值最大的值\n",
    "\n",
    "haha0 = max(['az', 'za'], key=lambda a: a[0])\n",
    "haha1 = max(['az', 'za'], key=lambda a: a[1])\n",
    "haha2 = max(range(10), key=lambda a: a > 3)\n",
    "\n",
    "print(haha0)  #输出za\n",
    "print(haha1)  #输出az\n",
    "print(haha2)  #输出4"
   ],
   "metadata": {
    "collapsed": false,
    "pycharm": {
     "name": "#%%\n"
    }
   }
  },
  {
   "cell_type": "code",
   "execution_count": null,
   "outputs": [],
   "source": [],
   "metadata": {
    "collapsed": false,
    "pycharm": {
     "name": "#%%\n"
    }
   }
  },
  {
   "cell_type": "markdown",
   "source": [
    "## 全局变量"
   ],
   "metadata": {
    "collapsed": false,
    "pycharm": {
     "name": "#%% md\n"
    }
   }
  },
  {
   "cell_type": "code",
   "execution_count": 4,
   "outputs": [
    {
     "name": "stdout",
     "output_type": "stream",
     "text": [
      "当前时间: 2022-05-08 13:52:32.887481\n"
     ]
    },
    {
     "data": {
      "text/plain": "datetime.datetime(2022, 5, 8, 13, 52, 32, 887481)"
     },
     "execution_count": 4,
     "metadata": {},
     "output_type": "execute_result"
    }
   ],
   "source": [
    "# 调用其他模块中的函数\n",
    "import demo01\n",
    "\n",
    "global now_datetime  # 在任何地方都可提前定义全局变量\n",
    "now_datetime = demo01.show_datetime()  #  使用变量,需要返回值\n",
    "\n"
   ],
   "metadata": {
    "collapsed": false,
    "pycharm": {
     "name": "#%%\n"
    }
   }
  },
  {
   "cell_type": "code",
   "execution_count": 11,
   "outputs": [
    {
     "name": "stdout",
     "output_type": "stream",
     "text": [
      "APP_NAME 全局变量测试\n",
      "test_kwargs {'rp': 10, 'sp': 10}\n",
      "test_kwargs None\n",
      "kwargs {'a1': 'a1', 'b1': 'b1', 'test_kwargs': {'rp': 10, 'sp': 10}}\n"
     ]
    }
   ],
   "source": [
    "\n",
    "import 跨模块全局变量.global_variable as glv\n",
    "\n",
    "glv.init()\n",
    "glv.set(\"APP_NAME\", \"全局变量测试\")\n",
    "kwargs = dict()  # 参数字典\n",
    "kwargs['a1'] = 'a1'\n",
    "kwargs['b1'] = 'b1'\n",
    "kwargs['test_kwargs'] = dict({\n",
    "    'rp': 10,\n",
    "    'sp': 10,\n",
    "})  # 回测参数字典\n",
    "glv.set('kwargs', kwargs)\n",
    "glv.get('kwargs')['test_kwargs'] = kwargs['test_kwargs']\n",
    "\n",
    "print('APP_NAME', glv.get(\"APP_NAME\"))\n",
    "print('test_kwargs', glv.get('kwargs').get('test_kwargs'))\n",
    "print('test_kwargs', glv.get('test_kwargs'))\n",
    "print('kwargs', glv.get('kwargs'))\n"
   ],
   "metadata": {
    "collapsed": false,
    "pycharm": {
     "name": "#%%\n"
    }
   }
  },
  {
   "cell_type": "code",
   "source": [
    "# glv['G_FILE_PATH'] = \"datas\\\\ZJIF13-5m-20100416-20220427.csv\"\n",
    "# glv['G_DT_START'], glv['G_DT_END'] = '2013-01-01', '2022-02-01'\n",
    "glv['G_FILE_PATH'] = \"datas\\\\DQC13-5m-20120709-20220330.csv\"\n",
    "glv['G_DT_START'], glv['G_DT_END'] = '2013-01-01', '2017-02-01'\n",
    "# glv['G_DT_START'], glv['G_DT_END'] = '2013-01-01', '2015-02-01'\n",
    "# glv['G_FILE_PATH'] = \"datas\\\\ZQCF13-5m-20121224-20220415.csv\"\n",
    "# glv['G_DT_START'], glv['G_DT_END'] = '2013-01-01', '2014-02-01'\n",
    "# glv['G_FILE_PATH'] = \"datas\\\\SQRB13-5m-20121224-20220330.csv\"\n",
    "# glv['G_FILE_PATH'] = \"datas\\\\SQRBOC-5m-20090327-20211231.csv\"\n",
    "# glv['G_DT_START'], glv['G_DT_END'] = '2009-04-01', '2015-02-01'\n",
    "# glv['G_DT_START'], glv['G_DT_END'] = '2009-04-01', '2009-05-01'\n",
    "# glv['G_FILE_PATH'] = \"datas\\\\SQCU13-5m-20150625-20220427.csv\"\n",
    "# glv['G_DT_START'], glv['G_DT_END'] = '2015-06-25', '2019-02-01'"
   ],
   "metadata": {
    "collapsed": false,
    "pycharm": {
     "name": "#%%\n"
    }
   },
   "execution_count": null,
   "outputs": []
  },
  {
   "cell_type": "markdown",
   "source": [
    "## 字符串"
   ],
   "metadata": {
    "collapsed": false,
    "pycharm": {
     "name": "#%% md\n"
    }
   }
  },
  {
   "cell_type": "markdown",
   "source": [
    "### 字符串连接"
   ],
   "metadata": {
    "collapsed": false,
    "pycharm": {
     "name": "#%% md\n"
    }
   }
  },
  {
   "cell_type": "code",
   "execution_count": 1,
   "outputs": [
    {
     "name": "stdout",
     "output_type": "stream",
     "text": [
      "冒号连接 abc:123\n",
      "简单拼接 abc123\n",
      "简单拼接 abc123\n"
     ]
    }
   ],
   "source": [
    "# 字符串连接\n",
    "print('冒号连接', ':'.join(['abc', '123']))\n",
    "print('简单拼接', ''.join(['abc', '123']))\n",
    "print('简单拼接', ('abc' + '123'))"
   ],
   "metadata": {
    "collapsed": false,
    "pycharm": {
     "name": "#%%\n"
    }
   }
  },
  {
   "cell_type": "markdown",
   "source": [
    "###  字典串查找"
   ],
   "metadata": {
    "collapsed": false,
    "pycharm": {
     "name": "#%% md\n"
    }
   }
  },
  {
   "cell_type": "code",
   "execution_count": null,
   "outputs": [],
   "source": [
    "dt_format = \"%Y-%m-%d %H:%M:%S\"\n",
    "dt_dtformat = dt_format[:dt_format.find('%H')]\n",
    "dt_tmformat = dt_format[dt_format.find('%H'):]\n",
    "print(dt_dtformat)\n",
    "print(dt_tmformat)"
   ],
   "metadata": {
    "collapsed": false,
    "pycharm": {
     "name": "#%%\n"
    }
   }
  },
  {
   "cell_type": "markdown",
   "source": [
    "## 字典"
   ],
   "metadata": {
    "collapsed": false,
    "pycharm": {
     "name": "#%% md\n"
    }
   }
  },
  {
   "cell_type": "code",
   "execution_count": 1,
   "outputs": [
    {
     "name": "stdout",
     "output_type": "stream",
     "text": [
      "101\n"
     ]
    }
   ],
   "source": [
    "# 字典操作\n",
    "dc1 = dict()\n",
    "dc1['书籍'] = dict()\n",
    "dc1['书籍']['名称'] = '一本书'\n",
    "dc1['书籍']['价格'] = 100\n",
    "dc1['书籍']['价格'] += 1\n",
    "print(dc1['书箱']['价格'])"
   ],
   "metadata": {
    "collapsed": false,
    "pycharm": {
     "name": "#%%\n"
    }
   }
  },
  {
   "cell_type": "markdown",
   "source": [
    "### Python字典的初始化\n",
    "初始化方法一：dict(kwargs)，使用dict[name]=value完成字典的初始化\n",
    "初始化方法二：dict(iterable,kwarg)，使用可迭代对象加dict[name]=value初始化字典，注意，这里的iterable可迭代对象的元素必须是一个二元机构\n",
    "初始化方法三：dict(mapping,**kwarg)，使用字典构造另一个字典"
   ],
   "metadata": {
    "collapsed": false,
    "pycharm": {
     "name": "#%% md\n"
    }
   }
  },
  {
   "cell_type": "code",
   "execution_count": 12,
   "outputs": [
    {
     "data": {
      "text/plain": "True"
     },
     "execution_count": 12,
     "metadata": {},
     "output_type": "execute_result"
    }
   ],
   "source": [
    "# 以下构造的字典内容完全相同\n",
    "a = dict(one=1, two=2, three=3)\n",
    "b = {'one': 1, 'two': 2, 'three': 3}\n",
    "c = dict(zip(['one', 'two', 'three'], [1, 2, 3]))\n",
    "d = dict([('two', 2), ('one', 1), ('three', 3)])\n",
    "e = dict({'three': 3, 'one': 1, 'two': 2})\n",
    "a == b == c == d == e"
   ],
   "metadata": {
    "collapsed": false,
    "pycharm": {
     "name": "#%%\n"
    }
   }
  },
  {
   "cell_type": "code",
   "execution_count": null,
   "outputs": [],
   "source": [
    "# 字典初始化与赋值\n",
    "d1 = dict(a='a1', b='b2')\n",
    "print(d1)\n",
    "d1['c'] = dict(c1='c3')\n",
    "print(d1)\n",
    "d1['d3'] = dict()\n",
    "d1['d3']['a1'] = 'a1'\n",
    "d1['d3']['a2'] = 'a2'\n",
    "print(d1)"
   ],
   "metadata": {
    "collapsed": false,
    "pycharm": {
     "name": "#%%\n"
    }
   }
  },
  {
   "cell_type": "code",
   "execution_count": null,
   "outputs": [],
   "source": [
    "# 字典批量添加\n",
    "# 使用键作为下标，更新字典元素\n",
    "dic = {\"Name\": \"HaiCoder\", \"Age\": 100, \"Score\": 99.5}\n",
    "print(\"Before =\", dic)\n",
    "dic.update(({'a1': 'a1', 'b1': 'b1'}))\n",
    "print(dic)"
   ],
   "metadata": {
    "collapsed": false,
    "pycharm": {
     "name": "#%%\n"
    }
   }
  },
  {
   "cell_type": "code",
   "execution_count": 17,
   "outputs": [
    {
     "name": "stdout",
     "output_type": "stream",
     "text": [
      "{'a': 100, 'b': 200}\n",
      "{'a': 100, 'b': 200}\n",
      "{'a': 300, 'b': 400}\n",
      "{'a': 100, 'b': 300, 1: 'abcde', 'c': 400}\n"
     ]
    }
   ],
   "source": [
    "dn = dict(a=100, b=200)\n",
    "d4 = dict(dn)\n",
    "d5 = dict(d4, a=300, b=400)\n",
    "d6 = dict([('a', 100), [\"b\", 200], (1, \"abcde\")], b=300, c=400)\n",
    "print(dn)\n",
    "print(d4)\n",
    "print(d5)\n",
    "print(d6)\n"
   ],
   "metadata": {
    "collapsed": false,
    "pycharm": {
     "name": "#%%\n"
    }
   }
  },
  {
   "cell_type": "code",
   "execution_count": null,
   "outputs": [],
   "source": [],
   "metadata": {
    "collapsed": false,
    "pycharm": {
     "name": "#%%\n"
    }
   }
  },
  {
   "cell_type": "code",
   "execution_count": null,
   "outputs": [],
   "source": [
    "# 字典键是否存在\n",
    "score = dict()\n",
    "print('判断键是否存在', score['语文'] if '语文' in score else '键值不存在')\n",
    "\n",
    "# 字典删除\n",
    "list1 = ['a', 'b', 'c', 'd']\n",
    "list1.remove('a')\n",
    "print('字典删除', list1)"
   ],
   "metadata": {
    "collapsed": false,
    "pycharm": {
     "name": "#%%\n"
    }
   }
  },
  {
   "cell_type": "markdown",
   "source": [
    "### 字典（dict）拷贝"
   ],
   "metadata": {
    "collapsed": false,
    "pycharm": {
     "name": "#%% md\n"
    }
   }
  },
  {
   "cell_type": "code",
   "execution_count": 40,
   "outputs": [
    {
     "name": "stdout",
     "output_type": "stream",
     "text": [
      "{'a': 111, 'b': 2, 'c': [1, 2, 3]}\n",
      "{'a': 1, 'b': 2, 'c': []}\n"
     ]
    }
   ],
   "source": [
    "dc1 = {'a': 1, 'b': 2, 'c': []}\n",
    "dc2 = dict(dc1.copy())\n",
    "dc1['a'] = 111\n",
    "dc1['c'] = [1,2,3]\n",
    "print(dc1)\n",
    "print(dc2)"
   ],
   "metadata": {
    "collapsed": false,
    "pycharm": {
     "name": "#%%\n"
    }
   }
  },
  {
   "cell_type": "code",
   "execution_count": 41,
   "outputs": [
    {
     "name": "stdout",
     "output_type": "stream",
     "text": [
      "嗨客网(www.haicoder.net)\n",
      "Dic = {'Name': 'jack', 'Age': 100, 'Score': [99.5, 88.8]}\n",
      "Dic1 = {'Name': 'HaiCoder', 'Age': 100, 'Score': [99.5]}\n"
     ]
    }
   ],
   "source": [
    "# deepcopy复制字典详解\n",
    "import copy\n",
    "\n",
    "print(\"嗨客网(www.haicoder.net)\")\n",
    "# 使用 deepcopy 实现字典拷贝\n",
    "dic = {\"Name\": \"HaiCoder\", \"Age\": 100, \"Score\": [99.5]}\n",
    "dic1 = copy.deepcopy(dic)\n",
    "dic['Name'] = 'jack'\n",
    "dic['Score'].append(88.8)\n",
    "print(\"Dic =\", dic)\n",
    "print(\"Dic1 =\", dic1)"
   ],
   "metadata": {
    "collapsed": false,
    "pycharm": {
     "name": "#%%\n"
    }
   }
  },
  {
   "cell_type": "markdown",
   "source": [
    "### 字典获取值 与设置默认值"
   ],
   "metadata": {
    "collapsed": false,
    "pycharm": {
     "name": "#%% md\n"
    }
   }
  },
  {
   "cell_type": "code",
   "execution_count": 68,
   "outputs": [
    {
     "name": "stdout",
     "output_type": "stream",
     "text": [
      "[1, 2, 3]\n",
      "[1, 2]\n",
      "{'a': 100, 'b': 200, 'c': [1, 2, 3, 4], 'd': [1, 2, 3]}\n",
      "{'a': 100, 'b': 200, 'c': [1, 2, 3, 4], 'd': [1, 2, 3]}\n"
     ]
    }
   ],
   "source": [
    "# 字典获取值 与设置默认值\n",
    "import numpy as np\n",
    "\n",
    "dn = dict(a=100, b=200, )\n",
    "dn.setdefault('c', []).append(1)\n",
    "dn.setdefault('c', []).extend([2, 3, 4])\n",
    "print(dn.setdefault('d', [1, 2, 3]))  # 不存在设置并返回默认值 包括列表中的值\n",
    "print(dn.get('e', [1, 2]))  # 不存在返回 默认值\n",
    "print(dn)\n",
    "dn2 = dict(dn)\n",
    "print(dn2)"
   ],
   "metadata": {
    "collapsed": false,
    "pycharm": {
     "name": "#%%\n"
    }
   }
  },
  {
   "cell_type": "code",
   "execution_count": null,
   "outputs": [],
   "source": [
    "# 字典访问不存的键值时,给出默认值的二种方法\n",
    "dt2 = dict({'a1': {'a11': [11, 12, 13]},\n",
    "            'a2': {'a22': [21, 22, 23]}})\n",
    "print(dt2['a3'] if 'a3' in dt2 else '不存在')\n",
    "print(dt2.get('a3', '不存在'))\n",
    "print(dt2.get('a3'))\n",
    "print(dt2.get('a3').get('a33') if dt2.get('a3') else '不存在')\n",
    "# print(dt2.get('a3').get('a33') if dt2.get('a3').get('a33') else '不存在')"
   ],
   "metadata": {
    "collapsed": false,
    "pycharm": {
     "name": "#%%\n"
    }
   }
  },
  {
   "cell_type": "code",
   "execution_count": 7,
   "outputs": [],
   "source": [
    "# if 语句 and 语句时,只要条件不成立,就不再进行and后面的判断\n",
    "dc2 = dict()\n",
    "if dc2 and dc2['书籍']:  # 如果进行dc2['书籍']判断会报错\n",
    "    print(dc2.get('书籍', '无'))\n",
    "    pass"
   ],
   "metadata": {
    "collapsed": false,
    "pycharm": {
     "name": "#%%\n"
    }
   }
  },
  {
   "cell_type": "code",
   "execution_count": 11,
   "outputs": [
    {
     "name": "stdout",
     "output_type": "stream",
     "text": [
      "[123]\n",
      "123\n",
      "[123]\n"
     ]
    }
   ],
   "source": [
    "l1 = list()\n",
    "(l1).append(123)\n",
    "list(l1).append(\"abc\")\n",
    "print(l1)\n",
    "print(list(l1)[0])\n",
    "if (l1):\n",
    "    print(l1)"
   ],
   "metadata": {
    "collapsed": false,
    "pycharm": {
     "name": "#%%\n"
    }
   }
  },
  {
   "cell_type": "code",
   "execution_count": 2,
   "outputs": [
    {
     "data": {
      "text/plain": "tuple"
     },
     "execution_count": 2,
     "metadata": {},
     "output_type": "execute_result"
    }
   ],
   "source": [],
   "metadata": {
    "collapsed": false,
    "pycharm": {
     "name": "#%%\n"
    }
   }
  },
  {
   "cell_type": "code",
   "execution_count": 1,
   "outputs": [
    {
     "name": "stdout",
     "output_type": "stream",
     "text": [
      "{'1': {'type': 'A', 'id': 1}, '4': {'type': 'D', 'id': 2}, '5': {'type': 'D', 'id': 3}}\n"
     ]
    }
   ],
   "source": [
    "# Python3 利用filter()函数过滤/筛选/批量删除 字典/dict中的元素\n",
    "# 原字典如下\n",
    "dc1 = {'1': {'type': 'A', 'id': 1},\n",
    "       '2': {'type': 'B', 'id': 2},\n",
    "       '3': {'type': 'C', 'id': 1},\n",
    "       '4': {'type': 'D', 'id': 2},\n",
    "       '5': {'type': 'D', 'id': 3}}\n",
    "\n",
    "# 现在要求只保留其中'type'为'A'和'D'的元素，即处理后字典变为：\n",
    "dc2 = {'1': {'type': 'A', 'id': 1},\n",
    "       '4': {'type': 'D', 'id': 2},\n",
    "       '5': {'type': 'D', 'id': 3}}\n",
    "\n",
    "allowed_keys = ['A', 'D']\n",
    "\n",
    "print(dict(filter(lambda x: x[1]['type'] in allowed_keys, dc1.items())))\n",
    "# 运行结果 {'1': {'type': 'A', 'id': 1}, '4': {'type': 'D', 'id': 2}, '5': {'type': 'D', 'id': 3}}\n"
   ],
   "metadata": {
    "collapsed": false,
    "pycharm": {
     "name": "#%%\n"
    }
   }
  },
  {
   "cell_type": "markdown",
   "source": [
    "### 以属性的方式访问字典的值（easydict）"
   ],
   "metadata": {
    "collapsed": false,
    "pycharm": {
     "name": "#%% md\n"
    }
   }
  },
  {
   "cell_type": "code",
   "execution_count": 4,
   "outputs": [
    {
     "data": {
      "text/plain": "1"
     },
     "execution_count": 4,
     "metadata": {},
     "output_type": "execute_result"
    }
   ],
   "source": [
    "\n",
    "from easydict import EasyDict\n",
    "\n",
    "d1 = {'a': 1}\n",
    "d2 = EasyDict(d1)\n",
    "d2['a']\n",
    "\n",
    "d2.a\n",
    "\n"
   ],
   "metadata": {
    "collapsed": false,
    "pycharm": {
     "name": "#%%\n"
    }
   }
  },
  {
   "cell_type": "markdown",
   "source": [
    "### 利用filter()函数过滤/筛选/批量删除 字典/dict中的元素\n",
    "解析\n",
    "map和filter是两个非常好用的批量处理可迭代对象的函数，但这里要注意：\n",
    "\n",
    "1.传入的iterator是dict.items()而不是dict本身\n",
    "2.dict.items()返回该dict的视图对象（view objects），提供了字典实体的动态视图，这就意味着字典改变，视图也会跟着变化。\n",
    "视图对象不是列表，不支持索引，可以使用 list() 来转换为列表。\n",
    "我们不能对视图对象进行任何的修改，因为字典的视图对象都是只读的。\n",
    "dict.items()中的单个元素是一个tuple，第一个元素是key，第二个元素是value。\n",
    "\n",
    "3.filter()返回的对象需要通过转换为dict后才是一个dict。\n",
    "————————————————\n",
    "版权声明：本文为CSDN博主「TeraniteAK」的原创文章，遵循CC 4.0 BY-SA版权协议，转载请附上原文出处链接及本声明。\n",
    "原文链接：https://blog.csdn.net/qq_40409117/article/details/121540989\n"
   ],
   "metadata": {
    "collapsed": false,
    "pycharm": {
     "name": "#%% md\n"
    }
   }
  },
  {
   "cell_type": "markdown",
   "source": [
    "### 字典格式化输出"
   ],
   "metadata": {
    "collapsed": false,
    "pycharm": {
     "name": "#%% md\n"
    }
   }
  },
  {
   "cell_type": "code",
   "execution_count": 11,
   "outputs": [
    {
     "name": "stdout",
     "output_type": "stream",
     "text": [
      "{0: 'value 0', 1: 'value 1', 2: 'value 2', 3: 'value 3', 4: 'value 4'}\n",
      "{0: 'value 0', 1: 'value 1', 2: 'value 2', 3: 'value 3', 4: 'value 4'}\n",
      "{ 0: value 0 1: value 1 2: value 2 3: value 3 4: value 4}"
     ]
    }
   ],
   "source": [
    "import sys\n",
    "\n",
    "\n",
    "def dump(obj, nested_level=0, output=sys.stdout):\n",
    "    spacing = ' '\n",
    "    end = ''\n",
    "    if type(obj) == dict:\n",
    "        print('%s{' % ((nested_level) * spacing), end=end)\n",
    "        for k, v in obj.items():\n",
    "            if hasattr(v, '__iter__'):\n",
    "                print('%s%s:' % ((nested_level + 1) * spacing, k), end=end)\n",
    "                dump(v, nested_level + 1, output)\n",
    "            else:\n",
    "                print('%s%s: %s' % ((nested_level + 1) * spacing, k, v))\n",
    "        print('%s}' % (nested_level * spacing), end=end)\n",
    "    elif type(obj) == list:\n",
    "        print('%s[' % ((nested_level) * spacing), end=end)\n",
    "        for v in obj:\n",
    "            if hasattr(v, '__iter__'):\n",
    "                dump(v, nested_level + 1, output)\n",
    "            else:\n",
    "                print('%s%s' % ((nested_level + 1) * spacing, v))\n",
    "        print('%s]' % ((nested_level) * spacing), end=end)\n",
    "    else:\n",
    "        print('%s%s' % (nested_level * spacing, obj), end=end)\n",
    "\n",
    "\n",
    "import pprint\n",
    "\n",
    "# 格式化输出集合\n",
    "dic = {}\n",
    "for i in range(5):\n",
    "    dic[i] = \"value %d\" % i\n",
    "print(dic)\n",
    "# 自定义缩进为4空格\n",
    "pp = pprint.PrettyPrinter(indent=2)\n",
    "pp.pprint(dic)\n",
    "dump({0: 'value 0', 1: 'value 1', 2: 'value 2', 3: 'value 3', 4: 'value 4'})\n",
    "\n"
   ],
   "metadata": {
    "collapsed": false,
    "pycharm": {
     "name": "#%%\n"
    }
   }
  },
  {
   "cell_type": "markdown",
   "source": [],
   "metadata": {
    "collapsed": false,
    "pycharm": {
     "name": "#%% md\n"
    }
   }
  },
  {
   "cell_type": "code",
   "execution_count": 32,
   "outputs": [],
   "source": [],
   "metadata": {
    "collapsed": false,
    "pycharm": {
     "name": "#%%\n"
    }
   }
  },
  {
   "cell_type": "code",
   "execution_count": null,
   "outputs": [],
   "source": [],
   "metadata": {
    "collapsed": false,
    "pycharm": {
     "name": "#%%\n"
    }
   }
  }
 ],
 "metadata": {
  "kernelspec": {
   "name": "py39",
   "language": "python",
   "display_name": "py39"
  },
  "language_info": {
   "codemirror_mode": {
    "name": "ipython",
    "version": 2
   },
   "file_extension": ".py",
   "mimetype": "text/x-python",
   "name": "python",
   "nbconvert_exporter": "python",
   "pygments_lexer": "ipython2",
   "version": "2.7.6"
  }
 },
 "nbformat": 4,
 "nbformat_minor": 0
}