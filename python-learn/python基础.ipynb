{
 "cells": [
  {
   "cell_type": "code",
   "execution_count": 5,
   "metadata": {
    "collapsed": true
   },
   "outputs": [
    {
     "name": "stdout",
     "output_type": "stream",
     "text": [
      "name= unreg\n",
      "value= 1\n",
      "name= reg\n",
      "value= 0.05\n"
     ]
    }
   ],
   "source": [
    "\n",
    "for name, penalty in ((\"unreg\", 1), (\"reg\", 0.05)):\n",
    "    print('name=', name)\n",
    "    print('value=', penalty)"
   ]
  },
  {
   "cell_type": "code",
   "execution_count": 1,
   "outputs": [],
   "source": [
    "import numpy as np\n",
    "# c = [1, 2, 3]\n",
    "# a, b = [1, -1] *10\n",
    "# print(a, b)"
   ],
   "metadata": {
    "collapsed": false,
    "pycharm": {
     "name": "#%%\n"
    }
   }
  },
  {
   "cell_type": "code",
   "execution_count": 33,
   "outputs": [
    {
     "name": "stdout",
     "output_type": "stream",
     "text": [
      "<class 'int'>\n"
     ]
    },
    {
     "data": {
      "text/plain": "2"
     },
     "execution_count": 33,
     "metadata": {},
     "output_type": "execute_result"
    }
   ],
   "source": [
    "\n",
    "from enum import Enum\n",
    "\n",
    "\n",
    "# 列标头\n",
    "class header(Enum):\n",
    "    \"\"\"枚举列表头\"\"\"\n",
    "    DATE = 0  # date所在列\n",
    "    OPEN = 1\n",
    "    HIGH = 2\n",
    "    LOW = 3\n",
    "    CLOSE = 4\n",
    "    VOLUME = 5\n",
    "\n",
    "\n",
    "print(type(header.HIGH.value))\n",
    "header.HIGH.value"
   ],
   "metadata": {
    "collapsed": false,
    "pycharm": {
     "name": "#%%\n"
    }
   }
  },
  {
   "cell_type": "code",
   "execution_count": 41,
   "outputs": [],
   "source": [
    "import sys\n",
    "\n",
    "\n",
    "def dump(obj, nested_level=0, output=sys.stdout):\n",
    "    spacing = ' '\n",
    "    end = ''\n",
    "    if type(obj) == dict:\n",
    "        print('%s{' % ((nested_level) * spacing), end=end)\n",
    "        for k, v in obj.items():\n",
    "            if hasattr(v, '__iter__'):\n",
    "                print('%s%s:' % ((nested_level + 1) * spacing, k), end=end)\n",
    "                dump(v, nested_level + 1, output)\n",
    "            else:\n",
    "                print( '%s%s: %s' % ((nested_level + 1) * spacing, k, v))\n",
    "        print('%s}' % (nested_level * spacing), end=end)\n",
    "    elif type(obj) == list:\n",
    "        print('%s[' % ((nested_level) * spacing), end=end)\n",
    "        for v in obj:\n",
    "            if hasattr(v, '__iter__'):\n",
    "                dump(v, nested_level + 1, output)\n",
    "            else:\n",
    "                print('%s%s' % ((nested_level + 1) * spacing, v))\n",
    "        print('%s]' % ((nested_level) * spacing), end=end)\n",
    "    else:\n",
    "        print('%s%s' % (nested_level * spacing, obj), end=end)\n",
    "\n"
   ],
   "metadata": {
    "collapsed": false,
    "pycharm": {
     "name": "#%%\n"
    }
   }
  },
  {
   "cell_type": "code",
   "execution_count": 42,
   "outputs": [
    {
     "name": "stdout",
     "output_type": "stream",
     "text": [
      "{0: 'value 0', 1: 'value 1', 2: 'value 2', 3: 'value 3', 4: 'value 4'}\n",
      "{0: 'value 0', 1: 'value 1', 2: 'value 2', 3: 'value 3', 4: 'value 4'}\n",
      "{ 0: value 0 1: value 1 2: value 2 3: value 3 4: value 4}"
     ]
    }
   ],
   "source": [
    "import pprint\n",
    "# 格式化输出集合\n",
    "dic = {}\n",
    "for i in range(5):\n",
    "    dic[i] = \"value %d\" % i\n",
    "print(dic)\n",
    "# 自定义缩进为4空格\n",
    "pp = pprint.PrettyPrinter(indent=2)\n",
    "pp.pprint(dic)\n",
    "dump({0: 'value 0', 1: 'value 1', 2: 'value 2', 3: 'value 3', 4: 'value 4'})"
   ],
   "metadata": {
    "collapsed": false,
    "pycharm": {
     "name": "#%%\n"
    }
   }
  },
  {
   "cell_type": "code",
   "execution_count": 45,
   "outputs": [
    {
     "data": {
      "text/plain": "4.0"
     },
     "execution_count": 45,
     "metadata": {},
     "output_type": "execute_result"
    }
   ],
   "source": [
    "8.3//2"
   ],
   "metadata": {
    "collapsed": false,
    "pycharm": {
     "name": "#%%\n"
    }
   }
  },
  {
   "cell_type": "code",
   "execution_count": null,
   "outputs": [],
   "source": [],
   "metadata": {
    "collapsed": false,
    "pycharm": {
     "name": "#%%\n"
    }
   }
  }
 ],
 "metadata": {
  "kernelspec": {
   "name": "pycharm-50a0962a",
   "language": "python",
   "display_name": "PyCharm (python-demo)"
  },
  "language_info": {
   "codemirror_mode": {
    "name": "ipython",
    "version": 2
   },
   "file_extension": ".py",
   "mimetype": "text/x-python",
   "name": "python",
   "nbconvert_exporter": "python",
   "pygments_lexer": "ipython2",
   "version": "2.7.6"
  }
 },
 "nbformat": 4,
 "nbformat_minor": 0
}