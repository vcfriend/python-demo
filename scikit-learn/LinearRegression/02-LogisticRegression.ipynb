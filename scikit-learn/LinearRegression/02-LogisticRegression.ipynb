{
 "cells": [
  {
   "cell_type": "code",
   "execution_count": 1,
   "metadata": {
    "collapsed": true
   },
   "outputs": [
    {
     "name": "stdout",
     "output_type": "stream",
     "text": [
      "\n",
      "INSTALLED VERSIONS\n",
      "------------------\n",
      "commit           : 945c9ed766a61c7d2c0a7cbb251b6edebf9cb7d5\n",
      "python           : 3.9.7.final.0\n",
      "python-bits      : 64\n",
      "OS               : Windows\n",
      "OS-release       : 10\n",
      "Version          : 10.0.22000\n",
      "machine          : AMD64\n",
      "processor        : AMD64 Family 23 Model 104 Stepping 1, AuthenticAMD\n",
      "byteorder        : little\n",
      "LC_ALL           : en_US.UTF-8\n",
      "LANG             : en_US.UTF-8\n",
      "LOCALE           : Chinese (Simplified)_China.936\n",
      "\n",
      "pandas           : 1.3.4\n",
      "numpy            : 1.21.4\n",
      "pytz             : 2021.3\n",
      "dateutil         : 2.8.2\n",
      "pip              : 21.3.1\n",
      "setuptools       : 58.5.3\n",
      "Cython           : 0.29.24\n",
      "pytest           : 6.2.5\n",
      "hypothesis       : None\n",
      "sphinx           : None\n",
      "blosc            : None\n",
      "feather          : None\n",
      "xlsxwriter       : None\n",
      "lxml.etree       : 4.6.4\n",
      "html5lib         : 1.1\n",
      "pymysql          : None\n",
      "psycopg2         : None\n",
      "jinja2           : 3.0.3\n",
      "IPython          : 7.29.0\n",
      "pandas_datareader: 0.10.0\n",
      "bs4              : 4.10.0\n",
      "bottleneck       : None\n",
      "fsspec           : None\n",
      "fastparquet      : None\n",
      "gcsfs            : None\n",
      "matplotlib       : 3.4.3\n",
      "numexpr          : 2.7.3\n",
      "odfpy            : None\n",
      "openpyxl         : 3.0.9\n",
      "pandas_gbq       : None\n",
      "pyarrow          : None\n",
      "pyxlsb           : None\n",
      "s3fs             : None\n",
      "scipy            : 1.7.2\n",
      "sqlalchemy       : None\n",
      "tables           : 3.6.1\n",
      "tabulate         : 0.8.9\n",
      "xarray           : None\n",
      "xlrd             : 2.0.1\n",
      "xlwt             : None\n",
      "numba            : None\n",
      "None\n"
     ]
    }
   ],
   "source": [
    "import numpy as np\n",
    "import matplotlib.pyplot as plt\n",
    "from sklearn.datasets import make_blobs\n",
    "from sklearn.linear_model import LogisticRegression\n"
   ]
  },
  {
   "cell_type": "code",
   "execution_count": 3,
   "outputs": [],
   "source": [
    "# 构造一些数据点\n",
    "centers = [[-5, 0], [0, 1.5], [5, -1]]\n",
    "X, y = make_blobs(n_samples=1000, centers=centers, random_state=40)"
   ],
   "metadata": {
    "collapsed": false,
    "pycharm": {
     "name": "#%%\n"
    }
   }
  },
  {
   "cell_type": "code",
   "execution_count": 4,
   "outputs": [],
   "source": [
    "transformation = [[0.4, 0.2], [-0.4, 1.2]]\n",
    "X = np.dot(X, transformation)"
   ],
   "metadata": {
    "collapsed": false,
    "pycharm": {
     "name": "#%%\n"
    }
   }
  },
  {
   "cell_type": "code",
   "execution_count": 5,
   "outputs": [
    {
     "ename": "NameError",
     "evalue": "name 'multi_class' is not defined",
     "output_type": "error",
     "traceback": [
      "\u001B[1;31m---------------------------------------------------------------------------\u001B[0m",
      "\u001B[1;31mNameError\u001B[0m                                 Traceback (most recent call last)",
      "\u001B[1;32m~\\AppData\\Local\\Temp/ipykernel_21800/3485579765.py\u001B[0m in \u001B[0;36m<module>\u001B[1;34m\u001B[0m\n\u001B[1;32m----> 1\u001B[1;33m \u001B[0mclf\u001B[0m \u001B[1;33m=\u001B[0m \u001B[0mLogisticRegression\u001B[0m\u001B[1;33m(\u001B[0m\u001B[0msolver\u001B[0m\u001B[1;33m=\u001B[0m\u001B[1;34m'sag'\u001B[0m\u001B[1;33m,\u001B[0m \u001B[0mmax_iter\u001B[0m\u001B[1;33m=\u001B[0m\u001B[1;36m100\u001B[0m\u001B[1;33m,\u001B[0m \u001B[0mrandom_state\u001B[0m\u001B[1;33m=\u001B[0m\u001B[1;36m42\u001B[0m\u001B[1;33m,\u001B[0m \u001B[0mmulti_class\u001B[0m\u001B[1;33m=\u001B[0m\u001B[0mmulti_class\u001B[0m\u001B[1;33m)\u001B[0m\u001B[1;33m.\u001B[0m\u001B[0mfit\u001B[0m\u001B[1;33m(\u001B[0m\u001B[0mX\u001B[0m\u001B[1;33m,\u001B[0m \u001B[0my\u001B[0m\u001B[1;33m)\u001B[0m\u001B[1;33m\u001B[0m\u001B[1;33m\u001B[0m\u001B[0m\n\u001B[0m\u001B[0;32m      2\u001B[0m \u001B[1;33m\u001B[0m\u001B[0m\n",
      "\u001B[1;31mNameError\u001B[0m: name 'multi_class' is not defined"
     ]
    }
   ],
   "source": [
    "clf = LogisticRegression(solver='sag', max_iter=100, random_state=42, multi_class=multi_class).fit(X, y)"
   ],
   "metadata": {
    "collapsed": false,
    "pycharm": {
     "name": "#%%\n"
    }
   }
  },
  {
   "cell_type": "code",
   "execution_count": null,
   "outputs": [],
   "source": [
    "print\n",
    "clf.coef_\n",
    "print\n",
    "clf.intercept_\n"
   ],
   "metadata": {
    "collapsed": false,
    "pycharm": {
     "name": "#%%\n"
    }
   }
  }
 ],
 "metadata": {
  "kernelspec": {
   "name": "pycharm-a57ffa67",
   "language": "python",
   "display_name": "PyCharm (yalin-scikit-learn)"
  },
  "language_info": {
   "codemirror_mode": {
    "name": "ipython",
    "version": 2
   },
   "file_extension": ".py",
   "mimetype": "text/x-python",
   "name": "python",
   "nbconvert_exporter": "python",
   "pygments_lexer": "ipython2",
   "version": "2.7.6"
  }
 },
 "nbformat": 4,
 "nbformat_minor": 0
}