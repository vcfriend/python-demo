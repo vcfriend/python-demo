{
 "cells": [
  {
   "cell_type": "code",
   "execution_count": 14,
   "metadata": {
    "collapsed": true
   },
   "outputs": [],
   "source": [
    "# coding: utf-8"
   ]
  },
  {
   "cell_type": "code",
   "execution_count": 15,
   "outputs": [
    {
     "data": {
      "text/plain": "     year  month   day  weight  flag station    co2\n0  1958.0    3.0  29.0     4.0   0.0     MLO  316.1\n1  1958.0    4.0   5.0     6.0   0.0     MLO  317.3\n2  1958.0    4.0  12.0     4.0   0.0     MLO  317.6\n3  1958.0    4.0  19.0     6.0   0.0     MLO  317.5\n4  1958.0    4.0  26.0     2.0   0.0     MLO  316.4",
      "text/html": "<div>\n<style scoped>\n    .dataframe tbody tr th:only-of-type {\n        vertical-align: middle;\n    }\n\n    .dataframe tbody tr th {\n        vertical-align: top;\n    }\n\n    .dataframe thead th {\n        text-align: right;\n    }\n</style>\n<table border=\"1\" class=\"dataframe\">\n  <thead>\n    <tr style=\"text-align: right;\">\n      <th></th>\n      <th>year</th>\n      <th>month</th>\n      <th>day</th>\n      <th>weight</th>\n      <th>flag</th>\n      <th>station</th>\n      <th>co2</th>\n    </tr>\n  </thead>\n  <tbody>\n    <tr>\n      <th>0</th>\n      <td>1958.0</td>\n      <td>3.0</td>\n      <td>29.0</td>\n      <td>4.0</td>\n      <td>0.0</td>\n      <td>MLO</td>\n      <td>316.1</td>\n    </tr>\n    <tr>\n      <th>1</th>\n      <td>1958.0</td>\n      <td>4.0</td>\n      <td>5.0</td>\n      <td>6.0</td>\n      <td>0.0</td>\n      <td>MLO</td>\n      <td>317.3</td>\n    </tr>\n    <tr>\n      <th>2</th>\n      <td>1958.0</td>\n      <td>4.0</td>\n      <td>12.0</td>\n      <td>4.0</td>\n      <td>0.0</td>\n      <td>MLO</td>\n      <td>317.6</td>\n    </tr>\n    <tr>\n      <th>3</th>\n      <td>1958.0</td>\n      <td>4.0</td>\n      <td>19.0</td>\n      <td>6.0</td>\n      <td>0.0</td>\n      <td>MLO</td>\n      <td>317.5</td>\n    </tr>\n    <tr>\n      <th>4</th>\n      <td>1958.0</td>\n      <td>4.0</td>\n      <td>26.0</td>\n      <td>2.0</td>\n      <td>0.0</td>\n      <td>MLO</td>\n      <td>316.4</td>\n    </tr>\n  </tbody>\n</table>\n</div>"
     },
     "execution_count": 15,
     "metadata": {},
     "output_type": "execute_result"
    }
   ],
   "source": [
    "# Build the dataset\n",
    "# -----------------\n",
    "#\n",
    "# We will derive a dataset from the Mauna Loa Observatory that collected air\n",
    "# samples. We are interested in estimating the concentration of CO2 and\n",
    "# extrapolate it for futher year. First, we load the original dataset available\n",
    "# in OpenML.\n",
    "from sklearn.datasets import fetch_openml\n",
    "\n",
    "co2 = fetch_openml(data_id=41187, as_frame=True)\n",
    "co2.frame.head()"
   ],
   "metadata": {
    "collapsed": false,
    "pycharm": {
     "name": "#%%\n"
    }
   }
  },
  {
   "cell_type": "code",
   "execution_count": 16,
   "outputs": [
    {
     "data": {
      "text/plain": "              co2\ndate             \n1958-03-29  316.1\n1958-04-05  317.3\n1958-04-12  317.6\n1958-04-19  317.5\n1958-04-26  316.4",
      "text/html": "<div>\n<style scoped>\n    .dataframe tbody tr th:only-of-type {\n        vertical-align: middle;\n    }\n\n    .dataframe tbody tr th {\n        vertical-align: top;\n    }\n\n    .dataframe thead th {\n        text-align: right;\n    }\n</style>\n<table border=\"1\" class=\"dataframe\">\n  <thead>\n    <tr style=\"text-align: right;\">\n      <th></th>\n      <th>co2</th>\n    </tr>\n    <tr>\n      <th>date</th>\n      <th></th>\n    </tr>\n  </thead>\n  <tbody>\n    <tr>\n      <th>1958-03-29</th>\n      <td>316.1</td>\n    </tr>\n    <tr>\n      <th>1958-04-05</th>\n      <td>317.3</td>\n    </tr>\n    <tr>\n      <th>1958-04-12</th>\n      <td>317.6</td>\n    </tr>\n    <tr>\n      <th>1958-04-19</th>\n      <td>317.5</td>\n    </tr>\n    <tr>\n      <th>1958-04-26</th>\n      <td>316.4</td>\n    </tr>\n  </tbody>\n</table>\n</div>"
     },
     "execution_count": 16,
     "metadata": {},
     "output_type": "execute_result"
    }
   ],
   "source": [
    "# First, we process the original dataframe to create a date index and select\n",
    "# only the CO2 column.\n",
    "import pandas as pd\n",
    "\n",
    "co2_data = co2.frame\n",
    "co2_data[\"date\"] = pd.to_datetime(co2_data[[\"year\", \"month\", \"day\"]])\n",
    "co2_data = co2_data[[\"date\", \"co2\"]].set_index(\"date\")\n",
    "co2_data.head()"
   ],
   "metadata": {
    "collapsed": false,
    "pycharm": {
     "name": "#%%\n"
    }
   }
  },
  {
   "cell_type": "code",
   "execution_count": 17,
   "outputs": [],
   "source": [
    "import numpy as np\n",
    "import matplotlib.pyplot as plt\n",
    "\n",
    "from sklearn.gaussian_process import GaussianProcessClassifier\n",
    "from sklearn.gaussian_process.kernels import RBF, DotProduct"
   ],
   "metadata": {
    "collapsed": false,
    "pycharm": {
     "name": "#%%\n"
    }
   }
  },
  {
   "cell_type": "code",
   "execution_count": 18,
   "outputs": [
    {
     "data": {
      "text/plain": "(Timestamp('1958-03-29 00:00:00'), Timestamp('2001-12-29 00:00:00'))"
     },
     "execution_count": 18,
     "metadata": {},
     "output_type": "execute_result"
    }
   ],
   "source": [
    "co2_data.index.min(), co2_data.index.max()"
   ],
   "metadata": {
    "collapsed": false,
    "pycharm": {
     "name": "#%%\n"
    }
   }
  },
  {
   "cell_type": "code",
   "execution_count": 19,
   "outputs": [
    {
     "data": {
      "text/plain": "<Figure size 432x288 with 1 Axes>",
      "image/png": "[encoded data removed]"
     },
     "metadata": {
      "needs_background": "light"
     },
     "output_type": "display_data"
    }
   ],
   "source": [
    "# We see that we get CO2 concentration for some days from March, 1958 to\n",
    "# December, 2001. We can plot these raw information to have a better\n",
    "# understanding.\n",
    "import matplotlib.pyplot as plt\n",
    "\n",
    "co2_data.plot()\n",
    "plt.ylabel(\"CO$_2$ concentration (ppm)\")\n",
    "_ = plt.title(\"Raw air samples measurements from the Mauna Loa Observatory\")"
   ],
   "metadata": {
    "collapsed": false,
    "pycharm": {
     "name": "#%%\n"
    }
   }
  },
  {
   "cell_type": "code",
   "execution_count": 20,
   "outputs": [],
   "source": [
    "# The idea in this example will be to predict the CO2 concentration in function\n",
    "# of the date. We are as well interested in extrapolating for upcoming year\n",
    "# after 2001.\n",
    "#\n",
    "# As a first step, we will divide the data and the target to estimate. The data\n",
    "# being a date, we will convert it into a numeric.\n",
    "X = (co2_data.index.year + co2_data.index.month / 12).to_numpy().reshape(-1, 1)\n",
    "y = co2_data[\"co2\"].to_numpy()"
   ],
   "metadata": {
    "collapsed": false,
    "pycharm": {
     "name": "#%%\n"
    }
   }
  },
  {
   "cell_type": "code",
   "execution_count": 21,
   "outputs": [],
   "source": [
    "# Design the proper kernel\n",
    "# ------------------------\n",
    "#\n",
    "# To design the kernel to use with our Gaussian process, we can make some\n",
    "# assumption regarding the data at hand. We observe that they have several\n",
    "# characteristics: we see a long term rising trend, a pronounced seasonal\n",
    "# variation and some smaller irregularities. We can use different appropriate\n",
    "# kernel that would capture these features.\n",
    "#\n",
    "# First, the long term rising trend could be fitted using a radial basis\n",
    "# function (RBF) kernel with a large length-scale parameter. The RBF kernel\n",
    "# with a large length-scale enforces this component to be smooth. An trending\n",
    "# increase is not enforced as to give a degree of freedom to our model. The\n",
    "# specific length-scale and the amplitude are free hyperparameters.\n",
    "from sklearn.gaussian_process.kernels import RBF\n",
    "\n",
    "long_term_trend_kernel = 50.0 ** 2 * RBF(length_scale=50.0)"
   ],
   "metadata": {
    "collapsed": false,
    "pycharm": {
     "name": "#%%\n"
    }
   }
  },
  {
   "cell_type": "code",
   "execution_count": 22,
   "outputs": [],
   "source": [
    "# The seasonal variation is explained by the periodic exponential sine squared\n",
    "# kernel with a fixed periodicity of 1 year. The length-scale of this periodic\n",
    "# component, controlling its smoothness, is a free parameter. In order to allow\n",
    "# decaying away from exact periodicity, the product with an RBF kernel is\n",
    "# taken. The length-scale of this RBF component controls the decay time and is\n",
    "# a further free parameter. This type of kernel is also known as locally\n",
    "# periodic kernel.\n",
    "from sklearn.gaussian_process.kernels import ExpSineSquared\n",
    "\n",
    "seasonal_kernel = (\n",
    "    2.0 ** 2\n",
    "    * RBF(length_scale=100.0)\n",
    "    * ExpSineSquared(length_scale=1.0, periodicity=1.0, periodicity_bounds=\"fixed\")\n",
    ")"
   ],
   "metadata": {
    "collapsed": false,
    "pycharm": {
     "name": "#%%\n"
    }
   }
  },
  {
   "cell_type": "code",
   "execution_count": 23,
   "outputs": [],
   "source": [
    "# The small irregularities are to be explained by a rational quadratic kernel\n",
    "# component, whose length-scale and alpha parameter, which quantifies the\n",
    "# diffuseness of the length-scales, are to be determined. A rational quadratic\n",
    "# kernel is equivalent to an RBF kernel with several length-scale and will\n",
    "# better accommodate the different irregularities.\n",
    "from sklearn.gaussian_process.kernels import RationalQuadratic\n",
    "\n",
    "irregularities_kernel = 0.5 ** 2 * RationalQuadratic(length_scale=1.0, alpha=1.0)"
   ],
   "metadata": {
    "collapsed": false,
    "pycharm": {
     "name": "#%%\n"
    }
   }
  },
  {
   "cell_type": "code",
   "execution_count": 24,
   "outputs": [],
   "source": [
    "# Finally, the noise in the dataset can be accounted with a kernel consisting\n",
    "# of an RBF kernel contribution, which shall explain the correlated noise\n",
    "# components such as local weather phenomena, and a white kernel contribution\n",
    "# for the white noise. The relative amplitudes and the RBF's length scale are\n",
    "# further free parameters.\n",
    "from sklearn.gaussian_process.kernels import WhiteKernel\n",
    "\n",
    "noise_kernel = 0.1 ** 2 * RBF(length_scale=0.1) + WhiteKernel(\n",
    "    noise_level=0.1 ** 2, noise_level_bounds=(1e-5, 1e5)\n",
    ")"
   ],
   "metadata": {
    "collapsed": false,
    "pycharm": {
     "name": "#%%\n"
    }
   }
  },
  {
   "cell_type": "code",
   "execution_count": 25,
   "outputs": [
    {
     "data": {
      "text/plain": "50**2 * RBF(length_scale=50) + 2**2 * RBF(length_scale=100) * ExpSineSquared(length_scale=1, periodicity=1) + 0.5**2 * RationalQuadratic(alpha=1, length_scale=1) + 0.1**2 * RBF(length_scale=0.1) + WhiteKernel(noise_level=0.01)"
     },
     "execution_count": 25,
     "metadata": {},
     "output_type": "execute_result"
    }
   ],
   "source": [
    "# Thus, our final kernel is an addition of all previous kernel.\n",
    "co2_kernel = (\n",
    "    long_term_trend_kernel + seasonal_kernel + irregularities_kernel + noise_kernel\n",
    ")\n",
    "co2_kernel"
   ],
   "metadata": {
    "collapsed": false,
    "pycharm": {
     "name": "#%%\n"
    }
   }
  },
  {
   "cell_type": "code",
   "execution_count": 26,
   "outputs": [
    {
     "name": "stderr",
     "output_type": "stream",
     "text": [
      "C:\\ProgramData\\Anaconda3\\envs\\py39\\lib\\site-packages\\sklearn\\gaussian_process\\kernels.py:420: ConvergenceWarning: The optimal value found for dimension 0 of parameter k1__k1__k2__k1__k1__constant_value is close to the specified lower bound 1e-05. Decreasing the bound and calling fit again may find a better value.\n",
      "  warnings.warn(\n",
      "C:\\ProgramData\\Anaconda3\\envs\\py39\\lib\\site-packages\\sklearn\\gaussian_process\\kernels.py:420: ConvergenceWarning: The optimal value found for dimension 0 of parameter k1__k1__k2__k1__k2__length_scale is close to the specified lower bound 1e-05. Decreasing the bound and calling fit again may find a better value.\n",
      "  warnings.warn(\n",
      "C:\\ProgramData\\Anaconda3\\envs\\py39\\lib\\site-packages\\sklearn\\gaussian_process\\kernels.py:420: ConvergenceWarning: The optimal value found for dimension 0 of parameter k1__k1__k2__k2__length_scale is close to the specified lower bound 1e-05. Decreasing the bound and calling fit again may find a better value.\n",
      "  warnings.warn(\n",
      "C:\\ProgramData\\Anaconda3\\envs\\py39\\lib\\site-packages\\sklearn\\gaussian_process\\kernels.py:430: ConvergenceWarning: The optimal value found for dimension 0 of parameter k1__k2__k2__alpha is close to the specified upper bound 100000.0. Increasing the bound and calling fit again may find a better value.\n",
      "  warnings.warn(\n",
      "C:\\ProgramData\\Anaconda3\\envs\\py39\\lib\\site-packages\\sklearn\\gaussian_process\\kernels.py:420: ConvergenceWarning: The optimal value found for dimension 0 of parameter k2__k1__k1__constant_value is close to the specified lower bound 1e-05. Decreasing the bound and calling fit again may find a better value.\n",
      "  warnings.warn(\n",
      "C:\\ProgramData\\Anaconda3\\envs\\py39\\lib\\site-packages\\sklearn\\gaussian_process\\kernels.py:420: ConvergenceWarning: The optimal value found for dimension 0 of parameter k2__k1__k2__length_scale is close to the specified lower bound 1e-05. Decreasing the bound and calling fit again may find a better value.\n",
      "  warnings.warn(\n"
     ]
    },
    {
     "data": {
      "text/plain": "GaussianProcessRegressor(kernel=50**2 * RBF(length_scale=50) + 2**2 * RBF(length_scale=100) * ExpSineSquared(length_scale=1, periodicity=1) + 0.5**2 * RationalQuadratic(alpha=1, length_scale=1) + 0.1**2 * RBF(length_scale=0.1) + WhiteKernel(noise_level=0.01))"
     },
     "execution_count": 26,
     "metadata": {},
     "output_type": "execute_result"
    }
   ],
   "source": [
    "# Model fitting and extrapolation\n",
    "# -------------------------------\n",
    "#\n",
    "# Now, we are ready to use a Gaussian process regressor and fit the available\n",
    "# data. To follow the example from the literature, we will subtract the mean\n",
    "# from the target. We could have used `normalize_y=True`. However, doing so\n",
    "# would have also scaled the target (dividing `y` by its standard deviation).\n",
    "# Thus, the hyperparameters of the different kernel would have had different\n",
    "# meaning since they would not have been expressed in ppm.\n",
    "from sklearn.gaussian_process import GaussianProcessRegressor\n",
    "\n",
    "y_mean = y.mean()\n",
    "gaussian_process = GaussianProcessRegressor(kernel=co2_kernel, normalize_y=False)\n",
    "gaussian_process.fit(X, y - y_mean)"
   ],
   "metadata": {
    "collapsed": false,
    "pycharm": {
     "name": "#%%\n"
    }
   }
  },
  {
   "cell_type": "code",
   "execution_count": 27,
   "outputs": [],
   "source": [
    "# Now, we will use the Gaussian process to predict on:\n",
    "#\n",
    "# - training data to inspect the goodness of fit;\n",
    "# - future data to see the extrapolation done by the model.\n",
    "#\n",
    "# Thus, we create synthetic data from 1958 to the current month. In addition,\n",
    "# we need to add the subtracted mean computed during training.\n",
    "import datetime\n",
    "import numpy as np\n",
    "\n",
    "today = datetime.datetime.now()\n",
    "current_month = today.year + today.month / 12\n",
    "X_test = np.linspace(start=1958, stop=current_month, num=1_000).reshape(-1, 1)\n",
    "mean_y_pred, std_y_pred = gaussian_process.predict(X_test, return_std=True)\n",
    "mean_y_pred += y_mean"
   ],
   "metadata": {
    "collapsed": false,
    "pycharm": {
     "name": "#%%\n"
    }
   }
  },
  {
   "cell_type": "code",
   "execution_count": 28,
   "outputs": [
    {
     "data": {
      "text/plain": "<Figure size 432x288 with 1 Axes>",
      "image/png": "[encoded data removed]"
     },
     "metadata": {
      "needs_background": "light"
     },
     "output_type": "display_data"
    }
   ],
   "source": [
    "plt.plot(X, y, color=\"black\", linestyle=\"dashed\", label=\"Measurements\")\n",
    "plt.plot(X_test, mean_y_pred, color=\"tab:blue\", alpha=0.4, label=\"Gaussian process\")\n",
    "plt.fill_between(\n",
    "    X_test.ravel(),\n",
    "    mean_y_pred - std_y_pred,\n",
    "    mean_y_pred + std_y_pred,\n",
    "    color=\"tab:blue\",\n",
    "    alpha=0.2,\n",
    ")\n",
    "plt.legend()\n",
    "plt.xlabel(\"Year\")\n",
    "plt.ylabel(\"Monthly average of CO$_2$ concentration (ppm)\")\n",
    "_ = plt.title(\n",
    "    \"Monthly average of air samples measurements\\nfrom the Mauna Loa Observatory\"\n",
    ")"
   ],
   "metadata": {
    "collapsed": false,
    "pycharm": {
     "name": "#%%\n"
    }
   }
  },
  {
   "cell_type": "code",
   "execution_count": 29,
   "outputs": [
    {
     "data": {
      "text/plain": "41.2**2 * RBF(length_scale=46.9) + 0.00316**2 * RBF(length_scale=1e-05) * ExpSineSquared(length_scale=1e-05, periodicity=1) + 2.42**2 * RationalQuadratic(alpha=1e+05, length_scale=0.199) + 0.00316**2 * RBF(length_scale=1e-05) + WhiteKernel(noise_level=0.244)"
     },
     "execution_count": 29,
     "metadata": {},
     "output_type": "execute_result"
    }
   ],
   "source": [
    "# Our fitted model is capable to fit previous data properly and extrapolate to\n",
    "# future year with confidence.\n",
    "#\n",
    "# Interpretation of kernel hyperparameters\n",
    "# ----------------------------------------\n",
    "#\n",
    "# Now, we can have a look at the hyperparameters of the kernel.\n",
    "gaussian_process.kernel_"
   ],
   "metadata": {
    "collapsed": false,
    "pycharm": {
     "name": "#%%\n"
    }
   }
  },
  {
   "cell_type": "code",
   "execution_count": 30,
   "outputs": [],
   "source": [
    "# Thus, most of the target signal, with the mean substracted, is explained by a\n",
    "# long-term rising trend for ~45 ppm and a length-scale of ~52 years. The\n",
    "# periodic component has an amplitude of ~2.6ppm, a decay time of ~90 years and\n",
    "# a length-scale of ~1.5. The long decay time indicates that we have a\n",
    "# component very close to a seasonal periodicity. The correlated noise has an\n",
    "# amplitude of ~0.2 ppm with a length scale of ~0.12 years and a white-noise\n",
    "# contribution of ~0.04 ppm. Thus, the overall noise level is very small,\n",
    "# indicating that the data can be very well explained by the model.\n"
   ],
   "metadata": {
    "collapsed": false,
    "pycharm": {
     "name": "#%%\n"
    }
   }
  }
 ],
 "metadata": {
  "kernelspec": {
   "name": "pycharm-a57ffa67",
   "language": "python",
   "display_name": "PyCharm (yalin-scikit-learn)"
  },
  "language_info": {
   "codemirror_mode": {
    "name": "ipython",
    "version": 2
   },
   "file_extension": ".py",
   "mimetype": "text/x-python",
   "name": "python",
   "nbconvert_exporter": "python",
   "pygments_lexer": "ipython2",
   "version": "2.7.6"
  }
 },
 "nbformat": 4,
 "nbformat_minor": 0
}