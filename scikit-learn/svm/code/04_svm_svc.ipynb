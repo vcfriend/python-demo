{
 "cells": [
  {
   "cell_type": "code",
   "execution_count": 74,
   "metadata": {
    "collapsed": true
   },
   "outputs": [],
   "source": [
    "%matplotlib inline\n",
    "\n",
    "import numpy as np\n",
    "from sklearn.svm import SVC\n",
    "import matplotlib.pyplot as plt\n"
   ]
  },
  {
   "cell_type": "code",
   "execution_count": 75,
   "outputs": [
    {
     "name": "stdout",
     "output_type": "stream",
     "text": [
      "X=  [[-188.14564136]\n",
      " [ -28.9644918 ]\n",
      " [  94.75089242]\n",
      " [ -87.28168828]\n",
      " [ -43.17584575]]\n",
      "Y=  [[-1.]\n",
      " [-1.]\n",
      " [ 1.]\n",
      " [-1.]\n",
      " [-1.]]\n"
     ]
    }
   ],
   "source": [
    "# 生成均值为 mu，标准偏差为 sigma, 元素个数 size, 服从正态分布的一维数组\n",
    "mu, sigma, size = 20, 100, 1000  # mean and standard deviation\n",
    "x1 = np.random.normal(mu, sigma, size)\n",
    "\n",
    "\n",
    "X = (x1).reshape(-1,1)  # 生成自变量X\n",
    "Y = np.array(X)  # 生成因变量Y\n",
    "Y[Y > 0] = 1\n",
    "Y[Y < 0] = -1\n",
    "\n",
    "\n",
    "print('X= ', X[:5])\n",
    "print('Y= ', Y[:5])"
   ],
   "metadata": {
    "collapsed": false,
    "pycharm": {
     "name": "#%%\n"
    }
   }
  },
  {
   "cell_type": "code",
   "execution_count": 76,
   "outputs": [
    {
     "name": "stdout",
     "output_type": "stream",
     "text": [
      "(1000, 1) 2\n",
      "(1000, 1) 2\n"
     ]
    }
   ],
   "source": [
    "print(X.shape, X.ndim)\n",
    "print(Y.shape, Y.ndim)"
   ],
   "metadata": {
    "collapsed": false,
    "pycharm": {
     "name": "#%%\n"
    }
   }
  },
  {
   "cell_type": "code",
   "execution_count": 77,
   "outputs": [],
   "source": [
    "#将数据划分为训练集和验证集\n",
    "from sklearn.model_selection import train_test_split\n",
    "\n",
    "x_train, x_test, y_train, y_test = train_test_split(X, Y, random_state=1)"
   ],
   "metadata": {
    "collapsed": false,
    "pycharm": {
     "name": "#%%\n"
    }
   }
  },
  {
   "cell_type": "code",
   "execution_count": 78,
   "outputs": [],
   "source": [
    "\n",
    "## 混淆测试集目标类别的 指定概率50%的错误\n",
    "err = y_train\n",
    "for i in range(int(len(err) * 0.5)):\n",
    "    index = int(np.random.randint(len(err)))\n",
    "    err[index] = 0 if err[index] == 1 else 1"
   ],
   "metadata": {
    "collapsed": false,
    "pycharm": {
     "name": "#%%\n"
    }
   }
  },
  {
   "cell_type": "code",
   "execution_count": 79,
   "outputs": [
    {
     "name": "stdout",
     "output_type": "stream",
     "text": [
      "535 569\n"
     ]
    }
   ],
   "source": [
    "# 查看测试集是否与未混淆后不同\n",
    "print(np.sum(y_train>0)+np.sum(y_test>0), np.sum(Y>0))"
   ],
   "metadata": {
    "collapsed": false,
    "pycharm": {
     "name": "#%%\n"
    }
   }
  },
  {
   "cell_type": "code",
   "execution_count": 80,
   "outputs": [],
   "source": [
    "# 3. 特征工程（标准化）\n",
    "from sklearn.preprocessing import StandardScaler\n",
    "\n",
    "standardScaler = StandardScaler()\n",
    "\n",
    "# 测试集 计算平均值和标准偏差 缩放特征集\n",
    "x_train_stand = standardScaler.fit_transform(x_train)\n",
    "x_test_stand = standardScaler.transform(x_test)\n"
   ],
   "metadata": {
    "collapsed": false,
    "pycharm": {
     "name": "#%%\n"
    }
   }
  },
  {
   "cell_type": "code",
   "execution_count": 80,
   "outputs": [],
   "source": [],
   "metadata": {
    "collapsed": false,
    "pycharm": {
     "name": "#%%\n"
    }
   }
  },
  {
   "cell_type": "code",
   "execution_count": 81,
   "outputs": [],
   "source": [
    "# Fit regression model\n",
    "svc_rbf = SVC(kernel=\"rbf\", C=10, gamma=1)\n",
    "svc_lin = SVC(kernel=\"linear\", C=10, gamma=\"auto\")\n",
    "svc_poly = SVC(kernel=\"poly\", C=10, gamma=\"auto\", degree=3, coef0=1)\n"
   ],
   "metadata": {
    "collapsed": false,
    "pycharm": {
     "name": "#%%\n"
    }
   }
  },
  {
   "cell_type": "code",
   "execution_count": 82,
   "outputs": [
    {
     "name": "stdout",
     "output_type": "stream",
     "text": [
      "ix=0, svcs=SVC(C=10, gamma=1)\n",
      "估计器的参数: {'C': 10, 'break_ties': False, 'cache_size': 200, 'class_weight': None, 'coef0': 0.0, 'decision_function_shape': 'ovr', 'degree': 3, 'gamma': 1, 'kernel': 'rbf', 'max_iter': -1, 'probability': False, 'random_state': None, 'shrinking': True, 'tol': 0.001, 'verbose': False}\n",
      "训练集R2评分: 0.5386666666666666 \n",
      "测试集R2评分: 0.844 \n",
      "ix=1, svcs=SVC(C=10, gamma='auto', kernel='linear')\n",
      "估计器的参数: {'C': 10, 'break_ties': False, 'cache_size': 200, 'class_weight': None, 'coef0': 0.0, 'decision_function_shape': 'ovr', 'degree': 3, 'gamma': 'auto', 'kernel': 'linear', 'max_iter': -1, 'probability': False, 'random_state': None, 'shrinking': True, 'tol': 0.001, 'verbose': False}\n",
      "训练集R2评分: 0.524 \n",
      "测试集R2评分: 0.568 \n",
      "ix=2, svcs=SVC(C=10, coef0=1, gamma='auto', kernel='poly')\n",
      "估计器的参数: {'C': 10, 'break_ties': False, 'cache_size': 200, 'class_weight': None, 'coef0': 1, 'decision_function_shape': 'ovr', 'degree': 3, 'gamma': 'auto', 'kernel': 'poly', 'max_iter': -1, 'probability': False, 'random_state': None, 'shrinking': True, 'tol': 0.001, 'verbose': False}\n",
      "训练集R2评分: 0.544 \n",
      "测试集R2评分: 0.864 \n"
     ]
    }
   ],
   "source": [
    "svcs = [svc_rbf, svc_lin, svc_poly]\n",
    "kernel_label = [\"rbf\", \"linear\", \"poly\"]\n",
    "for ix, svc in enumerate(svcs):\n",
    "    performance = svc.fit(x_train_stand, y_train.ravel())\n",
    "    # 获取预测值\n",
    "    y_test_pred = performance.predict(x_test_stand)\n",
    "    # 显示估计器\n",
    "    print(f'ix=%s, svcs=%s' %(ix, svcs[ix]))\n",
    "    # 获取这个估计器的参数\n",
    "    print(f'估计器的参数: %s' %(svc.get_params()))\n",
    "    # https://blog.csdn.net/gracejpw/article/details/101546293\n",
    "    # 返回预测的决定系数R^2\n",
    "    # R^2越接近于1，模型的拟合优度越高。\n",
    "    print(f'训练集R2评分: %s ' %(performance.score(x_train_stand, y_train)))\n",
    "    print(f'测试集R2评分: %s ' %(svc.score(x_test_stand, y_test)))\n"
   ],
   "metadata": {
    "collapsed": false,
    "pycharm": {
     "name": "#%%\n"
    }
   }
  },
  {
   "cell_type": "code",
   "execution_count": 83,
   "outputs": [
    {
     "name": "stdout",
     "output_type": "stream",
     "text": [
      "standardScaler.mean_ [20.10052062]\n",
      "standardScaler.var_ [10329.22301094]\n",
      "x_train.var 10329.22301094064\n",
      "x_train.std 101.63278511848742\n",
      "x_train_stand= [[-1.18024471]\n",
      " [ 0.54903546]\n",
      " [ 2.13507039]\n",
      " [-1.41978559]\n",
      " [-0.5672593 ]\n",
      " [ 0.49450766]\n",
      " [ 0.03602177]\n",
      " [ 0.82964678]\n",
      " [ 0.05825926]\n",
      " [ 1.81281681]]\n",
      "x_test_stand= [[ 1.15036027]\n",
      " [-0.24633819]\n",
      " [-0.80470256]\n",
      " [-0.29210802]\n",
      " [ 1.58438002]\n",
      " [-0.62165956]\n",
      " [ 0.96609932]\n",
      " [-1.58585796]\n",
      " [ 0.94781013]\n",
      " [ 0.60233879]]\n",
      "y_train= [[-1.]\n",
      " [ 0.]\n",
      " [ 1.]\n",
      " [-1.]\n",
      " [-1.]\n",
      " [ 0.]\n",
      " [ 1.]\n",
      " [ 1.]\n",
      " [ 1.]\n",
      " [ 1.]]\n",
      "y_test= [[ 1.]\n",
      " [-1.]\n",
      " [-1.]\n",
      " [-1.]\n",
      " [ 1.]\n",
      " [-1.]\n",
      " [ 1.]\n",
      " [-1.]\n",
      " [ 1.]\n",
      " [ 1.]]\n"
     ]
    }
   ],
   "source": [
    "print('standardScaler.mean_', standardScaler.mean_)  #均值\n",
    "print('standardScaler.var_', standardScaler.var_)  #方差\n",
    "print('x_train.var', np.var(x_train))  #方差\n",
    "print('x_train.std', np.std(x_train))  #标准差\n",
    "print('x_train_stand=', x_train_stand[:10])\n",
    "print('x_test_stand=', x_test_stand[:10])\n",
    "print('y_train=', y_train[:10])\n",
    "print('y_test=', y_test[:10])"
   ],
   "metadata": {
    "collapsed": false,
    "pycharm": {
     "name": "#%%\n"
    }
   }
  }
 ],
 "metadata": {
  "kernelspec": {
   "name": "pycharm-50a0962a",
   "language": "python",
   "display_name": "PyCharm (python-demo)"
  },
  "language_info": {
   "codemirror_mode": {
    "name": "ipython",
    "version": 2
   },
   "file_extension": ".py",
   "mimetype": "text/x-python",
   "name": "python",
   "nbconvert_exporter": "python",
   "pygments_lexer": "ipython2",
   "version": "2.7.6"
  }
 },
 "nbformat": 4,
 "nbformat_minor": 0
}