{
 "cells": [
  {
   "cell_type": "code",
   "execution_count": null,
   "metadata": {
    "collapsed": true
   },
   "outputs": [],
   "source": [
    "import numpy as np"
   ]
  },
  {
   "cell_type": "code",
   "execution_count": null,
   "outputs": [],
   "source": [
    "# 回归分析中的自变量取值\n",
    "# 指定由50%的概率生成-1，50%的概率生成1的随机数生成器生成一个值\n",
    "dir = np.random.choice([-1, 1], p=[0.7, 0.3])\n",
    "# 回归分析中的因变量取值\n",
    "# 指定系统概率发生器 p[40%,30%,20%,10%] 生成指定范围内的值[10,20,50,10]\n",
    "value = np.random.choice([10, 20, 50, 100], p=[0.4, 0.3, 0.2, 0.1])"
   ],
   "metadata": {
    "collapsed": false,
    "pycharm": {
     "name": "#%%\n"
    }
   }
  },
  {
   "cell_type": "code",
   "execution_count": null,
   "outputs": [],
   "source": [
    "def create():\n",
    "    sum = 0\n",
    "    for i in range(1000):\n",
    "        dir = np.random.choice([-1, 1], p=[0.5, 0.5])\n",
    "        value = np.random.choice([10, 20, 50, 100], p=[0.4, 0.3, 0.2, 0.1])\n",
    "        sum += dir * value\n",
    "        # print(f'sum= %s, dir0=%s,vars=%s' % (sum, dir0, value))\n",
    "    return sum\n",
    "\n",
    "\n",
    "sum = 0\n",
    "for i in range(100):\n",
    "    sum += create()\n",
    "    print(f'sum=%s' % (sum))\n"
   ],
   "metadata": {
    "collapsed": false,
    "pycharm": {
     "name": "#%%\n"
    }
   }
  }
 ],
 "metadata": {
  "kernelspec": {
   "name": "pycharm-50a0962a",
   "language": "python",
   "display_name": "PyCharm (python-demo)"
  },
  "language_info": {
   "codemirror_mode": {
    "name": "ipython",
    "version": 2
   },
   "file_extension": ".py",
   "mimetype": "text/x-python",
   "name": "python",
   "nbconvert_exporter": "python",
   "pygments_lexer": "ipython2",
   "version": "2.7.6"
  }
 },
 "nbformat": 4,
 "nbformat_minor": 0
}