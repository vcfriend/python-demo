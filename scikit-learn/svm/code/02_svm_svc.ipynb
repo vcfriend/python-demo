{
 "cells": [
  {
   "cell_type": "code",
   "execution_count": 84,
   "metadata": {
    "collapsed": true
   },
   "outputs": [],
   "source": [
    "%matplotlib inline\n",
    "\n",
    "import numpy as np\n",
    "from sklearn.svm import SVC\n",
    "import matplotlib.pyplot as plt\n"
   ]
  },
  {
   "cell_type": "code",
   "execution_count": 85,
   "outputs": [
    {
     "name": "stdout",
     "output_type": "stream",
     "text": [
      "X=  [[-137.50485704]\n",
      " [-109.53275494]\n",
      " [ 146.74728725]\n",
      " [ -91.9201237 ]\n",
      " [  -2.99522878]\n",
      " [-215.11375504]\n",
      " [ -26.96995871]\n",
      " [ -47.45457824]\n",
      " [-138.90452176]\n",
      " [ -49.90438391]]\n",
      "y=  [-1  1  1  1 -1 -1 -1  1 -1 -1]\n",
      "X=  [[-137.50485704]\n",
      " [-109.53275494]\n",
      " [ 146.74728725]\n",
      " [ -91.9201237 ]\n",
      " [  -2.99522878]\n",
      " [-215.11375504]\n",
      " [ -26.96995871]\n",
      " [ -47.45457824]\n",
      " [-138.90452176]\n",
      " [ -49.90438391]]\n",
      "Y=  [[-1]\n",
      " [ 1]\n",
      " [ 1]\n",
      " [ 1]\n",
      " [-1]\n",
      " [-1]\n",
      " [-1]\n",
      " [ 1]\n",
      " [-1]\n",
      " [-1]]\n"
     ]
    }
   ],
   "source": [
    "# 生成均值为 mu，标准偏差为 sigma, 元素个数 size, 服从正态分布的一维数组\n",
    "mu, sigma, size = 20, 100, 1000  # mean and standard deviation\n",
    "x1 = np.random.normal(mu, sigma, size)\n",
    "\n",
    "# 生成指定概率各50%由-1和1组成的数组\n",
    "y = np.random.choice([-1, 1], size, p=[0.5, 0.5])\n",
    "\n",
    "\n",
    "# X = np.hstack((x1.reshape(-1, 1), y.reshape(-1, 1)))  # 生成自变量X\n",
    "# Y = (x1 * y).reshape(-1, 1)  # 生成因变量Y\n",
    "\n",
    "X = (x1 * y).reshape(-1,1)  # 生成自变量X\n",
    "Y = (y).reshape(-1, 1)  # 生成因变量Y\n",
    "\n",
    "\n",
    "\n",
    "print('X= ', X[:10])\n",
    "print('y= ', y[:10])\n",
    "print('X= ', X[:10])\n",
    "print('Y= ', Y[:10])"
   ],
   "metadata": {
    "collapsed": false,
    "pycharm": {
     "name": "#%%\n"
    }
   }
  },
  {
   "cell_type": "code",
   "execution_count": 86,
   "outputs": [
    {
     "name": "stdout",
     "output_type": "stream",
     "text": [
      "(1000, 1) 2\n",
      "(1000, 1) 2\n"
     ]
    }
   ],
   "source": [
    "print(X.shape, X.ndim)\n",
    "print(Y.shape, Y.ndim)"
   ],
   "metadata": {
    "collapsed": false,
    "pycharm": {
     "name": "#%%\n"
    }
   }
  },
  {
   "cell_type": "code",
   "execution_count": 87,
   "outputs": [],
   "source": [
    "#将数据划分为训练集和验证集\n",
    "from sklearn.model_selection import train_test_split\n",
    "\n",
    "x_train, x_test, y_train, y_test = train_test_split(X, Y, random_state=1)"
   ],
   "metadata": {
    "collapsed": false,
    "pycharm": {
     "name": "#%%\n"
    }
   }
  },
  {
   "cell_type": "code",
   "execution_count": 88,
   "outputs": [
    {
     "data": {
      "text/plain": "'\\nY = np.array(X)\\nY[Y > 0] = 1\\nY[Y < 0] = -1\\n## 混淆测试集目标类别的 指定概率50%的错误\\nerr = Y\\nfor i in range(int(len(err) * 0.5)):\\n    index = int(np.random.randint(len(err)))\\n    err[index] = 0 if err[index] == 1 else 1\\n'"
     },
     "execution_count": 88,
     "metadata": {},
     "output_type": "execute_result"
    }
   ],
   "source": [
    "\"\"\"\n",
    "Y = np.array(X)\n",
    "Y[Y > 0] = 1\n",
    "Y[Y < 0] = -1\n",
    "## 混淆测试集目标类别的 指定概率50%的错误\n",
    "err = Y\n",
    "for i in range(int(len(err) * 0.5)):\n",
    "    index = int(np.random.randint(len(err)))\n",
    "    err[index] = 0 if err[index] == 1 else 1\n",
    "\"\"\""
   ],
   "metadata": {
    "collapsed": false,
    "pycharm": {
     "name": "#%%\n"
    }
   }
  },
  {
   "cell_type": "code",
   "execution_count": 89,
   "outputs": [],
   "source": [
    "# 3. 特征工程（标准化）\n",
    "from sklearn.preprocessing import StandardScaler\n",
    "\n",
    "standardScaler = StandardScaler()\n",
    "\n",
    "# 测试集 计算平均值和标准偏差 缩放特征集\n",
    "x_train_stand = standardScaler.fit_transform(x_train)\n",
    "x_test_stand = standardScaler.transform(x_test)\n"
   ],
   "metadata": {
    "collapsed": false,
    "pycharm": {
     "name": "#%%\n"
    }
   }
  },
  {
   "cell_type": "code",
   "execution_count": 90,
   "outputs": [
    {
     "name": "stdout",
     "output_type": "stream",
     "text": [
      "standardScaler.mean_ [-0.42969347]\n",
      "standardScaler.var_ [11573.9872747]\n",
      "x_train.var 11573.987274700325\n",
      "x_train.std 107.58246732019268\n",
      "x_train_stand= [[-0.31460561]\n",
      " [ 0.09224788]\n",
      " [-0.08328686]\n",
      " [ 0.45682737]\n",
      " [-0.68096151]\n",
      " [-0.68867792]\n",
      " [-0.56388494]\n",
      " [-0.31847219]\n",
      " [-0.2008313 ]\n",
      " [-0.45221431]]\n",
      "x_test_stand= [[-0.29579175]\n",
      " [ 0.39052622]\n",
      " [ 0.66507378]\n",
      " [-0.13272645]\n",
      " [-1.00369061]\n",
      " [ 0.2656619 ]\n",
      " [-2.32279548]\n",
      " [-0.33671677]\n",
      " [ 1.6359756 ]\n",
      " [ 0.13240497]]\n",
      "y_train= [[ 1]\n",
      " [-1]\n",
      " [-1]\n",
      " [-1]\n",
      " [ 1]\n",
      " [-1]\n",
      " [-1]\n",
      " [-1]\n",
      " [-1]\n",
      " [-1]]\n",
      "y_test= [[-1]\n",
      " [ 1]\n",
      " [-1]\n",
      " [-1]\n",
      " [-1]\n",
      " [-1]\n",
      " [-1]\n",
      " [-1]\n",
      " [ 1]\n",
      " [ 1]]\n"
     ]
    }
   ],
   "source": [
    "print('standardScaler.mean_', standardScaler.mean_)  #均值\n",
    "print('standardScaler.var_', standardScaler.var_)  #方差\n",
    "print('x_train.var', np.var(x_train))  #方差\n",
    "print('x_train.std', np.std(x_train))  #标准差\n",
    "print('x_train_stand=', x_train_stand[:10])\n",
    "print('x_test_stand=', x_test_stand[:10])\n",
    "print('y_train=', y_train[:10])\n",
    "print('y_test=', y_test[:10])"
   ],
   "metadata": {
    "collapsed": false,
    "pycharm": {
     "name": "#%%\n"
    }
   }
  },
  {
   "cell_type": "code",
   "execution_count": 91,
   "outputs": [],
   "source": [
    "# Fit regression model\n",
    "svc_rbf = SVC(kernel=\"rbf\", C=10, gamma=1)\n",
    "svc_lin = SVC(kernel=\"linear\", C=10, gamma=\"auto\")\n",
    "svc_poly = SVC(kernel=\"poly\", C=10, gamma=\"auto\", degree=3, coef0=1)\n"
   ],
   "metadata": {
    "collapsed": false,
    "pycharm": {
     "name": "#%%\n"
    }
   }
  },
  {
   "cell_type": "code",
   "execution_count": 92,
   "outputs": [
    {
     "name": "stdout",
     "output_type": "stream",
     "text": [
      "ix=0, svcs=SVC(C=10, gamma=1)\n",
      "估计器的参数: {'C': 10, 'break_ties': False, 'cache_size': 200, 'class_weight': None, 'coef0': 0.0, 'decision_function_shape': 'ovr', 'degree': 3, 'gamma': 1, 'kernel': 'rbf', 'max_iter': -1, 'probability': False, 'random_state': None, 'shrinking': True, 'tol': 0.001, 'verbose': False}\n",
      "训练集R2评分: 0.5946666666666667 \n",
      "测试集R2评分: 0.588 \n",
      "ix=1, svcs=SVC(C=10, gamma='auto', kernel='linear')\n",
      "估计器的参数: {'C': 10, 'break_ties': False, 'cache_size': 200, 'class_weight': None, 'coef0': 0.0, 'decision_function_shape': 'ovr', 'degree': 3, 'gamma': 'auto', 'kernel': 'linear', 'max_iter': -1, 'probability': False, 'random_state': None, 'shrinking': True, 'tol': 0.001, 'verbose': False}\n",
      "训练集R2评分: 0.6 \n",
      "测试集R2评分: 0.612 \n",
      "ix=2, svcs=SVC(C=10, coef0=1, gamma='auto', kernel='poly')\n",
      "估计器的参数: {'C': 10, 'break_ties': False, 'cache_size': 200, 'class_weight': None, 'coef0': 1, 'decision_function_shape': 'ovr', 'degree': 3, 'gamma': 'auto', 'kernel': 'poly', 'max_iter': -1, 'probability': False, 'random_state': None, 'shrinking': True, 'tol': 0.001, 'verbose': False}\n",
      "训练集R2评分: 0.6 \n",
      "测试集R2评分: 0.576 \n"
     ]
    }
   ],
   "source": [
    "svcs = [svc_rbf, svc_lin, svc_poly]\n",
    "kernel_label = [\"rbf\", \"linear\", \"poly\"]\n",
    "for ix, svc in enumerate(svcs):\n",
    "    performance = svc.fit(x_train_stand, y_train.ravel())\n",
    "    # 获取预测值\n",
    "    y_test_pred = performance.predict(x_test_stand)\n",
    "    # 显示估计器\n",
    "    print(f'ix=%s, svcs=%s' %(ix, svcs[ix]))\n",
    "    # 获取这个估计器的参数\n",
    "    print(f'估计器的参数: %s' %(svc.get_params()))\n",
    "    # https://blog.csdn.net/gracejpw/article/details/101546293\n",
    "    # 返回预测的决定系数R^2\n",
    "    # R^2越接近于1，模型的拟合优度越高。\n",
    "    print(f'训练集R2评分: %s ' %(performance.score(x_train_stand, y_train)))\n",
    "    print(f'测试集R2评分: %s ' %(svc.score(x_test_stand, y_test)))\n"
   ],
   "metadata": {
    "collapsed": false,
    "pycharm": {
     "name": "#%%\n"
    }
   }
  },
  {
   "cell_type": "code",
   "execution_count": 93,
   "outputs": [],
   "source": [
    "# # Look at the results\n",
    "# lw = 2\n",
    "#\n",
    "# svrs = [svr_rbf, svr_lin, svr_poly]\n",
    "# kernel_label = [\"rbf\", \"linear\", \"poly\"]\n",
    "# model_color = [\"m\", \"c\", \"g\"]\n",
    "#\n",
    "# fig, axes = plt.subplots(nrows=1, ncols=3, figsize=(15, 10), sharey=True)\n",
    "# for ix, svr in enumerate(svrs):\n",
    "#     axes[ix].plot(\n",
    "#         x_train_stand,\n",
    "#         svr.fit(x_train_stand, y_train).predict(x_test_stand),\n",
    "#         color=model_color[ix],\n",
    "#         lw=lw,\n",
    "#         label=\"{} model\".format(kernel_label[ix]),\n",
    "#     )\n",
    "#     axes[ix].scatter(\n",
    "#         x_train_stand[svr.support_],\n",
    "#         y_train[svr.support_],\n",
    "#         facecolor=\"none\",\n",
    "#         edgecolor=model_color[ix],\n",
    "#         s=50,\n",
    "#         label=\"{} support vectors\".format(kernel_label[ix]),\n",
    "#     )\n",
    "#     axes[ix].scatter(\n",
    "#         x_train_stand[np.setdiff1d(np.arange(len(x_train_stand)), svr.support_)],\n",
    "#         y_train[np.setdiff1d(np.arange(len(x_train_stand)), svr.support_)],\n",
    "#         facecolor=\"none\",\n",
    "#         edgecolor=\"k\",\n",
    "#         s=50,\n",
    "#         label=\"other training data\",\n",
    "#     )\n",
    "#     axes[ix].legend(\n",
    "#         loc=\"upper center\",\n",
    "#         bbox_to_anchor=(0.5, 1.1),\n",
    "#         ncol=1,\n",
    "#         fancybox=True,\n",
    "#         shadow=True,\n",
    "#     )\n",
    "#\n",
    "# fig.text(0.5, 0.04, \"data\", ha=\"center\", va=\"center\")\n",
    "# fig.text(0.06, 0.5, \"target\", ha=\"center\", va=\"center\", rotation=\"vertical\")\n",
    "# fig.suptitle(\"Support Vector Regression\", fontsize=14)\n",
    "# plt.show()"
   ],
   "metadata": {
    "collapsed": false,
    "pycharm": {
     "name": "#%%\n"
    }
   }
  },
  {
   "cell_type": "code",
   "execution_count": 93,
   "outputs": [],
   "source": [],
   "metadata": {
    "collapsed": false,
    "pycharm": {
     "name": "#%%\n"
    }
   }
  }
 ],
 "metadata": {
  "kernelspec": {
   "name": "pycharm-50a0962a",
   "language": "python",
   "display_name": "PyCharm (python-demo)"
  },
  "language_info": {
   "codemirror_mode": {
    "name": "ipython",
    "version": 2
   },
   "file_extension": ".py",
   "mimetype": "text/x-python",
   "name": "python",
   "nbconvert_exporter": "python",
   "pygments_lexer": "ipython2",
   "version": "2.7.6"
  }
 },
 "nbformat": 4,
 "nbformat_minor": 0
}