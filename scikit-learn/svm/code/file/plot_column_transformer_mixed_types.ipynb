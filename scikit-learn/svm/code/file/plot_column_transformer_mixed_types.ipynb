{
 "cells": [
  {
   "cell_type": "code",
   "execution_count": 1,
   "metadata": {
    "collapsed": false
   },
   "outputs": [],
   "source": [
    "%matplotlib inline"
   ]
  },
  {
   "cell_type": "markdown",
   "metadata": {},
   "source": [
    "\n",
    "# Column Transformer with Mixed Types\n",
    "\n",
    ".. currentmodule:: sklearn\n",
    "\n",
    "This example illustrates how to apply different preprocessing and feature\n",
    "extraction pipelines to different subsets of features, using\n",
    ":class:`~compose.ColumnTransformer`. This is particularly handy for the\n",
    "case of datasets that contain heterogeneous data types, since we may want to\n",
    "scale the numeric features and one-hot encode the categorical ones.\n",
    "\n",
    "In this example, the numeric data is standard-scaled after mean-imputation,\n",
    "while the categorical data is one-hot encoded after imputing missing values\n",
    "with a new category (``'missing'``).\n",
    "\n",
    "In addition, we show two different ways to dispatch the columns to the\n",
    "particular pre-processor: by column names and by column data types.\n",
    "\n",
    "Finally, the preprocessing pipeline is integrated in a full prediction pipeline\n",
    "using :class:`~pipeline.Pipeline`, together with a simple classification\n",
    "model.\n",
    "\n",
    "#混合类型的列转换器\n",
    "．． currentmodule: sklearn\n",
    "这个示例演示了如何将不同的预处理和特征提取管道应用于不同的特征子集，\n",
    "使用类:“~ compose.ColumnTransformer”。这对于包含异构数据类型的数据集尤其方便，\n",
    "因为我们可能想要缩放数值特性，并对分类特性进行一次性编码。\n",
    "在本例中，数值数据在mean-imputation之后进行标准缩放，\n",
    "而分类数据在使用新类别(' ' \" missing' ' ')输入缺失值后进行一次性编码。\n",
    "此外，我们还展示了将列分派给特定预处理程序的两种不同方法:根据列名和列数据类型。\n",
    "最后，将预处理管道集成为一个完整的预测管道\n",
    "使用:类:`~pipeline.Pipeline`。以及一个简单的分类模型。"
   ]
  },
  {
   "cell_type": "code",
   "execution_count": 2,
   "metadata": {
    "collapsed": false
   },
   "outputs": [],
   "source": [
    "# Author: Pedro Morales <part.morales@gmail.com>\n",
    "#\n",
    "# License: BSD 3 clause\n",
    "\n",
    "import numpy as np\n",
    "\n",
    "from sklearn.compose import ColumnTransformer\n",
    "from sklearn.datasets import fetch_openml\n",
    "from sklearn.pipeline import Pipeline\n",
    "from sklearn.impute import SimpleImputer\n",
    "from sklearn.preprocessing import StandardScaler, OneHotEncoder\n",
    "from sklearn.linear_model import LogisticRegression\n",
    "from sklearn.model_selection import train_test_split, GridSearchCV\n",
    "\n",
    "np.random.seed(0)\n",
    "\n",
    "# Load data from https://www.openml.org/d/40945\n",
    "X, y = fetch_openml(\"titanic\", version=1, as_frame=True, return_X_y=True)\n",
    "\n",
    "# Alternatively X and y can be obtained directly from the frame attribute:\n",
    "# X = titanic.frame.drop('survived', axis=1)\n",
    "# y = titanic.frame['survived']"
   ]
  },
  {
   "cell_type": "code",
   "execution_count": 17,
   "outputs": [
    {
     "data": {
      "text/plain": "0    1\n1    1\n2    0\n3    0\n4    0\nName: survived, dtype: category\nCategories (2, object): ['0', '1']"
     },
     "execution_count": 17,
     "metadata": {},
     "output_type": "execute_result"
    }
   ],
   "source": [
    "X.head()\n",
    "y.head()"
   ],
   "metadata": {
    "collapsed": false,
    "pycharm": {
     "name": "#%%\n"
    }
   }
  },
  {
   "cell_type": "markdown",
   "metadata": {},
   "source": [
    "## Use ``ColumnTransformer`` by selecting column by names\n",
    " We will train our classifier with the following features:\n",
    "\n",
    " Numeric Features:\n",
    "\n",
    " * ``age``: float;\n",
    " * ``fare``: float.\n",
    "\n",
    " Categorical Features:\n",
    "\n",
    " * ``embarked``: categories encoded as strings ``{'C', 'S', 'Q'}``;\n",
    " * ``sex``: categories encoded as strings ``{'female', 'male'}``;\n",
    " * ``pclass``: ordinal integers ``{1, 2, 3}``.\n",
    "\n",
    " We create the preprocessing pipelines for both numeric and categorical data.\n",
    " Note that ``pclass`` could either be treated as a categorical or numeric\n",
    " feature.\n",
    "\n"
   ]
  },
  {
   "cell_type": "code",
   "execution_count": 3,
   "metadata": {
    "collapsed": false
   },
   "outputs": [
    {
     "name": "stdout",
     "output_type": "stream",
     "text": [
      "model score: 0.790\n"
     ]
    }
   ],
   "source": [
    "numeric_features = [\"age\", \"fare\"]\nnumeric_transformer = Pipeline(\n    steps=[(\"imputer\", SimpleImputer(strategy=\"median\")), (\"scaler\", StandardScaler())]\n)\n\ncategorical_features = [\"embarked\", \"sex\", \"pclass\"]\ncategorical_transformer = OneHotEncoder(handle_unknown=\"ignore\")\n\npreprocessor = ColumnTransformer(\n    transformers=[\n        (\"num\", numeric_transformer, numeric_features),\n        (\"cat\", categorical_transformer, categorical_features),\n    ]\n)\n\n# Append classifier to preprocessing pipeline.\n# Now we have a full prediction pipeline.\nclf = Pipeline(\n    steps=[(\"preprocessor\", preprocessor), (\"classifier\", LogisticRegression())]\n)\n\nX_train, X_test, y_train, y_test = train_test_split(X, y, test_size=0.2, random_state=0)\n\nclf.fit(X_train, y_train)\nprint(\"model score: %.3f\" % clf.score(X_test, y_test))"
   ]
  },
  {
   "cell_type": "markdown",
   "metadata": {},
   "source": [
    "## HTML representation of ``Pipeline`` (display diagram)\n When the ``Pipeline`` is printed out in a jupyter notebook an HTML\n representation of the estimator is displayed as follows:\n\n"
   ]
  },
  {
   "cell_type": "code",
   "execution_count": 4,
   "metadata": {
    "collapsed": false
   },
   "outputs": [
    {
     "data": {
      "text/plain": "Pipeline(steps=[('preprocessor',\n                 ColumnTransformer(transformers=[('num',\n                                                  Pipeline(steps=[('imputer',\n                                                                   SimpleImputer(strategy='median')),\n                                                                  ('scaler',\n                                                                   StandardScaler())]),\n                                                  ['age', 'fare']),\n                                                 ('cat',\n                                                  OneHotEncoder(handle_unknown='ignore'),\n                                                  ['embarked', 'sex',\n                                                   'pclass'])])),\n                ('classifier', LogisticRegression())])",
      "text/html": "<style>#sk-2c1a17b2-05fd-41e6-a970-366570c04555 {color: black;background-color: white;}#sk-2c1a17b2-05fd-41e6-a970-366570c04555 pre{padding: 0;}#sk-2c1a17b2-05fd-41e6-a970-366570c04555 div.sk-toggleable {background-color: white;}#sk-2c1a17b2-05fd-41e6-a970-366570c04555 label.sk-toggleable__label {cursor: pointer;display: block;width: 100%;margin-bottom: 0;padding: 0.3em;box-sizing: border-box;text-align: center;}#sk-2c1a17b2-05fd-41e6-a970-366570c04555 div.sk-toggleable__content {max-height: 0;max-width: 0;overflow: hidden;text-align: left;background-color: #f0f8ff;}#sk-2c1a17b2-05fd-41e6-a970-366570c04555 div.sk-toggleable__content pre {margin: 0.2em;color: black;border-radius: 0.25em;background-color: #f0f8ff;}#sk-2c1a17b2-05fd-41e6-a970-366570c04555 input.sk-toggleable__control:checked~div.sk-toggleable__content {max-height: 200px;max-width: 100%;overflow: auto;}#sk-2c1a17b2-05fd-41e6-a970-366570c04555 div.sk-estimator input.sk-toggleable__control:checked~label.sk-toggleable__label {background-color: #d4ebff;}#sk-2c1a17b2-05fd-41e6-a970-366570c04555 div.sk-label input.sk-toggleable__control:checked~label.sk-toggleable__label {background-color: #d4ebff;}#sk-2c1a17b2-05fd-41e6-a970-366570c04555 input.sk-hidden--visually {border: 0;clip: rect(1px 1px 1px 1px);clip: rect(1px, 1px, 1px, 1px);height: 1px;margin: -1px;overflow: hidden;padding: 0;position: absolute;width: 1px;}#sk-2c1a17b2-05fd-41e6-a970-366570c04555 div.sk-estimator {font-family: monospace;background-color: #f0f8ff;border: 1px dotted black;border-radius: 0.25em;box-sizing: border-box;margin-bottom: 0.5em;}#sk-2c1a17b2-05fd-41e6-a970-366570c04555 div.sk-estimator:hover {background-color: #d4ebff;}#sk-2c1a17b2-05fd-41e6-a970-366570c04555 div.sk-parallel-item::after {content: \"\";width: 100%;border-bottom: 1px solid gray;flex-grow: 1;}#sk-2c1a17b2-05fd-41e6-a970-366570c04555 div.sk-label:hover label.sk-toggleable__label {background-color: #d4ebff;}#sk-2c1a17b2-05fd-41e6-a970-366570c04555 div.sk-serial::before {content: \"\";position: absolute;border-left: 1px solid gray;box-sizing: border-box;top: 2em;bottom: 0;left: 50%;}#sk-2c1a17b2-05fd-41e6-a970-366570c04555 div.sk-serial {display: flex;flex-direction: column;align-items: center;background-color: white;padding-right: 0.2em;padding-left: 0.2em;}#sk-2c1a17b2-05fd-41e6-a970-366570c04555 div.sk-item {z-index: 1;}#sk-2c1a17b2-05fd-41e6-a970-366570c04555 div.sk-parallel {display: flex;align-items: stretch;justify-content: center;background-color: white;}#sk-2c1a17b2-05fd-41e6-a970-366570c04555 div.sk-parallel::before {content: \"\";position: absolute;border-left: 1px solid gray;box-sizing: border-box;top: 2em;bottom: 0;left: 50%;}#sk-2c1a17b2-05fd-41e6-a970-366570c04555 div.sk-parallel-item {display: flex;flex-direction: column;position: relative;background-color: white;}#sk-2c1a17b2-05fd-41e6-a970-366570c04555 div.sk-parallel-item:first-child::after {align-self: flex-end;width: 50%;}#sk-2c1a17b2-05fd-41e6-a970-366570c04555 div.sk-parallel-item:last-child::after {align-self: flex-start;width: 50%;}#sk-2c1a17b2-05fd-41e6-a970-366570c04555 div.sk-parallel-item:only-child::after {width: 0;}#sk-2c1a17b2-05fd-41e6-a970-366570c04555 div.sk-dashed-wrapped {border: 1px dashed gray;margin: 0 0.4em 0.5em 0.4em;box-sizing: border-box;padding-bottom: 0.4em;background-color: white;position: relative;}#sk-2c1a17b2-05fd-41e6-a970-366570c04555 div.sk-label label {font-family: monospace;font-weight: bold;background-color: white;display: inline-block;line-height: 1.2em;}#sk-2c1a17b2-05fd-41e6-a970-366570c04555 div.sk-label-container {position: relative;z-index: 2;text-align: center;}#sk-2c1a17b2-05fd-41e6-a970-366570c04555 div.sk-container {display: inline-block;position: relative;}</style><div id=\"sk-2c1a17b2-05fd-41e6-a970-366570c04555\" class\"sk-top-container\"><div class=\"sk-container\"><div class=\"sk-item sk-dashed-wrapped\"><div class=\"sk-label-container\"><div class=\"sk-label sk-toggleable\"><input class=\"sk-toggleable__control sk-hidden--visually\" id=\"0b1c07f3-af6c-4892-9f72-8b4213135c8c\" type=\"checkbox\" ><label class=\"sk-toggleable__label\" for=\"0b1c07f3-af6c-4892-9f72-8b4213135c8c\">Pipeline</label><div class=\"sk-toggleable__content\"><pre>Pipeline(steps=[('preprocessor',\n                 ColumnTransformer(transformers=[('num',\n                                                  Pipeline(steps=[('imputer',\n                                                                   SimpleImputer(strategy='median')),\n                                                                  ('scaler',\n                                                                   StandardScaler())]),\n                                                  ['age', 'fare']),\n                                                 ('cat',\n                                                  OneHotEncoder(handle_unknown='ignore'),\n                                                  ['embarked', 'sex',\n                                                   'pclass'])])),\n                ('classifier', LogisticRegression())])</pre></div></div></div><div class=\"sk-serial\"><div class=\"sk-item sk-dashed-wrapped\"><div class=\"sk-label-container\"><div class=\"sk-label sk-toggleable\"><input class=\"sk-toggleable__control sk-hidden--visually\" id=\"c676fef1-8e49-4d81-8401-c76a584596ee\" type=\"checkbox\" ><label class=\"sk-toggleable__label\" for=\"c676fef1-8e49-4d81-8401-c76a584596ee\">preprocessor: ColumnTransformer</label><div class=\"sk-toggleable__content\"><pre>ColumnTransformer(transformers=[('num',\n                                 Pipeline(steps=[('imputer',\n                                                  SimpleImputer(strategy='median')),\n                                                 ('scaler', StandardScaler())]),\n                                 ['age', 'fare']),\n                                ('cat', OneHotEncoder(handle_unknown='ignore'),\n                                 ['embarked', 'sex', 'pclass'])])</pre></div></div></div><div class=\"sk-parallel\"><div class=\"sk-parallel-item\"><div class=\"sk-item\"><div class=\"sk-label-container\"><div class=\"sk-label sk-toggleable\"><input class=\"sk-toggleable__control sk-hidden--visually\" id=\"f0b34449-76e3-44ef-aa10-df5c8947c0ca\" type=\"checkbox\" ><label class=\"sk-toggleable__label\" for=\"f0b34449-76e3-44ef-aa10-df5c8947c0ca\">num</label><div class=\"sk-toggleable__content\"><pre>['age', 'fare']</pre></div></div></div><div class=\"sk-serial\"><div class=\"sk-item\"><div class=\"sk-serial\"><div class=\"sk-item\"><div class=\"sk-estimator sk-toggleable\"><input class=\"sk-toggleable__control sk-hidden--visually\" id=\"99ea45a9-2250-4ab9-8ddb-0704b0b4f045\" type=\"checkbox\" ><label class=\"sk-toggleable__label\" for=\"99ea45a9-2250-4ab9-8ddb-0704b0b4f045\">SimpleImputer</label><div class=\"sk-toggleable__content\"><pre>SimpleImputer(strategy='median')</pre></div></div></div><div class=\"sk-item\"><div class=\"sk-estimator sk-toggleable\"><input class=\"sk-toggleable__control sk-hidden--visually\" id=\"7f5c3175-62ab-4cf3-b2a2-58f9545e32a5\" type=\"checkbox\" ><label class=\"sk-toggleable__label\" for=\"7f5c3175-62ab-4cf3-b2a2-58f9545e32a5\">StandardScaler</label><div class=\"sk-toggleable__content\"><pre>StandardScaler()</pre></div></div></div></div></div></div></div></div><div class=\"sk-parallel-item\"><div class=\"sk-item\"><div class=\"sk-label-container\"><div class=\"sk-label sk-toggleable\"><input class=\"sk-toggleable__control sk-hidden--visually\" id=\"d7c1b47f-18b6-421b-b8dc-a7dd16bd477d\" type=\"checkbox\" ><label class=\"sk-toggleable__label\" for=\"d7c1b47f-18b6-421b-b8dc-a7dd16bd477d\">cat</label><div class=\"sk-toggleable__content\"><pre>['embarked', 'sex', 'pclass']</pre></div></div></div><div class=\"sk-serial\"><div class=\"sk-item\"><div class=\"sk-estimator sk-toggleable\"><input class=\"sk-toggleable__control sk-hidden--visually\" id=\"fff93252-e7b4-4c83-9655-11e2635a3588\" type=\"checkbox\" ><label class=\"sk-toggleable__label\" for=\"fff93252-e7b4-4c83-9655-11e2635a3588\">OneHotEncoder</label><div class=\"sk-toggleable__content\"><pre>OneHotEncoder(handle_unknown='ignore')</pre></div></div></div></div></div></div></div></div><div class=\"sk-item\"><div class=\"sk-estimator sk-toggleable\"><input class=\"sk-toggleable__control sk-hidden--visually\" id=\"7a7db7cb-cd8d-46fe-a4c0-4921da8b2d66\" type=\"checkbox\" ><label class=\"sk-toggleable__label\" for=\"7a7db7cb-cd8d-46fe-a4c0-4921da8b2d66\">LogisticRegression</label><div class=\"sk-toggleable__content\"><pre>LogisticRegression()</pre></div></div></div></div></div></div></div>"
     },
     "execution_count": 4,
     "metadata": {},
     "output_type": "execute_result"
    }
   ],
   "source": [
    "from sklearn import set_config\n\nset_config(display=\"diagram\")\nclf"
   ]
  },
  {
   "cell_type": "markdown",
   "metadata": {},
   "source": [
    "## Use ``ColumnTransformer`` by selecting column by data types\n When dealing with a cleaned dataset, the preprocessing can be automatic by\n using the data types of the column to decide whether to treat a column as a\n numerical or categorical feature.\n :func:`sklearn.compose.make_column_selector` gives this possibility.\n First, let's only select a subset of columns to simplify our\n example.\n\n"
   ]
  },
  {
   "cell_type": "code",
   "execution_count": 5,
   "metadata": {
    "collapsed": false
   },
   "outputs": [],
   "source": [
    "subset_feature = [\"embarked\", \"sex\", \"pclass\", \"age\", \"fare\"]\nX_train, X_test = X_train[subset_feature], X_test[subset_feature]"
   ]
  },
  {
   "cell_type": "markdown",
   "metadata": {},
   "source": [
    "Then, we introspect the information regarding each column data type.\n\n"
   ]
  },
  {
   "cell_type": "code",
   "execution_count": 6,
   "metadata": {
    "collapsed": false
   },
   "outputs": [
    {
     "name": "stdout",
     "output_type": "stream",
     "text": [
      "<class 'pandas.core.frame.DataFrame'>\n",
      "Int64Index: 1047 entries, 1118 to 684\n",
      "Data columns (total 5 columns):\n",
      " #   Column    Non-Null Count  Dtype   \n",
      "---  ------    --------------  -----   \n",
      " 0   embarked  1045 non-null   category\n",
      " 1   sex       1047 non-null   category\n",
      " 2   pclass    1047 non-null   float64 \n",
      " 3   age       841 non-null    float64 \n",
      " 4   fare      1046 non-null   float64 \n",
      "dtypes: category(2), float64(3)\n",
      "memory usage: 35.0 KB\n"
     ]
    }
   ],
   "source": [
    "X_train.info()"
   ]
  },
  {
   "cell_type": "markdown",
   "metadata": {},
   "source": [
    "We can observe that the `embarked` and `sex` columns were tagged as\n`category` columns when loading the data with ``fetch_openml``. Therefore, we\ncan use this information to dispatch the categorical columns to the\n``categorical_transformer`` and the remaining columns to the\n``numerical_transformer``.\n\n"
   ]
  },
  {
   "cell_type": "markdown",
   "metadata": {},
   "source": [
    "<div class=\"alert alert-info\"><h4>Note</h4><p>In practice, you will have to handle yourself the column data type.\n   If you want some columns to be considered as `category`, you will have to\n   convert them into categorical columns. If you are using pandas, you can\n   refer to their documentation regarding `Categorical data\n   <https://pandas.pydata.org/pandas-docs/stable/user_guide/categorical.html>`_.</p></div>\n\n"
   ]
  },
  {
   "cell_type": "code",
   "execution_count": 7,
   "metadata": {
    "collapsed": false
   },
   "outputs": [
    {
     "name": "stdout",
     "output_type": "stream",
     "text": [
      "model score: 0.794\n"
     ]
    }
   ],
   "source": [
    "from sklearn.compose import make_column_selector as selector\n\npreprocessor = ColumnTransformer(\n    transformers=[\n        (\"num\", numeric_transformer, selector(dtype_exclude=\"category\")),\n        (\"cat\", categorical_transformer, selector(dtype_include=\"category\")),\n    ]\n)\nclf = Pipeline(\n    steps=[(\"preprocessor\", preprocessor), (\"classifier\", LogisticRegression())]\n)\n\n\nclf.fit(X_train, y_train)\nprint(\"model score: %.3f\" % clf.score(X_test, y_test))"
   ]
  },
  {
   "cell_type": "markdown",
   "metadata": {},
   "source": [
    "The resulting score is not exactly the same as the one from the previous\npipeline because the dtype-based selector treats the ``pclass`` column as\na numeric feature instead of a categorical feature as previously:\n\n"
   ]
  },
  {
   "cell_type": "code",
   "execution_count": 8,
   "metadata": {
    "collapsed": false
   },
   "outputs": [
    {
     "data": {
      "text/plain": "['pclass', 'age', 'fare']"
     },
     "execution_count": 8,
     "metadata": {},
     "output_type": "execute_result"
    }
   ],
   "source": [
    "selector(dtype_exclude=\"category\")(X_train)"
   ]
  },
  {
   "cell_type": "code",
   "execution_count": 9,
   "metadata": {
    "collapsed": false
   },
   "outputs": [
    {
     "data": {
      "text/plain": "['embarked', 'sex']"
     },
     "execution_count": 9,
     "metadata": {},
     "output_type": "execute_result"
    }
   ],
   "source": [
    "selector(dtype_include=\"category\")(X_train)"
   ]
  },
  {
   "cell_type": "markdown",
   "metadata": {},
   "source": [
    "## Using the prediction pipeline in a grid search\n Grid search can also be performed on the different preprocessing steps\n defined in the ``ColumnTransformer`` object, together with the classifier's\n hyperparameters as part of the ``Pipeline``.\n We will search for both the imputer strategy of the numeric preprocessing\n and the regularization parameter of the logistic regression using\n :class:`~sklearn.model_selection.GridSearchCV`.\n\n"
   ]
  },
  {
   "cell_type": "code",
   "execution_count": 10,
   "metadata": {
    "collapsed": false
   },
   "outputs": [
    {
     "data": {
      "text/plain": "GridSearchCV(cv=10,\n             estimator=Pipeline(steps=[('preprocessor',\n                                        ColumnTransformer(transformers=[('num',\n                                                                         Pipeline(steps=[('imputer',\n                                                                                          SimpleImputer(strategy='median')),\n                                                                                         ('scaler',\n                                                                                          StandardScaler())]),\n                                                                         <sklearn.compose._column_transformer.make_column_selector object at 0x0000028BA4D63880>),\n                                                                        ('cat',\n                                                                         OneHotEncoder(handle_unknown='ignore'),\n                                                                         <sklearn.compose._column_transformer.make_column_selector object at 0x0000028BA4D630A0>)])),\n                                       ('classifier', LogisticRegression())]),\n             param_grid={'classifier__C': [0.1, 1.0, 10, 100],\n                         'preprocessor__num__imputer__strategy': ['mean',\n                                                                  'median']})",
      "text/html": "<style>#sk-170d2c00-5268-4a65-a705-3e2c9dd24f09 {color: black;background-color: white;}#sk-170d2c00-5268-4a65-a705-3e2c9dd24f09 pre{padding: 0;}#sk-170d2c00-5268-4a65-a705-3e2c9dd24f09 div.sk-toggleable {background-color: white;}#sk-170d2c00-5268-4a65-a705-3e2c9dd24f09 label.sk-toggleable__label {cursor: pointer;display: block;width: 100%;margin-bottom: 0;padding: 0.3em;box-sizing: border-box;text-align: center;}#sk-170d2c00-5268-4a65-a705-3e2c9dd24f09 div.sk-toggleable__content {max-height: 0;max-width: 0;overflow: hidden;text-align: left;background-color: #f0f8ff;}#sk-170d2c00-5268-4a65-a705-3e2c9dd24f09 div.sk-toggleable__content pre {margin: 0.2em;color: black;border-radius: 0.25em;background-color: #f0f8ff;}#sk-170d2c00-5268-4a65-a705-3e2c9dd24f09 input.sk-toggleable__control:checked~div.sk-toggleable__content {max-height: 200px;max-width: 100%;overflow: auto;}#sk-170d2c00-5268-4a65-a705-3e2c9dd24f09 div.sk-estimator input.sk-toggleable__control:checked~label.sk-toggleable__label {background-color: #d4ebff;}#sk-170d2c00-5268-4a65-a705-3e2c9dd24f09 div.sk-label input.sk-toggleable__control:checked~label.sk-toggleable__label {background-color: #d4ebff;}#sk-170d2c00-5268-4a65-a705-3e2c9dd24f09 input.sk-hidden--visually {border: 0;clip: rect(1px 1px 1px 1px);clip: rect(1px, 1px, 1px, 1px);height: 1px;margin: -1px;overflow: hidden;padding: 0;position: absolute;width: 1px;}#sk-170d2c00-5268-4a65-a705-3e2c9dd24f09 div.sk-estimator {font-family: monospace;background-color: #f0f8ff;border: 1px dotted black;border-radius: 0.25em;box-sizing: border-box;margin-bottom: 0.5em;}#sk-170d2c00-5268-4a65-a705-3e2c9dd24f09 div.sk-estimator:hover {background-color: #d4ebff;}#sk-170d2c00-5268-4a65-a705-3e2c9dd24f09 div.sk-parallel-item::after {content: \"\";width: 100%;border-bottom: 1px solid gray;flex-grow: 1;}#sk-170d2c00-5268-4a65-a705-3e2c9dd24f09 div.sk-label:hover label.sk-toggleable__label {background-color: #d4ebff;}#sk-170d2c00-5268-4a65-a705-3e2c9dd24f09 div.sk-serial::before {content: \"\";position: absolute;border-left: 1px solid gray;box-sizing: border-box;top: 2em;bottom: 0;left: 50%;}#sk-170d2c00-5268-4a65-a705-3e2c9dd24f09 div.sk-serial {display: flex;flex-direction: column;align-items: center;background-color: white;padding-right: 0.2em;padding-left: 0.2em;}#sk-170d2c00-5268-4a65-a705-3e2c9dd24f09 div.sk-item {z-index: 1;}#sk-170d2c00-5268-4a65-a705-3e2c9dd24f09 div.sk-parallel {display: flex;align-items: stretch;justify-content: center;background-color: white;}#sk-170d2c00-5268-4a65-a705-3e2c9dd24f09 div.sk-parallel::before {content: \"\";position: absolute;border-left: 1px solid gray;box-sizing: border-box;top: 2em;bottom: 0;left: 50%;}#sk-170d2c00-5268-4a65-a705-3e2c9dd24f09 div.sk-parallel-item {display: flex;flex-direction: column;position: relative;background-color: white;}#sk-170d2c00-5268-4a65-a705-3e2c9dd24f09 div.sk-parallel-item:first-child::after {align-self: flex-end;width: 50%;}#sk-170d2c00-5268-4a65-a705-3e2c9dd24f09 div.sk-parallel-item:last-child::after {align-self: flex-start;width: 50%;}#sk-170d2c00-5268-4a65-a705-3e2c9dd24f09 div.sk-parallel-item:only-child::after {width: 0;}#sk-170d2c00-5268-4a65-a705-3e2c9dd24f09 div.sk-dashed-wrapped {border: 1px dashed gray;margin: 0 0.4em 0.5em 0.4em;box-sizing: border-box;padding-bottom: 0.4em;background-color: white;position: relative;}#sk-170d2c00-5268-4a65-a705-3e2c9dd24f09 div.sk-label label {font-family: monospace;font-weight: bold;background-color: white;display: inline-block;line-height: 1.2em;}#sk-170d2c00-5268-4a65-a705-3e2c9dd24f09 div.sk-label-container {position: relative;z-index: 2;text-align: center;}#sk-170d2c00-5268-4a65-a705-3e2c9dd24f09 div.sk-container {display: inline-block;position: relative;}</style><div id=\"sk-170d2c00-5268-4a65-a705-3e2c9dd24f09\" class\"sk-top-container\"><div class=\"sk-container\"><div class=\"sk-item sk-dashed-wrapped\"><div class=\"sk-label-container\"><div class=\"sk-label sk-toggleable\"><input class=\"sk-toggleable__control sk-hidden--visually\" id=\"f087557d-b6d3-4fad-9625-7e1623623d83\" type=\"checkbox\" ><label class=\"sk-toggleable__label\" for=\"f087557d-b6d3-4fad-9625-7e1623623d83\">GridSearchCV</label><div class=\"sk-toggleable__content\"><pre>GridSearchCV(cv=10,\n             estimator=Pipeline(steps=[('preprocessor',\n                                        ColumnTransformer(transformers=[('num',\n                                                                         Pipeline(steps=[('imputer',\n                                                                                          SimpleImputer(strategy='median')),\n                                                                                         ('scaler',\n                                                                                          StandardScaler())]),\n                                                                         <sklearn.compose._column_transformer.make_column_selector object at 0x0000028BA4D63880>),\n                                                                        ('cat',\n                                                                         OneHotEncoder(handle_unknown='ignore'),\n                                                                         <sklearn.compose._column_transformer.make_column_selector object at 0x0000028BA4D630A0>)])),\n                                       ('classifier', LogisticRegression())]),\n             param_grid={'classifier__C': [0.1, 1.0, 10, 100],\n                         'preprocessor__num__imputer__strategy': ['mean',\n                                                                  'median']})</pre></div></div></div><div class=\"sk-parallel\"><div class=\"sk-parallel-item\"><div class=\"sk-item\"><div class=\"sk-serial\"><div class=\"sk-item\"><div class=\"sk-serial\"><div class=\"sk-item sk-dashed-wrapped\"><div class=\"sk-label-container\"><div class=\"sk-label sk-toggleable\"><input class=\"sk-toggleable__control sk-hidden--visually\" id=\"63ec5c84-907b-4dec-b938-63e3c1872c19\" type=\"checkbox\" ><label class=\"sk-toggleable__label\" for=\"63ec5c84-907b-4dec-b938-63e3c1872c19\">preprocessor: ColumnTransformer</label><div class=\"sk-toggleable__content\"><pre>ColumnTransformer(transformers=[('num',\n                                 Pipeline(steps=[('imputer',\n                                                  SimpleImputer(strategy='median')),\n                                                 ('scaler', StandardScaler())]),\n                                 <sklearn.compose._column_transformer.make_column_selector object at 0x0000028BA4D63880>),\n                                ('cat', OneHotEncoder(handle_unknown='ignore'),\n                                 <sklearn.compose._column_transformer.make_column_selector object at 0x0000028BA4D630A0>)])</pre></div></div></div><div class=\"sk-parallel\"><div class=\"sk-parallel-item\"><div class=\"sk-item\"><div class=\"sk-label-container\"><div class=\"sk-label sk-toggleable\"><input class=\"sk-toggleable__control sk-hidden--visually\" id=\"8afe0396-b250-4c50-bb06-3926d70ce1b6\" type=\"checkbox\" ><label class=\"sk-toggleable__label\" for=\"8afe0396-b250-4c50-bb06-3926d70ce1b6\">num</label><div class=\"sk-toggleable__content\"><pre><sklearn.compose._column_transformer.make_column_selector object at 0x0000028BA4D63880></pre></div></div></div><div class=\"sk-serial\"><div class=\"sk-item\"><div class=\"sk-serial\"><div class=\"sk-item\"><div class=\"sk-estimator sk-toggleable\"><input class=\"sk-toggleable__control sk-hidden--visually\" id=\"b5c7079d-d7a3-47b1-a92f-36eb53b6a60f\" type=\"checkbox\" ><label class=\"sk-toggleable__label\" for=\"b5c7079d-d7a3-47b1-a92f-36eb53b6a60f\">SimpleImputer</label><div class=\"sk-toggleable__content\"><pre>SimpleImputer(strategy='median')</pre></div></div></div><div class=\"sk-item\"><div class=\"sk-estimator sk-toggleable\"><input class=\"sk-toggleable__control sk-hidden--visually\" id=\"3d87c66a-33eb-4b33-a8f3-d73d2548ff31\" type=\"checkbox\" ><label class=\"sk-toggleable__label\" for=\"3d87c66a-33eb-4b33-a8f3-d73d2548ff31\">StandardScaler</label><div class=\"sk-toggleable__content\"><pre>StandardScaler()</pre></div></div></div></div></div></div></div></div><div class=\"sk-parallel-item\"><div class=\"sk-item\"><div class=\"sk-label-container\"><div class=\"sk-label sk-toggleable\"><input class=\"sk-toggleable__control sk-hidden--visually\" id=\"444c2249-61cd-4a3e-a39f-6cb7eb909334\" type=\"checkbox\" ><label class=\"sk-toggleable__label\" for=\"444c2249-61cd-4a3e-a39f-6cb7eb909334\">cat</label><div class=\"sk-toggleable__content\"><pre><sklearn.compose._column_transformer.make_column_selector object at 0x0000028BA4D630A0></pre></div></div></div><div class=\"sk-serial\"><div class=\"sk-item\"><div class=\"sk-estimator sk-toggleable\"><input class=\"sk-toggleable__control sk-hidden--visually\" id=\"40de8bab-7802-47f2-966b-e5b798b2783e\" type=\"checkbox\" ><label class=\"sk-toggleable__label\" for=\"40de8bab-7802-47f2-966b-e5b798b2783e\">OneHotEncoder</label><div class=\"sk-toggleable__content\"><pre>OneHotEncoder(handle_unknown='ignore')</pre></div></div></div></div></div></div></div></div><div class=\"sk-item\"><div class=\"sk-estimator sk-toggleable\"><input class=\"sk-toggleable__control sk-hidden--visually\" id=\"2e56af99-5f5c-4dd8-ae1e-dc605c56fe8e\" type=\"checkbox\" ><label class=\"sk-toggleable__label\" for=\"2e56af99-5f5c-4dd8-ae1e-dc605c56fe8e\">LogisticRegression</label><div class=\"sk-toggleable__content\"><pre>LogisticRegression()</pre></div></div></div></div></div></div></div></div></div></div></div></div>"
     },
     "execution_count": 10,
     "metadata": {},
     "output_type": "execute_result"
    }
   ],
   "source": [
    "param_grid = {\n    \"preprocessor__num__imputer__strategy\": [\"mean\", \"median\"],\n    \"classifier__C\": [0.1, 1.0, 10, 100],\n}\n\ngrid_search = GridSearchCV(clf, param_grid, cv=10)\ngrid_search"
   ]
  },
  {
   "cell_type": "markdown",
   "metadata": {},
   "source": [
    "Calling 'fit' triggers the cross-validated search for the best\nhyper-parameters combination:\n\n\n"
   ]
  },
  {
   "cell_type": "code",
   "execution_count": 11,
   "metadata": {
    "collapsed": false
   },
   "outputs": [
    {
     "name": "stdout",
     "output_type": "stream",
     "text": [
      "Best params:\n",
      "{'classifier__C': 0.1, 'preprocessor__num__imputer__strategy': 'mean'}\n"
     ]
    }
   ],
   "source": [
    "grid_search.fit(X_train, y_train)\n\nprint(\"Best params:\")\nprint(grid_search.best_params_)"
   ]
  },
  {
   "cell_type": "markdown",
   "metadata": {},
   "source": [
    "The internal cross-validation scores obtained by those parameters is:\n\n"
   ]
  },
  {
   "cell_type": "code",
   "execution_count": 12,
   "metadata": {
    "collapsed": false
   },
   "outputs": [
    {
     "name": "stdout",
     "output_type": "stream",
     "text": [
      "Internal CV score: 0.784\n"
     ]
    }
   ],
   "source": [
    "print(f\"Internal CV score: {grid_search.best_score_:.3f}\")"
   ]
  },
  {
   "cell_type": "markdown",
   "metadata": {},
   "source": [
    "We can also introspect the top grid search results as a pandas dataframe:\n\n"
   ]
  },
  {
   "cell_type": "code",
   "execution_count": 13,
   "metadata": {
    "collapsed": false
   },
   "outputs": [
    {
     "data": {
      "text/plain": "   mean_test_score  std_test_score param_preprocessor__num__imputer__strategy  \\\n0         0.784167        0.035824                                       mean   \n2         0.780366        0.032722                                       mean   \n1         0.780348        0.037245                                     median   \n4         0.779414        0.033105                                       mean   \n6         0.779414        0.033105                                       mean   \n\n  param_classifier__C  \n0                 0.1  \n2                 1.0  \n1                 0.1  \n4                  10  \n6                 100  ",
      "text/html": "<div>\n<style scoped>\n    .dataframe tbody tr th:only-of-type {\n        vertical-align: middle;\n    }\n\n    .dataframe tbody tr th {\n        vertical-align: top;\n    }\n\n    .dataframe thead th {\n        text-align: right;\n    }\n</style>\n<table border=\"1\" class=\"dataframe\">\n  <thead>\n    <tr style=\"text-align: right;\">\n      <th></th>\n      <th>mean_test_score</th>\n      <th>std_test_score</th>\n      <th>param_preprocessor__num__imputer__strategy</th>\n      <th>param_classifier__C</th>\n    </tr>\n  </thead>\n  <tbody>\n    <tr>\n      <th>0</th>\n      <td>0.784167</td>\n      <td>0.035824</td>\n      <td>mean</td>\n      <td>0.1</td>\n    </tr>\n    <tr>\n      <th>2</th>\n      <td>0.780366</td>\n      <td>0.032722</td>\n      <td>mean</td>\n      <td>1.0</td>\n    </tr>\n    <tr>\n      <th>1</th>\n      <td>0.780348</td>\n      <td>0.037245</td>\n      <td>median</td>\n      <td>0.1</td>\n    </tr>\n    <tr>\n      <th>4</th>\n      <td>0.779414</td>\n      <td>0.033105</td>\n      <td>mean</td>\n      <td>10</td>\n    </tr>\n    <tr>\n      <th>6</th>\n      <td>0.779414</td>\n      <td>0.033105</td>\n      <td>mean</td>\n      <td>100</td>\n    </tr>\n  </tbody>\n</table>\n</div>"
     },
     "execution_count": 13,
     "metadata": {},
     "output_type": "execute_result"
    }
   ],
   "source": [
    "import pandas as pd\n\ncv_results = pd.DataFrame(grid_search.cv_results_)\ncv_results = cv_results.sort_values(\"mean_test_score\", ascending=False)\ncv_results[\n    [\n        \"mean_test_score\",\n        \"std_test_score\",\n        \"param_preprocessor__num__imputer__strategy\",\n        \"param_classifier__C\",\n    ]\n].head(5)"
   ]
  },
  {
   "cell_type": "markdown",
   "metadata": {},
   "source": [
    "The best hyper-parameters have be used to re-fit a final model on the full\ntraining set. We can evaluate that final model on held out test data that was\nnot used for hyperparameter tuning.\n\n\n"
   ]
  },
  {
   "cell_type": "code",
   "execution_count": 14,
   "metadata": {
    "collapsed": false
   },
   "outputs": [
    {
     "name": "stdout",
     "output_type": "stream",
     "text": [
      "best logistic regression from grid search: 0.794\n"
     ]
    }
   ],
   "source": [
    "print(\n    (\n        \"best logistic regression from grid search: %.3f\"\n        % grid_search.score(X_test, y_test)\n    )\n)"
   ]
  }
 ],
 "metadata": {
  "kernelspec": {
   "name": "pycharm-50a0962a",
   "language": "python",
   "display_name": "PyCharm (python-demo)"
  },
  "language_info": {
   "codemirror_mode": {
    "name": "ipython",
    "version": 3
   },
   "file_extension": ".py",
   "mimetype": "text/x-python",
   "name": "python",
   "nbconvert_exporter": "python",
   "pygments_lexer": "ipython3",
   "version": "3.9.7"
  }
 },
 "nbformat": 4,
 "nbformat_minor": 0
}