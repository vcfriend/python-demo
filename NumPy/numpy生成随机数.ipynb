{
 "cells": [
  {
   "cell_type": "code",
   "execution_count": 3,
   "metadata": {
    "collapsed": true
   },
   "outputs": [
    {
     "data": {
      "text/plain": "array([6, 2, 7], dtype=int64)"
     },
     "execution_count": 3,
     "metadata": {},
     "output_type": "execute_result"
    }
   ],
   "source": [
    "import numpy as np\n",
    "rng = np.random.default_rng(12345)\n",
    "rints = rng.integers(low=0, high=10, size=3)\n",
    "rints"
   ]
  },
  {
   "cell_type": "code",
   "execution_count": 4,
   "outputs": [
    {
     "data": {
      "text/plain": "array([[0.22733602, 0.31675834],\n       [0.79736546, 0.67625467],\n       [0.39110955, 0.33281393],\n       [0.59830875, 0.18673419],\n       [0.67275604, 0.94180287]])"
     },
     "execution_count": 4,
     "metadata": {},
     "output_type": "execute_result"
    }
   ],
   "source": [
    "rng = np.random.default_rng(12345)\n",
    "#从一个均匀分布[low,high)中随机采样\n",
    "rng.uniform(size=(5,2))"
   ],
   "metadata": {
    "collapsed": false,
    "pycharm": {
     "name": "#%%\n"
    }
   }
  },
  {
   "cell_type": "code",
   "execution_count": 50,
   "outputs": [
    {
     "data": {
      "text/plain": "array([90, 90, 20, 30, 20, 10,  0, 70, 50, 40])"
     },
     "execution_count": 50,
     "metadata": {},
     "output_type": "execute_result"
    }
   ],
   "source": [
    "# 随机生成0-100之间的数字\n",
    "np.random.randint(0,10,10)*10"
   ],
   "metadata": {
    "collapsed": false,
    "pycharm": {
     "name": "#%%\n"
    }
   }
  },
  {
   "cell_type": "code",
   "execution_count": 48,
   "outputs": [
    {
     "data": {
      "text/plain": "array([[  63.65926636],\n       [  58.06301854],\n       [ -24.44102202],\n       [  53.50430304],\n       [   7.43411462],\n       [ -89.16508034],\n       [ -63.91936744],\n       [ 177.5832377 ],\n       [-245.15680971],\n       [  -2.48158554]])"
     },
     "execution_count": 48,
     "metadata": {},
     "output_type": "execute_result"
    }
   ],
   "source": [
    "# 随机生成0-100之间的正太分布的数组(10,1)\n",
    "np.random.normal(0,100,(10,1))"
   ],
   "metadata": {
    "collapsed": false,
    "pycharm": {
     "name": "#%%\n"
    }
   }
  },
  {
   "cell_type": "code",
   "execution_count": 7,
   "outputs": [
    {
     "data": {
      "text/plain": "array([[ 1],\n       [ 1],\n       [ 1],\n       [-1],\n       [-1],\n       [-1],\n       [ 1],\n       [ 1],\n       [-1],\n       [ 1]])"
     },
     "execution_count": 7,
     "metadata": {},
     "output_type": "execute_result"
    }
   ],
   "source": [
    "# 随机生成-1，1之间的二维数组(100,1)\n",
    "np.random.choice(a=[-1,1],size=(10,1))"
   ],
   "metadata": {
    "collapsed": false,
    "pycharm": {
     "name": "#%%\n"
    }
   }
  },
  {
   "cell_type": "code",
   "execution_count": 8,
   "outputs": [
    {
     "name": "stdout",
     "output_type": "stream",
     "text": [
      "[[ -34.93571556]\n",
      " [ 195.74155622]\n",
      " [ 198.68687871]\n",
      " [-295.31955185]\n",
      " [ -13.51659068]\n",
      " [-122.99252588]\n",
      " [   7.2972833 ]\n",
      " [  36.23226633]\n",
      " [ -91.97906669]\n",
      " [  39.95524425]]\n",
      "[[-1]\n",
      " [ 1]\n",
      " [ 1]\n",
      " [-1]\n",
      " [ 1]\n",
      " [ 1]\n",
      " [-1]\n",
      " [ 1]\n",
      " [ 1]\n",
      " [ 1]]\n"
     ]
    }
   ],
   "source": [
    "a = np.random.normal(0,100,(10,1))\n",
    "print(a)\n",
    "b = np.random.choice(a=[-1,1], size=(10,1))\n",
    "print(b)"
   ],
   "metadata": {
    "collapsed": false,
    "pycharm": {
     "name": "#%%\n"
    }
   }
  },
  {
   "cell_type": "code",
   "execution_count": 9,
   "outputs": [
    {
     "name": "stdout",
     "output_type": "stream",
     "text": [
      "[[ -34.93571556   -1.        ]\n",
      " [ 195.74155622    1.        ]\n",
      " [ 198.68687871    1.        ]\n",
      " [-295.31955185   -1.        ]\n",
      " [ -13.51659068    1.        ]\n",
      " [-122.99252588    1.        ]\n",
      " [   7.2972833    -1.        ]\n",
      " [  36.23226633    1.        ]\n",
      " [ -91.97906669    1.        ]\n",
      " [  39.95524425    1.        ]]\n"
     ]
    }
   ],
   "source": [
    "c = np.c_[a,b]\n",
    "print(c)"
   ],
   "metadata": {
    "collapsed": false,
    "pycharm": {
     "name": "#%%\n"
    }
   }
  },
  {
   "cell_type": "code",
   "execution_count": 47,
   "outputs": [
    {
     "name": "stdout",
     "output_type": "stream",
     "text": [
      "380\n"
     ]
    }
   ],
   "source": [
    "a1 = np.random.choice(a=[-10,10],size=(1000))\n",
    "# print(a1)\n",
    "print(np.sum(a1))"
   ],
   "metadata": {
    "collapsed": false,
    "pycharm": {
     "name": "#%%\n"
    }
   }
  },
  {
   "cell_type": "code",
   "execution_count": 53,
   "outputs": [
    {
     "data": {
      "text/plain": "array([0., 2., 4., 6., 8.])"
     },
     "execution_count": 53,
     "metadata": {},
     "output_type": "execute_result"
    }
   ],
   "source": [
    "#生成0到10,间隔为10/5的数组\n",
    "np.arange(0,10,10/5)"
   ],
   "metadata": {
    "collapsed": false,
    "pycharm": {
     "name": "#%%\n"
    }
   }
  },
  {
   "cell_type": "code",
   "execution_count": 56,
   "outputs": [
    {
     "data": {
      "text/plain": "array([ -4,  -2,  -5, -10,  -3,  -4,   2,  -6,   8,  -3])"
     },
     "execution_count": 56,
     "metadata": {},
     "output_type": "execute_result"
    }
   ],
   "source": [
    "np.random.randint(-10, 10, size=(10,))"
   ],
   "metadata": {
    "collapsed": false,
    "pycharm": {
     "name": "#%%\n"
    }
   }
  },
  {
   "cell_type": "code",
   "execution_count": 58,
   "outputs": [
    {
     "data": {
      "text/plain": "array([4.0842732 , 2.469922  , 3.0053854 , 4.75550396, 0.64166566,\n       2.91651249, 3.08296726, 1.80096942, 3.17003352, 1.91150848])"
     },
     "execution_count": 58,
     "metadata": {},
     "output_type": "execute_result"
    }
   ],
   "source": [
    "np.random.uniform(0, 5, size=10)"
   ],
   "metadata": {
    "collapsed": false,
    "pycharm": {
     "name": "#%%\n"
    }
   }
  }
 ],
 "metadata": {
  "kernelspec": {
   "name": "pycharm-50a0962a",
   "language": "python",
   "display_name": "PyCharm (python-demo)"
  },
  "language_info": {
   "codemirror_mode": {
    "name": "ipython",
    "version": 2
   },
   "file_extension": ".py",
   "mimetype": "text/x-python",
   "name": "python",
   "nbconvert_exporter": "python",
   "pygments_lexer": "ipython2",
   "version": "2.7.6"
  }
 },
 "nbformat": 4,
 "nbformat_minor": 0
}