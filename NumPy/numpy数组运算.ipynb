{
 "cells": [
  {
   "cell_type": "code",
   "execution_count": 2,
   "metadata": {
    "collapsed": true,
    "pycharm": {
     "name": "#%%\n"
    }
   },
   "outputs": [
    {
     "name": "stdout",
     "output_type": "stream",
     "text": [
      "[[0.82770259 0.40919914]\n",
      " [0.54959369 0.02755911]\n",
      " [0.75351311 0.53814331]\n",
      " [0.32973172 0.7884287 ]\n",
      " [0.30319483 0.45349789]\n",
      " [0.1340417  0.40311299]]\n"
     ]
    }
   ],
   "source": [
    "import numpy as np\n",
    "\n",
    "rng = np.random.default_rng(1)  #设置随机种子\n",
    "#生成最小值100,最大值200,的6行2列数组\n",
    "a1 = rng.integers(low=100, high=200, size=(6, 2))\n",
    "a2 = rng.random(size=(6,2))*1\n",
    "print(a2)"
   ]
  },
  {
   "cell_type": "code",
   "execution_count": 35,
   "outputs": [
    {
     "name": "stdout",
     "output_type": "stream",
     "text": [
      "<class 'numpy.ndarray'> (2,) (6,)\n",
      "[ 2 -2] [0 1 2 3 4 5]\n",
      "2,1,0,1,2,3,\n",
      "[2 2 2 4 6 8]\n"
     ]
    }
   ],
   "source": [
    "# 通过传递值列表创建\n",
    "np.random.seed(0)\n",
    "d1 = np.array(np.random.randint(-2, 3, 2))\n",
    "d2 = np.array(np.arange(6))\n",
    "print(type(d1), d1.shape, d2.shape)\n",
    "print(d1, d2)\n",
    "\n",
    "for i,v in enumerate(d2):\n",
    "    d2[i] = np.min(abs(d1 - v)) + v\n",
    "    print(np.min(abs(d1 - v)), end=',')\n",
    "print()\n",
    "print(d2)"
   ],
   "metadata": {
    "collapsed": false,
    "pycharm": {
     "name": "#%%\n"
    }
   }
  },
  {
   "cell_type": "code",
   "execution_count": null,
   "outputs": [],
   "source": [],
   "metadata": {
    "collapsed": false,
    "pycharm": {
     "name": "#%%\n"
    }
   }
  }
 ],
 "metadata": {
  "kernelspec": {
   "display_name": "Python 3",
   "language": "python",
   "name": "python3"
  },
  "language_info": {
   "codemirror_mode": {
    "name": "ipython",
    "version": 2
   },
   "file_extension": ".py",
   "mimetype": "text/x-python",
   "name": "python",
   "nbconvert_exporter": "python",
   "pygments_lexer": "ipython2",
   "version": "2.7.6"
  }
 },
 "nbformat": 4,
 "nbformat_minor": 0
}