{
 "cells": [
  {
   "cell_type": "markdown",
   "id": "44cd8b8e-266d-4df7-83d0-e84ecbc2fbad",
   "metadata": {},
   "source": [
    "### 导入包"
   ]
  },
  {
   "cell_type": "code",
   "execution_count": 83,
   "id": "5efd2a5c-1977-418b-a981-311b8fd8ebc3",
   "metadata": {},
   "outputs": [],
   "source": [
    "# -*- conding: utf-8 -*-\n",
    "import numpy as np"
   ]
  },
  {
   "cell_type": "code",
   "execution_count": 84,
   "id": "fddb71e3-b365-43a9-8656-4e31d59e55ce",
   "metadata": {},
   "outputs": [
    {
     "data": {
      "text/plain": "array([[ 0,  1,  2,  3,  4],\n       [ 5,  6,  7,  8,  9],\n       [10, 11, 12, 13, 14]])"
     },
     "execution_count": 84,
     "metadata": {},
     "output_type": "execute_result"
    }
   ],
   "source": [
    "# reshape 改变数组的维度\n",
    "a = np.arange(15).reshape(3, 5)\n",
    "a\n"
   ]
  },
  {
   "cell_type": "code",
   "execution_count": 85,
   "id": "5acbfd07-f045-4554-b051-6d322a3cdf37",
   "metadata": {},
   "outputs": [
    {
     "data": {
      "text/plain": "(3, 5)"
     },
     "execution_count": 85,
     "metadata": {},
     "output_type": "execute_result"
    }
   ],
   "source": [
    "# 数组的维度\n",
    "a.shape"
   ]
  },
  {
   "cell_type": "code",
   "execution_count": 86,
   "id": "16845f64-5cd1-48ae-b69d-442cc25f5073",
   "metadata": {},
   "outputs": [
    {
     "data": {
      "text/plain": "2"
     },
     "execution_count": 86,
     "metadata": {},
     "output_type": "execute_result"
    }
   ],
   "source": [
    "# 数组的轴（维度）\n",
    "a.ndim"
   ]
  },
  {
   "cell_type": "code",
   "execution_count": 123,
   "id": "356d04ff-3a41-40cf-8071-383629b3cd68",
   "metadata": {},
   "outputs": [
    {
     "data": {
      "text/plain": "'int32'"
     },
     "execution_count": 123,
     "metadata": {},
     "output_type": "execute_result"
    }
   ],
   "source": [
    "# 数组中元素的类型\n",
    "a.dtype.name"
   ]
  },
  {
   "cell_type": "code",
   "execution_count": 88,
   "id": "d54770a3-4e44-42e3-8774-a817440128f0",
   "metadata": {},
   "outputs": [
    {
     "data": {
      "text/plain": "4"
     },
     "execution_count": 88,
     "metadata": {},
     "output_type": "execute_result"
    }
   ],
   "source": [
    "# 数组中每个元素的大小\n",
    "a.itemsize"
   ]
  },
  {
   "cell_type": "code",
   "execution_count": 89,
   "id": "835511fb-90bc-4fc5-b0ff-3145579babd9",
   "metadata": {},
   "outputs": [
    {
     "data": {
      "text/plain": "15"
     },
     "execution_count": 89,
     "metadata": {},
     "output_type": "execute_result"
    }
   ],
   "source": [
    "# 数组中元素的个数\n",
    "a.size"
   ]
  },
  {
   "cell_type": "code",
   "execution_count": 90,
   "id": "f0d656ed-3c0f-4efe-b602-a99adb1a8a84",
   "metadata": {},
   "outputs": [
    {
     "data": {
      "text/plain": "array([6, 7, 8])"
     },
     "execution_count": 90,
     "metadata": {},
     "output_type": "execute_result"
    }
   ],
   "source": [
    "b = np.array([6, 7, 8])\n",
    "b"
   ]
  },
  {
   "cell_type": "code",
   "execution_count": 90,
   "outputs": [],
   "source": [],
   "metadata": {
    "collapsed": false,
    "pycharm": {
     "name": "#%%\n"
    }
   }
  },
  {
   "cell_type": "code",
   "execution_count": 91,
   "id": "0fc14638-a607-43e4-aa5b-bc9a93bd1b36",
   "metadata": {},
   "outputs": [
    {
     "data": {
      "text/plain": "numpy.ndarray"
     },
     "execution_count": 91,
     "metadata": {},
     "output_type": "execute_result"
    }
   ],
   "source": [
    "type(b)"
   ]
  },
  {
   "cell_type": "code",
   "execution_count": 92,
   "id": "8d627596-762b-4cbf-9ca5-209f03d2bf09",
   "metadata": {},
   "outputs": [
    {
     "data": {
      "text/plain": "array([2, 3, 4])"
     },
     "execution_count": 92,
     "metadata": {},
     "output_type": "execute_result"
    }
   ],
   "source": [
    "# 数组创建\n",
    "a = np.array([2, 3, 4])\n",
    "a"
   ]
  },
  {
   "cell_type": "code",
   "execution_count": 93,
   "id": "372f0746-5e2f-475a-b7a1-15e474dd3ae6",
   "metadata": {},
   "outputs": [
    {
     "data": {
      "text/plain": "dtype('int32')"
     },
     "execution_count": 93,
     "metadata": {},
     "output_type": "execute_result"
    }
   ],
   "source": [
    "a.dtype"
   ]
  },
  {
   "cell_type": "code",
   "execution_count": 94,
   "id": "13c2f3f1-fba9-4101-b4e3-f8b48e9ce587",
   "metadata": {},
   "outputs": [
    {
     "data": {
      "text/plain": "dtype('float64')"
     },
     "execution_count": 94,
     "metadata": {},
     "output_type": "execute_result"
    }
   ],
   "source": [
    "b = np.array([1.2, 3.5, 5.1])\n",
    "b.dtype"
   ]
  },
  {
   "cell_type": "code",
   "execution_count": 95,
   "id": "da13ee4d-b752-4c77-9867-b573cff5836d",
   "metadata": {},
   "outputs": [],
   "source": [
    "# 一个常见的错误，就是调用array的时候传入多个数字参数，而不是提供单个数字的列表类型作为参数"
   ]
  },
  {
   "cell_type": "code",
   "execution_count": 96,
   "id": "063e4de2-f8c3-4695-8d62-b2ce936c158c",
   "metadata": {},
   "outputs": [],
   "source": [
    "# a = np.array(1, 2, 3, 4)  # 错误的"
   ]
  },
  {
   "cell_type": "code",
   "execution_count": 97,
   "id": "aecd41ac-9e04-4114-97ff-ee285cae674a",
   "metadata": {},
   "outputs": [
    {
     "data": {
      "text/plain": "array([1, 2, 3, 4])"
     },
     "execution_count": 97,
     "metadata": {},
     "output_type": "execute_result"
    }
   ],
   "source": [
    "a = np.array([1, 2, 3, 4])  # 正确的\n",
    "a"
   ]
  },
  {
   "cell_type": "code",
   "execution_count": 98,
   "id": "71033bea-1388-4aa5-a562-e68a1ce9ff08",
   "metadata": {},
   "outputs": [],
   "source": [
    "# shape 数组的维度 这是一个整数的元组表示每个维度中数组的大小。对于有 n 行和 m 列的矩阵，shape 将是 (n,m)。"
   ]
  },
  {
   "cell_type": "code",
   "execution_count": 99,
   "id": "6b27a000-cf16-400d-9942-cb931c57363c",
   "metadata": {},
   "outputs": [
    {
     "data": {
      "text/plain": "(4,)"
     },
     "execution_count": 99,
     "metadata": {},
     "output_type": "execute_result"
    }
   ],
   "source": [
    "a.shape"
   ]
  },
  {
   "cell_type": "code",
   "execution_count": 100,
   "id": "26aba1cc-65bc-4f50-99f5-962265bad704",
   "metadata": {},
   "outputs": [
    {
     "data": {
      "text/plain": "1"
     },
     "execution_count": 100,
     "metadata": {},
     "output_type": "execute_result"
    }
   ],
   "source": [
    "a.ndim  # 数组的轴（维度）"
   ]
  },
  {
   "cell_type": "code",
   "execution_count": 101,
   "id": "7a7ea3bc-36fc-4569-88a9-c0b4feb46f35",
   "metadata": {},
   "outputs": [
    {
     "data": {
      "text/plain": "dtype('int32')"
     },
     "execution_count": 101,
     "metadata": {},
     "output_type": "execute_result"
    }
   ],
   "source": [
    "a.dtype"
   ]
  },
  {
   "cell_type": "code",
   "execution_count": 102,
   "id": "8b947e2d-0508-4f8c-93d7-68ef2040de3f",
   "metadata": {},
   "outputs": [],
   "source": [
    "# array 还可以将序列的序列转换成二维数组，将序列的序列的序列转换成三维数组，等等。"
   ]
  },
  {
   "cell_type": "code",
   "execution_count": 103,
   "id": "82929ca6-9d66-460f-8e03-febe8d08a964",
   "metadata": {},
   "outputs": [
    {
     "data": {
      "text/plain": "array([(1.5, 2.3), (4, 5, 6)], dtype=object)"
     },
     "execution_count": 103,
     "metadata": {},
     "output_type": "execute_result"
    }
   ],
   "source": [
    "b = np.array([(1.5, 2.3), (4, 5, 6)], dtype=object)\n",
    "b"
   ]
  },
  {
   "cell_type": "code",
   "execution_count": 104,
   "id": "70054f0f-a721-4b56-a3e4-dc753172d06e",
   "metadata": {},
   "outputs": [],
   "source": [
    "# 也可以在创建时显式指定数组的类型"
   ]
  },
  {
   "cell_type": "code",
   "execution_count": 105,
   "id": "c134153d-4bc0-47f3-9012-9e540b0da17e",
   "metadata": {},
   "outputs": [
    {
     "data": {
      "text/plain": "array([[1.+0.j, 2.+0.j],\n       [3.+0.j, 4.+0.j]])"
     },
     "execution_count": 105,
     "metadata": {},
     "output_type": "execute_result"
    }
   ],
   "source": [
    "c = np.array([[1, 2], [3, 4]], dtype=complex)\n",
    "c"
   ]
  },
  {
   "cell_type": "code",
   "execution_count": 106,
   "id": "085356f5-4de5-4b05-8ca3-4200bd35edd3",
   "metadata": {},
   "outputs": [],
   "source": [
    "# 函数zeros创建一个由0组成的数组，函数 ones创建一个完整的数组，函数empty 创建一个数组，\n",
    "# 其初始内容是随机的，取决于内存的状态。默认情况下，创建的数组的dtype是 float64 类型的"
   ]
  },
  {
   "cell_type": "code",
   "execution_count": 107,
   "id": "367e55c5-0bc4-4c79-b3b7-c94f36a08d6e",
   "metadata": {},
   "outputs": [
    {
     "data": {
      "text/plain": "array([[0., 0., 0., 0.],\n       [0., 0., 0., 0.],\n       [0., 0., 0., 0.]])"
     },
     "execution_count": 107,
     "metadata": {},
     "output_type": "execute_result"
    }
   ],
   "source": [
    "a = np.zeros((3, 4))\n",
    "a"
   ]
  },
  {
   "cell_type": "code",
   "execution_count": 108,
   "id": "769309fd-ba22-4edf-b8eb-9f496494392b",
   "metadata": {},
   "outputs": [
    {
     "data": {
      "text/plain": "dtype('float64')"
     },
     "execution_count": 108,
     "metadata": {},
     "output_type": "execute_result"
    }
   ],
   "source": [
    "a.dtype"
   ]
  },
  {
   "cell_type": "code",
   "execution_count": 109,
   "id": "16ff8aac-ea89-4d4a-8a7f-4645f24ff415",
   "metadata": {},
   "outputs": [
    {
     "data": {
      "text/plain": "array([[[1, 1, 1, 1],\n        [1, 1, 1, 1],\n        [1, 1, 1, 1]],\n\n       [[1, 1, 1, 1],\n        [1, 1, 1, 1],\n        [1, 1, 1, 1]]], dtype=int16)"
     },
     "execution_count": 109,
     "metadata": {},
     "output_type": "execute_result"
    }
   ],
   "source": [
    "np.ones((2, 3, 4), dtype=np.int16)"
   ]
  },
  {
   "cell_type": "markdown",
   "id": "ffcb0bee-2b24-4bdf-ae21-5e18b22cfd5b",
   "metadata": {},
   "source": [
    "### 基础操作"
   ]
  },
  {
   "cell_type": "code",
   "execution_count": 110,
   "id": "01394e94-1355-4b86-a768-806ef96d0273",
   "metadata": {},
   "outputs": [
    {
     "name": "stdout",
     "output_type": "stream",
     "text": [
      "[20 30 40 50]\n",
      "[0 1 2 3]\n"
     ]
    }
   ],
   "source": [
    "a = np.array([20, 30, 40, 50])\n",
    "print(a)\n",
    "b = np.arange(4)\n",
    "print(b)"
   ]
  },
  {
   "cell_type": "code",
   "execution_count": 111,
   "id": "1038f9e4-24cb-4491-96b8-dddcc2d227a4",
   "metadata": {},
   "outputs": [
    {
     "name": "stdout",
     "output_type": "stream",
     "text": [
      "[20 29 38 47]\n"
     ]
    }
   ],
   "source": [
    "c = a - b\n",
    "print(c)"
   ]
  },
  {
   "cell_type": "code",
   "execution_count": 112,
   "id": "eb4c1028-6ac9-4232-9265-dbc6009eef61",
   "metadata": {},
   "outputs": [
    {
     "data": {
      "text/plain": "array([0, 1, 4, 9], dtype=int32)"
     },
     "execution_count": 112,
     "metadata": {},
     "output_type": "execute_result"
    }
   ],
   "source": [
    "b ** 2"
   ]
  },
  {
   "cell_type": "code",
   "execution_count": 3,
   "outputs": [
    {
     "data": {
      "text/plain": "array([[1, 1]], dtype=int32)"
     },
     "execution_count": 3,
     "metadata": {},
     "output_type": "execute_result"
    }
   ],
   "source": [
    "import numpy as np\n",
    "\n",
    "# 二行1列二维数组，按位操作\n",
    "a = np.array([[1, 1], ])\n",
    "b = np.array(([[0, 1], ]))\n",
    "a | b"
   ],
   "metadata": {
    "collapsed": false,
    "pycharm": {
     "name": "#%%\n"
    }
   }
  },
  {
   "cell_type": "code",
   "execution_count": 114,
   "id": "b72034f7-8db5-4e37-bdc0-e4a5e25080e8",
   "metadata": {},
   "outputs": [
    {
     "data": {
      "text/plain": "array([[2, 0],\n       [0, 4]])"
     },
     "execution_count": 114,
     "metadata": {},
     "output_type": "execute_result"
    }
   ],
   "source": [
    "a = np.array([[1, 1], [0, 1]])\n",
    "b = np.array([[2, 0], [3, 4]])\n",
    "a * b"
   ]
  },
  {
   "cell_type": "code",
   "execution_count": 115,
   "id": "f1b5ef26-b80f-4e51-8ab5-7671c8bf5c0c",
   "metadata": {},
   "outputs": [
    {
     "data": {
      "text/plain": "array([[5, 4],\n       [3, 4]])"
     },
     "execution_count": 115,
     "metadata": {},
     "output_type": "execute_result"
    }
   ],
   "source": [
    "a @ b"
   ]
  },
  {
   "cell_type": "code",
   "execution_count": 116,
   "id": "82b5e264-000f-49ba-94ae-a7624aab0b57",
   "metadata": {},
   "outputs": [
    {
     "data": {
      "text/plain": "array([[5, 4],\n       [3, 4]])"
     },
     "execution_count": 116,
     "metadata": {},
     "output_type": "execute_result"
    }
   ],
   "source": [
    "a.dot(b)"
   ]
  },
  {
   "cell_type": "code",
   "execution_count": 5,
   "id": "90a592bc-c425-41e4-96b4-937e79c7f502",
   "metadata": {},
   "outputs": [
    {
     "data": {
      "text/plain": "(2, 3)"
     },
     "execution_count": 5,
     "metadata": {},
     "output_type": "execute_result"
    }
   ],
   "source": [
    "# 生成一个二行三列的全为1的数组\n",
    "a = np.ones((2, 3), dtype=int)\n",
    "a.shape"
   ]
  },
  {
   "cell_type": "code",
   "execution_count": 20,
   "outputs": [
    {
     "name": "stdout",
     "output_type": "stream",
     "text": [
      "RandomState(MT19937)\n"
     ]
    },
    {
     "data": {
      "text/plain": "array([[0.4359949 , 0.02592623],\n       [0.54966248, 0.43532239],\n       [0.4203678 , 0.33033482],\n       [0.20464863, 0.61927097],\n       [0.29965467, 0.26682728]])"
     },
     "execution_count": 20,
     "metadata": {},
     "output_type": "execute_result"
    }
   ],
   "source": [
    "rng = np.random.RandomState(2)\n",
    "print(rng)\n",
    "#从一个均匀分布[low,high)中随机采样\n",
    "rng.uniform(size=(5,2))"
   ],
   "metadata": {
    "collapsed": false,
    "pycharm": {
     "name": "#%%\n"
    }
   }
  },
  {
   "cell_type": "code",
   "execution_count": 118,
   "id": "b2bb9215-25e8-4022-866e-7b99e22c408a",
   "metadata": {},
   "outputs": [
    {
     "name": "stdout",
     "output_type": "stream",
     "text": [
      "[[3 3 3]\n",
      " [3 3 3]]\n"
     ]
    }
   ],
   "source": [
    "a *= 3\n",
    "print(a)"
   ]
  },
  {
   "cell_type": "code",
   "execution_count": 1,
   "id": "f273d7a7-81ab-44cd-8e3a-995730244b0b",
   "metadata": {},
   "outputs": [
    {
     "ename": "NameError",
     "evalue": "name 'np' is not defined",
     "output_type": "error",
     "traceback": [
      "\u001B[1;31m---------------------------------------------------------------------------\u001B[0m",
      "\u001B[1;31mNameError\u001B[0m                                 Traceback (most recent call last)",
      "\u001B[1;32m~\\AppData\\Local\\Temp/ipykernel_20384/930612473.py\u001B[0m in \u001B[0;36m<module>\u001B[1;34m\u001B[0m\n\u001B[0;32m      1\u001B[0m \u001B[1;31m# 生成一个二行三列的随机数# 生成一个二行三列的随机数组\u001B[0m\u001B[1;33m\u001B[0m\u001B[1;33m\u001B[0m\u001B[0m\n\u001B[1;32m----> 2\u001B[1;33m \u001B[0mb\u001B[0m \u001B[1;33m=\u001B[0m \u001B[0mnp\u001B[0m\u001B[1;33m.\u001B[0m\u001B[0mrandom\u001B[0m\u001B[1;33m.\u001B[0m\u001B[0mrandom\u001B[0m\u001B[1;33m(\u001B[0m\u001B[1;33m(\u001B[0m\u001B[1;36m2\u001B[0m\u001B[1;33m,\u001B[0m \u001B[1;36m3\u001B[0m\u001B[1;33m)\u001B[0m\u001B[1;33m)\u001B[0m\u001B[1;33m\u001B[0m\u001B[1;33m\u001B[0m\u001B[0m\n\u001B[0m\u001B[0;32m      3\u001B[0m \u001B[0mb\u001B[0m\u001B[1;33m\u001B[0m\u001B[1;33m\u001B[0m\u001B[0m\n\u001B[0;32m      4\u001B[0m \u001B[1;33m\u001B[0m\u001B[0m\n",
      "\u001B[1;31mNameError\u001B[0m: name 'np' is not defined"
     ]
    }
   ],
   "source": [
    "# 生成一个二行三列的随机数# 生成一个二行三列的随机数组\n",
    "b = np.random.random((2, 3))\n",
    "b"
   ]
  },
  {
   "cell_type": "code",
   "execution_count": 120,
   "id": "3d1f2e12-9be7-4111-b107-6e57b0dbd9cf",
   "metadata": {},
   "outputs": [
    {
     "data": {
      "text/plain": "array([[3.44501216, 3.78664532, 3.02808781],\n       [3.19745157, 3.39540614, 3.15449298]])"
     },
     "execution_count": 120,
     "metadata": {},
     "output_type": "execute_result"
    }
   ],
   "source": [
    "b += a\n",
    "b"
   ]
  },
  {
   "cell_type": "code",
   "execution_count": 121,
   "id": "9661ceeb-5ccc-429c-b000-f1ad54cd5ed4",
   "metadata": {},
   "outputs": [
    {
     "ename": "UFuncTypeError",
     "evalue": "Cannot cast ufunc 'add' output from dtype('float64') to dtype('int32') with casting rule 'same_kind'",
     "output_type": "error",
     "traceback": [
      "\u001B[1;31m---------------------------------------------------------------------------\u001B[0m",
      "\u001B[1;31mUFuncTypeError\u001B[0m                            Traceback (most recent call last)",
      "\u001B[1;32m~\\AppData\\Local\\Temp/ipykernel_11208/72683177.py\u001B[0m in \u001B[0;36m<module>\u001B[1;34m\u001B[0m\n\u001B[0;32m      1\u001B[0m \u001B[1;31m# b不会自动转换为整数类型\u001B[0m\u001B[1;33m\u001B[0m\u001B[1;33m\u001B[0m\u001B[0m\n\u001B[1;32m----> 2\u001B[1;33m \u001B[0ma\u001B[0m \u001B[1;33m+=\u001B[0m \u001B[0mb\u001B[0m\u001B[1;33m\u001B[0m\u001B[1;33m\u001B[0m\u001B[0m\n\u001B[0m\u001B[0;32m      3\u001B[0m \u001B[1;33m\u001B[0m\u001B[0m\n",
      "\u001B[1;31mUFuncTypeError\u001B[0m: Cannot cast ufunc 'add' output from dtype('float64') to dtype('int32') with casting rule 'same_kind'"
     ]
    }
   ],
   "source": [
    "# b不会自动转换为整数类型\n",
    "a += b"
   ]
  },
  {
   "cell_type": "markdown",
   "id": "c0740946-e553-4fc2-845f-5703dc40e2d1",
   "metadata": {},
   "source": [
    "### 索引、切片和迭代"
   ]
  },
  {
   "cell_type": "code",
   "execution_count": null,
   "id": "dd661cfc-fb8b-479b-bf80-6d845affcc50",
   "metadata": {},
   "outputs": [],
   "source": [
    "# 一维的数组可以进行索引、切片和迭代操作的就像列表一样\n",
    "a = np.arange(10) ** 1\n",
    "a"
   ]
  },
  {
   "cell_type": "code",
   "execution_count": null,
   "id": "e6c340e2-4301-4bbf-b06c-0562542b3771",
   "metadata": {},
   "outputs": [],
   "source": [
    "a[2:5]"
   ]
  },
  {
   "cell_type": "code",
   "execution_count": null,
   "id": "c8d9b089-9394-4cdd-9610-1cae300023b2",
   "metadata": {},
   "outputs": [],
   "source": [
    "# 取0>=下标>6, 间隔为2的数据\n",
    "a[:6:2]"
   ]
  },
  {
   "cell_type": "code",
   "execution_count": null,
   "id": "9628369c-fd3e-4996-a35c-cbd7021e09a3",
   "metadata": {},
   "outputs": [],
   "source": [
    "a[:6:2] = 100\n",
    "a"
   ]
  },
  {
   "cell_type": "code",
   "execution_count": null,
   "id": "4ba2fb71-146c-4d14-97ce-6e986d460186",
   "metadata": {},
   "outputs": [],
   "source": [
    "# 多维的数组每个轴可以有一个索引。这些索引以逗号隔的元组给出"
   ]
  },
  {
   "cell_type": "code",
   "execution_count": null,
   "id": "69fe738b-d71f-43c1-b499-b6c334cd36d4",
   "metadata": {},
   "outputs": [],
   "source": [
    "def f(x, y):\n",
    "    return 10 * x + y"
   ]
  },
  {
   "cell_type": "code",
   "execution_count": null,
   "id": "50c92f5b-7eef-4c57-b849-e63164e0613d",
   "metadata": {},
   "outputs": [],
   "source": [
    "b = np.fromfunction(f, (5, 4), dtype=int)\n",
    "b"
   ]
  },
  {
   "cell_type": "code",
   "execution_count": null,
   "id": "ca0af768-bca8-49f6-9e15-3b8a389a8d9b",
   "metadata": {},
   "outputs": [],
   "source": [
    "b[2, 3]"
   ]
  },
  {
   "cell_type": "code",
   "execution_count": null,
   "id": "d56e316d-8be5-4634-b9ef-01287728d95f",
   "metadata": {},
   "outputs": [],
   "source": [
    "# 取行下标0到5-1行，列下标1列的数据\n",
    "b[0:5, 1]"
   ]
  },
  {
   "cell_type": "code",
   "execution_count": null,
   "id": "f104e47c-8815-4668-848c-de565a6d908e",
   "metadata": {},
   "outputs": [],
   "source": [
    "b[:, 1]"
   ]
  },
  {
   "cell_type": "code",
   "execution_count": null,
   "id": "dad2805c-374b-40f4-a6b2-15161a52e8c1",
   "metadata": {},
   "outputs": [],
   "source": [
    "# 取行下标1到3-1行，所有列的数据\n",
    "b[1:3, :]"
   ]
  },
  {
   "cell_type": "code",
   "execution_count": null,
   "id": "20f40f92-79c5-4a80-878f-f26a180d96b2",
   "metadata": {},
   "outputs": [],
   "source": [
    "# 取最后第一行数据\n",
    "b[-1, :]"
   ]
  },
  {
   "cell_type": "code",
   "execution_count": null,
   "id": "7c03456f-0eb6-448b-95dd-fcf61110f647",
   "metadata": {},
   "outputs": [],
   "source": [
    "b[-1, ...]"
   ]
  },
  {
   "cell_type": "code",
   "execution_count": null,
   "id": "cf12ee7f-ba4c-428a-b867-b39896aac7dc",
   "metadata": {},
   "outputs": [],
   "source": [
    "# 当提供的索引少于轴的数量时，缺失的索引被认为是完整的切片\n",
    "# 取最后一行数据,等价于 b[-1, :]和b[-1, ...]\n",
    "# 三个点（ ... ）表示产生完整索引元组所需的冒号\n",
    "b[-1]"
   ]
  },
  {
   "cell_type": "code",
   "execution_count": null,
   "id": "e263449b-2660-4397-acd7-ed866be6ab59",
   "metadata": {},
   "outputs": [],
   "source": [
    "b[..., 3]"
   ]
  },
  {
   "cell_type": "code",
   "execution_count": null,
   "id": "da36a594-3893-42ce-98dd-aac7697bf728",
   "metadata": {},
   "outputs": [],
   "source": [
    "b[..., -1]"
   ]
  },
  {
   "cell_type": "code",
   "execution_count": null,
   "id": "0b645c98-b46b-4e19-823e-77422420e28e",
   "metadata": {},
   "outputs": [],
   "source": [
    "# 取最后一列数据 等价于 b[..., 3]和b[..., -1]\n",
    "b[:, -1]"
   ]
  },
  {
   "cell_type": "code",
   "execution_count": null,
   "id": "c8e30b01-4581-4664-adc8-74af045b1d1d",
   "metadata": {},
   "outputs": [],
   "source": [
    "# 三个点（ ... ）表示产生完整索引元组所需的冒号\n",
    "for row in b:\n",
    "    print(row)"
   ]
  },
  {
   "cell_type": "code",
   "execution_count": null,
   "id": "3aa8508a-f548-4fca-97d8-da6263f117bd",
   "metadata": {},
   "outputs": [],
   "source": [
    "# 但是，如果想要对数组中的每个元素执行操作，可以使用flat属性，该属性是数组的所有元素的迭代器\n",
    "for element in b.flat:\n",
    "    print(element)"
   ]
  },
  {
   "cell_type": "markdown",
   "id": "a4bd9dc1-d008-4674-8fc7-9cb5a0cded0c",
   "metadata": {},
   "source": [
    "### 形状操作"
   ]
  },
  {
   "cell_type": "code",
   "execution_count": null,
   "id": "34f65ac3-f13c-4fc9-a0fc-a8dff47e8031",
   "metadata": {},
   "outputs": [],
   "source": [
    "# 改变数据的形状\n",
    "a = np.floor(10 * np.random.random((3, 4)))\n",
    "a"
   ]
  },
  {
   "cell_type": "code",
   "execution_count": null,
   "id": "16d42712-8304-439f-8c9d-99dd35dc9755",
   "metadata": {},
   "outputs": [],
   "source": [
    "a.shape"
   ]
  },
  {
   "cell_type": "code",
   "execution_count": null,
   "id": "41510eb3-6f07-4b40-b779-612c1964db0a",
   "metadata": {},
   "outputs": [],
   "source": [
    "# 可以使用各种命令更改数组的形状。请注意，以下三个命令都返回一个修改后的数组，但不会更改原始数组\n",
    "a.ravel()"
   ]
  },
  {
   "cell_type": "code",
   "execution_count": null,
   "id": "e4245f9d-9c22-470a-a31a-d2ef06bd2b42",
   "metadata": {},
   "outputs": [],
   "source": [
    "a.reshape(6, 2)  # 6行2列\n",
    "# a.reshape(1, -1)  # 1行n列"
   ]
  },
  {
   "cell_type": "code",
   "execution_count": null,
   "id": "1040eeb1-9ab5-4f7c-bbb6-73798274ce83",
   "metadata": {},
   "outputs": [],
   "source": [
    "# 字体标题\n",
    "np.dtype([((\"字段标题\", \"字段名称\"), \"f4\")])"
   ]
  },
  {
   "cell_type": "markdown",
   "id": "52520184-6558-4b15-9c89-879de778c402",
   "metadata": {},
   "source": [
    "### 数组运算"
   ]
  },
  {
   "cell_type": "code",
   "execution_count": null,
   "id": "17b6852c-68b7-427b-b242-489972ccb698",
   "metadata": {},
   "outputs": [],
   "source": [
    "import numpy as np"
   ]
  },
  {
   "cell_type": "code",
   "execution_count": null,
   "id": "5daa40bf-68b3-4d64-8a8c-708d961ba825",
   "metadata": {},
   "outputs": [],
   "source": [
    "arr1 = np.array(\n",
    "    [[1, 2, 3, 4, 5, 6], [1, 2, 3, 4, 5, 6], [1, 2, 3, 4, 5, 6], [1, 2, 3, 4, 5, 6]]\n",
    ")"
   ]
  },
  {
   "cell_type": "code",
   "execution_count": null,
   "id": "0a23d6d2-a7db-4308-9cc5-b1d94c97d696",
   "metadata": {},
   "outputs": [],
   "source": [
    "arr1.shape"
   ]
  },
  {
   "cell_type": "code",
   "execution_count": null,
   "id": "300e93b3-09c7-49cc-abc1-abf835512e53",
   "metadata": {},
   "outputs": [],
   "source": [
    "arr2 = np.array([[1, 2, 3, 4, 5, 6], [1, 2, 3, 4, 5, 6]])"
   ]
  },
  {
   "cell_type": "code",
   "execution_count": null,
   "id": "9825d3cc-ac54-4a47-9861-79174a853fc2",
   "metadata": {},
   "outputs": [],
   "source": [
    "arr2.shape"
   ]
  },
  {
   "cell_type": "code",
   "execution_count": null,
   "id": "68191d00-52b5-4f61-8cc3-1e19afc5db89",
   "metadata": {},
   "outputs": [],
   "source": [
    "arr1 + arr2"
   ]
  },
  {
   "cell_type": "code",
   "execution_count": null,
   "id": "a7694daf-b94a-4c83-ba6d-7cf9e997a241",
   "metadata": {},
   "outputs": [],
   "source": [
    "# 用法：logspace(a,b,n,base=2)，\n",
    "# 其中a、b、n分别表示开始值（2^a）、结束值(2^b)、元素个数(n)。\n",
    "np.logspace(1, 4, 4, base=2)"
   ]
  },
  {
   "cell_type": "code",
   "execution_count": 1,
   "outputs": [
    {
     "ename": "NameError",
     "evalue": "name 'np' is not defined",
     "output_type": "error",
     "traceback": [
      "\u001B[1;31m---------------------------------------------------------------------------\u001B[0m",
      "\u001B[1;31mNameError\u001B[0m                                 Traceback (most recent call last)",
      "\u001B[1;32m~\\AppData\\Local\\Temp/ipykernel_3644/920277018.py\u001B[0m in \u001B[0;36m<module>\u001B[1;34m\u001B[0m\n\u001B[1;32m----> 1\u001B[1;33m \u001B[0mnp\u001B[0m\u001B[1;33m.\u001B[0m\u001B[0mlogspace\u001B[0m\u001B[1;33m(\u001B[0m\u001B[1;36m1\u001B[0m\u001B[1;33m,\u001B[0m \u001B[1;36m3\u001B[0m\u001B[1;33m,\u001B[0m \u001B[1;36m3\u001B[0m\u001B[1;33m,\u001B[0m \u001B[0mbase\u001B[0m\u001B[1;33m=\u001B[0m\u001B[1;36m10\u001B[0m\u001B[1;33m)\u001B[0m\u001B[1;33m\u001B[0m\u001B[1;33m\u001B[0m\u001B[0m\n\u001B[0m\u001B[0;32m      2\u001B[0m \u001B[1;33m\u001B[0m\u001B[0m\n",
      "\u001B[1;31mNameError\u001B[0m: name 'np' is not defined"
     ]
    }
   ],
   "source": [
    "np.logspace(1, 3, 3, base=10)"
   ],
   "metadata": {
    "collapsed": false,
    "pycharm": {
     "name": "#%%\n"
    }
   }
  },
  {
   "cell_type": "code",
   "execution_count": null,
   "outputs": [],
   "source": [
    "np.logspace(0, 3, 4, base=2)"
   ],
   "metadata": {
    "collapsed": false,
    "pycharm": {
     "name": "#%%\n"
    }
   }
  },
  {
   "cell_type": "code",
   "execution_count": null,
   "outputs": [],
   "source": [
    "np.logspace(-1, 3, 5, base=2)"
   ],
   "metadata": {
    "collapsed": false,
    "pycharm": {
     "name": "#%%\n"
    }
   }
  },
  {
   "cell_type": "code",
   "execution_count": null,
   "outputs": [],
   "source": [
    "np.logspace(-2, 3, 6, base=2)"
   ],
   "metadata": {
    "collapsed": false,
    "pycharm": {
     "name": "#%%\n"
    }
   }
  },
  {
   "cell_type": "code",
   "execution_count": null,
   "outputs": [],
   "source": [],
   "metadata": {
    "collapsed": false,
    "pycharm": {
     "name": "#%%\n"
    }
   }
  },
  {
   "cell_type": "markdown",
   "source": [
    " ravel()函数说明\n",
    " https://blog.csdn.net/liuweiyuxiang/article/details/78220080"
   ],
   "metadata": {
    "collapsed": false,
    "pycharm": {
     "name": "#%% md\n"
    }
   }
  },
  {
   "cell_type": "code",
   "execution_count": null,
   "outputs": [],
   "source": [
    "# import numpy as np\n",
    "rng = np.random.RandomState(0)\n",
    "\n",
    "X = 5 * rng.rand(10, 1)\n",
    "\n",
    "y = np.sin(X).ravel()  # 将多维数组降位一维\n",
    "np.sin(X).ravel()\n"
   ],
   "metadata": {
    "collapsed": false,
    "pycharm": {
     "name": "#%%\n"
    }
   }
  },
  {
   "cell_type": "code",
   "execution_count": null,
   "outputs": [],
   "source": [
    "# linspace 生成区间范围的一维数组\n",
    "# -1到1区间，5个点，4个区间，平均分：[-1.,-0.25,0.5,1.25,2.]\n",
    "new_ticks = np.linspace(-1, 1, 5)\n",
    "new_ticks"
   ],
   "metadata": {
    "collapsed": false,
    "pycharm": {
     "name": "#%%\n"
    }
   }
  },
  {
   "cell_type": "code",
   "execution_count": null,
   "outputs": [],
   "source": [
    "# 生成从0开始的3个数\n",
    "np.arange(3)"
   ],
   "metadata": {
    "collapsed": false,
    "pycharm": {
     "name": "#%%\n"
    }
   }
  },
  {
   "cell_type": "code",
   "execution_count": null,
   "outputs": [],
   "source": [
    "# 生成从1开始,10以内,步长为2的数组\n",
    "np.arange(1,10,2)"
   ],
   "metadata": {
    "collapsed": false,
    "pycharm": {
     "name": "#%%\n"
    }
   }
  },
  {
   "cell_type": "code",
   "execution_count": 124,
   "outputs": [
    {
     "name": "stdout",
     "output_type": "stream",
     "text": [
      "p1= 3055\n",
      "p2= 6945\n"
     ]
    }
   ],
   "source": [
    "#指定随机数每次运行都不一样\n",
    "np.random.seed(0)\n",
    "#指定概率，累加为1\n",
    "p = ([0.3, 0.7])\n",
    "\n",
    "#指定10%的概率取值为0，90%的概率取值为1\n",
    "p1, p2 = 0, 0\n",
    "for i in range(10000):\n",
    "    value = np.random.choice([0, 1], p=p)\n",
    "    if value == 0:\n",
    "        p1 += 1\n",
    "    else:\n",
    "        p2 += 1\n",
    "print('p1=', p1)\n",
    "print('p2=', p2)"
   ],
   "metadata": {
    "collapsed": false,
    "pycharm": {
     "name": "#%%\n"
    }
   }
  },
  {
   "cell_type": "code",
   "execution_count": 189,
   "outputs": [
    {
     "data": {
      "text/plain": "array([ 1,  1, -1,  1,  1,  1,  1,  1,  1, -1,  1, -1,  1, -1,  1,  1, -1,\n        1,  1,  1,  1,  1,  1,  1,  1,  1,  1, -1,  1, -1,  1,  1,  1,  1,\n        1,  1,  1,  1,  1,  1,  1,  1, -1,  1,  1, -1,  1, -1,  1,  1,  1,\n        1, -1,  1,  1,  1,  1, -1,  1,  1,  1,  1,  1, -1,  1,  1,  1,  1,\n       -1,  1,  1,  1,  1,  1,  1,  1,  1,  1,  1,  1,  1,  1,  1,  1,  1,\n        1,  1,  1,  1,  1,  1,  1,  1,  1,  1,  1,  1,  1,  1,  1])"
     },
     "execution_count": 189,
     "metadata": {},
     "output_type": "execute_result"
    }
   ],
   "source": [
    "# 生成size 个由 a 构成，且指定a数组中每个元素发生的概率为p 组成的数组\n",
    "a = [-1, 1]  #随机数的构成元素\n",
    "size = 100  #随机数组的大小\n",
    "p=[0.5, 0.5]  #a中各元素的发生概率，合计为1， 且元素个数与a中的元素个数相等\n",
    "arr = np.random.choice([-1, 1], 100, p=[0.5, 0.5])\n",
    "arr"
   ],
   "metadata": {
    "collapsed": false,
    "pycharm": {
     "name": "#%%\n"
    }
   }
  },
  {
   "cell_type": "code",
   "execution_count": 131,
   "outputs": [
    {
     "name": "stdout",
     "output_type": "stream",
     "text": [
      "p1= 319\n",
      "p2= 681\n"
     ]
    }
   ],
   "source": [
    "# 指定30%的概率生成-1，70%的概率生成1的随机数生成器\n",
    "p1, p2 = 0, 0\n",
    "for i in range(1000):\n",
    "    value = np.random.choice([-1, 1], p=[0.3, 0.7])\n",
    "    if value == -1:\n",
    "        p1 += 1\n",
    "    elif value == 1:\n",
    "        p2 += 1\n",
    "print('p1=',p1)\n",
    "print('p2=',p2)"
   ],
   "metadata": {
    "collapsed": false,
    "pycharm": {
     "name": "#%%\n"
    }
   }
  },
  {
   "cell_type": "code",
   "execution_count": 175,
   "outputs": [
    {
     "data": {
      "text/plain": "array([ 1.,  1.,  1., -1.,  1., -1.,  1., -1., -1.,  1., -1.,  1., -1.,\n       -1., -1., -1., -1.,  1.,  1.,  1.,  1., -1., -1.,  1., -1.,  1.,\n        1.,  1., -1., -1.,  1.,  1., -1.,  1.,  1.,  1., -1., -1., -1.,\n       -1.,  1., -1.,  1., -1., -1.,  1., -1., -1.,  1., -1.,  1.,  1.,\n       -1.,  1., -1.,  1.,  1.,  1.,  1.,  1.,  1.,  1.,  1., -1.,  1.,\n       -1.,  1., -1.,  1., -1., -1.,  1., -1.,  1., -1., -1., -1.,  1.,\n       -1., -1., -1.,  1.,  1., -1.,  1.,  1.,  1.,  1., -1.,  1.,  1.,\n       -1.,  1., -1.,  1.,  1., -1.,  1., -1., -1.])"
     },
     "execution_count": 175,
     "metadata": {},
     "output_type": "execute_result"
    }
   ],
   "source": [
    "# 生成指定概率各50%的由-1和1组成的数组\n",
    "a1 = np.zeros(100)\n",
    "for i in range(len(a1)):\n",
    "    a1[int(i)] = np.random.choice([-1, 1], p=[0.5,0.5])\n",
    "a1"
   ],
   "metadata": {
    "collapsed": false,
    "pycharm": {
     "name": "#%%\n"
    }
   }
  },
  {
   "cell_type": "code",
   "execution_count": null,
   "outputs": [],
   "source": [
    "np.random.choice()"
   ],
   "metadata": {
    "collapsed": false,
    "pycharm": {
     "name": "#%%\n"
    }
   }
  },
  {
   "cell_type": "code",
   "execution_count": 149,
   "outputs": [
    {
     "name": "stdout",
     "output_type": "stream",
     "text": [
      "[[-0.75870474  0.15113869  0.806744    0.33086943]\n",
      " [ 0.81301513 -0.43252299 -0.39968134  0.71243103]]\n",
      "b= [ 5.6464141  -1.816038    3.74343368  0.20478425 -2.43383866  4.31348893\n",
      " -2.86504055 -5.67258766  3.97681152  3.58137291]\n",
      "(2, 4)\n",
      "[[6.39900697 8.10191554 1.22409665 3.08652118]\n",
      " [6.1024902  1.52673731 5.63160288 1.146503  ]]\n",
      "总体均值 4.152359216575258\n",
      "每一行均值 [4.70288509 3.60183335]\n",
      "加权平均 5.726084709203325\n",
      "总体方差 6.534673553673592\n",
      "样本方差 7.468198347055534\n",
      "总体标准差 2.5563007557158826\n",
      "每一列总体标准差 [0.14825838 3.28758912 2.20375312 0.97000909]\n",
      "样本标准差 2.732800458697183\n"
     ]
    }
   ],
   "source": [
    "# https://blog.csdn.net/robert_chen1988/article/details/102712946#:~:text=%E8%AE%A1%E7%AE%97%E6%96%B9%E5%B7%AE%E6%97%B6%EF%BC%8C%E5%8F%AF%E4%BB%A5%E5%88%A9%E7%94%A8%20numpy%20%E4%B8%AD%E7%9A%84%20var%20%E5%87%BD%E6%95%B0%EF%BC%8C%E9%BB%98%E8%AE%A4%E6%98%AF%E6%80%BB%E4%BD%93%E6%96%B9%E5%B7%AE%EF%BC%88%E8%AE%A1%E7%AE%97%E6%97%B6%E9%99%A4%E4%BB%A5%E6%A0%B7%E6%9C%AC%E6%95%B0%20N%EF%BC%89%EF%BC%8C%E8%8B%A5%E9%9C%80%E8%A6%81%E5%BE%97%E5%88%B0%E6%A0%B7%E6%9C%AC%E6%96%B9%E5%B7%AE%EF%BC%88%E8%AE%A1%E7%AE%97%E6%97%B6%E9%99%A4%E4%BB%A5%20N%20-,%E5%87%BD%E6%95%B0%E5%8F%AF%E4%BB%A5%E5%BE%97%E5%88%B0%E6%A0%B7%E6%9C%AC%E6%96%B9%E5%B7%AE%EF%BC%88%E6%B3%A8%E6%84%8F%E4%B8%8D%E6%98%AF%E6%80%BB%E4%BD%93%E6%96%B9%E5%B7%AE%EF%BC%89%EF%BC%8Cstd%20%E5%87%BD%E6%95%B0%E5%8F%AF%E4%BB%A5%E5%BE%97%E5%88%B0%E6%A0%B7%E6%9C%AC%E6%A0%87%E5%87%86%E5%B7%AE%EF%BC%8C%E8%8B%A5%E8%A6%81%E5%BE%97%E5%88%B0%E6%9F%90%E4%B8%80%E8%A1%8C%E6%88%96%E6%9F%90%E4%B8%80%E5%88%97%E7%9A%84%E6%96%B9%E5%B7%AE%EF%BC%8C%E5%88%99%E4%B9%9F%E5%8F%AF%E7%94%A8%20iloc%20%E9%80%89%E5%8F%96%E6%9F%90%E8%A1%8C%E6%88%96%E6%9F%90%E5%88%97%EF%BC%8C%E5%90%8E%E9%9D%A2%E5%86%8D%E8%B7%9F%20var%20%E5%87%BD%E6%95%B0%E6%88%96%20std%20%E5%87%BD%E6%95%B0%E5%8D%B3%E5%8F%AF%EF%BC%8C%E4%BE%8B%E5%A6%82%EF%BC%9A\n",
    "\n",
    "# import numpy as np\n",
    "\n",
    "# 生成2行4列，均值为0，方差为1的数组\n",
    "a = np.random.randn(2, 4)\n",
    "print(a)\n",
    "# 指定数学期望和方差的正态分布 N(μ, σ2)\n",
    "# σ2：分布的标准偏差（展开或\"宽度\"）数据的分散程度 μ：数学期望或均值\n",
    "# 生成均值为5，标准差为 2.5 的正态分布的数组\n",
    "# sigma * np.random.randn(...) + mu\n",
    "a = 2.5 * np.random.randn(2, 4) + 5\n",
    "np.random.randn()\n",
    "# 生成均值为5，标准差为 2.5 正态分布的一维数组\n",
    "b = np.random.normal(2.5, 5.0, 10)\n",
    "print('b=', b)\n",
    "\n",
    "print(a.shape)\n",
    "print(a)\n",
    "print('总体均值', np.mean(a))\n",
    "print('每一行均值', np.average(a, axis=1))\n",
    "print('加权平均', np.average(a, weights=a))\n",
    "print('总体方差', np.var(a))\n",
    "print('样本方差', np.var(a, ddof=1))\n",
    "print('总体标准差', np.std(a))\n",
    "print('每一列总体标准差', np.std(a, axis=0))\n",
    "print('样本标准差', np.std(a, ddof=1))"
   ],
   "metadata": {
    "collapsed": false,
    "pycharm": {
     "name": "#%%\n"
    }
   }
  },
  {
   "cell_type": "code",
   "execution_count": 34,
   "outputs": [
    {
     "name": "stdout",
     "output_type": "stream",
     "text": [
      "[ -75.51358214  -39.97481199  -58.28699735    3.40332218  241.89530812\n",
      " -189.80694952 -117.33094228  -12.62103694  -60.44165515 -185.32225443]\n",
      "(100,)\n",
      "正数个数sum 32\n",
      "总体均值mean -39.27307962382786\n",
      "中位数med -39.48092305034394\n",
      "加权平均avg -246.4045822037411\n",
      "总体方差avr 8134.691993424038\n",
      "样本方差avr 8216.86059941822\n",
      "总体标准差std 90.19252737019868\n",
      "每一列总体标准差std 90.19252737019868\n",
      "样本标准差std 90.64690066085117\n"
     ]
    }
   ],
   "source": [
    "# 生成均值为0，标准偏差为 10 正态分布的一维数组\n",
    "mu, sigma = -10, 100 # mean and standard deviation\n",
    "a = np.random.normal(mu, sigma, 100)\n",
    "\n",
    "print(a[:10])\n",
    "print(a.shape)\n",
    "print('正数个数sum', np.sum(a>0))\n",
    "print('总体均值mean', np.mean(a))\n",
    "print('中位数med', np.median(a))\n",
    "# print('每一行均值', np.average(a, axis=1))  #二维数组可用\n",
    "print('加权平均avg', np.average(a, weights=a))\n",
    "print('总体方差avr', np.var(a))\n",
    "print('样本方差avr', np.var(a, ddof=1))\n",
    "print('总体标准差std', np.std(a))\n",
    "print('每一列总体标准差std', np.std(a, axis=0))\n",
    "print('样本标准差std', np.std(a, ddof=1))"
   ],
   "metadata": {
    "collapsed": false,
    "pycharm": {
     "name": "#%%\n"
    }
   }
  },
  {
   "cell_type": "markdown",
   "source": [
    "np.random.normal 生成二维随机正态分布数组"
   ],
   "metadata": {
    "collapsed": false,
    "pycharm": {
     "name": "#%% md\n"
    }
   }
  },
  {
   "cell_type": "code",
   "execution_count": 35,
   "outputs": [
    {
     "name": "stdout",
     "output_type": "stream",
     "text": [
      "[[ -47.40632252  122.77247818]\n",
      " [ -13.49915301 -145.05839099]\n",
      " [  48.78131068  -31.10848474]\n",
      " [-145.49367799  124.39011742]\n",
      " [  65.42121137   64.42929139]\n",
      " [ -36.60185361 -230.15467749]\n",
      " [  27.87133294   91.1265764 ]\n",
      " [  92.9745269  -101.67088685]\n",
      " [   4.21200266  -75.45449975]\n",
      " [  95.69485099   78.37206862]]\n",
      "(100, 2)\n",
      "正数个数sum 101\n",
      "总体均值mean -4.597211060450194\n",
      "中位数med 1.4148829343759468\n",
      "加权平均avg -2041.0869882298564\n",
      "总体方差avr 9362.173328096944\n",
      "样本方差avr 9409.219425223058\n",
      "总体标准差std 96.75832433489609\n",
      "每一列总体标准差std [97.08371992 94.89505745]\n",
      "样本标准差std 97.0011310512566\n"
     ]
    }
   ],
   "source": [
    "# 生成均值为0，标准偏差为 10 正态分布的二维数组\n",
    "mu, sigma, size = -10, 100, (100, 2) # mean and standard deviation\n",
    "a = np.random.normal(mu, sigma, size)\n",
    "\n",
    "print(a[:10])\n",
    "print(a.shape)\n",
    "print('正数个数sum', np.sum(a>0))\n",
    "print('总体均值mean', np.mean(a))\n",
    "print('中位数med', np.median(a))\n",
    "# print('每一行均值', np.average(a, axis=1))\n",
    "print('加权平均avg', np.average(a, weights=a))\n",
    "print('总体方差avr', np.var(a))\n",
    "print('样本方差avr', np.var(a, ddof=1))\n",
    "print('总体标准差std', np.std(a))\n",
    "print('每一列总体标准差std', np.std(a, axis=0))\n",
    "print('样本标准差std', np.std(a, ddof=1))"
   ],
   "metadata": {
    "collapsed": false,
    "pycharm": {
     "name": "#%%\n"
    }
   }
  },
  {
   "cell_type": "markdown",
   "source": [
    "## 数组合并，拼接\n",
    "\n",
    "numpy数组的合并有很多方法，如\n",
    "\n",
    "np.append()\n",
    "np.concatenate()\n",
    "np.stack()\n",
    "np.hstack()\n",
    "np.vstack()\n",
    "np.dstack()\n",
    "其中最泛用的是第一个和第二个。第一个可读性好，比较灵活，但是占内存大。第二个则没有内存占用大的问题\n",
    "————————————————\n",
    "版权声明：本文为CSDN博主「赵至柔」的原创文章，遵循CC 4.0 BY-SA版权协议，转载请附上原文出处链接及本声明。\n",
    "原文链接：https://blog.csdn.net/qq_39516859/article/details/80666070"
   ],
   "metadata": {
    "collapsed": false,
    "pycharm": {
     "name": "#%% md\n"
    }
   }
  },
  {
   "cell_type": "code",
   "execution_count": 274,
   "outputs": [
    {
     "name": "stdout",
     "output_type": "stream",
     "text": [
      "(3,)\n",
      "1\n"
     ]
    }
   ],
   "source": [
    "a1 = np.array([1,1,1])\n",
    "b1 = np.array([2,2,2])\n",
    "\n",
    "a2 = np.array([[1,1,1],\n",
    "               [2,2,2],\n",
    "               [3,3,3]])\n",
    "b2 = np.array([[11,11,11],\n",
    "               [22,22,22],\n",
    "               [33,33,33]])\n",
    "\n",
    "print(a1.shape)\n",
    "print(a1.ndim)"
   ],
   "metadata": {
    "collapsed": false,
    "pycharm": {
     "name": "#%%\n"
    }
   }
  },
  {
   "cell_type": "markdown",
   "source": [
    "1、水平组合"
   ],
   "metadata": {
    "collapsed": false,
    "pycharm": {
     "name": "#%% md\n"
    }
   }
  },
  {
   "cell_type": "code",
   "execution_count": 295,
   "outputs": [
    {
     "name": "stdout",
     "output_type": "stream",
     "text": [
      "--------------------\n",
      "a1=\n",
      " [1 1 1]\n",
      "b1=\n",
      " [2 2 2]\n",
      "--------------------\n",
      "[1 1 1 2 2 2]\n",
      "(6,) 1 hstack一维数组水平组合,维度不变，个数增加\n",
      "[1 1 1 2 2 2]\n",
      "(6,) 1 concatenate与hstack一维数组水平组合一样\n",
      "--------------------\n",
      "a2=\n",
      " [[1 1 1]\n",
      " [2 2 2]\n",
      " [3 3 3]]\n",
      "b2=\n",
      " [[11 11 11]\n",
      " [22 22 22]\n",
      " [33 33 33]]\n",
      "--------------------\n",
      "[[ 1  1  1 11 11 11]\n",
      " [ 2  2  2 22 22 22]\n",
      " [ 3  3  3 33 33 33]]\n",
      "(3, 3) 2 (3, 6) 2 hstack一维数组水平组合,维度不变,行数不变，列数改变\n",
      "(3, 6) 2\n"
     ]
    }
   ],
   "source": [
    "print(\"--------------------\")\n",
    "print('a1=\\n',a1)\n",
    "print('b1=\\n',b1)\n",
    "print(\"--------------------\")\n",
    "ch1 = np.hstack((a1, b1))\n",
    "print(ch1)\n",
    "print(ch1.shape,ch1.ndim,'hstack一维数组水平组合,维度不变，个数增加')\n",
    "cc1 = np.concatenate((a1, b1))\n",
    "print(cc1)\n",
    "print(cc1.shape,cc1.ndim,'concatenate与hstack一维数组水平组合一样')\n",
    "print(\"--------------------\")\n",
    "print('a2=\\n',a2)\n",
    "print('b2=\\n',b2)\n",
    "print(\"--------------------\")\n",
    "ch2 = np.hstack((a2, b2))\n",
    "print(ch2)\n",
    "print(a2.shape,a2.ndim,ch2.shape,ch2.ndim,'hstack二维数组水平组合,维度不变,行数不变，列数改变')\n",
    "# print(np.concatenate((a1, b1), axis=1))  #错误代码，一维数据\n",
    "cc2 = np.concatenate((a2, b2), axis=1)\n",
    "print(cc2.shape,cc2.ndim)"
   ],
   "metadata": {
    "collapsed": false,
    "pycharm": {
     "name": "#%%\n"
    }
   }
  },
  {
   "cell_type": "markdown",
   "source": [
    "2、垂直组合"
   ],
   "metadata": {
    "collapsed": false,
    "pycharm": {
     "name": "#%% md\n"
    }
   }
  },
  {
   "cell_type": "code",
   "execution_count": 290,
   "outputs": [
    {
     "name": "stdout",
     "output_type": "stream",
     "text": [
      "--------------------\n",
      "a1=\n",
      " [1 1 1]\n",
      "b1=\n",
      " [2 2 2]\n",
      "--------------------\n",
      "[[1 1 1]\n",
      " [2 2 2]]\n",
      "(2, 3) 2 vstack一维数组垂直组合，数组变成二维\n",
      "[1 1 1 2 2 2]\n",
      "(6,) 1 concatenate一维数组垂直组合，数组还是一维\n",
      "--------------------\n",
      "a2=\n",
      " [[1 1 1]\n",
      " [2 2 2]\n",
      " [3 3 3]]\n",
      "b2=\n",
      " [[11 11 11]\n",
      " [22 22 22]\n",
      " [33 33 33]]\n",
      "--------------------\n",
      "[[ 1  1  1]\n",
      " [ 2  2  2]\n",
      " [ 3  3  3]\n",
      " [11 11 11]\n",
      " [22 22 22]\n",
      " [33 33 33]]\n",
      "(6, 3) 2 vstack二维数组垂直组合，维度不变，列数不变，行数增加\n",
      "[[ 1  1  1]\n",
      " [ 2  2  2]\n",
      " [ 3  3  3]\n",
      " [11 11 11]\n",
      " [22 22 22]\n",
      " [33 33 33]]\n",
      "(6, 3) 2 concatenate与vstack二维数组垂直组合一样\n"
     ]
    }
   ],
   "source": [
    "print(\"--------------------\")\n",
    "print('a1=\\n',a1)\n",
    "print('b1=\\n',b1)\n",
    "print(\"--------------------\")\n",
    "cv1 = np.vstack((a1, b1))\n",
    "print(cv1)\n",
    "print(cv1.shape,cv1.ndim,'vstack一维数组垂直组合，数组变成二维')\n",
    "cc2 = np.concatenate((a1, b1), axis=0)\n",
    "print(cc2)\n",
    "print(cc2.shape,cc2.ndim,'concatenate一维数组垂直组合，数组还是一维')\n",
    "print(\"--------------------\")\n",
    "print('a2=\\n',a2)\n",
    "print('b2=\\n',b2)\n",
    "print(\"--------------------\")\n",
    "cv2 = np.vstack((a2, b2))\n",
    "print(cv2)\n",
    "print(cv2.shape,cv2.ndim,'vstack二维数组垂直组合，维度不变，列数不变，行数增加')\n",
    "cc2 = np.concatenate((a2, b2), axis=0)\n",
    "print(cc2)\n",
    "print(cc2.shape,cc2.ndim,'concatenate与vstack二维数组垂直组合一样')"
   ],
   "metadata": {
    "collapsed": false,
    "pycharm": {
     "name": "#%%\n"
    }
   }
  },
  {
   "cell_type": "markdown",
   "source": [
    "深度组合：沿着纵轴方向组合"
   ],
   "metadata": {
    "collapsed": false,
    "pycharm": {
     "name": "#%% md\n"
    }
   }
  },
  {
   "cell_type": "code",
   "execution_count": 247,
   "outputs": [
    {
     "name": "stdout",
     "output_type": "stream",
     "text": [
      "[[[1 2]\n",
      "  [1 2]\n",
      "  [1 2]]]\n",
      "--------------------\n",
      "[[[ 1 11]\n",
      "  [ 1 12]\n",
      "  [ 1 13]]\n",
      "\n",
      " [[ 2 21]\n",
      "  [ 2 22]\n",
      "  [ 2 23]]\n",
      "\n",
      " [[ 3 31]\n",
      "  [ 3 32]\n",
      "  [ 3 33]]]\n"
     ]
    }
   ],
   "source": [
    "a1 = np.array([1,1,1])\n",
    "b1 = np.array([2,2,2])\n",
    "\n",
    "a2 = np.array([[1,1,1],\n",
    "               [2,2,2],\n",
    "               [3,3,3]])\n",
    "b2 = np.array([[11,12,13],\n",
    "               [21,22,23],\n",
    "               [31,32,33]])\n",
    "\n",
    "print(np.dstack((a1, b1)))\n",
    "print(\"--------------------\")\n",
    "print(np.dstack((a2, b2)))"
   ],
   "metadata": {
    "collapsed": false,
    "pycharm": {
     "name": "#%%\n"
    }
   }
  },
  {
   "cell_type": "markdown",
   "source": [
    "## Numpy数组运算\n",
    "\n",
    "https://zhuanlan.zhihu.com/p/53776362"
   ],
   "metadata": {
    "collapsed": false,
    "pycharm": {
     "name": "#%% md\n"
    }
   }
  },
  {
   "cell_type": "code",
   "execution_count": 272,
   "outputs": [],
   "source": [
    "a1 = np.array([1,1,1])\n",
    "b1 = np.array([2,2,2])\n",
    "\n",
    "a2 = np.array([[10,11,12],\n",
    "               [20,21,22],\n",
    "               [30,31,32]])\n",
    "b2 = np.array([[10,11,12],\n",
    "               [20,21,22],\n",
    "               [30,31,32]])"
   ],
   "metadata": {
    "collapsed": false,
    "pycharm": {
     "name": "#%%\n"
    }
   }
  },
  {
   "cell_type": "code",
   "execution_count": 297,
   "outputs": [
    {
     "name": "stdout",
     "output_type": "stream",
     "text": [
      "a1+b1=\n",
      " [3 3 3]\n",
      "a1*b1=\n",
      " [2 2 2]\n",
      "a2+b2=\n",
      " [[12 12 12]\n",
      " [24 24 24]\n",
      " [36 36 36]]\n",
      "a2*b2=\n",
      " [[11 11 11]\n",
      " [44 44 44]\n",
      " [99 99 99]]\n"
     ]
    }
   ],
   "source": [
    "print('a1+b1=\\n',a1+b1)\n",
    "print('a1*b1=\\n',a1*b1)\n",
    "\n",
    "print('a2+b2=\\n',a2+b2)\n",
    "print('a2*b2=\\n',a2*b2)"
   ],
   "metadata": {
    "collapsed": false,
    "pycharm": {
     "name": "#%%\n"
    }
   }
  },
  {
   "cell_type": "markdown",
   "source": [
    "从多元正态分布中抽取随机样本。\n",
    "https://numpy.org/devdocs/reference/random/generated/numpy.random.multivariate_normal.html?highlight=numpy%20random%20multivariate_normal#numpy.random.multivariate_normal\n",
    "\n",
    "参数\n",
    "长度为 N 的 1-D array_like平均值\n",
    "N 维分布的平均值。\n",
    "\n",
    "cov2-D array_like，形状 （N， N）\n",
    "分布的协方差矩阵。它必须是对称的和正半定的，才能进行适当的采样。\n",
    "\n",
    "大小整数或整数元组，可选\n",
    "例如，给定一个形状，生成样本，并以m-x-n-by-k排列方式打包。由于每个样本都是N维的，因此输出形状为 。如果未指定形状，则返回单个 （N-D） 样本。(m,n,k)m*n*k(m,n,k,N)\n",
    "\n",
    "check_valid{ 'warn'， 'raise'， 'ignore' }， optional\n",
    "协方差矩阵不是正半定时的行为。\n",
    "\n",
    "托浮子，可选\n",
    "检查协方差矩阵中的奇异值时的容差。在检查之前，cov被铸造成双倍。\n",
    "\n",
    "返回\n",
    "outndarray\n",
    "绘制的样本，形状大小，如果提供的话。如果不是，则形状为 。(N,)\n",
    "\n",
    "换句话说，每个条目都是从分布中得出的 N 维值。out[i,j,...,:]"
   ],
   "metadata": {
    "collapsed": false,
    "pycharm": {
     "name": "#%% md\n"
    }
   }
  },
  {
   "cell_type": "code",
   "execution_count": 8,
   "outputs": [
    {
     "name": "stdout",
     "output_type": "stream",
     "text": [
      "[[[1.30430815 2.33173669]\n",
      "  [2.4769841  3.34403045]\n",
      "  [0.81296929 1.95826239]]\n",
      "\n",
      " [[0.67965149 0.19329475]\n",
      "  [2.13564774 1.64814262]\n",
      "  [1.5055785  1.78031201]]\n",
      "\n",
      " [[2.55227753 0.98660468]\n",
      "  [1.49726159 1.52709532]\n",
      "  [1.37450653 1.60078834]]]\n"
     ]
    }
   ],
   "source": [
    "mean = (1, 2)\n",
    "cov = [[1, 0], [0, 1]]\n",
    "x = np.random.multivariate_normal(mean, cov, (3, 3))\n",
    "print(x)\n"
   ],
   "metadata": {
    "collapsed": false,
    "pycharm": {
     "name": "#%%\n"
    }
   }
  },
  {
   "cell_type": "code",
   "execution_count": 25,
   "outputs": [
    {
     "name": "stdout",
     "output_type": "stream",
     "text": [
      "生成随机数方法一:  -1\n",
      "运行时间:\n",
      "795 µs ± 15.6 µs per loop (mean ± std. dev. of 7 runs, 1000 loops each)\n"
     ]
    }
   ],
   "source": [
    "import numpy as np\n",
    "import random\n",
    "print('生成随机数方法一: ', (random.choice([-1,1])))\n",
    "print('运行时间:')\n",
    "%timeit [random.choice([-1,1]) for i in range(1000)]\n",
    "# 795 µs ± 15.6 µs per loop (mean ± std. dev. of 7 runs, 1000 loops each)"
   ],
   "metadata": {
    "collapsed": false,
    "pycharm": {
     "name": "#%%\n"
    }
   }
  },
  {
   "cell_type": "code",
   "execution_count": 26,
   "outputs": [
    {
     "name": "stdout",
     "output_type": "stream",
     "text": [
      "生成随机数方法二:  -1\n",
      "运行时间:\n",
      "131 µs ± 9.71 µs per loop (mean ± std. dev. of 7 runs, 10000 loops each)\n"
     ]
    }
   ],
   "source": [
    "print('生成随机数方法二: ', (1 if random.random() < 0.5 else -1))\n",
    "print('运行时间:')\n",
    "%timeit [1 if random.random() < 0.5 else -1 for i in range(1000)]\n",
    "# 131 µs ± 9.71 µs per loop (mean ± std. dev. of 7 runs, 10000 loops each)"
   ],
   "metadata": {
    "collapsed": false,
    "pycharm": {
     "name": "#%%\n"
    }
   }
  },
  {
   "cell_type": "code",
   "execution_count": 27,
   "outputs": [
    {
     "name": "stdout",
     "output_type": "stream",
     "text": [
      "生成随机数方法三: [ 1  1  1  1 -1  1  1 -1 -1 -1]\n",
      "运行时间:\n",
      "23.7 µs ± 906 ns per loop (mean ± std. dev. of 7 runs, 10000 loops each)\n"
     ]
    }
   ],
   "source": [
    "print('生成随机数方法三:', (np.random.choice([-1,1],10)))\n",
    "print('运行时间:')\n",
    "%timeit np.random.choice([-1,1],size=1000)\n",
    "#方法三最快\n",
    "# 23.7 µs ± 906 ns per loop (mean ± std. dev. of 7 runs, 10000 loops each)"
   ],
   "metadata": {
    "collapsed": false,
    "pycharm": {
     "name": "#%%\n"
    }
   }
  },
  {
   "cell_type": "code",
   "execution_count": null,
   "outputs": [],
   "source": [],
   "metadata": {
    "collapsed": false,
    "pycharm": {
     "name": "#%%\n"
    }
   }
  }
 ],
 "metadata": {
  "kernelspec": {
   "name": "pycharm-50a0962a",
   "language": "python",
   "display_name": "PyCharm (python-demo)"
  },
  "language_info": {
   "codemirror_mode": {
    "name": "ipython",
    "version": 3
   },
   "file_extension": ".py",
   "mimetype": "text/x-python",
   "name": "python",
   "nbconvert_exporter": "python",
   "pygments_lexer": "ipython3",
   "version": "3.8.12"
  },
  "toc-autonumbering": true,
  "toc-showcode": false,
  "toc-showmarkdowntxt": true
 },
 "nbformat": 4,
 "nbformat_minor": 5
}