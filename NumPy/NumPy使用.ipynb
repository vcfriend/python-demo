{
 "cells": [
  {
   "cell_type": "markdown",
   "id": "44cd8b8e-266d-4df7-83d0-e84ecbc2fbad",
   "metadata": {},
   "source": [
    "### 导入包"
   ]
  },
  {
   "cell_type": "code",
   "execution_count": 123,
   "id": "5efd2a5c-1977-418b-a981-311b8fd8ebc3",
   "metadata": {},
   "outputs": [],
   "source": [
    "# -*- conding: utf-8 -*-\n",
    "import numpy as np"
   ]
  },
  {
   "cell_type": "code",
   "execution_count": 124,
   "id": "fddb71e3-b365-43a9-8656-4e31d59e55ce",
   "metadata": {},
   "outputs": [
    {
     "data": {
      "text/plain": "array([[ 0,  1,  2,  3,  4],\n       [ 5,  6,  7,  8,  9],\n       [10, 11, 12, 13, 14]])"
     },
     "execution_count": 124,
     "metadata": {},
     "output_type": "execute_result"
    }
   ],
   "source": [
    "# reshape 改变数组的维度\n",
    "a = np.arange(15).reshape(3, 5)\n",
    "a\n"
   ]
  },
  {
   "cell_type": "code",
   "execution_count": 125,
   "id": "5acbfd07-f045-4554-b051-6d322a3cdf37",
   "metadata": {},
   "outputs": [
    {
     "data": {
      "text/plain": "(3, 5)"
     },
     "execution_count": 125,
     "metadata": {},
     "output_type": "execute_result"
    }
   ],
   "source": [
    "# 数组的维度\n",
    "a.shape"
   ]
  },
  {
   "cell_type": "code",
   "execution_count": 126,
   "id": "16845f64-5cd1-48ae-b69d-442cc25f5073",
   "metadata": {},
   "outputs": [
    {
     "data": {
      "text/plain": "2"
     },
     "execution_count": 126,
     "metadata": {},
     "output_type": "execute_result"
    }
   ],
   "source": [
    "# 数组的轴（维度）\n",
    "a.ndim"
   ]
  },
  {
   "cell_type": "code",
   "execution_count": 127,
   "id": "356d04ff-3a41-40cf-8071-383629b3cd68",
   "metadata": {},
   "outputs": [
    {
     "data": {
      "text/plain": "'int32'"
     },
     "execution_count": 127,
     "metadata": {},
     "output_type": "execute_result"
    }
   ],
   "source": [
    "# 数组中元素的类型\n",
    "a.dtype.name"
   ]
  },
  {
   "cell_type": "code",
   "execution_count": 128,
   "id": "d54770a3-4e44-42e3-8774-a817440128f0",
   "metadata": {},
   "outputs": [
    {
     "data": {
      "text/plain": "4"
     },
     "execution_count": 128,
     "metadata": {},
     "output_type": "execute_result"
    }
   ],
   "source": [
    "# 数组中每个元素的大小\n",
    "a.itemsize"
   ]
  },
  {
   "cell_type": "code",
   "execution_count": 129,
   "id": "835511fb-90bc-4fc5-b0ff-3145579babd9",
   "metadata": {},
   "outputs": [
    {
     "data": {
      "text/plain": "15"
     },
     "execution_count": 129,
     "metadata": {},
     "output_type": "execute_result"
    }
   ],
   "source": [
    "# 数组中元素的个数\n",
    "a.size"
   ]
  },
  {
   "cell_type": "code",
   "execution_count": 130,
   "id": "f0d656ed-3c0f-4efe-b602-a99adb1a8a84",
   "metadata": {},
   "outputs": [
    {
     "data": {
      "text/plain": "array([6, 7, 8])"
     },
     "execution_count": 130,
     "metadata": {},
     "output_type": "execute_result"
    }
   ],
   "source": [
    "b = np.array([6, 7, 8])\n",
    "b"
   ]
  },
  {
   "cell_type": "code",
   "execution_count": 130,
   "outputs": [],
   "source": [],
   "metadata": {
    "collapsed": false,
    "pycharm": {
     "name": "#%%\n"
    }
   }
  },
  {
   "cell_type": "code",
   "execution_count": 131,
   "id": "0fc14638-a607-43e4-aa5b-bc9a93bd1b36",
   "metadata": {},
   "outputs": [
    {
     "data": {
      "text/plain": "numpy.ndarray"
     },
     "execution_count": 131,
     "metadata": {},
     "output_type": "execute_result"
    }
   ],
   "source": [
    "type(b)"
   ]
  },
  {
   "cell_type": "code",
   "execution_count": 132,
   "id": "8d627596-762b-4cbf-9ca5-209f03d2bf09",
   "metadata": {},
   "outputs": [
    {
     "data": {
      "text/plain": "array([2, 3, 4])"
     },
     "execution_count": 132,
     "metadata": {},
     "output_type": "execute_result"
    }
   ],
   "source": [
    "# 数组创建\n",
    "a = np.array([2, 3, 4])\n",
    "a"
   ]
  },
  {
   "cell_type": "code",
   "execution_count": 133,
   "id": "372f0746-5e2f-475a-b7a1-15e474dd3ae6",
   "metadata": {},
   "outputs": [
    {
     "data": {
      "text/plain": "dtype('int32')"
     },
     "execution_count": 133,
     "metadata": {},
     "output_type": "execute_result"
    }
   ],
   "source": [
    "a.dtype"
   ]
  },
  {
   "cell_type": "code",
   "execution_count": 134,
   "id": "13c2f3f1-fba9-4101-b4e3-f8b48e9ce587",
   "metadata": {},
   "outputs": [
    {
     "data": {
      "text/plain": "dtype('float64')"
     },
     "execution_count": 134,
     "metadata": {},
     "output_type": "execute_result"
    }
   ],
   "source": [
    "b = np.array([1.2, 3.5, 5.1])\n",
    "b.dtype"
   ]
  },
  {
   "cell_type": "code",
   "execution_count": 135,
   "id": "da13ee4d-b752-4c77-9867-b573cff5836d",
   "metadata": {},
   "outputs": [],
   "source": [
    "# 一个常见的错误，就是调用array的时候传入多个数字参数，而不是提供单个数字的列表类型作为参数"
   ]
  },
  {
   "cell_type": "code",
   "execution_count": 136,
   "id": "063e4de2-f8c3-4695-8d62-b2ce936c158c",
   "metadata": {},
   "outputs": [
    {
     "ename": "TypeError",
     "evalue": "array() takes from 1 to 2 positional arguments but 4 were given",
     "output_type": "error",
     "traceback": [
      "\u001B[1;31m---------------------------------------------------------------------------\u001B[0m",
      "\u001B[1;31mTypeError\u001B[0m                                 Traceback (most recent call last)",
      "\u001B[1;32m~\\AppData\\Local\\Temp/ipykernel_18716/1549395574.py\u001B[0m in \u001B[0;36m<module>\u001B[1;34m\u001B[0m\n\u001B[1;32m----> 1\u001B[1;33m \u001B[0ma\u001B[0m \u001B[1;33m=\u001B[0m \u001B[0mnp\u001B[0m\u001B[1;33m.\u001B[0m\u001B[0marray\u001B[0m\u001B[1;33m(\u001B[0m\u001B[1;36m1\u001B[0m\u001B[1;33m,\u001B[0m \u001B[1;36m2\u001B[0m\u001B[1;33m,\u001B[0m \u001B[1;36m3\u001B[0m\u001B[1;33m,\u001B[0m \u001B[1;36m4\u001B[0m\u001B[1;33m)\u001B[0m  \u001B[1;31m# 错误的\u001B[0m\u001B[1;33m\u001B[0m\u001B[1;33m\u001B[0m\u001B[0m\n\u001B[0m\u001B[0;32m      2\u001B[0m \u001B[1;33m\u001B[0m\u001B[0m\n",
      "\u001B[1;31mTypeError\u001B[0m: array() takes from 1 to 2 positional arguments but 4 were given"
     ]
    }
   ],
   "source": [
    "a = np.array(1, 2, 3, 4)  # 错误的"
   ]
  },
  {
   "cell_type": "code",
   "execution_count": null,
   "id": "aecd41ac-9e04-4114-97ff-ee285cae674a",
   "metadata": {},
   "outputs": [],
   "source": [
    "a = np.array([1, 2, 3, 4])  # 正确的\n",
    "a"
   ]
  },
  {
   "cell_type": "code",
   "execution_count": null,
   "id": "71033bea-1388-4aa5-a562-e68a1ce9ff08",
   "metadata": {},
   "outputs": [],
   "source": [
    "# shape 数组的维度 这是一个整数的元组表示每个维度中数组的大小。对于有 n 行和 m 列的矩阵，shape 将是 (n,m)。"
   ]
  },
  {
   "cell_type": "code",
   "execution_count": null,
   "id": "6b27a000-cf16-400d-9942-cb931c57363c",
   "metadata": {},
   "outputs": [],
   "source": [
    "a.shape"
   ]
  },
  {
   "cell_type": "code",
   "execution_count": null,
   "id": "26aba1cc-65bc-4f50-99f5-962265bad704",
   "metadata": {},
   "outputs": [],
   "source": [
    "a.ndim  # 数组的轴（维度）"
   ]
  },
  {
   "cell_type": "code",
   "execution_count": null,
   "id": "7a7ea3bc-36fc-4569-88a9-c0b4feb46f35",
   "metadata": {},
   "outputs": [],
   "source": [
    "a.dtype"
   ]
  },
  {
   "cell_type": "code",
   "execution_count": null,
   "id": "8b947e2d-0508-4f8c-93d7-68ef2040de3f",
   "metadata": {},
   "outputs": [],
   "source": [
    "# array 还可以将序列的序列转换成二维数组，将序列的序列的序列转换成三维数组，等等。"
   ]
  },
  {
   "cell_type": "code",
   "execution_count": null,
   "id": "82929ca6-9d66-460f-8e03-febe8d08a964",
   "metadata": {},
   "outputs": [],
   "source": [
    "b = np.array([(1.5, 2.3), (4, 5, 6)], dtype=object)\n",
    "b"
   ]
  },
  {
   "cell_type": "code",
   "execution_count": null,
   "id": "70054f0f-a721-4b56-a3e4-dc753172d06e",
   "metadata": {},
   "outputs": [],
   "source": [
    "# 也可以在创建时显式指定数组的类型"
   ]
  },
  {
   "cell_type": "code",
   "execution_count": null,
   "id": "c134153d-4bc0-47f3-9012-9e540b0da17e",
   "metadata": {},
   "outputs": [],
   "source": [
    "c = np.array([[1, 2], [3, 4]], dtype=complex)\n",
    "c"
   ]
  },
  {
   "cell_type": "code",
   "execution_count": null,
   "id": "085356f5-4de5-4b05-8ca3-4200bd35edd3",
   "metadata": {},
   "outputs": [],
   "source": [
    "# 函数zeros创建一个由0组成的数组，函数 ones创建一个完整的数组，函数empty 创建一个数组，\n",
    "# 其初始内容是随机的，取决于内存的状态。默认情况下，创建的数组的dtype是 float64 类型的"
   ]
  },
  {
   "cell_type": "code",
   "execution_count": null,
   "id": "367e55c5-0bc4-4c79-b3b7-c94f36a08d6e",
   "metadata": {},
   "outputs": [],
   "source": [
    "a = np.zeros((3, 4))\n",
    "a"
   ]
  },
  {
   "cell_type": "code",
   "execution_count": null,
   "id": "769309fd-ba22-4edf-b8eb-9f496494392b",
   "metadata": {},
   "outputs": [],
   "source": [
    "a.dtype"
   ]
  },
  {
   "cell_type": "code",
   "execution_count": null,
   "id": "16ff8aac-ea89-4d4a-8a7f-4645f24ff415",
   "metadata": {},
   "outputs": [],
   "source": [
    "np.ones((2, 3, 4), dtype=np.int16)"
   ]
  },
  {
   "cell_type": "markdown",
   "id": "ffcb0bee-2b24-4bdf-ae21-5e18b22cfd5b",
   "metadata": {},
   "source": [
    "### 基础操作"
   ]
  },
  {
   "cell_type": "code",
   "execution_count": null,
   "id": "01394e94-1355-4b86-a768-806ef96d0273",
   "metadata": {},
   "outputs": [],
   "source": [
    "a = np.array([20, 30, 40, 50])\n",
    "print(a)\n",
    "b = np.arange(4)\n",
    "print(b)"
   ]
  },
  {
   "cell_type": "code",
   "execution_count": null,
   "id": "1038f9e4-24cb-4491-96b8-dddcc2d227a4",
   "metadata": {},
   "outputs": [],
   "source": [
    "c = a - b\n",
    "print(c)"
   ]
  },
  {
   "cell_type": "code",
   "execution_count": null,
   "id": "eb4c1028-6ac9-4232-9265-dbc6009eef61",
   "metadata": {},
   "outputs": [],
   "source": [
    "b ** 2"
   ]
  },
  {
   "cell_type": "code",
   "execution_count": null,
   "outputs": [],
   "source": [
    "import numpy as np\n",
    "\n",
    "# 二行1列二维数组，按位操作\n",
    "a = np.array([[1, 1],])\n",
    "b = np.array(([[0, 1],]))\n",
    "a | b"
   ],
   "metadata": {
    "collapsed": false,
    "pycharm": {
     "name": "#%%\n"
    }
   }
  },
  {
   "cell_type": "code",
   "execution_count": null,
   "id": "b72034f7-8db5-4e37-bdc0-e4a5e25080e8",
   "metadata": {},
   "outputs": [],
   "source": [
    "a = np.array([[1, 1], [0, 1]])\n",
    "b = np.array([[2, 0], [3, 4]])\n",
    "a * b"
   ]
  },
  {
   "cell_type": "code",
   "execution_count": null,
   "id": "f1b5ef26-b80f-4e51-8ab5-7671c8bf5c0c",
   "metadata": {},
   "outputs": [],
   "source": [
    "a @ b"
   ]
  },
  {
   "cell_type": "code",
   "execution_count": null,
   "id": "82b5e264-000f-49ba-94ae-a7624aab0b57",
   "metadata": {},
   "outputs": [],
   "source": [
    "a.dot(b)"
   ]
  },
  {
   "cell_type": "code",
   "execution_count": null,
   "id": "90a592bc-c425-41e4-96b4-937e79c7f502",
   "metadata": {},
   "outputs": [],
   "source": [
    "# 生成一个二行三列的全为1的数组\n",
    "a = np.ones((2, 3), dtype=int)\n",
    "a"
   ]
  },
  {
   "cell_type": "code",
   "execution_count": null,
   "id": "b2bb9215-25e8-4022-866e-7b99e22c408a",
   "metadata": {},
   "outputs": [],
   "source": [
    "a *= 3\n",
    "print(a)"
   ]
  },
  {
   "cell_type": "code",
   "execution_count": null,
   "id": "f273d7a7-81ab-44cd-8e3a-995730244b0b",
   "metadata": {},
   "outputs": [],
   "source": [
    "# 生成一个二行三列的随机数# 生成一个二行三列的随机数组\n",
    "b = np.random.random((2, 3))\n",
    "b"
   ]
  },
  {
   "cell_type": "code",
   "execution_count": null,
   "id": "3d1f2e12-9be7-4111-b107-6e57b0dbd9cf",
   "metadata": {},
   "outputs": [],
   "source": [
    "b += a\n",
    "b"
   ]
  },
  {
   "cell_type": "code",
   "execution_count": null,
   "id": "9661ceeb-5ccc-429c-b000-f1ad54cd5ed4",
   "metadata": {},
   "outputs": [],
   "source": [
    "# b不会自动转换为整数类型\n",
    "a += b"
   ]
  },
  {
   "cell_type": "markdown",
   "id": "c0740946-e553-4fc2-845f-5703dc40e2d1",
   "metadata": {},
   "source": [
    "### 索引、切片和迭代"
   ]
  },
  {
   "cell_type": "code",
   "execution_count": null,
   "id": "dd661cfc-fb8b-479b-bf80-6d845affcc50",
   "metadata": {},
   "outputs": [],
   "source": [
    "# 一维的数组可以进行索引、切片和迭代操作的就像列表一样\n",
    "a = np.arange(10) ** 1\n",
    "a"
   ]
  },
  {
   "cell_type": "code",
   "execution_count": null,
   "id": "e6c340e2-4301-4bbf-b06c-0562542b3771",
   "metadata": {},
   "outputs": [],
   "source": [
    "a[2:5]"
   ]
  },
  {
   "cell_type": "code",
   "execution_count": null,
   "id": "c8d9b089-9394-4cdd-9610-1cae300023b2",
   "metadata": {},
   "outputs": [],
   "source": [
    "# 取0>=下标>6, 间隔为2的数据\n",
    "a[:6:2]"
   ]
  },
  {
   "cell_type": "code",
   "execution_count": null,
   "id": "9628369c-fd3e-4996-a35c-cbd7021e09a3",
   "metadata": {},
   "outputs": [],
   "source": [
    "a[:6:2] = 100\n",
    "a"
   ]
  },
  {
   "cell_type": "code",
   "execution_count": null,
   "id": "4ba2fb71-146c-4d14-97ce-6e986d460186",
   "metadata": {},
   "outputs": [],
   "source": [
    "# 多维的数组每个轴可以有一个索引。这些索引以逗号隔的元组给出"
   ]
  },
  {
   "cell_type": "code",
   "execution_count": null,
   "id": "69fe738b-d71f-43c1-b499-b6c334cd36d4",
   "metadata": {},
   "outputs": [],
   "source": [
    "def f(x, y):\n",
    "    return 10 * x + y"
   ]
  },
  {
   "cell_type": "code",
   "execution_count": null,
   "id": "50c92f5b-7eef-4c57-b849-e63164e0613d",
   "metadata": {},
   "outputs": [],
   "source": [
    "b = np.fromfunction(f, (5, 4), dtype=int)\n",
    "b"
   ]
  },
  {
   "cell_type": "code",
   "execution_count": null,
   "id": "ca0af768-bca8-49f6-9e15-3b8a389a8d9b",
   "metadata": {},
   "outputs": [],
   "source": [
    "b[2, 3]"
   ]
  },
  {
   "cell_type": "code",
   "execution_count": null,
   "id": "d56e316d-8be5-4634-b9ef-01287728d95f",
   "metadata": {},
   "outputs": [],
   "source": [
    "# 取行下标0到5-1行，列下标1列的数据\n",
    "b[0:5, 1]"
   ]
  },
  {
   "cell_type": "code",
   "execution_count": null,
   "id": "f104e47c-8815-4668-848c-de565a6d908e",
   "metadata": {},
   "outputs": [],
   "source": [
    "b[:, 1]"
   ]
  },
  {
   "cell_type": "code",
   "execution_count": null,
   "id": "dad2805c-374b-40f4-a6b2-15161a52e8c1",
   "metadata": {},
   "outputs": [],
   "source": [
    "# 取行下标1到3-1行，所有列的数据\n",
    "b[1:3, :]"
   ]
  },
  {
   "cell_type": "code",
   "execution_count": null,
   "id": "20f40f92-79c5-4a80-878f-f26a180d96b2",
   "metadata": {},
   "outputs": [],
   "source": [
    "# 取最后第一行数据\n",
    "b[-1, :]"
   ]
  },
  {
   "cell_type": "code",
   "execution_count": null,
   "id": "7c03456f-0eb6-448b-95dd-fcf61110f647",
   "metadata": {},
   "outputs": [],
   "source": [
    "b[-1, ...]"
   ]
  },
  {
   "cell_type": "code",
   "execution_count": null,
   "id": "cf12ee7f-ba4c-428a-b867-b39896aac7dc",
   "metadata": {},
   "outputs": [],
   "source": [
    "# 当提供的索引少于轴的数量时，缺失的索引被认为是完整的切片\n",
    "# 取最后一行数据,等价于 b[-1, :]和b[-1, ...]\n",
    "# 三个点（ ... ）表示产生完整索引元组所需的冒号\n",
    "b[-1]"
   ]
  },
  {
   "cell_type": "code",
   "execution_count": null,
   "id": "e263449b-2660-4397-acd7-ed866be6ab59",
   "metadata": {},
   "outputs": [],
   "source": [
    "b[..., 3]"
   ]
  },
  {
   "cell_type": "code",
   "execution_count": null,
   "id": "da36a594-3893-42ce-98dd-aac7697bf728",
   "metadata": {},
   "outputs": [],
   "source": [
    "b[..., -1]"
   ]
  },
  {
   "cell_type": "code",
   "execution_count": null,
   "id": "0b645c98-b46b-4e19-823e-77422420e28e",
   "metadata": {},
   "outputs": [],
   "source": [
    "# 取最后一列数据 等价于 b[..., 3]和b[..., -1]\n",
    "b[:, -1]"
   ]
  },
  {
   "cell_type": "code",
   "execution_count": null,
   "id": "c8e30b01-4581-4664-adc8-74af045b1d1d",
   "metadata": {},
   "outputs": [],
   "source": [
    "# 三个点（ ... ）表示产生完整索引元组所需的冒号\n",
    "for row in b:\n",
    "    print(row)"
   ]
  },
  {
   "cell_type": "code",
   "execution_count": null,
   "id": "3aa8508a-f548-4fca-97d8-da6263f117bd",
   "metadata": {},
   "outputs": [],
   "source": [
    "# 但是，如果想要对数组中的每个元素执行操作，可以使用flat属性，该属性是数组的所有元素的迭代器\n",
    "for element in b.flat:\n",
    "    print(element)"
   ]
  },
  {
   "cell_type": "markdown",
   "id": "a4bd9dc1-d008-4674-8fc7-9cb5a0cded0c",
   "metadata": {},
   "source": [
    "### 形状操作"
   ]
  },
  {
   "cell_type": "code",
   "execution_count": null,
   "id": "34f65ac3-f13c-4fc9-a0fc-a8dff47e8031",
   "metadata": {},
   "outputs": [],
   "source": [
    "# 改变数据的形状\n",
    "a = np.floor(10 * np.random.random((3, 4)))\n",
    "a"
   ]
  },
  {
   "cell_type": "code",
   "execution_count": null,
   "id": "16d42712-8304-439f-8c9d-99dd35dc9755",
   "metadata": {},
   "outputs": [],
   "source": [
    "a.shape"
   ]
  },
  {
   "cell_type": "code",
   "execution_count": null,
   "id": "41510eb3-6f07-4b40-b779-612c1964db0a",
   "metadata": {},
   "outputs": [],
   "source": [
    "# 可以使用各种命令更改数组的形状。请注意，以下三个命令都返回一个修改后的数组，但不会更改原始数组\n",
    "a.ravel()"
   ]
  },
  {
   "cell_type": "code",
   "execution_count": null,
   "id": "e4245f9d-9c22-470a-a31a-d2ef06bd2b42",
   "metadata": {},
   "outputs": [],
   "source": [
    "a.reshape(6, 2)  # 6行2列\n",
    "# a.reshape(1, -1)  # 1行n列"
   ]
  },
  {
   "cell_type": "code",
   "execution_count": null,
   "id": "1040eeb1-9ab5-4f7c-bbb6-73798274ce83",
   "metadata": {},
   "outputs": [],
   "source": [
    "# 字体标题\n",
    "np.dtype([((\"字段标题\", \"字段名称\"), \"f4\")])"
   ]
  },
  {
   "cell_type": "markdown",
   "id": "52520184-6558-4b15-9c89-879de778c402",
   "metadata": {},
   "source": [
    "### 数组运算"
   ]
  },
  {
   "cell_type": "code",
   "execution_count": null,
   "id": "17b6852c-68b7-427b-b242-489972ccb698",
   "metadata": {},
   "outputs": [],
   "source": [
    "import numpy as np"
   ]
  },
  {
   "cell_type": "code",
   "execution_count": null,
   "id": "5daa40bf-68b3-4d64-8a8c-708d961ba825",
   "metadata": {},
   "outputs": [],
   "source": [
    "arr1 = np.array(\n",
    "    [[1, 2, 3, 4, 5, 6], [1, 2, 3, 4, 5, 6], [1, 2, 3, 4, 5, 6], [1, 2, 3, 4, 5, 6]]\n",
    ")"
   ]
  },
  {
   "cell_type": "code",
   "execution_count": null,
   "id": "0a23d6d2-a7db-4308-9cc5-b1d94c97d696",
   "metadata": {},
   "outputs": [],
   "source": [
    "arr1.shape"
   ]
  },
  {
   "cell_type": "code",
   "execution_count": null,
   "id": "300e93b3-09c7-49cc-abc1-abf835512e53",
   "metadata": {},
   "outputs": [],
   "source": [
    "arr2 = np.array([[1, 2, 3, 4, 5, 6], [1, 2, 3, 4, 5, 6]])"
   ]
  },
  {
   "cell_type": "code",
   "execution_count": null,
   "id": "9825d3cc-ac54-4a47-9861-79174a853fc2",
   "metadata": {},
   "outputs": [],
   "source": [
    "arr2.shape"
   ]
  },
  {
   "cell_type": "code",
   "execution_count": null,
   "id": "68191d00-52b5-4f61-8cc3-1e19afc5db89",
   "metadata": {},
   "outputs": [],
   "source": [
    "arr1 + arr2"
   ]
  },
  {
   "cell_type": "code",
   "execution_count": null,
   "id": "a7694daf-b94a-4c83-ba6d-7cf9e997a241",
   "metadata": {},
   "outputs": [],
   "source": [
    "# 用法：logspace(a,b,n,base=2)，\n",
    "# 其中a、b、n分别表示开始值（2^a）、结束值(2^b)、元素个数(n)。\n",
    "np.logspace(1, 4, 4, base=2)"
   ]
  },
  {
   "cell_type": "code",
   "execution_count": null,
   "outputs": [],
   "source": [
    "np.logspace(1,3,3,base=10)"
   ],
   "metadata": {
    "collapsed": false,
    "pycharm": {
     "name": "#%%\n"
    }
   }
  },
  {
   "cell_type": "code",
   "execution_count": null,
   "outputs": [],
   "source": [
    "np.logspace(0,3,4,base=2)"
   ],
   "metadata": {
    "collapsed": false,
    "pycharm": {
     "name": "#%%\n"
    }
   }
  },
  {
   "cell_type": "code",
   "execution_count": null,
   "outputs": [],
   "source": [
    "np.logspace(-1,3,5,base=2)"
   ],
   "metadata": {
    "collapsed": false,
    "pycharm": {
     "name": "#%%\n"
    }
   }
  },
  {
   "cell_type": "code",
   "execution_count": null,
   "outputs": [],
   "source": [
    "np.logspace(-2,3,6,base=2)"
   ],
   "metadata": {
    "collapsed": false,
    "pycharm": {
     "name": "#%%\n"
    }
   }
  },
  {
   "cell_type": "code",
   "execution_count": null,
   "outputs": [],
   "source": [],
   "metadata": {
    "collapsed": false,
    "pycharm": {
     "name": "#%%\n"
    }
   }
  },
  {
   "cell_type": "markdown",
   "source": [
    " ravel()函数说明\n",
    " https://blog.csdn.net/liuweiyuxiang/article/details/78220080"
   ],
   "metadata": {
    "collapsed": false,
    "pycharm": {
     "name": "#%% md\n"
    }
   }
  },
  {
   "cell_type": "code",
   "execution_count": null,
   "outputs": [],
   "source": [
    "# import numpy as np\n",
    "rng = np.random.RandomState(0)\n",
    "\n",
    "X = 5 * rng.rand(10, 1)\n",
    "\n",
    "y = np.sin(X).ravel() # 将多维数组降位一维\n",
    "np.sin(X).ravel()\n"
   ],
   "metadata": {
    "collapsed": false,
    "pycharm": {
     "name": "#%%\n"
    }
   }
  },
  {
   "cell_type": "code",
   "execution_count": null,
   "outputs": [],
   "source": [
    "# linspace 生成区间范围的一维数组\n",
    "# -1到1区间，5个点，4个区间，平均分：[-1.,-0.25,0.5,1.25,2.]\n",
    "new_ticks=np.linspace(-1,1,5)\n",
    "new_ticks"
   ],
   "metadata": {
    "collapsed": false,
    "pycharm": {
     "name": "#%%\n"
    }
   }
  },
  {
   "cell_type": "code",
   "execution_count": null,
   "outputs": [],
   "source": [
    "# 生成从0开始的3个数\n",
    "np.arange(3)"
   ],
   "metadata": {
    "collapsed": false,
    "pycharm": {
     "name": "#%%\n"
    }
   }
  },
  {
   "cell_type": "code",
   "execution_count": 212,
   "outputs": [],
   "source": [
    "#指定随机数每次运行都不一样\n",
    "np.random.seed(0)\n",
    "#指定概率，累加为1\n",
    "p = ([0.3, 0.7])"
   ],
   "metadata": {
    "collapsed": false,
    "pycharm": {
     "name": "#%%\n"
    }
   }
  },
  {
   "cell_type": "code",
   "execution_count": 213,
   "outputs": [
    {
     "name": "stdout",
     "output_type": "stream",
     "text": [
      "p1= 1021\n",
      "p2= 8979\n"
     ]
    }
   ],
   "source": [
    "\n",
    "#指定10%的概率取值为0，90%的概率取值为1\n",
    "\n",
    "p1,p2 = 0, 0\n",
    "for i in range(10000):\n",
    "    value = np.random.choice([0,1], p = p)\n",
    "    if value == 0:\n",
    "        p1+=1\n",
    "    else:\n",
    "        p2+=1\n",
    "print('p1=',p1)\n",
    "print('p2=',p2)"
   ],
   "metadata": {
    "collapsed": false,
    "pycharm": {
     "name": "#%%\n"
    }
   }
  },
  {
   "cell_type": "code",
   "execution_count": 190,
   "outputs": [
    {
     "name": "stdout",
     "output_type": "stream",
     "text": [
      "第二种循环\n",
      "count: 0\n",
      "count: 1\n",
      "count: 2\n",
      "count: 3\n",
      "count: 4\n"
     ]
    }
   ],
   "source": [],
   "metadata": {
    "collapsed": false,
    "pycharm": {
     "name": "#%%\n"
    }
   }
  }
 ],
 "metadata": {
  "kernelspec": {
   "name": "pycharm-a57ffa67",
   "language": "python",
   "display_name": "PyCharm (yalin-scikit-learn)"
  },
  "language_info": {
   "codemirror_mode": {
    "name": "ipython",
    "version": 3
   },
   "file_extension": ".py",
   "mimetype": "text/x-python",
   "name": "python",
   "nbconvert_exporter": "python",
   "pygments_lexer": "ipython3",
   "version": "3.8.12"
  },
  "toc-autonumbering": true,
  "toc-showcode": false,
  "toc-showmarkdowntxt": true
 },
 "nbformat": 4,
 "nbformat_minor": 5
}