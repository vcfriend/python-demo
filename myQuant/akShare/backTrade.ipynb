{
 "cells": [
  {
   "cell_type": "code",
   "execution_count": 1,
   "metadata": {
    "collapsed": true
   },
   "outputs": [],
   "source": [
    "# coding=utf-8\n",
    "# https://www.akshare.xyz/demo.html#id1\n",
    "from datetime import datetime\n",
    "\n",
    "import backtrader as bt  # 升级到最新版\n",
    "import matplotlib.pyplot as plt  # 由于 Backtrader 的问题，此处要求 pip install matplotlib==3.2.2\n",
    "import akshare as ak  # 升级到最新版\n",
    "import pandas as pd\n",
    "\n",
    "plt.rcParams[\"font.sans-serif\"] = [\"SimHei\"]\n",
    "plt.rcParams[\"axes.unicode_minus\"] = False"
   ]
  },
  {
   "cell_type": "code",
   "execution_count": 3,
   "outputs": [
    {
     "data": {
      "text/plain": "            date     open    close     high      low  volume\n0     1991-04-03    49.00    49.00    49.00    49.00       1\n1     1991-04-04    48.76    48.76    48.76    48.76       3\n2     1991-04-05    48.52    48.52    48.52    48.52       2\n3     1991-04-06    48.28    48.28    48.28    48.28       7\n4     1991-04-08    48.04    48.04    48.04    48.04       2\n...          ...      ...      ...      ...      ...     ...\n7305  2021-11-15  3151.23  3164.23  3196.74  3126.85  655090\n7306  2021-11-16  3152.85  3130.10  3182.11  3121.97  601110\n7307  2021-11-17  3118.72  3112.22  3143.10  3091.09  664640\n7308  2021-11-18  3108.97  3061.84  3113.85  3050.46  799844\n7309  2021-11-19  3061.84  3118.72  3133.35  3045.58  786372\n\n[7310 rows x 6 columns]",
      "text/html": "<div>\n<style scoped>\n    .dataframe tbody tr th:only-of-type {\n        vertical-align: middle;\n    }\n\n    .dataframe tbody tr th {\n        vertical-align: top;\n    }\n\n    .dataframe thead th {\n        text-align: right;\n    }\n</style>\n<table border=\"1\" class=\"dataframe\">\n  <thead>\n    <tr style=\"text-align: right;\">\n      <th></th>\n      <th>date</th>\n      <th>open</th>\n      <th>close</th>\n      <th>high</th>\n      <th>low</th>\n      <th>volume</th>\n    </tr>\n  </thead>\n  <tbody>\n    <tr>\n      <th>0</th>\n      <td>1991-04-03</td>\n      <td>49.00</td>\n      <td>49.00</td>\n      <td>49.00</td>\n      <td>49.00</td>\n      <td>1</td>\n    </tr>\n    <tr>\n      <th>1</th>\n      <td>1991-04-04</td>\n      <td>48.76</td>\n      <td>48.76</td>\n      <td>48.76</td>\n      <td>48.76</td>\n      <td>3</td>\n    </tr>\n    <tr>\n      <th>2</th>\n      <td>1991-04-05</td>\n      <td>48.52</td>\n      <td>48.52</td>\n      <td>48.52</td>\n      <td>48.52</td>\n      <td>2</td>\n    </tr>\n    <tr>\n      <th>3</th>\n      <td>1991-04-06</td>\n      <td>48.28</td>\n      <td>48.28</td>\n      <td>48.28</td>\n      <td>48.28</td>\n      <td>7</td>\n    </tr>\n    <tr>\n      <th>4</th>\n      <td>1991-04-08</td>\n      <td>48.04</td>\n      <td>48.04</td>\n      <td>48.04</td>\n      <td>48.04</td>\n      <td>2</td>\n    </tr>\n    <tr>\n      <th>...</th>\n      <td>...</td>\n      <td>...</td>\n      <td>...</td>\n      <td>...</td>\n      <td>...</td>\n      <td>...</td>\n    </tr>\n    <tr>\n      <th>7305</th>\n      <td>2021-11-15</td>\n      <td>3151.23</td>\n      <td>3164.23</td>\n      <td>3196.74</td>\n      <td>3126.85</td>\n      <td>655090</td>\n    </tr>\n    <tr>\n      <th>7306</th>\n      <td>2021-11-16</td>\n      <td>3152.85</td>\n      <td>3130.10</td>\n      <td>3182.11</td>\n      <td>3121.97</td>\n      <td>601110</td>\n    </tr>\n    <tr>\n      <th>7307</th>\n      <td>2021-11-17</td>\n      <td>3118.72</td>\n      <td>3112.22</td>\n      <td>3143.10</td>\n      <td>3091.09</td>\n      <td>664640</td>\n    </tr>\n    <tr>\n      <th>7308</th>\n      <td>2021-11-18</td>\n      <td>3108.97</td>\n      <td>3061.84</td>\n      <td>3113.85</td>\n      <td>3050.46</td>\n      <td>799844</td>\n    </tr>\n    <tr>\n      <th>7309</th>\n      <td>2021-11-19</td>\n      <td>3061.84</td>\n      <td>3118.72</td>\n      <td>3133.35</td>\n      <td>3045.58</td>\n      <td>786372</td>\n    </tr>\n  </tbody>\n</table>\n<p>7310 rows × 6 columns</p>\n</div>"
     },
     "execution_count": 3,
     "metadata": {},
     "output_type": "execute_result"
    }
   ],
   "source": [
    "# 利用 AKShare 获取股票的后复权数据，这里只获取前 6 列\n",
    "stock_hfq_df = ak.stock_zh_a_hist(symbol=\"000001\", adjust=\"hfq\").iloc[:, :6]\n",
    "# 处理字段命名，以符合 Backtrader 的要求\n",
    "stock_hfq_df.columns = [\n",
    "    'date',\n",
    "    'open',\n",
    "    'close',\n",
    "    'high',\n",
    "    'low',\n",
    "    'volume',\n",
    "]\n",
    "stock_hfq_df"
   ],
   "metadata": {
    "collapsed": false,
    "pycharm": {
     "name": "#%%\n"
    }
   }
  },
  {
   "cell_type": "code",
   "execution_count": 9,
   "outputs": [
    {
     "data": {
      "text/plain": "pandas.core.frame.DataFrame"
     },
     "execution_count": 9,
     "metadata": {},
     "output_type": "execute_result"
    }
   ],
   "source": [
    "# 保存数据\n",
    "stock_hfq_df.to_csv('./data/stock_hfq_df.txt')\n",
    "type(stock_hfq_df)"
   ],
   "metadata": {
    "collapsed": false,
    "pycharm": {
     "name": "#%%\n"
    }
   }
  },
  {
   "cell_type": "code",
   "execution_count": 10,
   "outputs": [],
   "source": [
    "\n",
    "\n",
    "# 把 date 作为日期索引，以符合 Backtrader 的要求\n",
    "stock_hfq_df.index = pd.to_datetime(stock_hfq_df['date'])"
   ],
   "metadata": {
    "collapsed": false,
    "pycharm": {
     "name": "#%%\n"
    }
   }
  },
  {
   "cell_type": "code",
   "execution_count": 11,
   "outputs": [],
   "source": [
    "class MyStrategy(bt.Strategy):\n",
    "    \"\"\"\n",
    "    主策略程序\n",
    "    \"\"\"\n",
    "    params = ((\"maperiod\", 20),)  # 全局设定交易策略的参数\n",
    "\n",
    "    def __init__(self):\n",
    "        \"\"\"\n",
    "        初始化函数\n",
    "        \"\"\"\n",
    "        self.data_close = self.datas[0].close  # 指定价格序列\n",
    "        # 初始化交易指令、买卖价格和手续费\n",
    "        self.order = None\n",
    "        self.buy_price = None\n",
    "        self.buy_comm = None\n",
    "        # 添加移动均线指标\n",
    "        self.sma = bt.indicators.SimpleMovingAverage(\n",
    "            self.datas[0], period=self.params.maperiod\n",
    "        )\n",
    "\n",
    "    def next(self):\n",
    "        \"\"\"\n",
    "        执行逻辑\n",
    "        \"\"\"\n",
    "        if self.order:  # 检查是否有指令等待执行,\n",
    "            return\n",
    "        # 检查是否持仓\n",
    "        if not self.position:  # 没有持仓\n",
    "            if self.data_close[0] > self.sma[0]:  # 执行买入条件判断：收盘价格上涨突破20日均线\n",
    "                self.order = self.buy(size=100)  # 执行买入\n",
    "        else:\n",
    "            if self.data_close[0] < self.sma[0]:  # 执行卖出条件判断：收盘价格跌破20日均线\n",
    "                self.order = self.sell(size=100)  # 执行卖出"
   ],
   "metadata": {
    "collapsed": false,
    "pycharm": {
     "name": "#%%\n"
    }
   }
  },
  {
   "cell_type": "code",
   "execution_count": 12,
   "outputs": [
    {
     "name": "stdout",
     "output_type": "stream",
     "text": [
      "初始资金: 1000000\n",
      "回测期间：19910403:20200616\n",
      "总资金: 1217360.83\n",
      "净收益: 217360.83\n"
     ]
    },
    {
     "ename": "ImportError",
     "evalue": "cannot import name 'warnings' from 'matplotlib.dates' (C:\\ProgramData\\Anaconda3\\envs\\py39\\lib\\site-packages\\matplotlib\\dates.py)",
     "output_type": "error",
     "traceback": [
      "\u001B[1;31m---------------------------------------------------------------------------\u001B[0m",
      "\u001B[1;31mImportError\u001B[0m                               Traceback (most recent call last)",
      "\u001B[1;32m~\\AppData\\Local\\Temp/ipykernel_11584/1094433632.py\u001B[0m in \u001B[0;36m<module>\u001B[1;34m\u001B[0m\n\u001B[0;32m     17\u001B[0m \u001B[0mprint\u001B[0m\u001B[1;33m(\u001B[0m\u001B[1;34mf\"净收益: {round(pnl, 2)}\"\u001B[0m\u001B[1;33m)\u001B[0m\u001B[1;33m\u001B[0m\u001B[1;33m\u001B[0m\u001B[0m\n\u001B[0;32m     18\u001B[0m \u001B[1;33m\u001B[0m\u001B[0m\n\u001B[1;32m---> 19\u001B[1;33m \u001B[0mcerebro\u001B[0m\u001B[1;33m.\u001B[0m\u001B[0mplot\u001B[0m\u001B[1;33m(\u001B[0m\u001B[0mstyle\u001B[0m\u001B[1;33m=\u001B[0m\u001B[1;34m'candlestick'\u001B[0m\u001B[1;33m)\u001B[0m  \u001B[1;31m# 画图\u001B[0m\u001B[1;33m\u001B[0m\u001B[1;33m\u001B[0m\u001B[0m\n\u001B[0m",
      "\u001B[1;32mC:\\ProgramData\\Anaconda3\\envs\\py39\\lib\\site-packages\\backtrader\\cerebro.py\u001B[0m in \u001B[0;36mplot\u001B[1;34m(self, plotter, numfigs, iplot, start, end, width, height, dpi, tight, use, **kwargs)\u001B[0m\n\u001B[0;32m    972\u001B[0m \u001B[1;33m\u001B[0m\u001B[0m\n\u001B[0;32m    973\u001B[0m         \u001B[1;32mif\u001B[0m \u001B[1;32mnot\u001B[0m \u001B[0mplotter\u001B[0m\u001B[1;33m:\u001B[0m\u001B[1;33m\u001B[0m\u001B[1;33m\u001B[0m\u001B[0m\n\u001B[1;32m--> 974\u001B[1;33m             \u001B[1;32mfrom\u001B[0m \u001B[1;33m.\u001B[0m \u001B[1;32mimport\u001B[0m \u001B[0mplot\u001B[0m\u001B[1;33m\u001B[0m\u001B[1;33m\u001B[0m\u001B[0m\n\u001B[0m\u001B[0;32m    975\u001B[0m             \u001B[1;32mif\u001B[0m \u001B[0mself\u001B[0m\u001B[1;33m.\u001B[0m\u001B[0mp\u001B[0m\u001B[1;33m.\u001B[0m\u001B[0moldsync\u001B[0m\u001B[1;33m:\u001B[0m\u001B[1;33m\u001B[0m\u001B[1;33m\u001B[0m\u001B[0m\n\u001B[0;32m    976\u001B[0m                 \u001B[0mplotter\u001B[0m \u001B[1;33m=\u001B[0m \u001B[0mplot\u001B[0m\u001B[1;33m.\u001B[0m\u001B[0mPlot_OldSync\u001B[0m\u001B[1;33m(\u001B[0m\u001B[1;33m**\u001B[0m\u001B[0mkwargs\u001B[0m\u001B[1;33m)\u001B[0m\u001B[1;33m\u001B[0m\u001B[1;33m\u001B[0m\u001B[0m\n",
      "\u001B[1;32mC:\\ProgramData\\Anaconda3\\envs\\py39\\lib\\site-packages\\backtrader\\plot\\__init__.py\u001B[0m in \u001B[0;36m<module>\u001B[1;34m\u001B[0m\n\u001B[0;32m     40\u001B[0m \u001B[1;33m\u001B[0m\u001B[0m\n\u001B[0;32m     41\u001B[0m \u001B[1;33m\u001B[0m\u001B[0m\n\u001B[1;32m---> 42\u001B[1;33m \u001B[1;32mfrom\u001B[0m \u001B[1;33m.\u001B[0m\u001B[0mplot\u001B[0m \u001B[1;32mimport\u001B[0m \u001B[0mPlot\u001B[0m\u001B[1;33m,\u001B[0m \u001B[0mPlot_OldSync\u001B[0m\u001B[1;33m\u001B[0m\u001B[1;33m\u001B[0m\u001B[0m\n\u001B[0m\u001B[0;32m     43\u001B[0m \u001B[1;32mfrom\u001B[0m \u001B[1;33m.\u001B[0m\u001B[0mscheme\u001B[0m \u001B[1;32mimport\u001B[0m \u001B[0mPlotScheme\u001B[0m\u001B[1;33m\u001B[0m\u001B[1;33m\u001B[0m\u001B[0m\n",
      "\u001B[1;32mC:\\ProgramData\\Anaconda3\\envs\\py39\\lib\\site-packages\\backtrader\\plot\\plot.py\u001B[0m in \u001B[0;36m<module>\u001B[1;34m\u001B[0m\n\u001B[0;32m     42\u001B[0m \u001B[1;32mfrom\u001B[0m \u001B[1;33m.\u001B[0m\u001B[0mfinance\u001B[0m \u001B[1;32mimport\u001B[0m \u001B[0mplot_candlestick\u001B[0m\u001B[1;33m,\u001B[0m \u001B[0mplot_ohlc\u001B[0m\u001B[1;33m,\u001B[0m \u001B[0mplot_volume\u001B[0m\u001B[1;33m,\u001B[0m \u001B[0mplot_lineonclose\u001B[0m\u001B[1;33m\u001B[0m\u001B[1;33m\u001B[0m\u001B[0m\n\u001B[0;32m     43\u001B[0m \u001B[1;32mfrom\u001B[0m \u001B[1;33m.\u001B[0m\u001B[0mformatters\u001B[0m \u001B[1;32mimport\u001B[0m \u001B[1;33m(\u001B[0m\u001B[0mMyVolFormatter\u001B[0m\u001B[1;33m,\u001B[0m \u001B[0mMyDateFormatter\u001B[0m\u001B[1;33m,\u001B[0m \u001B[0mgetlocator\u001B[0m\u001B[1;33m)\u001B[0m\u001B[1;33m\u001B[0m\u001B[1;33m\u001B[0m\u001B[0m\n\u001B[1;32m---> 44\u001B[1;33m \u001B[1;32mfrom\u001B[0m \u001B[1;33m.\u001B[0m \u001B[1;32mimport\u001B[0m \u001B[0mlocator\u001B[0m \u001B[1;32mas\u001B[0m \u001B[0mloc\u001B[0m\u001B[1;33m\u001B[0m\u001B[1;33m\u001B[0m\u001B[0m\n\u001B[0m\u001B[0;32m     45\u001B[0m \u001B[1;32mfrom\u001B[0m \u001B[1;33m.\u001B[0m\u001B[0mmulticursor\u001B[0m \u001B[1;32mimport\u001B[0m \u001B[0mMultiCursor\u001B[0m\u001B[1;33m\u001B[0m\u001B[1;33m\u001B[0m\u001B[0m\n\u001B[0;32m     46\u001B[0m \u001B[1;32mfrom\u001B[0m \u001B[1;33m.\u001B[0m\u001B[0mscheme\u001B[0m \u001B[1;32mimport\u001B[0m \u001B[0mPlotScheme\u001B[0m\u001B[1;33m\u001B[0m\u001B[1;33m\u001B[0m\u001B[0m\n",
      "\u001B[1;32mC:\\ProgramData\\Anaconda3\\envs\\py39\\lib\\site-packages\\backtrader\\plot\\locator.py\u001B[0m in \u001B[0;36m<module>\u001B[1;34m\u001B[0m\n\u001B[0;32m     33\u001B[0m \u001B[1;32mfrom\u001B[0m \u001B[0mmatplotlib\u001B[0m\u001B[1;33m.\u001B[0m\u001B[0mdates\u001B[0m \u001B[1;32mimport\u001B[0m \u001B[0mAutoDateFormatter\u001B[0m \u001B[1;32mas\u001B[0m \u001B[0mADFormatter\u001B[0m\u001B[1;33m\u001B[0m\u001B[1;33m\u001B[0m\u001B[0m\n\u001B[0;32m     34\u001B[0m \u001B[1;33m\u001B[0m\u001B[0m\n\u001B[1;32m---> 35\u001B[1;33m from matplotlib.dates import (HOURS_PER_DAY, MIN_PER_HOUR, SEC_PER_MIN,\n\u001B[0m\u001B[0;32m     36\u001B[0m                               \u001B[0mMONTHS_PER_YEAR\u001B[0m\u001B[1;33m,\u001B[0m \u001B[0mDAYS_PER_WEEK\u001B[0m\u001B[1;33m,\u001B[0m\u001B[1;33m\u001B[0m\u001B[1;33m\u001B[0m\u001B[0m\n\u001B[0;32m     37\u001B[0m                               \u001B[0mSEC_PER_HOUR\u001B[0m\u001B[1;33m,\u001B[0m \u001B[0mSEC_PER_DAY\u001B[0m\u001B[1;33m,\u001B[0m\u001B[1;33m\u001B[0m\u001B[1;33m\u001B[0m\u001B[0m\n",
      "\u001B[1;31mImportError\u001B[0m: cannot import name 'warnings' from 'matplotlib.dates' (C:\\ProgramData\\Anaconda3\\envs\\py39\\lib\\site-packages\\matplotlib\\dates.py)"
     ]
    }
   ],
   "source": [
    "cerebro = bt.Cerebro()  # 初始化回测系统\n",
    "start_date = datetime(1991, 4, 3)  # 回测开始时间\n",
    "end_date = datetime(2020, 6, 16)  # 回测结束时间\n",
    "data = bt.feeds.PandasData(dataname=stock_hfq_df, fromdate=start_date, todate=end_date)  # 加载数据\n",
    "cerebro.adddata(data)  # 将数据传入回测系统\n",
    "cerebro.addstrategy(MyStrategy)  # 将交易策略加载到回测系统中\n",
    "start_cash = 1000000\n",
    "cerebro.broker.setcash(start_cash)  # 设置初始资本为 100000\n",
    "cerebro.broker.setcommission(commission=0.002)  # 设置交易手续费为 0.2%\n",
    "cerebro.run()  # 运行回测系统\n",
    "\n",
    "port_value = cerebro.broker.getvalue()  # 获取回测结束后的总资金\n",
    "pnl = port_value - start_cash  # 盈亏统计\n",
    "\n",
    "print(f\"初始资金: {start_cash}\\n回测期间：{start_date.strftime('%Y%m%d')}:{end_date.strftime('%Y%m%d')}\")\n",
    "print(f\"总资金: {round(port_value, 2)}\")\n",
    "print(f\"净收益: {round(pnl, 2)}\")\n",
    "\n",
    "cerebro.plot(style='candlestick')  # 画图"
   ],
   "metadata": {
    "collapsed": false,
    "pycharm": {
     "name": "#%%\n"
    }
   }
  },
  {
   "cell_type": "code",
   "execution_count": null,
   "outputs": [],
   "source": [],
   "metadata": {
    "collapsed": false,
    "pycharm": {
     "name": "#%%\n"
    }
   }
  }
 ],
 "metadata": {
  "kernelspec": {
   "name": "pycharm-a57ffa67",
   "language": "python",
   "display_name": "PyCharm (yalin-scikit-learn)"
  },
  "language_info": {
   "codemirror_mode": {
    "name": "ipython",
    "version": 2
   },
   "file_extension": ".py",
   "mimetype": "text/x-python",
   "name": "python",
   "nbconvert_exporter": "python",
   "pygments_lexer": "ipython2",
   "version": "2.7.6"
  }
 },
 "nbformat": 4,
 "nbformat_minor": 0
}