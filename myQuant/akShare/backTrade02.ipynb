{
 "cells": [
  {
   "cell_type": "code",
   "execution_count": 4,
   "outputs": [],
   "source": [
    "# coding=utf-8\n",
    "#https://www.akshare.xyz/demo.html\n",
    "from datetime import datetime\n",
    "\n",
    "import backtrader as bt  # 升级到最新版\n",
    "import matplotlib.pyplot as plt  # 由于 Backtrader 的问题，此处要求 pip install matplotlib==3.2.2\n",
    "import akshare as ak  # 升级到最新版\n",
    "import pandas as pd\n",
    "\n",
    "plt.rcParams[\"font.sans-serif\"] = [\"SimHei\"]\n",
    "plt.rcParams[\"axes.unicode_minus\"] = False\n"
   ],
   "metadata": {
    "collapsed": false,
    "pycharm": {
     "name": "#%%\n"
    }
   }
  },
  {
   "cell_type": "code",
   "execution_count": 5,
   "outputs": [
    {
     "data": {
      "text/plain": "                  date     open    close     high      low   volume\ndate                                                               \n1991-04-03  1991-04-03    49.00    49.00    49.00    49.00        1\n1991-04-04  1991-04-04    48.76    48.76    48.76    48.76        3\n1991-04-05  1991-04-05    48.52    48.52    48.52    48.52        2\n1991-04-06  1991-04-06    48.28    48.28    48.28    48.28        7\n1991-04-08  1991-04-08    48.04    48.04    48.04    48.04        2\n...                ...      ...      ...      ...      ...      ...\n2021-12-15  2021-12-15  3014.70  3021.21  3039.08  2996.83  1294627\n2021-12-16  2021-12-16  3021.21  3048.84  3050.46  3006.58   819480\n2021-12-17  2021-12-17  3045.58  3024.46  3053.71  3024.46   602370\n2021-12-20  2021-12-20  3022.83  3016.33  3037.46  3004.95   746435\n2021-12-21  2021-12-21  3011.45  3027.71  3047.21  3009.83   893734\n\n[7332 rows x 6 columns]",
      "text/html": "<div>\n<style scoped>\n    .dataframe tbody tr th:only-of-type {\n        vertical-align: middle;\n    }\n\n    .dataframe tbody tr th {\n        vertical-align: top;\n    }\n\n    .dataframe thead th {\n        text-align: right;\n    }\n</style>\n<table border=\"1\" class=\"dataframe\">\n  <thead>\n    <tr style=\"text-align: right;\">\n      <th></th>\n      <th>date</th>\n      <th>open</th>\n      <th>close</th>\n      <th>high</th>\n      <th>low</th>\n      <th>volume</th>\n    </tr>\n    <tr>\n      <th>date</th>\n      <th></th>\n      <th></th>\n      <th></th>\n      <th></th>\n      <th></th>\n      <th></th>\n    </tr>\n  </thead>\n  <tbody>\n    <tr>\n      <th>1991-04-03</th>\n      <td>1991-04-03</td>\n      <td>49.00</td>\n      <td>49.00</td>\n      <td>49.00</td>\n      <td>49.00</td>\n      <td>1</td>\n    </tr>\n    <tr>\n      <th>1991-04-04</th>\n      <td>1991-04-04</td>\n      <td>48.76</td>\n      <td>48.76</td>\n      <td>48.76</td>\n      <td>48.76</td>\n      <td>3</td>\n    </tr>\n    <tr>\n      <th>1991-04-05</th>\n      <td>1991-04-05</td>\n      <td>48.52</td>\n      <td>48.52</td>\n      <td>48.52</td>\n      <td>48.52</td>\n      <td>2</td>\n    </tr>\n    <tr>\n      <th>1991-04-06</th>\n      <td>1991-04-06</td>\n      <td>48.28</td>\n      <td>48.28</td>\n      <td>48.28</td>\n      <td>48.28</td>\n      <td>7</td>\n    </tr>\n    <tr>\n      <th>1991-04-08</th>\n      <td>1991-04-08</td>\n      <td>48.04</td>\n      <td>48.04</td>\n      <td>48.04</td>\n      <td>48.04</td>\n      <td>2</td>\n    </tr>\n    <tr>\n      <th>...</th>\n      <td>...</td>\n      <td>...</td>\n      <td>...</td>\n      <td>...</td>\n      <td>...</td>\n      <td>...</td>\n    </tr>\n    <tr>\n      <th>2021-12-15</th>\n      <td>2021-12-15</td>\n      <td>3014.70</td>\n      <td>3021.21</td>\n      <td>3039.08</td>\n      <td>2996.83</td>\n      <td>1294627</td>\n    </tr>\n    <tr>\n      <th>2021-12-16</th>\n      <td>2021-12-16</td>\n      <td>3021.21</td>\n      <td>3048.84</td>\n      <td>3050.46</td>\n      <td>3006.58</td>\n      <td>819480</td>\n    </tr>\n    <tr>\n      <th>2021-12-17</th>\n      <td>2021-12-17</td>\n      <td>3045.58</td>\n      <td>3024.46</td>\n      <td>3053.71</td>\n      <td>3024.46</td>\n      <td>602370</td>\n    </tr>\n    <tr>\n      <th>2021-12-20</th>\n      <td>2021-12-20</td>\n      <td>3022.83</td>\n      <td>3016.33</td>\n      <td>3037.46</td>\n      <td>3004.95</td>\n      <td>746435</td>\n    </tr>\n    <tr>\n      <th>2021-12-21</th>\n      <td>2021-12-21</td>\n      <td>3011.45</td>\n      <td>3027.71</td>\n      <td>3047.21</td>\n      <td>3009.83</td>\n      <td>893734</td>\n    </tr>\n  </tbody>\n</table>\n<p>7332 rows × 6 columns</p>\n</div>"
     },
     "execution_count": 5,
     "metadata": {},
     "output_type": "execute_result"
    }
   ],
   "source": [
    "# 利用 AKShare 获取股票的后复权数据，这里只获取前 6 列\n",
    "stock_hfq_df = ak.stock_zh_a_hist(symbol=\"000001\", adjust=\"hfq\").iloc[:, :6]\n",
    "# 处理字段命名，以符合 Backtrader 的要求\n",
    "stock_hfq_df.columns = [\n",
    "    'date',\n",
    "    'open',\n",
    "    'close',\n",
    "    'high',\n",
    "    'low',\n",
    "    'volume',\n",
    "]\n",
    "# 把 date 作为日期索引，以符合 Backtrader 的要求\n",
    "stock_hfq_df.index = pd.to_datetime(stock_hfq_df['date'])\n",
    "stock_hfq_df"
   ],
   "metadata": {
    "collapsed": false,
    "pycharm": {
     "name": "#%%\n"
    }
   }
  },
  {
   "cell_type": "code",
   "execution_count": 7,
   "outputs": [
    {
     "name": "stdout",
     "output_type": "stream",
     "text": [
      "初始资金: 1000000\n",
      "回测期间：19910403:20200616\n",
      "总资金: 1217360.83\n",
      "净收益: 217360.83\n"
     ]
    },
    {
     "data": {
      "text/plain": "[[<Figure size 540x360 with 4 Axes>]]"
     },
     "execution_count": 7,
     "metadata": {},
     "output_type": "execute_result"
    }
   ],
   "source": [
    "class MyStrategy(bt.Strategy):\n",
    "    \"\"\"\n",
    "    主策略程序\n",
    "    \"\"\"\n",
    "    params = ((\"maperiod\", 20),)  # 全局设定交易策略的参数\n",
    "\n",
    "    def __init__(self):\n",
    "        \"\"\"\n",
    "        初始化函数\n",
    "        \"\"\"\n",
    "        self.data_close = self.datas[0].close  # 指定价格序列\n",
    "        # 初始化交易指令、买卖价格和手续费\n",
    "        self.order = None\n",
    "        self.buy_price = None\n",
    "        self.buy_comm = None\n",
    "        # 添加移动均线指标\n",
    "        self.sma = bt.indicators.SimpleMovingAverage(\n",
    "            self.datas[0], period=self.params.maperiod\n",
    "        )\n",
    "\n",
    "    def next(self):\n",
    "        \"\"\"\n",
    "        执行逻辑\n",
    "        \"\"\"\n",
    "        if self.order:  # 检查是否有指令等待执行,\n",
    "            return\n",
    "        # 检查是否持仓\n",
    "        if not self.position:  # 没有持仓\n",
    "            if self.data_close[0] > self.sma[0]:  # 执行买入条件判断：收盘价格上涨突破20日均线\n",
    "                self.order = self.buy(size=100)  # 执行买入\n",
    "        else:\n",
    "            if self.data_close[0] < self.sma[0]:  # 执行卖出条件判断：收盘价格跌破20日均线\n",
    "                self.order = self.sell(size=100)  # 执行卖出\n",
    "\n",
    "\n",
    "cerebro = bt.Cerebro()  # 初始化回测系统\n",
    "start_date = datetime(1991, 4, 3)  # 回测开始时间\n",
    "end_date = datetime(2020, 6, 16)  # 回测结束时间\n",
    "data = bt.feeds.PandasData(dataname=stock_hfq_df, fromdate=start_date, todate=end_date)  # 加载数据\n",
    "cerebro.adddata(data)  # 将数据传入回测系统\n",
    "cerebro.addstrategy(MyStrategy)  # 将交易策略加载到回测系统中\n",
    "start_cash = 1000000\n",
    "cerebro.broker.setcash(start_cash)  # 设置初始资本为 100000\n",
    "cerebro.broker.setcommission(commission=0.002)  # 设置交易手续费为 0.2%\n",
    "cerebro.run()  # 运行回测系统\n",
    "\n",
    "port_value = cerebro.broker.getvalue()  # 获取回测结束后的总资金\n",
    "pnl = port_value - start_cash  # 盈亏统计\n",
    "\n",
    "print(f\"初始资金: {start_cash}\\n回测期间：{start_date.strftime('%Y%m%d')}:{end_date.strftime('%Y%m%d')}\")\n",
    "print(f\"总资金: {round(port_value, 2)}\")\n",
    "print(f\"净收益: {round(pnl, 2)}\")\n",
    "\n",
    "cerebro.plot(style='candlestick')  # 画图"
   ],
   "metadata": {
    "collapsed": false,
    "pycharm": {
     "name": "#%%\n"
    }
   }
  },
  {
   "cell_type": "code",
   "execution_count": 6,
   "outputs": [],
   "source": [],
   "metadata": {
    "collapsed": false,
    "pycharm": {
     "name": "#%%\n"
    }
   }
  }
 ],
 "metadata": {
  "kernelspec": {
   "name": "py39",
   "language": "python",
   "display_name": "py39"
  },
  "language_info": {
   "codemirror_mode": {
    "name": "ipython",
    "version": 2
   },
   "file_extension": ".py",
   "mimetype": "text/x-python",
   "name": "python",
   "nbconvert_exporter": "python",
   "pygments_lexer": "ipython2",
   "version": "2.7.6"
  }
 },
 "nbformat": 4,
 "nbformat_minor": 0
}