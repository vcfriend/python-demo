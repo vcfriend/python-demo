{
 "cells": [
  {
   "cell_type": "code",
   "execution_count": 16,
   "metadata": {
    "collapsed": true
   },
   "outputs": [],
   "source": []
  },
  {
   "cell_type": "code",
   "execution_count": 2,
   "outputs": [
    {
     "name": "stdout",
     "output_type": "stream",
     "text": [
      "<class 'pandas.core.frame.DataFrame'>\n",
      "DatetimeIndex: 500 entries, 2017-04-19 09:00:00 to 2017-05-18 04:00:00\n",
      "Data columns (total 5 columns):\n",
      " #   Column  Non-Null Count  Dtype  \n",
      "---  ------  --------------  -----  \n",
      " 0   Open    500 non-null    float64\n",
      " 1   High    500 non-null    float64\n",
      " 2   Low     500 non-null    float64\n",
      " 3   Close   500 non-null    float64\n",
      " 4   Volume  500 non-null    int64  \n",
      "dtypes: float64(4), int64(1)\n",
      "memory usage: 23.4 KB\n",
      "None                         Open     High      Low    Close  Volume\n",
      "2017-04-19 09:00:00  1.07160  1.07220  1.07083  1.07219    1413\n",
      "2017-04-19 10:00:00  1.07214  1.07296  1.07214  1.07260    1241\n",
      "2017-04-19 11:00:00  1.07256  1.07299  1.07170  1.07192    1025\n",
      "2017-04-19 12:00:00  1.07195  1.07280  1.07195  1.07202    1460\n",
      "2017-04-19 13:00:00  1.07200  1.07230  1.07045  1.07050    1554\n",
      "<class 'pandas.core.frame.DataFrame'>\n",
      "DatetimeIndex: 26 entries, 2017-04-20 to 2017-05-19\n",
      "Data columns (total 5 columns):\n",
      " #   Column  Non-Null Count  Dtype  \n",
      "---  ------  --------------  -----  \n",
      " 0   Open    26 non-null     float64\n",
      " 1   High    26 non-null     float64\n",
      " 2   Low     26 non-null     float64\n",
      " 3   Close   26 non-null     float64\n",
      " 4   Volume  26 non-null     int64  \n",
      "dtypes: float64(4), int64(1)\n",
      "memory usage: 1.2 KB\n",
      "None                Open     High      Low    Close  Volume\n",
      "2017-04-20  1.07160  1.07299  1.07002  1.07149   16728\n",
      "2017-04-21  1.07146  1.07775  1.07072  1.07142   25433\n",
      "2017-04-22  1.07138  1.07380  1.06824  1.07268   29278\n",
      "2017-04-24  1.08930  1.09063  1.08648  1.08734    5456\n",
      "2017-04-25  1.08732  1.08773  1.08209  1.08650   27428\n"
     ]
    }
   ],
   "source": [
    "import pandas as pd\n",
    "from backtesting.test import EURUSD, SMA\n",
    "import backtesting\n",
    "import backtesting.lib as btlib\n",
    "\n",
    "backtesting.set_bokeh_output(notebook=False)\n",
    "\n",
    "data = EURUSD.iloc[:500, :].copy()\n",
    "# 重采样日周期数据\n",
    "data_daily = data.resample('D', label='right').agg(btlib.OHLCV_AGG).dropna()\n",
    "print(data.info(), data.head())\n",
    "print(data_daily.info(), data_daily.head())\n",
    "\n"
   ],
   "metadata": {
    "collapsed": false,
    "pycharm": {
     "name": "#%%\n"
    }
   }
  },
  {
   "cell_type": "code",
   "execution_count": 3,
   "outputs": [
    {
     "name": "stdout",
     "output_type": "stream",
     "text": [
      "2017-04-19 09:00:00\n",
      "2017-05-18 04:00:00\n",
      "\n",
      "2017-04-20 06:00:00, buy 1.074140 0\n",
      "2017-04-21 09:00:00, sell 1.070530 18616\n",
      "2017-04-23 21:00:00, buy 1.089800 -18554\n",
      "2017-04-24 00:00:00, sell 1.085040 17557\n",
      "2017-04-25 06:00:00, buy 1.088270 -17481\n",
      "2017-05-01 04:00:00, sell 1.089080 17314\n",
      "2017-05-01 12:00:00, buy 1.091690 -17326\n",
      "2017-05-03 20:00:00, sell 1.088520 17186\n",
      "2017-05-04 13:00:00, buy 1.093710 -17138\n",
      "2017-05-08 07:00:00, sell 1.095640 16889\n",
      "2017-05-12 12:00:00, buy 1.090610 -16919\n"
     ]
    },
    {
     "data": {
      "text/plain": "Start                     2017-04-19 09:00:00\nEnd                       2017-05-18 04:00:00\nDuration                     28 days 19:00:00\nExposure Time [%]                        95.6\nEquity Final [$]                  9780.392103\nEquity Peak [$]                  10049.614991\nReturn [%]                          -2.196079\nBuy & Hold Return [%]                3.936802\nReturn (Ann.) [%]                  -19.363816\nVolatility (Ann.) [%]               13.339885\nSharpe Ratio                              0.0\nSortino Ratio                             0.0\nCalmar Ratio                              0.0\nMax. Drawdown [%]                   -8.082595\nAvg. Drawdown [%]                   -8.082595\nMax. Drawdown Duration       27 days 20:00:00\nAvg. Drawdown Duration       27 days 20:00:00\n# Trades                                   11\nWin Rate [%]                        36.363636\nBest Trade [%]                       2.316718\nWorst Trade [%]                     -1.816653\nAvg. Trade [%]                      -0.096533\nMax. Trade Duration           5 days 22:00:00\nAvg. Trade Duration           2 days 13:00:00\nProfit Factor                        0.745029\nExpectancy [%]                      -0.092188\nSQN                                 -0.353725\n_strategy                              System\n_equity_curve                             ...\n_trades                        Size  Entry...\ndtype: object"
     },
     "execution_count": 3,
     "metadata": {},
     "output_type": "execute_result"
    }
   ],
   "source": [
    "\n",
    "from backtesting import Strategy, Backtest\n",
    "from backtesting import backtesting\n",
    "from backtesting.lib import resample_apply\n",
    "\n",
    "\n",
    "class System(Strategy):\n",
    "\n",
    "    def log(self, txt, dt=None):\n",
    "        \"\"\" 此策略的日志功能\"\"\"\n",
    "        dt = dt or self.data.index[-1]\n",
    "        print('%s, %s' % (dt, txt))\n",
    "\n",
    "    def init(self):\n",
    "        # 让我们将收盘价转换回熊猫系列。\n",
    "        close = self.data.Close.s\n",
    "        # 重新采样为每日分辨率。使用最后一个值（即一天结束时的收盘价）聚合组。\n",
    "        # 注意`label='right'`。如果将其设置为“左”（默认），则该策略将表现出前瞻性偏差。\n",
    "        # close_daily = close.resample('D', label='right').agg('last')\n",
    "        # data_daily = self.data.df.resample('D', label='right').agg(btlib.OHLCV_AGG).dropna()\n",
    "\n",
    "        # 添加指标昨日最高点\n",
    "        self.d_high = resample_apply('D', lambda x: x, self.data.High, name='d_high')\n",
    "        # 添加指标昨日最低点\n",
    "        self.d_low = resample_apply('D', lambda x: x, self.data.Low, name='d_low')\n",
    "\n",
    "        # self.signal_buy = (pd.Series(self.data.Close) > self.d_high).astype(int).diff().fillna(0)\n",
    "        # self.signal_sell = (pd.Series(self.data.Close) < self.d_low).astype(int).diff().fillna(0)\n",
    "        # self.signal = self.signal_buy + self.signal_sell\n",
    "        print(self.data.index[0])\n",
    "        print(self.data.index[-1])\n",
    "        print()\n",
    "\n",
    "    def next(self):\n",
    "        price = self.data.Close\n",
    "\n",
    "\n",
    "        signal_buy = price[-2] < self.d_high[-1] < price[-1]\n",
    "        signal_sell = price[-2] > self.d_low[-1] > price[-1]\n",
    "        # 如果我们还没有持仓，并且满足所有条件，则输入多头。\n",
    "        if signal_buy:\n",
    "            if self.position.is_short:\n",
    "                self.position.close()\n",
    "        if signal_buy and not self.position.is_long:\n",
    "        # if btlib.cross(price, self.d_high):\n",
    "            # 下次开盘时以市价买入。\n",
    "            self.buy(size=.1)\n",
    "            self.log(\"buy %f %s\" % (price[-1], self.position.size))\n",
    "\n",
    "        elif signal_sell:\n",
    "            if self.position.is_long:\n",
    "                self.position.close()\n",
    "        if signal_sell and not self.position.is_short:\n",
    "        # elif btlib.cross(price, self.d_low):\n",
    "            self.sell(size=.1)\n",
    "            self.log(\"sell %f %s\" % (price[-1], self.position.size))\n",
    "\n",
    "\n",
    "\n",
    "backtest = Backtest(data, System, commission=.0002, margin=.05)\n",
    "backtest.run()\n",
    "\n",
    "# backtest.plot()"
   ],
   "metadata": {
    "collapsed": false,
    "pycharm": {
     "name": "#%%\n"
    }
   }
  },
  {
   "cell_type": "code",
   "execution_count": 100,
   "outputs": [],
   "source": [],
   "metadata": {
    "collapsed": false,
    "pycharm": {
     "name": "#%%\n"
    }
   }
  }
 ],
 "metadata": {
  "kernelspec": {
   "name": "py39",
   "language": "python",
   "display_name": "py39"
  },
  "language_info": {
   "codemirror_mode": {
    "name": "ipython",
    "version": 2
   },
   "file_extension": ".py",
   "mimetype": "text/x-python",
   "name": "python",
   "nbconvert_exporter": "python",
   "pygments_lexer": "ipython2",
   "version": "2.7.6"
  }
 },
 "nbformat": 4,
 "nbformat_minor": 0
}