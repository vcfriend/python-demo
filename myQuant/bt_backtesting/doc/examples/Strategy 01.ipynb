{
 "cells": [
  {
   "cell_type": "code",
   "execution_count": 16,
   "metadata": {
    "collapsed": true
   },
   "outputs": [],
   "source": []
  },
  {
   "cell_type": "code",
   "execution_count": 147,
   "outputs": [
    {
     "name": "stdout",
     "output_type": "stream",
     "text": [
      "<class 'pandas.core.frame.DataFrame'>\n",
      "DatetimeIndex: 500 entries, 2017-04-19 09:00:00 to 2017-05-18 04:00:00\n",
      "Data columns (total 5 columns):\n",
      " #   Column  Non-Null Count  Dtype  \n",
      "---  ------  --------------  -----  \n",
      " 0   Open    500 non-null    float64\n",
      " 1   High    500 non-null    float64\n",
      " 2   Low     500 non-null    float64\n",
      " 3   Close   500 non-null    float64\n",
      " 4   Volume  500 non-null    int64  \n",
      "dtypes: float64(4), int64(1)\n",
      "memory usage: 23.4 KB\n",
      "None                         Open     High      Low    Close  Volume\n",
      "2017-04-19 09:00:00  1.07160  1.07220  1.07083  1.07219    1413\n",
      "2017-04-19 10:00:00  1.07214  1.07296  1.07214  1.07260    1241\n",
      "2017-04-19 11:00:00  1.07256  1.07299  1.07170  1.07192    1025\n",
      "2017-04-19 12:00:00  1.07195  1.07280  1.07195  1.07202    1460\n",
      "2017-04-19 13:00:00  1.07200  1.07230  1.07045  1.07050    1554\n",
      "<class 'pandas.core.frame.DataFrame'>\n",
      "DatetimeIndex: 26 entries, 2017-04-20 to 2017-05-19\n",
      "Data columns (total 5 columns):\n",
      " #   Column  Non-Null Count  Dtype  \n",
      "---  ------  --------------  -----  \n",
      " 0   Open    26 non-null     float64\n",
      " 1   High    26 non-null     float64\n",
      " 2   Low     26 non-null     float64\n",
      " 3   Close   26 non-null     float64\n",
      " 4   Volume  26 non-null     int64  \n",
      "dtypes: float64(4), int64(1)\n",
      "memory usage: 1.2 KB\n",
      "None                Open     High      Low    Close  Volume\n",
      "2017-04-20  1.07160  1.07299  1.07002  1.07149   16728\n",
      "2017-04-21  1.07146  1.07775  1.07072  1.07142   25433\n",
      "2017-04-22  1.07138  1.07380  1.06824  1.07268   29278\n",
      "2017-04-24  1.08930  1.09063  1.08648  1.08734    5456\n",
      "2017-04-25  1.08732  1.08773  1.08209  1.08650   27428\n"
     ]
    }
   ],
   "source": [
    "import pandas as pd\n",
    "from backtesting.test import EURUSD, SMA\n",
    "import backtesting\n",
    "import backtesting.lib as btlib\n",
    "\n",
    "backtesting.set_bokeh_output(notebook=False)\n",
    "\n",
    "data = EURUSD.iloc[:500, :].copy()\n",
    "# 重采样日周期数据\n",
    "data_daily = data.resample('D', label='right').agg(btlib.OHLCV_AGG).dropna()\n",
    "print(data.info(), data.head())\n",
    "print(data_daily.info(), data_daily.head())\n",
    "\n"
   ],
   "metadata": {
    "collapsed": false,
    "pycharm": {
     "name": "#%%\n"
    }
   }
  },
  {
   "cell_type": "code",
   "execution_count": 160,
   "outputs": [
    {
     "name": "stdout",
     "output_type": "stream",
     "text": [
      "2017-04-19 09:00:00\n",
      "2017-05-18 04:00:00\n",
      "\n",
      "2017-04-20 06:00:00, buy 1.074140\n",
      "2017-04-21 09:00:00, sell 1.070530 18616\n",
      "2017-04-23 21:00:00, buy 1.089800\n",
      "2017-04-24 00:00:00, sell 1.085040 17557\n",
      "2017-04-25 06:00:00, buy 1.088270\n",
      "2017-05-01 04:00:00, sell 1.089080 17314\n",
      "2017-05-01 12:00:00, buy 1.091690\n",
      "2017-05-03 20:00:00, sell 1.088520 17186\n"
     ]
    },
    {
     "ename": "KeyboardInterrupt",
     "evalue": "",
     "output_type": "error",
     "traceback": [
      "\u001B[1;31m---------------------------------------------------------------------------\u001B[0m",
      "\u001B[1;31mKeyboardInterrupt\u001B[0m                         Traceback (most recent call last)",
      "\u001B[1;32m~\\AppData\\Local\\Temp/ipykernel_28368/3445536637.py\u001B[0m in \u001B[0;36m<module>\u001B[1;34m\u001B[0m\n\u001B[0;32m     59\u001B[0m \u001B[1;33m\u001B[0m\u001B[0m\n\u001B[0;32m     60\u001B[0m \u001B[0mbacktest\u001B[0m \u001B[1;33m=\u001B[0m \u001B[0mBacktest\u001B[0m\u001B[1;33m(\u001B[0m\u001B[0mdata\u001B[0m\u001B[1;33m,\u001B[0m \u001B[0mSystem\u001B[0m\u001B[1;33m,\u001B[0m \u001B[0mcommission\u001B[0m\u001B[1;33m=\u001B[0m\u001B[1;36m.0002\u001B[0m\u001B[1;33m,\u001B[0m \u001B[0mmargin\u001B[0m\u001B[1;33m=\u001B[0m\u001B[1;36m.05\u001B[0m\u001B[1;33m)\u001B[0m\u001B[1;33m\u001B[0m\u001B[1;33m\u001B[0m\u001B[0m\n\u001B[1;32m---> 61\u001B[1;33m \u001B[0mbacktest\u001B[0m\u001B[1;33m.\u001B[0m\u001B[0mrun\u001B[0m\u001B[1;33m(\u001B[0m\u001B[1;33m)\u001B[0m\u001B[1;33m\u001B[0m\u001B[1;33m\u001B[0m\u001B[0m\n\u001B[0m\u001B[0;32m     62\u001B[0m \u001B[1;33m\u001B[0m\u001B[0m\n\u001B[0;32m     63\u001B[0m \u001B[1;31m# backtest.plot()\u001B[0m\u001B[1;33m\u001B[0m\u001B[1;33m\u001B[0m\u001B[0m\n",
      "\u001B[1;32mC:\\ProgramData\\Anaconda3\\envs\\py39\\lib\\site-packages\\backtesting\\backtesting.py\u001B[0m in \u001B[0;36mrun\u001B[1;34m(self, **kwargs)\u001B[0m\n\u001B[0;32m   1157\u001B[0m \u001B[1;33m\u001B[0m\u001B[0m\n\u001B[0;32m   1158\u001B[0m         \u001B[0;31m`\u001B[0m\u001B[0mmaximize\u001B[0m\u001B[0;31m`\u001B[0m \u001B[1;32mis\u001B[0m \u001B[0ma\u001B[0m \u001B[0mstring\u001B[0m \u001B[0mkey\u001B[0m \u001B[1;32mfrom\u001B[0m \u001B[0mthe\u001B[0m\u001B[1;33m\u001B[0m\u001B[1;33m\u001B[0m\u001B[0m\n\u001B[1;32m-> 1159\u001B[1;33m         \u001B[0;31m`\u001B[0m\u001B[0mbacktesting\u001B[0m\u001B[1;33m.\u001B[0m\u001B[0mbacktesting\u001B[0m\u001B[1;33m.\u001B[0m\u001B[0mBacktest\u001B[0m\u001B[1;33m.\u001B[0m\u001B[0mrun\u001B[0m\u001B[0;31m`\u001B[0m\u001B[1;33m-\u001B[0m\u001B[0mreturned\u001B[0m \u001B[0mresults\u001B[0m \u001B[0mseries\u001B[0m\u001B[1;33m,\u001B[0m\u001B[1;33m\u001B[0m\u001B[1;33m\u001B[0m\u001B[0m\n\u001B[0m\u001B[0;32m   1160\u001B[0m         \u001B[1;32mor\u001B[0m \u001B[0ma\u001B[0m \u001B[0mfunction\u001B[0m \u001B[0mthat\u001B[0m \u001B[0maccepts\u001B[0m \u001B[0mthis\u001B[0m \u001B[0mseries\u001B[0m \u001B[0mobject\u001B[0m \u001B[1;32mand\u001B[0m \u001B[0mreturns\u001B[0m \u001B[0ma\u001B[0m \u001B[0mnumber\u001B[0m\u001B[1;33m;\u001B[0m\u001B[1;33m\u001B[0m\u001B[1;33m\u001B[0m\u001B[0m\n\u001B[0;32m   1161\u001B[0m         \u001B[0mthe\u001B[0m \u001B[0mhigher\u001B[0m \u001B[0mthe\u001B[0m \u001B[0mbetter\u001B[0m\u001B[1;33m.\u001B[0m \u001B[0mBy\u001B[0m \u001B[0mdefault\u001B[0m\u001B[1;33m,\u001B[0m \u001B[0mthe\u001B[0m \u001B[0mmethod\u001B[0m \u001B[0mmaximizes\u001B[0m\u001B[1;33m\u001B[0m\u001B[1;33m\u001B[0m\u001B[0m\n",
      "\u001B[1;32m~\\AppData\\Local\\Temp/ipykernel_28368/3445536637.py\u001B[0m in \u001B[0;36mnext\u001B[1;34m(self)\u001B[0m\n\u001B[0;32m     45\u001B[0m         \u001B[1;31m# if btlib.cross(price, self.d_high):\u001B[0m\u001B[1;33m\u001B[0m\u001B[1;33m\u001B[0m\u001B[0m\n\u001B[0;32m     46\u001B[0m             \u001B[1;31m# 下次开盘时以市价买入。\u001B[0m\u001B[1;33m\u001B[0m\u001B[1;33m\u001B[0m\u001B[0m\n\u001B[1;32m---> 47\u001B[1;33m             \u001B[0mself\u001B[0m\u001B[1;33m.\u001B[0m\u001B[0mbuy\u001B[0m\u001B[1;33m(\u001B[0m\u001B[0msize\u001B[0m\u001B[1;33m=\u001B[0m\u001B[1;36m.1\u001B[0m\u001B[1;33m)\u001B[0m\u001B[1;33m\u001B[0m\u001B[1;33m\u001B[0m\u001B[0m\n\u001B[0m\u001B[0;32m     48\u001B[0m             \u001B[0mself\u001B[0m\u001B[1;33m.\u001B[0m\u001B[0mlog\u001B[0m\u001B[1;33m(\u001B[0m\u001B[1;34m\"buy %f\"\u001B[0m \u001B[1;33m%\u001B[0m \u001B[0mprice\u001B[0m\u001B[1;33m[\u001B[0m\u001B[1;33m-\u001B[0m\u001B[1;36m1\u001B[0m\u001B[1;33m]\u001B[0m\u001B[1;33m)\u001B[0m\u001B[1;33m\u001B[0m\u001B[1;33m\u001B[0m\u001B[0m\n\u001B[0;32m     49\u001B[0m \u001B[1;33m\u001B[0m\u001B[0m\n",
      "\u001B[1;32m~\\AppData\\Local\\Temp/ipykernel_28368/3445536637.py\u001B[0m in \u001B[0;36mnext\u001B[1;34m(self)\u001B[0m\n\u001B[0;32m     45\u001B[0m         \u001B[1;31m# if btlib.cross(price, self.d_high):\u001B[0m\u001B[1;33m\u001B[0m\u001B[1;33m\u001B[0m\u001B[0m\n\u001B[0;32m     46\u001B[0m             \u001B[1;31m# 下次开盘时以市价买入。\u001B[0m\u001B[1;33m\u001B[0m\u001B[1;33m\u001B[0m\u001B[0m\n\u001B[1;32m---> 47\u001B[1;33m             \u001B[0mself\u001B[0m\u001B[1;33m.\u001B[0m\u001B[0mbuy\u001B[0m\u001B[1;33m(\u001B[0m\u001B[0msize\u001B[0m\u001B[1;33m=\u001B[0m\u001B[1;36m.1\u001B[0m\u001B[1;33m)\u001B[0m\u001B[1;33m\u001B[0m\u001B[1;33m\u001B[0m\u001B[0m\n\u001B[0m\u001B[0;32m     48\u001B[0m             \u001B[0mself\u001B[0m\u001B[1;33m.\u001B[0m\u001B[0mlog\u001B[0m\u001B[1;33m(\u001B[0m\u001B[1;34m\"buy %f\"\u001B[0m \u001B[1;33m%\u001B[0m \u001B[0mprice\u001B[0m\u001B[1;33m[\u001B[0m\u001B[1;33m-\u001B[0m\u001B[1;36m1\u001B[0m\u001B[1;33m]\u001B[0m\u001B[1;33m)\u001B[0m\u001B[1;33m\u001B[0m\u001B[1;33m\u001B[0m\u001B[0m\n\u001B[0;32m     49\u001B[0m \u001B[1;33m\u001B[0m\u001B[0m\n",
      "\u001B[1;32m_pydevd_bundle\\pydevd_cython_win32_39_64.pyx\u001B[0m in \u001B[0;36m_pydevd_bundle.pydevd_cython_win32_39_64.SafeCallWrapper.__call__\u001B[1;34m()\u001B[0m\n",
      "\u001B[1;32m_pydevd_bundle\\pydevd_cython_win32_39_64.pyx\u001B[0m in \u001B[0;36m_pydevd_bundle.pydevd_cython_win32_39_64.PyDBFrame.trace_dispatch\u001B[1;34m()\u001B[0m\n",
      "\u001B[1;32m_pydevd_bundle\\pydevd_cython_win32_39_64.pyx\u001B[0m in \u001B[0;36m_pydevd_bundle.pydevd_cython_win32_39_64.PyDBFrame.trace_dispatch\u001B[1;34m()\u001B[0m\n",
      "\u001B[1;32m_pydevd_bundle\\pydevd_cython_win32_39_64.pyx\u001B[0m in \u001B[0;36m_pydevd_bundle.pydevd_cython_win32_39_64.PyDBFrame.trace_dispatch\u001B[1;34m()\u001B[0m\n",
      "\u001B[1;32m_pydevd_bundle\\pydevd_cython_win32_39_64.pyx\u001B[0m in \u001B[0;36m_pydevd_bundle.pydevd_cython_win32_39_64.PyDBFrame.do_wait_suspend\u001B[1;34m()\u001B[0m\n",
      "\u001B[1;32mC:\\Program Files\\JetBrains\\PyCharm 2021.3\\plugins\\python\\helpers\\pydev\\pydevd.py\u001B[0m in \u001B[0;36mdo_wait_suspend\u001B[1;34m(self, thread, frame, event, arg, send_suspend_message, is_unhandled_exception)\u001B[0m\n\u001B[0;32m   1145\u001B[0m \u001B[1;33m\u001B[0m\u001B[0m\n\u001B[0;32m   1146\u001B[0m         \u001B[1;32mwith\u001B[0m \u001B[0mself\u001B[0m\u001B[1;33m.\u001B[0m\u001B[0m_threads_suspended_single_notification\u001B[0m\u001B[1;33m.\u001B[0m\u001B[0mnotify_thread_suspended\u001B[0m\u001B[1;33m(\u001B[0m\u001B[0mthread_id\u001B[0m\u001B[1;33m,\u001B[0m \u001B[0mstop_reason\u001B[0m\u001B[1;33m)\u001B[0m\u001B[1;33m:\u001B[0m\u001B[1;33m\u001B[0m\u001B[1;33m\u001B[0m\u001B[0m\n\u001B[1;32m-> 1147\u001B[1;33m             \u001B[0mself\u001B[0m\u001B[1;33m.\u001B[0m\u001B[0m_do_wait_suspend\u001B[0m\u001B[1;33m(\u001B[0m\u001B[0mthread\u001B[0m\u001B[1;33m,\u001B[0m \u001B[0mframe\u001B[0m\u001B[1;33m,\u001B[0m \u001B[0mevent\u001B[0m\u001B[1;33m,\u001B[0m \u001B[0marg\u001B[0m\u001B[1;33m,\u001B[0m \u001B[0msuspend_type\u001B[0m\u001B[1;33m,\u001B[0m \u001B[0mfrom_this_thread\u001B[0m\u001B[1;33m)\u001B[0m\u001B[1;33m\u001B[0m\u001B[1;33m\u001B[0m\u001B[0m\n\u001B[0m\u001B[0;32m   1148\u001B[0m \u001B[1;33m\u001B[0m\u001B[0m\n\u001B[0;32m   1149\u001B[0m     \u001B[1;32mdef\u001B[0m \u001B[0m_do_wait_suspend\u001B[0m\u001B[1;33m(\u001B[0m\u001B[0mself\u001B[0m\u001B[1;33m,\u001B[0m \u001B[0mthread\u001B[0m\u001B[1;33m,\u001B[0m \u001B[0mframe\u001B[0m\u001B[1;33m,\u001B[0m \u001B[0mevent\u001B[0m\u001B[1;33m,\u001B[0m \u001B[0marg\u001B[0m\u001B[1;33m,\u001B[0m \u001B[0msuspend_type\u001B[0m\u001B[1;33m,\u001B[0m \u001B[0mfrom_this_thread\u001B[0m\u001B[1;33m)\u001B[0m\u001B[1;33m:\u001B[0m\u001B[1;33m\u001B[0m\u001B[1;33m\u001B[0m\u001B[0m\n",
      "\u001B[1;32mC:\\Program Files\\JetBrains\\PyCharm 2021.3\\plugins\\python\\helpers\\pydev\\pydevd.py\u001B[0m in \u001B[0;36m_do_wait_suspend\u001B[1;34m(self, thread, frame, event, arg, suspend_type, from_this_thread)\u001B[0m\n\u001B[0;32m   1160\u001B[0m \u001B[1;33m\u001B[0m\u001B[0m\n\u001B[0;32m   1161\u001B[0m                 \u001B[0mself\u001B[0m\u001B[1;33m.\u001B[0m\u001B[0mprocess_internal_commands\u001B[0m\u001B[1;33m(\u001B[0m\u001B[1;33m)\u001B[0m\u001B[1;33m\u001B[0m\u001B[1;33m\u001B[0m\u001B[0m\n\u001B[1;32m-> 1162\u001B[1;33m                 \u001B[0mtime\u001B[0m\u001B[1;33m.\u001B[0m\u001B[0msleep\u001B[0m\u001B[1;33m(\u001B[0m\u001B[1;36m0.01\u001B[0m\u001B[1;33m)\u001B[0m\u001B[1;33m\u001B[0m\u001B[1;33m\u001B[0m\u001B[0m\n\u001B[0m\u001B[0;32m   1163\u001B[0m \u001B[1;33m\u001B[0m\u001B[0m\n\u001B[0;32m   1164\u001B[0m         \u001B[0mself\u001B[0m\u001B[1;33m.\u001B[0m\u001B[0mcancel_async_evaluation\u001B[0m\u001B[1;33m(\u001B[0m\u001B[0mget_current_thread_id\u001B[0m\u001B[1;33m(\u001B[0m\u001B[0mthread\u001B[0m\u001B[1;33m)\u001B[0m\u001B[1;33m,\u001B[0m \u001B[0mstr\u001B[0m\u001B[1;33m(\u001B[0m\u001B[0mid\u001B[0m\u001B[1;33m(\u001B[0m\u001B[0mframe\u001B[0m\u001B[1;33m)\u001B[0m\u001B[1;33m)\u001B[0m\u001B[1;33m)\u001B[0m\u001B[1;33m\u001B[0m\u001B[1;33m\u001B[0m\u001B[0m\n",
      "\u001B[1;31mKeyboardInterrupt\u001B[0m: "
     ]
    }
   ],
   "source": [
    "\n",
    "from backtesting import Strategy, Backtest\n",
    "from backtesting import backtesting\n",
    "from backtesting.lib import resample_apply\n",
    "\n",
    "\n",
    "class System(Strategy):\n",
    "\n",
    "    def log(self, txt, dt=None):\n",
    "        \"\"\" 此策略的日志功能\"\"\"\n",
    "        dt = dt or self.data.index[-1]\n",
    "        print('%s, %s' % (dt, txt))\n",
    "\n",
    "    def init(self):\n",
    "        # 让我们将收盘价转换回熊猫系列。\n",
    "        close = self.data.Close.s\n",
    "        # 重新采样为每日分辨率。使用最后一个值（即一天结束时的收盘价）聚合组。\n",
    "        # 注意`label='right'`。如果将其设置为“左”（默认），则该策略将表现出前瞻性偏差。\n",
    "        # close_daily = close.resample('D', label='right').agg('last')\n",
    "        # data_daily = self.data.df.resample('D', label='right').agg(btlib.OHLCV_AGG).dropna()\n",
    "\n",
    "        # 添加指标昨日最高点\n",
    "        self.d_high = resample_apply('D', lambda x: x, self.data.High, name='d_high')\n",
    "        # 添加指标昨日最低点\n",
    "        self.d_low = resample_apply('D', lambda x: x, self.data.Low, name='d_low')\n",
    "\n",
    "        # self.signal_buy = (pd.Series(self.data.Close) > self.d_high).astype(int).diff().fillna(0)\n",
    "        # self.signal_sell = (pd.Series(self.data.Close) < self.d_low).astype(int).diff().fillna(0)\n",
    "        # self.signal = self.signal_buy + self.signal_sell\n",
    "        print(self.data.index[0])\n",
    "        print(self.data.index[-1])\n",
    "        print()\n",
    "\n",
    "    def next(self):\n",
    "        price = self.data.Close\n",
    "\n",
    "\n",
    "        signal_buy = price[-2] < self.d_high[-1] < price[-1]\n",
    "        signal_sell = price[-2] > self.d_low[-1] > price[-1]\n",
    "        # 如果我们还没有持仓，并且满足所有条件，则输入多头。\n",
    "        if signal_buy:\n",
    "            if self.position.is_short:\n",
    "                self.position.close()\n",
    "        if signal_buy and not self.position.is_long:\n",
    "        # if btlib.cross(price, self.d_high):\n",
    "            # 下次开盘时以市价买入。\n",
    "            self.buy(size=.1)\n",
    "            self.log(\"buy %f\" % price[-1])\n",
    "\n",
    "        elif signal_sell:\n",
    "            if self.position.is_long:\n",
    "                self.position.close()\n",
    "        if signal_sell and not self.position.is_short:\n",
    "        # elif btlib.cross(price, self.d_low):\n",
    "            self.sell(size=.1)\n",
    "            self.log(\"sell %f %s\" % (price[-1], self.position.size))\n",
    "\n",
    "\n",
    "\n",
    "backtest = Backtest(data, System, commission=.0002, margin=.05)\n",
    "backtest.run()\n",
    "\n",
    "# backtest.plot()"
   ],
   "metadata": {
    "collapsed": false,
    "pycharm": {
     "name": "#%%\n"
    }
   }
  },
  {
   "cell_type": "code",
   "execution_count": 100,
   "outputs": [],
   "source": [],
   "metadata": {
    "collapsed": false,
    "pycharm": {
     "name": "#%%\n"
    }
   }
  }
 ],
 "metadata": {
  "kernelspec": {
   "name": "py39",
   "language": "python",
   "display_name": "py39"
  },
  "language_info": {
   "codemirror_mode": {
    "name": "ipython",
    "version": 2
   },
   "file_extension": ".py",
   "mimetype": "text/x-python",
   "name": "python",
   "nbconvert_exporter": "python",
   "pygments_lexer": "ipython2",
   "version": "2.7.6"
  }
 },
 "nbformat": 4,
 "nbformat_minor": 0
}