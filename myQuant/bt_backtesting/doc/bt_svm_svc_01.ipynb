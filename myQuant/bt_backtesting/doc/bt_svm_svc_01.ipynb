{
 "cells": [
  {
   "cell_type": "markdown",
   "metadata": {
    "collapsed": true,
    "pycharm": {
     "name": "#%% md\n"
    }
   },
   "source": [
    "使用机器学习模型进行交易\n",
    "本教程将展示如何使用backtesting.py框架训练和回溯测试机器学习价格预测模型。假设您已经熟悉基本的框架用法和一般的机器学习。\n",
    "在本教程中，我们将使用近一年的每小时欧元/美元外汇数据样本"
   ]
  },
  {
   "cell_type": "code",
   "execution_count": 1,
   "outputs": [
    {
     "name": "stderr",
     "output_type": "stream",
     "text": [
      "C:\\ProgramData\\Anaconda3\\lib\\site-packages\\backtesting\\_plotting.py:50: UserWarning: Jupyter Notebook detected. Setting Bokeh output to notebook. This may not work in Jupyter clients without JavaScript support (e.g. PyCharm, Spyder IDE). Reset with `backtesting.set_bokeh_output(notebook=False)`.\n",
      "  warnings.warn('Jupyter Notebook detected. '\n"
     ]
    },
    {
     "data": {
      "text/html": "\n    <div class=\"bk-root\">\n        <a href=\"https://bokeh.org\" target=\"_blank\" class=\"bk-logo bk-logo-small bk-logo-notebook\"></a>\n        <span id=\"1002\">Loading BokehJS ...</span>\n    </div>"
     },
     "metadata": {},
     "output_type": "display_data"
    },
    {
     "data": {
      "application/javascript": "\n(function(root) {\n  function now() {\n    return new Date();\n  }\n\n  const force = true;\n\n  if (typeof root._bokeh_onload_callbacks === \"undefined\" || force === true) {\n    root._bokeh_onload_callbacks = [];\n    root._bokeh_is_loading = undefined;\n  }\n\n  const JS_MIME_TYPE = 'application/javascript';\n  const HTML_MIME_TYPE = 'text/html';\n  const EXEC_MIME_TYPE = 'application/vnd.bokehjs_exec.v0+json';\n  const CLASS_NAME = 'output_bokeh rendered_html';\n\n  /**\n   * Render data to the DOM node\n   */\n  function render(props, node) {\n    const script = document.createElement(\"script\");\n    node.appendChild(script);\n  }\n\n  /**\n   * Handle when an output is cleared or removed\n   */\n  function handleClearOutput(event, handle) {\n    const cell = handle.cell;\n\n    const id = cell.output_area._bokeh_element_id;\n    const server_id = cell.output_area._bokeh_server_id;\n    // Clean up Bokeh references\n    if (id != null && id in Bokeh.index) {\n      Bokeh.index[id].model.document.clear();\n      delete Bokeh.index[id];\n    }\n\n    if (server_id !== undefined) {\n      // Clean up Bokeh references\n      const cmd_clean = \"from bokeh.io.state import curstate; print(curstate().uuid_to_server['\" + server_id + \"'].get_sessions()[0].document.roots[0]._id)\";\n      cell.notebook.kernel.execute(cmd_clean, {\n        iopub: {\n          output: function(msg) {\n            const id = msg.content.text.trim();\n            if (id in Bokeh.index) {\n              Bokeh.index[id].model.document.clear();\n              delete Bokeh.index[id];\n            }\n          }\n        }\n      });\n      // Destroy server and session\n      const cmd_destroy = \"import bokeh.io.notebook as ion; ion.destroy_server('\" + server_id + \"')\";\n      cell.notebook.kernel.execute(cmd_destroy);\n    }\n  }\n\n  /**\n   * Handle when a new output is added\n   */\n  function handleAddOutput(event, handle) {\n    const output_area = handle.output_area;\n    const output = handle.output;\n\n    // limit handleAddOutput to display_data with EXEC_MIME_TYPE content only\n    if ((output.output_type != \"display_data\") || (!Object.prototype.hasOwnProperty.call(output.data, EXEC_MIME_TYPE))) {\n      return\n    }\n\n    const toinsert = output_area.element.find(\".\" + CLASS_NAME.split(' ')[0]);\n\n    if (output.metadata[EXEC_MIME_TYPE][\"id\"] !== undefined) {\n      toinsert[toinsert.length - 1].firstChild.textContent = output.data[JS_MIME_TYPE];\n      // store reference to embed id on output_area\n      output_area._bokeh_element_id = output.metadata[EXEC_MIME_TYPE][\"id\"];\n    }\n    if (output.metadata[EXEC_MIME_TYPE][\"server_id\"] !== undefined) {\n      const bk_div = document.createElement(\"div\");\n      bk_div.innerHTML = output.data[HTML_MIME_TYPE];\n      const script_attrs = bk_div.children[0].attributes;\n      for (let i = 0; i < script_attrs.length; i++) {\n        toinsert[toinsert.length - 1].firstChild.setAttribute(script_attrs[i].name, script_attrs[i].value);\n        toinsert[toinsert.length - 1].firstChild.textContent = bk_div.children[0].textContent\n      }\n      // store reference to server id on output_area\n      output_area._bokeh_server_id = output.metadata[EXEC_MIME_TYPE][\"server_id\"];\n    }\n  }\n\n  function register_renderer(events, OutputArea) {\n\n    function append_mime(data, metadata, element) {\n      // create a DOM node to render to\n      const toinsert = this.create_output_subarea(\n        metadata,\n        CLASS_NAME,\n        EXEC_MIME_TYPE\n      );\n      this.keyboard_manager.register_events(toinsert);\n      // Render to node\n      const props = {data: data, metadata: metadata[EXEC_MIME_TYPE]};\n      render(props, toinsert[toinsert.length - 1]);\n      element.append(toinsert);\n      return toinsert\n    }\n\n    /* Handle when an output is cleared or removed */\n    events.on('clear_output.CodeCell', handleClearOutput);\n    events.on('delete.Cell', handleClearOutput);\n\n    /* Handle when a new output is added */\n    events.on('output_added.OutputArea', handleAddOutput);\n\n    /**\n     * Register the mime type and append_mime function with output_area\n     */\n    OutputArea.prototype.register_mime_type(EXEC_MIME_TYPE, append_mime, {\n      /* Is output safe? */\n      safe: true,\n      /* Index of renderer in `output_area.display_order` */\n      index: 0\n    });\n  }\n\n  // register the mime type if in Jupyter Notebook environment and previously unregistered\n  if (root.Jupyter !== undefined) {\n    const events = require('base/js/events');\n    const OutputArea = require('notebook/js/outputarea').OutputArea;\n\n    if (OutputArea.prototype.mime_types().indexOf(EXEC_MIME_TYPE) == -1) {\n      register_renderer(events, OutputArea);\n    }\n  }\n\n  \n  if (typeof (root._bokeh_timeout) === \"undefined\" || force === true) {\n    root._bokeh_timeout = Date.now() + 5000;\n    root._bokeh_failed_load = false;\n  }\n\n  const NB_LOAD_WARNING = {'data': {'text/html':\n     \"<div style='background-color: #fdd'>\\n\"+\n     \"<p>\\n\"+\n     \"BokehJS does not appear to have successfully loaded. If loading BokehJS from CDN, this \\n\"+\n     \"may be due to a slow or bad network connection. Possible fixes:\\n\"+\n     \"</p>\\n\"+\n     \"<ul>\\n\"+\n     \"<li>re-rerun `output_notebook()` to attempt to load from CDN again, or</li>\\n\"+\n     \"<li>use INLINE resources instead, as so:</li>\\n\"+\n     \"</ul>\\n\"+\n     \"<code>\\n\"+\n     \"from bokeh.resources import INLINE\\n\"+\n     \"output_notebook(resources=INLINE)\\n\"+\n     \"</code>\\n\"+\n     \"</div>\"}};\n\n  function display_loaded() {\n    const el = document.getElementById(\"1002\");\n    if (el != null) {\n      el.textContent = \"BokehJS is loading...\";\n    }\n    if (root.Bokeh !== undefined) {\n      if (el != null) {\n        el.textContent = \"BokehJS \" + root.Bokeh.version + \" successfully loaded.\";\n      }\n    } else if (Date.now() < root._bokeh_timeout) {\n      setTimeout(display_loaded, 100)\n    }\n  }\n\n\n  function run_callbacks() {\n    try {\n      root._bokeh_onload_callbacks.forEach(function(callback) {\n        if (callback != null)\n          callback();\n      });\n    } finally {\n      delete root._bokeh_onload_callbacks\n    }\n    console.debug(\"Bokeh: all callbacks have finished\");\n  }\n\n  function load_libs(css_urls, js_urls, callback) {\n    if (css_urls == null) css_urls = [];\n    if (js_urls == null) js_urls = [];\n\n    root._bokeh_onload_callbacks.push(callback);\n    if (root._bokeh_is_loading > 0) {\n      console.debug(\"Bokeh: BokehJS is being loaded, scheduling callback at\", now());\n      return null;\n    }\n    if (js_urls == null || js_urls.length === 0) {\n      run_callbacks();\n      return null;\n    }\n    console.debug(\"Bokeh: BokehJS not loaded, scheduling load and callback at\", now());\n    root._bokeh_is_loading = css_urls.length + js_urls.length;\n\n    function on_load() {\n      root._bokeh_is_loading--;\n      if (root._bokeh_is_loading === 0) {\n        console.debug(\"Bokeh: all BokehJS libraries/stylesheets loaded\");\n        run_callbacks()\n      }\n    }\n\n    function on_error(url) {\n      console.error(\"failed to load \" + url);\n    }\n\n    for (let i = 0; i < css_urls.length; i++) {\n      const url = css_urls[i];\n      const element = document.createElement(\"link\");\n      element.onload = on_load;\n      element.onerror = on_error.bind(null, url);\n      element.rel = \"stylesheet\";\n      element.type = \"text/css\";\n      element.href = url;\n      console.debug(\"Bokeh: injecting link tag for BokehJS stylesheet: \", url);\n      document.body.appendChild(element);\n    }\n\n    for (let i = 0; i < js_urls.length; i++) {\n      const url = js_urls[i];\n      const element = document.createElement('script');\n      element.onload = on_load;\n      element.onerror = on_error.bind(null, url);\n      element.async = false;\n      element.src = url;\n      console.debug(\"Bokeh: injecting script tag for BokehJS library: \", url);\n      document.head.appendChild(element);\n    }\n  };\n\n  function inject_raw_css(css) {\n    const element = document.createElement(\"style\");\n    element.appendChild(document.createTextNode(css));\n    document.body.appendChild(element);\n  }\n\n  \n  const js_urls = [\"https://cdn.bokeh.org/bokeh/release/bokeh-2.4.2.min.js\", \"https://cdn.bokeh.org/bokeh/release/bokeh-gl-2.4.2.min.js\", \"https://cdn.bokeh.org/bokeh/release/bokeh-widgets-2.4.2.min.js\", \"https://cdn.bokeh.org/bokeh/release/bokeh-tables-2.4.2.min.js\", \"https://cdn.bokeh.org/bokeh/release/bokeh-mathjax-2.4.2.min.js\"];\n  const css_urls = [];\n  \n\n  const inline_js = [\n    function(Bokeh) {\n      Bokeh.set_log_level(\"info\");\n    },\n    function(Bokeh) {\n    \n    \n    }\n  ];\n\n  function run_inline_js() {\n    \n    if (root.Bokeh !== undefined || force === true) {\n      \n    for (let i = 0; i < inline_js.length; i++) {\n      inline_js[i].call(root, root.Bokeh);\n    }\n    if (force === true) {\n        display_loaded();\n      }} else if (Date.now() < root._bokeh_timeout) {\n      setTimeout(run_inline_js, 100);\n    } else if (!root._bokeh_failed_load) {\n      console.log(\"Bokeh: BokehJS failed to load within specified timeout.\");\n      root._bokeh_failed_load = true;\n    } else if (force !== true) {\n      const cell = $(document.getElementById(\"1002\")).parents('.cell').data().cell;\n      cell.output_area.append_execute_result(NB_LOAD_WARNING)\n    }\n\n  }\n\n  if (root._bokeh_is_loading === 0) {\n    console.debug(\"Bokeh: BokehJS loaded, going straight to plotting\");\n    run_inline_js();\n  } else {\n    load_libs(css_urls, js_urls, function() {\n      console.debug(\"Bokeh: BokehJS plotting callback run at\", now());\n      run_inline_js();\n    });\n  }\n}(window));",
      "application/vnd.bokehjs_load.v0+json": "\n(function(root) {\n  function now() {\n    return new Date();\n  }\n\n  const force = true;\n\n  if (typeof root._bokeh_onload_callbacks === \"undefined\" || force === true) {\n    root._bokeh_onload_callbacks = [];\n    root._bokeh_is_loading = undefined;\n  }\n\n  \n\n  \n  if (typeof (root._bokeh_timeout) === \"undefined\" || force === true) {\n    root._bokeh_timeout = Date.now() + 5000;\n    root._bokeh_failed_load = false;\n  }\n\n  const NB_LOAD_WARNING = {'data': {'text/html':\n     \"<div style='background-color: #fdd'>\\n\"+\n     \"<p>\\n\"+\n     \"BokehJS does not appear to have successfully loaded. If loading BokehJS from CDN, this \\n\"+\n     \"may be due to a slow or bad network connection. Possible fixes:\\n\"+\n     \"</p>\\n\"+\n     \"<ul>\\n\"+\n     \"<li>re-rerun `output_notebook()` to attempt to load from CDN again, or</li>\\n\"+\n     \"<li>use INLINE resources instead, as so:</li>\\n\"+\n     \"</ul>\\n\"+\n     \"<code>\\n\"+\n     \"from bokeh.resources import INLINE\\n\"+\n     \"output_notebook(resources=INLINE)\\n\"+\n     \"</code>\\n\"+\n     \"</div>\"}};\n\n  function display_loaded() {\n    const el = document.getElementById(\"1002\");\n    if (el != null) {\n      el.textContent = \"BokehJS is loading...\";\n    }\n    if (root.Bokeh !== undefined) {\n      if (el != null) {\n        el.textContent = \"BokehJS \" + root.Bokeh.version + \" successfully loaded.\";\n      }\n    } else if (Date.now() < root._bokeh_timeout) {\n      setTimeout(display_loaded, 100)\n    }\n  }\n\n\n  function run_callbacks() {\n    try {\n      root._bokeh_onload_callbacks.forEach(function(callback) {\n        if (callback != null)\n          callback();\n      });\n    } finally {\n      delete root._bokeh_onload_callbacks\n    }\n    console.debug(\"Bokeh: all callbacks have finished\");\n  }\n\n  function load_libs(css_urls, js_urls, callback) {\n    if (css_urls == null) css_urls = [];\n    if (js_urls == null) js_urls = [];\n\n    root._bokeh_onload_callbacks.push(callback);\n    if (root._bokeh_is_loading > 0) {\n      console.debug(\"Bokeh: BokehJS is being loaded, scheduling callback at\", now());\n      return null;\n    }\n    if (js_urls == null || js_urls.length === 0) {\n      run_callbacks();\n      return null;\n    }\n    console.debug(\"Bokeh: BokehJS not loaded, scheduling load and callback at\", now());\n    root._bokeh_is_loading = css_urls.length + js_urls.length;\n\n    function on_load() {\n      root._bokeh_is_loading--;\n      if (root._bokeh_is_loading === 0) {\n        console.debug(\"Bokeh: all BokehJS libraries/stylesheets loaded\");\n        run_callbacks()\n      }\n    }\n\n    function on_error(url) {\n      console.error(\"failed to load \" + url);\n    }\n\n    for (let i = 0; i < css_urls.length; i++) {\n      const url = css_urls[i];\n      const element = document.createElement(\"link\");\n      element.onload = on_load;\n      element.onerror = on_error.bind(null, url);\n      element.rel = \"stylesheet\";\n      element.type = \"text/css\";\n      element.href = url;\n      console.debug(\"Bokeh: injecting link tag for BokehJS stylesheet: \", url);\n      document.body.appendChild(element);\n    }\n\n    for (let i = 0; i < js_urls.length; i++) {\n      const url = js_urls[i];\n      const element = document.createElement('script');\n      element.onload = on_load;\n      element.onerror = on_error.bind(null, url);\n      element.async = false;\n      element.src = url;\n      console.debug(\"Bokeh: injecting script tag for BokehJS library: \", url);\n      document.head.appendChild(element);\n    }\n  };\n\n  function inject_raw_css(css) {\n    const element = document.createElement(\"style\");\n    element.appendChild(document.createTextNode(css));\n    document.body.appendChild(element);\n  }\n\n  \n  const js_urls = [\"https://cdn.bokeh.org/bokeh/release/bokeh-2.4.2.min.js\", \"https://cdn.bokeh.org/bokeh/release/bokeh-gl-2.4.2.min.js\", \"https://cdn.bokeh.org/bokeh/release/bokeh-widgets-2.4.2.min.js\", \"https://cdn.bokeh.org/bokeh/release/bokeh-tables-2.4.2.min.js\", \"https://cdn.bokeh.org/bokeh/release/bokeh-mathjax-2.4.2.min.js\"];\n  const css_urls = [];\n  \n\n  const inline_js = [\n    function(Bokeh) {\n      Bokeh.set_log_level(\"info\");\n    },\n    function(Bokeh) {\n    \n    \n    }\n  ];\n\n  function run_inline_js() {\n    \n    if (root.Bokeh !== undefined || force === true) {\n      \n    for (let i = 0; i < inline_js.length; i++) {\n      inline_js[i].call(root, root.Bokeh);\n    }\n    if (force === true) {\n        display_loaded();\n      }} else if (Date.now() < root._bokeh_timeout) {\n      setTimeout(run_inline_js, 100);\n    } else if (!root._bokeh_failed_load) {\n      console.log(\"Bokeh: BokehJS failed to load within specified timeout.\");\n      root._bokeh_failed_load = true;\n    } else if (force !== true) {\n      const cell = $(document.getElementById(\"1002\")).parents('.cell').data().cell;\n      cell.output_area.append_execute_result(NB_LOAD_WARNING)\n    }\n\n  }\n\n  if (root._bokeh_is_loading === 0) {\n    console.debug(\"Bokeh: BokehJS loaded, going straight to plotting\");\n    run_inline_js();\n  } else {\n    load_libs(css_urls, js_urls, function() {\n      console.debug(\"Bokeh: BokehJS plotting callback run at\", now());\n      run_inline_js();\n    });\n  }\n}(window));"
     },
     "metadata": {},
     "output_type": "display_data"
    },
    {
     "name": "stdout",
     "output_type": "stream",
     "text": [
      "<class 'pandas.core.frame.DataFrame'>\n",
      "DatetimeIndex: 5000 entries, 2017-04-19 09:00:00 to 2018-02-07 15:00:00\n",
      "Data columns (total 4 columns):\n",
      " #   Column  Non-Null Count  Dtype  \n",
      "---  ------  --------------  -----  \n",
      " 0   Open    5000 non-null   float64\n",
      " 1   High    5000 non-null   float64\n",
      " 2   Low     5000 non-null   float64\n",
      " 3   Close   5000 non-null   float64\n",
      "dtypes: float64(4)\n",
      "memory usage: 195.3 KB\n",
      "<bound method DataFrame.info of                         Open     High      Low    Close\n",
      "2017-04-19 09:00:00  1.07160  1.07220  1.07083  1.07219\n",
      "2017-04-19 10:00:00  1.07214  1.07296  1.07214  1.07260\n",
      "2017-04-19 11:00:00  1.07256  1.07299  1.07170  1.07192\n",
      "2017-04-19 12:00:00  1.07195  1.07280  1.07195  1.07202\n",
      "2017-04-19 13:00:00  1.07200  1.07230  1.07045  1.07050\n",
      "...                      ...      ...      ...      ...\n",
      "2018-02-07 11:00:00  1.23390  1.23548  1.23386  1.23501\n",
      "2018-02-07 12:00:00  1.23501  1.23508  1.23342  1.23422\n",
      "2018-02-07 13:00:00  1.23422  1.23459  1.23338  1.23372\n",
      "2018-02-07 14:00:00  1.23374  1.23452  1.23238  1.23426\n",
      "2018-02-07 15:00:00  1.23427  1.23444  1.22904  1.22904\n",
      "\n",
      "[5000 rows x 4 columns]> None\n"
     ]
    }
   ],
   "source": [
    "from backtesting.test import EURUSD, SMA\n",
    "\n",
    "data = EURUSD.iloc[:, :-1].copy()\n",
    "\n",
    "print(data.info, data.info())\n"
   ],
   "metadata": {
    "collapsed": false,
    "pycharm": {
     "name": "#%%\n"
    }
   }
  },
  {
   "cell_type": "markdown",
   "source": [
    "在监督式机器学习中，我们尝试学习一个将输入特征向量（自变量）映射到已知输出值（因变量）的函数：\n",
    "\n",
    "$$ f\\colon X \\to \\mathbf{y} $$\n",
    "\n",
    "这样，只要我们的模型函数足够，我们就可以从新获取的输入特征向量中预测未来的输出值，从而达到一定程度的确定性。在我们的示例中，我们将尝试在未来两天内将几个价格派生的特征和常见的技术指标映射到价格点。我们构建模型设计矩阵$X$下面:"
   ],
   "metadata": {
    "collapsed": false
   }
  },
  {
   "cell_type": "code",
   "execution_count": 2,
   "outputs": [
    {
     "name": "stdout",
     "output_type": "stream",
     "text": [
      "<class 'pandas.core.frame.DataFrame'>\n",
      "DatetimeIndex: 5000 entries, 2017-04-19 09:00:00 to 2018-02-07 15:00:00\n",
      "Data columns (total 6 columns):\n",
      " #   Column   Non-Null Count  Dtype  \n",
      "---  ------   --------------  -----  \n",
      " 0   Open     5000 non-null   float64\n",
      " 1   High     5000 non-null   float64\n",
      " 2   Low      5000 non-null   float64\n",
      " 3   Close    5000 non-null   float64\n",
      " 4   X_Open   5000 non-null   float64\n",
      " 5   X_Close  5000 non-null   float64\n",
      "dtypes: float64(6)\n",
      "memory usage: 273.4 KB\n",
      "None\n"
     ]
    }
   ],
   "source": [
    "data['X_Open'] = data.Open\n",
    "# data['X_High'] = data.High\n",
    "# data['X_Low'] = data.Low\n",
    "data['X_Close'] = data.Close\n",
    "data = data.dropna().astype(float)\n",
    "print(data.info())"
   ],
   "metadata": {
    "collapsed": false,
    "pycharm": {
     "name": "#%%\n"
    }
   }
  },
  {
   "cell_type": "code",
   "execution_count": 3,
   "outputs": [
    {
     "name": "stdout",
     "output_type": "stream",
     "text": [
      "Classification accuracy:  0.8224\n",
      "(5000, 2) 2 (5000,) 1\n"
     ]
    },
    {
     "data": {
      "text/plain": "<Figure size 1080x144 with 1 Axes>",
      "image/png": "[encoded data removed]"
     },
     "metadata": {
      "needs_background": "light"
     },
     "output_type": "display_data"
    }
   ],
   "source": [
    "import numpy as np\n",
    "#设定numpy显示浮点数精度的小数位数,不使用科学记数法\n",
    "np.set_printoptions(precision=4, suppress=True)\n",
    "\n",
    "def get_X(data):\n",
    "    \"\"\"返回模型设计矩阵 X\"\"\"\n",
    "    X = data.filter(like='X').values\n",
    "    # print(X.shape, X.ndim)\n",
    "    return X\n",
    "\n",
    "\n",
    "def get_y(data):\n",
    "    \"\"\"返回因变量 y\n",
    "    # 收盘价>开盘价 标记类别为1 收盘价<开盘价 标记类别为-1 收盘价=开盘价 标记类别为0\n",
    "    \"\"\"\n",
    "    epsilon = 0.001  #误差\n",
    "    y = (data.Close - data.Open) / data.Open\n",
    "    y[y.between(-epsilon, epsilon)] = 0  # 货币贬值的回报率低于epsilon\n",
    "    y[y > 0] = 1\n",
    "    y[y < 0] = -1\n",
    "    # print(y.shape, y.ndim)\n",
    "    return y\n",
    "\n",
    "\n",
    "def get_clean_Xy(df):\n",
    "    \"\"\"返回(X, y)已清除的NaN值\"\"\"\n",
    "    X = get_X(df)\n",
    "    y = get_y(df).values\n",
    "    isnan = np.isnan(y)\n",
    "    X = X[~isnan]\n",
    "    y = y[~isnan]\n",
    "    # print(X.shape, X.ndim, y.shape, y.ndim)\n",
    "    return X, y\n",
    "\n",
    "\n",
    "'''\n",
    "让我们看看我们的数据如何使用来自最先进的scikit-learn Python机器学习包的简单k-最近邻（kNN）算法进行建模。 Let’s see how our data performs modeled using a simple k-nearest neighbors (kNN) algorithm from the state of the art scikit-learn Python machine learning package. To avoid (or at least demonstrate) overfitting, 为了避免（或至少演示）过拟合，总是将数据拆分为训练集和测试集;特别是，不要在构建模型的相同数据上验证模型性能。\n",
    "'''\n",
    "import pandas as pd\n",
    "from sklearn.svm import SVC\n",
    "from sklearn.neighbors import KNeighborsClassifier\n",
    "from sklearn.model_selection import train_test_split\n",
    "\n",
    "X, y = get_clean_Xy(data)\n",
    "X_train, X_test, y_train, y_test = train_test_split(X, y, test_size=.5, random_state=0)\n",
    "\n",
    "# clf = KNeighborsClassifier(7)  #\n",
    "clf = SVC(kernel='linear', C=1, gamma='scale', probability=False)  # Model the output based on 7 \"nearest\" examples\n",
    "clf.fit(X_train, y_train)\n",
    "\n",
    "y_pred = clf.predict(X_test)\n",
    "\n",
    "_ = pd.DataFrame({'y_true': y_test, 'y_pred': y_pred}).plot(figsize=(15, 2), alpha=.7)\n",
    "print('Classification accuracy: ', np.mean(y_test == y_pred))\n",
    "print(X.shape, X.ndim, y.shape, y.ndim)\n"
   ],
   "metadata": {
    "collapsed": false,
    "pycharm": {
     "name": "#%%\n"
    }
   }
  },
  {
   "cell_type": "code",
   "execution_count": 4,
   "outputs": [
    {
     "name": "stdout",
     "output_type": "stream",
     "text": [
      "sv_s: (864, 2) sv_: [[1.118 1.116]]\n",
      "sv_av:0.00068 sv_std:0.05170 av/std:0.01311 sv_mean:1.17135\n",
      "X: [[1.0716 1.0722]\n",
      " [1.0721 1.0726]\n",
      " [1.0726 1.0719]\n",
      " ...\n",
      " [1.2342 1.2337]\n",
      " [1.2337 1.2343]\n",
      " [1.2343 1.229 ]]\n"
     ]
    }
   ],
   "source": [
    "sv_ = clf.support_vectors_\n",
    "sv_mean = np.mean(sv_)\n",
    "sv_av = (sv_mean / (sv_.shape[0] * sv_.shape[1]))\n",
    "print('sv_s:', sv_.shape,\n",
    "      'sv_:', sv_[:1, ], )\n",
    "print('sv_av:%.5f' % (sv_mean / (sv_.shape[0] * sv_.shape[1])),\n",
    "      'sv_std:%.5f' % np.std(sv_),  #标准差\n",
    "      'av/std:%.5f' % (sv_av / np.std(sv_)),\n",
    "      'sv_mean:%.5f' % sv_mean,\n",
    "      )\n",
    "print('X:', X[:])"
   ],
   "metadata": {
    "collapsed": false,
    "pycharm": {
     "name": "#%%\n"
    }
   }
  },
  {
   "cell_type": "code",
   "execution_count": 5,
   "outputs": [
    {
     "name": "stdout",
     "output_type": "stream",
     "text": [
      "<class 'numpy.ndarray'> (2,) (6,)\n",
      "[ 2 -2] [0 1 2 3 4 5]\n",
      "2,1,0,1,2,3,\n",
      "[2 2 2 4 6 8]\n"
     ]
    }
   ],
   "source": [
    "# 通过传递值列表创建\n",
    "np.random.seed(0)\n",
    "d1 = np.array(np.random.randint(-2, 3, 2))\n",
    "d2 = np.array(np.arange(6))\n",
    "print(type(d1), d1.shape, d2.shape)\n",
    "print(d1, d2)\n",
    "\n",
    "for i,v in enumerate(d2):\n",
    "    d2[i] = np.min(abs(d1 - v)) + v\n",
    "    print(np.min(abs(d1 - v)), end=',')\n",
    "print()\n",
    "print(d2)"
   ],
   "metadata": {
    "collapsed": false,
    "pycharm": {
     "name": "#%%\n"
    }
   }
  },
  {
   "cell_type": "code",
   "execution_count": 7,
   "outputs": [
    {
     "name": "stdout",
     "output_type": "stream",
     "text": [
      "<class 'numpy.ndarray'> (251,) 1\n"
     ]
    },
    {
     "data": {
      "text/plain": "Start                     2017-04-19 09:00:00\nEnd                       2018-02-07 15:00:00\nDuration                    294 days 06:00:00\nExposure Time [%]                        95.3\nEquity Final [$]                          0.0\nEquity Peak [$]                  10840.266191\nReturn [%]                             -100.0\nBuy & Hold Return [%]               14.628937\nReturn (Ann.) [%]                         0.0\nVolatility (Ann.) [%]              522.204155\nSharpe Ratio                              0.0\nSortino Ratio                             0.0\nCalmar Ratio                              0.0\nMax. Drawdown [%]                      -100.0\nAvg. Drawdown [%]                  -33.851451\nMax. Drawdown Duration      293 days 07:00:00\nAvg. Drawdown Duration       97 days 20:00:00\n# Trades                                  432\nWin Rate [%]                             25.0\nBest Trade [%]                        1.49663\nWorst Trade [%]                     -5.013021\nAvg. Trade [%]                      -0.020673\nMax. Trade Duration          28 days 12:00:00\nAvg. Trade Duration           0 days 16:00:00\nProfit Factor                        0.810139\nExpectancy [%]                      -0.019992\nSQN                                 -1.583157\n_strategy                 MLTrainOnceStrategy\n_equity_curve                             ...\n_trades                          Size  Ent...\ndtype: object"
     },
     "execution_count": 7,
     "metadata": {},
     "output_type": "execute_result"
    }
   ],
   "source": [
    "from backtesting import Backtest, Strategy\n",
    "from backtesting.lib import crossover\n",
    "from backtesting.lib import resample_apply\n",
    "\n",
    "\n",
    "def svc(array, n):\n",
    "    # print(type(array), array.shape, array.ndim)\n",
    "    df = array.iloc[:n]\n",
    "    X, y = get_clean_Xy(df)\n",
    "    # 初始化我们的模型，分类器\n",
    "    clf = SVC(kernel='linear', C=100, gamma='scale', probability=False)\n",
    "\n",
    "    clf.fit(X, y)\n",
    "    sv_ = clf.support_vectors_\n",
    "\n",
    "    close = array.Close\n",
    "    sv_c = np.zeros(len(close), dtype=close.dtype)\n",
    "    for i, v in enumerate(close):\n",
    "        sv_min = np.min(abs(sv_ - v))\n",
    "        sv_c[i] = sv_min + v\n",
    "    print(type(sv_c), sv_c.shape, sv_c.ndim)\n",
    "    return pd.Series(sv_c)\n",
    "\n",
    "\n",
    "class MLTrainOnceStrategy(Strategy):\n",
    "    price_delta = .004  # 0.4%\n",
    "    d_svc = 100\n",
    "\n",
    "    def __init__(self, broker, data, params):\n",
    "        super().__init__(broker, data, params)\n",
    "        self.daily_svc = None\n",
    "        # self.forecasts = None\n",
    "        # self.sv_c = None\n",
    "        # self.sv_ = None\n",
    "        # self.clf = None\n",
    "\n",
    "    def init(self):\n",
    "        # 在init()和next()中，调用超方法来正确初始化父类是很重要的\n",
    "        super().init()\n",
    "\n",
    "        # 为了构建每日svc，我们可以使用库中的' resample_apply() ' helper函数\n",
    "        self.daily_svc = resample_apply(\n",
    "            'D', svc, data, self.d_svc)\n",
    "\n",
    "        # self.sv_c = self.I(sv_cc(self.data, sv_), name='sv_c')\n",
    "        # self.sv_c = self.I(svc, self.data.Close, sv_)\n",
    "        pass\n",
    "\n",
    "    def next(self):\n",
    "        # 跳过训练、样本内数据\n",
    "        # if len(self.data) < N_TRAIN:\n",
    "        #     return\n",
    "\n",
    "        # 如果sma1交叉高于sma2，关闭所有现有的空头交易，并买入该资产\n",
    "        if crossover(self.data.Close, self.daily_svc):\n",
    "            self.position.close()\n",
    "            self.buy()\n",
    "\n",
    "        # 否则，如果sma1交叉低于sma2，关闭所有现有的多头交易，并出售资产\n",
    "        elif crossover(self.daily_svc, self.data.Close):\n",
    "            self.position.close()\n",
    "            self.sell()\n",
    "\n",
    "\n",
    "bt = Backtest(data, MLTrainOnceStrategy, commission=.0002, margin=.05)\n",
    "bt.run()\n"
   ],
   "metadata": {
    "collapsed": false,
    "pycharm": {
     "name": "#%%\n"
    }
   }
  },
  {
   "cell_type": "code",
   "execution_count": null,
   "outputs": [],
   "source": [
    "import pandas as pd\n",
    "from backtesting.lib import SignalStrategy, TrailingStrategy\n",
    "\n",
    "\n",
    "class SmaCross(SignalStrategy,\n",
    "               TrailingStrategy):\n",
    "    n1 = 10\n",
    "    n2 = 25\n",
    "\n",
    "    def init(self):\n",
    "        # 在init()和next()中，调用超方法来正确初始化父类是很重要的\n",
    "        super().init()\n",
    "\n",
    "        # 预先计算两个移动平均线\n",
    "        sma1 = self.I(SMA, self.data.Close, self.n1)\n",
    "        sma2 = self.I(SMA, self.data.Close, self.n2)\n",
    "\n",
    "        # sma1和sma2向上交叉。Diff给出[-1,0，*1*]\n",
    "        signal = (pd.Series(sma1) > sma2).astype(int).diff().fillna(0)\n",
    "        signal = signal.replace(-1, 0)  # Upwards/long only\n",
    "\n",
    "        # 在每个订单上使用95%的可用流动性(当时)。(保留值为1。而是只买一股。)\n",
    "        entry_size = signal * .95\n",
    "\n",
    "        # 使用' SignalStrategy '提供的方法设置订单输入大小。看文档。\n",
    "        self.set_signal(entry_size=entry_size)\n",
    "\n",
    "        # 使用' TrailingStrategy '提供的方法将跟踪止损设置为2倍ATR\n",
    "        self.set_trailing_sl(2)"
   ],
   "metadata": {
    "collapsed": false,
    "pycharm": {
     "name": "#%%\n"
    }
   }
  }
 ],
 "metadata": {
  "kernelspec": {
   "display_name": "Python 3",
   "language": "python",
   "name": "python3"
  },
  "language_info": {
   "codemirror_mode": {
    "name": "ipython",
    "version": 2
   },
   "file_extension": ".py",
   "mimetype": "text/x-python",
   "name": "python",
   "nbconvert_exporter": "python",
   "pygments_lexer": "ipython2",
   "version": "2.7.6"
  }
 },
 "nbformat": 4,
 "nbformat_minor": 0
}