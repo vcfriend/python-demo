{
 "cells": [
  {
   "cell_type": "code",
   "execution_count": 525,
   "outputs": [],
   "source": [
    "# coding=utf8\n",
    "import numpy as np\n",
    "import matplotlib.pyplot as plt\n",
    "import pandas as pd"
   ],
   "metadata": {
    "collapsed": false,
    "pycharm": {
     "name": "#%%\n"
    }
   }
  },
  {
   "cell_type": "code",
   "execution_count": 526,
   "outputs": [],
   "source": [
    "# 1. 获取数据\n",
    "# 2. 基本数据处理\n",
    "# 2.1 缺失值处理\n",
    "# 2.2 确定特征值，目标值\n",
    "# 2.3 分割数据\n",
    "# 3. 特征工程（标准化）\n",
    "# 4. 机器学习（逻辑回归）\n",
    "# 5. 模型评估"
   ],
   "metadata": {
    "collapsed": false,
    "pycharm": {
     "name": "#%%\n"
    }
   }
  },
  {
   "cell_type": "code",
   "execution_count": 527,
   "outputs": [
    {
     "name": "stdout",
     "output_type": "stream",
     "text": [
      "时间      datetime64[ns]\n",
      "方向               int64\n",
      "开仓均价             int64\n",
      "平仓价格             int64\n",
      "盈亏               int64\n",
      "类别               int64\n",
      "dtype: object\n"
     ]
    },
    {
     "data": {
      "text/plain": "                     时间  方向  开仓均价  平仓价格  盈亏  类别\n0   2017-08-16 18:10:00  -1  1723  1726 -30   0\n1   2017-08-18 13:30:00   1  1726  1732  60   1\n2   2017-08-18 13:50:00  -1  1732  1735 -30   0\n3   2017-08-18 14:00:00   1  1735  1732 -30   0\n4   2017-08-21 13:25:00  -1  1732  1734 -20   0\n..                  ...  ..   ...   ...  ..  ..\n495 2018-12-13 13:10:00   1  1868  1869  10   1\n496 2018-12-13 13:25:00  -1  1869  1872 -30   0\n497 2018-12-13 14:05:00   1  1872  1870 -20   0\n498 2018-12-13 14:45:00  -1  1870  1871 -10   0\n499 2018-12-13 17:50:00   1  1871  1870 -10   0\n\n[500 rows x 6 columns]",
      "text/html": "<div>\n<style scoped>\n    .dataframe tbody tr th:only-of-type {\n        vertical-align: middle;\n    }\n\n    .dataframe tbody tr th {\n        vertical-align: top;\n    }\n\n    .dataframe thead th {\n        text-align: right;\n    }\n</style>\n<table border=\"1\" class=\"dataframe\">\n  <thead>\n    <tr style=\"text-align: right;\">\n      <th></th>\n      <th>时间</th>\n      <th>方向</th>\n      <th>开仓均价</th>\n      <th>平仓价格</th>\n      <th>盈亏</th>\n      <th>类别</th>\n    </tr>\n  </thead>\n  <tbody>\n    <tr>\n      <th>0</th>\n      <td>2017-08-16 18:10:00</td>\n      <td>-1</td>\n      <td>1723</td>\n      <td>1726</td>\n      <td>-30</td>\n      <td>0</td>\n    </tr>\n    <tr>\n      <th>1</th>\n      <td>2017-08-18 13:30:00</td>\n      <td>1</td>\n      <td>1726</td>\n      <td>1732</td>\n      <td>60</td>\n      <td>1</td>\n    </tr>\n    <tr>\n      <th>2</th>\n      <td>2017-08-18 13:50:00</td>\n      <td>-1</td>\n      <td>1732</td>\n      <td>1735</td>\n      <td>-30</td>\n      <td>0</td>\n    </tr>\n    <tr>\n      <th>3</th>\n      <td>2017-08-18 14:00:00</td>\n      <td>1</td>\n      <td>1735</td>\n      <td>1732</td>\n      <td>-30</td>\n      <td>0</td>\n    </tr>\n    <tr>\n      <th>4</th>\n      <td>2017-08-21 13:25:00</td>\n      <td>-1</td>\n      <td>1732</td>\n      <td>1734</td>\n      <td>-20</td>\n      <td>0</td>\n    </tr>\n    <tr>\n      <th>...</th>\n      <td>...</td>\n      <td>...</td>\n      <td>...</td>\n      <td>...</td>\n      <td>...</td>\n      <td>...</td>\n    </tr>\n    <tr>\n      <th>495</th>\n      <td>2018-12-13 13:10:00</td>\n      <td>1</td>\n      <td>1868</td>\n      <td>1869</td>\n      <td>10</td>\n      <td>1</td>\n    </tr>\n    <tr>\n      <th>496</th>\n      <td>2018-12-13 13:25:00</td>\n      <td>-1</td>\n      <td>1869</td>\n      <td>1872</td>\n      <td>-30</td>\n      <td>0</td>\n    </tr>\n    <tr>\n      <th>497</th>\n      <td>2018-12-13 14:05:00</td>\n      <td>1</td>\n      <td>1872</td>\n      <td>1870</td>\n      <td>-20</td>\n      <td>0</td>\n    </tr>\n    <tr>\n      <th>498</th>\n      <td>2018-12-13 14:45:00</td>\n      <td>-1</td>\n      <td>1870</td>\n      <td>1871</td>\n      <td>-10</td>\n      <td>0</td>\n    </tr>\n    <tr>\n      <th>499</th>\n      <td>2018-12-13 17:50:00</td>\n      <td>1</td>\n      <td>1871</td>\n      <td>1870</td>\n      <td>-10</td>\n      <td>0</td>\n    </tr>\n  </tbody>\n</table>\n<p>500 rows × 6 columns</p>\n</div>"
     },
     "execution_count": 527,
     "metadata": {},
     "output_type": "execute_result"
    }
   ],
   "source": [
    "import time\n",
    "\n",
    "# 1. 获取数据\n",
    "df = pd.read_csv('data/交易明细.csv',\n",
    "                 sep=',',\n",
    "                 # index_col=['时间'],  # 设置行索引\n",
    "                 parse_dates=['时间'],  # 解析时间 2017/8/16 18:10\n",
    "                 date_parser=lambda x: pd.to_datetime(x, format='%Y/%m/%d %H:%M'),  # 时间解析的格式\n",
    "                 usecols=['时间', '方向', '开仓均价', '平仓价格', '盈亏', '类别'],\n",
    "                 encoding='gbk',\n",
    "                 )\n",
    "print(df.dtypes)\n",
    "df"
   ],
   "metadata": {
    "collapsed": false,
    "pycharm": {
     "name": "#%%\n"
    }
   }
  },
  {
   "cell_type": "code",
   "execution_count": 528,
   "outputs": [],
   "source": [
    "# 时间格式转换，方便数据标准化\n",
    "#df['时间'] = df['时间'].apply(lambda x:time.mktime(x.timetuple()))\n",
    "#df.dtypes"
   ],
   "metadata": {
    "collapsed": false,
    "pycharm": {
     "name": "#%%\n"
    }
   }
  },
  {
   "cell_type": "code",
   "execution_count": 529,
   "outputs": [
    {
     "data": {
      "text/plain": "      id  平仓价格  盈亏  下次类别\n0      0  1726 -30   1.0\n1      1  1732  60   0.0\n2      2  1735 -30   0.0\n3      3  1732 -30   0.0\n4      4  1734 -20   0.0\n..   ...   ...  ..   ...\n495  495  1869  10   0.0\n496  496  1872 -30   0.0\n497  497  1870 -20   0.0\n498  498  1871 -10   0.0\n499  499  1870 -10   NaN\n\n[500 rows x 4 columns]",
      "text/html": "<div>\n<style scoped>\n    .dataframe tbody tr th:only-of-type {\n        vertical-align: middle;\n    }\n\n    .dataframe tbody tr th {\n        vertical-align: top;\n    }\n\n    .dataframe thead th {\n        text-align: right;\n    }\n</style>\n<table border=\"1\" class=\"dataframe\">\n  <thead>\n    <tr style=\"text-align: right;\">\n      <th></th>\n      <th>id</th>\n      <th>平仓价格</th>\n      <th>盈亏</th>\n      <th>下次类别</th>\n    </tr>\n  </thead>\n  <tbody>\n    <tr>\n      <th>0</th>\n      <td>0</td>\n      <td>1726</td>\n      <td>-30</td>\n      <td>1.0</td>\n    </tr>\n    <tr>\n      <th>1</th>\n      <td>1</td>\n      <td>1732</td>\n      <td>60</td>\n      <td>0.0</td>\n    </tr>\n    <tr>\n      <th>2</th>\n      <td>2</td>\n      <td>1735</td>\n      <td>-30</td>\n      <td>0.0</td>\n    </tr>\n    <tr>\n      <th>3</th>\n      <td>3</td>\n      <td>1732</td>\n      <td>-30</td>\n      <td>0.0</td>\n    </tr>\n    <tr>\n      <th>4</th>\n      <td>4</td>\n      <td>1734</td>\n      <td>-20</td>\n      <td>0.0</td>\n    </tr>\n    <tr>\n      <th>...</th>\n      <td>...</td>\n      <td>...</td>\n      <td>...</td>\n      <td>...</td>\n    </tr>\n    <tr>\n      <th>495</th>\n      <td>495</td>\n      <td>1869</td>\n      <td>10</td>\n      <td>0.0</td>\n    </tr>\n    <tr>\n      <th>496</th>\n      <td>496</td>\n      <td>1872</td>\n      <td>-30</td>\n      <td>0.0</td>\n    </tr>\n    <tr>\n      <th>497</th>\n      <td>497</td>\n      <td>1870</td>\n      <td>-20</td>\n      <td>0.0</td>\n    </tr>\n    <tr>\n      <th>498</th>\n      <td>498</td>\n      <td>1871</td>\n      <td>-10</td>\n      <td>0.0</td>\n    </tr>\n    <tr>\n      <th>499</th>\n      <td>499</td>\n      <td>1870</td>\n      <td>-10</td>\n      <td>NaN</td>\n    </tr>\n  </tbody>\n</table>\n<p>500 rows × 4 columns</p>\n</div>"
     },
     "execution_count": 529,
     "metadata": {},
     "output_type": "execute_result"
    }
   ],
   "source": [
    "# 将索引转换成列\n",
    "df['id'] = df.index\n",
    "df['下次类别'] = df['类别'].shift(-1)  #读取下一次类别\n",
    "df = df[['id', '平仓价格', '盈亏', '下次类别']]\n",
    "df"
   ],
   "metadata": {
    "collapsed": false,
    "pycharm": {
     "name": "#%%\n"
    }
   }
  },
  {
   "cell_type": "code",
   "execution_count": 530,
   "outputs": [
    {
     "name": "stdout",
     "output_type": "stream",
     "text": [
      "id      False\n",
      "平仓价格    False\n",
      "盈亏      False\n",
      "下次类别     True\n",
      "dtype: bool\n",
      "id      False\n",
      "平仓价格    False\n",
      "盈亏      False\n",
      "下次类别     True\n",
      "dtype: bool\n"
     ]
    }
   ],
   "source": [
    "# 2.1 缺失值处理\n",
    "\n",
    "# 检查数据中是否有缺失值，以下两种方式均可\n",
    "#Flase:对应特征的特征值中无缺失值\n",
    "#True：有缺失值\n",
    "print(df.isnull().any())\n",
    "print(np.isnan(df).any())"
   ],
   "metadata": {
    "collapsed": false,
    "pycharm": {
     "name": "#%%\n"
    }
   }
  },
  {
   "cell_type": "code",
   "execution_count": 531,
   "outputs": [
    {
     "data": {
      "text/plain": "id      0\n平仓价格    0\n盈亏      0\n下次类别    1\ndtype: int64"
     },
     "execution_count": 531,
     "metadata": {},
     "output_type": "execute_result"
    }
   ],
   "source": [
    "#返回每一列缺失值统计个数\n",
    "df.isnull().sum()"
   ],
   "metadata": {
    "collapsed": false,
    "pycharm": {
     "name": "#%%\n"
    }
   }
  },
  {
   "cell_type": "code",
   "execution_count": 532,
   "outputs": [
    {
     "name": "stderr",
     "output_type": "stream",
     "text": [
      "C:\\ProgramData\\Anaconda3\\envs\\py39\\lib\\site-packages\\pandas\\util\\_decorators.py:311: SettingWithCopyWarning: \n",
      "A value is trying to be set on a copy of a slice from a DataFrame\n",
      "\n",
      "See the caveats in the documentation: https://pandas.pydata.org/pandas-docs/stable/user_guide/indexing.html#returning-a-view-versus-a-copy\n",
      "  return func(*args, **kwargs)\n"
     ]
    },
    {
     "data": {
      "text/plain": "id      0\n平仓价格    0\n盈亏      0\n下次类别    0\ndtype: int64"
     },
     "execution_count": 532,
     "metadata": {},
     "output_type": "execute_result"
    }
   ],
   "source": [
    "#缺失值处理，以下两种方式均可\n",
    "#删除包含缺失值的行\n",
    "df.dropna(inplace=True)\n",
    "#缺失值填充\n",
    "# df.fillna('100')\n",
    "\n",
    "#返回每一列缺失值统计个数\n",
    "df.isnull().sum()"
   ],
   "metadata": {
    "collapsed": false,
    "pycharm": {
     "name": "#%%\n"
    }
   }
  },
  {
   "cell_type": "code",
   "execution_count": 533,
   "outputs": [
    {
     "name": "stdout",
     "output_type": "stream",
     "text": [
      "   平仓价格  盈亏\n",
      "0  1726 -30\n",
      "1  1732  60\n",
      "2  1735 -30\n",
      "(499, 2)\n",
      "2\n",
      "   下次类别\n",
      "0   1.0\n",
      "1   0.0\n",
      "2   0.0\n",
      "(499, 1)\n",
      "2\n",
      "<class 'numpy.ndarray'>\n",
      "(499,)\n",
      "1\n"
     ]
    }
   ],
   "source": [
    "# 2.2 确定特征值，目标值\n",
    "\n",
    "# 特征值\n",
    "X = df.loc[0:, ['平仓价格', '盈亏']]\n",
    "print(X.head(3))\n",
    "print(X.shape)\n",
    "print(X.ndim)\n",
    "\n",
    "# 目标值\n",
    "y = df.loc[0:, ['下次类别']]\n",
    "print(y.head(3))\n",
    "print(y.shape)\n",
    "print(y.ndim)\n",
    "\n",
    "print(type(df.values))  # 通过values方法，实现dataframe转换为ndarray\n",
    "\n",
    "X = X.values\n",
    "y = y.values\n",
    "\n",
    "y = y.reshape(-1)  # 将二维转换成一维数组\n",
    "print(y.shape)\n",
    "print(y.ndim)\n"
   ],
   "metadata": {
    "collapsed": false,
    "pycharm": {
     "name": "#%%\n"
    }
   }
  },
  {
   "cell_type": "code",
   "execution_count": 569,
   "outputs": [
    {
     "name": "stdout",
     "output_type": "stream",
     "text": [
      "<class 'pandas.core.frame.DataFrame'>\n",
      "Int64Index: 499 entries, 0 to 498\n",
      "Data columns (total 4 columns):\n",
      " #   Column  Non-Null Count  Dtype  \n",
      "---  ------  --------------  -----  \n",
      " 0   id      499 non-null    int64  \n",
      " 1   平仓价格    499 non-null    int64  \n",
      " 2   盈亏      499 non-null    int64  \n",
      " 3   下次类别    499 non-null    float64\n",
      "dtypes: float64(1), int64(3)\n",
      "memory usage: 35.7 KB\n"
     ]
    }
   ],
   "source": [
    "# print(df.describe())\n",
    "df.info()"
   ],
   "metadata": {
    "collapsed": false,
    "pycharm": {
     "name": "#%%\n"
    }
   }
  },
  {
   "cell_type": "code",
   "execution_count": 535,
   "outputs": [
    {
     "data": {
      "text/plain": "<Figure size 432x288 with 1 Axes>",
      "image/png": "[encoded data removed]"
     },
     "metadata": {
      "needs_background": "light"
     },
     "output_type": "display_data"
    }
   ],
   "source": [
    "#画图\n",
    "plt.scatter(X[y == 0, 0], X[y == 0, 1], s=5, c='blue')\n",
    "plt.scatter(X[y == 1, 0], X[y == 1, 1], s=5, color='red')\n",
    "plt.show()"
   ],
   "metadata": {
    "collapsed": false,
    "pycharm": {
     "name": "#%%\n"
    }
   }
  },
  {
   "cell_type": "code",
   "execution_count": 564,
   "outputs": [
    {
     "name": "stdout",
     "output_type": "stream",
     "text": [
      "   id  平仓价格  盈亏  下次类别\n",
      "0   0  1726 -30   1.0\n",
      "1   1  1732  60   0.0\n",
      "2   2  1735 -30   0.0\n",
      "<class 'pandas.core.frame.DataFrame'>\n",
      "Int64Index: 499 entries, 0 to 498\n",
      "Data columns (total 4 columns):\n",
      " #   Column  Non-Null Count  Dtype  \n",
      "---  ------  --------------  -----  \n",
      " 0   id      499 non-null    int64  \n",
      " 1   平仓价格    499 non-null    int64  \n",
      " 2   盈亏      499 non-null    int64  \n",
      " 3   下次类别    499 non-null    float64\n",
      "dtypes: float64(1), int64(3)\n",
      "memory usage: 35.7 KB\n"
     ]
    }
   ],
   "source": [
    "print(df.head(3))"
   ],
   "metadata": {
    "collapsed": false,
    "pycharm": {
     "name": "#%%\n"
    }
   }
  },
  {
   "cell_type": "code",
   "execution_count": 609,
   "outputs": [],
   "source": [
    "# 2.3 分割数据\n",
    "\n",
    "#因为是时间序列值，不能用随机分割\n",
    "# 前200组数据用于特征训练\n",
    "x_train0, x_test0 = np.split(X, [300], axis=0)\n",
    "y_train, y_test = np.split(y, [300], axis=0)"
   ],
   "metadata": {
    "collapsed": false,
    "pycharm": {
     "name": "#%%\n"
    }
   }
  },
  {
   "cell_type": "code",
   "execution_count": 537,
   "outputs": [],
   "source": [],
   "metadata": {
    "collapsed": false,
    "pycharm": {
     "name": "#%%\n"
    }
   }
  },
  {
   "cell_type": "code",
   "execution_count": 538,
   "outputs": [],
   "source": [
    "# 3. 特征工程（标准化）\n",
    "from sklearn.preprocessing import StandardScaler\n",
    "\n",
    "standarScaler = StandardScaler()\n",
    "\n",
    "x_train = standarScaler.fit_transform(x_train0)\n",
    "x_test = standarScaler.transform(x_test0)\n",
    "\n",
    "# standarScaler.fit(X)\n",
    "# x_train = standarScaler.transform(X)\n",
    "# y_train = y"
   ],
   "metadata": {
    "collapsed": false,
    "pycharm": {
     "name": "#%%\n"
    }
   }
  },
  {
   "cell_type": "code",
   "execution_count": 538,
   "outputs": [],
   "source": [],
   "metadata": {
    "collapsed": false,
    "pycharm": {
     "name": "#%%\n"
    }
   }
  },
  {
   "cell_type": "code",
   "execution_count": null,
   "outputs": [],
   "source": [
    "# 定义机器学习算法的决策边界输出函数\n",
    "def plot_decision_boundary(model, axis):\n",
    "    x0, x1 = np.meshgrid(\n",
    "        np.linspace(axis[0], axis[1], int((axis[1] - axis[0]) * 100)).reshape(-3, 3),\n",
    "        np.linspace(axis[2], axis[3], int((axis[3] - axis[2]) * 100)).reshape(-3, 3)\n",
    "    )\n",
    "    X_new = np.c_[x0.ravel(), x1.ravel()]\n",
    "\n",
    "    y_predict = model.predict(X_new)\n",
    "    zz = y_predict.reshape(x0.shape)\n",
    "\n",
    "    from matplotlib.colors import ListedColormap\n",
    "    custom_cmap = ListedColormap(['#EF9A9A', '#FFF59D', '#90CAF9'])\n",
    "\n",
    "    plt.contourf(x0, x1, zz, linewidth=5, cmap=custom_cmap)\n"
   ],
   "metadata": {
    "collapsed": false,
    "pycharm": {
     "name": "#%%\n"
    }
   }
  },
  {
   "cell_type": "code",
   "execution_count": 559,
   "outputs": [
    {
     "data": {
      "text/plain": "LinearSVC(C=0.1)"
     },
     "execution_count": 559,
     "metadata": {},
     "output_type": "execute_result"
    }
   ],
   "source": [
    "from sklearn.svm import LinearSVC\n",
    "\n",
    "# 用训练集训练模型\n",
    "# 4. 机器学习（支持向量分类）\n",
    "svc = LinearSVC(C=0.1)\n",
    "svc.fit(x_train, y_train)"
   ],
   "metadata": {
    "collapsed": false,
    "pycharm": {
     "name": "#%%\n"
    }
   }
  },
  {
   "cell_type": "code",
   "execution_count": 623,
   "outputs": [
    {
     "name": "stdout",
     "output_type": "stream",
     "text": [
      "预测值：\n",
      " [0. 0. 0. 0. 0. 0. 0. 0. 0. 0. 0. 0. 0. 0. 0. 0. 0. 0. 0. 0. 0. 0. 0. 0.\n",
      " 0. 0. 0. 0. 0. 0. 0. 0. 0. 0. 0. 0. 0. 0. 0. 0. 0. 0. 0. 0. 0. 0. 0. 0.\n",
      " 0. 0. 0. 0. 0. 0. 0. 0. 0. 0. 0. 0. 0. 1. 0. 0. 0. 0. 0. 0. 0. 0. 0. 0.\n",
      " 0. 0. 0. 0. 0. 0. 0. 0. 0. 0. 0. 0. 0. 0. 0. 1. 0. 0. 0. 0. 0. 0. 0. 0.\n",
      " 0. 0. 0. 0. 0. 0. 0. 0. 0. 0. 0. 0. 0. 1. 0. 0. 0. 0. 1. 0. 0. 0. 0. 0.\n",
      " 0. 0. 1. 0. 0. 0. 0. 0. 0. 0. 0. 0. 0. 0. 0. 0. 0. 0. 0. 0. 0. 0. 0. 1.\n",
      " 0. 0. 0. 0. 0. 0. 0. 0. 0. 0. 0. 0. 0. 0. 0. 0. 0. 0. 0. 1. 0. 0. 1. 0.\n",
      " 0. 1. 1. 0. 1. 0. 1. 1. 1. 1. 1. 1. 1. 1. 1. 1. 1. 1. 1. 0. 0. 0. 0. 0.\n",
      " 0. 0. 0. 0. 0. 0. 0.]\n",
      "准确率是：\n",
      " 0.6432160804020101\n",
      "<class 'numpy.ndarray'>\n",
      "1\n",
      "(199,)\n"
     ]
    }
   ],
   "source": [
    "# 5. 模型评估\n",
    "y_pre = svc.predict(x_test)\n",
    "print(\"预测值：\\n\", y_pre)\n",
    "score = svc.score(x_test, y_test)\n",
    "print(\"准确率是：\\n\", score)\n",
    "print(type(y_pre))\n",
    "print(y_pre.ndim)\n",
    "print(y_pre.shape)"
   ],
   "metadata": {
    "collapsed": false,
    "pycharm": {
     "name": "#%%\n"
    }
   }
  },
  {
   "cell_type": "code",
   "execution_count": 624,
   "outputs": [
    {
     "name": "stdout",
     "output_type": "stream",
     "text": [
      "<class 'numpy.ndarray'>\n",
      "2\n",
      "(199, 2)\n"
     ]
    }
   ],
   "source": [
    "# 把一维数组，变成二维数组，(-1, 1)多行两列\n",
    "y_pre2 = np.reshape(y_pre, (-1, 1))\n",
    "y_test2= np.reshape(y_test, (-1, 1))\n",
    "\n",
    "look = np.concatenate([y_pre2, y_test2], axis=1)\n",
    "# 把未特征处理的测试集，两列数组添加到look数组后面，方便查看\n",
    "# look = np.concatenate([y_pre2, y_test2, x_test0], axis=1)\n",
    "print(type(look))\n",
    "print(look.ndim)\n",
    "print(look.shape)\n",
    "# look"
   ],
   "metadata": {
    "collapsed": false,
    "pycharm": {
     "name": "#%%\n"
    }
   }
  },
  {
   "cell_type": "code",
   "execution_count": 623,
   "outputs": [],
   "source": [],
   "metadata": {
    "collapsed": false,
    "pycharm": {
     "name": "#%%\n"
    }
   }
  },
  {
   "cell_type": "code",
   "execution_count": 621,
   "outputs": [
    {
     "name": "stderr",
     "output_type": "stream",
     "text": [
      "C:\\Users\\yalin\\AppData\\Local\\Temp/ipykernel_22152/3298936273.py:15: UserWarning: The following kwargs were not used by contour: 'linewidth'\n",
      "  plt.contourf(x0, x1, zz, linewidth=5, cmap=custom_cmap)\n"
     ]
    },
    {
     "data": {
      "text/plain": "<Figure size 432x288 with 1 Axes>",
      "image/png": "[encoded data removed]"
     },
     "metadata": {
      "needs_background": "light"
     },
     "output_type": "display_data"
    }
   ],
   "source": [
    "plot_decision_boundary(svc, axis=[-3, 3, -3, 3])\n",
    "plt.scatter(x_train[y_train == 0, 0], x_train[y_train == 0, 1], s=5, c='blue')\n",
    "plt.scatter(x_train[y_train == 1, 0], x_train[y_train == 1, 1], s=5, c='red')\n",
    "plt.show()"
   ],
   "metadata": {
    "collapsed": false,
    "pycharm": {
     "name": "#%%\n"
    }
   }
  },
  {
   "cell_type": "code",
   "execution_count": null,
   "outputs": [],
   "source": [],
   "metadata": {
    "collapsed": false,
    "pycharm": {
     "name": "#%%\n"
    }
   }
  }
 ],
 "metadata": {
  "kernelspec": {
   "name": "pycharm-a57ffa67",
   "language": "python",
   "display_name": "PyCharm (yalin-scikit-learn)"
  },
  "language_info": {
   "codemirror_mode": {
    "name": "ipython",
    "version": 2
   },
   "file_extension": ".py",
   "mimetype": "text/x-python",
   "name": "python",
   "nbconvert_exporter": "python",
   "pygments_lexer": "ipython2",
   "version": "2.7.6"
  }
 },
 "nbformat": 4,
 "nbformat_minor": 0
}