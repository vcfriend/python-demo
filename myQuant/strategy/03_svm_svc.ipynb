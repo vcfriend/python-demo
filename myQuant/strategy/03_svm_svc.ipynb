{
 "cells": [
  {
   "cell_type": "code",
   "execution_count": 1,
   "outputs": [],
   "source": [
    "# coding=utf8\n",
    "\n",
    "import pandas as pd\n",
    "import numpy as np\n",
    "from sklearn.svm import SVC\n",
    "import matplotlib.pyplot as plt"
   ],
   "metadata": {
    "collapsed": false,
    "pycharm": {
     "name": "#%%\n"
    }
   }
  },
  {
   "cell_type": "code",
   "execution_count": 2,
   "outputs": [],
   "source": [
    "# 加载数据\n",
    "df = pd.read_csv('data/DQC00-1d.txt',\n",
    "                 sep=',',\n",
    "                 nrows=3000,\n",
    "                 index_col=['datetime'],  # 设置行索引\n",
    "                 parse_dates=['datetime'],  # 解析时间 20100104130500.0\n",
    "                 date_parser=lambda x: pd.to_datetime(x, format='%Y%m%d%H%M%S.%f'),  # 时间解析的格式，进行毫秒级数据解析\n",
    "                 usecols=['datetime', 'open', 'high', 'low', 'close', 'volume'],  # 设置需要用到的列\n",
    "                 encoding='utf-8',\n",
    "                 float_precision='round_trip',  # 所有数据会当做string读取, 使用时再进行相应的转换为float\n",
    "                 )"
   ],
   "metadata": {
    "collapsed": false,
    "pycharm": {
     "name": "#%%\n"
    }
   }
  },
  {
   "cell_type": "code",
   "execution_count": 3,
   "outputs": [],
   "source": [
    "# pd.reset_option('display.float_format')  # 重置\n",
    "pd.set_option('precision', 2)  # 显示小数点后的位数\n",
    "pd.set_option('display.max_rows', 300)  # 控制显示的最大行数\n",
    "pd.set_option('display.min_rows', 20)  # 确定显示的部分有多少行\n",
    "# pd.set_option('display.float_format',  '{:,.2f}'.format) # 数字格式化显示 用逗号格式化大值数字 设置数字精度\n",
    "# 指定列名设置计算精确度，未指定的保持原样\n",
    "df.round({'open': 0, 'high': 0, 'low': 0, 'close': 0})\n",
    "# 统一保持1位小数\n",
    "df.round(0)\n",
    "# 设置np输出精度\n",
    "np.set_printoptions(precision=2)"
   ],
   "metadata": {
    "collapsed": false,
    "pycharm": {
     "name": "#%%\n"
    }
   }
  },
  {
   "cell_type": "code",
   "execution_count": 4,
   "outputs": [
    {
     "name": "stdout",
     "output_type": "stream",
     "text": [
      "open      float64\n",
      "high      float64\n",
      "low       float64\n",
      "close     float64\n",
      "volume    float64\n",
      "dtype: object\n"
     ]
    },
    {
     "data": {
      "text/plain": "               open     high      low    close   volume\ndatetime                                               \n2004-09-22  1143.23  1147.88  1106.05  1106.98  77908.0\n2004-09-23  1097.68  1099.54  1089.32  1093.04  37196.0\n2004-09-24  1082.81  1101.40  1082.81  1095.83  29367.0\n2004-09-27  1092.11  1100.47  1075.38  1076.31  17336.0\n2004-09-28  1077.24  1088.39  1077.24  1082.81  26681.0",
      "text/html": "<div>\n<style scoped>\n    .dataframe tbody tr th:only-of-type {\n        vertical-align: middle;\n    }\n\n    .dataframe tbody tr th {\n        vertical-align: top;\n    }\n\n    .dataframe thead th {\n        text-align: right;\n    }\n</style>\n<table border=\"1\" class=\"dataframe\">\n  <thead>\n    <tr style=\"text-align: right;\">\n      <th></th>\n      <th>open</th>\n      <th>high</th>\n      <th>low</th>\n      <th>close</th>\n      <th>volume</th>\n    </tr>\n    <tr>\n      <th>datetime</th>\n      <th></th>\n      <th></th>\n      <th></th>\n      <th></th>\n      <th></th>\n    </tr>\n  </thead>\n  <tbody>\n    <tr>\n      <th>2004-09-22</th>\n      <td>1143.23</td>\n      <td>1147.88</td>\n      <td>1106.05</td>\n      <td>1106.98</td>\n      <td>77908.0</td>\n    </tr>\n    <tr>\n      <th>2004-09-23</th>\n      <td>1097.68</td>\n      <td>1099.54</td>\n      <td>1089.32</td>\n      <td>1093.04</td>\n      <td>37196.0</td>\n    </tr>\n    <tr>\n      <th>2004-09-24</th>\n      <td>1082.81</td>\n      <td>1101.40</td>\n      <td>1082.81</td>\n      <td>1095.83</td>\n      <td>29367.0</td>\n    </tr>\n    <tr>\n      <th>2004-09-27</th>\n      <td>1092.11</td>\n      <td>1100.47</td>\n      <td>1075.38</td>\n      <td>1076.31</td>\n      <td>17336.0</td>\n    </tr>\n    <tr>\n      <th>2004-09-28</th>\n      <td>1077.24</td>\n      <td>1088.39</td>\n      <td>1077.24</td>\n      <td>1082.81</td>\n      <td>26681.0</td>\n    </tr>\n  </tbody>\n</table>\n</div>"
     },
     "execution_count": 4,
     "metadata": {},
     "output_type": "execute_result"
    }
   ],
   "source": [
    "print(df.dtypes)\n",
    "df.head()"
   ],
   "metadata": {
    "collapsed": false,
    "pycharm": {
     "name": "#%%\n"
    }
   }
  },
  {
   "cell_type": "code",
   "execution_count": 5,
   "outputs": [
    {
     "name": "stdout",
     "output_type": "stream",
     "text": [
      "open      False\n",
      "high      False\n",
      "low       False\n",
      "close     False\n",
      "volume    False\n",
      "dtype: bool\n",
      "open      False\n",
      "high      False\n",
      "low       False\n",
      "close     False\n",
      "volume    False\n",
      "dtype: bool\n",
      "open      0\n",
      "high      0\n",
      "low       0\n",
      "close     0\n",
      "volume    0\n",
      "dtype: int64\n"
     ]
    }
   ],
   "source": [
    "# 2.1 缺失值处理\n",
    "\n",
    "# 检查数据中是否有缺失值，以下两种方式均可\n",
    "#Flase:对应特征的特征值中无缺失值\n",
    "#True：有缺失值\n",
    "print(df.isnull().any())\n",
    "print(np.isnan(df).any())\n",
    "#删除包含缺失值的行\n",
    "df.dropna(inplace=True)\n",
    "#返回每一列缺失值统计个数\n",
    "print(df.isnull().sum())"
   ],
   "metadata": {
    "collapsed": false,
    "pycharm": {
     "name": "#%%\n"
    }
   }
  },
  {
   "cell_type": "code",
   "execution_count": 6,
   "outputs": [
    {
     "name": "stdout",
     "output_type": "stream",
     "text": [
      "(3000, 4)\n",
      "2\n",
      "[[1143.23 1147.88 1106.05 1106.98]\n",
      " [1097.68 1099.54 1089.32 1093.04]\n",
      " [1082.81 1101.4  1082.81 1095.83]]\n"
     ]
    }
   ],
   "source": [
    "# 2.2 确定特征值 目标值\n",
    "# 特征值取 开 高 低 收 价\n",
    "X = df.loc[:, ['open', 'high', 'low', 'close']].values\n",
    "print(X.shape)\n",
    "print(X.ndim)\n",
    "print(X[:3, ])"
   ],
   "metadata": {
    "collapsed": false,
    "pycharm": {
     "name": "#%%\n"
    }
   }
  },
  {
   "cell_type": "code",
   "execution_count": 7,
   "outputs": [
    {
     "name": "stdout",
     "output_type": "stream",
     "text": [
      "               open     high      low    close   volume  flag\n",
      "datetime                                                     \n",
      "2004-09-22  1143.23  1147.88  1106.05  1106.98  77908.0     0\n",
      "2004-09-23  1097.68  1099.54  1089.32  1093.04  37196.0     0\n",
      "2004-09-24  1082.81  1101.40  1082.81  1095.83  29367.0     1\n",
      "2004-09-27  1092.11  1100.47  1075.38  1076.31  17336.0     0\n",
      "2004-09-28  1077.24  1088.39  1077.24  1082.81  26681.0     1\n",
      "(3000,)\n",
      "1\n",
      "[0 0 1]\n"
     ]
    }
   ],
   "source": [
    "\n",
    "# 收盘价>开盘价 标记为类别1 收盘价<=开盘价 标记为类别0\n",
    "df['flag'] = df.apply(lambda x: 0 if (x['open'] > x['close']) else 1, axis=1)\n",
    "\n",
    "# 收盘价>开盘价 标记类别为1 收盘价<开盘价 标记类别为-1 收盘价=开盘价 标记类别为0\n",
    "# df['flag'] = df.apply(lambda x: lambda x: 0 if (abs(x['open'] - x['close']) <= 1.0) else (-1 if ((x['open'] - x['close']) > 1) else 1), axis=1)\n",
    "\n",
    "print(df.head())\n",
    "\n",
    "# 目标值取收盘\n",
    "y = df.loc[:, 'flag'].values\n",
    "print(y.shape)\n",
    "print(y.ndim)\n",
    "print(y[:3])\n",
    "y1 = y.copy()"
   ],
   "metadata": {
    "collapsed": false,
    "pycharm": {
     "name": "#%%\n"
    }
   }
  },
  {
   "cell_type": "code",
   "execution_count": 8,
   "outputs": [],
   "source": [
    "#将数据划分为训练集和验证集\n",
    "from sklearn.model_selection import train_test_split\n",
    "\n",
    "X_train, X_test, y_train, y_test = train_test_split(X, y, random_state=1)"
   ],
   "metadata": {
    "collapsed": false,
    "pycharm": {
     "name": "#%%\n"
    }
   }
  },
  {
   "cell_type": "code",
   "execution_count": 9,
   "outputs": [],
   "source": [
    "## 混淆测试集目标类别的 指定概率50%的错误\n",
    "err = y_train\n",
    "for i in range(int(len(err) * 0.8)):\n",
    "    index = int(np.random.randint(len(err)))\n",
    "    err[index] = 0 if err[index] == 1 else 1"
   ],
   "metadata": {
    "collapsed": false,
    "pycharm": {
     "name": "#%%\n"
    }
   }
  },
  {
   "cell_type": "code",
   "execution_count": 10,
   "outputs": [
    {
     "name": "stdout",
     "output_type": "stream",
     "text": [
      "[1 1 1 1 1 1 0 0 1 0 1 0 0 1 1 1 0 1 0 1 0 0 1 1 1 1 1 1 0 0 0 1 0 0 1 1 0\n",
      " 0 1 1 1 1 1 0 1 1 1 1 1 0 1 1 0 1 1 0 1 1 1 0 1 1 0 0 0 0 0 1 1 1 0 0 0 1\n",
      " 0 1 0 0 1 0 0 1 1 1 1 1 0 1 1 0 1 0 1 0 0 1 0 1 1 0]\n",
      "[1 1 0 0 1 0 0 0 1 0 0 1 1 1 0 1 0 0 0 1 0 1 1 1 1 0 1 1 0 0 0 1 1 0 0 1 0\n",
      " 0 0 1 0 0 0 1 0 1 1 0 0 1 0 0 1 1 0 1 0 0 0 0 1 1 0 1 1 0 0 1 1 1 0 1 1 0\n",
      " 0 0 1 0 1 0 1 1 0 0 0 0 1 0 0 1 0 1 0 1 0 1 1 1 1 0]\n"
     ]
    }
   ],
   "source": [
    "print(y_train[:100])\n",
    "print(y_test[:100])"
   ],
   "metadata": {
    "collapsed": false,
    "pycharm": {
     "name": "#%%\n"
    }
   }
  },
  {
   "cell_type": "code",
   "execution_count": 11,
   "outputs": [
    {
     "name": "stdout",
     "output_type": "stream",
     "text": [
      "[[1111.63 1119.99 1111.63 1116.27]\n",
      " [1364.44 1370.94 1361.65 1370.01]\n",
      " [2081.19 2084.68 2080.32 2082.06]]\n",
      "[[2029.02 2038.41 2027.32 2034.15]\n",
      " [1996.33 2006.41 1995.49 2006.41]\n",
      " [1773.85 1777.66 1764.33 1764.33]]\n",
      "[1 1 1]\n",
      "[1 1 0]\n"
     ]
    }
   ],
   "source": [
    "print(X_train[:3])\n",
    "print(X_test[:3])\n",
    "print(y_train[:3])\n",
    "print(y_test[:3])"
   ],
   "metadata": {
    "collapsed": false,
    "pycharm": {
     "name": "#%%\n"
    }
   }
  },
  {
   "cell_type": "code",
   "execution_count": 12,
   "outputs": [],
   "source": [
    "# 3. 特征工程（标准化）\n",
    "from sklearn.preprocessing import StandardScaler\n",
    "\n",
    "standardScaler = StandardScaler()\n",
    "\n",
    "# 测试集 计算平均值和标准偏差\n",
    "standardScaler.fit(X_train)\n",
    "# 缩放测试集\n",
    "x_train_stand = standardScaler.transform(X_train)\n",
    "# 重新计算平均值和标准偏差 并缩放测试集\n",
    "x_test_stand = standardScaler.transform(X_test)"
   ],
   "metadata": {
    "collapsed": false,
    "pycharm": {
     "name": "#%%\n"
    }
   }
  },
  {
   "cell_type": "code",
   "execution_count": 13,
   "outputs": [
    {
     "name": "stdout",
     "output_type": "stream",
     "text": [
      "[1 1 1 1 1 1 0 0 1 0]\n"
     ]
    }
   ],
   "source": [
    "# 目标类别为0，1 不用标准化\n",
    "print(y_train[:10])"
   ],
   "metadata": {
    "collapsed": false,
    "pycharm": {
     "name": "#%%\n"
    }
   }
  },
  {
   "cell_type": "code",
   "execution_count": 14,
   "outputs": [],
   "source": [
    "# 拟合分类模型\n",
    "svr_rbf = SVC(kernel='rbf', C=10, gamma=1)\n",
    "svr_lin = SVC(kernel='linear', C=10, gamma='auto')\n",
    "svr_poly = SVC(kernel='poly', C=10, gamma='auto', degree=3, coef0=1)"
   ],
   "metadata": {
    "collapsed": false,
    "pycharm": {
     "name": "#%%\n"
    }
   }
  },
  {
   "cell_type": "code",
   "execution_count": 15,
   "outputs": [
    {
     "name": "stdout",
     "output_type": "stream",
     "text": [
      "ix=0, svcs=SVC(C=10, gamma=1)\n",
      "估计器的参数: {'C': 10, 'break_ties': False, 'cache_size': 200, 'class_weight': None, 'coef0': 0.0, 'decision_function_shape': 'ovr', 'degree': 3, 'gamma': 1, 'kernel': 'rbf', 'max_iter': -1, 'probability': False, 'random_state': None, 'shrinking': True, 'tol': 0.001, 'verbose': False}\n",
      "训练集评分: 0.9373333333333334 \n",
      "测试集评分: 0.9253333333333333 \n",
      "ix=1, svcs=SVC(C=10, gamma='auto', kernel='linear')\n",
      "估计器的参数: {'C': 10, 'break_ties': False, 'cache_size': 200, 'class_weight': None, 'coef0': 0.0, 'decision_function_shape': 'ovr', 'degree': 3, 'gamma': 'auto', 'kernel': 'linear', 'max_iter': -1, 'probability': False, 'random_state': None, 'shrinking': True, 'tol': 0.001, 'verbose': False}\n",
      "训练集评分: 0.972 \n",
      "测试集评分: 0.9626666666666667 \n",
      "ix=2, svcs=SVC(C=10, coef0=1, gamma='auto', kernel='poly')\n",
      "估计器的参数: {'C': 10, 'break_ties': False, 'cache_size': 200, 'class_weight': None, 'coef0': 1, 'decision_function_shape': 'ovr', 'degree': 3, 'gamma': 'auto', 'kernel': 'poly', 'max_iter': -1, 'probability': False, 'random_state': None, 'shrinking': True, 'tol': 0.001, 'verbose': False}\n",
      "训练集评分: 0.9857777777777778 \n",
      "测试集评分: 0.9746666666666667 \n"
     ]
    }
   ],
   "source": [
    "svcs = [svr_rbf, svr_lin, svr_poly]\n",
    "kernel_label = [\"rbf\", \"linear\", \"poly\"]\n",
    "for ix, svc in enumerate(svcs):\n",
    "    performance = svc.fit(x_train_stand, y_train.ravel())\n",
    "    # 获取预测值\n",
    "    y_test_pred = performance.predict(x_test_stand)\n",
    "    # 显示估计器\n",
    "    print(f'ix=%s, svcs=%s' %(ix, svcs[ix]))\n",
    "    # 获取这个估计器的参数\n",
    "    print(f'估计器的参数: %s' %(svc.get_params()))\n",
    "    # https://blog.csdn.net/gracejpw/article/details/101546293\n",
    "    # 返回预测的决定系数R^2\n",
    "    # R^2越接近于1，模型的拟合优度越高。\n",
    "    print(f'训练集评分: %s ' %(performance.score(x_train_stand, y_train)))\n",
    "    print(f'测试集评分: %s ' %(svc.score(x_test_stand, y_test)))"
   ],
   "metadata": {
    "collapsed": false,
    "pycharm": {
     "name": "#%%\n"
    }
   }
  },
  {
   "cell_type": "code",
   "execution_count": 15,
   "outputs": [],
   "source": [],
   "metadata": {
    "collapsed": false,
    "pycharm": {
     "name": "#%%\n"
    }
   }
  },
  {
   "cell_type": "code",
   "execution_count": 16,
   "outputs": [
    {
     "name": "stdout",
     "output_type": "stream",
     "text": [
      "(2250, 4)\n",
      "(750, 4)\n",
      "(2250,)\n",
      "1\n",
      "[[ 0.89  0.89  0.91  0.91]\n",
      " [ 0.78  0.79  0.81  0.82]\n",
      " [ 0.07  0.06  0.07  0.04]\n",
      " [ 0.94  0.93  0.94  0.93]\n",
      " [-0.57 -0.57 -0.55 -0.57]]\n",
      "[1 1 0 0 1 0 0 1 1 0 0 1 1 1 0 1 0 0 0 1 0 1 1 1 1 0 1 1 0 0 0 1 1 0 0 1 0\n",
      " 0 1 1 0 0 0 1 0 1 1 1 0 1]\n"
     ]
    }
   ],
   "source": [
    "print(x_train_stand.shape)\n",
    "print(x_test_stand.shape)\n",
    "print(y_train.shape)\n",
    "print(y_train.ndim)\n",
    "print(x_test_stand[:5])\n",
    "print(y_test_pred[:50])"
   ],
   "metadata": {
    "collapsed": false,
    "pycharm": {
     "name": "#%%\n"
    }
   }
  },
  {
   "cell_type": "code",
   "execution_count": 16,
   "outputs": [],
   "source": [],
   "metadata": {
    "collapsed": false,
    "pycharm": {
     "name": "#%%\n"
    }
   }
  },
  {
   "cell_type": "code",
   "execution_count": 17,
   "outputs": [
    {
     "name": "stdout",
     "output_type": "stream",
     "text": [
      "(750,)\n",
      "378\n",
      "397\n"
     ]
    }
   ],
   "source": [
    "print(y_test.shape)\n",
    "print(y_test.sum())\n",
    "print(y_test_pred.sum())"
   ],
   "metadata": {
    "collapsed": false,
    "pycharm": {
     "name": "#%%\n"
    }
   }
  },
  {
   "cell_type": "code",
   "execution_count": 17,
   "outputs": [],
   "source": [],
   "metadata": {
    "collapsed": false,
    "pycharm": {
     "name": "#%%\n"
    }
   }
  }
 ],
 "metadata": {
  "kernelspec": {
   "name": "pycharm-50a0962a",
   "language": "python",
   "display_name": "PyCharm (python-demo)"
  },
  "language_info": {
   "codemirror_mode": {
    "name": "ipython",
    "version": 2
   },
   "file_extension": ".py",
   "mimetype": "text/x-python",
   "name": "python",
   "nbconvert_exporter": "python",
   "pygments_lexer": "ipython2",
   "version": "2.7.6"
  }
 },
 "nbformat": 4,
 "nbformat_minor": 0
}