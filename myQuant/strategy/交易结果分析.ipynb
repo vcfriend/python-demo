{
 "cells": [
  {
   "cell_type": "code",
   "execution_count": 123,
   "metadata": {
    "collapsed": true
   },
   "outputs": [],
   "source": [
    "# coding=utf8\n",
    "\n",
    "import pandas as pd\n",
    "from sklearn.model_selection import train_test_split\n",
    "from sklearn.preprocessing import StandardScaler\n",
    "from sklearn.linear_model import LogisticRegression"
   ]
  },
  {
   "cell_type": "code",
   "execution_count": 124,
   "outputs": [],
   "source": [
    "# 1. 获取数据\n",
    "# 2. 基本数据处理\n",
    "# 2.1 缺失值处理\n",
    "# 2.2 确定特征值，目标值\n",
    "# 2.3 分割数据\n",
    "# 3. 特征工程（标准化）\n",
    "# 4. 机器学习（逻辑回归）\n",
    "# 5. 模型评估"
   ],
   "metadata": {
    "collapsed": false,
    "pycharm": {
     "name": "#%%\n"
    }
   }
  },
  {
   "cell_type": "code",
   "execution_count": 125,
   "outputs": [
    {
     "name": "stdout",
     "output_type": "stream",
     "text": [
      "时间      datetime64[ns]\n",
      "方向               int64\n",
      "开仓均价             int64\n",
      "类别               int64\n",
      "dtype: object\n"
     ]
    },
    {
     "data": {
      "text/plain": "                     时间  方向  开仓均价  类别\n0   2017-08-16 18:10:00  -1  1723   0\n1   2017-08-18 13:30:00   1  1726   1\n2   2017-08-18 13:50:00  -1  1732   0\n3   2017-08-18 14:00:00   1  1735   0\n4   2017-08-21 13:25:00  -1  1732   0\n..                  ...  ..   ...  ..\n495 2018-12-13 13:10:00   1  1868   1\n496 2018-12-13 13:25:00  -1  1869   0\n497 2018-12-13 14:05:00   1  1872   0\n498 2018-12-13 14:45:00  -1  1870   0\n499 2018-12-13 17:50:00   1  1871   0\n\n[500 rows x 4 columns]",
      "text/html": "<div>\n<style scoped>\n    .dataframe tbody tr th:only-of-type {\n        vertical-align: middle;\n    }\n\n    .dataframe tbody tr th {\n        vertical-align: top;\n    }\n\n    .dataframe thead th {\n        text-align: right;\n    }\n</style>\n<table border=\"1\" class=\"dataframe\">\n  <thead>\n    <tr style=\"text-align: right;\">\n      <th></th>\n      <th>时间</th>\n      <th>方向</th>\n      <th>开仓均价</th>\n      <th>类别</th>\n    </tr>\n  </thead>\n  <tbody>\n    <tr>\n      <th>0</th>\n      <td>2017-08-16 18:10:00</td>\n      <td>-1</td>\n      <td>1723</td>\n      <td>0</td>\n    </tr>\n    <tr>\n      <th>1</th>\n      <td>2017-08-18 13:30:00</td>\n      <td>1</td>\n      <td>1726</td>\n      <td>1</td>\n    </tr>\n    <tr>\n      <th>2</th>\n      <td>2017-08-18 13:50:00</td>\n      <td>-1</td>\n      <td>1732</td>\n      <td>0</td>\n    </tr>\n    <tr>\n      <th>3</th>\n      <td>2017-08-18 14:00:00</td>\n      <td>1</td>\n      <td>1735</td>\n      <td>0</td>\n    </tr>\n    <tr>\n      <th>4</th>\n      <td>2017-08-21 13:25:00</td>\n      <td>-1</td>\n      <td>1732</td>\n      <td>0</td>\n    </tr>\n    <tr>\n      <th>...</th>\n      <td>...</td>\n      <td>...</td>\n      <td>...</td>\n      <td>...</td>\n    </tr>\n    <tr>\n      <th>495</th>\n      <td>2018-12-13 13:10:00</td>\n      <td>1</td>\n      <td>1868</td>\n      <td>1</td>\n    </tr>\n    <tr>\n      <th>496</th>\n      <td>2018-12-13 13:25:00</td>\n      <td>-1</td>\n      <td>1869</td>\n      <td>0</td>\n    </tr>\n    <tr>\n      <th>497</th>\n      <td>2018-12-13 14:05:00</td>\n      <td>1</td>\n      <td>1872</td>\n      <td>0</td>\n    </tr>\n    <tr>\n      <th>498</th>\n      <td>2018-12-13 14:45:00</td>\n      <td>-1</td>\n      <td>1870</td>\n      <td>0</td>\n    </tr>\n    <tr>\n      <th>499</th>\n      <td>2018-12-13 17:50:00</td>\n      <td>1</td>\n      <td>1871</td>\n      <td>0</td>\n    </tr>\n  </tbody>\n</table>\n<p>500 rows × 4 columns</p>\n</div>"
     },
     "execution_count": 125,
     "metadata": {},
     "output_type": "execute_result"
    }
   ],
   "source": [
    "# 1. 获取数据\n",
    "df = pd.read_csv('data/交易明细.csv',\n",
    "                 sep=',',\n",
    "                 # index_col=['时间'],  # 设置行索引\n",
    "                 parse_dates=['时间'],  # 解析时间 2017/8/16 18:10\n",
    "                 date_parser=lambda x: pd.to_datetime(x, format='%Y/%m/%d %H:%M'),  # 时间解析的格式\n",
    "                 usecols=['时间','方向','开仓均价','类别'],\n",
    "                 encoding='gbk',\n",
    "                 )\n",
    "print(df.dtypes)\n",
    "df"
   ],
   "metadata": {
    "collapsed": false,
    "pycharm": {
     "name": "#%%\n"
    }
   }
  },
  {
   "cell_type": "code",
   "execution_count": 126,
   "outputs": [],
   "source": [
    "# 2. 基本数据处理\n",
    "# 2.1 缺失值处理\n",
    "# 2.2 确定特征值，目标值"
   ],
   "metadata": {
    "collapsed": false,
    "pycharm": {
     "name": "#%%\n"
    }
   }
  },
  {
   "cell_type": "code",
   "execution_count": 127,
   "outputs": [
    {
     "data": {
      "text/plain": "   方向  开仓均价\n0  -1  1723\n1   1  1726\n2  -1  1732\n3   1  1735\n4  -1  1732",
      "text/html": "<div>\n<style scoped>\n    .dataframe tbody tr th:only-of-type {\n        vertical-align: middle;\n    }\n\n    .dataframe tbody tr th {\n        vertical-align: top;\n    }\n\n    .dataframe thead th {\n        text-align: right;\n    }\n</style>\n<table border=\"1\" class=\"dataframe\">\n  <thead>\n    <tr style=\"text-align: right;\">\n      <th></th>\n      <th>方向</th>\n      <th>开仓均价</th>\n    </tr>\n  </thead>\n  <tbody>\n    <tr>\n      <th>0</th>\n      <td>-1</td>\n      <td>1723</td>\n    </tr>\n    <tr>\n      <th>1</th>\n      <td>1</td>\n      <td>1726</td>\n    </tr>\n    <tr>\n      <th>2</th>\n      <td>-1</td>\n      <td>1732</td>\n    </tr>\n    <tr>\n      <th>3</th>\n      <td>1</td>\n      <td>1735</td>\n    </tr>\n    <tr>\n      <th>4</th>\n      <td>-1</td>\n      <td>1732</td>\n    </tr>\n  </tbody>\n</table>\n</div>"
     },
     "execution_count": 127,
     "metadata": {},
     "output_type": "execute_result"
    }
   ],
   "source": [
    "x = df.iloc[:, 1: -1]\n",
    "x.head()"
   ],
   "metadata": {
    "collapsed": false,
    "pycharm": {
     "name": "#%%\n"
    }
   }
  },
  {
   "cell_type": "code",
   "execution_count": 128,
   "outputs": [
    {
     "data": {
      "text/plain": "0    0\n1    1\n2    0\n3    0\n4    0\nName: 类别, dtype: int64"
     },
     "execution_count": 128,
     "metadata": {},
     "output_type": "execute_result"
    }
   ],
   "source": [
    "y = df[\"类别\"]\n",
    "y.head()"
   ],
   "metadata": {
    "collapsed": false,
    "pycharm": {
     "name": "#%%\n"
    }
   }
  },
  {
   "cell_type": "code",
   "execution_count": 129,
   "outputs": [],
   "source": [
    "# 2.3 分割数据\n",
    "x_train, x_test, y_train, y_test = train_test_split(x, y, random_state=2,  test_size=0.2)"
   ],
   "metadata": {
    "collapsed": false,
    "pycharm": {
     "name": "#%%\n"
    }
   }
  },
  {
   "cell_type": "code",
   "execution_count": 130,
   "outputs": [],
   "source": [
    "# 3. 特征工程（标准化）\n",
    "transfer = StandardScaler()\n",
    "x_train = transfer.fit_transform(x_train)\n",
    "x_test = transfer.fit_transform(x_test)"
   ],
   "metadata": {
    "collapsed": false,
    "pycharm": {
     "name": "#%%\n"
    }
   }
  },
  {
   "cell_type": "code",
   "execution_count": 131,
   "outputs": [],
   "source": [],
   "metadata": {
    "collapsed": false,
    "pycharm": {
     "name": "#%%\n"
    }
   }
  },
  {
   "cell_type": "code",
   "execution_count": 132,
   "outputs": [
    {
     "data": {
      "text/plain": "(400, 2)"
     },
     "execution_count": 132,
     "metadata": {},
     "output_type": "execute_result"
    }
   ],
   "source": [
    "x_train.shape"
   ],
   "metadata": {
    "collapsed": false,
    "pycharm": {
     "name": "#%%\n"
    }
   }
  },
  {
   "cell_type": "code",
   "execution_count": 133,
   "outputs": [
    {
     "data": {
      "text/plain": "LogisticRegression()"
     },
     "execution_count": 133,
     "metadata": {},
     "output_type": "execute_result"
    }
   ],
   "source": [
    "# 4. 机器学习（逻辑回归）\n",
    "estimator = LogisticRegression()\n",
    "estimator.fit(x_train, y_train)"
   ],
   "metadata": {
    "collapsed": false,
    "pycharm": {
     "name": "#%%\n"
    }
   }
  },
  {
   "cell_type": "code",
   "execution_count": 134,
   "outputs": [
    {
     "name": "stdout",
     "output_type": "stream",
     "text": [
      "预测值：\n",
      " [0 0 0 0 0 0 0 0 0 0 0 0 0 0 0 0 0 0 0 0 0 0 0 0 0 0 0 0 0 0 0 0 0 0 0 0 0\n",
      " 0 0 0 0 0 0 0 0 0 0 0 0 0 0 0 0 0 0 0 0 0 0 0 0 0 0 0 0 0 0 0 0 0 0 0 0 0\n",
      " 0 0 0 0 0 0 0 0 0 0 0 0 0 0 0 0 0 0 0 0 0 0 0 0 0 0]\n",
      "准确率是：\n",
      " 0.79\n"
     ]
    }
   ],
   "source": [
    "# 5. 模型评估\n",
    "y_pre = estimator.predict(x_test)\n",
    "print(\"预测值：\\n\", y_pre)\n",
    "\n",
    "score = estimator.score(x_test, y_test)\n",
    "print(\"准确率是：\\n\", score)\n"
   ],
   "metadata": {
    "collapsed": false,
    "pycharm": {
     "name": "#%%\n"
    }
   }
  }
 ],
 "metadata": {
  "kernelspec": {
   "name": "pycharm-a57ffa67",
   "language": "python",
   "display_name": "PyCharm (yalin-scikit-learn)"
  },
  "language_info": {
   "codemirror_mode": {
    "name": "ipython",
    "version": 2
   },
   "file_extension": ".py",
   "mimetype": "text/x-python",
   "name": "python",
   "nbconvert_exporter": "python",
   "pygments_lexer": "ipython2",
   "version": "2.7.6"
  }
 },
 "nbformat": 4,
 "nbformat_minor": 0
}