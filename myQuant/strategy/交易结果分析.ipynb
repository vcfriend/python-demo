{
 "cells": [
  {
   "cell_type": "code",
   "execution_count": 366,
   "metadata": {
    "collapsed": true
   },
   "outputs": [],
   "source": [
    "# coding=utf8\n",
    "\n",
    "import pandas as pd\n",
    "import numpy as np\n",
    "from sklearn.model_selection import train_test_split\n",
    "from sklearn.preprocessing import StandardScaler\n",
    "from sklearn.linear_model import LogisticRegression\n",
    "from sklearn.svm import SVC\n",
    "import matplotlib.pyplot as plt"
   ]
  },
  {
   "cell_type": "code",
   "execution_count": 367,
   "outputs": [],
   "source": [
    "# 1. 获取数据\n",
    "# 2. 基本数据处理\n",
    "# 2.1 缺失值处理\n",
    "# 2.2 确定特征值，目标值\n",
    "# 2.3 分割数据\n",
    "# 3. 特征工程（标准化）\n",
    "# 4. 机器学习（逻辑回归）\n",
    "# 5. 模型评估"
   ],
   "metadata": {
    "collapsed": false,
    "pycharm": {
     "name": "#%%\n"
    }
   }
  },
  {
   "cell_type": "code",
   "execution_count": 368,
   "outputs": [
    {
     "name": "stdout",
     "output_type": "stream",
     "text": [
      "时间      datetime64[ns]\n",
      "方向               int64\n",
      "开仓均价             int64\n",
      "平仓价格             int64\n",
      "类别               int64\n",
      "dtype: object\n"
     ]
    },
    {
     "data": {
      "text/plain": "                   时间  方向  开仓均价  平仓价格  类别\n0 2017-08-16 18:10:00  -1  1723  1726   0\n1 2017-08-18 13:30:00   1  1726  1732   1\n2 2017-08-18 13:50:00  -1  1732  1735   0\n3 2017-08-18 14:00:00   1  1735  1732   0\n4 2017-08-21 13:25:00  -1  1732  1734   0",
      "text/html": "<div>\n<style scoped>\n    .dataframe tbody tr th:only-of-type {\n        vertical-align: middle;\n    }\n\n    .dataframe tbody tr th {\n        vertical-align: top;\n    }\n\n    .dataframe thead th {\n        text-align: right;\n    }\n</style>\n<table border=\"1\" class=\"dataframe\">\n  <thead>\n    <tr style=\"text-align: right;\">\n      <th></th>\n      <th>时间</th>\n      <th>方向</th>\n      <th>开仓均价</th>\n      <th>平仓价格</th>\n      <th>类别</th>\n    </tr>\n  </thead>\n  <tbody>\n    <tr>\n      <th>0</th>\n      <td>2017-08-16 18:10:00</td>\n      <td>-1</td>\n      <td>1723</td>\n      <td>1726</td>\n      <td>0</td>\n    </tr>\n    <tr>\n      <th>1</th>\n      <td>2017-08-18 13:30:00</td>\n      <td>1</td>\n      <td>1726</td>\n      <td>1732</td>\n      <td>1</td>\n    </tr>\n    <tr>\n      <th>2</th>\n      <td>2017-08-18 13:50:00</td>\n      <td>-1</td>\n      <td>1732</td>\n      <td>1735</td>\n      <td>0</td>\n    </tr>\n    <tr>\n      <th>3</th>\n      <td>2017-08-18 14:00:00</td>\n      <td>1</td>\n      <td>1735</td>\n      <td>1732</td>\n      <td>0</td>\n    </tr>\n    <tr>\n      <th>4</th>\n      <td>2017-08-21 13:25:00</td>\n      <td>-1</td>\n      <td>1732</td>\n      <td>1734</td>\n      <td>0</td>\n    </tr>\n  </tbody>\n</table>\n</div>"
     },
     "execution_count": 368,
     "metadata": {},
     "output_type": "execute_result"
    }
   ],
   "source": [
    "# 1. 获取数据\n",
    "df = pd.read_csv('data/交易明细.csv',\n",
    "                 sep=',',\n",
    "                 # index_col=['时间'],  # 设置行索引\n",
    "                 parse_dates=['时间'],  # 解析时间 2017/8/16 18:10\n",
    "                 date_parser=lambda x: pd.to_datetime(x, format='%Y/%m/%d %H:%M'),  # 时间解析的格式\n",
    "                 usecols=['时间','方向','开仓均价','平仓价格','类别'],\n",
    "                 encoding='gbk',\n",
    "                 )\n",
    "pd.set_option('precision', 2)  # 显示小数点后的位数\n",
    "np.set_printoptions(precision=3, suppress=True)  #设定numpy显示浮点数精度的小数位数,不使用科学记数法\n",
    "\n",
    "print(df.dtypes)\n",
    "df.head()"
   ],
   "metadata": {
    "collapsed": false,
    "pycharm": {
     "name": "#%%\n"
    }
   }
  },
  {
   "cell_type": "code",
   "execution_count": 369,
   "outputs": [],
   "source": [
    "# 2. 基本数据处理\n",
    "# 2.1 缺失值处理\n",
    "# 2.2 确定特征值，目标值"
   ],
   "metadata": {
    "collapsed": false,
    "pycharm": {
     "name": "#%%\n"
    }
   }
  },
  {
   "cell_type": "code",
   "execution_count": 370,
   "outputs": [
    {
     "data": {
      "text/plain": "   开仓均价  平仓价格\n0  1723  1726\n1  1726  1732\n2  1732  1735\n3  1735  1732\n4  1732  1734",
      "text/html": "<div>\n<style scoped>\n    .dataframe tbody tr th:only-of-type {\n        vertical-align: middle;\n    }\n\n    .dataframe tbody tr th {\n        vertical-align: top;\n    }\n\n    .dataframe thead th {\n        text-align: right;\n    }\n</style>\n<table border=\"1\" class=\"dataframe\">\n  <thead>\n    <tr style=\"text-align: right;\">\n      <th></th>\n      <th>开仓均价</th>\n      <th>平仓价格</th>\n    </tr>\n  </thead>\n  <tbody>\n    <tr>\n      <th>0</th>\n      <td>1723</td>\n      <td>1726</td>\n    </tr>\n    <tr>\n      <th>1</th>\n      <td>1726</td>\n      <td>1732</td>\n    </tr>\n    <tr>\n      <th>2</th>\n      <td>1732</td>\n      <td>1735</td>\n    </tr>\n    <tr>\n      <th>3</th>\n      <td>1735</td>\n      <td>1732</td>\n    </tr>\n    <tr>\n      <th>4</th>\n      <td>1732</td>\n      <td>1734</td>\n    </tr>\n  </tbody>\n</table>\n</div>"
     },
     "execution_count": 370,
     "metadata": {},
     "output_type": "execute_result"
    }
   ],
   "source": [
    "# x = df.iloc[:, 1: -1]\n",
    "x = df.loc[:, ['开仓均价','平仓价格']]\n",
    "x.head()"
   ],
   "metadata": {
    "collapsed": false,
    "pycharm": {
     "name": "#%%\n"
    }
   }
  },
  {
   "cell_type": "code",
   "execution_count": 371,
   "outputs": [
    {
     "name": "stdout",
     "output_type": "stream",
     "text": [
      "0   -1\n",
      "1    1\n",
      "2   -1\n",
      "3    1\n",
      "4   -1\n",
      "Name: 方向, dtype: int64\n",
      "                    时间  方向  开仓均价  平仓价格  类别\n",
      "0  2017-08-16 18:10:00  -1  1723  1726  -1\n",
      "1  2017-08-18 13:30:00   1  1726  1732   1\n",
      "2  2017-08-18 13:50:00  -1  1732  1735  -1\n",
      "3  2017-08-18 14:00:00   1  1735  1732  -1\n",
      "4  2017-08-21 13:25:00  -1  1732  1734  -1\n",
      "5  2017-08-21 17:50:00   1  1734  1728  -1\n",
      "6  2017-08-22 17:35:00  -1  1728  1730  -1\n",
      "7  2017-08-23 18:30:00   1  1730  1731   1\n",
      "8  2017-08-29 13:15:00  -1  1731  1722   1\n",
      "9  2017-08-29 14:00:00   1  1722  1718  -1\n",
      "10 2017-09-01 13:25:00  -1  1718  1690   1\n",
      "11 2017-09-01 13:40:00   1  1690  1692   1\n",
      "12 2017-09-01 14:15:00  -1  1692  1694  -1\n",
      "13 2017-09-01 15:05:00   1  1694  1691  -1\n",
      "14 2017-09-01 18:20:00  -1  1691  1694  -1\n",
      "15 2017-09-01 18:55:00   1  1694  1691  -1\n",
      "16 2017-09-04 13:10:00  -1  1691  1698  -1\n",
      "17 2017-09-05 14:55:00   1  1698  1709   1\n",
      "18 2017-09-05 17:45:00  -1  1709  1713  -1\n",
      "19 2017-09-06 19:00:00   1  1713  1715   1\n",
      "0     1\n",
      "1     1\n",
      "2     1\n",
      "3    -1\n",
      "4     1\n",
      "5    -1\n",
      "6     1\n",
      "7     1\n",
      "8    -1\n",
      "9    -1\n",
      "10   -1\n",
      "11    1\n",
      "12    1\n",
      "13   -1\n",
      "14    1\n",
      "15   -1\n",
      "16    1\n",
      "17    1\n",
      "18    1\n",
      "19    1\n",
      "dtype: int64\n"
     ]
    }
   ],
   "source": [
    "y = df[\"方向\"]\n",
    "print(y.head())\n",
    "\n",
    "yy= df.replace({'类别':{0: -1}})\n",
    "print(yy.head(20))\n",
    "\n",
    "yy= df['方向']*yy['类别']\n",
    "print(yy.head(20))\n"
   ],
   "metadata": {
    "collapsed": false,
    "pycharm": {
     "name": "#%%\n"
    }
   }
  },
  {
   "cell_type": "code",
   "execution_count": 372,
   "outputs": [],
   "source": [
    "# 2.3 分割数据\n",
    "x_train, x_test, y_train, y_test, yy_train, yy_test = train_test_split(x, y.ravel(), yy.ravel(), random_state=2,  test_size=0.2)"
   ],
   "metadata": {
    "collapsed": false,
    "pycharm": {
     "name": "#%%\n"
    }
   }
  },
  {
   "cell_type": "code",
   "execution_count": 373,
   "outputs": [],
   "source": [
    "# 3. 特征工程（标准化）\n",
    "transfer = StandardScaler()\n",
    "x_train = transfer.fit_transform(x_train)\n",
    "x_test = transfer.transform(x_test)"
   ],
   "metadata": {
    "collapsed": false,
    "pycharm": {
     "name": "#%%\n"
    }
   }
  },
  {
   "cell_type": "code",
   "execution_count": 374,
   "outputs": [
    {
     "name": "stdout",
     "output_type": "stream",
     "text": [
      "<class 'pandas.core.series.Series'> <class 'pandas.core.series.Series'>\n",
      "<class 'numpy.ndarray'> <class 'numpy.ndarray'>\n",
      "<class 'numpy.ndarray'> <class 'numpy.ndarray'>\n",
      "<class 'numpy.ndarray'> <class 'numpy.ndarray'>\n",
      "(400,) (100,)\n"
     ]
    }
   ],
   "source": [
    "print(type(y), type(yy))\n",
    "print(type(x_train), type(x_test))\n",
    "print(type(y_train), type(y_test))\n",
    "print(type(yy_train), type(yy_test))\n",
    "print(yy_train.shape, yy_test.shape)"
   ],
   "metadata": {
    "collapsed": false,
    "pycharm": {
     "name": "#%%\n"
    }
   }
  },
  {
   "cell_type": "code",
   "execution_count": 375,
   "outputs": [
    {
     "name": "stdout",
     "output_type": "stream",
     "text": [
      "(400, 2) (100, 2) (400,) (100,)\n"
     ]
    }
   ],
   "source": [
    "print(x_train.shape,x_test.shape,y_train.shape,y_test.shape)"
   ],
   "metadata": {
    "collapsed": false,
    "pycharm": {
     "name": "#%%\n"
    }
   }
  },
  {
   "cell_type": "code",
   "execution_count": 376,
   "outputs": [
    {
     "data": {
      "text/plain": "LogisticRegression()"
     },
     "execution_count": 376,
     "metadata": {},
     "output_type": "execute_result"
    }
   ],
   "source": [
    "# 4. 机器学习（逻辑回归）\n",
    "estimator = LogisticRegression()\n",
    "estimator.fit(x_train, y_train)"
   ],
   "metadata": {
    "collapsed": false,
    "pycharm": {
     "name": "#%%\n"
    }
   }
  },
  {
   "cell_type": "code",
   "execution_count": 377,
   "outputs": [
    {
     "name": "stdout",
     "output_type": "stream",
     "text": [
      "预测值：\n",
      " [-1 -1  1  1  1  1 -1  1 -1 -1  1 -1  1  1  1  1 -1  1 -1  1  1 -1 -1  1\n",
      " -1  1 -1 -1  1 -1 -1  1  1 -1 -1 -1 -1 -1 -1 -1  1 -1  1 -1 -1  1  1  1\n",
      "  1  1  1 -1 -1 -1  1  1 -1 -1  1 -1  1 -1  1 -1  1 -1  1 -1 -1 -1 -1 -1\n",
      " -1 -1  1  1 -1 -1  1  1  1  1  1 -1 -1 -1 -1  1 -1 -1 -1 -1  1 -1 -1  1\n",
      " -1  1  1  1]\n",
      "<class 'numpy.ndarray'>\n",
      "准确率是：\n",
      " 0.6\n"
     ]
    }
   ],
   "source": [
    "# 5. 模型评估\n",
    "y_pre = estimator.predict(x_test)\n",
    "print(\"预测值：\\n\", y_pre)\n",
    "print(type(y_pre))\n",
    "score = estimator.score(x_test, yy_test)\n",
    "print(\"准确率是：\\n\", score)"
   ],
   "metadata": {
    "collapsed": false,
    "pycharm": {
     "name": "#%%\n"
    }
   }
  },
  {
   "cell_type": "code",
   "execution_count": 378,
   "outputs": [
    {
     "data": {
      "text/plain": "     方向  类别\n490  -1   0\n491   1   0\n492  -1   0\n493   1   0\n494  -1   0\n495   1   1\n496  -1   0\n497   1   0\n498  -1   0\n499   1   0",
      "text/html": "<div>\n<style scoped>\n    .dataframe tbody tr th:only-of-type {\n        vertical-align: middle;\n    }\n\n    .dataframe tbody tr th {\n        vertical-align: top;\n    }\n\n    .dataframe thead th {\n        text-align: right;\n    }\n</style>\n<table border=\"1\" class=\"dataframe\">\n  <thead>\n    <tr style=\"text-align: right;\">\n      <th></th>\n      <th>方向</th>\n      <th>类别</th>\n    </tr>\n  </thead>\n  <tbody>\n    <tr>\n      <th>490</th>\n      <td>-1</td>\n      <td>0</td>\n    </tr>\n    <tr>\n      <th>491</th>\n      <td>1</td>\n      <td>0</td>\n    </tr>\n    <tr>\n      <th>492</th>\n      <td>-1</td>\n      <td>0</td>\n    </tr>\n    <tr>\n      <th>493</th>\n      <td>1</td>\n      <td>0</td>\n    </tr>\n    <tr>\n      <th>494</th>\n      <td>-1</td>\n      <td>0</td>\n    </tr>\n    <tr>\n      <th>495</th>\n      <td>1</td>\n      <td>1</td>\n    </tr>\n    <tr>\n      <th>496</th>\n      <td>-1</td>\n      <td>0</td>\n    </tr>\n    <tr>\n      <th>497</th>\n      <td>1</td>\n      <td>0</td>\n    </tr>\n    <tr>\n      <th>498</th>\n      <td>-1</td>\n      <td>0</td>\n    </tr>\n    <tr>\n      <th>499</th>\n      <td>1</td>\n      <td>0</td>\n    </tr>\n  </tbody>\n</table>\n</div>"
     },
     "execution_count": 378,
     "metadata": {},
     "output_type": "execute_result"
    }
   ],
   "source": [
    "left = df[['方向','类别']].iloc[-10:]\n",
    "right = pd.DataFrame(y_pre[-10:])\n",
    "df[['方向','类别']].iloc[-10:]"
   ],
   "metadata": {
    "collapsed": false,
    "pycharm": {
     "name": "#%%\n"
    }
   }
  },
  {
   "cell_type": "code",
   "execution_count": 379,
   "outputs": [
    {
     "name": "stdout",
     "output_type": "stream",
     "text": [
      "[-1 -1  1 -1 -1  1 -1  1  1  1]\n",
      "[-1  1  1  1 -1  1  1 -1  1 -1]\n",
      "[ 1 -1 -1 -1  1  1 -1 -1 -1  1]\n"
     ]
    }
   ],
   "source": [
    "print(y_pre[-10:])\n",
    "print(y_test[-10:])\n",
    "print(yy_test[-10:])\n",
    "# print(yy_test[yy_test == 1])"
   ],
   "metadata": {
    "collapsed": false,
    "pycharm": {
     "name": "#%%\n"
    }
   }
  },
  {
   "cell_type": "code",
   "execution_count": 437,
   "outputs": [],
   "source": [
    "# 拟合分类模型\n",
    "rbf = SVC(kernel='rbf', C=1.0, gamma=1, probability=True)\n",
    "linear = SVC(kernel='linear', C=1.0, gamma='auto', probability=True)\n",
    "poly = SVC(kernel='poly', C=1.0, gamma='auto', degree=3, coef0=1, probability=True)"
   ],
   "metadata": {
    "collapsed": false,
    "pycharm": {
     "name": "#%%\n"
    }
   }
  },
  {
   "cell_type": "code",
   "execution_count": 438,
   "outputs": [
    {
     "name": "stdout",
     "output_type": "stream",
     "text": [
      "ix=0, svcs=SVC(gamma=1, probability=True)\n",
      "估计器的参数: {'C': 1.0, 'break_ties': False, 'cache_size': 200, 'class_weight': None, 'coef0': 0.0, 'decision_function_shape': 'ovr', 'degree': 3, 'gamma': 1, 'kernel': 'rbf', 'max_iter': -1, 'probability': True, 'random_state': None, 'shrinking': True, 'tol': 0.001, 'verbose': False}\n",
      "训练集R2评分: 0.52 \n",
      "测试集R2评分: 0.51 \n",
      "ix=1, svcs=SVC(gamma='auto', kernel='linear', probability=True)\n",
      "估计器的参数: {'C': 1.0, 'break_ties': False, 'cache_size': 200, 'class_weight': None, 'coef0': 0.0, 'decision_function_shape': 'ovr', 'degree': 3, 'gamma': 'auto', 'kernel': 'linear', 'max_iter': -1, 'probability': True, 'random_state': None, 'shrinking': True, 'tol': 0.001, 'verbose': False}\n",
      "训练集R2评分: 0.50 \n",
      "测试集R2评分: 0.57 \n",
      "ix=2, svcs=SVC(coef0=1, gamma='auto', kernel='poly', probability=True)\n",
      "估计器的参数: {'C': 1.0, 'break_ties': False, 'cache_size': 200, 'class_weight': None, 'coef0': 1, 'decision_function_shape': 'ovr', 'degree': 3, 'gamma': 'auto', 'kernel': 'poly', 'max_iter': -1, 'probability': True, 'random_state': None, 'shrinking': True, 'tol': 0.001, 'verbose': False}\n",
      "训练集R2评分: 0.51 \n",
      "测试集R2评分: 0.50 \n"
     ]
    }
   ],
   "source": [
    "svcs = [rbf, linear, poly]\n",
    "kernel_label = [\"rbf\", \"linear\", \"poly\"]\n",
    "for ix, svc in enumerate(svcs):\n",
    "    performance = svc.fit(x_train, y_train.ravel())\n",
    "    # 获取预测值\n",
    "    y_test_pred = performance.predict(x_test)\n",
    "    # 显示估计器\n",
    "    print(f'ix=%s, svcs=%s' %(ix, svcs[ix]))\n",
    "    # 获取这个估计器的参数\n",
    "    print(f'估计器的参数: %s' %(svc.get_params()))\n",
    "    # https://blog.csdn.net/gracejpw/article/details/101546293\n",
    "    # 返回预测的决定系数R^2\n",
    "    # R^2越接近于1，模型的拟合优度越高。\n",
    "    print(f'训练集R2评分: %.2f ' % (performance.score(x_train, y_train)))\n",
    "    print(f'测试集R2评分: %.2f ' %(svc.score(x_test, yy_test)))"
   ],
   "metadata": {
    "collapsed": false,
    "pycharm": {
     "name": "#%%\n"
    }
   }
  },
  {
   "cell_type": "code",
   "execution_count": 381,
   "outputs": [],
   "source": [],
   "metadata": {
    "collapsed": false,
    "pycharm": {
     "name": "#%%\n"
    }
   }
  },
  {
   "cell_type": "code",
   "execution_count": 457,
   "outputs": [
    {
     "name": "stdout",
     "output_type": "stream",
     "text": [
      "目标类别统计 (array([-1,  1], dtype=int64), array([46, 54], dtype=int64))\n",
      "预测类别统计 (array([-1,  1], dtype=int64), array([95,  5], dtype=int64))\n",
      "预测相同 [ 5 20 15  9  2  2  9 15 20  5] [0.373 0.398 0.424 0.449 0.475 0.5   0.525 0.551 0.576 0.602 0.627]\n",
      "预测不同 [ 1 28 11  8  1  1  8 11 28  1] [0.379 0.403 0.427 0.452 0.476 0.5   0.524 0.548 0.573 0.597 0.621]\n",
      "[0.373 0.398 0.424 0.449 0.475 0.525 0.551 0.576 0.602 0.627]\n",
      "[0.379 0.403 0.427 0.452 0.476 0.524 0.548 0.573 0.597 0.621]\n"
     ]
    },
    {
     "data": {
      "text/plain": "<Figure size 720x432 with 1 Axes>",
      "image/png": "[encoded data removed]"
     },
     "metadata": {},
     "output_type": "display_data"
    }
   ],
   "source": [
    "# 绘制训练样本类别预测与目标分类的相同和不同的概率区别统计图\n",
    "plt.style.use(plt.style.available[0])  #可以通过下标进行选择适合自己的画图样式\n",
    "plt.rcParams['font.sans-serif'] = ['SimHei']  #指定默认字体,用来正常显示中文标签\n",
    "plt.rcParams['font.family'] = 'sans-serif'\n",
    "plt.rcParams['axes.unicode_minus'] = False  #用来正常显示负号\n",
    "\n",
    "\n",
    "clf = rbf\n",
    "# clf = linear\n",
    "# clf = estimator\n",
    "score_test = clf.score(x_test, yy_test)\n",
    "# print(clf.kernel)\n",
    "print('目标类别统计',np.unique(yy_test,axis=0,return_counts=True))  #统计等每个分类的个数\n",
    "\n",
    "x_test_pred = clf.predict(x_test)[:]  #测试样本预测\n",
    "print('预测类别统计',np.unique(x_test_pred,axis=0, return_counts=True))  #统计预测的每个分类个数\n",
    "\n",
    "\n",
    "id_test_no = (x_test_pred != yy_test)  #测试样本预测类别与测试目标类别不同的下标\n",
    "id_test_ok = (x_test_pred == yy_test)  #测试样本预测类别与测试目标类别不同的下标\n",
    "test_no = clf.predict_proba(x_test)[id_test_no]  #测试样本预测类别与测试目标类别不同的概率值\n",
    "test_ok = clf.predict_proba(x_test)[id_test_ok]\n",
    "\n",
    "\n",
    "# 绘制测试样本类别预测与目标分类的相同和不同的概率区别统计图\n",
    "his_test_ok, his_ok = np.histogram(test_ok, bins=10)\n",
    "print('预测相同',his_test_ok, his_ok)\n",
    "his_test_no, his_no = np.histogram(test_no, bins=10)\n",
    "print('预测不同',his_test_no, his_no)\n",
    "# 绘制图像\n",
    "fig, ax1 = plt.subplots()\n",
    "fig.set_size_inches(10, 6)\n",
    "plt.set_cmap('RdBu')\n",
    "# plt.set_cmap('jet')\n",
    "\n",
    "his_ok = np.delete(his_ok, [5])\n",
    "his_no = np.delete(his_no, [5])\n",
    "print(his_ok)\n",
    "print(his_no)\n",
    "w = his_no[-1]/100\n",
    "# 绘制多个bar在同一个图中, 这里需要控制width\n",
    "plt.bar(his_ok, height=his_test_ok, width=1 * w, align='center')  #测试样本预测相同\n",
    "plt.bar(his_no, height=his_test_no, width=0.5 * w, align='center')  #测试样本预测不同\n",
    "# 设置坐标轴的标签\n",
    "ax1.yaxis.set_tick_params(labelsize=15)  # 设置y轴的字体的大小\n",
    "ax1.set_xticks(his_ok)  # 设置xticks出现的位置\n",
    "# 设置坐标轴名称\n",
    "ax1.set_ylabel(\"Count\", fontsize='xx-large')\n",
    "# 设置标题\n",
    "ax1.set_title('%s 测试样本预测类别区间个数统计 测试R2=%.2f' % (clf, score_test), fontsize='x-large')\n",
    "# 设置图例\n",
    "plt.legend(('测试预测相同', '测试预测不同'), fontsize='x-large', loc='upper right')\n",
    "plt.show()"
   ],
   "metadata": {
    "collapsed": false,
    "pycharm": {
     "name": "#%%\n"
    }
   }
  },
  {
   "cell_type": "code",
   "execution_count": 383,
   "outputs": [
    {
     "name": "stdout",
     "output_type": "stream",
     "text": [
      "[-1 -1 -1 -1 -1 -1 -1 -1 -1 -1  1 -1 -1 -1 -1 -1 -1 -1 -1 -1]\n",
      "[-1  1  1  1  1  1  1 -1  1 -1  1 -1 -1  1 -1  1 -1 -1  1  1]\n",
      "<class 'numpy.ndarray'> (100,)\n",
      "<class 'numpy.ndarray'> (100,)\n"
     ]
    }
   ],
   "source": [
    "print(x_test_pred[:20])\n",
    "print(yy_test[:20])\n",
    "print(type(x_test_pred), x_test_pred.shape)\n",
    "print(type(yy_test), yy_test.shape)"
   ],
   "metadata": {
    "collapsed": false,
    "pycharm": {
     "name": "#%%\n"
    }
   }
  },
  {
   "cell_type": "code",
   "execution_count": 384,
   "outputs": [
    {
     "name": "stdout",
     "output_type": "stream",
     "text": [
      "测试样本预测类别与测试目标类别相同的有(51, 2) 由predict_proba计算的概率值,显示前10行\n",
      "[[0.38  0.62 ]\n",
      " [0.373 0.627]\n",
      " [0.416 0.584]\n",
      " [0.597 0.403]\n",
      " [0.411 0.589]\n",
      " [0.366 0.634]\n",
      " [0.361 0.639]\n",
      " [0.397 0.603]\n",
      " [0.444 0.556]\n",
      " [0.374 0.626]]\n",
      "测试样本预测类别与测试目标类别不同有(49, 2) 由predict_proba计算的概率值,显示前10行\n",
      "[[0.376 0.624]\n",
      " [0.372 0.628]\n",
      " [0.381 0.619]\n",
      " [0.373 0.627]\n",
      " [0.378 0.622]\n",
      " [0.363 0.637]\n",
      " [0.424 0.576]\n",
      " [0.329 0.671]\n",
      " [0.383 0.617]\n",
      " [0.393 0.607]]\n"
     ]
    }
   ],
   "source": [
    "print('测试样本预测类别与测试目标类别相同的有%s 由predict_proba计算的概率值,显示前10行\\n%s'\n",
    "      % (test_ok.shape, clf.predict_proba(x_test)[id_test_ok][:10]))\n",
    "\n",
    "print('测试样本预测类别与测试目标类别不同有%s 由predict_proba计算的概率值,显示前10行\\n%s'\n",
    "      % (test_no.shape, clf.predict_proba(x_test)[id_test_no][:10]))"
   ],
   "metadata": {
    "collapsed": false,
    "pycharm": {
     "name": "#%%\n"
    }
   }
  }
 ],
 "metadata": {
  "kernelspec": {
   "name": "pycharm-50a0962a",
   "language": "python",
   "display_name": "PyCharm (python-demo)"
  },
  "language_info": {
   "codemirror_mode": {
    "name": "ipython",
    "version": 2
   },
   "file_extension": ".py",
   "mimetype": "text/x-python",
   "name": "python",
   "nbconvert_exporter": "python",
   "pygments_lexer": "ipython2",
   "version": "2.7.6"
  }
 },
 "nbformat": 4,
 "nbformat_minor": 0
}