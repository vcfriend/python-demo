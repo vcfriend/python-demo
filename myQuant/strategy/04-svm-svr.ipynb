{
 "cells": [
  {
   "cell_type": "code",
   "execution_count": 317,
   "metadata": {
    "collapsed": true
   },
   "outputs": [],
   "source": [
    "# coding=utf8\n",
    "\n",
    "import pandas as pd\n",
    "import numpy as np\n",
    "from sklearn.svm import SVR\n",
    "import matplotlib.pyplot as plt\n",
    "plt.style.use(plt.style.available[0])"
   ]
  },
  {
   "cell_type": "code",
   "execution_count": 318,
   "metadata": {
    "pycharm": {
     "name": "#%%\n"
    }
   },
   "outputs": [],
   "source": [
    "# 加载数据\n",
    "df = pd.read_csv('data/DQC00-1d.txt',\n",
    "                 sep=',',\n",
    "                 nrows=5000,\n",
    "                 index_col=['datetime'],  # 设置行索引\n",
    "                 parse_dates=['datetime'],  # 解析时间 20100104130500.0\n",
    "                 date_parser=lambda x: pd.to_datetime(x, format='%Y%m%d%H%M%S.%f'),  # 时间解析的格式，进行毫秒级数据解析\n",
    "                 usecols=['datetime', 'open', 'high', 'low', 'close', 'volume'],  # 设置需要用到的列\n",
    "                 encoding='utf-8',\n",
    "                 float_precision='round_trip',  # 所有数据会当做string读取, 使用时再进行相应的转换为float\n",
    "                 )\n",
    "# pd.reset_option('display.float_format')  # 重置\n",
    "pd.set_option('precision', 2)  # 显示小数点后的位数\n",
    "pd.set_option('display.max_rows', 300)  # 控制显示的最大行数\n",
    "pd.set_option('display.min_rows', 20)  # 确定显示的部分有多少行\n",
    "# pd.set_option('display.float_format',  '{:,.2f}'.format) # 数字格式化显示 用逗号格式化大值数字 设置数字精度\n",
    "# 指定列名设置计算精确度，未指定的保持原样\n",
    "df.round({'open': 0, 'high': 0, 'low': 0, 'close': 0})\n",
    "# 统一保持1位小数\n",
    "df.round(0)\n",
    "# 设置np输出精度\n",
    "#设定numpy显示浮点数精度的小数位数,不使用科学记数法\n",
    "np.set_printoptions(precision=2, suppress=True)"
   ]
  },
  {
   "cell_type": "code",
   "execution_count": 319,
   "metadata": {
    "pycharm": {
     "name": "#%%\n"
    }
   },
   "outputs": [
    {
     "name": "stdout",
     "output_type": "stream",
     "text": [
      "open      float64\n",
      "high      float64\n",
      "low       float64\n",
      "close     float64\n",
      "volume    float64\n",
      "dtype: object\n"
     ]
    },
    {
     "data": {
      "text/plain": "               open     high      low    close   volume\ndatetime                                               \n2004-09-22  1143.23  1147.88  1106.05  1106.98  77908.0\n2004-09-23  1097.68  1099.54  1089.32  1093.04  37196.0\n2004-09-24  1082.81  1101.40  1082.81  1095.83  29367.0\n2004-09-27  1092.11  1100.47  1075.38  1076.31  17336.0\n2004-09-28  1077.24  1088.39  1077.24  1082.81  26681.0",
      "text/html": "<div>\n<style scoped>\n    .dataframe tbody tr th:only-of-type {\n        vertical-align: middle;\n    }\n\n    .dataframe tbody tr th {\n        vertical-align: top;\n    }\n\n    .dataframe thead th {\n        text-align: right;\n    }\n</style>\n<table border=\"1\" class=\"dataframe\">\n  <thead>\n    <tr style=\"text-align: right;\">\n      <th></th>\n      <th>open</th>\n      <th>high</th>\n      <th>low</th>\n      <th>close</th>\n      <th>volume</th>\n    </tr>\n    <tr>\n      <th>datetime</th>\n      <th></th>\n      <th></th>\n      <th></th>\n      <th></th>\n      <th></th>\n    </tr>\n  </thead>\n  <tbody>\n    <tr>\n      <th>2004-09-22</th>\n      <td>1143.23</td>\n      <td>1147.88</td>\n      <td>1106.05</td>\n      <td>1106.98</td>\n      <td>77908.0</td>\n    </tr>\n    <tr>\n      <th>2004-09-23</th>\n      <td>1097.68</td>\n      <td>1099.54</td>\n      <td>1089.32</td>\n      <td>1093.04</td>\n      <td>37196.0</td>\n    </tr>\n    <tr>\n      <th>2004-09-24</th>\n      <td>1082.81</td>\n      <td>1101.40</td>\n      <td>1082.81</td>\n      <td>1095.83</td>\n      <td>29367.0</td>\n    </tr>\n    <tr>\n      <th>2004-09-27</th>\n      <td>1092.11</td>\n      <td>1100.47</td>\n      <td>1075.38</td>\n      <td>1076.31</td>\n      <td>17336.0</td>\n    </tr>\n    <tr>\n      <th>2004-09-28</th>\n      <td>1077.24</td>\n      <td>1088.39</td>\n      <td>1077.24</td>\n      <td>1082.81</td>\n      <td>26681.0</td>\n    </tr>\n  </tbody>\n</table>\n</div>"
     },
     "execution_count": 319,
     "metadata": {},
     "output_type": "execute_result"
    }
   ],
   "source": [
    "print(df.dtypes)\n",
    "df.head()"
   ]
  },
  {
   "cell_type": "code",
   "execution_count": 319,
   "metadata": {
    "pycharm": {
     "name": "#%%\n"
    }
   },
   "outputs": [],
   "source": []
  },
  {
   "cell_type": "code",
   "execution_count": 320,
   "metadata": {
    "pycharm": {
     "name": "#%%\n"
    }
   },
   "outputs": [
    {
     "name": "stdout",
     "output_type": "stream",
     "text": [
      "open      False\n",
      "high      False\n",
      "low       False\n",
      "close     False\n",
      "volume    False\n",
      "dtype: bool\n",
      "open      False\n",
      "high      False\n",
      "low       False\n",
      "close     False\n",
      "volume    False\n",
      "dtype: bool\n",
      "open      0\n",
      "high      0\n",
      "low       0\n",
      "close     0\n",
      "volume    0\n",
      "dtype: int64\n"
     ]
    }
   ],
   "source": [
    "# 2.1 缺失值处理\n",
    "\n",
    "# 检查数据中是否有缺失值，以下两种方式均可\n",
    "#Flase:对应特征的特征值中无缺失值\n",
    "#True：有缺失值\n",
    "print(df.isnull().any())\n",
    "print(np.isnan(df).any())\n",
    "#返回每一列缺失值统计个数\n",
    "print(df.isnull().sum())"
   ]
  },
  {
   "cell_type": "code",
   "execution_count": 321,
   "metadata": {
    "pycharm": {
     "name": "#%%\n"
    }
   },
   "outputs": [
    {
     "data": {
      "text/plain": "open      0\nhigh      0\nlow       0\nclose     0\nvolume    0\ndtype: int64"
     },
     "execution_count": 321,
     "metadata": {},
     "output_type": "execute_result"
    }
   ],
   "source": [
    "#缺失值处理，以下两种方式均可\n",
    "#删除包含缺失值的行\n",
    "df.dropna(inplace=True)\n",
    "#缺失值填充\n",
    "# df.fillna('100')\n",
    "\n",
    "#返回每一列缺失值统计个数\n",
    "df.isnull().sum()"
   ]
  },
  {
   "cell_type": "code",
   "execution_count": 322,
   "metadata": {
    "pycharm": {
     "name": "#%%\n"
    }
   },
   "outputs": [
    {
     "name": "stdout",
     "output_type": "stream",
     "text": [
      "               open     high      low    close    volume\n",
      "datetime                                                \n",
      "2021-01-04  2664.50  2687.72  2650.96  2655.80  633210.0\n",
      "2021-01-05  2654.83  2686.75  2654.83  2678.04  472285.0\n",
      "2021-01-06  2683.85  2706.09  2679.01  2694.49  481959.0\n",
      "<class 'numpy.ndarray'> (213, 3) 2\n",
      "[[2664.5  2687.72 2650.96]\n",
      " [2654.83 2686.75 2654.83]\n",
      " [2683.85 2706.09 2679.01]]\n"
     ]
    }
   ],
   "source": [
    "# 截取时间段内样本数据\n",
    "df = df[\"2021-01-01\":]\n",
    "print(df[:3])\n",
    "# 2.2 确定特征值 目标值\n",
    "# 特征值取开盘价和收盘价的差值\n",
    "# X = (df[['open']]).values\n",
    "X = (df[['open', 'high', 'low']]).values\n",
    "print(type(X), X.shape, X.ndim)\n",
    "\n",
    "print(X[:3, ])"
   ]
  },
  {
   "cell_type": "code",
   "execution_count": 322,
   "outputs": [],
   "source": [],
   "metadata": {
    "collapsed": false,
    "pycharm": {
     "name": "#%%\n"
    }
   }
  },
  {
   "cell_type": "code",
   "execution_count": 323,
   "metadata": {
    "pycharm": {
     "name": "#%%\n"
    }
   },
   "outputs": [
    {
     "name": "stdout",
     "output_type": "stream",
     "text": [
      "(213,)\n",
      "1\n",
      "[2655.8  2678.04 2694.49]\n"
     ]
    }
   ],
   "source": [
    "# 目标值取开盘价和收盘价的差值\n",
    "# y = df.iloc[:, -2:-1].values.ravel()\n",
    "Y = (df['close']).values\n",
    "print(Y.shape)\n",
    "print(Y.ndim)\n",
    "print(Y[:3])\n"
   ]
  },
  {
   "cell_type": "code",
   "execution_count": 324,
   "metadata": {
    "pycharm": {
     "name": "#%%\n"
    }
   },
   "outputs": [],
   "source": [
    "#将数据划分为训练集和验证集\n",
    "from sklearn.model_selection import train_test_split\n",
    "\n",
    "x_train, x_test, y_train, y_test = train_test_split(X, Y.reshape(-1, 1),\n",
    "                                                    random_state=1,  #如果为整形数字,则数据随机打乱顺序固定, 如果为random_state=None,则每次数据打乱顺序都不一样\n",
    "                                                    test_size=0.50,  #测试集50%样本数量\n",
    "                                                    shuffle=True,  #default=True 切分前是否对数据进行打乱。\n",
    "                                                    )\n"
   ]
  },
  {
   "cell_type": "code",
   "execution_count": 325,
   "metadata": {
    "pycharm": {
     "name": "#%%\n"
    }
   },
   "outputs": [
    {
     "name": "stdout",
     "output_type": "stream",
     "text": [
      "(106, 3) (106, 1) 2\n",
      "(107, 3) (107, 1) 2\n"
     ]
    },
    {
     "data": {
      "text/plain": "array([[2636.56, 2657.32, 2634.59, 2638.54],\n       [2568.  , 2591.  , 2567.  , 2569.  ],\n       [2705.74, 2707.72, 2642.49, 2650.4 ]])"
     },
     "execution_count": 325,
     "metadata": {},
     "output_type": "execute_result"
    }
   ],
   "source": [
    "print(x_train.shape, y_train.shape, y_train.ndim)\n",
    "print(x_test.shape, y_test.shape, y_test.ndim)\n",
    "np.hstack((x_test, y_test))[:3]"
   ]
  },
  {
   "cell_type": "code",
   "execution_count": 326,
   "metadata": {
    "pycharm": {
     "name": "#%%\n"
    }
   },
   "outputs": [],
   "source": [
    "## 混淆测试集目标类别的 指定概率50%的错误\n",
    "err = x_train\n",
    "for i in range(int(len(err) * 0.0)):\n",
    "    index = int(np.random.randint(len(err)))\n",
    "    # index2 = int(np.random.randint(len(err)))\n",
    "    # err[index,0], err[index,3] = err[index,3], err[index,0]\n",
    "    err[index] = 0"
   ]
  },
  {
   "cell_type": "code",
   "execution_count": 326,
   "metadata": {
    "pycharm": {
     "name": "#%%\n"
    }
   },
   "outputs": [],
   "source": []
  },
  {
   "cell_type": "code",
   "execution_count": 327,
   "metadata": {
    "pycharm": {
     "name": "#%%\n"
    }
   },
   "outputs": [],
   "source": [
    "# 3. 特征工程（标准化）\n",
    "from sklearn.preprocessing import StandardScaler\n",
    "\n",
    "standardScaler = StandardScaler()\n",
    "\n",
    "x_train_stand = standardScaler.fit_transform(x_train)\n",
    "x_test_stand = standardScaler.transform(x_test)\n",
    "\n",
    "y_train_stand = standardScaler.fit_transform(y_train)\n",
    "y_test_stand = standardScaler.transform(y_test)"
   ]
  },
  {
   "cell_type": "code",
   "execution_count": 328,
   "metadata": {
    "pycharm": {
     "name": "#%%\n"
    }
   },
   "outputs": [
    {
     "name": "stdout",
     "output_type": "stream",
     "text": [
      "(106, 3)\n",
      "2\n",
      "(106, 1)\n",
      "2\n",
      "[[2564.   2576.   2551.  ]\n",
      " [2627.75 2631.62 2581.33]\n",
      " [2592.09 2609.88 2590.12]\n",
      " [2657.32 2680.05 2647.43]\n",
      " [2693.52 2705.12 2669.34]\n",
      " [2457.   2462.   2436.  ]\n",
      " [2627.   2639.   2605.  ]\n",
      " [2491.   2497.   2458.  ]\n",
      " [2531.81 2554.54 2526.87]\n",
      " [2600.   2600.   2544.66]]\n",
      "[2564.   2627.75 2592.09 2657.32 2693.52 2457.   2627.   2491.   2531.81\n",
      " 2600.  ]\n"
     ]
    }
   ],
   "source": [
    "print(x_train.shape)\n",
    "print(x_train.ndim)\n",
    "print(y_train.shape)\n",
    "print(y_train.ndim)\n",
    "print(x_train[:10])\n",
    "print(x_train[:10, 0])"
   ]
  },
  {
   "cell_type": "code",
   "execution_count": 329,
   "metadata": {
    "pycharm": {
     "name": "#%%\n"
    }
   },
   "outputs": [],
   "source": [
    "#画图观察\n",
    "# fig, ax = plt.subplots()\n",
    "# ax.scatter(y_test_stand, x_test_stand)\n",
    "# ax.plot([y_test_stand.min(), y_test_stand.max()], [y_test_stand.min(), y_test_stand.max()], 'k--', lw=2)\n",
    "# ax.set_xlabel('Measured')\n",
    "# ax.set_ylabel('Predicted')\n",
    "# plt.show()"
   ]
  },
  {
   "cell_type": "code",
   "execution_count": 343,
   "metadata": {
    "pycharm": {
     "name": "#%%\n"
    }
   },
   "outputs": [
    {
     "data": {
      "text/plain": "((106, 3), (107, 3))"
     },
     "execution_count": 343,
     "metadata": {},
     "output_type": "execute_result"
    }
   ],
   "source": [
    "epsilon = 0.2\n",
    "c = 1.0\n",
    "# 拟合回归模型\n",
    "svr_rbf = SVR(kernel='rbf', C=c, gamma=1, epsilon=epsilon)\n",
    "svr_lin = SVR(kernel='linear', C=c, gamma='auto', epsilon=epsilon)\n",
    "svr_poly = SVR(kernel='poly', C=c, gamma='auto', epsilon=epsilon,\n",
    "               degree=3,  #默认=3 多项式核函数的次数(' poly ')。将会被其他内核忽略。\n",
    "               coef0=0.1,  #默认=0.0 核函数中的独立项。它只在' poly '和' sigmoid '中有意义\n",
    "               )\n",
    "\n",
    "x_train.shape, x_test.shape\n",
    "# np.vstack((x_train,x_test)).shape"
   ]
  },
  {
   "cell_type": "code",
   "execution_count": 344,
   "metadata": {
    "pycharm": {
     "name": "#%%\n"
    }
   },
   "outputs": [
    {
     "name": "stdout",
     "output_type": "stream",
     "text": [
      "ix=0, svcs=SVR(epsilon=0.2, gamma='auto', kernel='linear')\n",
      "估计器参数: kernel=linear, C=1.0, epsilon=0.2\n",
      "svm: (12, 2) epsilon:0.2 = [[18.82]] sv/e:[[451.61]]\n",
      "epsilon mean: 10.43 std: 12.91 max: 36.56 min: 0.32\n",
      "svm间隔 mean: 89.38 std: 44.59 max: 194.04 min: 9.82 e_sum: [[1681.83]]\n",
      "std与误差范围占比%: 0.36  var方差: 166.77\n",
      "std与误差范围占比%: 0.24\n",
      "训练集评分: 0.9839914161294612 \n",
      "测试集评分: 0.9773424795780202 \n",
      "ix=1, svcs=SVR(epsilon=0.2, gamma=1)\n",
      "估计器参数: kernel=rbf, C=1.0, epsilon=0.2\n",
      "svm: (18, 2) epsilon:0.2 = [[18.82]] sv/e:[[677.42]]\n",
      "epsilon mean: 11.76 std: 15.74 max: 49.3 min: 0.03\n",
      "svm间隔 mean: 110.92 std: 51.2 max: 212.74 min: 9.82 e_sum: [[2087.25]]\n",
      "std与误差范围占比%: 0.32  var方差: 247.64\n",
      "std与误差范围占比%: 0.25\n",
      "训练集评分: 0.9775186786789926 \n",
      "测试集评分: 0.967520786594405 \n"
     ]
    },
    {
     "data": {
      "text/plain": "<Figure size 864x288 with 2 Axes>",
      "image/png": "[encoded data removed]"
     },
     "metadata": {},
     "output_type": "display_data"
    }
   ],
   "source": [
    "plt.figure(figsize=(12, 4))\n",
    "xx = np.vstack((x_train_stand[:, ], x_test_stand[:, ]))\n",
    "yy = np.vstack((y_train_stand, y_test_stand))\n",
    "x_min, x_max = xx.min() - 0.5, xx.max() + 0.5\n",
    "y_min, y_max = yy.min() - 0.5, yy.max() + 0.5\n",
    "\n",
    "svrs = [svr_lin, svr_rbf, svr_poly]\n",
    "kernel_label = [\"linear\",\"rbf\",  \"poly\"]\n",
    "for ix, svr in enumerate(svrs[:-1]):\n",
    "    fit = svr.fit(x_train_stand, y_train_stand.ravel())\n",
    "    # 获取预测值\n",
    "    y_test_pred = fit.predict(x_test_stand)\n",
    "    # 显示估计器\n",
    "    print(f'ix=%s, svcs=%s' % (ix, svrs[ix]))\n",
    "    # 获取这个估计器的参数\n",
    "    svr_params = svr.get_params()\n",
    "    print(f'估计器参数: kernel=%s, C=%s, epsilon=%s' % (\n",
    "        svr_params.get('kernel'), svr_params.get('C'), svr_params.get('epsilon')))\n",
    "\n",
    "    epsilon_1 = standardScaler.inverse_transform(np.array([[fit.epsilon], ]))  #转换误差单位\n",
    "    epsilon_0 = standardScaler.inverse_transform(np.array([[0.00], ]))\n",
    "    epsilon_i = (epsilon_1 - epsilon_0)  #目标误差值\n",
    "    support_vectors_ = fit.support_vectors_\n",
    "    support_vectors_ = np.hstack((np.amax(abs(support_vectors_), axis=1).reshape(-1,1), np.amin(abs(support_vectors_), axis=1).reshape(-1,1)))  #由每一行中最大和最小值的sv构成的新的sv数组\n",
    "    sv = support_vectors_.shape  #支持向量\n",
    "    sv_e_sum = (sv[0] * sv[1]) * epsilon_i  #所有支持向量的误差和\n",
    "    print('svm:', sv,  #支持向量个数\n",
    "          'epsilon:%s = %s' % (fit.epsilon, epsilon_i),  #误差值\n",
    "          'sv/e:%s' % sv_e_sum\n",
    "          )\n",
    "    y_test_pred_ = standardScaler.inverse_transform(y_test_pred.reshape(-1, 1))\n",
    "    y_test_ = standardScaler.inverse_transform(y_test_stand.reshape(-1, 1))\n",
    "    y_test_d = (y_test_ - y_test_pred_)  #epsilon误差\n",
    "    y_test_d_max, y_test_d_min = abs(y_test_d).max(), abs(y_test_d).min()  #误差最大值和最小值\n",
    "    print('epsilon mean:', np.mean(abs(y_test_d)).round(2),  #epsilon误差平均值\n",
    "          'std:', np.std(y_test_d).round(2),  #标准差\n",
    "          'max:', y_test_d_max.round(2),\n",
    "          'min:', y_test_d_min.round(2),\n",
    "          )\n",
    "    support_vectors_ = standardScaler.inverse_transform(support_vectors_)\n",
    "\n",
    "    support_vectors_d = support_vectors_ - epsilon_0  #svm间隔\n",
    "    support_vectors_d_max, support_vectors_d_min = abs(support_vectors_d).max(), abs(\n",
    "        support_vectors_d).min()  #svm间隔最大值和最小值\n",
    "\n",
    "    svm_mean_e_sum = np.mean(abs(support_vectors_d)) * epsilon_i  #svm误差和\n",
    "\n",
    "    print('svm间隔 mean:', np.mean(abs(support_vectors_d)).round(2),  #平均值\n",
    "          'std:', np.std(support_vectors_d).round(2),  #标准差\n",
    "          'max:', support_vectors_d_max.round(2),\n",
    "          'min:', support_vectors_d_min.round(2),\n",
    "          'e_sum:', svm_mean_e_sum\n",
    "          )\n",
    "    print(\"std与误差范围占比%:\", (np.std(y_test_d) / (y_test_d_max - y_test_d_min)).round(2),  #标准差std与误差范围占比%\n",
    "          ' var方差:', np.var(y_test_d).round(2))\n",
    "    print('std与误差范围占比%:',\n",
    "          (np.std(support_vectors_d) / (support_vectors_d_max - support_vectors_d_min)).round(2))  #标准差std与误差范围占比%\n",
    "\n",
    "    # https://blog.csdn.net/gracejpw/article/details/101546293\n",
    "    # 返回预测的决定系数R^2\n",
    "    # R^2越接近于1，模型的拟合优度越高。\n",
    "    print(f'训练集评分: %s ' % (fit.score(x_train_stand, y_train_stand)))\n",
    "    print(f'测试集评分: %s ' % (svr.score(x_test_stand, y_test_stand)))\n",
    "\n",
    "    plt.subplot(1, 3, ix + 1)\n",
    "    interval = abs(support_vectors_ - epsilon_0)\n",
    "    plt.hist(interval, bins=50)\n",
    "    plt.title(r'$%s %s \\epsilon = %s$' % (fit.kernel, fit.support_vectors_.shape, fit.epsilon))\n",
    "\n",
    "plt.show()\n",
    "# plt.savefig(r'./file/02_svm_svr.png', dpi=200)\n",
    "\n"
   ]
  },
  {
   "cell_type": "code",
   "execution_count": 332,
   "metadata": {
    "pycharm": {
     "name": "#%%\n"
    }
   },
   "outputs": [
    {
     "name": "stdout",
     "output_type": "stream",
     "text": [
      "sv: linear (48, 3)\n",
      "epsilon:0.09 = [[8.47]]\n",
      "epsilon mean平均值: 9.05\n",
      "epsilon std标准差: 11.5\n",
      "epsilon std标准差: 11.5\n",
      "epsilon var方差: 132.28\n",
      "svm mean平均值 82.88\n",
      "svm std标准差 92.8\n",
      "#查看切分后的数据与切分前的数据是否一致 [[2620.98 2620.98 2678.04]\n",
      " [2675.1  2675.1  2713.83]\n",
      " [2437.   2437.   2743.81]\n",
      " [2461.   2461.   2777.66]\n",
      " [2576.28 2576.28 2774.76]]\n",
      "#查看训练集的sv支持向量(48, 3) [[2627.75 2631.62 2581.33 2629.35 2614.   2600.58]\n",
      " [2657.32 2680.05 2647.43 2659.11 2661.11 2668.79]\n",
      " [2457.   2462.   2436.   2457.49 2448.98 2450.64]\n",
      " [2491.   2497.   2458.   2491.71 2483.03 2473.34]\n",
      " [2600.   2600.   2544.66 2601.42 2583.23 2562.75]\n",
      " [2684.99 2689.93 2638.54 2686.96 2670.72 2659.61]\n",
      " [2746.71 2780.56 2714.8  2749.09 2758.9  2738.29]\n",
      " [2481.   2495.   2469.   2481.64 2481.08 2484.69]\n",
      " [2458.   2486.   2452.   2458.5  2472.33 2467.14]\n",
      " [2559.48 2578.26 2552.57 2560.64 2562.08 2570.91]]\n",
      "查看预测值与目标值的差值 [[2636.56 2657.32 2634.59   12.21   -8.54   14.19    1.98  -18.78    3.95\n",
      "   -10.24]\n",
      " [2568.   2591.   2567.     15.49   -7.51   16.49    1.    -22.      2.\n",
      "   -14.49]\n",
      " [2705.74 2707.72 2642.49  -41.1   -43.08   22.15  -55.34  -57.32    7.91\n",
      "   -14.24]\n",
      " [2650.4  2664.23 2634.59   -1.82  -15.65   14.    -13.84  -27.67    1.98\n",
      "   -12.02]\n",
      " [2635.49 2637.42 2623.88   -7.94   -9.88    3.66   -5.8    -7.74    5.8\n",
      "     2.14]]\n"
     ]
    },
    {
     "data": {
      "text/plain": "<Figure size 432x288 with 1 Axes>",
      "image/png": "[encoded data removed]"
     },
     "metadata": {},
     "output_type": "display_data"
    }
   ],
   "source": [
    "svrs = [svr_rbf, svr_lin, svr_poly]\n",
    "\n",
    "fit = svrs[1]\n",
    "\n",
    "print('sv:', fit.kernel, fit.support_vectors_.shape)\n",
    "epsilon_1 = standardScaler.inverse_transform(np.array([[fit.epsilon], ]))\n",
    "epsilon_0 = standardScaler.inverse_transform(np.array([[0.00], ]))\n",
    "print('epsilon:%s = %s' % (fit.epsilon, epsilon_1 - epsilon_0))\n",
    "\n",
    "y_test_pred = fit.predict(x_test_stand)\n",
    "y_test_pred_ = standardScaler.inverse_transform(y_test_pred.reshape(-1, 1))\n",
    "y_test_ = standardScaler.inverse_transform(y_test_stand.reshape(-1, 1))\n",
    "print('epsilon mean平均值:', np.mean(abs((y_test_ - y_test_pred_))).round(2))\n",
    "print('epsilon std标准差:', np.std((y_test_ - y_test_pred_)).round(2))\n",
    "print('epsilon std标准差:', np.std((y_test_ - y_test_pred_)).round(2))\n",
    "print('epsilon var方差:', np.var((y_test_ - y_test_pred_)).round(2))\n",
    "support_vectors_ = standardScaler.inverse_transform(fit.support_vectors_)\n",
    "print('svm mean平均值', np.mean(abs(support_vectors_ - epsilon_0)).round(2))\n",
    "print('svm std标准差', np.std((support_vectors_ - epsilon_0)).round(2))\n",
    "\n",
    "y_train_ = standardScaler.inverse_transform(y_train_stand.reshape(-1, 1))\n",
    "print('#查看切分后的数据与切分前的数据是否一致', (np.hstack(((y_train[fit.support_]), (y_train_[fit.support_]),\n",
    "                                          (Y[:len(y_train)][fit.support_].reshape(-1, 1)))))[:5])\n",
    "print('#查看训练集的sv支持向量%s %s' % (\n",
    "    fit.support_vectors_.shape, np.hstack(((x_train[fit.support_]), support_vectors_))[:10]))\n",
    "\n",
    "print('查看预测值与目标值的差值', (np.hstack((x_test, (y_test_pred_ - x_test), (y_test_ - x_test), (y_test - y_test_pred_)))[:5]))\n",
    "\n",
    "interval = abs(support_vectors_ - epsilon_0)\n",
    "plt.hist(interval, bins=50)\n",
    "plt.title(r'$%s\\ sv%s\\ \\epsilon = %s$' % (fit.kernel, fit.support_vectors_.shape, fit.epsilon))\n",
    "plt.show()"
   ]
  },
  {
   "cell_type": "code",
   "execution_count": 332,
   "metadata": {
    "pycharm": {
     "name": "#%%\n"
    }
   },
   "outputs": [],
   "source": []
  },
  {
   "cell_type": "code",
   "execution_count": 332,
   "metadata": {
    "pycharm": {
     "name": "#%%\n"
    }
   },
   "outputs": [],
   "source": []
  },
  {
   "cell_type": "code",
   "execution_count": 333,
   "metadata": {
    "pycharm": {
     "name": "#%%\n"
    }
   },
   "outputs": [
    {
     "name": "stdout",
     "output_type": "stream",
     "text": [
      "epsilon_0 [[2616.61]]\n",
      "#查看训练集的支持向量(48, 3) [[2627.75 2631.62 2581.33 2629.35 2614.   2600.58]\n",
      " [2657.32 2680.05 2647.43 2659.11 2661.11 2668.79]\n",
      " [2457.   2462.   2436.   2457.49 2448.98 2450.64]\n",
      " [2491.   2497.   2458.   2491.71 2483.03 2473.34]\n",
      " [2600.   2600.   2544.66 2601.42 2583.23 2562.75]\n",
      " [2684.99 2689.93 2638.54 2686.96 2670.72 2659.61]\n",
      " [2746.71 2780.56 2714.8  2749.09 2758.9  2738.29]\n",
      " [2481.   2495.   2469.   2481.64 2481.08 2484.69]\n",
      " [2458.   2486.   2452.   2458.5  2472.33 2467.14]\n",
      " [2559.48 2578.26 2552.57 2560.64 2562.08 2570.91]\n",
      " [2593.08 2613.83 2578.26 2594.46 2596.69 2597.42]\n",
      " [2702.77 2727.48 2691.9  2704.86 2707.25 2714.67]\n",
      " [2501.   2519.   2487.   2501.78 2504.43 2503.26]\n",
      " [2780.56 2814.41 2777.66 2783.16 2791.83 2803.16]\n",
      " [2700.29 2722.53 2677.08 2702.36 2702.44 2699.38]\n",
      " [2517.98 2551.58 2503.15 2518.86 2536.12 2519.93]\n",
      " [2534.78 2556.52 2513.04 2535.77 2540.93 2530.12]\n",
      " [2534.78 2570.35 2526.87 2535.77 2554.39 2544.4 ]\n",
      " [2673.13 2702.77 2661.27 2675.02 2683.22 2683.07]\n",
      " [2558.49 2574.31 2549.6  2559.64 2558.24 2567.85]\n",
      " [2727.37 2743.81 2661.6  2729.62 2723.14 2683.41]\n",
      " [2727.37 2728.34 2677.08 2729.62 2708.09 2699.38]\n",
      " [2731.43 2739.34 2697.83 2733.71 2718.79 2720.79]\n",
      " [2687.72 2725.43 2686.75 2689.71 2705.26 2709.35]\n",
      " [2481.   2520.   2471.   2481.64 2505.4  2486.75]\n",
      " [2563.44 2600.99 2563.44 2564.62 2584.19 2582.12]\n",
      " [2727.37 2761.22 2684.81 2729.62 2740.08 2707.36]\n",
      " [2557.51 2585.18 2525.88 2558.65 2568.81 2543.38]\n",
      " [2530.   2573.   2529.   2530.96 2556.97 2546.59]\n",
      " [2534.91 2550.38 2512.66 2535.9  2534.96 2529.73]\n",
      " [2672.24 2693.52 2652.9  2674.13 2674.21 2674.43]\n",
      " [2559.08 2577.46 2536.84 2560.24 2561.31 2554.68]\n",
      " [2777.66 2833.76 2771.86 2780.24 2810.65 2797.17]\n",
      " [2750.21 2779.86 2727.48 2752.61 2758.21 2751.38]\n",
      " [2650.4  2678.07 2627.67 2652.15 2659.18 2648.4 ]\n",
      " [2654.35 2669.18 2647.43 2656.12 2650.53 2668.79]\n",
      " [2577.27 2580.24 2555.53 2578.54 2564.01 2573.97]\n",
      " [2505.   2523.   2501.   2505.8  2508.32 2517.7 ]\n",
      " [2572.33 2577.27 2540.71 2573.57 2561.12 2558.67]\n",
      " [2624.85 2686.75 2624.85 2626.43 2667.63 2645.49]\n",
      " [2725.43 2736.07 2659.67 2727.67 2715.61 2681.41]\n",
      " [2587.15 2587.15 2541.7  2588.49 2570.74 2559.69]\n",
      " [2585.18 2598.02 2569.37 2586.5  2581.31 2588.24]\n",
      " [2489.32 2502.17 2476.47 2490.02 2488.05 2492.4 ]\n",
      " [2671.   2730.   2661.   2672.88 2709.71 2682.79]\n",
      " [2685.97 2724.52 2685.97 2687.95 2704.37 2708.56]\n",
      " [2541.7  2564.42 2513.04 2542.73 2548.62 2530.12]\n",
      " [2694.49 2700.29 2671.27 2696.52 2680.8  2693.39]]\n"
     ]
    }
   ],
   "source": [
    "print('epsilon_0', epsilon_0)\n",
    "print('#查看训练集的支持向量%s %s' % (fit.support_vectors_.shape, np.hstack(((x_train[fit.support_]), support_vectors_))[:]))"
   ]
  },
  {
   "cell_type": "code",
   "execution_count": 334,
   "metadata": {
    "pycharm": {
     "name": "#%%\n"
    }
   },
   "outputs": [
    {
     "name": "stdout",
     "output_type": "stream",
     "text": [
      "support_支持向量的下标 (48,)\n",
      "support_vectors_支持向量 (48, 3)\n",
      "n_support_每个类别的支持向量数量 [48]\n",
      "dual_coef_决策函数中支持向量的系数 (1, 48)\n",
      "intercept_决策函数中的常量 [-0.]\n"
     ]
    }
   ],
   "source": [
    "# fit = svr_rbf\n",
    "print('support_支持向量的下标', fit.support_.shape)\n",
    "print('support_vectors_支持向量', fit.support_vectors_.shape)\n",
    "print('n_support_每个类别的支持向量数量', fit.n_support_)\n",
    "print('dual_coef_决策函数中支持向量的系数', fit.dual_coef_.shape)\n",
    "print('intercept_决策函数中的常量', fit.intercept_)"
   ]
  },
  {
   "cell_type": "code",
   "execution_count": 334,
   "metadata": {
    "pycharm": {
     "name": "#%%\n"
    }
   },
   "outputs": [],
   "source": []
  },
  {
   "cell_type": "code",
   "execution_count": 334,
   "metadata": {
    "pycharm": {
     "name": "#%%\n"
    }
   },
   "outputs": [],
   "source": []
  }
 ],
 "metadata": {
  "kernelspec": {
   "display_name": "py39",
   "language": "python",
   "name": "py39"
  },
  "language_info": {
   "codemirror_mode": {
    "name": "ipython",
    "version": 3
   },
   "file_extension": ".py",
   "mimetype": "text/x-python",
   "name": "python",
   "nbconvert_exporter": "python",
   "pygments_lexer": "ipython3",
   "version": "3.9.7"
  },
  "toc": {
   "base_numbering": 1,
   "nav_menu": {},
   "number_sections": true,
   "sideBar": true,
   "skip_h1_title": false,
   "title_cell": "Table of Contents",
   "title_sidebar": "Contents",
   "toc_cell": false,
   "toc_position": {},
   "toc_section_display": true,
   "toc_window_display": false
  }
 },
 "nbformat": 4,
 "nbformat_minor": 1
}