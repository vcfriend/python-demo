{
 "cells": [
  {
   "cell_type": "code",
   "execution_count": 506,
   "metadata": {
    "collapsed": true
   },
   "outputs": [],
   "source": [
    "# coding=utf8\n",
    "from typing import Union\n",
    "\n",
    "import pandas as pd\n",
    "import numpy as np\n",
    "from numpy import ndarray\n",
    "from sklearn.svm import SVR\n",
    "import matplotlib.pyplot as plt\n",
    "\n",
    "plt.style.use(plt.style.available[0])"
   ]
  },
  {
   "cell_type": "code",
   "execution_count": 507,
   "metadata": {
    "pycharm": {
     "name": "#%%\n"
    }
   },
   "outputs": [],
   "source": [
    "# 加载数据\n",
    "df = pd.read_csv('data/DQC00-1d.txt',\n",
    "                 sep=',',\n",
    "                 nrows=5000,\n",
    "                 index_col=['datetime'],  # 设置行索引\n",
    "                 parse_dates=['datetime'],  # 解析时间 20100104130500.0\n",
    "                 date_parser=lambda x: pd.to_datetime(x, format='%Y%m%d%H%M%S.%f'),  # 时间解析的格式，进行毫秒级数据解析\n",
    "                 usecols=['datetime', 'open', 'high', 'low', 'close', 'volume'],  # 设置需要用到的列\n",
    "                 encoding='utf-8',\n",
    "                 float_precision='round_trip',  # 所有数据会当做string读取, 使用时再进行相应的转换为float\n",
    "                 )\n",
    "# pd.reset_option('display.float_format')  # 重置\n",
    "pd.set_option('precision', 2)  # 显示小数点后的位数\n",
    "pd.set_option('display.max_rows', 300)  # 控制显示的最大行数\n",
    "pd.set_option('display.min_rows', 20)  # 确定显示的部分有多少行\n",
    "# pd.set_option('display.float_format',  '{:,.2f}'.format) # 数字格式化显示 用逗号格式化大值数字 设置数字精度\n",
    "# 指定列名设置计算精确度，未指定的保持原样\n",
    "df.round({'open': 0, 'high': 0, 'low': 0, 'close': 0})\n",
    "# 统一保持1位小数\n",
    "df.round(0)\n",
    "# 设置np输出精度\n",
    "#设定numpy显示浮点数精度的小数位数,不使用科学记数法\n",
    "np.set_printoptions(precision=2, suppress=True)"
   ]
  },
  {
   "cell_type": "code",
   "execution_count": 508,
   "metadata": {
    "pycharm": {
     "name": "#%%\n"
    }
   },
   "outputs": [
    {
     "name": "stdout",
     "output_type": "stream",
     "text": [
      "open      float64\n",
      "high      float64\n",
      "low       float64\n",
      "close     float64\n",
      "volume    float64\n",
      "dtype: object\n"
     ]
    },
    {
     "data": {
      "text/plain": "               open     high      low    close   volume\ndatetime                                               \n2004-09-22  1143.23  1147.88  1106.05  1106.98  77908.0\n2004-09-23  1097.68  1099.54  1089.32  1093.04  37196.0\n2004-09-24  1082.81  1101.40  1082.81  1095.83  29367.0\n2004-09-27  1092.11  1100.47  1075.38  1076.31  17336.0\n2004-09-28  1077.24  1088.39  1077.24  1082.81  26681.0",
      "text/html": "<div>\n<style scoped>\n    .dataframe tbody tr th:only-of-type {\n        vertical-align: middle;\n    }\n\n    .dataframe tbody tr th {\n        vertical-align: top;\n    }\n\n    .dataframe thead th {\n        text-align: right;\n    }\n</style>\n<table border=\"1\" class=\"dataframe\">\n  <thead>\n    <tr style=\"text-align: right;\">\n      <th></th>\n      <th>open</th>\n      <th>high</th>\n      <th>low</th>\n      <th>close</th>\n      <th>volume</th>\n    </tr>\n    <tr>\n      <th>datetime</th>\n      <th></th>\n      <th></th>\n      <th></th>\n      <th></th>\n      <th></th>\n    </tr>\n  </thead>\n  <tbody>\n    <tr>\n      <th>2004-09-22</th>\n      <td>1143.23</td>\n      <td>1147.88</td>\n      <td>1106.05</td>\n      <td>1106.98</td>\n      <td>77908.0</td>\n    </tr>\n    <tr>\n      <th>2004-09-23</th>\n      <td>1097.68</td>\n      <td>1099.54</td>\n      <td>1089.32</td>\n      <td>1093.04</td>\n      <td>37196.0</td>\n    </tr>\n    <tr>\n      <th>2004-09-24</th>\n      <td>1082.81</td>\n      <td>1101.40</td>\n      <td>1082.81</td>\n      <td>1095.83</td>\n      <td>29367.0</td>\n    </tr>\n    <tr>\n      <th>2004-09-27</th>\n      <td>1092.11</td>\n      <td>1100.47</td>\n      <td>1075.38</td>\n      <td>1076.31</td>\n      <td>17336.0</td>\n    </tr>\n    <tr>\n      <th>2004-09-28</th>\n      <td>1077.24</td>\n      <td>1088.39</td>\n      <td>1077.24</td>\n      <td>1082.81</td>\n      <td>26681.0</td>\n    </tr>\n  </tbody>\n</table>\n</div>"
     },
     "execution_count": 508,
     "metadata": {},
     "output_type": "execute_result"
    }
   ],
   "source": [
    "print(df.dtypes)\n",
    "df.head()"
   ]
  },
  {
   "cell_type": "code",
   "execution_count": 508,
   "metadata": {
    "pycharm": {
     "name": "#%%\n"
    }
   },
   "outputs": [],
   "source": []
  },
  {
   "cell_type": "code",
   "execution_count": 509,
   "metadata": {
    "pycharm": {
     "name": "#%%\n"
    }
   },
   "outputs": [
    {
     "name": "stdout",
     "output_type": "stream",
     "text": [
      "open      False\n",
      "high      False\n",
      "low       False\n",
      "close     False\n",
      "volume    False\n",
      "dtype: bool\n",
      "open      False\n",
      "high      False\n",
      "low       False\n",
      "close     False\n",
      "volume    False\n",
      "dtype: bool\n",
      "open      0\n",
      "high      0\n",
      "low       0\n",
      "close     0\n",
      "volume    0\n",
      "dtype: int64\n"
     ]
    }
   ],
   "source": [
    "# 2.1 缺失值处理\n",
    "\n",
    "# 检查数据中是否有缺失值，以下两种方式均可\n",
    "#Flase:对应特征的特征值中无缺失值\n",
    "#True：有缺失值\n",
    "print(df.isnull().any())\n",
    "print(np.isnan(df).any())\n",
    "#返回每一列缺失值统计个数\n",
    "print(df.isnull().sum())"
   ]
  },
  {
   "cell_type": "code",
   "execution_count": 510,
   "metadata": {
    "pycharm": {
     "name": "#%%\n"
    }
   },
   "outputs": [
    {
     "data": {
      "text/plain": "open      0\nhigh      0\nlow       0\nclose     0\nvolume    0\ndtype: int64"
     },
     "execution_count": 510,
     "metadata": {},
     "output_type": "execute_result"
    }
   ],
   "source": [
    "#缺失值处理，以下两种方式均可\n",
    "#删除包含缺失值的行\n",
    "df.dropna(inplace=True)\n",
    "#缺失值填充\n",
    "# df.fillna('100')\n",
    "\n",
    "#返回每一列缺失值统计个数\n",
    "df.isnull().sum()"
   ]
  },
  {
   "cell_type": "code",
   "execution_count": 511,
   "metadata": {
    "pycharm": {
     "name": "#%%\n"
    }
   },
   "outputs": [
    {
     "name": "stdout",
     "output_type": "stream",
     "text": [
      "               open     high      low    close    volume\n",
      "datetime                                                \n",
      "2021-01-04  2664.50  2687.72  2650.96  2655.80  633210.0\n",
      "2021-01-05  2654.83  2686.75  2654.83  2678.04  472285.0\n",
      "2021-01-06  2683.85  2706.09  2679.01  2694.49  481959.0\n",
      "<class 'numpy.ndarray'> (213, 3) 2\n",
      "[[2664.5  2687.72 2650.96]\n",
      " [2654.83 2686.75 2654.83]\n",
      " [2683.85 2706.09 2679.01]]\n"
     ]
    }
   ],
   "source": [
    "# 截取时间段内样本数据\n",
    "df = df[\"2021-01-01\":]\n",
    "print(df[:3])\n",
    "# 2.2 确定特征值 目标值\n",
    "# 特征值取开盘价和收盘价的差值\n",
    "# X = (df[['open']]).values\n",
    "X: Union[ndarray, ndarray] = (df[['open', 'high', 'low']]).values\n",
    "print(type(X), X.shape, X.ndim)\n",
    "\n",
    "print(X[:3, ])"
   ]
  },
  {
   "cell_type": "code",
   "execution_count": 511,
   "outputs": [],
   "source": [],
   "metadata": {
    "collapsed": false,
    "pycharm": {
     "name": "#%%\n"
    }
   }
  },
  {
   "cell_type": "code",
   "execution_count": 512,
   "metadata": {
    "pycharm": {
     "name": "#%%\n"
    }
   },
   "outputs": [
    {
     "name": "stdout",
     "output_type": "stream",
     "text": [
      "(213,)\n",
      "1\n",
      "[2655.8  2678.04 2694.49]\n"
     ]
    }
   ],
   "source": [
    "# 目标值取开盘价和收盘价的差值\n",
    "# y = df.iloc[:, -2:-1].values.ravel()\n",
    "Y = (df['close']).values\n",
    "print(Y.shape)\n",
    "print(Y.ndim)\n",
    "print(Y[:3])\n"
   ]
  },
  {
   "cell_type": "code",
   "execution_count": 513,
   "metadata": {
    "pycharm": {
     "name": "#%%\n"
    }
   },
   "outputs": [],
   "source": [
    "#将数据划分为训练集和验证集\n",
    "from sklearn.model_selection import train_test_split\n",
    "\n",
    "x_train, x_test, y_train, y_test = train_test_split(\n",
    "    X, Y.reshape(-1, 1),\n",
    "    random_state=1,  #如果为整形数字,则数据随机打乱顺序固定, 如果为random_state=None,则每次数据打乱顺序都不一样\n",
    "    test_size=0.50,  #测试集50%样本数量\n",
    "    shuffle=True,  #default=True 切分前是否对数据进行打乱。\n",
    ")\n"
   ]
  },
  {
   "cell_type": "code",
   "execution_count": 514,
   "metadata": {
    "pycharm": {
     "name": "#%%\n"
    }
   },
   "outputs": [
    {
     "name": "stdout",
     "output_type": "stream",
     "text": [
      "(106, 3) (106, 1) 2\n",
      "(107, 3) (107, 1) 2\n"
     ]
    },
    {
     "data": {
      "text/plain": "array([[2636.56, 2657.32, 2634.59, 2638.54],\n       [2568.  , 2591.  , 2567.  , 2569.  ],\n       [2705.74, 2707.72, 2642.49, 2650.4 ]])"
     },
     "execution_count": 514,
     "metadata": {},
     "output_type": "execute_result"
    }
   ],
   "source": [
    "print(x_train.shape, y_train.shape, y_train.ndim)\n",
    "print(x_test.shape, y_test.shape, y_test.ndim)\n",
    "np.hstack((x_test, y_test))[:3]"
   ]
  },
  {
   "cell_type": "code",
   "execution_count": 515,
   "metadata": {
    "pycharm": {
     "name": "#%%\n"
    }
   },
   "outputs": [],
   "source": [
    "## 混淆测试集目标类别的 指定概率50%的错误\n",
    "err = x_train\n",
    "for i in range(int(len(err) * 0.0)):\n",
    "    index = int(np.random.randint(len(err)))\n",
    "    # index2 = int(np.random.randint(len(err)))\n",
    "    # err[index,0], err[index,3] = err[index,3], err[index,0]\n",
    "    err[index] = 0"
   ]
  },
  {
   "cell_type": "code",
   "execution_count": 515,
   "metadata": {
    "pycharm": {
     "name": "#%%\n"
    }
   },
   "outputs": [],
   "source": []
  },
  {
   "cell_type": "code",
   "execution_count": 516,
   "metadata": {
    "pycharm": {
     "name": "#%%\n"
    }
   },
   "outputs": [],
   "source": [
    "# 3. 特征工程（标准化）\n",
    "from sklearn.preprocessing import StandardScaler\n",
    "\n",
    "standardScaler = StandardScaler()\n",
    "\n",
    "x_train_stand = standardScaler.fit_transform(x_train)\n",
    "x_test_stand = standardScaler.transform(x_test)\n",
    "\n",
    "y_train_stand = standardScaler.fit_transform(y_train)\n",
    "y_test_stand = standardScaler.transform(y_test)"
   ]
  },
  {
   "cell_type": "code",
   "execution_count": 517,
   "metadata": {
    "pycharm": {
     "name": "#%%\n"
    }
   },
   "outputs": [
    {
     "name": "stdout",
     "output_type": "stream",
     "text": [
      "(106, 3)\n",
      "2\n",
      "(106, 1)\n",
      "2\n",
      "[[2564.   2576.   2551.  ]\n",
      " [2627.75 2631.62 2581.33]\n",
      " [2592.09 2609.88 2590.12]\n",
      " [2657.32 2680.05 2647.43]\n",
      " [2693.52 2705.12 2669.34]\n",
      " [2457.   2462.   2436.  ]\n",
      " [2627.   2639.   2605.  ]\n",
      " [2491.   2497.   2458.  ]\n",
      " [2531.81 2554.54 2526.87]\n",
      " [2600.   2600.   2544.66]]\n",
      "[2564.   2627.75 2592.09 2657.32 2693.52 2457.   2627.   2491.   2531.81\n",
      " 2600.  ]\n"
     ]
    }
   ],
   "source": [
    "print(x_train.shape)\n",
    "print(x_train.ndim)\n",
    "print(y_train.shape)\n",
    "print(y_train.ndim)\n",
    "print(x_train[:10])\n",
    "print(x_train[:10, 0])"
   ]
  },
  {
   "cell_type": "code",
   "execution_count": 518,
   "metadata": {
    "pycharm": {
     "name": "#%%\n"
    }
   },
   "outputs": [],
   "source": [
    "#画图观察\n",
    "# fig, ax = plt.subplots()\n",
    "# ax.scatter(y_test_stand, x_test_stand)\n",
    "# ax.plot([y_test_stand.min(), y_test_stand.max()], [y_test_stand.min(), y_test_stand.max()], 'k--', lw=2)\n",
    "# ax.set_xlabel('Measured')\n",
    "# ax.set_ylabel('Predicted')\n",
    "# plt.show()"
   ]
  },
  {
   "cell_type": "code",
   "execution_count": 519,
   "metadata": {
    "pycharm": {
     "name": "#%%\n"
    }
   },
   "outputs": [
    {
     "data": {
      "text/plain": "((106, 3), (107, 3))"
     },
     "execution_count": 519,
     "metadata": {},
     "output_type": "execute_result"
    }
   ],
   "source": [
    "epsilon = 0.2\n",
    "c = 1.0\n",
    "# 拟合回归模型\n",
    "svr_lin = SVR(kernel='linear', C=c, gamma='scale', epsilon=epsilon)\n",
    "svr_rbf = SVR(kernel='rbf', C=c, gamma='scale', epsilon=epsilon)\n",
    "svr_poly = SVR(kernel='poly', C=c, gamma='scale', epsilon=epsilon,\n",
    "               degree=3,  #默认=3 多项式核函数的次数(' poly ')。将会被其他内核忽略。\n",
    "               coef0=0.1,  #默认=0.0 核函数中的独立项。它只在' poly '和' sigmoid '中有意义\n",
    "               )\n",
    "\n",
    "x_train.shape, x_test.shape\n",
    "# np.vstack((x_train,x_test)).shape"
   ]
  },
  {
   "cell_type": "code",
   "execution_count": 520,
   "metadata": {
    "pycharm": {
     "name": "#%%\n"
    }
   },
   "outputs": [
    {
     "name": "stdout",
     "output_type": "stream",
     "text": [
      "0 linear svcs: SVR(epsilon=0.2, kernel='linear')\n",
      "sv: (12, 2) epsilon:0.2 = [[18.82]] sv_e_sum:[[451.61]] sv_mean: [[2625.27 2607.21]]\n",
      "epsilon mean: -2.79 abs mean: 10.43 std: 12.91 max: 36.56 min: 0.32\n",
      "sv统计 mean: 2616.24 std: 91.51 max: 2769.04 min: 2440.27 sum: 62789.75 e_sum: [[49230.36]]\n",
      "std与误差范围占比%: 0.36  var方差: 166.77\n",
      "std与误差范围占比%: 0.28\n",
      "训练集评分: 0.9839914161294612 \n",
      "测试集评分: 0.9773424795780202 \n",
      "\n",
      "1 rbf svcs: SVR(epsilon=0.2)\n",
      "sv: (18, 2) epsilon:0.2 = [[18.82]] sv_e_sum:[[677.42]] sv_mean: [[2626.46 2606.46]]\n",
      "epsilon mean: -3.84 abs mean: 11.64 std: 14.4 max: 44.32 min: 0.27\n",
      "sv统计 mean: 2616.46 std: 119.12 max: 2823.91 min: 2423.2 sum: 94192.48 e_sum: [[49234.47]]\n",
      "std与误差范围占比%: 0.33  var方差: 207.4\n",
      "std与误差范围占比%: 0.3\n",
      "训练集评分: 0.9779293449566842 \n",
      "测试集评分: 0.971166591332325 \n",
      "\n"
     ]
    },
    {
     "data": {
      "text/plain": "<Figure size 864x288 with 2 Axes>",
      "image/png": "[encoded data removed]"
     },
     "metadata": {},
     "output_type": "display_data"
    }
   ],
   "source": [
    "plt.figure(figsize=(12, 4))\n",
    "xx = np.vstack((x_train_stand[:, ], x_test_stand[:, ]))\n",
    "yy = np.vstack((y_train_stand, y_test_stand))\n",
    "x_min, x_max = xx.min() - 0.5, xx.max() + 0.5\n",
    "y_min, y_max = yy.min() - 0.5, yy.max() + 0.5\n",
    "\n",
    "svrs = [svr_lin, svr_rbf, svr_poly]\n",
    "kernel_label = [\"linear\", \"rbf\", \"poly\"]\n",
    "for ix, svr in enumerate(svrs[:-1]):\n",
    "    fit = svr.fit(x_train_stand, y_train_stand.ravel())\n",
    "    # 获取预测值\n",
    "    y_test_pred = fit.predict(x_test_stand)\n",
    "    # 显示估计器\n",
    "    print(ix,\n",
    "          svr.kernel,\n",
    "          'svcs:',svrs[ix])\n",
    "    # # 获取这个估计器的参数\n",
    "    # svr_params = svr.get_params()\n",
    "    # print(f'估计器参数: kernel=%s, C=%s, epsilon=%s' % (\n",
    "    #     svr_params.get('kernel'), svr_params.get('C'), svr_params.get('epsilon')))\n",
    "\n",
    "    epsilon_1 = standardScaler.inverse_transform(np.array([[fit.epsilon], ]))  #转换误差单位\n",
    "    epsilon_0 = standardScaler.inverse_transform(np.array([[0.00], ]))\n",
    "    epsilon_i = (epsilon_1 - epsilon_0)  #目标误差值\n",
    "    support_vectors_ = standardScaler.inverse_transform(\n",
    "        fit.support_vectors_ - np.mean(fit.support_vectors_, axis=0).reshape(1, -1))\n",
    "    support_vectors_ = np.hstack((np.amax(abs(support_vectors_), axis=1).reshape(-1, 1),\n",
    "                                  np.amin(abs(support_vectors_), axis=1).reshape(-1, 1)))  #由每一行中最大和最小值的sv构成的新的sv数组\n",
    "    sv = support_vectors_.shape  #支持向量\n",
    "    sv_e_sum = (sv[0] * sv[1]) * epsilon_i  #所有支持向量的误差和\n",
    "    sv_mean = np.mean(support_vectors_, axis=0).reshape(1, -1)  #svm平均值\n",
    "    print('sv:', sv,  #支持向量维度\n",
    "          'epsilon:%s = %s' % (fit.epsilon, epsilon_i),  #误差值\n",
    "          'sv_e_sum:%s' % sv_e_sum,\n",
    "          'sv_mean:', sv_mean,  #sv平均值,\n",
    "          )\n",
    "    y_test_pred_ = standardScaler.inverse_transform(y_test_pred.reshape(-1, 1))\n",
    "    y_test_ = standardScaler.inverse_transform(y_test_stand.reshape(-1, 1))\n",
    "    y_test_d = (y_test_ - y_test_pred_)  #epsilon误差\n",
    "    y_test_d_max, y_test_d_min = abs(y_test_d).max(), abs(y_test_d).min()  #误差最大值和最小值\n",
    "    print('epsilon mean:', np.mean(y_test_d).round(2),  #epsilon误差平均值\n",
    "          'abs mean:', np.mean(abs(y_test_d)).round(2),  #epsilon误差平均值\n",
    "          'std:', np.std(y_test_d).round(2),  #标准差\n",
    "          'max:', y_test_d_max.round(2),\n",
    "          'min:', y_test_d_min.round(2),\n",
    "          )\n",
    "\n",
    "    support_vectors_d = support_vectors_  #svm\n",
    "    support_vectors_d_max, support_vectors_d_min = abs(support_vectors_d).max(), abs(\n",
    "        support_vectors_d).min()  #svm最大值和最小值\n",
    "\n",
    "    svm_mean_e_sum = np.mean(abs(support_vectors_d)) * epsilon_i  #svm误差和\n",
    "\n",
    "    print('sv统计 mean:', np.mean(abs(support_vectors_d)).round(2),  #平均值\n",
    "          'std:', np.std(support_vectors_d).round(2),  #标准差\n",
    "          'max:', support_vectors_d_max.round(2),\n",
    "          'min:', support_vectors_d_min.round(2),\n",
    "          'sum:', abs(support_vectors_d).sum().round(2),\n",
    "          'e_sum:', svm_mean_e_sum\n",
    "          )\n",
    "    print(\"std与误差范围占比%:\", (np.std(y_test_d) / (y_test_d_max - y_test_d_min)).round(2),  #标准差std与误差范围占比%\n",
    "          ' var方差:', np.var(y_test_d).round(2))\n",
    "    print('std与误差范围占比%:',\n",
    "          (np.std(support_vectors_d) / (support_vectors_d_max - support_vectors_d_min)).round(2))  #标准差std与误差范围占比%\n",
    "\n",
    "    # https://blog.csdn.net/gracejpw/article/details/101546293\n",
    "    # 返回预测的决定系数R^2\n",
    "    # R^2越接近于1，模型的拟合优度越高。\n",
    "    print(f'训练集评分: %s ' % (fit.score(x_train_stand, y_train_stand)))\n",
    "    print(f'测试集评分: %s ' % (svr.score(x_test_stand, y_test_stand)))\n",
    "    print()\n",
    "    plt.subplot(1, 3, ix + 1)\n",
    "    interval = abs(support_vectors_ - epsilon_0)\n",
    "    plt.hist(interval, bins=50)\n",
    "    plt.title(r'$%s %s \\epsilon = %s$' % (fit.kernel, fit.support_vectors_.shape, fit.epsilon))\n",
    "\n",
    "plt.show()\n",
    "# plt.savefig(r'./file/02_svm_svr.png', dpi=200)\n",
    "\n"
   ]
  },
  {
   "cell_type": "code",
   "execution_count": 521,
   "metadata": {
    "pycharm": {
     "name": "#%%\n"
    }
   },
   "outputs": [
    {
     "name": "stdout",
     "output_type": "stream",
     "text": [
      "sv: linear (12, 3)\n",
      "epsilon:0.2 = [[18.82]]\n",
      "epsilon mean平均值: 10.43\n",
      "epsilon std标准差: 12.91\n",
      "epsilon std标准差: 12.91\n",
      "epsilon var方差: 166.77\n",
      "svm mean平均值 89.28\n",
      "svm std标准差 92.4\n",
      "#查看切分后的数据与切分前的数据是否一致 [[2461.   2461.   2777.66]\n",
      " [2773.79 2773.79 2676.11]\n",
      " [2717.7  2717.7  2685.78]\n",
      " [2679.98 2679.98 2629.69]\n",
      " [2736.37 2736.37 2544.58]]\n",
      "#查看训练集的sv支持向量(12, 3) [[2491.   2497.   2458.   2491.71 2483.03 2473.34]\n",
      " [2746.71 2780.56 2714.8  2749.09 2758.9  2738.29]\n",
      " [2700.29 2722.53 2677.08 2702.36 2702.44 2699.38]\n",
      " [2727.37 2728.34 2677.08 2729.62 2708.09 2699.38]\n",
      " [2731.43 2739.34 2697.83 2733.71 2718.79 2720.79]\n",
      " [2557.51 2585.18 2525.88 2558.65 2568.81 2543.38]\n",
      " [2777.66 2833.76 2771.86 2780.24 2810.65 2797.17]\n",
      " [2650.4  2678.07 2627.67 2652.15 2659.18 2648.4 ]\n",
      " [2624.85 2686.75 2624.85 2626.43 2667.63 2645.49]\n",
      " [2725.43 2736.07 2659.67 2727.67 2715.61 2681.41]]\n",
      "查看预测值与目标值的差值 [[2636.56 2657.32 2634.59   11.38   -9.38   13.35    1.98  -18.78    3.95\n",
      "    -9.4 ]\n",
      " [2568.   2591.   2567.     14.93   -8.07   15.93    1.    -22.      2.\n",
      "   -13.93]\n",
      " [2705.74 2707.72 2642.49  -34.72  -36.7    28.52  -55.34  -57.32    7.91\n",
      "   -20.62]\n",
      " [2650.4  2664.23 2634.59   -0.4   -14.23   15.41  -13.84  -27.67    1.98\n",
      "   -13.44]\n",
      " [2635.49 2637.42 2623.88   -3.93   -5.86    7.68   -5.8    -7.74    5.8\n",
      "    -1.88]]\n"
     ]
    },
    {
     "data": {
      "text/plain": "<Figure size 432x288 with 1 Axes>",
      "image/png": "[encoded data removed]"
     },
     "metadata": {},
     "output_type": "display_data"
    }
   ],
   "source": [
    "svrs = [svr_rbf, svr_lin, svr_poly]\n",
    "\n",
    "fit = svrs[1]\n",
    "\n",
    "print('sv:', fit.kernel, fit.support_vectors_.shape)\n",
    "epsilon_1 = standardScaler.inverse_transform(np.array([[fit.epsilon], ]))\n",
    "epsilon_0 = standardScaler.inverse_transform(np.array([[0.00], ]))\n",
    "print('epsilon:%s = %s' % (fit.epsilon, epsilon_1 - epsilon_0))\n",
    "\n",
    "y_test_pred = fit.predict(x_test_stand)\n",
    "y_test_pred_ = standardScaler.inverse_transform(y_test_pred.reshape(-1, 1))\n",
    "y_test_ = standardScaler.inverse_transform(y_test_stand.reshape(-1, 1))\n",
    "print('epsilon mean平均值:', np.mean(abs((y_test_ - y_test_pred_))).round(2))\n",
    "print('epsilon std标准差:', np.std((y_test_ - y_test_pred_)).round(2))\n",
    "print('epsilon std标准差:', np.std((y_test_ - y_test_pred_)).round(2))\n",
    "print('epsilon var方差:', np.var((y_test_ - y_test_pred_)).round(2))\n",
    "support_vectors_ = standardScaler.inverse_transform(fit.support_vectors_)\n",
    "print('svm mean平均值', np.mean(abs(support_vectors_ - epsilon_0)).round(2))\n",
    "print('svm std标准差', np.std((support_vectors_ - epsilon_0)).round(2))\n",
    "\n",
    "y_train_ = standardScaler.inverse_transform(y_train_stand.reshape(-1, 1))\n",
    "print('#查看切分后的数据与切分前的数据是否一致', (np.hstack(((y_train[fit.support_]), (y_train_[fit.support_]),\n",
    "                                          (Y[:len(y_train)][fit.support_].reshape(-1, 1)))))[:5])\n",
    "print('#查看训练集的sv支持向量%s %s' % (\n",
    "    fit.support_vectors_.shape, np.hstack(((x_train[fit.support_]), support_vectors_))[:10]))\n",
    "\n",
    "print('查看预测值与目标值的差值', (np.hstack((x_test, (y_test_pred_ - x_test), (y_test_ - x_test), (y_test - y_test_pred_)))[:5]))\n",
    "\n",
    "interval = abs(support_vectors_ - epsilon_0)\n",
    "plt.hist(interval, bins=50)\n",
    "plt.title(r'$%s\\ sv%s\\ \\epsilon = %s$' % (fit.kernel, fit.support_vectors_.shape, fit.epsilon))\n",
    "plt.show()"
   ]
  },
  {
   "cell_type": "code",
   "execution_count": 521,
   "metadata": {
    "pycharm": {
     "name": "#%%\n"
    }
   },
   "outputs": [],
   "source": []
  },
  {
   "cell_type": "code",
   "execution_count": 521,
   "metadata": {
    "pycharm": {
     "name": "#%%\n"
    }
   },
   "outputs": [],
   "source": []
  },
  {
   "cell_type": "code",
   "execution_count": 522,
   "metadata": {
    "pycharm": {
     "name": "#%%\n"
    }
   },
   "outputs": [
    {
     "name": "stdout",
     "output_type": "stream",
     "text": [
      "epsilon_0 [[2616.61]]\n",
      "#查看训练集的支持向量(12, 3) [[2491.   2497.   2458.   2491.71 2483.03 2473.34]\n",
      " [2746.71 2780.56 2714.8  2749.09 2758.9  2738.29]\n",
      " [2700.29 2722.53 2677.08 2702.36 2702.44 2699.38]\n",
      " [2727.37 2728.34 2677.08 2729.62 2708.09 2699.38]\n",
      " [2731.43 2739.34 2697.83 2733.71 2718.79 2720.79]\n",
      " [2557.51 2585.18 2525.88 2558.65 2568.81 2543.38]\n",
      " [2777.66 2833.76 2771.86 2780.24 2810.65 2797.17]\n",
      " [2650.4  2678.07 2627.67 2652.15 2659.18 2648.4 ]\n",
      " [2624.85 2686.75 2624.85 2626.43 2667.63 2645.49]\n",
      " [2725.43 2736.07 2659.67 2727.67 2715.61 2681.41]\n",
      " [2587.15 2587.15 2541.7  2588.49 2570.74 2559.69]\n",
      " [2541.7  2564.42 2513.04 2542.73 2548.62 2530.12]]\n"
     ]
    }
   ],
   "source": [
    "print('epsilon_0', epsilon_0)\n",
    "print('#查看训练集的支持向量%s %s' % (fit.support_vectors_.shape, np.hstack(((x_train[fit.support_]), support_vectors_))[:]))"
   ]
  },
  {
   "cell_type": "code",
   "execution_count": 523,
   "metadata": {
    "pycharm": {
     "name": "#%%\n"
    }
   },
   "outputs": [
    {
     "name": "stdout",
     "output_type": "stream",
     "text": [
      "support_支持向量的下标 (12,)\n",
      "support_vectors_支持向量 (12, 3)\n",
      "n_support_每个类别的支持向量数量 [12]\n",
      "dual_coef_决策函数中支持向量的系数 (1, 12)\n",
      "intercept_决策函数中的常量 [0.01]\n"
     ]
    }
   ],
   "source": [
    "# fit = svr_rbf\n",
    "print('support_支持向量的下标', fit.support_.shape)\n",
    "print('support_vectors_支持向量', fit.support_vectors_.shape)\n",
    "print('n_support_每个类别的支持向量数量', fit.n_support_)\n",
    "print('dual_coef_决策函数中支持向量的系数', fit.dual_coef_.shape)\n",
    "print('intercept_决策函数中的常量', fit.intercept_)"
   ]
  },
  {
   "cell_type": "code",
   "execution_count": 523,
   "metadata": {
    "pycharm": {
     "name": "#%%\n"
    }
   },
   "outputs": [],
   "source": []
  },
  {
   "cell_type": "code",
   "execution_count": 523,
   "metadata": {
    "pycharm": {
     "name": "#%%\n"
    }
   },
   "outputs": [],
   "source": []
  }
 ],
 "metadata": {
  "kernelspec": {
   "display_name": "py39",
   "language": "python",
   "name": "py39"
  },
  "language_info": {
   "codemirror_mode": {
    "name": "ipython",
    "version": 3
   },
   "file_extension": ".py",
   "mimetype": "text/x-python",
   "name": "python",
   "nbconvert_exporter": "python",
   "pygments_lexer": "ipython3",
   "version": "3.9.7"
  },
  "toc": {
   "base_numbering": 1,
   "nav_menu": {},
   "number_sections": true,
   "sideBar": true,
   "skip_h1_title": false,
   "title_cell": "Table of Contents",
   "title_sidebar": "Contents",
   "toc_cell": false,
   "toc_position": {},
   "toc_section_display": true,
   "toc_window_display": false
  }
 },
 "nbformat": 4,
 "nbformat_minor": 1
}