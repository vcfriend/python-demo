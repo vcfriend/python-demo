{
 "cells": [
  {
   "cell_type": "code",
   "execution_count": 41,
   "metadata": {
    "collapsed": true
   },
   "outputs": [],
   "source": [
    "# coding=utf8\n",
    "\n",
    "import pandas as pd\n",
    "import numpy as np\n",
    "from sklearn.svm import SVR\n",
    "import matplotlib.pyplot as plt\n",
    "\n",
    "# plt.style.use(plt.style.available[0])"
   ]
  },
  {
   "cell_type": "code",
   "execution_count": 42,
   "metadata": {
    "pycharm": {
     "name": "#%%\n"
    }
   },
   "outputs": [],
   "source": [
    "# 加载数据\n",
    "df = pd.read_csv('data/DQC00-1d.txt',\n",
    "                 sep=',',\n",
    "                 nrows=5000,\n",
    "                 index_col=['datetime'],  # 设置行索引\n",
    "                 parse_dates=['datetime'],  # 解析时间 20100104130500.0\n",
    "                 date_parser=lambda x: pd.to_datetime(x, format='%Y%m%d%H%M%S.%f'),  # 时间解析的格式，进行毫秒级数据解析\n",
    "                 usecols=['datetime', 'open', 'high', 'low', 'close', 'volume'],  # 设置需要用到的列\n",
    "                 encoding='utf-8',\n",
    "                 float_precision='round_trip',  # 所有数据会当做string读取, 使用时再进行相应的转换为float\n",
    "                 )\n",
    "# pd.reset_option('display.float_format')  # 重置\n",
    "pd.set_option('precision', 2)  # 显示小数点后的位数\n",
    "pd.set_option('display.max_rows', 300)  # 控制显示的最大行数\n",
    "pd.set_option('display.min_rows', 20)  # 确定显示的部分有多少行\n",
    "# pd.set_option('display.float_format',  '{:,.2f}'.format) # 数字格式化显示 用逗号格式化大值数字 设置数字精度\n",
    "# 指定列名设置计算精确度，未指定的保持原样\n",
    "df.round({'open': 0, 'high': 0, 'low': 0, 'close': 0})\n",
    "# 统一保持1位小数\n",
    "df.round(0)\n",
    "# 设置np输出精度\n",
    "#设定numpy显示浮点数精度的小数位数,不使用科学记数法\n",
    "np.set_printoptions(precision=2, suppress=True)"
   ]
  },
  {
   "cell_type": "code",
   "execution_count": 43,
   "metadata": {
    "pycharm": {
     "name": "#%%\n"
    }
   },
   "outputs": [
    {
     "name": "stdout",
     "output_type": "stream",
     "text": [
      "open      float64\n",
      "high      float64\n",
      "low       float64\n",
      "close     float64\n",
      "volume    float64\n",
      "dtype: object\n"
     ]
    },
    {
     "data": {
      "text/html": [
       "<div>\n",
       "<style scoped>\n",
       "    .dataframe tbody tr th:only-of-type {\n",
       "        vertical-align: middle;\n",
       "    }\n",
       "\n",
       "    .dataframe tbody tr th {\n",
       "        vertical-align: top;\n",
       "    }\n",
       "\n",
       "    .dataframe thead th {\n",
       "        text-align: right;\n",
       "    }\n",
       "</style>\n",
       "<table border=\"1\" class=\"dataframe\">\n",
       "  <thead>\n",
       "    <tr style=\"text-align: right;\">\n",
       "      <th></th>\n",
       "      <th>open</th>\n",
       "      <th>high</th>\n",
       "      <th>low</th>\n",
       "      <th>close</th>\n",
       "      <th>volume</th>\n",
       "    </tr>\n",
       "    <tr>\n",
       "      <th>datetime</th>\n",
       "      <th></th>\n",
       "      <th></th>\n",
       "      <th></th>\n",
       "      <th></th>\n",
       "      <th></th>\n",
       "    </tr>\n",
       "  </thead>\n",
       "  <tbody>\n",
       "    <tr>\n",
       "      <th>2004-09-22</th>\n",
       "      <td>1143.23</td>\n",
       "      <td>1147.88</td>\n",
       "      <td>1106.05</td>\n",
       "      <td>1106.98</td>\n",
       "      <td>77908.0</td>\n",
       "    </tr>\n",
       "    <tr>\n",
       "      <th>2004-09-23</th>\n",
       "      <td>1097.68</td>\n",
       "      <td>1099.54</td>\n",
       "      <td>1089.32</td>\n",
       "      <td>1093.04</td>\n",
       "      <td>37196.0</td>\n",
       "    </tr>\n",
       "    <tr>\n",
       "      <th>2004-09-24</th>\n",
       "      <td>1082.81</td>\n",
       "      <td>1101.40</td>\n",
       "      <td>1082.81</td>\n",
       "      <td>1095.83</td>\n",
       "      <td>29367.0</td>\n",
       "    </tr>\n",
       "    <tr>\n",
       "      <th>2004-09-27</th>\n",
       "      <td>1092.11</td>\n",
       "      <td>1100.47</td>\n",
       "      <td>1075.38</td>\n",
       "      <td>1076.31</td>\n",
       "      <td>17336.0</td>\n",
       "    </tr>\n",
       "    <tr>\n",
       "      <th>2004-09-28</th>\n",
       "      <td>1077.24</td>\n",
       "      <td>1088.39</td>\n",
       "      <td>1077.24</td>\n",
       "      <td>1082.81</td>\n",
       "      <td>26681.0</td>\n",
       "    </tr>\n",
       "  </tbody>\n",
       "</table>\n",
       "</div>"
      ],
      "text/plain": [
       "               open     high      low    close   volume\n",
       "datetime                                               \n",
       "2004-09-22  1143.23  1147.88  1106.05  1106.98  77908.0\n",
       "2004-09-23  1097.68  1099.54  1089.32  1093.04  37196.0\n",
       "2004-09-24  1082.81  1101.40  1082.81  1095.83  29367.0\n",
       "2004-09-27  1092.11  1100.47  1075.38  1076.31  17336.0\n",
       "2004-09-28  1077.24  1088.39  1077.24  1082.81  26681.0"
      ]
     },
     "execution_count": 43,
     "metadata": {},
     "output_type": "execute_result"
    }
   ],
   "source": [
    "print(df.dtypes)\n",
    "df.head()"
   ]
  },
  {
   "cell_type": "code",
   "execution_count": 43,
   "metadata": {
    "pycharm": {
     "name": "#%%\n"
    }
   },
   "outputs": [],
   "source": []
  },
  {
   "cell_type": "code",
   "execution_count": 44,
   "metadata": {
    "pycharm": {
     "name": "#%%\n"
    }
   },
   "outputs": [
    {
     "name": "stdout",
     "output_type": "stream",
     "text": [
      "open      False\n",
      "high      False\n",
      "low       False\n",
      "close     False\n",
      "volume    False\n",
      "dtype: bool\n",
      "open      False\n",
      "high      False\n",
      "low       False\n",
      "close     False\n",
      "volume    False\n",
      "dtype: bool\n",
      "open      0\n",
      "high      0\n",
      "low       0\n",
      "close     0\n",
      "volume    0\n",
      "dtype: int64\n"
     ]
    }
   ],
   "source": [
    "# 2.1 缺失值处理\n",
    "\n",
    "# 检查数据中是否有缺失值，以下两种方式均可\n",
    "#Flase:对应特征的特征值中无缺失值\n",
    "#True：有缺失值\n",
    "print(df.isnull().any())\n",
    "print(np.isnan(df).any())\n",
    "#返回每一列缺失值统计个数\n",
    "print(df.isnull().sum())"
   ]
  },
  {
   "cell_type": "code",
   "execution_count": 45,
   "metadata": {
    "pycharm": {
     "name": "#%%\n"
    }
   },
   "outputs": [
    {
     "data": {
      "text/plain": [
       "open      0\n",
       "high      0\n",
       "low       0\n",
       "close     0\n",
       "volume    0\n",
       "dtype: int64"
      ]
     },
     "execution_count": 45,
     "metadata": {},
     "output_type": "execute_result"
    }
   ],
   "source": [
    "#缺失值处理，以下两种方式均可\n",
    "#删除包含缺失值的行\n",
    "df.dropna(inplace=True)\n",
    "#缺失值填充\n",
    "# df.fillna('100')\n",
    "\n",
    "#返回每一列缺失值统计个数\n",
    "df.isnull().sum()"
   ]
  },
  {
   "cell_type": "code",
   "execution_count": 46,
   "metadata": {
    "pycharm": {
     "name": "#%%\n"
    }
   },
   "outputs": [
    {
     "name": "stdout",
     "output_type": "stream",
     "text": [
      "               open     high      low    close    volume\n",
      "datetime                                                \n",
      "2021-01-04  2664.50  2687.72  2650.96  2655.80  633210.0\n",
      "2021-01-05  2654.83  2686.75  2654.83  2678.04  472285.0\n",
      "2021-01-06  2683.85  2706.09  2679.01  2694.49  481959.0\n",
      "<class 'numpy.ndarray'> (213, 3) 2\n",
      "[[2664.5  2687.72 2650.96]\n",
      " [2654.83 2686.75 2654.83]\n",
      " [2683.85 2706.09 2679.01]]\n"
     ]
    }
   ],
   "source": [
    "# 截取时间段内样本数据\n",
    "df = df[\"2021-01-01\":]\n",
    "print(df[:3])\n",
    "# 2.2 确定特征值 目标值\n",
    "# 特征值取开盘价和收盘价的差值\n",
    "# X = (df[['open']]).values\n",
    "X = (df[['open', 'high', 'low']]).values\n",
    "print(type(X), X.shape, X.ndim)\n",
    "\n",
    "print(X[:3, ])"
   ]
  },
  {
   "cell_type": "code",
   "execution_count": 47,
   "metadata": {
    "pycharm": {
     "name": "#%%\n"
    }
   },
   "outputs": [
    {
     "name": "stdout",
     "output_type": "stream",
     "text": [
      "(213,)\n",
      "1\n",
      "[2655.8  2678.04 2694.49]\n"
     ]
    }
   ],
   "source": [
    "# 目标值取开盘价和收盘价的差值\n",
    "# y = df.iloc[:, -2:-1].values.ravel()\n",
    "Y = (df['close']).values\n",
    "print(Y.shape)\n",
    "print(Y.ndim)\n",
    "print(Y[:3])\n"
   ]
  },
  {
   "cell_type": "code",
   "execution_count": 48,
   "metadata": {
    "pycharm": {
     "name": "#%%\n"
    }
   },
   "outputs": [],
   "source": [
    "#将数据划分为训练集和验证集\n",
    "from sklearn.model_selection import train_test_split\n",
    "\n",
    "x_train, x_test, y_train, y_test = train_test_split(X, Y.reshape(-1, 1),\n",
    "                                                    random_state=None,\n",
    "                                                    test_size=0.50,  #测试集50%样本数量\n",
    "                                                    shuffle=True,  #default=True 切分前是否对数据进行打乱。\n",
    "                                                    )\n"
   ]
  },
  {
   "cell_type": "code",
   "execution_count": 49,
   "metadata": {
    "pycharm": {
     "name": "#%%\n"
    }
   },
   "outputs": [
    {
     "name": "stdout",
     "output_type": "stream",
     "text": [
      "(106, 3) (106, 1) 2\n",
      "(107, 3) (107, 1) 2\n"
     ]
    },
    {
     "data": {
      "text/plain": [
       "array([[2673.13, 2676.09, 2638.54, 2657.32],\n",
       "       [2481.41, 2504.14, 2472.52, 2494.26],\n",
       "       [2624.85, 2686.75, 2624.85, 2682.88]])"
      ]
     },
     "execution_count": 49,
     "metadata": {},
     "output_type": "execute_result"
    }
   ],
   "source": [
    "print(x_train.shape, y_train.shape, y_train.ndim)\n",
    "print(x_test.shape, y_test.shape, y_test.ndim)\n",
    "np.hstack((x_test, y_test))[:3]"
   ]
  },
  {
   "cell_type": "code",
   "execution_count": 50,
   "metadata": {
    "pycharm": {
     "name": "#%%\n"
    }
   },
   "outputs": [],
   "source": [
    "## 混淆测试集目标类别的 指定概率50%的错误\n",
    "err = x_train\n",
    "for i in range(int(len(err) * 0.0)):\n",
    "    index = int(np.random.randint(len(err)))\n",
    "    # index2 = int(np.random.randint(len(err)))\n",
    "    # err[index,0], err[index,3] = err[index,3], err[index,0]\n",
    "    err[index] = 0"
   ]
  },
  {
   "cell_type": "code",
   "execution_count": 50,
   "metadata": {
    "pycharm": {
     "name": "#%%\n"
    }
   },
   "outputs": [],
   "source": []
  },
  {
   "cell_type": "code",
   "execution_count": 51,
   "metadata": {
    "pycharm": {
     "name": "#%%\n"
    }
   },
   "outputs": [],
   "source": [
    "# 3. 特征工程（标准化）\n",
    "from sklearn.preprocessing import StandardScaler\n",
    "\n",
    "standardScaler = StandardScaler()\n",
    "\n",
    "x_train_stand = standardScaler.fit_transform(x_train)\n",
    "x_test_stand = standardScaler.transform(x_test)\n",
    "\n",
    "y_train_stand = standardScaler.fit_transform(y_train)\n",
    "y_test_stand = standardScaler.transform(y_test)"
   ]
  },
  {
   "cell_type": "code",
   "execution_count": 52,
   "metadata": {
    "pycharm": {
     "name": "#%%\n"
    }
   },
   "outputs": [
    {
     "name": "stdout",
     "output_type": "stream",
     "text": [
      "(106, 3)\n",
      "2\n",
      "(106, 1)\n",
      "2\n",
      "[[2691.58 2720.6  2681.91]\n",
      " [2507.   2510.   2492.  ]\n",
      " [2588.   2635.   2587.  ]\n",
      " [2782.5  2801.84 2758.32]\n",
      " [2534.78 2556.52 2513.04]\n",
      " [2735.11 2738.98 2684.81]\n",
      " [2679.   2712.   2679.  ]\n",
      " [2622.92 2640.33 2617.11]\n",
      " [2501.   2519.   2487.  ]\n",
      " [2627.   2627.   2597.  ]]\n",
      "[2691.58 2507.   2588.   2782.5  2534.78 2735.11 2679.   2622.92 2501.\n",
      " 2627.  ]\n"
     ]
    }
   ],
   "source": [
    "print(x_train.shape)\n",
    "print(x_train.ndim)\n",
    "print(y_train.shape)\n",
    "print(y_train.ndim)\n",
    "print(x_train[:10])\n",
    "print(x_train[:10, 0])"
   ]
  },
  {
   "cell_type": "code",
   "execution_count": 53,
   "metadata": {
    "pycharm": {
     "name": "#%%\n"
    }
   },
   "outputs": [],
   "source": [
    "#画图观察\n",
    "# fig, ax = plt.subplots()\n",
    "# ax.scatter(y_test_stand, x_test_stand)\n",
    "# ax.plot([y_test_stand.min(), y_test_stand.max()], [y_test_stand.min(), y_test_stand.max()], 'k--', lw=2)\n",
    "# ax.set_xlabel('Measured')\n",
    "# ax.set_ylabel('Predicted')\n",
    "# plt.show()"
   ]
  },
  {
   "cell_type": "code",
   "execution_count": 54,
   "metadata": {
    "pycharm": {
     "name": "#%%\n"
    }
   },
   "outputs": [],
   "source": [
    "epsilon = 0.15\n",
    "c = 1.0\n",
    "# 拟合回归模型\n",
    "svr_rbf = SVR(kernel='rbf', C=c, gamma=1, epsilon=epsilon)\n",
    "svr_lin = SVR(kernel='linear', C=c, gamma='auto', epsilon=epsilon)\n",
    "svr_poly = SVR(kernel='poly', C=c, gamma='auto', epsilon=epsilon,\n",
    "               degree=3,  #默认=3 多项式核函数的次数(' poly ')。将会被其他内核忽略。\n",
    "               coef0=0.1,  #默认=0.0 核函数中的独立项。它只在' poly '和' sigmoid '中有意义\n",
    "               )"
   ]
  },
  {
   "cell_type": "code",
   "execution_count": 55,
   "metadata": {
    "pycharm": {
     "name": "#%%\n"
    }
   },
   "outputs": [
    {
     "data": {
      "text/plain": [
       "((106, 3), (107, 3))"
      ]
     },
     "execution_count": 55,
     "metadata": {},
     "output_type": "execute_result"
    }
   ],
   "source": [
    "x_train.shape, x_test.shape\n",
    "# np.vstack((x_train,x_test)).shape"
   ]
  },
  {
   "cell_type": "code",
   "execution_count": 56,
   "metadata": {
    "pycharm": {
     "name": "#%%\n"
    }
   },
   "outputs": [
    {
     "name": "stdout",
     "output_type": "stream",
     "text": [
      "ix=0, svcs=SVR(epsilon=0.15, gamma=1)\n",
      "估计器参数: kernel=rbf, C=1.0, epsilon=0.15\n",
      "svm: (34, 3) epsilon:0.15 = [[13.41]] sv/e:[[1367.51]]\n",
      "epsilon mean: 11.1 std: 16.65 max: 100.07 min: 0.03\n",
      "svm间隔 mean: 83.11 std: 98.57 max: 213.38 min: 1.07 e_sum: [[1114.22]]\n",
      "std与误差范围占比%: 0.17  var方差: 277.31\n",
      "std与误差范围占比%: 0.46\n",
      "训练集评分: 0.9831285770121893 \n",
      "测试集评分: 0.967431877949029 \n",
      "ix=1, svcs=SVR(epsilon=0.15, gamma='auto', kernel='linear')\n",
      "估计器参数: kernel=linear, C=1.0, epsilon=0.15\n",
      "svm: (24, 3) epsilon:0.15 = [[13.41]] sv/e:[[965.3]]\n",
      "epsilon mean: 9.28 std: 11.65 max: 37.79 min: 0.11\n",
      "svm间隔 mean: 75.63 std: 86.61 max: 182.25 min: 1.07 e_sum: [[1013.96]]\n",
      "std与误差范围占比%: 0.31  var方差: 135.68\n",
      "std与误差范围占比%: 0.48\n",
      "训练集评分: 0.9838525721891879 \n",
      "测试集评分: 0.9841240434534679 \n",
      "ix=2, svcs=SVR(coef0=0.1, epsilon=0.15, gamma='auto', kernel='poly')\n",
      "估计器参数: kernel=poly, C=1.0, epsilon=0.15\n",
      "svm: (54, 3) epsilon:0.15 = [[13.41]] sv/e:[[2171.93]]\n",
      "epsilon mean: 16.12 std: 22.17 max: 95.05 min: 0.02\n",
      "svm间隔 mean: 78.48 std: 91.21 max: 213.38 min: 2.98 e_sum: [[1052.2]]\n",
      "std与误差范围占比%: 0.23  var方差: 491.64\n",
      "std与误差范围占比%: 0.43\n",
      "训练集评分: 0.9526184135822217 \n",
      "测试集评分: 0.9417614873860151 \n"
     ]
    },
    {
     "data": {
      "image/png": "[encoded data removed]",
      "text/plain": [
       "<Figure size 864x288 with 3 Axes>"
      ]
     },
     "metadata": {},
     "output_type": "display_data"
    }
   ],
   "source": [
    "plt.figure(figsize=(12, 4))\n",
    "xx = np.vstack((x_train_stand[:, ], x_test_stand[:, ]))\n",
    "yy = np.vstack((y_train_stand, y_test_stand))\n",
    "x_min, x_max = xx.min() - 0.5, xx.max() + 0.5\n",
    "y_min, y_max = yy.min() - 0.5, yy.max() + 0.5\n",
    "\n",
    "svrs = [svr_rbf, svr_lin, svr_poly]\n",
    "kernel_label = [\"rbf\", \"linear\", \"poly\"]\n",
    "for ix, svr in enumerate(svrs):\n",
    "    fit = svr.fit(x_train_stand, y_train_stand.ravel())\n",
    "    # 获取预测值\n",
    "    y_test_pred = fit.predict(x_test_stand)\n",
    "    # 显示估计器\n",
    "    print(f'ix=%s, svcs=%s' % (ix, svrs[ix]))\n",
    "    # 获取这个估计器的参数\n",
    "    svr_params = svr.get_params()\n",
    "    print(f'估计器参数: kernel=%s, C=%s, epsilon=%s' % (\n",
    "        svr_params.get('kernel'), svr_params.get('C'), svr_params.get('epsilon')))\n",
    "\n",
    "    epsilon_1 = standardScaler.inverse_transform(np.array([[fit.epsilon], ]))  #转换误差单位\n",
    "    epsilon_0 = standardScaler.inverse_transform(np.array([[0.00], ]))\n",
    "    epsilon_i = (epsilon_1 - epsilon_0)  #目标误差值\n",
    "    sv = fit.support_vectors_.shape  #支持向量\n",
    "    sv_e_sum = (sv[0] * sv[1]) * epsilon_i  #所有支持向量的误差和\n",
    "    print('svm:', fit.support_vectors_.shape,  #支持向量个数\n",
    "          'epsilon:%s = %s' % (fit.epsilon, epsilon_i),  #误差值\n",
    "          'sv/e:%s' % sv_e_sum\n",
    "          )\n",
    "    y_test_pred_ = standardScaler.inverse_transform(y_test_pred.reshape(-1, 1))\n",
    "    y_test_ = standardScaler.inverse_transform(y_test_stand.reshape(-1, 1))\n",
    "    y_test_d = (y_test_ - y_test_pred_)  #epsilon误差\n",
    "    y_test_d_max, y_test_d_min = abs(y_test_d).max(), abs(y_test_d).min()  #误差最大值和最小值\n",
    "    print('epsilon mean:', np.mean(abs(y_test_d)).round(2),  #epsilon误差平均值\n",
    "          'std:', np.std(y_test_d).round(2),  #标准差\n",
    "          'max:', y_test_d_max.round(2),\n",
    "          'min:', y_test_d_min.round(2),\n",
    "          )\n",
    "\n",
    "    support_vectors_ = standardScaler.inverse_transform(fit.support_vectors_)\n",
    "    support_vectors_d = support_vectors_ - epsilon_0  #svm间隔\n",
    "    support_vectors_d_max, support_vectors_d_min = abs(support_vectors_d).max(), abs(\n",
    "        support_vectors_d).min()  #svm间隔最大值和最小值\n",
    "    svm_mean_e_sum = np.mean(abs(support_vectors_d)) * epsilon_i  #svm误差和\n",
    "\n",
    "    print('svm间隔 mean:', np.mean(abs(support_vectors_d)).round(2),  #平均值\n",
    "          'std:', np.std(support_vectors_d).round(2),  #标准差\n",
    "          'max:', support_vectors_d_max.round(2),\n",
    "          'min:', support_vectors_d_min.round(2),\n",
    "          'e_sum:', svm_mean_e_sum\n",
    "          )\n",
    "    print(\"std与误差范围占比%:\", (np.std(y_test_d) / (y_test_d_max - y_test_d_min)).round(2),  #标准差std与误差范围占比%\n",
    "          ' var方差:', np.var(y_test_d).round(2))\n",
    "    print('std与误差范围占比%:',\n",
    "          (np.std(support_vectors_d) / (support_vectors_d_max - support_vectors_d_min)).round(2))  #标准差std与误差范围占比%\n",
    "\n",
    "    # https://blog.csdn.net/gracejpw/article/details/101546293\n",
    "    # 返回预测的决定系数R^2\n",
    "    # R^2越接近于1，模型的拟合优度越高。\n",
    "    print(f'训练集评分: %s ' % (fit.score(x_train_stand, y_train_stand)))\n",
    "    print(f'测试集评分: %s ' % (svr.score(x_test_stand, y_test_stand)))\n",
    "\n",
    "    plt.subplot(1, 3, ix + 1)\n",
    "    interval = abs(support_vectors_ - epsilon_0)\n",
    "    plt.hist(interval, bins=50)\n",
    "    plt.title(r'$%s %s \\epsilon = %s$' % (fit.kernel, fit.support_vectors_.shape, fit.epsilon))\n",
    "\n",
    "plt.show()\n",
    "# plt.savefig(r'./file/02_svm_svr.png', dpi=200)\n",
    "\n"
   ]
  },
  {
   "cell_type": "code",
   "execution_count": 57,
   "metadata": {
    "pycharm": {
     "name": "#%%\n"
    }
   },
   "outputs": [
    {
     "name": "stdout",
     "output_type": "stream",
     "text": [
      "sv: linear (24, 3)\n",
      "epsilon:0.15 = [[13.41]]\n",
      "epsilon mean平均值: 9.28\n",
      "epsilon std标准差: 11.65\n",
      "epsilon std标准差: 11.65\n",
      "epsilon var方差: 135.68\n",
      "svm mean平均值 75.63\n",
      "svm std标准差 86.61\n",
      "#查看切分后的数据与切分前的数据是否一致 [[2685.78 2685.78 2743.81]\n",
      " [2593.08 2593.08 2786.37]\n",
      " [2634.59 2634.59 2773.79]\n",
      " [2736.37 2736.37 2751.55]\n",
      " [2546.64 2546.64 2681.91]]\n",
      "#查看训练集的sv支持向量(24, 3) [[2735.11 2738.98 2684.81 2732.78 2716.8  2705.64]\n",
      " [2560.47 2596.05 2550.59 2560.49 2577.46 2567.26]\n",
      " [2650.4  2678.07 2627.67 2649.21 2657.42 2646.73]\n",
      " [2731.43 2739.34 2697.83 2729.16 2717.15 2719.06]\n",
      " [2517.98 2551.58 2503.15 2518.56 2534.11 2518.35]\n",
      " [2545.65 2557.51 2497.23 2545.86 2539.89 2512.24]\n",
      " [2558.49 2574.31 2549.6  2558.54 2556.26 2566.24]\n",
      " [2620.98 2641.29 2573.59 2620.19 2621.57 2590.97]\n",
      " [2481.   2520.   2471.   2482.08 2503.32 2485.2 ]\n",
      " [2690.62 2738.98 2674.18 2688.89 2716.8  2694.67]]\n",
      "查看预测值与目标值的差值 [[2673.13 2676.09 2638.54  -20.33  -23.3    14.26  -15.81  -18.78   18.78\n",
      "     4.52]\n",
      " [2481.41 2504.14 2472.52   11.9   -10.83   20.79   12.85   -9.88   21.74\n",
      "     0.95]\n",
      " [2624.85 2686.75 2624.85   37.89  -24.01   37.89   58.03   -3.87   58.03\n",
      "    20.14]\n",
      " [2505.   2523.   2501.     12.94   -5.06   16.94   -3.    -21.      1.\n",
      "   -15.94]\n",
      " [2622.   2644.   2608.      6.11  -15.89   20.11    6.    -16.     20.\n",
      "    -0.11]]\n"
     ]
    },
    {
     "data": {
      "image/png": "[encoded data removed]",
      "text/plain": [
       "<Figure size 432x288 with 1 Axes>"
      ]
     },
     "metadata": {},
     "output_type": "display_data"
    }
   ],
   "source": [
    "svrs = [svr_rbf, svr_lin, svr_poly]\n",
    "\n",
    "fit = svrs[1]\n",
    "\n",
    "print('sv:', fit.kernel, fit.support_vectors_.shape)\n",
    "epsilon_1 = standardScaler.inverse_transform(np.array([[fit.epsilon], ]))\n",
    "epsilon_0 = standardScaler.inverse_transform(np.array([[0.00], ]))\n",
    "print('epsilon:%s = %s' % (fit.epsilon, epsilon_1 - epsilon_0))\n",
    "\n",
    "y_test_pred = fit.predict(x_test_stand)\n",
    "y_test_pred_ = standardScaler.inverse_transform(y_test_pred.reshape(-1, 1))\n",
    "y_test_ = standardScaler.inverse_transform(y_test_stand.reshape(-1, 1))\n",
    "print('epsilon mean平均值:', np.mean(abs((y_test_ - y_test_pred_))).round(2))\n",
    "print('epsilon std标准差:', np.std((y_test_ - y_test_pred_)).round(2))\n",
    "print('epsilon std标准差:', np.std((y_test_ - y_test_pred_)).round(2))\n",
    "print('epsilon var方差:', np.var((y_test_ - y_test_pred_)).round(2))\n",
    "support_vectors_ = standardScaler.inverse_transform(fit.support_vectors_)\n",
    "print('svm mean平均值', np.mean(abs(support_vectors_ - epsilon_0)).round(2))\n",
    "print('svm std标准差', np.std((support_vectors_ - epsilon_0)).round(2))\n",
    "\n",
    "y_train_ = standardScaler.inverse_transform(y_train_stand.reshape(-1, 1))\n",
    "print('#查看切分后的数据与切分前的数据是否一致', (np.hstack(((y_train[fit.support_]), (y_train_[fit.support_]),\n",
    "                                          (Y[:len(y_train)][fit.support_].reshape(-1, 1)))))[:5])\n",
    "print('#查看训练集的sv支持向量%s %s' % (\n",
    "    fit.support_vectors_.shape, np.hstack(((x_train[fit.support_]), support_vectors_))[:10]))\n",
    "\n",
    "print('查看预测值与目标值的差值', (np.hstack((x_test, (y_test_pred_ - x_test), (y_test_ - x_test), (y_test - y_test_pred_)))[:5]))\n",
    "\n",
    "interval = abs(support_vectors_ - epsilon_0)\n",
    "plt.hist(interval, bins=50)\n",
    "plt.title(r'$%s\\ sv%s\\ \\epsilon = %s$' % (fit.kernel, fit.support_vectors_.shape, fit.epsilon))\n",
    "plt.show()"
   ]
  },
  {
   "cell_type": "code",
   "execution_count": 57,
   "metadata": {
    "pycharm": {
     "name": "#%%\n"
    }
   },
   "outputs": [],
   "source": []
  },
  {
   "cell_type": "code",
   "execution_count": 57,
   "metadata": {
    "pycharm": {
     "name": "#%%\n"
    }
   },
   "outputs": [],
   "source": []
  },
  {
   "cell_type": "code",
   "execution_count": 65,
   "metadata": {
    "pycharm": {
     "name": "#%%\n"
    }
   },
   "outputs": [
    {
     "name": "stdout",
     "output_type": "stream",
     "text": [
      "epsilon_0 [[2619.12]]\n",
      "#查看训练集的支持向量(24, 3) [[2735.11 2738.98 2684.81 2732.78 2716.8  2705.64]\n",
      " [2560.47 2596.05 2550.59 2560.49 2577.46 2567.26]\n",
      " [2650.4  2678.07 2627.67 2649.21 2657.42 2646.73]\n",
      " [2731.43 2739.34 2697.83 2729.16 2717.15 2719.06]\n",
      " [2517.98 2551.58 2503.15 2518.56 2534.11 2518.35]\n",
      " [2545.65 2557.51 2497.23 2545.86 2539.89 2512.24]\n",
      " [2558.49 2574.31 2549.6  2558.54 2556.26 2566.24]\n",
      " [2620.98 2641.29 2573.59 2620.19 2621.57 2590.97]\n",
      " [2481.   2520.   2471.   2482.08 2503.32 2485.2 ]\n",
      " [2690.62 2738.98 2674.18 2688.89 2716.8  2694.67]\n",
      " [2595.   2606.   2553.   2594.55 2587.16 2569.74]\n",
      " [2550.   2557.   2500.   2550.16 2539.39 2515.1 ]\n",
      " [2530.   2573.   2529.   2530.42 2554.99 2545.  ]\n",
      " [2458.   2486.   2452.   2459.39 2470.17 2465.61]\n",
      " [2748.65 2815.38 2708.99 2746.14 2791.28 2730.57]\n",
      " [2780.56 2814.41 2777.66 2777.63 2790.34 2801.37]\n",
      " [2702.77 2735.39 2688.94 2700.88 2713.3  2709.89]\n",
      " [2585.18 2598.02 2569.37 2584.86 2579.39 2586.61]\n",
      " [2572.62 2623.88 2564.89 2572.48 2604.6  2582.  ]\n",
      " [2700.8  2707.72 2636.56 2698.93 2686.32 2655.9 ]\n",
      " [2664.5  2687.72 2650.96 2663.12 2666.82 2670.74]\n",
      " [2600.   2600.   2544.66 2599.48 2581.31 2561.14]\n",
      " [2546.51 2617.11 2526.2  2546.71 2598.   2542.11]\n",
      " [2684.99 2689.93 2638.54 2683.33 2668.98 2657.93]]\n"
     ]
    }
   ],
   "source": [
    "print('epsilon_0', epsilon_0)\n",
    "print('#查看训练集的支持向量%s %s' % (fit.support_vectors_.shape, np.hstack(((x_train[fit.support_]), support_vectors_))[:]))"
   ]
  },
  {
   "cell_type": "code",
   "execution_count": 59,
   "metadata": {
    "pycharm": {
     "name": "#%%\n"
    }
   },
   "outputs": [
    {
     "name": "stdout",
     "output_type": "stream",
     "text": [
      "support_支持向量的下标 (24,)\n",
      "support_vectors_支持向量 (24, 3)\n",
      "n_support_每个类别的支持向量数量 [24]\n",
      "dual_coef_决策函数中支持向量的系数 (1, 24)\n",
      "intercept_决策函数中的常量 [0.02]\n"
     ]
    }
   ],
   "source": [
    "# fit = svr_rbf\n",
    "print('support_支持向量的下标', fit.support_.shape)\n",
    "print('support_vectors_支持向量', fit.support_vectors_.shape)\n",
    "print('n_support_每个类别的支持向量数量', fit.n_support_)\n",
    "print('dual_coef_决策函数中支持向量的系数', fit.dual_coef_.shape)\n",
    "print('intercept_决策函数中的常量', fit.intercept_)"
   ]
  },
  {
   "cell_type": "code",
   "execution_count": 59,
   "metadata": {
    "pycharm": {
     "name": "#%%\n"
    }
   },
   "outputs": [],
   "source": []
  },
  {
   "cell_type": "code",
   "execution_count": 59,
   "metadata": {
    "pycharm": {
     "name": "#%%\n"
    }
   },
   "outputs": [],
   "source": []
  }
 ],
 "metadata": {
  "kernelspec": {
   "display_name": "py39",
   "language": "python",
   "name": "py39"
  },
  "language_info": {
   "codemirror_mode": {
    "name": "ipython",
    "version": 3
   },
   "file_extension": ".py",
   "mimetype": "text/x-python",
   "name": "python",
   "nbconvert_exporter": "python",
   "pygments_lexer": "ipython3",
   "version": "3.9.7"
  },
  "toc": {
   "base_numbering": 1,
   "nav_menu": {},
   "number_sections": true,
   "sideBar": true,
   "skip_h1_title": false,
   "title_cell": "Table of Contents",
   "title_sidebar": "Contents",
   "toc_cell": false,
   "toc_position": {},
   "toc_section_display": true,
   "toc_window_display": false
  }
 },
 "nbformat": 4,
 "nbformat_minor": 1
}