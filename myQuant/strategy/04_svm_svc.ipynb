{
 "cells": [
  {
   "cell_type": "code",
   "execution_count": 20,
   "outputs": [],
   "source": [
    "# coding=utf8\n",
    "\n",
    "import pandas as pd\n",
    "import numpy as np\n",
    "from sklearn.svm import SVC\n",
    "import matplotlib.pyplot as plt"
   ],
   "metadata": {
    "collapsed": false,
    "pycharm": {
     "name": "#%%\n"
    }
   }
  },
  {
   "cell_type": "code",
   "execution_count": 21,
   "outputs": [
    {
     "name": "stdout",
     "output_type": "stream",
     "text": [
      "open      float64\n",
      "high      float64\n",
      "low       float64\n",
      "close     float64\n",
      "volume    float64\n",
      "dtype: object\n"
     ]
    },
    {
     "data": {
      "text/plain": "              open    high     low   close   volume\ndatetime                                           \n2004-09-22 1143.23 1147.88 1106.05 1106.98 77908.00\n2004-09-23 1097.68 1099.54 1089.32 1093.04 37196.00\n2004-09-24 1082.81 1101.40 1082.81 1095.83 29367.00\n2004-09-27 1092.11 1100.47 1075.38 1076.31 17336.00\n2004-09-28 1077.24 1088.39 1077.24 1082.81 26681.00",
      "text/html": "<div>\n<style scoped>\n    .dataframe tbody tr th:only-of-type {\n        vertical-align: middle;\n    }\n\n    .dataframe tbody tr th {\n        vertical-align: top;\n    }\n\n    .dataframe thead th {\n        text-align: right;\n    }\n</style>\n<table border=\"1\" class=\"dataframe\">\n  <thead>\n    <tr style=\"text-align: right;\">\n      <th></th>\n      <th>open</th>\n      <th>high</th>\n      <th>low</th>\n      <th>close</th>\n      <th>volume</th>\n    </tr>\n    <tr>\n      <th>datetime</th>\n      <th></th>\n      <th></th>\n      <th></th>\n      <th></th>\n      <th></th>\n    </tr>\n  </thead>\n  <tbody>\n    <tr>\n      <th>2004-09-22</th>\n      <td>1143.23</td>\n      <td>1147.88</td>\n      <td>1106.05</td>\n      <td>1106.98</td>\n      <td>77908.00</td>\n    </tr>\n    <tr>\n      <th>2004-09-23</th>\n      <td>1097.68</td>\n      <td>1099.54</td>\n      <td>1089.32</td>\n      <td>1093.04</td>\n      <td>37196.00</td>\n    </tr>\n    <tr>\n      <th>2004-09-24</th>\n      <td>1082.81</td>\n      <td>1101.40</td>\n      <td>1082.81</td>\n      <td>1095.83</td>\n      <td>29367.00</td>\n    </tr>\n    <tr>\n      <th>2004-09-27</th>\n      <td>1092.11</td>\n      <td>1100.47</td>\n      <td>1075.38</td>\n      <td>1076.31</td>\n      <td>17336.00</td>\n    </tr>\n    <tr>\n      <th>2004-09-28</th>\n      <td>1077.24</td>\n      <td>1088.39</td>\n      <td>1077.24</td>\n      <td>1082.81</td>\n      <td>26681.00</td>\n    </tr>\n  </tbody>\n</table>\n</div>"
     },
     "execution_count": 21,
     "metadata": {},
     "output_type": "execute_result"
    }
   ],
   "source": [
    "# 加载数据\n",
    "df0 = pd.read_csv('data/DQC00-1d.txt',\n",
    "                  sep=',',\n",
    "                  nrows=5000,\n",
    "                  index_col=['datetime'],  # 设置行索引\n",
    "                  parse_dates=['datetime'],  # 解析时间 20100104130500.0\n",
    "                  date_parser=lambda x: pd.to_datetime(x, format='%Y%m%d%H%M%S.%f'),  # 时间解析的格式，进行毫秒级数据解析\n",
    "                  usecols=['datetime', 'open', 'high', 'low', 'close', 'volume'],  # 设置需要用到的列\n",
    "                  encoding='utf-8',\n",
    "                  float_precision='round_trip',  # 所有数据会当做string读取, 使用时再进行相应的转换为float\n",
    "                  )\n",
    "# pd.reset_option('display.float_format')  # 重置\n",
    "pd.set_option('precision', 2)  # 显示小数点后的位数\n",
    "pd.set_option('display.max_rows', 300)  # 控制显示的最大行数\n",
    "pd.set_option('display.min_rows', 20)  # 确定显示的部分有多少行\n",
    "pd.options.display.float_format = '{:.2f}'.format  # 统一设置小数位数\n",
    "# pd.set_option('display.float_format',  '{:,.2f}'.format) # 数字格式化显示 用逗号格式化大值数字 设置数字精度\n",
    "# 指定列名设置计算精确度，未指定的保持原样\n",
    "df0.round({'open': 0, 'high': 0, 'low': 0, 'close': 0, 'volume': 0})\n",
    "# 统一设置小数位数\n",
    "df0.round(0)\n",
    "#设定numpy显示浮点数精度的小数位数,不使用科学记数法\n",
    "np.set_printoptions(precision=2, suppress=True)\n",
    "\n",
    "print(df0.dtypes)\n",
    "df0.head()"
   ],
   "metadata": {
    "collapsed": false,
    "pycharm": {
     "name": "#%%\n"
    }
   }
  },
  {
   "cell_type": "code",
   "execution_count": 22,
   "outputs": [
    {
     "name": "stdout",
     "output_type": "stream",
     "text": [
      "返回每一列缺失值统计个数: open      0\n",
      "high      0\n",
      "low       0\n",
      "close     0\n",
      "volume    0\n",
      "dtype: int64\n",
      "检查数据中是否有缺失值: open      False\n",
      "high      False\n",
      "low       False\n",
      "close     False\n",
      "volume    False\n",
      "dtype: bool\n"
     ]
    }
   ],
   "source": [
    "# 2.1 缺失值处理\n",
    "\n",
    "# 检查数据中是否有缺失值，以下两种方式均可\n",
    "# #Flase:无缺失值 #True：有缺失值\n",
    "print('返回每一列缺失值统计个数:', df0.isnull().sum())\n",
    "df0 = df0.dropna(axis=0, how='any')  #删除包含缺失值的行\n",
    "print('检查数据中是否有缺失值:', df0.isnull().any())\n"
   ],
   "metadata": {
    "collapsed": false,
    "pycharm": {
     "name": "#%%\n"
    }
   }
  },
  {
   "cell_type": "code",
   "execution_count": 23,
   "outputs": [
    {
     "name": "stdout",
     "output_type": "stream",
     "text": [
      "              open    high     low   close    volume\n",
      "datetime                                            \n",
      "2021-01-04 2664.50 2687.72 2650.96 2655.80 633210.00\n",
      "2021-01-05 2654.83 2686.75 2654.83 2678.04 472285.00\n",
      "2021-01-06 2683.85 2706.09 2679.01 2694.49 481959.00\n",
      "<class 'numpy.ndarray'> 2 (213, 4)\n",
      "[[2664.5  2655.8  2687.72 2650.96]\n",
      " [2654.83 2678.04 2686.75 2654.83]\n",
      " [2683.85 2694.49 2706.09 2679.01]]\n"
     ]
    }
   ],
   "source": [
    "# 截取时间段内样本数据\n",
    "df = df0[\"2021-01-01\":].copy()\n",
    "print(df[:3])\n",
    "# 2.2 确定特征值 目标值\n",
    "# df.reset_index(level=0, inplace=True)   #时间索引成为列\n",
    "\n",
    "# 特征值取 开 高 低 收 价\n",
    "X = df.loc[:, ['open', 'close', 'high', 'low']].values\n",
    "print(type(X), X.ndim, X.shape)\n",
    "print(X[:3, ])\n"
   ],
   "metadata": {
    "collapsed": false,
    "pycharm": {
     "name": "#%%\n"
    }
   }
  },
  {
   "cell_type": "code",
   "execution_count": 24,
   "outputs": [
    {
     "name": "stdout",
     "output_type": "stream",
     "text": [
      "              open    high     low   close     volume  flag\n",
      "datetime                                                   \n",
      "2021-01-04 2664.50 2687.72 2650.96 2655.80  633210.00     1\n",
      "2021-01-05 2654.83 2686.75 2654.83 2678.04  472285.00     1\n",
      "2021-01-06 2683.85 2706.09 2679.01 2694.49  481959.00     1\n",
      "2021-01-07 2694.49 2718.66 2692.55 2713.83  510463.00     1\n",
      "2021-01-08 2717.70 2746.71 2710.93 2742.84  630350.00     1\n",
      "2021-01-11 2748.65 2815.38 2708.99 2743.81 1181606.00     1\n",
      "2021-01-12 2746.71 2780.56 2714.80 2773.79  802689.00     1\n",
      "2021-01-13 2777.66 2833.76 2771.86 2777.66  953263.00     0\n",
      "2021-01-14 2782.50 2790.23 2738.01 2751.55  823129.00     1\n",
      "2021-01-15 2752.52 2785.40 2748.65 2774.76  597012.00     1\n",
      "2021-01-18 2780.56 2814.41 2777.66 2786.37  727775.00     1\n",
      "2021-01-19 2782.50 2801.84 2758.32 2773.79  625718.00     1\n",
      "2021-01-20 2773.79 2779.60 2738.98 2751.55  636369.00     1\n",
      "2021-01-21 2753.48 2778.63 2746.71 2755.42  546861.00     1\n",
      "2021-01-22 2751.55 2766.06 2712.86 2728.34  832591.00     1\n",
      "2021-01-25 2727.37 2743.81 2661.60 2680.95  945135.00     1\n",
      "2021-01-26 2680.95 2699.32 2673.21 2681.91  502124.00     0\n",
      "2021-01-27 2686.75 2704.16 2666.44 2674.18  666309.00     1\n",
      "2021-01-28 2677.08 2683.85 2635.49 2637.42  737921.00     1\n",
      "2021-01-29 2640.33 2647.10 2615.18 2624.85  622614.00     1\n",
      "<class 'pandas.core.frame.DataFrame'>\n",
      "DatetimeIndex: 213 entries, 2021-01-04 to 2021-11-19\n",
      "Data columns (total 6 columns):\n",
      " #   Column  Non-Null Count  Dtype  \n",
      "---  ------  --------------  -----  \n",
      " 0   open    213 non-null    float64\n",
      " 1   high    213 non-null    float64\n",
      " 2   low     213 non-null    float64\n",
      " 3   close   213 non-null    float64\n",
      " 4   volume  213 non-null    float64\n",
      " 5   flag    213 non-null    int64  \n",
      "dtypes: float64(5), int64(1)\n",
      "memory usage: 11.6 KB\n",
      "None\n",
      "<class 'numpy.ndarray'> (213,) 1\n",
      "[1 1 1 1 1]\n"
     ]
    }
   ],
   "source": [
    "# 收盘价>开盘价 标记为类别1 收盘价<=开盘价 标记为类别0\n",
    "# df['flag'] = df.apply(lambda x: 1 if (x['close'] > x['open']) else 0, axis=1)\n",
    "\n",
    "\n",
    "# 收盘价>开盘价 标记类别为1 收盘价<开盘价 标记类别为-1 收盘价=开盘价 标记类别为0\n",
    "# epsilon = 0.1  #误差\n",
    "# df['flag'] = df.apply(\n",
    "#     lambda x: 0 if (abs(x['close'] - x['open']) <= epsilon)\n",
    "#     else ( 1 if (x['close'] > x['open']) else -1), axis=1)\n",
    "\n",
    "# 收盘价-开盘价>1 标记为类别1 收盘价-开盘价<1 标记为类别0\n",
    "df['flag'] = df.apply(lambda x: 0 if (abs(x['close'] - x['open']) <= 1) else 1, axis=1)\n",
    "print(df.head(20))\n",
    "print(df.info())\n",
    "# 目标值取收盘\n",
    "Y = df.loc[:, 'flag'].values\n",
    "print(type(Y), Y.shape, Y.ndim)\n",
    "print(Y[:5])\n"
   ],
   "metadata": {
    "collapsed": false,
    "pycharm": {
     "name": "#%%\n"
    }
   }
  },
  {
   "cell_type": "code",
   "execution_count": 25,
   "outputs": [
    {
     "name": "stdout",
     "output_type": "stream",
     "text": [
      "<class 'numpy.ndarray'> (213, 4) 2\n",
      "<class 'numpy.ndarray'> (213,) 1\n"
     ]
    }
   ],
   "source": [
    "print(type(X), X.shape, X.ndim)\n",
    "print(type(Y), Y.shape, Y.ndim)"
   ],
   "metadata": {
    "collapsed": false,
    "pycharm": {
     "name": "#%%\n"
    }
   }
  },
  {
   "cell_type": "code",
   "execution_count": 26,
   "outputs": [
    {
     "name": "stdout",
     "output_type": "stream",
     "text": [
      "返回每一列缺失值统计个数: open      0\n",
      "high      0\n",
      "low       0\n",
      "close     0\n",
      "volume    0\n",
      "flag      0\n",
      "dtype: int64\n",
      "检查数据中是否有缺失值: open      False\n",
      "high      False\n",
      "low       False\n",
      "close     False\n",
      "volume    False\n",
      "flag      False\n",
      "dtype: bool\n"
     ]
    }
   ],
   "source": [
    "# 2.1 缺失值处理\n",
    "\n",
    "# 检查数据中是否有缺失值，以下两种方式均可\n",
    "# #Flase:无缺失值 #True：有缺失值\n",
    "print('返回每一列缺失值统计个数:', df.isnull().sum())\n",
    "df = df.dropna(axis=0, how='any')  #删除包含缺失值的行\n",
    "print('检查数据中是否有缺失值:', df.isnull().any())\n"
   ],
   "metadata": {
    "collapsed": false,
    "pycharm": {
     "name": "#%%\n"
    }
   }
  },
  {
   "cell_type": "code",
   "execution_count": 27,
   "outputs": [],
   "source": [
    "#将数据划分为训练集和验证集\n",
    "from sklearn.model_selection import train_test_split\n",
    "\n",
    "x_train_stand, x_test_stand, y_train, y_test = train_test_split(\n",
    "    X, Y.reshape(-1, 1),\n",
    "    random_state=1,  #如果为整形数字,则数据随机打乱顺序固定, 如果为random_state=None,则每次数据打乱顺序都不一样\n",
    "    test_size=0.50,  #测试集50%样本数量\n",
    "    shuffle=True,  #default=True 切分前是否对数据进行打乱。\n",
    ")"
   ],
   "metadata": {
    "collapsed": false,
    "pycharm": {
     "name": "#%%\n"
    }
   }
  },
  {
   "cell_type": "code",
   "execution_count": 28,
   "outputs": [],
   "source": [
    "## 混淆测试集目标类别的 指定概率50%的错误\n",
    "# err = y_train\n",
    "# for i in range(int(len(err) * 0.0)):\n",
    "#     index = int(np.random.randint(len(err)))\n",
    "#     err[index] = 0 if err[index] == 1 else 1\n",
    "# 查看测试集是否与未混淆后不同\n",
    "# print(np.sum(y_train>0)+np.sum(y_test>0), np.sum(Y>0))\n"
   ],
   "metadata": {
    "collapsed": false,
    "pycharm": {
     "name": "#%%\n"
    }
   }
  },
  {
   "cell_type": "code",
   "execution_count": 29,
   "outputs": [],
   "source": [
    "# 3. 特征工程（标准化）\n",
    "from sklearn.preprocessing import StandardScaler\n",
    "\n",
    "standardScaler = StandardScaler()\n",
    "\n",
    "# 训练集 计算平均值和标准偏差\n",
    "x_train_stand = standardScaler.fit_transform(x_train_stand)\n",
    "# 以训练集的平均值和标准偏差来缩放测试集\n",
    "x_test_stand = standardScaler.transform(x_test_stand)\n",
    "\n",
    "y_train_stand = y_train\n",
    "y_test_stand = y_test"
   ],
   "metadata": {
    "collapsed": false,
    "pycharm": {
     "name": "#%%\n"
    }
   }
  },
  {
   "cell_type": "code",
   "execution_count": 30,
   "outputs": [
    {
     "name": "stdout",
     "output_type": "stream",
     "text": [
      "[[1]\n",
      " [1]\n",
      " [1]\n",
      " [1]\n",
      " [1]]\n",
      "<class 'numpy.ndarray'> (106, 4) 2\n",
      "<class 'numpy.ndarray'> (106, 1) 2\n"
     ]
    }
   ],
   "source": [
    "# 目标类别为0，1 不用标准化\n",
    "print(y_train[:5])\n",
    "print(type(x_train_stand), x_train_stand.shape, x_train_stand.ndim)\n",
    "print(type(y_train), y_train.shape, y_train.ndim)"
   ],
   "metadata": {
    "collapsed": false,
    "pycharm": {
     "name": "#%%\n"
    }
   }
  },
  {
   "cell_type": "code",
   "execution_count": 31,
   "outputs": [
    {
     "name": "stdout",
     "output_type": "stream",
     "text": [
      "0 linear SVC(C=300, kernel='linear', probability=True) sv: (24, 4)\n",
      "估计器的参数: kernel=linear, c=300, gamma=scale\n",
      "训练集R2评分: 0.9622641509433962 \n",
      "测试集R2评分: 0.9345794392523364 \n",
      "\n",
      "1 rbf SVC(C=300, probability=True) sv: (16, 4)\n",
      "估计器的参数: kernel=rbf, c=300, gamma=scale\n",
      "训练集R2评分: 0.9716981132075472 \n",
      "测试集R2评分: 0.9345794392523364 \n",
      "\n"
     ]
    }
   ],
   "source": [
    "c = 300\n",
    "# 拟合分类模型\n",
    "linear = SVC(kernel='linear', C=c, gamma='scale', probability=True)\n",
    "rbf = SVC(kernel='rbf', C=c, gamma='scale', probability=True)\n",
    "poly = SVC(kernel='poly', C=c, gamma='scale', degree=3, coef0=1, probability=True)\n",
    "\n",
    "kernel = [linear, rbf, poly]\n",
    "kernel_label = [\"linear\", \"rbf\", \"poly\"]\n",
    "for ix, svc in enumerate(kernel[:-1]):\n",
    "    performance = svc.fit(x_train_stand, y_train.ravel())\n",
    "    # 获取预测值\n",
    "    y_test_pred = performance.predict(x_test_stand)\n",
    "    # 显示估计器\n",
    "    print(ix, svc.kernel, kernel[ix], 'sv:', svc.support_vectors_.shape)\n",
    "    # 获取这个估计器的参数\n",
    "    svc_params = svc.get_params()\n",
    "    print(\n",
    "        f'估计器的参数: kernel=%s, c=%s, gamma=%s' % (svc_params.get('kernel'), svc_params.get('C'), svc_params.get('gamma')))\n",
    "    # https://blog.csdn.net/gracejpw/article/details/101546293\n",
    "    # 返回预测的决定系数R^2\n",
    "    # R^2越接近于1，模型的拟合优度越高。\n",
    "    print(f'训练集R2评分: %s ' % (performance.score(x_train_stand, y_train)))\n",
    "    print(f'测试集R2评分: %s ' % (svc.score(x_test_stand, y_test)))\n",
    "    print()"
   ],
   "metadata": {
    "collapsed": false,
    "pycharm": {
     "name": "#%%\n"
    }
   }
  },
  {
   "cell_type": "code",
   "execution_count": 32,
   "outputs": [
    {
     "name": "stdout",
     "output_type": "stream",
     "text": [
      "0 linear svcs: SVC(C=300, kernel='linear', probability=True)\n",
      "sv__s: (24, 2) sv__sum: 48 sv_mean: 2670.57 [[2670.73 2672.68 2692.09 2646.78]]\n",
      "sv__av:55.61 std:98.69 max:2833.76 min:2513.04 sv_av:90.71\n",
      "训练集评分:0.96\n",
      "测试集评分:0.93\n",
      "\n",
      "1 rbf svcs: SVC(C=300, probability=True)\n",
      "sv__s: (16, 2) sv__sum: 32 sv_mean: 2642.45 [[2643.38 2642.13 2661.72 2622.57]]\n",
      "sv__av:82.57 std:112.32 max:2833.76 min:2480.00 sv_av:106.74\n",
      "训练集评分:0.97\n",
      "测试集评分:0.93\n",
      "\n"
     ]
    },
    {
     "data": {
      "text/plain": "<Figure size 864x288 with 2 Axes>",
      "image/png": "[encoded data removed]"
     },
     "metadata": {},
     "output_type": "display_data"
    }
   ],
   "source": [
    "\n",
    "np.round(2)\n",
    "plt.figure(figsize=(12, 4))\n",
    "xx = np.vstack((x_train_stand[:, ], x_test_stand[:, ]))\n",
    "yy = np.vstack((y_train.reshape(-1, 1), y_test.reshape(-1, 1)))\n",
    "x_min, x_max = xx.min() - 0.5, xx.max() + 0.5\n",
    "y_min, y_max = yy.min() - 0.5, yy.max() + 0.5\n",
    "\n",
    "kernel = [linear, rbf, poly]\n",
    "kernel_label = [\"linear\", \"rbf\", \"poly\"]\n",
    "for ix, svc in enumerate(kernel[:-1]):\n",
    "    fit = svc.fit(x_train_stand, y_train.ravel())\n",
    "    # 获取预测值\n",
    "    y_test_pred = fit.predict(x_test_stand)\n",
    "    # 获取这个估计器的参数\n",
    "    svr_params = svc.get_params()\n",
    "    print(ix,\n",
    "          svc.kernel,\n",
    "          'svcs:', kernel[ix])\n",
    "\n",
    "    sv_ = fit.support_vectors_  #支持向量\n",
    "    sv__ = standardScaler.inverse_transform(sv_)\n",
    "    sv__h = np.hstack((np.amax(abs(sv__), axis=1).reshape(-1, 1),\n",
    "                       np.amin(abs(sv__), axis=1).reshape(-1, 1)))  #由每一行中最大和最小值的sv构成的新的sv数组\n",
    "    sv_mean = standardScaler.inverse_transform(np.mean(sv_, axis=0).reshape(1, -1))  #svm平均值\n",
    "\n",
    "    sv__s = sv__h.shape  #支持向量数组维度\n",
    "    sv__sum = (sv__s[0] * sv__s[1])  #所有支持向量的数量\n",
    "    print('sv__s:', sv__s,  #支持向量维度\n",
    "          'sv__sum: %s' % sv__sum,  #支持向量个数\n",
    "          'sv_mean: %.2f' % np.mean(sv_mean), sv_mean,   #sv平均值\n",
    "          )\n",
    "\n",
    "    sv__mean = np.mean(sv__h)  #sv 均值\n",
    "    print('sv__av:%.2f' % (sv__mean / sv__sum),  #平均值\n",
    "          'std:%.2f' % np.std(sv__h),  #标准差\n",
    "          'max:%.2f' % sv__h.max(),  #svm间隔最大值\n",
    "          'min:%.2f' % sv__h.min(),  #svm间隔最小值\n",
    "          'sv_av:%.2f' % (abs(sv__h - sv__mean).sum() / sv__sum),  #sv平均间隔\n",
    "          )\n",
    "\n",
    "    # https://blog.csdn.net/gracejpw/article/details/101546293\n",
    "    # 返回预测的决定系数R^2\n",
    "    # R^2越接近于1，模型的拟合优度越高。\n",
    "    print(f'训练集评分:%.2f' % (fit.score(x_train_stand, y_train)))\n",
    "    print(f'测试集评分:%.2f' % (fit.score(x_test_stand, y_test)))\n",
    "    print()\n",
    "    plt.subplot(1, 3, ix + 1)\n",
    "    interval = abs(sv_)\n",
    "    plt.hist(interval, bins=50)\n",
    "    plt.title(r'$%s %s$' % (fit.kernel, sv_.shape))\n",
    "\n",
    "plt.show()\n",
    "# plt.savefig(r'./file/svm_svr.png', dpi=200)\n"
   ],
   "metadata": {
    "collapsed": false,
    "pycharm": {
     "name": "#%%\n"
    }
   }
  },
  {
   "cell_type": "code",
   "execution_count": 33,
   "outputs": [
    {
     "data": {
      "text/plain": "0.9345794392523364"
     },
     "execution_count": 33,
     "metadata": {},
     "output_type": "execute_result"
    }
   ],
   "source": [
    "# 将标准化后数据，还原成样本数据\n",
    "x_train_inverse = standardScaler.inverse_transform(x_train_stand)\n",
    "x_test_inverse = standardScaler.inverse_transform(x_test_stand)\n",
    "\n",
    "from sklearn.metrics import accuracy_score\n",
    "\n",
    "# 预测精度得分 normalize=False 返回正确分类样本数\n",
    "accuracy_score(y_test, y_test_pred, normalize=True)\n"
   ],
   "metadata": {
    "collapsed": false,
    "pycharm": {
     "name": "#%%\n"
    }
   }
  },
  {
   "cell_type": "code",
   "execution_count": 34,
   "outputs": [
    {
     "name": "stdout",
     "output_type": "stream",
     "text": [
      "rbf\n",
      "[1 1 1]\n",
      "[[1]\n",
      " [0]\n",
      " [1]]\n"
     ]
    }
   ],
   "source": [
    "#设定numpy显示浮点数精度的小数位数,不使用科学记数法\n",
    "np.set_printoptions(precision=3, suppress=True)\n",
    "\n",
    "# clf = linear\n",
    "clf = rbf\n",
    "score_test = clf.score(x_test_stand, y_test)\n",
    "print(clf.kernel)\n",
    "\n",
    "print(clf.predict(x_test_stand)[:3])\n",
    "print(y_test[:3])"
   ],
   "metadata": {
    "collapsed": false,
    "pycharm": {
     "name": "#%%\n"
    }
   }
  },
  {
   "cell_type": "code",
   "execution_count": 35,
   "outputs": [
    {
     "data": {
      "text/plain": "<Figure size 720x432 with 1 Axes>",
      "image/png": "[encoded data removed]"
     },
     "metadata": {},
     "output_type": "display_data"
    }
   ],
   "source": [
    "# 绘制训练样本类别预测与目标分类的相同和不同的概率区别统计图\n",
    "plt.style.use(plt.style.available[4])  #可以通过下标进行选择适合自己的样式\n",
    "plt.rcParams['font.sans-serif'] = ['SimHei']  #指定默认字体,用来正常显示中文标签\n",
    "plt.rcParams['font.family'] = 'sans-serif'\n",
    "plt.rcParams['axes.unicode_minus'] = False  #用来正常显示负号\n",
    "\n",
    "id_test_no = clf.predict(x_test_stand)[:] != y_test.ravel()  #测试样本预测类别与测试目标类别不同的下标\n",
    "id_test_ok = clf.predict(x_test_stand)[:] == y_test.ravel()  #测试样本预测类别与测试目标类别不同的下标\n",
    "test_no = clf.predict_proba(x_test_stand)[id_test_no]  #测试样本预测类别与测试目标类别不同的概率值\n",
    "test_ok = clf.predict_proba(x_test_stand)[id_test_ok]\n",
    "\n",
    "# 绘制测试样本类别预测与目标分类的相同和不同的概率区别统计图\n",
    "his_test_ok, _ = np.histogram(test_ok, bins=10)\n",
    "his_test_no, _ = np.histogram(test_no, bins=10)\n",
    "# 绘制图像\n",
    "fig, ax1 = plt.subplots()\n",
    "fig.set_size_inches(10, 6)\n",
    "# plt.set_cmap('RdBu')\n",
    "plt.set_cmap('jet')\n",
    "x = np.arange(len(_) - 1)\n",
    "w = 0.1\n",
    "# 绘制多个bar在同一个图中, 这里需要控制width\n",
    "plt.bar(x - 1 * w, height=his_test_ok, width=2 * w, align='center')  #测试样本预测相同\n",
    "plt.bar(x + 1 * w, height=his_test_no, width=2 * w, align='center')  #测试样本预测不同\n",
    "# 设置坐标轴的标签\n",
    "ax1.yaxis.set_tick_params(labelsize=15)  # 设置y轴的字体的大小\n",
    "ax1.set_xticks(x)  # 设置xticks出现的位置\n",
    "# 设置坐标轴名称\n",
    "ax1.set_ylabel(\"Count\", fontsize='xx-large')\n",
    "# 设置标题\n",
    "ax1.set_title('%s 测试样本预测类别区间个数统计 测试R2=%.2f' % (clf.kernel, score_test), fontsize='x-large')\n",
    "# 设置图例\n",
    "plt.legend(('测试预测相同', '测试预测不同'), fontsize='x-large', loc='upper right')\n",
    "plt.show()"
   ],
   "metadata": {
    "collapsed": false,
    "pycharm": {
     "name": "#%%\n"
    }
   }
  },
  {
   "cell_type": "code",
   "execution_count": 36,
   "outputs": [
    {
     "name": "stdout",
     "output_type": "stream",
     "text": [
      "[1 1 1 1 1 1 1 1 1 1]\n",
      "[1 0 1 1 1 1 1 1 1 1]\n",
      "(106, 4) (107, 4)\n",
      "(106, 1) 2\n",
      "[[ 0.23   0.233  0.238  0.414]\n",
      " [-0.504 -0.506 -0.448 -0.327]\n",
      " [ 0.97   0.359  0.759  0.5  ]\n",
      " [ 0.378  0.212  0.309  0.414]\n",
      " [ 0.218  0.139  0.032  0.296]]\n",
      "[1 1 1 1 1 1 1 1 1 1 1 1 1 1 1 1 1 1 1 1 1 1 1 1 1 1 1 1 1 1 1 1 1 1 1 1 1\n",
      " 1 1 1 1 1 1 1 1 1 1 1 1 1]\n"
     ]
    }
   ],
   "source": [
    "print(y_train[:10].ravel())\n",
    "print(y_test[:10].ravel())\n",
    "print(x_train_stand.shape, x_test_stand.shape)\n",
    "print(y_train.shape, y_train.ndim)\n",
    "print(x_test_stand[:5])\n",
    "print(y_test_pred[:50].ravel())"
   ],
   "metadata": {
    "collapsed": false,
    "pycharm": {
     "name": "#%%\n"
    }
   }
  },
  {
   "cell_type": "code",
   "execution_count": 36,
   "outputs": [],
   "source": [],
   "metadata": {
    "collapsed": false,
    "pycharm": {
     "name": "#%%\n"
    }
   }
  }
 ],
 "metadata": {
  "kernelspec": {
   "name": "pycharm-50a0962a",
   "language": "python",
   "display_name": "PyCharm (python-demo)"
  },
  "language_info": {
   "codemirror_mode": {
    "name": "ipython",
    "version": 2
   },
   "file_extension": ".py",
   "mimetype": "text/x-python",
   "name": "python",
   "nbconvert_exporter": "python",
   "pygments_lexer": "ipython2",
   "version": "2.7.6"
  }
 },
 "nbformat": 4,
 "nbformat_minor": 0
}