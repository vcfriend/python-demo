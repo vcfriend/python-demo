{
 "cells": [
  {
   "cell_type": "code",
   "execution_count": 254,
   "metadata": {
    "collapsed": true
   },
   "outputs": [],
   "source": [
    "# coding=utf8\n",
    "\n",
    "import pandas as pd\n",
    "import numpy as np\n",
    "from sklearn.svm import SVR\n",
    "import matplotlib.pyplot as plt\n",
    "plt.style.use(plt.style.available[0])"
   ]
  },
  {
   "cell_type": "code",
   "execution_count": 255,
   "outputs": [],
   "source": [
    "# 加载数据\n",
    "df = pd.read_csv('data/DQC00-1d.txt',\n",
    "                 sep=',',\n",
    "                 nrows=5000,\n",
    "                 index_col=['datetime'],  # 设置行索引\n",
    "                 parse_dates=['datetime'],  # 解析时间 20100104130500.0\n",
    "                 date_parser=lambda x: pd.to_datetime(x, format='%Y%m%d%H%M%S.%f'),  # 时间解析的格式，进行毫秒级数据解析\n",
    "                 usecols=['datetime', 'open', 'high', 'low', 'close', 'volume'],  # 设置需要用到的列\n",
    "                 encoding='utf-8',\n",
    "                 float_precision='round_trip',  # 所有数据会当做string读取, 使用时再进行相应的转换为float\n",
    "                 )\n",
    "# pd.reset_option('display.float_format')  # 重置\n",
    "pd.set_option('precision', 2)  # 显示小数点后的位数\n",
    "pd.set_option('display.max_rows', 300)  # 控制显示的最大行数\n",
    "pd.set_option('display.min_rows', 20)  # 确定显示的部分有多少行\n",
    "# pd.set_option('display.float_format',  '{:,.2f}'.format) # 数字格式化显示 用逗号格式化大值数字 设置数字精度\n",
    "# 指定列名设置计算精确度，未指定的保持原样\n",
    "df.round({'open':0, 'high':0, 'low':0, 'close':0 })\n",
    "# 统一保持1位小数\n",
    "df.round(0)\n",
    "# 设置np输出精度\n",
    "#设定numpy显示浮点数精度的小数位数,不使用科学记数法\n",
    "np.set_printoptions(precision=2, suppress=True)"
   ],
   "metadata": {
    "collapsed": false,
    "pycharm": {
     "name": "#%%\n"
    }
   }
  },
  {
   "cell_type": "code",
   "execution_count": 256,
   "outputs": [
    {
     "name": "stdout",
     "output_type": "stream",
     "text": [
      "open      float64\n",
      "high      float64\n",
      "low       float64\n",
      "close     float64\n",
      "volume    float64\n",
      "dtype: object\n"
     ]
    },
    {
     "data": {
      "text/plain": "               open     high      low    close   volume\ndatetime                                               \n2004-09-22  1143.23  1147.88  1106.05  1106.98  77908.0\n2004-09-23  1097.68  1099.54  1089.32  1093.04  37196.0\n2004-09-24  1082.81  1101.40  1082.81  1095.83  29367.0\n2004-09-27  1092.11  1100.47  1075.38  1076.31  17336.0\n2004-09-28  1077.24  1088.39  1077.24  1082.81  26681.0",
      "text/html": "<div>\n<style scoped>\n    .dataframe tbody tr th:only-of-type {\n        vertical-align: middle;\n    }\n\n    .dataframe tbody tr th {\n        vertical-align: top;\n    }\n\n    .dataframe thead th {\n        text-align: right;\n    }\n</style>\n<table border=\"1\" class=\"dataframe\">\n  <thead>\n    <tr style=\"text-align: right;\">\n      <th></th>\n      <th>open</th>\n      <th>high</th>\n      <th>low</th>\n      <th>close</th>\n      <th>volume</th>\n    </tr>\n    <tr>\n      <th>datetime</th>\n      <th></th>\n      <th></th>\n      <th></th>\n      <th></th>\n      <th></th>\n    </tr>\n  </thead>\n  <tbody>\n    <tr>\n      <th>2004-09-22</th>\n      <td>1143.23</td>\n      <td>1147.88</td>\n      <td>1106.05</td>\n      <td>1106.98</td>\n      <td>77908.0</td>\n    </tr>\n    <tr>\n      <th>2004-09-23</th>\n      <td>1097.68</td>\n      <td>1099.54</td>\n      <td>1089.32</td>\n      <td>1093.04</td>\n      <td>37196.0</td>\n    </tr>\n    <tr>\n      <th>2004-09-24</th>\n      <td>1082.81</td>\n      <td>1101.40</td>\n      <td>1082.81</td>\n      <td>1095.83</td>\n      <td>29367.0</td>\n    </tr>\n    <tr>\n      <th>2004-09-27</th>\n      <td>1092.11</td>\n      <td>1100.47</td>\n      <td>1075.38</td>\n      <td>1076.31</td>\n      <td>17336.0</td>\n    </tr>\n    <tr>\n      <th>2004-09-28</th>\n      <td>1077.24</td>\n      <td>1088.39</td>\n      <td>1077.24</td>\n      <td>1082.81</td>\n      <td>26681.0</td>\n    </tr>\n  </tbody>\n</table>\n</div>"
     },
     "execution_count": 256,
     "metadata": {},
     "output_type": "execute_result"
    }
   ],
   "source": [
    "print(df.dtypes)\n",
    "df.head()"
   ],
   "metadata": {
    "collapsed": false,
    "pycharm": {
     "name": "#%%\n"
    }
   }
  },
  {
   "cell_type": "code",
   "execution_count": 256,
   "outputs": [],
   "source": [],
   "metadata": {
    "collapsed": false,
    "pycharm": {
     "name": "#%%\n"
    }
   }
  },
  {
   "cell_type": "code",
   "execution_count": 257,
   "outputs": [
    {
     "name": "stdout",
     "output_type": "stream",
     "text": [
      "open      False\n",
      "high      False\n",
      "low       False\n",
      "close     False\n",
      "volume    False\n",
      "dtype: bool\n",
      "open      False\n",
      "high      False\n",
      "low       False\n",
      "close     False\n",
      "volume    False\n",
      "dtype: bool\n",
      "open      0\n",
      "high      0\n",
      "low       0\n",
      "close     0\n",
      "volume    0\n",
      "dtype: int64\n"
     ]
    }
   ],
   "source": [
    "# 2.1 缺失值处理\n",
    "\n",
    "# 检查数据中是否有缺失值，以下两种方式均可\n",
    "#Flase:对应特征的特征值中无缺失值\n",
    "#True：有缺失值\n",
    "print(df.isnull().any())\n",
    "print(np.isnan(df).any())\n",
    "#返回每一列缺失值统计个数\n",
    "print(df.isnull().sum())"
   ],
   "metadata": {
    "collapsed": false,
    "pycharm": {
     "name": "#%%\n"
    }
   }
  },
  {
   "cell_type": "code",
   "execution_count": 258,
   "outputs": [
    {
     "data": {
      "text/plain": "open      0\nhigh      0\nlow       0\nclose     0\nvolume    0\ndtype: int64"
     },
     "execution_count": 258,
     "metadata": {},
     "output_type": "execute_result"
    }
   ],
   "source": [
    "#缺失值处理，以下两种方式均可\n",
    "#删除包含缺失值的行\n",
    "df.dropna(inplace=True)\n",
    "#缺失值填充\n",
    "# df.fillna('100')\n",
    "\n",
    "#返回每一列缺失值统计个数\n",
    "df.isnull().sum()"
   ],
   "metadata": {
    "collapsed": false,
    "pycharm": {
     "name": "#%%\n"
    }
   }
  },
  {
   "cell_type": "code",
   "execution_count": 259,
   "outputs": [
    {
     "name": "stdout",
     "output_type": "stream",
     "text": [
      "               open     high      low    close   volume\n",
      "datetime                                               \n",
      "2004-09-22  1143.23  1147.88  1106.05  1106.98  77908.0\n",
      "2004-09-23  1097.68  1099.54  1089.32  1093.04  37196.0\n",
      "2004-09-24  1082.81  1101.40  1082.81  1095.83  29367.0\n",
      "<class 'numpy.ndarray'> (4173, 3) 2\n",
      "[[1143.23 1147.88 1106.05]\n",
      " [1097.68 1099.54 1089.32]\n",
      " [1082.81 1101.4  1082.81]]\n"
     ]
    }
   ],
   "source": [
    "print(df[:3])\n",
    "# 2.2 确定特征值 目标值\n",
    "# 特征值取开盘价和收盘价的差值\n",
    "X = (df[['open','high','low']]).values\n",
    "print(type(X),X.shape,X.ndim)\n",
    "\n",
    "print(X[:3,])"
   ],
   "metadata": {
    "collapsed": false,
    "pycharm": {
     "name": "#%%\n"
    }
   }
  },
  {
   "cell_type": "code",
   "execution_count": 260,
   "outputs": [
    {
     "name": "stdout",
     "output_type": "stream",
     "text": [
      "(4173,)\n",
      "1\n",
      "[1106.98 1093.04 1095.83]\n"
     ]
    }
   ],
   "source": [
    "# 目标值取开盘价和收盘价的差值\n",
    "# y = df.iloc[:, -2:-1].values.ravel()\n",
    "Y = (df['close']).values\n",
    "print(Y.shape)\n",
    "print(Y.ndim)\n",
    "print(Y[:3])\n"
   ],
   "metadata": {
    "collapsed": false,
    "pycharm": {
     "name": "#%%\n"
    }
   }
  },
  {
   "cell_type": "code",
   "execution_count": 261,
   "outputs": [],
   "source": [
    "#将数据划分为训练集和验证集\n",
    "from sklearn.model_selection import train_test_split\n",
    "x_train, x_test, y_train, y_test = train_test_split(X, Y.reshape(-1,1),\n",
    "                                                    random_state=None,\n",
    "                                                    test_size=0.50,  #测试集50%样本数量\n",
    "                                                    shuffle=True,  #default=True 切分前是否对数据进行打乱。\n",
    "                                                    )\n"
   ],
   "metadata": {
    "collapsed": false,
    "pycharm": {
     "name": "#%%\n"
    }
   }
  },
  {
   "cell_type": "code",
   "execution_count": 262,
   "outputs": [
    {
     "name": "stdout",
     "output_type": "stream",
     "text": [
      "(2086, 3) (2086, 1) 2\n",
      "(2087, 3) (2087, 1) 2\n"
     ]
    },
    {
     "data": {
      "text/plain": "array([[1514.08, 1517.8 , 1506.64, 1509.43],\n       [2044.62, 2049.95, 2033.94, 2043.73],\n       [2082.03, 2082.03, 2071.1 , 2073.63]])"
     },
     "execution_count": 262,
     "metadata": {},
     "output_type": "execute_result"
    }
   ],
   "source": [
    "print(x_train.shape, y_train.shape,y_train.ndim)\n",
    "print(x_test.shape, y_test.shape,y_test.ndim)\n",
    "np.hstack((x_test, y_test))[:3]"
   ],
   "metadata": {
    "collapsed": false,
    "pycharm": {
     "name": "#%%\n"
    }
   }
  },
  {
   "cell_type": "code",
   "execution_count": 263,
   "outputs": [],
   "source": [
    "## 混淆测试集目标类别的 指定概率50%的错误\n",
    "err = x_train\n",
    "for i in range(int(len(err) * 0.0)):\n",
    "    index = int(np.random.randint(len(err)))\n",
    "    # index2 = int(np.random.randint(len(err)))\n",
    "    # err[index,0], err[index,3] = err[index,3], err[index,0]\n",
    "    err[index] = 0"
   ],
   "metadata": {
    "collapsed": false,
    "pycharm": {
     "name": "#%%\n"
    }
   }
  },
  {
   "cell_type": "code",
   "execution_count": 263,
   "outputs": [],
   "source": [],
   "metadata": {
    "collapsed": false,
    "pycharm": {
     "name": "#%%\n"
    }
   }
  },
  {
   "cell_type": "code",
   "execution_count": 264,
   "outputs": [],
   "source": [
    "# 3. 特征工程（标准化）\n",
    "from sklearn.preprocessing import StandardScaler\n",
    "\n",
    "standardScaler = StandardScaler()\n",
    "\n",
    "x_train_stand = standardScaler.fit_transform(x_train)\n",
    "x_test_stand = standardScaler.transform(x_test)\n",
    "\n",
    "y_train_stand = standardScaler.fit_transform(y_train)\n",
    "y_test_stand = standardScaler.transform(y_test)"
   ],
   "metadata": {
    "collapsed": false,
    "pycharm": {
     "name": "#%%\n"
    }
   }
  },
  {
   "cell_type": "code",
   "execution_count": 265,
   "outputs": [
    {
     "name": "stdout",
     "output_type": "stream",
     "text": [
      "(2086, 3)\n",
      "2\n",
      "(2086, 1)\n",
      "2\n",
      "[[1407.19 1416.49 1401.62]\n",
      " [1766.98 1783.72 1764.03]\n",
      " [1317.96 1318.89 1312.39]\n",
      " [1288.22 1293.8  1282.65]\n",
      " [1988.03 2005.58 1988.03]\n",
      " [1803.4  1813.43 1788.92]\n",
      " [2095.15 2098.66 2083.72]\n",
      " [1720.42 1721.35 1714.84]\n",
      " [1577.28 1578.21 1573.56]\n",
      " [1681.38 1685.1  1652.57]]\n",
      "[1407.19 1766.98 1317.96 1288.22 1988.03 1803.4  2095.15 1720.42 1577.28\n",
      " 1681.38]\n"
     ]
    }
   ],
   "source": [
    "print(x_train.shape)\n",
    "print(x_train.ndim)\n",
    "print(y_train.shape)\n",
    "print(y_train.ndim)\n",
    "print(x_train[:10])\n",
    "print(x_train[:10,0])"
   ],
   "metadata": {
    "collapsed": false,
    "pycharm": {
     "name": "#%%\n"
    }
   }
  },
  {
   "cell_type": "code",
   "execution_count": 266,
   "outputs": [],
   "source": [
    "#画图观察\n",
    "# fig, ax = plt.subplots()\n",
    "# ax.scatter(y_test_stand, x_test_stand)\n",
    "# ax.plot([y_test_stand.min(), y_test_stand.max()], [y_test_stand.min(), y_test_stand.max()], 'k--', lw=2)\n",
    "# ax.set_xlabel('Measured')\n",
    "# ax.set_ylabel('Predicted')\n",
    "# plt.show()"
   ],
   "metadata": {
    "collapsed": false,
    "pycharm": {
     "name": "#%%\n"
    }
   }
  },
  {
   "cell_type": "code",
   "execution_count": 267,
   "outputs": [],
   "source": [
    "epsilon = 0.05\n",
    "# 拟合回归模型\n",
    "svr_rbf = SVR(kernel='rbf', C=1.00, gamma=1, epsilon=epsilon)\n",
    "svr_lin = SVR(kernel='linear', C=1.00, gamma='auto', epsilon=epsilon)\n",
    "svr_poly = SVR(kernel='poly', C=1.00, gamma='auto', epsilon=epsilon,\n",
    "               degree=3,  #默认=3 多项式核函数的次数(' poly ')。将会被其他内核忽略。\n",
    "               coef0=0.1,  #默认=0.0 核函数中的独立项。它只在' poly '和' sigmoid '中有意义\n",
    "               )"
   ],
   "metadata": {
    "collapsed": false,
    "pycharm": {
     "name": "#%%\n"
    }
   }
  },
  {
   "cell_type": "code",
   "execution_count": 268,
   "outputs": [
    {
     "data": {
      "text/plain": "((2086, 3), (2087, 3))"
     },
     "execution_count": 268,
     "metadata": {},
     "output_type": "execute_result"
    }
   ],
   "source": [
    "x_train.shape, x_test.shape\n",
    "# np.vstack((x_train,x_test)).shape"
   ],
   "metadata": {
    "collapsed": false,
    "pycharm": {
     "name": "#%%\n"
    }
   }
  },
  {
   "cell_type": "code",
   "execution_count": 269,
   "outputs": [],
   "source": [
    "# plt.figure(figsize=(9, 4))  # width, height in inches\n",
    "# n_set_plt = plt.scatter(x_train_stand[:,0], y_train_stand, c='b', s=5, label='training data')\n",
    "# plt.xlabel('o')\n",
    "# plt.ylabel('c')\n",
    "# plt.title('open close Data Set')\n",
    "# plt.legend(loc=\"upper left\")\n",
    "# plt.savefig(r'./file/02_svm_svr_linear_.png', dpi=200)\n",
    "# plt.show()\n"
   ],
   "metadata": {
    "collapsed": false,
    "pycharm": {
     "name": "#%%\n"
    }
   }
  },
  {
   "cell_type": "code",
   "execution_count": 270,
   "outputs": [
    {
     "name": "stdout",
     "output_type": "stream",
     "text": [
      "\n",
      "ix=0, svcs=SVR(epsilon=0.05, gamma=1)\n",
      "估计器的参数: {'C': 1.0, 'cache_size': 200, 'coef0': 0.0, 'degree': 3, 'epsilon': 0.05, 'gamma': 1, 'kernel': 'rbf', 'max_iter': -1, 'shrinking': True, 'tol': 0.001, 'verbose': False}\n",
      "svm: (64, 3)\n",
      "epsilon:0.05 = [[17.73]]\n",
      "epsilon mean平均值: 6.4\n",
      "epsilon std标准差: 8.09\n",
      "epsilon var方差: 65.4\n",
      "svm间隔 mean平均值 487.26\n",
      "svm间隔 std标准差 537.53\n",
      "训练集评分: 0.9994959382699122 \n",
      "测试集评分: 0.9994688625334102 \n",
      "\n",
      "ix=1, svcs=SVR(epsilon=0.05, gamma='auto', kernel='linear')\n",
      "估计器的参数: {'C': 1.0, 'cache_size': 200, 'coef0': 0.0, 'degree': 3, 'epsilon': 0.05, 'gamma': 'auto', 'kernel': 'linear', 'max_iter': -1, 'shrinking': True, 'tol': 0.001, 'verbose': False}\n",
      "svm: (37, 3)\n",
      "epsilon:0.05 = [[17.73]]\n",
      "epsilon mean平均值: 4.61\n",
      "epsilon std标准差: 5.84\n",
      "epsilon var方差: 34.15\n",
      "svm间隔 mean平均值 468.56\n",
      "svm间隔 std标准差 405.29\n",
      "训练集评分: 0.9997017448839363 \n",
      "测试集评分: 0.9997030426849061 \n",
      "\n",
      "ix=2, svcs=SVR(coef0=0.1, epsilon=0.05, gamma='auto', kernel='poly')\n",
      "估计器的参数: {'C': 1.0, 'cache_size': 200, 'coef0': 0.1, 'degree': 3, 'epsilon': 0.05, 'gamma': 'auto', 'kernel': 'poly', 'max_iter': -1, 'shrinking': True, 'tol': 0.001, 'verbose': False}\n",
      "svm: (112, 3)\n",
      "epsilon:0.05 = [[17.73]]\n",
      "epsilon mean平均值: 7.32\n",
      "epsilon std标准差: 9.27\n",
      "epsilon var方差: 85.91\n",
      "svm间隔 mean平均值 340.7\n",
      "svm间隔 std标准差 389.04\n",
      "训练集评分: 0.9992777802276452 \n",
      "测试集评分: 0.9993152052582855 \n"
     ]
    },
    {
     "data": {
      "text/plain": "<Figure size 648x288 with 3 Axes>",
      "image/png": "[encoded data removed]"
     },
     "metadata": {},
     "output_type": "display_data"
    }
   ],
   "source": [
    "def plot_svm_regression(svm_reg, X, y, axes):\n",
    "    y_pred = svm_reg.predict(X)\n",
    "    plt.plot(X[:,0], y_pred, \"k-\", linewidth=2, label=r\"$\\hat{y}$\")  # 预测的回归线\n",
    "    plt.plot(X[:,0], y_pred + svm_reg.epsilon, \"k--\")  # 回归线向上平移epsilon\n",
    "    plt.plot(X[:,0], y_pred - svm_reg.epsilon, \"k--\")  # 回归线向下平移epsilon\n",
    "    plt.scatter(X[svm_reg.support_,0], y[svm_reg.support_], s=10, facecolors='#FFAAAA')\n",
    "    plt.plot(X[:,0], y, \"b.\", markersize=2)\n",
    "    plt.xlabel(r\"$x_1$\", fontsize=18)\n",
    "    plt.legend(loc=\"upper left\", fontsize=18)\n",
    "    plt.axis(axes)\n",
    "\n",
    "\n",
    "\n",
    "plt.figure(figsize=(9, 4))\n",
    "xx = np.vstack((x_train_stand[:,],x_test_stand[:,]))\n",
    "yy = np.vstack((y_train_stand,y_test_stand))\n",
    "x_min, x_max = xx.min() - 0.5, xx.max() + 0.5\n",
    "y_min, y_max = yy.min() - 0.5, yy.max() + 0.5\n",
    "\n",
    "svrs = [svr_rbf, svr_lin, svr_poly]\n",
    "kernel_label = [\"rbf\", \"linear\", \"poly\"]\n",
    "for ix, svr in enumerate(svrs):\n",
    "    fit = svr.fit(x_train_stand, y_train_stand.ravel())\n",
    "    # 获取预测值\n",
    "    y_test_pred = fit.predict(x_test_stand)\n",
    "    # 显示估计器\n",
    "    print()\n",
    "    print(f'ix=%s, svcs=%s' % (ix, svrs[ix]))\n",
    "    # 获取这个估计器的参数\n",
    "    print(f'估计器的参数: %s' % (svr.get_params()))\n",
    "\n",
    "    print('svm:',fit.support_vectors_.shape)\n",
    "    epsilon_1 = standardScaler.inverse_transform(np.array([[fit.epsilon],]))\n",
    "    epsilon_0 = standardScaler.inverse_transform(np.array([[0.00],]))\n",
    "    print('epsilon:%s = %s'%(fit.epsilon , epsilon_1 - epsilon_0))\n",
    "    y_test_pred_ = standardScaler.inverse_transform(y_test_pred.reshape(-1,1))\n",
    "    y_test_ = standardScaler.inverse_transform(y_test_stand.reshape(-1,1))\n",
    "    print('epsilon mean平均值:', np.mean(abs((y_test_ - y_test_pred_))).round(2))\n",
    "    print('epsilon std标准差:', np.std(((y_test_ - y_test_pred_))).round(2))\n",
    "    print('epsilon var方差:', np.var(((y_test_ - y_test_pred_))).round(2))\n",
    "    support_vectors_ = standardScaler.inverse_transform(fit.support_vectors_)\n",
    "    print('svm间隔 mean平均值',np.mean(abs(support_vectors_- epsilon_0)).round(2))\n",
    "    print('svm间隔 std标准差',np.std((support_vectors_- epsilon_0)).round(2))\n",
    "\n",
    "    # https://blog.csdn.net/gracejpw/article/details/101546293\n",
    "    # 返回预测的决定系数R^2\n",
    "    # R^2越接近于1，模型的拟合优度越高。\n",
    "    print(f'训练集评分: %s ' %(fit.score(x_train_stand, y_train_stand)))\n",
    "    print(f'测试集评分: %s ' % (svr.score(x_test_stand, y_test_stand)))\n",
    "\n",
    "    plt.subplot(1,3,ix+1)\n",
    "    plot_svm_regression(fit, xx, yy, [x_min, x_max, y_min, y_max])\n",
    "    plt.title(r\"${}, \\epsilon = {}$\".format(fit.kernel, fit.epsilon), fontsize=18)\n",
    "    plt.ylabel(r\"$y$\", fontsize=18, rotation=0)\n",
    "\n",
    "plt.savefig(r'./file/02_svm_svr.png', dpi=200)\n",
    "\n"
   ],
   "metadata": {
    "collapsed": false,
    "pycharm": {
     "name": "#%%\n"
    }
   }
  },
  {
   "cell_type": "code",
   "execution_count": 271,
   "outputs": [
    {
     "name": "stdout",
     "output_type": "stream",
     "text": [
      "svm: (37, 3)\n",
      "epsilon:0.05 = [[17.73]]\n",
      "epsilon mean平均值: 4.61\n",
      "epsilon std标准差: 5.84\n",
      "epsilon var方差: 34.15\n",
      "svm间隔 mean平均值 468.56\n",
      "svm间隔 std标准差 405.29\n",
      "#查看切分后的数据与切分前的数据是否一致 [[2638.54 2638.54 1067.94]\n",
      " [1595.87 1595.87 1074.45]\n",
      " [2027.13 2027.13 1202.71]\n",
      " [2650.4  2650.4  1278.93]\n",
      " [2680.95 2680.95 1317.96]]\n",
      "#查看训练集的支持向量 [[2700.8  2707.72 2636.56 2700.85 2694.25 2649.73]\n",
      " [1537.32 1595.87 1535.46 1537.46 1588.46 1542.53]\n",
      " [2061.57 2078.32 2027.13 2061.67 2068.28 2036.92]\n",
      " [2705.74 2707.72 2642.49 2705.8  2694.25 2655.69]\n",
      " [2727.37 2743.81 2661.6  2727.42 2730.15 2674.9 ]\n",
      " [2221.43 2305.96 2215.53 2221.52 2294.68 2226.36]\n",
      " [2545.65 2557.51 2497.23 2545.72 2544.86 2509.62]\n",
      " [2036.79 2044.65 1990.46 2036.89 2034.8  2000.04]\n",
      " [2463.34 2478.29 2402.53 2463.41 2466.07 2414.39]\n",
      " [2672.24 2729.3  2667.41 2672.3  2715.72 2680.74]]\n",
      "查看预测值与目标值的差值 [[1514.08 1517.8  1506.64   -5.17   -8.89    2.26   -4.65   -8.37    2.79\n",
      "     0.52]\n",
      " [2044.62 2049.95 2033.94   -5.43  -10.76    5.25   -0.89   -6.23    9.78\n",
      "     4.54]\n",
      " [2082.03 2082.03 2071.1    -9.37   -9.37    1.56   -8.4    -8.4     2.52\n",
      "     0.97]\n",
      " [2102.18 2105.7  2090.75   -7.12  -10.64    4.31   -9.67  -13.19    1.76\n",
      "    -2.55]\n",
      " [1462.03 1476.9  1462.03    7.06   -7.81    7.06   11.15   -3.72   11.15\n",
      "     4.09]]\n"
     ]
    },
    {
     "data": {
      "text/plain": "<Figure size 432x288 with 1 Axes>",
      "image/png": "[encoded data removed]"
     },
     "metadata": {},
     "output_type": "display_data"
    }
   ],
   "source": [
    "svrs = [svr_rbf, svr_lin, svr_poly]\n",
    "\n",
    "fit = svrs[1]\n",
    "\n",
    "print('svm:',fit.support_vectors_.shape)\n",
    "epsilon_1 = standardScaler.inverse_transform(np.array([[fit.epsilon],]))\n",
    "epsilon_0 = standardScaler.inverse_transform(np.array([[0.00],]))\n",
    "print('epsilon:%s = %s'%(fit.epsilon , epsilon_1 - epsilon_0))\n",
    "\n",
    "y_test_pred = fit.predict(x_test_stand)\n",
    "y_test_pred_ = standardScaler.inverse_transform(y_test_pred.reshape(-1,1))\n",
    "y_test_ = standardScaler.inverse_transform(y_test_stand.reshape(-1,1))\n",
    "print('epsilon mean平均值:', np.mean(abs((y_test_ - y_test_pred_))).round(2))\n",
    "print('epsilon std标准差:', np.std(((y_test_ - y_test_pred_))).round(2))\n",
    "print('epsilon var方差:', np.var(((y_test_ - y_test_pred_))).round(2))\n",
    "support_vectors_ = standardScaler.inverse_transform(fit.support_vectors_)\n",
    "print('svm间隔 mean平均值',np.mean(abs(support_vectors_- epsilon_0)).round(2))\n",
    "print('svm间隔 std标准差',np.std((support_vectors_- epsilon_0)).round(2))\n",
    "\n",
    "y_train_ = standardScaler.inverse_transform(y_train_stand.reshape(-1,1))\n",
    "print('#查看切分后的数据与切分前的数据是否一致',(np.hstack(((y_train[fit.support_]), (y_train_[fit.support_]),\n",
    "                                         (Y[:len(y_train)][fit.support_].reshape(-1,1)) )))[:5])\n",
    "print('#查看训练集的支持向量',np.hstack((((x_train)[fit.support_]), (support_vectors_) ))[:10])\n",
    "\n",
    "print('查看预测值与目标值的差值',(np.hstack((x_test, (y_test_pred_ - x_test), (y_test_ - x_test), (y_test - y_test_pred_)))[:5]))\n",
    "\n",
    "\n",
    "interval = abs(support_vectors_ - epsilon_0)\n",
    "plt.hist(interval, bins=50)\n",
    "plt.title('svm interval')\n",
    "plt.show()"
   ],
   "metadata": {
    "collapsed": false,
    "pycharm": {
     "name": "#%%\n"
    }
   }
  },
  {
   "cell_type": "code",
   "execution_count": 271,
   "outputs": [],
   "source": [],
   "metadata": {
    "collapsed": false,
    "pycharm": {
     "name": "#%%\n"
    }
   }
  },
  {
   "cell_type": "code",
   "execution_count": 271,
   "outputs": [],
   "source": [],
   "metadata": {
    "collapsed": false,
    "pycharm": {
     "name": "#%%\n"
    }
   }
  },
  {
   "cell_type": "code",
   "execution_count": 272,
   "outputs": [
    {
     "data": {
      "text/plain": "<Figure size 288x216 with 0 Axes>"
     },
     "metadata": {},
     "output_type": "display_data"
    }
   ],
   "source": [
    "# figure number\n",
    "fignum = 1\n",
    "plt.figure(fignum, figsize=(4, 3))\n",
    "\n",
    "# plt.scatter(np.arange(len(y_test_stand)), y_test_stand, s=5, c='blue')\n",
    "# plt.scatter(y_test_pred, y_test_pred, s=5, c='r')\n",
    "\n",
    "plt.show()"
   ],
   "metadata": {
    "collapsed": false,
    "pycharm": {
     "name": "#%%\n"
    }
   }
  },
  {
   "cell_type": "code",
   "execution_count": 273,
   "outputs": [
    {
     "name": "stdout",
     "output_type": "stream",
     "text": [
      "support_支持向量的下标 (64,)\n",
      "support_vectors_支持向量 (64, 3)\n",
      "n_support_每个类别的支持向量数量 [64]\n",
      "dual_coef_决策函数中支持向量的系数 (1, 64)\n",
      "intercept_决策函数中的常量 [0.12]\n"
     ]
    }
   ],
   "source": [
    "fit = svr_rbf\n",
    "print('support_支持向量的下标',fit.support_.shape)\n",
    "print('support_vectors_支持向量',fit.support_vectors_.shape)\n",
    "print('n_support_每个类别的支持向量数量',fit.n_support_)\n",
    "print('dual_coef_决策函数中支持向量的系数',fit.dual_coef_.shape)\n",
    "print('intercept_决策函数中的常量',fit.intercept_)"
   ],
   "metadata": {
    "collapsed": false,
    "pycharm": {
     "name": "#%%\n"
    }
   }
  },
  {
   "cell_type": "code",
   "execution_count": 273,
   "outputs": [],
   "source": [],
   "metadata": {
    "collapsed": false,
    "pycharm": {
     "name": "#%%\n"
    }
   }
  },
  {
   "cell_type": "code",
   "execution_count": 273,
   "outputs": [],
   "source": [],
   "metadata": {
    "collapsed": false,
    "pycharm": {
     "name": "#%%\n"
    }
   }
  }
 ],
 "metadata": {
  "kernelspec": {
   "name": "pycharm-50a0962a",
   "language": "python",
   "display_name": "PyCharm (python-demo)"
  },
  "language_info": {
   "codemirror_mode": {
    "name": "ipython",
    "version": 2
   },
   "file_extension": ".py",
   "mimetype": "text/x-python",
   "name": "python",
   "nbconvert_exporter": "python",
   "pygments_lexer": "ipython2",
   "version": "2.7.6"
  }
 },
 "nbformat": 4,
 "nbformat_minor": 0
}