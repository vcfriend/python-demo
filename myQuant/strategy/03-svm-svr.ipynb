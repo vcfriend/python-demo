{
 "cells": [
  {
   "cell_type": "code",
   "execution_count": 660,
   "metadata": {
    "collapsed": true
   },
   "outputs": [],
   "source": [
    "# coding=utf8\n",
    "\n",
    "import pandas as pd\n",
    "import numpy as np\n",
    "from sklearn.svm import SVR\n",
    "import matplotlib.pyplot as plt\n",
    "\n",
    "plt.style.use(plt.style.available[0])"
   ]
  },
  {
   "cell_type": "code",
   "execution_count": 661,
   "outputs": [],
   "source": [
    "# 加载数据\n",
    "df = pd.read_csv('data/DQC00-1d.txt',\n",
    "                 sep=',',\n",
    "                 nrows=5000,\n",
    "                 index_col=['datetime'],  # 设置行索引\n",
    "                 parse_dates=['datetime'],  # 解析时间 20100104130500.0\n",
    "                 date_parser=lambda x: pd.to_datetime(x, format='%Y%m%d%H%M%S.%f'),  # 时间解析的格式，进行毫秒级数据解析\n",
    "                 usecols=['datetime', 'open', 'high', 'low', 'close', 'volume'],  # 设置需要用到的列\n",
    "                 encoding='utf-8',\n",
    "                 float_precision='round_trip',  # 所有数据会当做string读取, 使用时再进行相应的转换为float\n",
    "                 )\n",
    "# pd.reset_option('display.float_format')  # 重置\n",
    "pd.set_option('precision', 2)  # 显示小数点后的位数\n",
    "pd.set_option('display.max_rows', 300)  # 控制显示的最大行数\n",
    "pd.set_option('display.min_rows', 20)  # 确定显示的部分有多少行\n",
    "# pd.set_option('display.float_format',  '{:,.2f}'.format) # 数字格式化显示 用逗号格式化大值数字 设置数字精度\n",
    "# 指定列名设置计算精确度，未指定的保持原样\n",
    "df.round({'open': 0, 'high': 0, 'low': 0, 'close': 0})\n",
    "# 统一保持1位小数\n",
    "df.round(0)\n",
    "# 设置np输出精度\n",
    "#设定numpy显示浮点数精度的小数位数,不使用科学记数法\n",
    "np.set_printoptions(precision=2, suppress=True)"
   ],
   "metadata": {
    "collapsed": false,
    "pycharm": {
     "name": "#%%\n"
    }
   }
  },
  {
   "cell_type": "code",
   "execution_count": 662,
   "outputs": [
    {
     "name": "stdout",
     "output_type": "stream",
     "text": [
      "open      float64\n",
      "high      float64\n",
      "low       float64\n",
      "close     float64\n",
      "volume    float64\n",
      "dtype: object\n"
     ]
    },
    {
     "data": {
      "text/plain": "               open     high      low    close   volume\ndatetime                                               \n2004-09-22  1143.23  1147.88  1106.05  1106.98  77908.0\n2004-09-23  1097.68  1099.54  1089.32  1093.04  37196.0\n2004-09-24  1082.81  1101.40  1082.81  1095.83  29367.0\n2004-09-27  1092.11  1100.47  1075.38  1076.31  17336.0\n2004-09-28  1077.24  1088.39  1077.24  1082.81  26681.0",
      "text/html": "<div>\n<style scoped>\n    .dataframe tbody tr th:only-of-type {\n        vertical-align: middle;\n    }\n\n    .dataframe tbody tr th {\n        vertical-align: top;\n    }\n\n    .dataframe thead th {\n        text-align: right;\n    }\n</style>\n<table border=\"1\" class=\"dataframe\">\n  <thead>\n    <tr style=\"text-align: right;\">\n      <th></th>\n      <th>open</th>\n      <th>high</th>\n      <th>low</th>\n      <th>close</th>\n      <th>volume</th>\n    </tr>\n    <tr>\n      <th>datetime</th>\n      <th></th>\n      <th></th>\n      <th></th>\n      <th></th>\n      <th></th>\n    </tr>\n  </thead>\n  <tbody>\n    <tr>\n      <th>2004-09-22</th>\n      <td>1143.23</td>\n      <td>1147.88</td>\n      <td>1106.05</td>\n      <td>1106.98</td>\n      <td>77908.0</td>\n    </tr>\n    <tr>\n      <th>2004-09-23</th>\n      <td>1097.68</td>\n      <td>1099.54</td>\n      <td>1089.32</td>\n      <td>1093.04</td>\n      <td>37196.0</td>\n    </tr>\n    <tr>\n      <th>2004-09-24</th>\n      <td>1082.81</td>\n      <td>1101.40</td>\n      <td>1082.81</td>\n      <td>1095.83</td>\n      <td>29367.0</td>\n    </tr>\n    <tr>\n      <th>2004-09-27</th>\n      <td>1092.11</td>\n      <td>1100.47</td>\n      <td>1075.38</td>\n      <td>1076.31</td>\n      <td>17336.0</td>\n    </tr>\n    <tr>\n      <th>2004-09-28</th>\n      <td>1077.24</td>\n      <td>1088.39</td>\n      <td>1077.24</td>\n      <td>1082.81</td>\n      <td>26681.0</td>\n    </tr>\n  </tbody>\n</table>\n</div>"
     },
     "execution_count": 662,
     "metadata": {},
     "output_type": "execute_result"
    }
   ],
   "source": [
    "print(df.dtypes)\n",
    "df.head()"
   ],
   "metadata": {
    "collapsed": false,
    "pycharm": {
     "name": "#%%\n"
    }
   }
  },
  {
   "cell_type": "code",
   "execution_count": 662,
   "outputs": [],
   "source": [],
   "metadata": {
    "collapsed": false,
    "pycharm": {
     "name": "#%%\n"
    }
   }
  },
  {
   "cell_type": "code",
   "execution_count": 663,
   "outputs": [
    {
     "name": "stdout",
     "output_type": "stream",
     "text": [
      "open      False\n",
      "high      False\n",
      "low       False\n",
      "close     False\n",
      "volume    False\n",
      "dtype: bool\n",
      "open      False\n",
      "high      False\n",
      "low       False\n",
      "close     False\n",
      "volume    False\n",
      "dtype: bool\n",
      "open      0\n",
      "high      0\n",
      "low       0\n",
      "close     0\n",
      "volume    0\n",
      "dtype: int64\n"
     ]
    }
   ],
   "source": [
    "# 2.1 缺失值处理\n",
    "\n",
    "# 检查数据中是否有缺失值，以下两种方式均可\n",
    "#Flase:对应特征的特征值中无缺失值\n",
    "#True：有缺失值\n",
    "print(df.isnull().any())\n",
    "print(np.isnan(df).any())\n",
    "#返回每一列缺失值统计个数\n",
    "print(df.isnull().sum())"
   ],
   "metadata": {
    "collapsed": false,
    "pycharm": {
     "name": "#%%\n"
    }
   }
  },
  {
   "cell_type": "code",
   "execution_count": 664,
   "outputs": [
    {
     "data": {
      "text/plain": "open      0\nhigh      0\nlow       0\nclose     0\nvolume    0\ndtype: int64"
     },
     "execution_count": 664,
     "metadata": {},
     "output_type": "execute_result"
    }
   ],
   "source": [
    "#缺失值处理，以下两种方式均可\n",
    "#删除包含缺失值的行\n",
    "df.dropna(inplace=True)\n",
    "#缺失值填充\n",
    "# df.fillna('100')\n",
    "\n",
    "#返回每一列缺失值统计个数\n",
    "df.isnull().sum()"
   ],
   "metadata": {
    "collapsed": false,
    "pycharm": {
     "name": "#%%\n"
    }
   }
  },
  {
   "cell_type": "code",
   "execution_count": 665,
   "outputs": [
    {
     "name": "stdout",
     "output_type": "stream",
     "text": [
      "               open     high      low    close    volume\n",
      "datetime                                                \n",
      "2021-01-04  2664.50  2687.72  2650.96  2655.80  633210.0\n",
      "2021-01-05  2654.83  2686.75  2654.83  2678.04  472285.0\n",
      "2021-01-06  2683.85  2706.09  2679.01  2694.49  481959.0\n",
      "<class 'numpy.ndarray'> (213, 3) 2\n",
      "[[2664.5  2687.72 2650.96]\n",
      " [2654.83 2686.75 2654.83]\n",
      " [2683.85 2706.09 2679.01]]\n"
     ]
    }
   ],
   "source": [
    "# 截取时间段内样本数据\n",
    "df = df[\"2021-01-01\":]\n",
    "print(df[:3])\n",
    "# 2.2 确定特征值 目标值\n",
    "# 特征值取开盘价和收盘价的差值\n",
    "# X = (df[['open']]).values\n",
    "X = (df[['open', 'high', 'low']]).values\n",
    "print(type(X), X.shape, X.ndim)\n",
    "\n",
    "print(X[:3, ])"
   ],
   "metadata": {
    "collapsed": false,
    "pycharm": {
     "name": "#%%\n"
    }
   }
  },
  {
   "cell_type": "code",
   "execution_count": 666,
   "outputs": [
    {
     "name": "stdout",
     "output_type": "stream",
     "text": [
      "(213,)\n",
      "1\n",
      "[2655.8  2678.04 2694.49]\n"
     ]
    }
   ],
   "source": [
    "# 目标值取开盘价和收盘价的差值\n",
    "# y = df.iloc[:, -2:-1].values.ravel()\n",
    "Y = (df['close']).values\n",
    "print(Y.shape)\n",
    "print(Y.ndim)\n",
    "print(Y[:3])\n"
   ],
   "metadata": {
    "collapsed": false,
    "pycharm": {
     "name": "#%%\n"
    }
   }
  },
  {
   "cell_type": "code",
   "execution_count": 667,
   "outputs": [],
   "source": [
    "#将数据划分为训练集和验证集\n",
    "from sklearn.model_selection import train_test_split\n",
    "\n",
    "x_train, x_test, y_train, y_test = train_test_split(X, Y.reshape(-1, 1),\n",
    "                                                    random_state=None,\n",
    "                                                    test_size=0.50,  #测试集50%样本数量\n",
    "                                                    shuffle=True,  #default=True 切分前是否对数据进行打乱。\n",
    "                                                    )\n"
   ],
   "metadata": {
    "collapsed": false,
    "pycharm": {
     "name": "#%%\n"
    }
   }
  },
  {
   "cell_type": "code",
   "execution_count": 668,
   "outputs": [
    {
     "name": "stdout",
     "output_type": "stream",
     "text": [
      "(106, 3) (106, 1) 2\n",
      "(107, 3) (107, 1) 2\n"
     ]
    },
    {
     "data": {
      "text/plain": "array([[2637.55, 2689.93, 2630.63, 2650.4 ],\n       [2559.48, 2578.26, 2552.57, 2557.51],\n       [2600.  , 2600.  , 2544.66, 2576.28]])"
     },
     "execution_count": 668,
     "metadata": {},
     "output_type": "execute_result"
    }
   ],
   "source": [
    "print(x_train.shape, y_train.shape, y_train.ndim)\n",
    "print(x_test.shape, y_test.shape, y_test.ndim)\n",
    "np.hstack((x_test, y_test))[:3]"
   ],
   "metadata": {
    "collapsed": false,
    "pycharm": {
     "name": "#%%\n"
    }
   }
  },
  {
   "cell_type": "code",
   "execution_count": 669,
   "outputs": [],
   "source": [
    "## 混淆测试集目标类别的 指定概率50%的错误\n",
    "err = x_train\n",
    "for i in range(int(len(err) * 0.0)):\n",
    "    index = int(np.random.randint(len(err)))\n",
    "    # index2 = int(np.random.randint(len(err)))\n",
    "    # err[index,0], err[index,3] = err[index,3], err[index,0]\n",
    "    err[index] = 0"
   ],
   "metadata": {
    "collapsed": false,
    "pycharm": {
     "name": "#%%\n"
    }
   }
  },
  {
   "cell_type": "code",
   "execution_count": 669,
   "outputs": [],
   "source": [],
   "metadata": {
    "collapsed": false,
    "pycharm": {
     "name": "#%%\n"
    }
   }
  },
  {
   "cell_type": "code",
   "execution_count": 670,
   "outputs": [],
   "source": [
    "# 3. 特征工程（标准化）\n",
    "from sklearn.preprocessing import StandardScaler\n",
    "\n",
    "standardScaler = StandardScaler()\n",
    "\n",
    "x_train_stand = standardScaler.fit_transform(x_train)\n",
    "x_test_stand = standardScaler.transform(x_test)\n",
    "\n",
    "y_train_stand = standardScaler.fit_transform(y_train)\n",
    "y_test_stand = standardScaler.transform(y_test)"
   ],
   "metadata": {
    "collapsed": false,
    "pycharm": {
     "name": "#%%\n"
    }
   }
  },
  {
   "cell_type": "code",
   "execution_count": 671,
   "outputs": [
    {
     "name": "stdout",
     "output_type": "stream",
     "text": [
      "(106, 3)\n",
      "2\n",
      "(106, 1)\n",
      "2\n",
      "[[2654.83 2686.75 2654.83]\n",
      " [2664.5  2687.72 2650.96]\n",
      " [2463.   2470.   2451.  ]\n",
      " [2457.   2462.   2436.  ]\n",
      " [2690.   2724.   2684.  ]\n",
      " [2497.   2499.   2487.  ]\n",
      " [2507.   2510.   2492.  ]\n",
      " [2608.   2657.   2608.  ]\n",
      " [2773.79 2779.6  2738.98]\n",
      " [2685.97 2724.52 2685.97]]\n",
      "[2654.83 2664.5  2463.   2457.   2690.   2497.   2507.   2608.   2773.79\n",
      " 2685.97]\n"
     ]
    }
   ],
   "source": [
    "print(x_train.shape)\n",
    "print(x_train.ndim)\n",
    "print(y_train.shape)\n",
    "print(y_train.ndim)\n",
    "print(x_train[:10])\n",
    "print(x_train[:10, 0])"
   ],
   "metadata": {
    "collapsed": false,
    "pycharm": {
     "name": "#%%\n"
    }
   }
  },
  {
   "cell_type": "code",
   "execution_count": 672,
   "outputs": [],
   "source": [
    "#画图观察\n",
    "# fig, ax = plt.subplots()\n",
    "# ax.scatter(y_test_stand, x_test_stand)\n",
    "# ax.plot([y_test_stand.min(), y_test_stand.max()], [y_test_stand.min(), y_test_stand.max()], 'k--', lw=2)\n",
    "# ax.set_xlabel('Measured')\n",
    "# ax.set_ylabel('Predicted')\n",
    "# plt.show()"
   ],
   "metadata": {
    "collapsed": false,
    "pycharm": {
     "name": "#%%\n"
    }
   }
  },
  {
   "cell_type": "code",
   "execution_count": 673,
   "outputs": [],
   "source": [
    "epsilon = 0.15\n",
    "c = 1.0\n",
    "# 拟合回归模型\n",
    "svr_rbf = SVR(kernel='rbf', C=c, gamma=1, epsilon=epsilon)\n",
    "svr_lin = SVR(kernel='linear', C=c, gamma='auto', epsilon=epsilon)\n",
    "svr_poly = SVR(kernel='poly', C=c, gamma='auto', epsilon=epsilon,\n",
    "               degree=3,  #默认=3 多项式核函数的次数(' poly ')。将会被其他内核忽略。\n",
    "               coef0=0.1,  #默认=0.0 核函数中的独立项。它只在' poly '和' sigmoid '中有意义\n",
    "               )"
   ],
   "metadata": {
    "collapsed": false,
    "pycharm": {
     "name": "#%%\n"
    }
   }
  },
  {
   "cell_type": "code",
   "execution_count": 674,
   "outputs": [
    {
     "data": {
      "text/plain": "((106, 3), (107, 3))"
     },
     "execution_count": 674,
     "metadata": {},
     "output_type": "execute_result"
    }
   ],
   "source": [
    "x_train.shape, x_test.shape\n",
    "# np.vstack((x_train,x_test)).shape"
   ],
   "metadata": {
    "collapsed": false,
    "pycharm": {
     "name": "#%%\n"
    }
   }
  },
  {
   "cell_type": "code",
   "execution_count": 695,
   "outputs": [
    {
     "name": "stdout",
     "output_type": "stream",
     "text": [
      "ix=0, svcs=SVR(epsilon=0.15, gamma=1)\n",
      "估计器的参数: kernel=rbf, C=1.0, epsilon=0.15\n",
      "svm: (30, 3) epsilon:0.15 = [[13.98]]\n",
      "epsilon mean: 9.51 std: 12.12 max: 31.79 min: 0.01\n",
      "std与误差范围占比%: 0.38  var方差: 146.96\n",
      "svm间隔 mean: 94.14 std: 107.51 max: 215.6 min: 1.5\n",
      "std与误差范围占比%: 0.5\n",
      "训练集评分: 0.9785992072844094 \n",
      "测试集评分: 0.9812676378661254 \n",
      "ix=1, svcs=SVR(epsilon=0.15, gamma='auto', kernel='linear')\n",
      "估计器的参数: kernel=linear, C=1.0, epsilon=0.15\n",
      "svm: (21, 3) epsilon:0.15 = [[13.98]]\n",
      "epsilon mean: 9.12 std: 11.31 max: 31.25 min: 0.12\n",
      "std与误差范围占比%: 0.36  var方差: 127.98\n",
      "svm间隔 mean: 82.92 std: 88.29 max: 162.47 min: 14.34\n",
      "std与误差范围占比%: 0.6\n",
      "训练集评分: 0.9847770235896951 \n",
      "测试集评分: 0.9836875980003926 \n",
      "ix=2, svcs=SVR(coef0=0.1, epsilon=0.15, gamma='auto', kernel='poly')\n",
      "估计器的参数: kernel=poly, C=1.0, epsilon=0.15\n",
      "svm: (53, 3) epsilon:0.15 = [[13.98]]\n",
      "epsilon mean: 17.9 std: 23.36 max: 85.15 min: 0.07\n",
      "std与误差范围占比%: 0.27  var方差: 545.47\n",
      "svm间隔 mean: 85.58 std: 96.4 max: 215.6 min: 1.5\n",
      "std与误差范围占比%: 0.45\n",
      "训练集评分: 0.9524273767244102 \n",
      "测试集评分: 0.9301962571360677 \n"
     ]
    },
    {
     "data": {
      "text/plain": "<Figure size 648x288 with 3 Axes>",
      "image/png": "[encoded data removed]"
     },
     "metadata": {},
     "output_type": "display_data"
    }
   ],
   "source": [
    "def plot_svm_regression(svm_reg, X, y, axes):\n",
    "    y_pred = svm_reg.predict(X)\n",
    "    plt.plot(X[:, 0], y_pred, \"g\", linewidth=1, label=r\"$\\hat{y}$\")  # 预测的回归线\n",
    "    plt.plot(X[:, 0], y_pred + svm_reg.epsilon, \"r\", linewidth=1)  # 回归线向上平移epsilon\n",
    "    plt.plot(X[:, 0], y_pred - svm_reg.epsilon, \"r\", linewidth=1)  # 回归线向下平移epsilon\n",
    "    plt.scatter(X[svm_reg.support_, 0], y[svm_reg.support_], s=10, facecolors='#FFAAAA')\n",
    "    plt.plot(X[:, 0], y, \"b.\", markersize=2)\n",
    "    plt.xlabel(r\"$x_1$\", fontsize=18)\n",
    "    plt.legend(loc=\"upper left\", fontsize=18)\n",
    "    plt.axis(axes)\n",
    "\n",
    "\n",
    "plt.figure(figsize=(9, 4))\n",
    "xx = np.vstack((x_train_stand[:, ], x_test_stand[:, ]))\n",
    "yy = np.vstack((y_train_stand, y_test_stand))\n",
    "x_min, x_max = xx.min() - 0.5, xx.max() + 0.5\n",
    "y_min, y_max = yy.min() - 0.5, yy.max() + 0.5\n",
    "\n",
    "svrs = [svr_rbf, svr_lin, svr_poly]\n",
    "kernel_label = [\"rbf\", \"linear\", \"poly\"]\n",
    "for ix, svr in enumerate(svrs):\n",
    "    fit = svr.fit(x_train_stand, y_train_stand.ravel())\n",
    "    # 获取预测值\n",
    "    y_test_pred = fit.predict(x_test_stand)\n",
    "    # 显示估计器\n",
    "    print(f'ix=%s, svcs=%s' % (ix, svrs[ix]))\n",
    "    # 获取这个估计器的参数\n",
    "    svr_params = svr.get_params()\n",
    "    print(f'估计器的参数: kernel=%s, C=%s, epsilon=%s' % (svr_params.get('kernel'), svr_params.get('C'), svr_params.get('epsilon')))\n",
    "\n",
    "    epsilon_1 = standardScaler.inverse_transform(np.array([[fit.epsilon], ]))\n",
    "    epsilon_0 = standardScaler.inverse_transform(np.array([[0.00], ]))\n",
    "    print('svm:', fit.support_vectors_.shape, 'epsilon:%s = %s' % (fit.epsilon, epsilon_1 - epsilon_0))\n",
    "    y_test_pred_ = standardScaler.inverse_transform(y_test_pred.reshape(-1, 1))\n",
    "    y_test_ = standardScaler.inverse_transform(y_test_stand.reshape(-1, 1))\n",
    "    y_test_d = (y_test_ - y_test_pred_)  #epsilon误差\n",
    "    y_test_d_max, y_test_d_min = abs(y_test_d).max(), abs(y_test_d).min()  #误差最大值和最小值\n",
    "    print('epsilon mean:', np.mean(abs(y_test_d)).round(2),  #平均值\n",
    "          'std:', np.std(((y_test_ - y_test_pred_))).round(2),  #标准差\n",
    "          'max:', (y_test_d_max).round(2),\n",
    "          'min:', y_test_d_min.round(2),\n",
    "          )\n",
    "    print(\"std与误差范围占比%:\", (np.std(y_test_d) / (y_test_d_max - y_test_d_min)).round(2),  #标准差std与误差范围占比%\n",
    "        ' var方差:', np.var(y_test_d).round(2))\n",
    "\n",
    "    support_vectors_ = standardScaler.inverse_transform(fit.support_vectors_)\n",
    "    support_vectors_d = support_vectors_ - epsilon_0  #svm间隔\n",
    "    support_vectors_d_max, support_vectors_d_min = abs(support_vectors_d).max(), abs(support_vectors_d).min()  #svm间隔最大值和最小值\n",
    "    print('svm mean:', np.mean(abs(support_vectors_ - epsilon_0)).round(2),  #平均值\n",
    "          'std:', np.std((support_vectors_d)).round(2),  #标准差\n",
    "          'max:', support_vectors_d_max.round(2),\n",
    "          'min:', support_vectors_d_min.round(2),\n",
    "          )\n",
    "    print('std与误差范围占比%:', (np.std(support_vectors_d)/(support_vectors_d_max - support_vectors_d_min)).round(2))  #标准差std与误差范围占比%\n",
    "\n",
    "    # https://blog.csdn.net/gracejpw/article/details/101546293\n",
    "    # 返回预测的决定系数R^2\n",
    "    # R^2越接近于1，模型的拟合优度越高。\n",
    "    print(f'训练集评分: %s ' % (fit.score(x_train_stand, y_train_stand)))\n",
    "    print(f'测试集评分: %s ' % (svr.score(x_test_stand, y_test_stand)))\n",
    "\n",
    "    plt.subplot(1, 3, ix + 1)\n",
    "    plot_svm_regression(fit, xx, yy, [x_min, x_max, y_min, y_max])\n",
    "    plt.title(r\"${}, \\epsilon = {}$\".format(fit.kernel, fit.epsilon), fontsize=18)\n",
    "    plt.ylabel(r\"$y$\", fontsize=18, rotation=0)\n",
    "\n",
    "\n",
    "plt.show()\n",
    "# plt.savefig(r'./file/02_svm_svr.png', dpi=200)\n",
    "\n"
   ],
   "metadata": {
    "collapsed": false,
    "pycharm": {
     "name": "#%%\n"
    }
   }
  },
  {
   "cell_type": "code",
   "execution_count": 699,
   "outputs": [
    {
     "name": "stdout",
     "output_type": "stream",
     "text": [
      "sv: (21, 3)\n",
      "epsilon:0.15 = [[13.98]]\n",
      "epsilon mean平均值: 9.12\n",
      "epsilon std标准差: 11.31\n",
      "epsilon std标准差: 11.31\n",
      "epsilon var方差: 127.98\n",
      "svm mean平均值 82.92\n",
      "svm std标准差 88.29\n",
      "#查看切分后的数据与切分前的数据是否一致 [[2655.8  2655.8  2678.04]\n",
      " [2544.   2544.   2674.18]\n",
      " [2583.2  2583.2  2725.43]\n",
      " [2546.64 2546.64 2678.04]\n",
      " [2783.81 2783.81 2735.11]]\n",
      "#查看训练集的sv支持向量(21, 3) [[2664.5  2687.72 2650.96 2662.56 2665.25 2670.91]\n",
      " [2490.   2548.   2489.   2491.41 2530.67 2503.41]\n",
      " [2557.51 2585.18 2525.88 2557.62 2566.48 2541.55]\n",
      " [2517.98 2551.58 2503.15 2518.85 2534.12 2518.05]\n",
      " [2729.46 2804.56 2724.52 2726.26 2777.8  2746.98]\n",
      " [2700.8  2707.72 2636.56 2698.15 2684.52 2656.02]\n",
      " [2505.   2523.   2501.   2506.12 2506.59 2515.82]\n",
      " [2545.65 2557.51 2497.23 2545.98 2539.83 2511.92]\n",
      " [2568.   2621.   2540.   2567.91 2600.99 2556.15]\n",
      " [2550.   2557.   2500.   2550.25 2539.34 2514.78]]\n",
      "查看预测值与目标值的差值 [[2637.55 2689.93 2630.63   27.84  -24.54   34.75   12.85  -39.53   19.76\n",
      "   -14.99]\n",
      " [2559.48 2578.26 2552.57   11.21   -7.57   18.13   -1.98  -20.75    4.94\n",
      "   -13.19]\n",
      " [2600.   2600.   2544.66  -40.31  -40.31   15.03  -23.72  -23.72   31.62\n",
      "    16.59]\n",
      " [2588.   2635.   2587.     30.59  -16.41   31.59   39.     -8.     40.\n",
      "     8.41]\n",
      " [2582.21 2625.69 2569.37   18.69  -24.79   31.54    7.91  -35.58   20.75\n",
      "   -10.79]]\n"
     ]
    },
    {
     "data": {
      "text/plain": "<Figure size 432x288 with 1 Axes>",
      "image/png": "[encoded data removed]"
     },
     "metadata": {},
     "output_type": "display_data"
    }
   ],
   "source": [
    "svrs = [svr_rbf, svr_lin, svr_poly]\n",
    "\n",
    "fit = svrs[1]\n",
    "\n",
    "print('sv:', fit.support_vectors_.shape)\n",
    "epsilon_1 = standardScaler.inverse_transform(np.array([[fit.epsilon], ]))\n",
    "epsilon_0 = standardScaler.inverse_transform(np.array([[0.00], ]))\n",
    "print('epsilon:%s = %s' % (fit.epsilon, epsilon_1 - epsilon_0))\n",
    "\n",
    "y_test_pred = fit.predict(x_test_stand)\n",
    "y_test_pred_ = standardScaler.inverse_transform(y_test_pred.reshape(-1, 1))\n",
    "y_test_ = standardScaler.inverse_transform(y_test_stand.reshape(-1, 1))\n",
    "print('epsilon mean平均值:', np.mean(abs((y_test_ - y_test_pred_))).round(2))\n",
    "print('epsilon std标准差:', np.std(((y_test_ - y_test_pred_))).round(2))\n",
    "print('epsilon std标准差:', np.std((y_test_ - y_test_pred_)).round(2))\n",
    "print('epsilon var方差:', np.var(((y_test_ - y_test_pred_))).round(2))\n",
    "support_vectors_ = standardScaler.inverse_transform(fit.support_vectors_)\n",
    "print('svm mean平均值', np.mean(abs(support_vectors_ - epsilon_0)).round(2))\n",
    "print('svm std标准差', np.std((support_vectors_ - epsilon_0)).round(2))\n",
    "\n",
    "y_train_ = standardScaler.inverse_transform(y_train_stand.reshape(-1, 1))\n",
    "print('#查看切分后的数据与切分前的数据是否一致', (np.hstack(((y_train[fit.support_]), (y_train_[fit.support_]),\n",
    "                                          (Y[:len(y_train)][fit.support_].reshape(-1, 1)))))[:5])\n",
    "print('#查看训练集的sv支持向量%s %s' % (fit.support_vectors_.shape, np.hstack((((x_train)[fit.support_]), (support_vectors_)))[:10]))\n",
    "\n",
    "print('查看预测值与目标值的差值', (np.hstack((x_test, (y_test_pred_ - x_test), (y_test_ - x_test), (y_test - y_test_pred_)))[:5]))\n",
    "\n",
    "interval = abs(support_vectors_ - epsilon_0)\n",
    "plt.hist(interval, bins=50)\n",
    "plt.title(r'$%s\\ sv%s\\ \\epsilon = %s$' % (fit.kernel, fit.support_vectors_.shape, fit.epsilon))\n",
    "plt.show()"
   ],
   "metadata": {
    "collapsed": false,
    "pycharm": {
     "name": "#%%\n"
    }
   }
  },
  {
   "cell_type": "code",
   "execution_count": 676,
   "outputs": [],
   "source": [],
   "metadata": {
    "collapsed": false,
    "pycharm": {
     "name": "#%%\n"
    }
   }
  },
  {
   "cell_type": "code",
   "execution_count": 676,
   "outputs": [],
   "source": [],
   "metadata": {
    "collapsed": false,
    "pycharm": {
     "name": "#%%\n"
    }
   }
  },
  {
   "cell_type": "code",
   "execution_count": 677,
   "outputs": [
    {
     "name": "stdout",
     "output_type": "stream",
     "text": [
      "epsilon_0 [[2615.33]]\n",
      "#查看训练集的支持向量(21, 3) [[2664.5  2687.72 2650.96 2662.56 2665.25 2670.91]\n",
      " [2490.   2548.   2489.   2491.41 2530.67 2503.41]\n",
      " [2557.51 2585.18 2525.88 2557.62 2566.48 2541.55]\n",
      " [2517.98 2551.58 2503.15 2518.85 2534.12 2518.05]\n",
      " [2729.46 2804.56 2724.52 2726.26 2777.8  2746.98]\n",
      " [2700.8  2707.72 2636.56 2698.15 2684.52 2656.02]\n",
      " [2505.   2523.   2501.   2506.12 2506.59 2515.82]\n",
      " [2545.65 2557.51 2497.23 2545.98 2539.83 2511.92]\n",
      " [2568.   2621.   2540.   2567.91 2600.99 2556.15]\n",
      " [2550.   2557.   2500.   2550.25 2539.34 2514.78]\n",
      " [2650.4  2664.23 2634.59 2648.72 2642.63 2653.98]\n",
      " [2558.49 2574.31 2549.6  2558.58 2556.01 2566.08]\n",
      " [2725.43 2736.07 2659.67 2722.31 2711.83 2679.92]\n",
      " [2734.4  2739.34 2698.82 2731.1  2714.98 2720.41]\n",
      " [2481.   2520.   2471.   2482.58 2503.7  2484.79]\n",
      " [2679.98 2684.81 2623.88 2677.73 2662.46 2642.91]\n",
      " [2541.7  2564.42 2513.04 2542.11 2546.49 2528.27]\n",
      " [2731.43 2739.34 2697.83 2728.2  2714.98 2719.39]\n",
      " [2458.   2486.   2452.   2460.02 2470.95 2465.14]\n",
      " [2700.29 2722.53 2677.08 2697.65 2698.79 2697.92]\n",
      " [2546.51 2617.11 2526.2  2546.83 2597.25 2541.88]]\n"
     ]
    }
   ],
   "source": [
    "print('epsilon_0', epsilon_0)\n",
    "print('#查看训练集的支持向量%s %s' % (fit.support_vectors_.shape, np.hstack((((x_train)[fit.support_]), (support_vectors_)))[:]))"
   ],
   "metadata": {
    "collapsed": false,
    "pycharm": {
     "name": "#%%\n"
    }
   }
  },
  {
   "cell_type": "code",
   "execution_count": 678,
   "outputs": [
    {
     "name": "stdout",
     "output_type": "stream",
     "text": [
      "support_支持向量的下标 (21,)\n",
      "support_vectors_支持向量 (21, 3)\n",
      "n_support_每个类别的支持向量数量 [21]\n",
      "dual_coef_决策函数中支持向量的系数 (1, 21)\n",
      "intercept_决策函数中的常量 [0.02]\n"
     ]
    }
   ],
   "source": [
    "# fit = svr_rbf\n",
    "print('support_支持向量的下标', fit.support_.shape)\n",
    "print('support_vectors_支持向量', fit.support_vectors_.shape)\n",
    "print('n_support_每个类别的支持向量数量', fit.n_support_)\n",
    "print('dual_coef_决策函数中支持向量的系数', fit.dual_coef_.shape)\n",
    "print('intercept_决策函数中的常量', fit.intercept_)"
   ],
   "metadata": {
    "collapsed": false,
    "pycharm": {
     "name": "#%%\n"
    }
   }
  },
  {
   "cell_type": "code",
   "execution_count": 678,
   "outputs": [],
   "source": [],
   "metadata": {
    "collapsed": false,
    "pycharm": {
     "name": "#%%\n"
    }
   }
  },
  {
   "cell_type": "code",
   "execution_count": 678,
   "outputs": [],
   "source": [],
   "metadata": {
    "collapsed": false,
    "pycharm": {
     "name": "#%%\n"
    }
   }
  }
 ],
 "metadata": {
  "kernelspec": {
   "name": "py39",
   "language": "python",
   "display_name": "py39"
  },
  "language_info": {
   "codemirror_mode": {
    "name": "ipython",
    "version": 2
   },
   "file_extension": ".py",
   "mimetype": "text/x-python",
   "name": "python",
   "nbconvert_exporter": "python",
   "pygments_lexer": "ipython2",
   "version": "2.7.6"
  }
 },
 "nbformat": 4,
 "nbformat_minor": 0
}