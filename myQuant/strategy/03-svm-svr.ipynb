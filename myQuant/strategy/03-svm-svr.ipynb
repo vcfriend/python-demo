{
 "cells": [
  {
   "cell_type": "code",
   "execution_count": 2,
   "metadata": {
    "collapsed": true
   },
   "outputs": [],
   "source": [
    "# coding=utf8\n",
    "\n",
    "import pandas as pd\n",
    "import numpy as np\n",
    "from sklearn.svm import SVR\n",
    "import matplotlib.pyplot as plt\n",
    "plt.style.use(plt.style.available[0])"
   ]
  },
  {
   "cell_type": "code",
   "execution_count": 3,
   "outputs": [],
   "source": [
    "# 加载数据\n",
    "df = pd.read_csv('data/DQC00-1d.txt',\n",
    "                 sep=',',\n",
    "                 nrows=5000,\n",
    "                 index_col=['datetime'],  # 设置行索引\n",
    "                 parse_dates=['datetime'],  # 解析时间 20100104130500.0\n",
    "                 date_parser=lambda x: pd.to_datetime(x, format='%Y%m%d%H%M%S.%f'),  # 时间解析的格式，进行毫秒级数据解析\n",
    "                 usecols=['datetime', 'open', 'high', 'low', 'close', 'volume'],  # 设置需要用到的列\n",
    "                 encoding='utf-8',\n",
    "                 float_precision='round_trip',  # 所有数据会当做string读取, 使用时再进行相应的转换为float\n",
    "                 )\n",
    "# pd.reset_option('display.float_format')  # 重置\n",
    "pd.set_option('precision', 2)  # 显示小数点后的位数\n",
    "pd.set_option('display.max_rows', 300)  # 控制显示的最大行数\n",
    "pd.set_option('display.min_rows', 20)  # 确定显示的部分有多少行\n",
    "# pd.set_option('display.float_format',  '{:,.2f}'.format) # 数字格式化显示 用逗号格式化大值数字 设置数字精度\n",
    "# 指定列名设置计算精确度，未指定的保持原样\n",
    "df.round({'open':0, 'high':0, 'low':0, 'close':0 })\n",
    "# 统一保持1位小数\n",
    "df.round(0)\n",
    "# 设置np输出精度\n",
    "#设定numpy显示浮点数精度的小数位数,不使用科学记数法\n",
    "np.set_printoptions(precision=2, suppress=True)"
   ],
   "metadata": {
    "collapsed": false,
    "pycharm": {
     "name": "#%%\n"
    }
   }
  },
  {
   "cell_type": "code",
   "execution_count": 4,
   "outputs": [
    {
     "name": "stdout",
     "output_type": "stream",
     "text": [
      "open      float64\n",
      "high      float64\n",
      "low       float64\n",
      "close     float64\n",
      "volume    float64\n",
      "dtype: object\n"
     ]
    },
    {
     "data": {
      "text/plain": "               open     high      low    close   volume\ndatetime                                               \n2004-09-22  1143.23  1147.88  1106.05  1106.98  77908.0\n2004-09-23  1097.68  1099.54  1089.32  1093.04  37196.0\n2004-09-24  1082.81  1101.40  1082.81  1095.83  29367.0\n2004-09-27  1092.11  1100.47  1075.38  1076.31  17336.0\n2004-09-28  1077.24  1088.39  1077.24  1082.81  26681.0",
      "text/html": "<div>\n<style scoped>\n    .dataframe tbody tr th:only-of-type {\n        vertical-align: middle;\n    }\n\n    .dataframe tbody tr th {\n        vertical-align: top;\n    }\n\n    .dataframe thead th {\n        text-align: right;\n    }\n</style>\n<table border=\"1\" class=\"dataframe\">\n  <thead>\n    <tr style=\"text-align: right;\">\n      <th></th>\n      <th>open</th>\n      <th>high</th>\n      <th>low</th>\n      <th>close</th>\n      <th>volume</th>\n    </tr>\n    <tr>\n      <th>datetime</th>\n      <th></th>\n      <th></th>\n      <th></th>\n      <th></th>\n      <th></th>\n    </tr>\n  </thead>\n  <tbody>\n    <tr>\n      <th>2004-09-22</th>\n      <td>1143.23</td>\n      <td>1147.88</td>\n      <td>1106.05</td>\n      <td>1106.98</td>\n      <td>77908.0</td>\n    </tr>\n    <tr>\n      <th>2004-09-23</th>\n      <td>1097.68</td>\n      <td>1099.54</td>\n      <td>1089.32</td>\n      <td>1093.04</td>\n      <td>37196.0</td>\n    </tr>\n    <tr>\n      <th>2004-09-24</th>\n      <td>1082.81</td>\n      <td>1101.40</td>\n      <td>1082.81</td>\n      <td>1095.83</td>\n      <td>29367.0</td>\n    </tr>\n    <tr>\n      <th>2004-09-27</th>\n      <td>1092.11</td>\n      <td>1100.47</td>\n      <td>1075.38</td>\n      <td>1076.31</td>\n      <td>17336.0</td>\n    </tr>\n    <tr>\n      <th>2004-09-28</th>\n      <td>1077.24</td>\n      <td>1088.39</td>\n      <td>1077.24</td>\n      <td>1082.81</td>\n      <td>26681.0</td>\n    </tr>\n  </tbody>\n</table>\n</div>"
     },
     "execution_count": 4,
     "metadata": {},
     "output_type": "execute_result"
    }
   ],
   "source": [
    "print(df.dtypes)\n",
    "df.head()"
   ],
   "metadata": {
    "collapsed": false,
    "pycharm": {
     "name": "#%%\n"
    }
   }
  },
  {
   "cell_type": "code",
   "execution_count": 4,
   "outputs": [],
   "source": [],
   "metadata": {
    "collapsed": false,
    "pycharm": {
     "name": "#%%\n"
    }
   }
  },
  {
   "cell_type": "code",
   "execution_count": 5,
   "outputs": [
    {
     "name": "stdout",
     "output_type": "stream",
     "text": [
      "open      False\n",
      "high      False\n",
      "low       False\n",
      "close     False\n",
      "volume    False\n",
      "dtype: bool\n",
      "open      False\n",
      "high      False\n",
      "low       False\n",
      "close     False\n",
      "volume    False\n",
      "dtype: bool\n",
      "open      0\n",
      "high      0\n",
      "low       0\n",
      "close     0\n",
      "volume    0\n",
      "dtype: int64\n"
     ]
    }
   ],
   "source": [
    "# 2.1 缺失值处理\n",
    "\n",
    "# 检查数据中是否有缺失值，以下两种方式均可\n",
    "#Flase:对应特征的特征值中无缺失值\n",
    "#True：有缺失值\n",
    "print(df.isnull().any())\n",
    "print(np.isnan(df).any())\n",
    "#返回每一列缺失值统计个数\n",
    "print(df.isnull().sum())"
   ],
   "metadata": {
    "collapsed": false,
    "pycharm": {
     "name": "#%%\n"
    }
   }
  },
  {
   "cell_type": "code",
   "execution_count": 6,
   "outputs": [
    {
     "data": {
      "text/plain": "open      0\nhigh      0\nlow       0\nclose     0\nvolume    0\ndtype: int64"
     },
     "execution_count": 6,
     "metadata": {},
     "output_type": "execute_result"
    }
   ],
   "source": [
    "#缺失值处理，以下两种方式均可\n",
    "#删除包含缺失值的行\n",
    "df.dropna(inplace=True)\n",
    "#缺失值填充\n",
    "# df.fillna('100')\n",
    "\n",
    "#返回每一列缺失值统计个数\n",
    "df.isnull().sum()"
   ],
   "metadata": {
    "collapsed": false,
    "pycharm": {
     "name": "#%%\n"
    }
   }
  },
  {
   "cell_type": "code",
   "execution_count": 13,
   "outputs": [
    {
     "name": "stdout",
     "output_type": "stream",
     "text": [
      "               open     high      low    close   volume\n",
      "datetime                                               \n",
      "2004-09-22  1143.23  1147.88  1106.05  1106.98  77908.0\n",
      "2004-09-23  1097.68  1099.54  1089.32  1093.04  37196.0\n",
      "2004-09-24  1082.81  1101.40  1082.81  1095.83  29367.0\n",
      "<class 'numpy.ndarray'> (4173, 3) 2\n",
      "[[1143.23 1147.88 1106.05]\n",
      " [1097.68 1099.54 1089.32]\n",
      " [1082.81 1101.4  1082.81]]\n"
     ]
    }
   ],
   "source": [
    "print(df[:3])\n",
    "# 2.2 确定特征值 目标值\n",
    "# 特征值取开盘价和收盘价的差值\n",
    "X = (df[['open','high','low']]).values\n",
    "print(type(X),X.shape,X.ndim)\n",
    "\n",
    "print(X[:3,])"
   ],
   "metadata": {
    "collapsed": false,
    "pycharm": {
     "name": "#%%\n"
    }
   }
  },
  {
   "cell_type": "code",
   "execution_count": 14,
   "outputs": [
    {
     "name": "stdout",
     "output_type": "stream",
     "text": [
      "(4173,)\n",
      "1\n",
      "[1106.98 1093.04 1095.83]\n"
     ]
    }
   ],
   "source": [
    "# 目标值取开盘价和收盘价的差值\n",
    "# y = df.iloc[:, -2:-1].values.ravel()\n",
    "Y = (df['close']).values\n",
    "print(Y.shape)\n",
    "print(Y.ndim)\n",
    "print(Y[:3])\n"
   ],
   "metadata": {
    "collapsed": false,
    "pycharm": {
     "name": "#%%\n"
    }
   }
  },
  {
   "cell_type": "code",
   "execution_count": 17,
   "outputs": [],
   "source": [
    "#将数据划分为训练集和验证集\n",
    "from sklearn.model_selection import train_test_split\n",
    "x_train, x_test, y_train, y_test = train_test_split(X, Y.reshape(-1,1),\n",
    "                                                    random_state=None,\n",
    "                                                    shuffle=True,  #default=True 切分前是否对数据进行打乱。\n",
    "                                                    )\n"
   ],
   "metadata": {
    "collapsed": false,
    "pycharm": {
     "name": "#%%\n"
    }
   }
  },
  {
   "cell_type": "code",
   "execution_count": 18,
   "outputs": [
    {
     "name": "stdout",
     "output_type": "stream",
     "text": [
      "(3129, 3) (3129, 1) 2\n",
      "(1044, 3) (1044, 1) 2\n"
     ]
    },
    {
     "data": {
      "text/plain": "array([[2011.94, 2017.18, 1982.58, 2006.69],\n       [1349.57, 1350.5 , 1329.12, 1331.91],\n       [2115.37, 2125.04, 2108.34, 2117.13]])"
     },
     "execution_count": 18,
     "metadata": {},
     "output_type": "execute_result"
    }
   ],
   "source": [
    "print(x_train.shape, y_train.shape,y_train.ndim)\n",
    "print(x_test.shape, y_test.shape,y_test.ndim)\n",
    "np.hstack((x_test, y_test))[:3]"
   ],
   "metadata": {
    "collapsed": false,
    "pycharm": {
     "name": "#%%\n"
    }
   }
  },
  {
   "cell_type": "code",
   "execution_count": 19,
   "outputs": [],
   "source": [
    "## 混淆测试集目标类别的 指定概率50%的错误\n",
    "err = x_train\n",
    "for i in range(int(len(err) * 0.0)):\n",
    "    index = int(np.random.randint(len(err)))\n",
    "    # index2 = int(np.random.randint(len(err)))\n",
    "    # err[index,0], err[index,3] = err[index,3], err[index,0]\n",
    "    err[index] = 0"
   ],
   "metadata": {
    "collapsed": false,
    "pycharm": {
     "name": "#%%\n"
    }
   }
  },
  {
   "cell_type": "code",
   "execution_count": 19,
   "outputs": [],
   "source": [],
   "metadata": {
    "collapsed": false,
    "pycharm": {
     "name": "#%%\n"
    }
   }
  },
  {
   "cell_type": "code",
   "execution_count": 21,
   "outputs": [],
   "source": [
    "# 3. 特征工程（标准化）\n",
    "from sklearn.preprocessing import StandardScaler\n",
    "\n",
    "standardScaler = StandardScaler()\n",
    "\n",
    "x_train_stand = standardScaler.fit_transform(x_train)\n",
    "x_test_stand = standardScaler.transform(x_test)\n",
    "\n",
    "y_train_stand = standardScaler.fit_transform(y_train)\n",
    "y_test_stand = standardScaler.transform(y_test)"
   ],
   "metadata": {
    "collapsed": false,
    "pycharm": {
     "name": "#%%\n"
    }
   }
  },
  {
   "cell_type": "code",
   "execution_count": 47,
   "outputs": [
    {
     "name": "stdout",
     "output_type": "stream",
     "text": [
      "(3129, 3)\n",
      "2\n",
      "(3129, 1)\n",
      "2\n",
      "[[2080.24 2088.88 2077.  ]\n",
      " [2125.55 2140.4  2123.26]\n",
      " [1775.26 1794.77 1771.54]\n",
      " [1905.23 1914.32 1901.18]\n",
      " [1308.67 1310.53 1304.02]\n",
      " [2113.1  2122.88 2113.1 ]\n",
      " [2108.57 2115.49 2094.73]\n",
      " [1810.58 1812.43 1798.49]\n",
      " [1838.6  1844.31 1835.74]\n",
      " [2081.08 2081.08 2075.74]]\n",
      "[2080.24 2125.55 1775.26 1905.23 1308.67 2113.1  2108.57 1810.58 1838.6\n",
      " 2081.08]\n"
     ]
    }
   ],
   "source": [
    "print(x_train.shape)\n",
    "print(x_train.ndim)\n",
    "print(y_train.shape)\n",
    "print(y_train.ndim)\n",
    "print(x_train[:10])\n",
    "print(x_train[:10,0])"
   ],
   "metadata": {
    "collapsed": false,
    "pycharm": {
     "name": "#%%\n"
    }
   }
  },
  {
   "cell_type": "code",
   "execution_count": 24,
   "outputs": [],
   "source": [
    "#画图观察\n",
    "# fig, ax = plt.subplots()\n",
    "# ax.scatter(y_test_stand, x_test_stand)\n",
    "# ax.plot([y_test_stand.min(), y_test_stand.max()], [y_test_stand.min(), y_test_stand.max()], 'k--', lw=2)\n",
    "# ax.set_xlabel('Measured')\n",
    "# ax.set_ylabel('Predicted')\n",
    "# plt.show()"
   ],
   "metadata": {
    "collapsed": false,
    "pycharm": {
     "name": "#%%\n"
    }
   }
  },
  {
   "cell_type": "code",
   "execution_count": 25,
   "outputs": [],
   "source": [
    "# 拟合回归模型\n",
    "svr_rbf = SVR(kernel='rbf', C=1.00, gamma=1, epsilon=0.05)\n",
    "svr_lin = SVR(kernel='linear', C=1.00, gamma='auto', epsilon=0.1)\n",
    "svr_poly = SVR(kernel='poly', C=1.00, gamma='auto',\n",
    "               degree=3,  #默认=3 多项式核函数的次数(' poly ')。将会被其他内核忽略。\n",
    "               epsilon=.15,\n",
    "               coef0=0.1,  #默认=0.0 核函数中的独立项。它只在' poly '和' sigmoid '中有意义\n",
    "               )"
   ],
   "metadata": {
    "collapsed": false,
    "pycharm": {
     "name": "#%%\n"
    }
   }
  },
  {
   "cell_type": "code",
   "execution_count": 27,
   "outputs": [
    {
     "data": {
      "text/plain": "((3129, 3), (1044, 3))"
     },
     "execution_count": 27,
     "metadata": {},
     "output_type": "execute_result"
    }
   ],
   "source": [
    "x_train.shape, x_test.shape\n",
    "# np.vstack((x_train,x_test)).shape"
   ],
   "metadata": {
    "collapsed": false,
    "pycharm": {
     "name": "#%%\n"
    }
   }
  },
  {
   "cell_type": "code",
   "execution_count": 29,
   "outputs": [
    {
     "data": {
      "text/plain": "<Figure size 648x288 with 1 Axes>",
      "image/png": "[encoded data removed]"
     },
     "metadata": {},
     "output_type": "display_data"
    }
   ],
   "source": [
    "plt.figure(figsize=(9, 4))  # width, height in inches\n",
    "n_set_plt = plt.scatter(x_train_stand[:,0], y_train_stand, c='b', s=5, label='training data')\n",
    "plt.xlabel('o')\n",
    "plt.ylabel('c')\n",
    "plt.title('open close Data Set')\n",
    "plt.legend(loc=\"upper left\")\n",
    "plt.savefig(r'./file/02_svm_svr_linear_.png', dpi=200)\n",
    "plt.show()\n"
   ],
   "metadata": {
    "collapsed": false,
    "pycharm": {
     "name": "#%%\n"
    }
   }
  },
  {
   "cell_type": "code",
   "execution_count": 56,
   "outputs": [
    {
     "name": "stdout",
     "output_type": "stream",
     "text": [
      "ix=0, svcs=SVR(epsilon=0.05, gamma=1)\n",
      "估计器的参数: {'C': 1.0, 'cache_size': 200, 'coef0': 0.0, 'degree': 3, 'epsilon': 0.05, 'gamma': 1, 'kernel': 'rbf', 'max_iter': -1, 'shrinking': True, 'tol': 0.001, 'verbose': False}\n",
      "训练集评分: 0.9995617573133053 \n",
      "测试集评分: 0.9995491399594755 \n",
      "ix=1, svcs=SVR(gamma='auto', kernel='linear')\n",
      "估计器的参数: {'C': 1.0, 'cache_size': 200, 'coef0': 0.0, 'degree': 3, 'epsilon': 0.1, 'gamma': 'auto', 'kernel': 'linear', 'max_iter': -1, 'shrinking': True, 'tol': 0.001, 'verbose': False}\n",
      "训练集评分: 0.999558480460534 \n",
      "测试集评分: 0.9995562720022763 \n",
      "ix=2, svcs=SVR(coef0=0.1, epsilon=0.15, gamma='auto', kernel='poly')\n",
      "估计器的参数: {'C': 1.0, 'cache_size': 200, 'coef0': 0.1, 'degree': 3, 'epsilon': 0.15, 'gamma': 'auto', 'kernel': 'poly', 'max_iter': -1, 'shrinking': True, 'tol': 0.001, 'verbose': False}\n",
      "训练集评分: 0.9933766716687525 \n",
      "测试集评分: 0.993040465132957 \n"
     ]
    },
    {
     "data": {
      "text/plain": "<Figure size 648x288 with 3 Axes>",
      "image/png": "[encoded data removed]"
     },
     "metadata": {},
     "output_type": "display_data"
    }
   ],
   "source": [
    "def plot_svm_regression(svm_reg, X, y, axes):\n",
    "    y_pred = svm_reg.predict(X)\n",
    "    plt.plot(X[:,0], y_pred, \"k-\", linewidth=2, label=r\"$\\hat{y}$\")  # 预测的回归线\n",
    "    plt.plot(X[:,0], y_pred + svm_reg.epsilon, \"k--\")  # 回归线向上平移epsilon\n",
    "    plt.plot(X[:,0], y_pred - svm_reg.epsilon, \"k--\")  # 回归线向下平移epsilon\n",
    "    plt.scatter(X[svm_reg.support_,0], y[svm_reg.support_], s=10, facecolors='#FFAAAA')\n",
    "    plt.plot(X[:,0], y, \"b.\", markersize=2)\n",
    "    plt.xlabel(r\"$x_1$\", fontsize=18)\n",
    "    plt.legend(loc=\"upper left\", fontsize=18)\n",
    "    plt.axis(axes)\n",
    "\n",
    "\n",
    "\n",
    "plt.figure(figsize=(9, 4))\n",
    "xx = np.vstack((x_train_stand[:,],x_test_stand[:,]))\n",
    "yy = np.vstack((y_train_stand,y_test_stand))\n",
    "x_min, x_max = xx.min() - 0.5, xx.max() + 0.5\n",
    "y_min, y_max = yy.min() - 0.5, yy.max() + 0.5\n",
    "\n",
    "svrs = [svr_rbf, svr_lin, svr_poly]\n",
    "kernel_label = [\"rbf\", \"linear\", \"poly\"]\n",
    "for ix, svr in enumerate(svrs):\n",
    "    fit = svr.fit(x_train_stand, y_train_stand.ravel())\n",
    "    # 获取预测值\n",
    "    y_test_pred = fit.predict(x_test_stand)\n",
    "    # 显示估计器\n",
    "    print(f'ix=%s, svcs=%s' % (ix, svrs[ix]))\n",
    "    # 获取这个估计器的参数\n",
    "    print(f'估计器的参数: %s' % (svr.get_params()))\n",
    "    # https://blog.csdn.net/gracejpw/article/details/101546293\n",
    "    # 返回预测的决定系数R^2\n",
    "    # R^2越接近于1，模型的拟合优度越高。\n",
    "    print(f'训练集评分: %s ' %(fit.score(x_train_stand, y_train_stand)))\n",
    "    print(f'测试集评分: %s ' % (svr.score(x_test_stand, y_test_stand)))\n",
    "\n",
    "\n",
    "    plt.subplot(1,3,ix+1)\n",
    "    plot_svm_regression(fit, xx, yy, [x_min, x_max, y_min, y_max])\n",
    "    plt.title(r\"${}, \\epsilon = {}$\".format(fit.kernel, fit.epsilon), fontsize=18)\n",
    "    plt.ylabel(r\"$y$\", fontsize=18, rotation=0)\n",
    "\n",
    "plt.savefig(r'./file/02_svm_svr.png', dpi=200)\n",
    "\n"
   ],
   "metadata": {
    "collapsed": false,
    "pycharm": {
     "name": "#%%\n"
    }
   }
  },
  {
   "cell_type": "code",
   "execution_count": 63,
   "outputs": [
    {
     "name": "stdout",
     "output_type": "stream",
     "text": [
      "svm: (79, 3)\n",
      "epsilon:0.05 = [[17.81]]\n",
      "mean: 5.966936147819228\n",
      "#查看切分后的数据与切分前的数据是否一致 [[2081.85 2081.85 1052.14]\n",
      " [1785.58 1785.58 1083.74]\n",
      " [2583.2  2583.2  1073.52]\n",
      " [2250.   2250.   1123.71]\n",
      " [2682.88 2682.88 1229.67]]\n",
      "#查看训练集的支持向量 [[2058.26 2084.8  2047.45 2058.33 2074.53 2057.47]\n",
      " [1737.68 1785.58 1729.89 1737.73 1776.99 1738.13]\n",
      " [2557.51 2585.18 2525.88 2557.63 2572.12 2538.6 ]\n",
      " [2289.88 2294.86 2249.   2289.97 2283.42 2260.17]\n",
      " [2624.85 2686.75 2624.85 2624.98 2673.12 2638.12]\n",
      " [2546.51 2617.11 2526.2  2546.63 2603.88 2538.92]\n",
      " [2727.37 2761.22 2684.81 2727.51 2747.18 2698.42]\n",
      " [2541.7  2564.42 2513.04 2541.81 2551.48 2525.68]\n",
      " [2805.55 2852.98 2799.62 2805.69 2838.43 2813.88]\n",
      " [2550.   2557.   2500.   2550.12 2544.1  2512.57]]\n",
      "查看预测值与目标值的差值 [[2011.94 2017.18 1982.58  -17.83  -23.07   11.53   -5.24  -10.48   24.11\n",
      "    12.59]\n",
      " [1349.57 1350.5  1329.12   -6.27   -7.2    14.18  -17.66  -18.59    2.79\n",
      "   -11.39]\n",
      " [2115.37 2125.04 2108.34   -3.61  -13.28    3.42    1.76   -7.91    8.79\n",
      "     5.37]\n",
      " [2076.84 2081.19 2073.36   -5.44   -9.79   -1.96    4.35    0.      7.83\n",
      "     9.79]\n",
      " [1122.78 1126.5  1121.85  -10.18  -13.9    -9.25    2.79   -0.93    3.72\n",
      "    12.97]]\n",
      "svm平均间隔 484.3048564004578\n"
     ]
    },
    {
     "data": {
      "text/plain": "<Figure size 432x288 with 1 Axes>",
      "image/png": "[encoded data removed]"
     },
     "metadata": {},
     "output_type": "display_data"
    }
   ],
   "source": [
    "svrs = [svr_rbf, svr_lin, svr_poly]\n",
    "\n",
    "fit = svrs[0]\n",
    "\n",
    "print('svm:',fit.support_vectors_.shape)\n",
    "support_vectors_ = standardScaler.inverse_transform(fit.support_vectors_)\n",
    "epsilon_1 = standardScaler.inverse_transform(np.array([[fit.epsilon],]))\n",
    "epsilon_0 = standardScaler.inverse_transform(np.array([[0.00],]))\n",
    "print('epsilon:%s = %s'%(fit.epsilon , epsilon_1 - epsilon_0))\n",
    "\n",
    "y_test_pred = fit.predict(x_test_stand)\n",
    "y_test_pred_ = standardScaler.inverse_transform(y_test_pred.reshape(-1,1))\n",
    "y_test_ = standardScaler.inverse_transform(y_test_stand.reshape(-1,1))\n",
    "y_train_ = standardScaler.inverse_transform(y_train_stand.reshape(-1,1))\n",
    "print('mean:', np.mean(abs((y_test_ - y_test_pred_))))\n",
    "\n",
    "print('#查看切分后的数据与切分前的数据是否一致',(np.hstack(((y_train[fit.support_]), (y_train_[fit.support_]),\n",
    "                                         (Y[:len(y_train)][fit.support_].reshape(-1,1)) )))[:5])\n",
    "print('#查看训练集的支持向量',np.hstack((((x_train)[fit.support_]), (support_vectors_) ))[:10])\n",
    "\n",
    "\n",
    "print('查看预测值与目标值的差值',(np.hstack((x_test, (y_test_pred_ - x_test), (y_test_ - x_test), (y_test - y_test_pred_)))[:5]))\n",
    "\n",
    "print('svm平均间隔',np.mean(abs(support_vectors_- epsilon_0)))\n",
    "\n",
    "interval = abs(support_vectors_ - epsilon_0)\n",
    "plt.hist(interval, bins=50)\n",
    "plt.title('svm interval')\n",
    "plt.show()"
   ],
   "metadata": {
    "collapsed": false,
    "pycharm": {
     "name": "#%%\n"
    }
   }
  },
  {
   "cell_type": "code",
   "execution_count": null,
   "outputs": [],
   "source": [],
   "metadata": {
    "collapsed": false,
    "pycharm": {
     "name": "#%%\n"
    }
   }
  },
  {
   "cell_type": "code",
   "execution_count": null,
   "outputs": [],
   "source": [],
   "metadata": {
    "collapsed": false,
    "pycharm": {
     "name": "#%%\n"
    }
   }
  },
  {
   "cell_type": "code",
   "execution_count": null,
   "outputs": [],
   "source": [
    "# figure number\n",
    "fignum = 1\n",
    "plt.figure(fignum, figsize=(4, 3))\n",
    "\n",
    "# plt.scatter(np.arange(len(y_test_stand)), y_test_stand, s=5, c='blue')\n",
    "# plt.scatter(y_test_pred, y_test_pred, s=5, c='r')\n",
    "\n",
    "plt.show()"
   ],
   "metadata": {
    "collapsed": false,
    "pycharm": {
     "name": "#%%\n"
    }
   }
  },
  {
   "cell_type": "code",
   "execution_count": null,
   "outputs": [],
   "source": [
    "fit = svr_rbf\n",
    "print('support_支持向量的下标',fit.support_.shape)\n",
    "print('support_vectors_支持向量',fit.support_vectors_.shape)\n",
    "print('n_support_每个类别的支持向量数量',fit.n_support_)\n",
    "print('dual_coef_决策函数中支持向量的系数',fit.dual_coef_.shape)\n",
    "print('intercept_决策函数中的常量',fit.intercept_)"
   ],
   "metadata": {
    "collapsed": false,
    "pycharm": {
     "name": "#%%\n"
    }
   }
  },
  {
   "cell_type": "code",
   "execution_count": null,
   "outputs": [],
   "source": [],
   "metadata": {
    "collapsed": false,
    "pycharm": {
     "name": "#%%\n"
    }
   }
  },
  {
   "cell_type": "code",
   "execution_count": null,
   "outputs": [],
   "source": [],
   "metadata": {
    "collapsed": false,
    "pycharm": {
     "name": "#%%\n"
    }
   }
  }
 ],
 "metadata": {
  "kernelspec": {
   "name": "pycharm-50a0962a",
   "language": "python",
   "display_name": "PyCharm (python-demo)"
  },
  "language_info": {
   "codemirror_mode": {
    "name": "ipython",
    "version": 2
   },
   "file_extension": ".py",
   "mimetype": "text/x-python",
   "name": "python",
   "nbconvert_exporter": "python",
   "pygments_lexer": "ipython2",
   "version": "2.7.6"
  }
 },
 "nbformat": 4,
 "nbformat_minor": 0
}