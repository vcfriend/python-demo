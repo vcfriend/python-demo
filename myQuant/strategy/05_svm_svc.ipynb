{
 "cells": [
  {
   "cell_type": "code",
   "execution_count": 1,
   "outputs": [],
   "source": [
    "# coding=utf8\n",
    "\n",
    "import pandas as pd\n",
    "import numpy as np\n",
    "from sklearn.svm import SVC\n",
    "import matplotlib.pyplot as plt"
   ],
   "metadata": {
    "collapsed": false,
    "pycharm": {
     "name": "#%%\n"
    }
   }
  },
  {
   "cell_type": "code",
   "execution_count": 2,
   "outputs": [],
   "source": [
    "# 加载数据\n",
    "df0 = pd.read_csv('data/DQC00-1d.txt',\n",
    "                  sep=',',\n",
    "                  nrows=5000,\n",
    "                  index_col=['datetime'],  # 设置行索引\n",
    "                  parse_dates=['datetime'],  # 解析时间 20100104130500.0\n",
    "                  date_parser=lambda x: pd.to_datetime(x, format='%Y%m%d%H%M%S.%f'),  # 时间解析的格式，进行毫秒级数据解析\n",
    "                  usecols=['datetime', 'open', 'high', 'low', 'close', 'volume'],  # 设置需要用到的列\n",
    "                  encoding='utf-8',\n",
    "                  float_precision='round_trip',  # 所有数据会当做string读取, 使用时再进行相应的转换为float\n",
    "                  )\n",
    "# pd.reset_option('display.float_format')  # 重置\n",
    "pd.set_option('precision', 2)  # 显示小数点后的位数\n",
    "pd.set_option('display.max_rows', 300)  # 控制显示的最大行数\n",
    "pd.set_option('display.min_rows', 20)  # 确定显示的部分有多少行\n",
    "pd.options.display.float_format = '{:.2f}'.format  # 统一设置小数位数\n",
    "# pd.set_option('display.float_format',  '{:,.2f}'.format) # 数字格式化显示 用逗号格式化大值数字 设置数字精度\n",
    "# 指定列名设置计算精确度，未指定的保持原样\n",
    "df0.round({'open': 0, 'high': 0, 'low': 0, 'close': 0})\n",
    "df0.round(2)  ## 统一设置小数位数\n",
    "#设定numpy显示浮点数精度的小数位数,不使用科学记数法\n",
    "np.set_printoptions(precision=2, suppress=True)"
   ],
   "metadata": {
    "collapsed": false,
    "pycharm": {
     "name": "#%%\n"
    }
   }
  },
  {
   "cell_type": "code",
   "execution_count": 3,
   "outputs": [
    {
     "name": "stdout",
     "output_type": "stream",
     "text": [
      "open      float64\n",
      "high      float64\n",
      "low       float64\n",
      "close     float64\n",
      "volume    float64\n",
      "dtype: object\n"
     ]
    },
    {
     "data": {
      "text/plain": "              open    high     low   close   volume\ndatetime                                           \n2004-09-22 1143.23 1147.88 1106.05 1106.98 77908.00\n2004-09-23 1097.68 1099.54 1089.32 1093.04 37196.00\n2004-09-24 1082.81 1101.40 1082.81 1095.83 29367.00\n2004-09-27 1092.11 1100.47 1075.38 1076.31 17336.00\n2004-09-28 1077.24 1088.39 1077.24 1082.81 26681.00\n2004-09-29 1083.74 1086.53 1069.80 1073.52 25441.00\n2004-09-30 1067.01 1070.73 1046.56 1047.49 26989.00\n2004-10-08 1049.35 1069.80 1037.27 1064.22 31094.00\n2004-10-11 1062.37 1075.38 1053.07 1066.08 25683.00\n2004-10-12 1069.80 1080.95 1054.00 1069.80 48752.00\n2004-10-13 1062.37 1072.59 1060.51 1063.29 42854.00\n2004-10-14 1067.94 1073.52 1062.37 1070.73 40421.00\n2004-10-15 1067.01 1070.73 1055.86 1058.65 43496.00\n2004-10-18 1062.37 1062.37 1053.07 1056.79 30069.00\n2004-10-19 1054.00 1069.80 1054.00 1060.51 38048.00\n2004-10-20 1068.87 1076.31 1064.22 1075.38 49666.00\n2004-10-21 1073.52 1073.52 1065.15 1067.94 32403.00\n2004-10-22 1066.08 1067.01 1055.86 1057.72 36960.00\n2004-10-25 1057.72 1066.08 1053.07 1061.44 29902.00\n2004-10-26 1069.80 1069.80 1061.44 1063.29 14682.00",
      "text/html": "<div>\n<style scoped>\n    .dataframe tbody tr th:only-of-type {\n        vertical-align: middle;\n    }\n\n    .dataframe tbody tr th {\n        vertical-align: top;\n    }\n\n    .dataframe thead th {\n        text-align: right;\n    }\n</style>\n<table border=\"1\" class=\"dataframe\">\n  <thead>\n    <tr style=\"text-align: right;\">\n      <th></th>\n      <th>open</th>\n      <th>high</th>\n      <th>low</th>\n      <th>close</th>\n      <th>volume</th>\n    </tr>\n    <tr>\n      <th>datetime</th>\n      <th></th>\n      <th></th>\n      <th></th>\n      <th></th>\n      <th></th>\n    </tr>\n  </thead>\n  <tbody>\n    <tr>\n      <th>2004-09-22</th>\n      <td>1143.23</td>\n      <td>1147.88</td>\n      <td>1106.05</td>\n      <td>1106.98</td>\n      <td>77908.00</td>\n    </tr>\n    <tr>\n      <th>2004-09-23</th>\n      <td>1097.68</td>\n      <td>1099.54</td>\n      <td>1089.32</td>\n      <td>1093.04</td>\n      <td>37196.00</td>\n    </tr>\n    <tr>\n      <th>2004-09-24</th>\n      <td>1082.81</td>\n      <td>1101.40</td>\n      <td>1082.81</td>\n      <td>1095.83</td>\n      <td>29367.00</td>\n    </tr>\n    <tr>\n      <th>2004-09-27</th>\n      <td>1092.11</td>\n      <td>1100.47</td>\n      <td>1075.38</td>\n      <td>1076.31</td>\n      <td>17336.00</td>\n    </tr>\n    <tr>\n      <th>2004-09-28</th>\n      <td>1077.24</td>\n      <td>1088.39</td>\n      <td>1077.24</td>\n      <td>1082.81</td>\n      <td>26681.00</td>\n    </tr>\n    <tr>\n      <th>2004-09-29</th>\n      <td>1083.74</td>\n      <td>1086.53</td>\n      <td>1069.80</td>\n      <td>1073.52</td>\n      <td>25441.00</td>\n    </tr>\n    <tr>\n      <th>2004-09-30</th>\n      <td>1067.01</td>\n      <td>1070.73</td>\n      <td>1046.56</td>\n      <td>1047.49</td>\n      <td>26989.00</td>\n    </tr>\n    <tr>\n      <th>2004-10-08</th>\n      <td>1049.35</td>\n      <td>1069.80</td>\n      <td>1037.27</td>\n      <td>1064.22</td>\n      <td>31094.00</td>\n    </tr>\n    <tr>\n      <th>2004-10-11</th>\n      <td>1062.37</td>\n      <td>1075.38</td>\n      <td>1053.07</td>\n      <td>1066.08</td>\n      <td>25683.00</td>\n    </tr>\n    <tr>\n      <th>2004-10-12</th>\n      <td>1069.80</td>\n      <td>1080.95</td>\n      <td>1054.00</td>\n      <td>1069.80</td>\n      <td>48752.00</td>\n    </tr>\n    <tr>\n      <th>2004-10-13</th>\n      <td>1062.37</td>\n      <td>1072.59</td>\n      <td>1060.51</td>\n      <td>1063.29</td>\n      <td>42854.00</td>\n    </tr>\n    <tr>\n      <th>2004-10-14</th>\n      <td>1067.94</td>\n      <td>1073.52</td>\n      <td>1062.37</td>\n      <td>1070.73</td>\n      <td>40421.00</td>\n    </tr>\n    <tr>\n      <th>2004-10-15</th>\n      <td>1067.01</td>\n      <td>1070.73</td>\n      <td>1055.86</td>\n      <td>1058.65</td>\n      <td>43496.00</td>\n    </tr>\n    <tr>\n      <th>2004-10-18</th>\n      <td>1062.37</td>\n      <td>1062.37</td>\n      <td>1053.07</td>\n      <td>1056.79</td>\n      <td>30069.00</td>\n    </tr>\n    <tr>\n      <th>2004-10-19</th>\n      <td>1054.00</td>\n      <td>1069.80</td>\n      <td>1054.00</td>\n      <td>1060.51</td>\n      <td>38048.00</td>\n    </tr>\n    <tr>\n      <th>2004-10-20</th>\n      <td>1068.87</td>\n      <td>1076.31</td>\n      <td>1064.22</td>\n      <td>1075.38</td>\n      <td>49666.00</td>\n    </tr>\n    <tr>\n      <th>2004-10-21</th>\n      <td>1073.52</td>\n      <td>1073.52</td>\n      <td>1065.15</td>\n      <td>1067.94</td>\n      <td>32403.00</td>\n    </tr>\n    <tr>\n      <th>2004-10-22</th>\n      <td>1066.08</td>\n      <td>1067.01</td>\n      <td>1055.86</td>\n      <td>1057.72</td>\n      <td>36960.00</td>\n    </tr>\n    <tr>\n      <th>2004-10-25</th>\n      <td>1057.72</td>\n      <td>1066.08</td>\n      <td>1053.07</td>\n      <td>1061.44</td>\n      <td>29902.00</td>\n    </tr>\n    <tr>\n      <th>2004-10-26</th>\n      <td>1069.80</td>\n      <td>1069.80</td>\n      <td>1061.44</td>\n      <td>1063.29</td>\n      <td>14682.00</td>\n    </tr>\n  </tbody>\n</table>\n</div>"
     },
     "execution_count": 3,
     "metadata": {},
     "output_type": "execute_result"
    }
   ],
   "source": [
    "print(df0.dtypes)\n",
    "df0.head(20)"
   ],
   "metadata": {
    "collapsed": false,
    "pycharm": {
     "name": "#%%\n"
    }
   }
  },
  {
   "cell_type": "code",
   "execution_count": 4,
   "outputs": [
    {
     "name": "stdout",
     "output_type": "stream",
     "text": [
      "返回每一列缺失值统计个数: open      0\n",
      "high      0\n",
      "low       0\n",
      "close     0\n",
      "volume    0\n",
      "dtype: int64\n",
      "检查数据中是否有缺失值: open      False\n",
      "high      False\n",
      "low       False\n",
      "close     False\n",
      "volume    False\n",
      "dtype: bool\n"
     ]
    }
   ],
   "source": [
    "# 2.1 缺失值处理\n",
    "print('返回每一列缺失值统计个数:', df0.isnull().sum())\n",
    "df0 = df0.dropna(axis=0, how='any')  #删除包含缺失值的行\n",
    "print('检查数据中是否有缺失值:', df0.isnull().any())\n"
   ],
   "metadata": {
    "collapsed": false,
    "pycharm": {
     "name": "#%%\n"
    }
   }
  },
  {
   "cell_type": "code",
   "execution_count": 5,
   "outputs": [
    {
     "name": "stdout",
     "output_type": "stream",
     "text": [
      "              open    high     low   close    volume\n",
      "datetime                                            \n",
      "2021-01-18 2780.56 2814.41 2777.66 2786.37 727775.00\n",
      "2021-01-19 2782.50 2801.84 2758.32 2773.79 625718.00\n",
      "2021-01-20 2773.79 2779.60 2738.98 2751.55 636369.00\n",
      "2021-01-21 2753.48 2778.63 2746.71 2755.42 546861.00\n",
      "2021-01-22 2751.55 2766.06 2712.86 2728.34 832591.00\n",
      "2021-01-25 2727.37 2743.81 2661.60 2680.95 945135.00\n",
      "2021-01-26 2680.95 2699.32 2673.21 2681.91 502124.00\n",
      "2021-01-27 2686.75 2704.16 2666.44 2674.18 666309.00\n",
      "2021-01-28 2677.08 2683.85 2635.49 2637.42 737921.00\n",
      "2021-01-29 2640.33 2647.10 2615.18 2624.85 622614.00\n",
      "df is df0:  False\n"
     ]
    }
   ],
   "source": [
    "# 截取时间段内样本数据\n",
    "df = df0[\"2021-01-01\":].copy()\n",
    "print(df[10:20])\n",
    "print('df is df0: ', df.values is df0.values)\n",
    "# df.drop(df.index, inplace=True)\n",
    "# df=df.drop(index=df.index)"
   ],
   "metadata": {
    "collapsed": false,
    "pycharm": {
     "name": "#%%\n"
    }
   }
  },
  {
   "cell_type": "code",
   "execution_count": 6,
   "outputs": [
    {
     "name": "stdout",
     "output_type": "stream",
     "text": [
      "              open    high     low   close    volume  flag\n",
      "datetime                                                  \n",
      "2021-01-04 2664.50 2687.72 2650.96 2655.80 633210.00   NaN\n",
      "2021-01-05 2654.83 2686.75 2654.83 2678.04 472285.00   NaN\n",
      "2021-01-06 2683.85 2706.09 2679.01 2694.49 481959.00   NaN\n",
      "2021-01-07 2694.49 2718.66 2692.55 2713.83 510463.00   NaN\n",
      "2021-01-08 2717.70 2746.71 2710.93 2742.84 630350.00   NaN\n",
      "返回每一列缺失值统计个数: open      0\n",
      "high      0\n",
      "low       0\n",
      "close     0\n",
      "volume    0\n",
      "flag      5\n",
      "dtype: int64\n",
      "检查数据中是否有缺失值: open      False\n",
      "high      False\n",
      "low       False\n",
      "close     False\n",
      "volume    False\n",
      "flag      False\n",
      "dtype: bool\n"
     ]
    }
   ],
   "source": [
    "\n",
    "pd.options.display.float_format = '{:.2f}'.format  # 统一设置小数位数\n",
    "# 截取时间段内样本数据\n",
    "df = df0[\"2021-01-01\":].copy()\n",
    "\n",
    "epsilon = 0.01  #误差百分比\n",
    "# 与前几周期的变动百分比\n",
    "df.insert(len(df.columns), 'flag', df.close.pct_change(5), allow_duplicates=True)\n",
    "df.loc[(df.flag.between(-epsilon, epsilon)), 'flag'] = 0\n",
    "# df.loc[:,'flag'] = df.apply(lambda d: 1 if (d.flag > 0) else (-1 if (d.flag < 0) else 0), axis=1)\n",
    "df.loc[df.flag.gt(0), 'flag'] = 1\n",
    "df.loc[df.flag < 0, 'flag'] = -1\n",
    "print(df.head())\n",
    "\n",
    "# 2.1 缺失值处理\n",
    "print('返回每一列缺失值统计个数:', df.isnull().sum())\n",
    "df = df.dropna(axis=0, how='any')  #删除包含缺失值的行\n",
    "print('检查数据中是否有缺失值:', df.isnull().any())\n"
   ],
   "metadata": {
    "collapsed": false,
    "pycharm": {
     "name": "#%%\n"
    }
   }
  },
  {
   "cell_type": "code",
   "execution_count": 7,
   "outputs": [
    {
     "name": "stdout",
     "output_type": "stream",
     "text": [
      "<class 'numpy.ndarray'> 2 (208, 4)\n",
      "[[2748.65 2815.38 2708.99 2743.81]\n",
      " [2746.71 2780.56 2714.8  2773.79]\n",
      " [2777.66 2833.76 2771.86 2777.66]]\n",
      "<class 'numpy.ndarray'> (208,) 1\n",
      "[ 1.  1.  1.  1.  1.  1.  0.  0.  0. -1. -1. -1. -1. -1. -1.  0.  0.  0.\n",
      "  1.  1.  0.  0.  0.  1.  0.  1.  0.  1.  0. -1.  0.  0. -1. -1.  1.  1.\n",
      "  0. -1. -1. -1. -1. -1.  0.  0.  0.  0.  0.  0.  0.  0. -1. -1. -1. -1.\n",
      " -1.  0.  0.  1.  1.  1.  1.  1.  1.  1.  1.  1.  1.  1.  1.  1.  1.  1.\n",
      "  0.  0.  0.  1.  1.  1.  1.  1. -1. -1. -1. -1. -1.  0. -1. -1. -1. -1.\n",
      " -1. -1. -1.  1.  1.  1.  1.  0.  0.  0.]\n"
     ]
    }
   ],
   "source": [
    "# 2.2 确定特征值 目标值\n",
    "# df.reset_index(level=0, inplace=True)   #时间索引成为列\n",
    "\n",
    "# 特征值取 开 高 低 收 价\n",
    "X = df.loc[:, ['open', 'high', 'low', 'close']].values\n",
    "print(type(X), X.ndim, X.shape)\n",
    "print(X[:3, ])\n",
    "\n",
    "# 目标值取收盘\n",
    "Y = df.loc[:, 'flag'].values\n",
    "print(type(Y), Y.shape, Y.ndim)\n",
    "print(Y[:100])\n",
    "\n"
   ],
   "metadata": {
    "collapsed": false,
    "pycharm": {
     "name": "#%%\n"
    }
   }
  },
  {
   "cell_type": "code",
   "execution_count": 8,
   "outputs": [
    {
     "name": "stdout",
     "output_type": "stream",
     "text": [
      "<class 'numpy.ndarray'> (208, 4) 2\n",
      "<class 'numpy.ndarray'> (208,) 1\n"
     ]
    }
   ],
   "source": [
    "print(type(X), X.shape, X.ndim)\n",
    "print(type(Y), Y.shape, Y.ndim)"
   ],
   "metadata": {
    "collapsed": false,
    "pycharm": {
     "name": "#%%\n"
    }
   }
  },
  {
   "cell_type": "code",
   "execution_count": 9,
   "outputs": [],
   "source": [
    "#将数据划分为训练集和验证集\n",
    "from sklearn.model_selection import train_test_split\n",
    "\n",
    "x_train_stand, x_test_stand, y_train, y_test = train_test_split(\n",
    "    X, Y.reshape(-1, 1),\n",
    "    random_state=1,  #如果为整形数字,则数据随机打乱顺序固定, 如果为random_state=None,则每次数据打乱顺序都不一样\n",
    "    test_size=0.50,  #测试集50%样本数量\n",
    "    shuffle=True,  #default=True 切分前是否对数据进行打乱。\n",
    ")"
   ],
   "metadata": {
    "collapsed": false,
    "pycharm": {
     "name": "#%%\n"
    }
   }
  },
  {
   "cell_type": "code",
   "execution_count": 10,
   "outputs": [],
   "source": [
    "## 混淆测试集目标类别的 指定概率50%的错误\n",
    "# err = y_train\n",
    "# for i in range(int(len(err) * 0.0)):\n",
    "#     index = int(np.random.randint(len(err)))\n",
    "#     err[index] = 0 if err[index] == 1 else 1\n",
    "# 查看测试集是否与未混淆后不同\n",
    "# print(np.sum(y_train>0)+np.sum(y_test>0), np.sum(Y>0))\n"
   ],
   "metadata": {
    "collapsed": false,
    "pycharm": {
     "name": "#%%\n"
    }
   }
  },
  {
   "cell_type": "code",
   "execution_count": 11,
   "outputs": [],
   "source": [
    "# 3. 特征工程（标准化）\n",
    "from sklearn.preprocessing import StandardScaler\n",
    "\n",
    "standardScaler = StandardScaler()\n",
    "\n",
    "# 训练集 计算平均值和标准偏差\n",
    "x_train_stand = standardScaler.fit_transform(x_train_stand)\n",
    "# 以训练集的平均值和标准偏差来缩放测试集\n",
    "x_test_stand = standardScaler.transform(x_test_stand)\n",
    "\n",
    "y_train_stand = y_train\n",
    "y_test_stand = y_test"
   ],
   "metadata": {
    "collapsed": false,
    "pycharm": {
     "name": "#%%\n"
    }
   }
  },
  {
   "cell_type": "code",
   "execution_count": 12,
   "outputs": [
    {
     "name": "stdout",
     "output_type": "stream",
     "text": [
      "[[ 0.]\n",
      " [-1.]\n",
      " [ 0.]\n",
      " [ 0.]\n",
      " [-1.]]\n",
      "<class 'numpy.ndarray'> (104, 4) 2\n",
      "<class 'numpy.ndarray'> (104, 1) 2\n"
     ]
    }
   ],
   "source": [
    "# 目标类别为0，1 不用标准化\n",
    "print(y_train[:5])\n",
    "print(type(x_train_stand), x_train_stand.shape, x_train_stand.ndim)\n",
    "print(type(y_train), y_train.shape, y_train.ndim)"
   ],
   "metadata": {
    "collapsed": false,
    "pycharm": {
     "name": "#%%\n"
    }
   }
  },
  {
   "cell_type": "code",
   "execution_count": 13,
   "outputs": [
    {
     "name": "stdout",
     "output_type": "stream",
     "text": [
      "0 linear SVC(C=1, kernel='linear', probability=True) sv: (92, 4)\n",
      "估计器的参数: kernel=linear, c=1, gamma=scale\n",
      "训练集R2评分: 0.5576923076923077 \n",
      "测试集R2评分: 0.41346153846153844 \n",
      "\n",
      "1 rbf SVC(C=1, probability=True) sv: (97, 4)\n",
      "估计器的参数: kernel=rbf, c=1, gamma=scale\n",
      "训练集R2评分: 0.5192307692307693 \n",
      "测试集R2评分: 0.38461538461538464 \n",
      "\n"
     ]
    }
   ],
   "source": [
    "c = 1\n",
    "# 拟合分类模型\n",
    "linear = SVC(kernel='linear', C=c, gamma='scale', probability=True)\n",
    "rbf = SVC(kernel='rbf', C=c, gamma='scale', probability=True)\n",
    "poly = SVC(kernel='poly', C=c, gamma='scale', degree=3, coef0=1, probability=True)\n",
    "\n",
    "kernel = [linear, rbf, poly]\n",
    "kernel_label = [\"linear\", \"rbf\", \"poly\"]\n",
    "for ix, svc in enumerate(kernel[:-1]):\n",
    "    performance = svc.fit(x_train_stand, y_train.ravel())\n",
    "    # 获取预测值\n",
    "    y_test_pred = performance.predict(x_test_stand)\n",
    "    # 显示估计器\n",
    "    print(ix, svc.kernel, kernel[ix], 'sv:', svc.support_vectors_.shape)\n",
    "    # 获取这个估计器的参数\n",
    "    svc_params = svc.get_params()\n",
    "    print(\n",
    "        f'估计器的参数: kernel=%s, c=%s, gamma=%s' % (svc_params.get('kernel'), svc_params.get('C'), svc_params.get('gamma')))\n",
    "    # https://blog.csdn.net/gracejpw/article/details/101546293\n",
    "    # 返回预测的决定系数R^2\n",
    "    # R^2越接近于1，模型的拟合优度越高。\n",
    "    print(f'训练集R2评分: %s ' % (performance.score(x_train_stand, y_train)))\n",
    "    print(f'测试集R2评分: %s ' % (svc.score(x_test_stand, y_test)))\n",
    "    print()"
   ],
   "metadata": {
    "collapsed": false,
    "pycharm": {
     "name": "#%%\n"
    }
   }
  },
  {
   "cell_type": "code",
   "execution_count": 14,
   "outputs": [
    {
     "name": "stdout",
     "output_type": "stream",
     "text": [
      "0 linear svcs: SVC(C=1, kernel='linear', probability=True)\n",
      "sv__s: (92, 2) sv__sum: 184 sv_mean: 2621.68 [[2622.7  2641.21 2601.96 2620.87]]\n",
      "sv__av:14.25 std:94.24 max:2836.18 min:2429.00 sv_av:80.39\n",
      "训练集评分:0.56\n",
      "测试集评分:0.41 预测精度得分:0.41\n",
      "\n",
      "1 rbf svcs: SVC(C=1, probability=True)\n",
      "sv__s: (97, 2) sv__sum: 194 sv_mean: 2620.15 [[2621.8  2640.14 2599.75 2618.91]]\n",
      "sv__av:13.50 std:96.65 max:2836.18 min:2429.00 sv_av:83.33\n",
      "训练集评分:0.52\n",
      "测试集评分:0.38 预测精度得分:0.38\n",
      "\n"
     ]
    },
    {
     "data": {
      "text/plain": "<Figure size 864x288 with 2 Axes>",
      "image/png": "[encoded data removed]"
     },
     "metadata": {
      "needs_background": "light"
     },
     "output_type": "display_data"
    }
   ],
   "source": [
    "from sklearn.metrics import accuracy_score\n",
    "\n",
    "plt.figure(figsize=(12, 4))\n",
    "xx = np.vstack((x_train_stand[:, ], x_test_stand[:, ]))\n",
    "yy = np.vstack((y_train.reshape(-1, 1), y_test.reshape(-1, 1)))\n",
    "x_min, x_max = xx.min() - 0.5, xx.max() + 0.5\n",
    "y_min, y_max = yy.min() - 0.5, yy.max() + 0.5\n",
    "\n",
    "kernel = [linear, rbf, poly]\n",
    "kernel_label = [\"linear\", \"rbf\", \"poly\"]\n",
    "for ix, svc in enumerate(kernel[:-1]):\n",
    "    fit = svc.fit(x_train_stand, y_train.ravel())\n",
    "    # 获取预测值\n",
    "    y_test_pred = fit.predict(x_test_stand)\n",
    "    # 获取这个估计器的参数\n",
    "    svr_params = svc.get_params()\n",
    "    print(ix,\n",
    "          svc.kernel,\n",
    "          'svcs:', kernel[ix])\n",
    "\n",
    "    sv_ = fit.support_vectors_\n",
    "    sv = sv_.shape  #支持向量\n",
    "    sv__ = standardScaler.inverse_transform(sv_)\n",
    "    sv__h = np.hstack((np.amax(abs(sv__), axis=1).reshape(-1, 1),\n",
    "                       np.amin(abs(sv__), axis=1).reshape(-1, 1)))  #由每一行中最大和最小值的sv构成的新的sv数组\n",
    "    sv_mean = standardScaler.inverse_transform(np.mean(sv_, axis=0).reshape(1, -1))  #svm平均值\n",
    "\n",
    "    sv__s = sv__h.shape  #支持向量\n",
    "    sv__sum = (sv__s[0] * sv__s[1])  #所有支持向量的数量\n",
    "    print('sv__s:', sv__s,  #支持向量维度\n",
    "          'sv__sum: %s' % sv__sum,  #支持向量个数\n",
    "          'sv_mean: %.2f' % np.mean(sv_mean), sv_mean,  #sv平均值\n",
    "          )\n",
    "\n",
    "    sv__max, sv__min = sv__h.max(), sv__h.min()  #svm间隔最大值和最小值\n",
    "    sv__mean = np.mean(sv__h)  #sv 均值\n",
    "    print('sv__av:%.2f' % (sv__mean / sv__sum),  #平均值\n",
    "          'std:%.2f' % np.std(sv__h),  #标准差\n",
    "          'max:%.2f' % sv__h.max(),  #svm间隔最大值\n",
    "          'min:%.2f' % sv__h.min(),  #svm间隔最小值\n",
    "          'sv_av:%.2f' % (abs(sv__h - sv__mean).sum() / sv__sum),  #sv平均间隔\n",
    "          )\n",
    "\n",
    "    # https://blog.csdn.net/gracejpw/article/details/101546293\n",
    "    # 返回预测的决定系数R^2\n",
    "    # R^2越接近于1，模型的拟合优度越高。\n",
    "    print(f'训练集评分:%.2f' % (fit.score(x_train_stand, y_train)))\n",
    "    print(f'测试集评分:%.2f' % (fit.score(x_test_stand, y_test)),\n",
    "          f'预测精度得分:%.2f' % accuracy_score(y_test, y_test_pred, normalize=True))  # 预测精度得分 normalize=False 返回正确分类样本数\n",
    "\n",
    "    print()\n",
    "    plt.subplot(1, 3, ix + 1)\n",
    "    interval = abs(sv_)\n",
    "    plt.hist(interval, bins=50)\n",
    "    plt.title(r'$%s %s$' % (fit.kernel, fit.support_vectors_.shape))\n",
    "\n",
    "plt.show()\n"
   ],
   "metadata": {
    "collapsed": false,
    "pycharm": {
     "name": "#%%\n"
    }
   }
  },
  {
   "cell_type": "code",
   "execution_count": 15,
   "outputs": [],
   "source": [
    "# 将标准化后数据，还原成样本数据\n",
    "x_train_inverse = standardScaler.inverse_transform(x_train_stand)\n",
    "x_test_inverse = standardScaler.inverse_transform(x_test_stand)\n"
   ],
   "metadata": {
    "collapsed": false,
    "pycharm": {
     "name": "#%%\n"
    }
   }
  },
  {
   "cell_type": "code",
   "execution_count": 16,
   "outputs": [
    {
     "name": "stdout",
     "output_type": "stream",
     "text": [
      "rbf\n",
      "[ 1. -1. -1.]\n",
      "[[1.]\n",
      " [0.]\n",
      " [0.]]\n"
     ]
    }
   ],
   "source": [
    "#设定numpy显示浮点数精度的小数位数,不使用科学记数法\n",
    "np.set_printoptions(precision=3, suppress=True)\n",
    "\n",
    "# clf = linear\n",
    "clf = rbf\n",
    "score_test = clf.score(x_test_stand, y_test)\n",
    "print(clf.kernel)\n",
    "\n",
    "print(clf.predict(x_test_stand)[:3])\n",
    "print(y_test[:3])"
   ],
   "metadata": {
    "collapsed": false,
    "pycharm": {
     "name": "#%%\n"
    }
   }
  },
  {
   "cell_type": "code",
   "execution_count": 17,
   "outputs": [
    {
     "data": {
      "text/plain": "<Figure size 720x432 with 1 Axes>",
      "image/png": "[encoded data removed]"
     },
     "metadata": {},
     "output_type": "display_data"
    }
   ],
   "source": [
    "# 绘制训练样本类别预测与目标分类的相同和不同的概率区别统计图\n",
    "plt.style.use(plt.style.available[4])  #可以通过下标进行选择适合自己的样式\n",
    "plt.rcParams['font.sans-serif'] = ['SimHei']  #指定默认字体,用来正常显示中文标签\n",
    "plt.rcParams['font.family'] = 'sans-serif'\n",
    "plt.rcParams['axes.unicode_minus'] = False  #用来正常显示负号\n",
    "\n",
    "id_test_no = clf.predict(x_test_stand)[:] != y_test.ravel()  #测试样本预测类别与测试目标类别不同的下标\n",
    "id_test_ok = clf.predict(x_test_stand)[:] == y_test.ravel()  #测试样本预测类别与测试目标类别不同的下标\n",
    "test_no = clf.predict_proba(x_test_stand)[id_test_no]  #测试样本预测类别与测试目标类别不同的概率值\n",
    "test_ok = clf.predict_proba(x_test_stand)[id_test_ok]\n",
    "\n",
    "# 绘制测试样本类别预测与目标分类的相同和不同的概率区别统计图\n",
    "his_test_ok, _ = np.histogram(test_ok, bins=10)\n",
    "his_test_no, _ = np.histogram(test_no, bins=10)\n",
    "# 绘制图像\n",
    "fig, ax1 = plt.subplots()\n",
    "fig.set_size_inches(10, 6)\n",
    "# plt.set_cmap('RdBu')\n",
    "plt.set_cmap('jet')\n",
    "x = np.arange(len(_) - 1)\n",
    "w = 0.1\n",
    "# 绘制多个bar在同一个图中, 这里需要控制width\n",
    "plt.bar(x - 1 * w, height=his_test_ok, width=2 * w, align='center')  #测试样本预测相同\n",
    "plt.bar(x + 1 * w, height=his_test_no, width=2 * w, align='center')  #测试样本预测不同\n",
    "# 设置坐标轴的标签\n",
    "ax1.yaxis.set_tick_params(labelsize=15)  # 设置y轴的字体的大小\n",
    "ax1.set_xticks(x)  # 设置xticks出现的位置\n",
    "# 设置坐标轴名称\n",
    "ax1.set_ylabel(\"Count\", fontsize='xx-large')\n",
    "# 设置标题\n",
    "ax1.set_title('%s 测试样本预测类别区间个数统计 测试R2=%.2f' % (clf.kernel, score_test), fontsize='x-large')\n",
    "# 设置图例\n",
    "plt.legend(('测试预测相同', '测试预测不同'), fontsize='x-large', loc='upper right')\n",
    "plt.show()"
   ],
   "metadata": {
    "collapsed": false,
    "pycharm": {
     "name": "#%%\n"
    }
   }
  },
  {
   "cell_type": "code",
   "execution_count": 18,
   "outputs": [
    {
     "name": "stdout",
     "output_type": "stream",
     "text": [
      "[ 0. -1.  0.  0. -1. -1. -1.  1.  1.  1.]\n",
      "[ 1.  0.  0.  1.  1.  1. -1.  1.  0.  1.]\n",
      "(104, 4) (104, 4)\n",
      "(104, 1) 2\n",
      "[[-0.569 -0.538 -0.382 -0.577]\n",
      " [-1.489 -1.52  -1.402 -1.5  ]\n",
      " [-1.683 -1.622 -1.585 -1.553]\n",
      " [ 0.993  0.91   1.207  1.1  ]\n",
      " [-0.018 -0.185 -0.052 -0.21 ]]\n",
      "[ 1. -1. -1.  1.  1.  1. -1.  1.  0.  1.  1.  1.  1.  0.  1. -1.  1.  1.\n",
      "  0.  1. -1.  1.  0.  1.  1.  1.  1.  1.  1. -1. -1.  1.  1.  0.  1.  1.\n",
      "  1.  1.  1.  1.  1.  1.  1. -1.  1.  1.  1.  1.  1. -1.]\n"
     ]
    }
   ],
   "source": [
    "print(y_train[:10].ravel())\n",
    "print(y_test[:10].ravel())\n",
    "print(x_train_stand.shape, x_test_stand.shape)\n",
    "print(y_train.shape, y_train.ndim)\n",
    "print(x_test_stand[:5])\n",
    "print(y_test_pred[:50].ravel())"
   ],
   "metadata": {
    "collapsed": false,
    "pycharm": {
     "name": "#%%\n"
    }
   }
  },
  {
   "cell_type": "code",
   "execution_count": 18,
   "outputs": [],
   "source": [],
   "metadata": {
    "collapsed": false,
    "pycharm": {
     "name": "#%%\n"
    }
   }
  }
 ],
 "metadata": {
  "kernelspec": {
   "name": "pycharm-50a0962a",
   "language": "python",
   "display_name": "PyCharm (python-demo)"
  },
  "language_info": {
   "codemirror_mode": {
    "name": "ipython",
    "version": 2
   },
   "file_extension": ".py",
   "mimetype": "text/x-python",
   "name": "python",
   "nbconvert_exporter": "python",
   "pygments_lexer": "ipython2",
   "version": "2.7.6"
  }
 },
 "nbformat": 4,
 "nbformat_minor": 0
}