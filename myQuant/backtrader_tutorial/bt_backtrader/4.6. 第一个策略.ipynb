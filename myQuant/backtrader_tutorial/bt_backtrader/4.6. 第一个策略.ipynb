{
 "cells": [
  {
   "cell_type": "code",
   "execution_count": 3,
   "metadata": {
    "collapsed": true
   },
   "outputs": [],
   "source": [
    "import datetime  #\n",
    "import os.path  # 路径管理\n",
    "import sys  # 获取当前运行脚本的路径 (in argv[0])\n"
   ]
  },
  {
   "cell_type": "code",
   "execution_count": 7,
   "outputs": [
    {
     "name": "stdout",
     "output_type": "stream",
     "text": [
      "组合期初资金: 100000.00\n",
      "切片访问前3个值 array('d', [1.22, 1.33, 1.44, 1.55, 1.66])\n",
      "close0 1.66 close1 1.22\n",
      "1995-01-03, Close, 1.22\n",
      "1995-01-04, Close, 1.33\n",
      "1995-01-05, Close, 1.44\n",
      "1995-01-06, Close, 1.55\n",
      "1995-01-09, Close, 1.66\n",
      "组合期末资金: 100000.00\n"
     ]
    }
   ],
   "source": [
    "#导入backtrader框架\n",
    "import backtrader as bt\n",
    "\n",
    "# 创建策略继承bt.Strategy\n",
    "class TestStrategy(bt.Strategy):\n",
    "\n",
    "    def log(self, txt, dt=None):\n",
    "        # 记录策略的执行日志\n",
    "        dt = dt or self.datas[0].datetime.date(0)\n",
    "        print('%s, %s' % (dt.isoformat(), txt))\n",
    "\n",
    "    def __init__(self):\n",
    "        # 保存收盘价的引用\n",
    "        self.dataclose = self.data_close\n",
    "        print('切片访问前3个值', self.datas[0].array[:10])\n",
    "        print('close0',self.dataclose[0],'close1',self.dataclose[1])\n",
    "\n",
    "    def next(self):\n",
    "        # 记录收盘价\n",
    "        self.log('Close, %.2f' % self.dataclose[0])\n",
    "        pass\n",
    "\n",
    "\n",
    "if __name__ == '__main__':\n",
    "    # 创建Cerebro引擎\n",
    "    cerebro = bt.Cerebro()\n",
    "    # Cerebro引擎在后台创建broker(经纪人)，系统默认资金量为10000\n",
    "\n",
    "    # 为Cerebro引擎添加策略\n",
    "    cerebro.addstrategy(TestStrategy)\n",
    "\n",
    "    # 获取当前运行脚本所在目录 modpath = os.path.dirname(os.path.abspath(sys.argv[0]))\n",
    "    modpath = os.path.abspath('.')\n",
    "    # 拼接加载路径\n",
    "    datapath = os.path.join(modpath, '../../datas/orcl-1995-2014.txt')\n",
    "\n",
    "    # 创建交易数据集\n",
    "    data = bt.feeds.YahooFinanceCSVData(\n",
    "        dataname=datapath,\n",
    "        # 数据必须大于fromdate 1995-01-03\n",
    "        fromdate=datetime.datetime(1995, 1, 3),\n",
    "        # 数据必须小于todate\n",
    "        todate=datetime.datetime(1995, 1, 10),\n",
    "        reverse=False)\n",
    "\n",
    "    # 加载交易数据\n",
    "    cerebro.adddata(data)\n",
    "\n",
    "\n",
    "    # 设置投资金额100000.0\n",
    "    cerebro.broker.setcash(100000.0)\n",
    "    # 引擎运行前打印期出资金\n",
    "    print('组合期初资金: %.2f' % cerebro.broker.getvalue())\n",
    "    cerebro.run()\n",
    "    # 引擎运行后打期末资金\n",
    "    print('组合期末资金: %.2f' % cerebro.broker.getvalue())"
   ],
   "metadata": {
    "collapsed": false,
    "pycharm": {
     "name": "#%%\n"
    }
   }
  },
  {
   "cell_type": "code",
   "execution_count": 13,
   "outputs": [
    {
     "name": "stdout",
     "output_type": "stream",
     "text": [
      "组合期初资金: 100000.00\n",
      "切片访问前3个值 array('d', [18.56, 18.1, 18.09, 17.66, 17.2, 17.32, 17.11, 17.08, 17.22])\n",
      "close0 17.22 close1 18.56\n",
      "2000-12-19, Close, 18.56\n",
      "2000-12-20, Close, 18.10\n",
      "2000-12-21, Close, 18.09\n",
      "2000-12-22, Close, 17.66\n",
      "2000-12-25, Close, 17.20\n",
      "2000-12-26, Close, 17.32\n",
      "2000-12-27, Close, 17.11\n",
      "2000-12-28, Close, 17.08\n",
      "2000-12-29, Close, 17.22\n",
      "组合期末资金: 100000.00\n"
     ]
    }
   ],
   "source": [
    "if __name__ == '__main__':\n",
    "    # 创建Cerebro引擎\n",
    "    cerebro = bt.Cerebro()\n",
    "    # Cerebro引擎在后台创建broker(经纪人)，系统默认资金量为10000\n",
    "    # 为Cerebro引擎添加策略\n",
    "    cerebro.addstrategy(TestStrategy)\n",
    "\n",
    "    # 获取当前运行脚本所在目录\n",
    "    modpath = os.path.dirname(os.path.abspath(sys.argv[0]))\n",
    "    # 拼接加载路径\n",
    "    # datapath = os.path.join('../../datas/orcl-1995-2014.txt')\n",
    "    datapath = os.path.join('./fd_data/600016.SH.csv')\n",
    "\n",
    "    # 创建交易数据集\n",
    "    data = bt.feeds.GenericCSVData(\n",
    "        dataname=datapath,\n",
    "        fromdate=datetime.datetime(2000, 1, 1),\n",
    "        todate=datetime.datetime(2000, 12, 31),\n",
    "        nullvalue=0.0,\n",
    "        dtformat=('%Y%m%d'),\n",
    "        datetime=1,\n",
    "        high=3,\n",
    "        low=4,\n",
    "        open=2,\n",
    "        close=5,\n",
    "        volume=9,\n",
    "        openinterest=-1\n",
    "    )\n",
    "\n",
    "    # 加载交易数据\n",
    "    cerebro.adddata(data)\n",
    "\n",
    "\n",
    "    # 设置投资金额100000.0\n",
    "    cerebro.broker.setcash(100000.0)\n",
    "    # 引擎运行前打印期出资金\n",
    "    print('组合期初资金: %.2f' % cerebro.broker.getvalue())\n",
    "    cerebro.run()\n",
    "    # 引擎运行后打期末资金\n",
    "    print('组合期末资金: %.2f' % cerebro.broker.getvalue())"
   ],
   "metadata": {
    "collapsed": false,
    "pycharm": {
     "name": "#%%\n"
    }
   }
  },
  {
   "cell_type": "code",
   "execution_count": 14,
   "outputs": [
    {
     "name": "stdout",
     "output_type": "stream",
     "text": [
      "<backtrader.feeds.csvgeneric.GenericCSVData object at 0x000001C441ECECA0>\n"
     ]
    },
    {
     "data": {
      "text/plain": "0"
     },
     "execution_count": 14,
     "metadata": {},
     "output_type": "execute_result"
    }
   ],
   "source": [
    "print(data)\n",
    "os.system(\"pause\")"
   ],
   "metadata": {
    "collapsed": false,
    "pycharm": {
     "name": "#%%\n"
    }
   }
  }
 ],
 "metadata": {
  "kernelspec": {
   "display_name": "Python 3",
   "language": "python",
   "name": "python3"
  },
  "language_info": {
   "codemirror_mode": {
    "name": "ipython",
    "version": 2
   },
   "file_extension": ".py",
   "mimetype": "text/x-python",
   "name": "python",
   "nbconvert_exporter": "python",
   "pygments_lexer": "ipython2",
   "version": "2.7.6"
  }
 },
 "nbformat": 4,
 "nbformat_minor": 0
}