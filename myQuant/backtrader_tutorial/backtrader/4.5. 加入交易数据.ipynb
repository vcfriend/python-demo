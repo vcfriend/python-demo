{
 "cells": [
  {
   "cell_type": "code",
   "execution_count": 2,
   "metadata": {
    "collapsed": true
   },
   "outputs": [],
   "source": [
    "import datetime  #\n",
    "import os.path  # 路径管理\n",
    "import sys  # 获取当前运行脚本的路径 (in argv[0])\n",
    "\n",
    "#导入backtrader框架\n",
    "import backtrader as bt"
   ]
  },
  {
   "cell_type": "code",
   "execution_count": 3,
   "outputs": [
    {
     "name": "stdout",
     "output_type": "stream",
     "text": [
      "组合期初资金: 100000.00\n",
      "组合期末资金: 100000.00\n"
     ]
    }
   ],
   "source": [
    "if __name__ == '__main__':\n",
    "    # 创建Cerebro引擎\n",
    "    cerebro = bt.Cerebro()\n",
    "    # Cerebro引擎在后台创建broker(经纪人)，系统默认资金量为10000\n",
    "\n",
    "    # 获取当前运行脚本所在目录\n",
    "    modpath = os.path.dirname(os.path.abspath(sys.argv[0]))\n",
    "    # 拼接加载路径\n",
    "    datapath = os.path.join('../../datas/orcl-1995-2014.txt')\n",
    "\n",
    "    # 创建交易数据集\n",
    "    data = bt.feeds.YahooFinanceCSVData(\n",
    "        dataname=datapath,\n",
    "        # 数据必须大于fromdate\n",
    "        fromdate=datetime.datetime(2000, 1, 1),\n",
    "        # 数据必须小于todate\n",
    "        todate=datetime.datetime(2000, 12, 31),\n",
    "        reverse=False)\n",
    "\n",
    "    # 加载交易数据\n",
    "    cerebro.adddata(data)\n",
    "\n",
    "\n",
    "    # 设置投资金额100000.0\n",
    "    cerebro.broker.setcash(100000.0)\n",
    "    # 引擎运行前打印期出资金\n",
    "    print('组合期初资金: %.2f' % cerebro.broker.getvalue())\n",
    "    cerebro.run()\n",
    "    # 引擎运行后打期末资金\n",
    "    print('组合期末资金: %.2f' % cerebro.broker.getvalue())"
   ],
   "metadata": {
    "collapsed": false,
    "pycharm": {
     "name": "#%%\n"
    }
   }
  },
  {
   "cell_type": "code",
   "execution_count": null,
   "outputs": [],
   "source": [],
   "metadata": {
    "collapsed": false,
    "pycharm": {
     "name": "#%%\n"
    }
   }
  }
 ],
 "metadata": {
  "kernelspec": {
   "display_name": "Python 3",
   "language": "python",
   "name": "python3"
  },
  "language_info": {
   "codemirror_mode": {
    "name": "ipython",
    "version": 2
   },
   "file_extension": ".py",
   "mimetype": "text/x-python",
   "name": "python",
   "nbconvert_exporter": "python",
   "pygments_lexer": "ipython2",
   "version": "2.7.6"
  }
 },
 "nbformat": 4,
 "nbformat_minor": 0
}