{
 "cells": [
  {
   "cell_type": "markdown",
   "metadata": {},
   "source": [
    "_Backtesting.py_ 快速入门用户指南\n",
    "=======================\n",
    "Backtesting.py快速入门用户指南\n",
    "本教程展示了 backtesting.py 的一些功能，这是一个用于回溯测试交易策略的Python框架。\n",
    "\n",
    "Backtesting.py是一个小巧轻量级，快速的回溯测试框架，使用最先进的Python结构和程序（Python 3.6 +，Pandas，NumPy，Bokeh）。它有一个非常小而简单的API，易于记忆并快速形成有意义的结果。该库并不真正支持依赖于套利或多资产投资组合再平衡的选股或交易策略;相反，它一次可与单个可交易资产一起使用，最适合优化仓位进入和退出信号策略，决定技术指标的值，它也是一个多功能的交互式交易可视化和统计工具。\n",
    "\n",
    "## 数据\n",
    "您自带数据。回溯测试摄取_all种OHLC data_（股票，外汇，期货，加密货币等）作为熊猫。包含列、、、 和（可选）的数据帧。这样的数据是广泛可获得的（参见：pandas-datareader， Quandl， findatapy）。除此之外，您的数据框还可以具有其他列，这些列可以在您的策略中以类似的方式访问。'Open''High''Low''Close''Volume'\n",
    "\n",
    "理想情况下，DataFrame应该使用日期时间索引（将其转换为pd.to_datetime（）），否则可以使用简单的范围索引。\n",
    "\n",
    "\n",
    "## Data\n",
    "_You bring your own data._ Backtesting ingests _all kinds of \n",
    "[OHLC](https://en.wikipedia.org/wiki/Open-high-low-close_chart)\n",
    "data_ (stocks, forex, futures, crypto, ...) as a\n",
    "[pandas.DataFrame](https://pandas.pydata.org/pandas-docs/stable/10min.html)\n",
    "with columns `'Open'`, `'High'`, `'Low'`, `'Close'` and (optionally) `'Volume'`. Such data is widely obtainable (see: \n",
    "[pandas-datareader](https://pandas-datareader.readthedocs.io/en/latest/),\n",
    "[Quandl](https://www.quandl.com/tools/python),\n",
    "[findatapy](https://github.com/cuemacro/findatapy)).\n",
    "Besides these, your data frames can have _additional columns_ which are accessible in your strategies in a similar manner.\n",
    "\n",
    "DataFrame should ideally be indexed with a _datetime index_ (convert it with [`pd.to_datetime()`](https://pandas.pydata.org/pandas-docs/stable/generated/pandas.to_datetime.html)), otherwise a simple range index will do."
   ]
  },
  {
   "cell_type": "code",
   "execution_count": null,
   "metadata": {},
   "outputs": [],
   "source": [
    "# Example OHLC daily data for Google Inc.\n",
    "from backtesting.test import GOOG\n",
    "\n",
    "GOOG.tail()"
   ]
  },
  {
   "cell_type": "markdown",
   "metadata": {},
   "source": [
    "## 策略\n",
    "让我们创建第一个策略来回溯测试这些Google数据，这是一个简单的移动平均线（MA）交叉策略。\n",
    "\n",
    "Backtesting.py没有发布自己的一套技术分析指标。偏爱 TA 的用户可能应该参考经过验证的指标库中的函数，例如TA-Lib或Tulipy，但对于此示例，我们可以自己定义一个简单的帮助器移动平均函数："
   ]
  },
  {
   "cell_type": "code",
   "execution_count": null,
   "metadata": {},
   "outputs": [],
   "source": [
    "import pandas as pd\n",
    "\n",
    "\n",
    "def SMA(values, n):\n",
    "    \"\"\"\n",
    "    Return simple moving average of `values`, at\n",
    "    each step taking into account `n` previous values.\n",
    "    \"\"\"\n",
    "    return pd.Series(values).rolling(n).mean()"
   ]
  },
  {
   "cell_type": "markdown",
   "metadata": {},
   "source": [
    "新的策略需要扩展Strategy类并重写其两个抽象方法：init（）和next（）。\n",
    "\n",
    "在运行策略之前调用方法。在其中，人们理想地以高效，矢量化的方式预先计算策略所依赖的任何指标和信号。init()\n",
    "\n",
    "然后，Backtest实例以迭代方式调用方法，为每个数据点（数据帧行）调用一次，模拟每个新的完整蜡烛条的增量可用性。next()\n",
    "\n",
    "请注意，backtesting.py不能在烛台内做出决定/交易 - 任何新订单都会在下一根蜡烛的开盘时执行（如果trade_on_close=True，则当前蜡烛的收盘价）。如果您发现自己希望在烛台内进行交易（例如日间交易），则需要从更细粒度（例如每小时）的数据开始。\n"
   ]
  },
  {
   "cell_type": "code",
   "execution_count": null,
   "metadata": {},
   "outputs": [],
   "source": [
    "from backtesting import Strategy\n",
    "from backtesting.lib import crossover\n",
    "\n",
    "\n",
    "class SmaCross(Strategy):\n",
    "    # Define the two MA lags as *class variables*\n",
    "    # for later optimization\n",
    "    n1 = 10\n",
    "    n2 = 20\n",
    "    \n",
    "    def init(self):\n",
    "        # Precompute the two moving averages\n",
    "        self.sma1 = self.I(SMA, self.data.Close, self.n1)\n",
    "        self.sma2 = self.I(SMA, self.data.Close, self.n2)\n",
    "    \n",
    "    def next(self):\n",
    "        # If sma1 crosses above sma2, close any existing\n",
    "        # short trades, and buy the asset\n",
    "        if crossover(self.sma1, self.sma2):\n",
    "            self.position.close()\n",
    "            self.buy()\n",
    "\n",
    "        # Else, if sma1 crosses below sma2, close any existing\n",
    "        # long trades, and sell the asset\n",
    "        elif crossover(self.sma2, self.sma1):\n",
    "            self.position.close()\n",
    "            self.sell()"
   ]
  },
  {
   "cell_type": "markdown",
   "metadata": {},
   "source": [
    "在 和 中，模拟策略的数据可用作实例变量self.data。init()next()\n",
    "\n",
    "在 中，我们通过将指标包装在 self 中来间接声明和计算指标。I（）.包装器被传递给一个函数（我们的函数）以及任何用于调用它的参数（我们的关闭值和 MA 滞后）。以这种方式包装的指标将自动绘制，并且将智能地推断其图例字符串。init()SMA\n",
    "\n",
    "在 中，我们只需检查较快的移动平均线是否刚好越过较慢的移动平均线。如果确实如此并且向上，我们关闭可能的空头头寸并做多;如果确实如此，并且向下，我们关闭未平仓多头头寸并做空。请注意，我们不会调整订单大小，因此Backtesting.py假设最大可能位置。我们使用backtesting.lib.crossover（）函数，而不是编写更晦涩和令人困惑的条件，例如：next()"
   ]
  },
  {
   "cell_type": "markdown",
   "metadata": {
    "pycharm": {
     "name": "#%% md\n"
    }
   },
   "source": [
    "%%script echo\n",
    "\n",
    "    def next(self):\n",
    "        if (self.sma1[-2] < self.sma2[-2] and\n",
    "                self.sma1[-1] > self.sma2[-1]):\n",
    "            self.position.close()\n",
    "            self.buy()\n",
    "\n",
    "        elif (self.sma1[-2] > self.sma2[-2] and    # Ugh!\n",
    "              self.sma1[-1] < self.sma2[-1]):\n",
    "            self.position.close()\n",
    "            self.sell()"
   ]
  },
  {
   "cell_type": "markdown",
   "metadata": {},
   "source": [
    "在 中，整个点系列都可用，而在next（）中，self.data的长度和所有声明的指标在每次调用时都会进行调整，以便（例如 或 ） 始终包含最新的值、以前的值等（升序排序的 1D 数组的普通 Python 索引）。init()next()array[-1]self.data.Close[-1]self.sma1[-1]array[-2]\n",
    "\n",
    "注意：出于性能原因，任何包装的指标（例如）都是NumPy数组。如果您更喜欢 pandas 系列或 DataFrame 对象，请分别使用或访问器。您也可以手动构造序列，例如.self.dataself.Iself.sma1Strategy.data.<column>.sStrategy.data.dfpd.Series(self.data.Close, index=self.data.index)\n",
    "\n",
    "如果我们使用 . self.position.close()Backtest(..., exclusive_orders=True)\n",
    "\n"
   ]
  },
  {
   "cell_type": "markdown",
   "metadata": {},
   "source": [
    "## 回溯测试\n",
    "让我们看看我们的策略在历史 Google 数据上的表现如何。回溯测试实例使用 OHLC 数据和策略类进行初始化（有关其他选项，请参阅 API 参考），我们从 10，000 个现金单位开始，并将经纪商的佣金设置为实际的 0.2%。"
   ]
  },
  {
   "cell_type": "code",
   "execution_count": null,
   "metadata": {},
   "outputs": [],
   "source": [
    "from backtesting import Backtest\n",
    "\n",
    "bt = Backtest(GOOG, SmaCross, cash=10_000, commission=.002)\n",
    "stats = bt.run()\n",
    "stats"
   ]
  },
  {
   "cell_type": "markdown",
   "metadata": {},
   "source": [
    "Backtest.run（）方法返回一个 pandas 一系列与我们的策略相关的模拟结果和统计信息。我们看到，这种简单的策略在9年的时间里获得了近600%的回报，最大回撤率为33%，最长的回撤期跨越了近两年......\n",
    "\n",
    "Backtest.plot（）方法以更直观的形式提供相同的见解。"
   ]
  },
  {
   "cell_type": "code",
   "execution_count": null,
   "metadata": {},
   "outputs": [],
   "source": [
    "bt.plot()"
   ]
  },
  {
   "cell_type": "markdown",
   "metadata": {},
   "source": [
    "## Optimization\n",
    "\n",
    "We hard-coded the two lag parameters (`n1` and `n2`) into our strategy above. However, the strategy may work better with 15–30 or some other cross-over. **We declared the parameters as optimizable by making them [class variables](https://docs.python.org/3/tutorial/classes.html#class-and-instance-variables)**.\n",
    "\n",
    "We optimize the two parameters by calling\n",
    "[`Backtest.optimize()`](https://kernc.github.io/backtesting.py/doc/backtesting/backtesting.html#backtesting.backtesting.Backtest.optimize)\n",
    "method with each parameter a keyword argument pointing to its pool of possible values to test. Parameter `n1` is tested for values in range between 5 and 30 and parameter `n2` for values between 10 and 70, respectively. Some combinations of values of the two parameters are invalid, i.e. `n1` should not be _larger than_ or equal to `n2`. We limit admissible parameter combinations with an _ad hoc_ constraint function, which takes in the parameters and returns `True` (i.e. admissible) whenever `n1` is less than `n2`. Additionally, we search for such parameter combination that maximizes return over the observed period. We could instead choose to optimize any other key from the returned `stats` series."
   ]
  },
  {
   "cell_type": "code",
   "execution_count": null,
   "metadata": {},
   "outputs": [],
   "source": [
    "%%time\n",
    "\n",
    "stats = bt.optimize(n1=range(5, 30, 5),\n",
    "                    n2=range(10, 70, 5),\n",
    "                    maximize='Equity Final [$]',\n",
    "                    constraint=lambda param: param.n1 < param.n2)\n",
    "stats"
   ]
  },
  {
   "cell_type": "markdown",
   "metadata": {},
   "source": [
    "We can look into `stats['_strategy']` to access the Strategy _instance_ and its optimal parameter values (10 and 15)."
   ]
  },
  {
   "cell_type": "code",
   "execution_count": null,
   "metadata": {},
   "outputs": [],
   "source": [
    "stats._strategy"
   ]
  },
  {
   "cell_type": "code",
   "execution_count": null,
   "metadata": {
    "scrolled": false
   },
   "outputs": [],
   "source": [
    "bt.plot(plot_volume=False, plot_pl=False)"
   ]
  },
  {
   "cell_type": "markdown",
   "metadata": {},
   "source": [
    "Strategy optimization managed to up its initial performance _on in-sample data_ by almost 50% and even beat simple\n",
    "[buy & hold](https://en.wikipedia.org/wiki/Buy_and_hold).\n",
    "In real life optimization, however, do **take steps to avoid\n",
    "[overfitting](https://en.wikipedia.org/wiki/Overfitting)**."
   ]
  },
  {
   "cell_type": "markdown",
   "metadata": {},
   "source": [
    "## Trade data\n",
    "\n",
    "In addition to backtest statistics returned by\n",
    "[`Backtest.run()`](https://kernc.github.io/backtesting.py/doc/backtesting/backtesting.html#backtesting.backtesting.Backtest.run)\n",
    "shown above, you can look into _individual trade returns_ and the changing _equity curve_ and _drawdown_ by inspecting the last few, internal keys in the result series."
   ]
  },
  {
   "cell_type": "code",
   "execution_count": null,
   "metadata": {},
   "outputs": [],
   "source": [
    "stats.tail()"
   ]
  },
  {
   "cell_type": "markdown",
   "metadata": {},
   "source": [
    "The columns should be self-explanatory."
   ]
  },
  {
   "cell_type": "code",
   "execution_count": null,
   "metadata": {},
   "outputs": [],
   "source": [
    "stats['_equity_curve']  # Contains equity/drawdown curves. DrawdownDuration is only defined at ends of DD periods."
   ]
  },
  {
   "cell_type": "code",
   "execution_count": null,
   "metadata": {},
   "outputs": [],
   "source": [
    "stats['_trades']  # Contains individual trade data"
   ]
  },
  {
   "cell_type": "markdown",
   "metadata": {},
   "source": [
    "Learn more by exploring further\n",
    "[examples](https://kernc.github.io/backtesting.py/doc/backtesting/index.html#tutorials)\n",
    "or find more framework options in the\n",
    "[full API reference](https://kernc.github.io/backtesting.py/doc/backtesting/index.html#header-submodules)."
   ]
  }
 ],
 "metadata": {
  "jupytext": {
   "text_representation": {
    "format_version": "1.1"
   }
  },
  "kernelspec": {
   "display_name": "PyCharm (python-demo)",
   "language": "python",
   "name": "pycharm-50a0962a"
  },
  "language_info": {
   "codemirror_mode": {
    "name": "ipython",
    "version": 3
   },
   "file_extension": ".py",
   "mimetype": "text/x-python",
   "name": "python",
   "nbconvert_exporter": "python",
   "pygments_lexer": "ipython3",
   "version": "3.7.12"
  },
  "toc": {
   "base_numbering": 1,
   "nav_menu": {},
   "number_sections": true,
   "sideBar": true,
   "skip_h1_title": false,
   "title_cell": "Table of Contents",
   "title_sidebar": "Contents",
   "toc_cell": false,
   "toc_position": {},
   "toc_section_display": true,
   "toc_window_display": false
  }
 },
 "nbformat": 4,
 "nbformat_minor": 2
}
