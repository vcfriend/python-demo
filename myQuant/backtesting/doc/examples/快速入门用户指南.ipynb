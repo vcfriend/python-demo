{
 "cells": [
  {
   "cell_type": "markdown",
   "metadata": {},
   "source": [
    "_Backtesting.py_ 快速入门用户指南\n",
    "=======================\n",
    "Backtesting.py快速入门用户指南\n",
    "本教程展示了 backtesting.py 的一些功能，这是一个用于回溯测试交易策略的Python框架。\n",
    "\n",
    "Backtesting.py是一个小巧轻量级，快速的回溯测试框架，使用最先进的Python结构和程序（Python 3.6 +，Pandas，NumPy，Bokeh）。它有一个非常小而简单的API，易于记忆并快速形成有意义的结果。该库并不真正支持依赖于套利或多资产投资组合再平衡的选股或交易策略;相反，它一次可与单个可交易资产一起使用，最适合优化仓位进入和退出信号策略，决定技术指标的值，它也是一个多功能的交互式交易可视化和统计工具。\n",
    "\n",
    "## 数据\n",
    "您自带数据。回溯测试摄取_all种OHLC data_（股票，外汇，期货，加密货币等）作为熊猫。包含列、、、 和（可选）的数据帧。这样的数据是广泛可获得的（参见：pandas-datareader， Quandl， findatapy）。除此之外，您的数据框还可以具有其他列，这些列可以在您的策略中以类似的方式访问。'Open''High''Low''Close''Volume'\n",
    "\n",
    "理想情况下，DataFrame应该使用日期时间索引（将其转换为pd.to_datetime（）），否则可以使用简单的范围索引。\n",
    "\n",
    "\n",
    "## Data\n",
    "_You bring your own data._ Backtesting ingests _all kinds of \n",
    "[OHLC](https://en.wikipedia.org/wiki/Open-high-low-close_chart)\n",
    "data_ (stocks, forex, futures, crypto, ...) as a\n",
    "[pandas.DataFrame](https://pandas.pydata.org/pandas-docs/stable/10min.html)\n",
    "with columns `'Open'`, `'High'`, `'Low'`, `'Close'` and (optionally) `'Volume'`. Such data is widely obtainable (see: \n",
    "[pandas-datareader](https://pandas-datareader.readthedocs.io/en/latest/),\n",
    "[Quandl](https://www.quandl.com/tools/python),\n",
    "[findatapy](https://github.com/cuemacro/findatapy)).\n",
    "Besides these, your data frames can have _additional columns_ which are accessible in your strategies in a similar manner.\n",
    "\n",
    "DataFrame should ideally be indexed with a _datetime index_ (convert it with [`pd.to_datetime()`](https://pandas.pydata.org/pandas-docs/stable/generated/pandas.to_datetime.html)), otherwise a simple range index will do."
   ]
  },
  {
   "cell_type": "code",
   "execution_count": 26,
   "metadata": {},
   "outputs": [
    {
     "data": {
      "text/plain": "             Open    High     Low   Close   Volume\n2013-02-25  802.3  808.41  790.49  790.77  2303900\n2013-02-26  795.0  795.95  784.40  790.13  2202500\n2013-02-27  794.8  804.75  791.11  799.78  2026100\n2013-02-28  801.1  806.99  801.03  801.20  2265800\n2013-03-01  797.8  807.14  796.15  806.19  2175400",
      "text/html": "<div>\n<style scoped>\n    .dataframe tbody tr th:only-of-type {\n        vertical-align: middle;\n    }\n\n    .dataframe tbody tr th {\n        vertical-align: top;\n    }\n\n    .dataframe thead th {\n        text-align: right;\n    }\n</style>\n<table border=\"1\" class=\"dataframe\">\n  <thead>\n    <tr style=\"text-align: right;\">\n      <th></th>\n      <th>Open</th>\n      <th>High</th>\n      <th>Low</th>\n      <th>Close</th>\n      <th>Volume</th>\n    </tr>\n  </thead>\n  <tbody>\n    <tr>\n      <th>2013-02-25</th>\n      <td>802.3</td>\n      <td>808.41</td>\n      <td>790.49</td>\n      <td>790.77</td>\n      <td>2303900</td>\n    </tr>\n    <tr>\n      <th>2013-02-26</th>\n      <td>795.0</td>\n      <td>795.95</td>\n      <td>784.40</td>\n      <td>790.13</td>\n      <td>2202500</td>\n    </tr>\n    <tr>\n      <th>2013-02-27</th>\n      <td>794.8</td>\n      <td>804.75</td>\n      <td>791.11</td>\n      <td>799.78</td>\n      <td>2026100</td>\n    </tr>\n    <tr>\n      <th>2013-02-28</th>\n      <td>801.1</td>\n      <td>806.99</td>\n      <td>801.03</td>\n      <td>801.20</td>\n      <td>2265800</td>\n    </tr>\n    <tr>\n      <th>2013-03-01</th>\n      <td>797.8</td>\n      <td>807.14</td>\n      <td>796.15</td>\n      <td>806.19</td>\n      <td>2175400</td>\n    </tr>\n  </tbody>\n</table>\n</div>"
     },
     "execution_count": 26,
     "metadata": {},
     "output_type": "execute_result"
    }
   ],
   "source": [
    "# Example OHLC daily data for Google Inc.\n",
    "from backtesting.test import GOOG\n",
    "\n",
    "GOOG.tail()"
   ]
  },
  {
   "cell_type": "markdown",
   "metadata": {},
   "source": [
    "## 策略\n",
    "让我们创建第一个策略来回溯测试这些Google数据，这是一个简单的移动平均线（MA）交叉策略。\n",
    "\n",
    "Backtesting.py没有发布自己的一套技术分析指标。偏爱 TA 的用户可能应该参考经过验证的指标库中的函数，例如TA-Lib或Tulipy，但对于此示例，我们可以自己定义一个简单的帮助器移动平均函数："
   ]
  },
  {
   "cell_type": "code",
   "execution_count": 27,
   "metadata": {},
   "outputs": [],
   "source": [
    "import pandas as pd\n",
    "\n",
    "\n",
    "def SMA(values, n):\n",
    "    \"\"\"\n",
    "    Return simple moving average of `values`, at\n",
    "    each step taking into account `n` previous values.\n",
    "    \"\"\"\n",
    "    return pd.Series(values).rolling(n).mean()"
   ]
  },
  {
   "cell_type": "markdown",
   "metadata": {},
   "source": [
    "新的策略需要扩展Strategy类并重写其两个抽象方法：init（）和next（）。\n",
    "\n",
    "在运行策略之前调用方法。在其中，人们理想地以高效，矢量化的方式预先计算策略所依赖的任何指标和信号。init()\n",
    "\n",
    "然后，Backtest实例以迭代方式调用方法，为每个数据点（数据帧行）调用一次，模拟每个新的完整蜡烛条的增量可用性。next()\n",
    "\n",
    "请注意，backtesting.py不能在烛台内做出决定/交易 - 任何新订单都会在下一根蜡烛的开盘时执行（如果trade_on_close=True，则当前蜡烛的收盘价）。如果您发现自己希望在烛台内进行交易（例如日间交易），则需要从更细粒度（例如每小时）的数据开始。\n"
   ]
  },
  {
   "cell_type": "code",
   "execution_count": 28,
   "metadata": {},
   "outputs": [],
   "source": [
    "from backtesting import Strategy\n",
    "from backtesting.lib import crossover\n",
    "\n",
    "\n",
    "class SmaCross(Strategy):\n",
    "    # Define the two MA lags as *class variables*\n",
    "    # for later optimization\n",
    "    n1 = 10\n",
    "    n2 = 20\n",
    "    \n",
    "    def init(self):\n",
    "        # Precompute the two moving averages\n",
    "        self.sma1 = self.I(SMA, self.data.Close, self.n1)\n",
    "        self.sma2 = self.I(SMA, self.data.Close, self.n2)\n",
    "    \n",
    "    def next(self):\n",
    "        # If sma1 crosses above sma2, close any existing\n",
    "        # short trades, and buy the asset\n",
    "        if crossover(self.sma1, self.sma2):\n",
    "            self.position.close()\n",
    "            self.buy()\n",
    "\n",
    "        # Else, if sma1 crosses below sma2, close any existing\n",
    "        # long trades, and sell the asset\n",
    "        elif crossover(self.sma2, self.sma1):\n",
    "            self.position.close()\n",
    "            self.sell()"
   ]
  },
  {
   "cell_type": "markdown",
   "metadata": {},
   "source": [
    "在 和 中，模拟策略的数据可用作实例变量self.data。init()next()\n",
    "\n",
    "在 中，我们通过将指标包装在 self 中来间接声明和计算指标。I（）.包装器被传递给一个函数（我们的函数）以及任何用于调用它的参数（我们的关闭值和 MA 滞后）。以这种方式包装的指标将自动绘制，并且将智能地推断其图例字符串。init()SMA\n",
    "\n",
    "在 中，我们只需检查较快的移动平均线是否刚好越过较慢的移动平均线。如果确实如此并且向上，我们关闭可能的空头头寸并做多;如果确实如此，并且向下，我们关闭未平仓多头头寸并做空。请注意，我们不会调整订单大小，因此Backtesting.py假设最大可能位置。我们使用backtesting.lib.crossover（）函数，而不是编写更晦涩和令人困惑的条件，例如：next()"
   ]
  },
  {
   "cell_type": "code",
   "execution_count": 29,
   "metadata": {
    "pycharm": {
     "name": "#%% md\n"
    }
   },
   "outputs": [
    {
     "name": "stdout",
     "output_type": "stream",
     "text": [
      "Couldn't find program: 'echo'\n"
     ]
    }
   ],
   "source": [
    "%%script echo\n",
    "\n",
    "    def next(self):\n",
    "        if (self.sma1[-2] < self.sma2[-2] and\n",
    "                self.sma1[-1] > self.sma2[-1]):\n",
    "            self.position.close()\n",
    "            self.buy()\n",
    "\n",
    "        elif (self.sma1[-2] > self.sma2[-2] and    # Ugh!\n",
    "              self.sma1[-1] < self.sma2[-1]):\n",
    "            self.position.close()\n",
    "            self.sell()"
   ]
  },
  {
   "cell_type": "markdown",
   "metadata": {},
   "source": [
    "在 中，整个点系列都可用，而在next（）中，self.data的长度和所有声明的指标在每次调用时都会进行调整，以便（例如 或 ） 始终包含最新的值、以前的值等（升序排序的 1D 数组的普通 Python 索引）。init()next()array[-1]self.data.Close[-1]self.sma1[-1]array[-2]\n",
    "\n",
    "注意：出于性能原因，任何包装的指标（例如）都是NumPy数组。如果您更喜欢 pandas 系列或 DataFrame 对象，请分别使用或访问器。您也可以手动构造序列，例如.self.dataself.Iself.sma1Strategy.data.<column>.sStrategy.data.dfpd.Series(self.data.Close, index=self.data.index)\n",
    "\n",
    "如果我们使用 . self.position.close()Backtest(..., exclusive_orders=True)\n",
    "\n"
   ]
  },
  {
   "cell_type": "markdown",
   "metadata": {},
   "source": [
    "## 回溯测试\n",
    "让我们看看我们的策略在历史 Google 数据上的表现如何。回溯测试实例使用 OHLC 数据和策略类进行初始化（有关其他选项，请参阅 API 参考），我们从 10，000 个现金单位开始，并将经纪商的佣金设置为实际的 0.2%。"
   ]
  },
  {
   "cell_type": "code",
   "execution_count": 30,
   "metadata": {},
   "outputs": [
    {
     "data": {
      "text/plain": "Start                     2004-08-19 00:00:00\nEnd                       2013-03-01 00:00:00\nDuration                   3116 days 00:00:00\nExposure Time [%]                   97.067039\nEquity Final [$]                  68221.96986\nEquity Peak [$]                   68991.21986\nReturn [%]                         582.219699\nBuy & Hold Return [%]              703.458242\nReturn (Ann.) [%]                   25.266427\nVolatility (Ann.) [%]               38.383008\nSharpe Ratio                         0.658271\nSortino Ratio                        1.288779\nCalmar Ratio                         0.763748\nMax. Drawdown [%]                  -33.082172\nAvg. Drawdown [%]                   -5.581506\nMax. Drawdown Duration      688 days 00:00:00\nAvg. Drawdown Duration       41 days 00:00:00\n# Trades                                   94\nWin Rate [%]                        54.255319\nBest Trade [%]                       57.11931\nWorst Trade [%]                    -16.629898\nAvg. Trade [%]                       2.074326\nMax. Trade Duration         121 days 00:00:00\nAvg. Trade Duration          33 days 00:00:00\nProfit Factor                        2.190805\nExpectancy [%]                       2.606294\nSQN                                  1.990216\n_strategy                            SmaCross\n_equity_curve                             ...\n_trades                       Size  EntryB...\ndtype: object"
     },
     "execution_count": 30,
     "metadata": {},
     "output_type": "execute_result"
    }
   ],
   "source": [
    "from backtesting import Backtest\n",
    "\n",
    "bt = Backtest(GOOG, SmaCross, cash=10_000, commission=.002)\n",
    "stats = bt.run()\n",
    "stats"
   ]
  },
  {
   "cell_type": "markdown",
   "metadata": {},
   "source": [
    "Backtest.run（）方法返回一个 pandas 一系列与我们的策略相关的模拟结果和统计信息。我们看到，这种简单的策略在9年的时间里获得了近600%的回报，最大回撤率为33%，最长的回撤期跨越了近两年......\n",
    "\n",
    "Backtest.plot（）方法以更直观的形式提供相同的见解。"
   ]
  },
  {
   "cell_type": "code",
   "execution_count": 31,
   "metadata": {
    "scrolled": true
   },
   "outputs": [
    {
     "data": {
      "text/plain": "Row(id='3952', ...)",
      "text/html": "<div style=\"display: table;\"><div style=\"display: table-row;\"><div style=\"display: table-cell;\"><b title=\"bokeh.models.layouts.Row\">Row</b>(</div><div style=\"display: table-cell;\">id&nbsp;=&nbsp;'3952', <span id=\"4566\" style=\"cursor: pointer;\">&hellip;)</span></div></div><div class=\"4565\" style=\"display: none;\"><div style=\"display: table-cell;\"></div><div style=\"display: table-cell;\">align&nbsp;=&nbsp;'start',</div></div><div class=\"4565\" style=\"display: none;\"><div style=\"display: table-cell;\"></div><div style=\"display: table-cell;\">aspect_ratio&nbsp;=&nbsp;None,</div></div><div class=\"4565\" style=\"display: none;\"><div style=\"display: table-cell;\"></div><div style=\"display: table-cell;\">background&nbsp;=&nbsp;None,</div></div><div class=\"4565\" style=\"display: none;\"><div style=\"display: table-cell;\"></div><div style=\"display: table-cell;\">children&nbsp;=&nbsp;[GridBox(id='3949', ...), ToolbarBox(id='3951', ...)],</div></div><div class=\"4565\" style=\"display: none;\"><div style=\"display: table-cell;\"></div><div style=\"display: table-cell;\">cols&nbsp;=&nbsp;'auto',</div></div><div class=\"4565\" style=\"display: none;\"><div style=\"display: table-cell;\"></div><div style=\"display: table-cell;\">css_classes&nbsp;=&nbsp;[],</div></div><div class=\"4565\" style=\"display: none;\"><div style=\"display: table-cell;\"></div><div style=\"display: table-cell;\">disabled&nbsp;=&nbsp;False,</div></div><div class=\"4565\" style=\"display: none;\"><div style=\"display: table-cell;\"></div><div style=\"display: table-cell;\">height&nbsp;=&nbsp;None,</div></div><div class=\"4565\" style=\"display: none;\"><div style=\"display: table-cell;\"></div><div style=\"display: table-cell;\">height_policy&nbsp;=&nbsp;'auto',</div></div><div class=\"4565\" style=\"display: none;\"><div style=\"display: table-cell;\"></div><div style=\"display: table-cell;\">js_event_callbacks&nbsp;=&nbsp;{},</div></div><div class=\"4565\" style=\"display: none;\"><div style=\"display: table-cell;\"></div><div style=\"display: table-cell;\">js_property_callbacks&nbsp;=&nbsp;{},</div></div><div class=\"4565\" style=\"display: none;\"><div style=\"display: table-cell;\"></div><div style=\"display: table-cell;\">margin&nbsp;=&nbsp;(0, 0, 0, 0),</div></div><div class=\"4565\" style=\"display: none;\"><div style=\"display: table-cell;\"></div><div style=\"display: table-cell;\">max_height&nbsp;=&nbsp;None,</div></div><div class=\"4565\" style=\"display: none;\"><div style=\"display: table-cell;\"></div><div style=\"display: table-cell;\">max_width&nbsp;=&nbsp;None,</div></div><div class=\"4565\" style=\"display: none;\"><div style=\"display: table-cell;\"></div><div style=\"display: table-cell;\">min_height&nbsp;=&nbsp;None,</div></div><div class=\"4565\" style=\"display: none;\"><div style=\"display: table-cell;\"></div><div style=\"display: table-cell;\">min_width&nbsp;=&nbsp;None,</div></div><div class=\"4565\" style=\"display: none;\"><div style=\"display: table-cell;\"></div><div style=\"display: table-cell;\">name&nbsp;=&nbsp;None,</div></div><div class=\"4565\" style=\"display: none;\"><div style=\"display: table-cell;\"></div><div style=\"display: table-cell;\">sizing_mode&nbsp;=&nbsp;'stretch_width',</div></div><div class=\"4565\" style=\"display: none;\"><div style=\"display: table-cell;\"></div><div style=\"display: table-cell;\">spacing&nbsp;=&nbsp;0,</div></div><div class=\"4565\" style=\"display: none;\"><div style=\"display: table-cell;\"></div><div style=\"display: table-cell;\">subscribed_events&nbsp;=&nbsp;[],</div></div><div class=\"4565\" style=\"display: none;\"><div style=\"display: table-cell;\"></div><div style=\"display: table-cell;\">syncable&nbsp;=&nbsp;True,</div></div><div class=\"4565\" style=\"display: none;\"><div style=\"display: table-cell;\"></div><div style=\"display: table-cell;\">tags&nbsp;=&nbsp;[],</div></div><div class=\"4565\" style=\"display: none;\"><div style=\"display: table-cell;\"></div><div style=\"display: table-cell;\">visible&nbsp;=&nbsp;True,</div></div><div class=\"4565\" style=\"display: none;\"><div style=\"display: table-cell;\"></div><div style=\"display: table-cell;\">width&nbsp;=&nbsp;None,</div></div><div class=\"4565\" style=\"display: none;\"><div style=\"display: table-cell;\"></div><div style=\"display: table-cell;\">width_policy&nbsp;=&nbsp;'auto')</div></div></div>\n<script>\n(function() {\n  let expanded = false;\n  const ellipsis = document.getElementById(\"4566\");\n  ellipsis.addEventListener(\"click\", function() {\n    const rows = document.getElementsByClassName(\"4565\");\n    for (let i = 0; i < rows.length; i++) {\n      const el = rows[i];\n      el.style.display = expanded ? \"none\" : \"table-row\";\n    }\n    ellipsis.innerHTML = expanded ? \"&hellip;)\" : \"&lsaquo;&lsaquo;&lsaquo;\";\n    expanded = !expanded;\n  });\n})();\n</script>\n"
     },
     "execution_count": 31,
     "metadata": {},
     "output_type": "execute_result"
    }
   ],
   "source": [
    "bt.plot()"
   ]
  },
  {
   "cell_type": "markdown",
   "metadata": {},
   "source": [
    "## 优化\n",
    "我们将两个滞后参数（和）硬编码到上面的策略中。但是，该策略在15-30或其他交叉时可能会更好。我们通过使它们成为类变量来声明参数是可优化的。n1n2\n",
    "\n",
    "我们通过调用Backtest.optimize（）方法来优化这两个参数，每个参数都有一个关键字参数，指向其可能要测试的值池。参数分别针对介于 5 和 30 之间的值和 10 和 70 之间的值进行测试。两个参数的某些值组合无效，即 不应大于或等于 。我们使用临时约束函数限制可接受的参数组合，该函数接收参数并在小于 时返回（即可接受的）。此外，我们搜索这样的参数组合，该组合在观察到的时间段内最大化回报。相反，我们可以选择优化返回的序列中的任何其他密钥。n1n2n1n2Truen1n2stats"
   ]
  },
  {
   "cell_type": "code",
   "execution_count": 32,
   "metadata": {},
   "outputs": [
    {
     "data": {
      "text/plain": "  0%|          | 0/17 [00:00<?, ?it/s]",
      "application/vnd.jupyter.widget-view+json": {
       "version_major": 2,
       "version_minor": 0,
       "model_id": "cb9ac6c5caa24bfea37bc4cd1a7c5dea"
      }
     },
     "metadata": {},
     "output_type": "display_data"
    },
    {
     "name": "stdout",
     "output_type": "stream",
     "text": [
      "Wall time: 4.67 s\n"
     ]
    },
    {
     "data": {
      "text/plain": "Start                     2004-08-19 00:00:00\nEnd                       2013-03-01 00:00:00\nDuration                   3116 days 00:00:00\nExposure Time [%]                   99.068901\nEquity Final [$]                 103949.42612\nEquity Peak [$]                  108327.71798\nReturn [%]                         939.494261\nBuy & Hold Return [%]              703.458242\nReturn (Ann.) [%]                   31.610936\nVolatility (Ann.) [%]               44.739816\nSharpe Ratio                          0.70655\nSortino Ratio                        1.490961\nCalmar Ratio                         0.718505\nMax. Drawdown [%]                  -43.995445\nAvg. Drawdown [%]                   -6.138853\nMax. Drawdown Duration      690 days 00:00:00\nAvg. Drawdown Duration       43 days 00:00:00\n# Trades                                  153\nWin Rate [%]                        51.633987\nBest Trade [%]                      61.562908\nWorst Trade [%]                    -19.778312\nAvg. Trade [%]                       1.550283\nMax. Trade Duration          83 days 00:00:00\nAvg. Trade Duration          21 days 00:00:00\nProfit Factor                        1.984581\nExpectancy [%]                        1.97988\nSQN                                  1.604158\n_strategy                 SmaCross(n1=10,n...\n_equity_curve                             ...\n_trades                        Size  Entry...\ndtype: object"
     },
     "execution_count": 32,
     "metadata": {},
     "output_type": "execute_result"
    }
   ],
   "source": [
    "%%time\n",
    "\n",
    "stats = bt.optimize(n1=range(5, 30, 5),\n",
    "                    n2=range(10, 70, 5),\n",
    "                    maximize='Equity Final [$]',\n",
    "                    constraint=lambda param: param.n1 < param.n2)\n",
    "stats"
   ]
  },
  {
   "cell_type": "markdown",
   "metadata": {},
   "source": [
    "我们可以查看策略实例及其最佳参数值（10 和 15）。stats['_strategy']"
   ]
  },
  {
   "cell_type": "code",
   "execution_count": 33,
   "metadata": {},
   "outputs": [
    {
     "data": {
      "text/plain": "<Strategy SmaCross(n1=10,n2=15)>"
     },
     "execution_count": 33,
     "metadata": {},
     "output_type": "execute_result"
    }
   ],
   "source": [
    "stats._strategy"
   ]
  },
  {
   "cell_type": "code",
   "execution_count": 34,
   "metadata": {
    "scrolled": false
   },
   "outputs": [
    {
     "data": {
      "text/plain": "Row(id='4891', ...)",
      "text/html": "<div style=\"display: table;\"><div style=\"display: table-row;\"><div style=\"display: table-cell;\"><b title=\"bokeh.models.layouts.Row\">Row</b>(</div><div style=\"display: table-cell;\">id&nbsp;=&nbsp;'4891', <span id=\"5310\" style=\"cursor: pointer;\">&hellip;)</span></div></div><div class=\"5309\" style=\"display: none;\"><div style=\"display: table-cell;\"></div><div style=\"display: table-cell;\">align&nbsp;=&nbsp;'start',</div></div><div class=\"5309\" style=\"display: none;\"><div style=\"display: table-cell;\"></div><div style=\"display: table-cell;\">aspect_ratio&nbsp;=&nbsp;None,</div></div><div class=\"5309\" style=\"display: none;\"><div style=\"display: table-cell;\"></div><div style=\"display: table-cell;\">background&nbsp;=&nbsp;None,</div></div><div class=\"5309\" style=\"display: none;\"><div style=\"display: table-cell;\"></div><div style=\"display: table-cell;\">children&nbsp;=&nbsp;[GridBox(id='4888', ...), ToolbarBox(id='4890', ...)],</div></div><div class=\"5309\" style=\"display: none;\"><div style=\"display: table-cell;\"></div><div style=\"display: table-cell;\">cols&nbsp;=&nbsp;'auto',</div></div><div class=\"5309\" style=\"display: none;\"><div style=\"display: table-cell;\"></div><div style=\"display: table-cell;\">css_classes&nbsp;=&nbsp;[],</div></div><div class=\"5309\" style=\"display: none;\"><div style=\"display: table-cell;\"></div><div style=\"display: table-cell;\">disabled&nbsp;=&nbsp;False,</div></div><div class=\"5309\" style=\"display: none;\"><div style=\"display: table-cell;\"></div><div style=\"display: table-cell;\">height&nbsp;=&nbsp;None,</div></div><div class=\"5309\" style=\"display: none;\"><div style=\"display: table-cell;\"></div><div style=\"display: table-cell;\">height_policy&nbsp;=&nbsp;'auto',</div></div><div class=\"5309\" style=\"display: none;\"><div style=\"display: table-cell;\"></div><div style=\"display: table-cell;\">js_event_callbacks&nbsp;=&nbsp;{},</div></div><div class=\"5309\" style=\"display: none;\"><div style=\"display: table-cell;\"></div><div style=\"display: table-cell;\">js_property_callbacks&nbsp;=&nbsp;{},</div></div><div class=\"5309\" style=\"display: none;\"><div style=\"display: table-cell;\"></div><div style=\"display: table-cell;\">margin&nbsp;=&nbsp;(0, 0, 0, 0),</div></div><div class=\"5309\" style=\"display: none;\"><div style=\"display: table-cell;\"></div><div style=\"display: table-cell;\">max_height&nbsp;=&nbsp;None,</div></div><div class=\"5309\" style=\"display: none;\"><div style=\"display: table-cell;\"></div><div style=\"display: table-cell;\">max_width&nbsp;=&nbsp;None,</div></div><div class=\"5309\" style=\"display: none;\"><div style=\"display: table-cell;\"></div><div style=\"display: table-cell;\">min_height&nbsp;=&nbsp;None,</div></div><div class=\"5309\" style=\"display: none;\"><div style=\"display: table-cell;\"></div><div style=\"display: table-cell;\">min_width&nbsp;=&nbsp;None,</div></div><div class=\"5309\" style=\"display: none;\"><div style=\"display: table-cell;\"></div><div style=\"display: table-cell;\">name&nbsp;=&nbsp;None,</div></div><div class=\"5309\" style=\"display: none;\"><div style=\"display: table-cell;\"></div><div style=\"display: table-cell;\">sizing_mode&nbsp;=&nbsp;'stretch_width',</div></div><div class=\"5309\" style=\"display: none;\"><div style=\"display: table-cell;\"></div><div style=\"display: table-cell;\">spacing&nbsp;=&nbsp;0,</div></div><div class=\"5309\" style=\"display: none;\"><div style=\"display: table-cell;\"></div><div style=\"display: table-cell;\">subscribed_events&nbsp;=&nbsp;[],</div></div><div class=\"5309\" style=\"display: none;\"><div style=\"display: table-cell;\"></div><div style=\"display: table-cell;\">syncable&nbsp;=&nbsp;True,</div></div><div class=\"5309\" style=\"display: none;\"><div style=\"display: table-cell;\"></div><div style=\"display: table-cell;\">tags&nbsp;=&nbsp;[],</div></div><div class=\"5309\" style=\"display: none;\"><div style=\"display: table-cell;\"></div><div style=\"display: table-cell;\">visible&nbsp;=&nbsp;True,</div></div><div class=\"5309\" style=\"display: none;\"><div style=\"display: table-cell;\"></div><div style=\"display: table-cell;\">width&nbsp;=&nbsp;None,</div></div><div class=\"5309\" style=\"display: none;\"><div style=\"display: table-cell;\"></div><div style=\"display: table-cell;\">width_policy&nbsp;=&nbsp;'auto')</div></div></div>\n<script>\n(function() {\n  let expanded = false;\n  const ellipsis = document.getElementById(\"5310\");\n  ellipsis.addEventListener(\"click\", function() {\n    const rows = document.getElementsByClassName(\"5309\");\n    for (let i = 0; i < rows.length; i++) {\n      const el = rows[i];\n      el.style.display = expanded ? \"none\" : \"table-row\";\n    }\n    ellipsis.innerHTML = expanded ? \"&hellip;)\" : \"&lsaquo;&lsaquo;&lsaquo;\";\n    expanded = !expanded;\n  });\n})();\n</script>\n"
     },
     "execution_count": 34,
     "metadata": {},
     "output_type": "execute_result"
    }
   ],
   "source": [
    "bt.plot(plot_volume=False, plot_pl=False)"
   ]
  },
  {
   "cell_type": "markdown",
   "metadata": {},
   "source": [
    "策略优化设法将其样本数据上的初始性能提高了近50%，甚至击败了简单的买入和持有。但是，在现实生活中的优化中，请采取措施避免过度拟合。"
   ]
  },
  {
   "cell_type": "markdown",
   "metadata": {},
   "source": [
    "## 交易数据\n",
    "除了上面显示的Backtest.run（）返回的回溯测试统计数据外，您还可以通过检查结果序列中的最后几个内部键来查看单个交易回报以及不断变化的净值曲线和回撤。"
   ]
  },
  {
   "cell_type": "code",
   "execution_count": 35,
   "metadata": {},
   "outputs": [
    {
     "data": {
      "text/plain": "Expectancy [%]                                              1.97988\nSQN                                                        1.604158\n_strategy                                     SmaCross(n1=10,n2=15)\n_equity_curve                       Equity  DrawdownPct Drawdown...\n_trades                Size  EntryBar  ExitBar  EntryPrice  Exit...\ndtype: object"
     },
     "execution_count": 35,
     "metadata": {},
     "output_type": "execute_result"
    }
   ],
   "source": [
    "stats.tail()"
   ]
  },
  {
   "cell_type": "markdown",
   "metadata": {},
   "source": [
    "这些列应不言自明。"
   ]
  },
  {
   "cell_type": "code",
   "execution_count": 36,
   "metadata": {},
   "outputs": [
    {
     "data": {
      "text/plain": "                  Equity  DrawdownPct DrawdownDuration\n2004-08-19   10000.00000     0.000000              NaT\n2004-08-20   10000.00000     0.000000              NaT\n2004-08-23   10000.00000     0.000000              NaT\n2004-08-24   10000.00000     0.000000              NaT\n2004-08-25   10000.00000     0.000000              NaT\n...                  ...          ...              ...\n2013-02-25  103035.52612     0.048854              NaT\n2013-02-26  102952.32612     0.049622              NaT\n2013-02-27  104206.82612     0.038041              NaT\n2013-02-28  104391.42612     0.036337              NaT\n2013-03-01  103949.42612     0.040417         533 days\n\n[2148 rows x 3 columns]",
      "text/html": "<div>\n<style scoped>\n    .dataframe tbody tr th:only-of-type {\n        vertical-align: middle;\n    }\n\n    .dataframe tbody tr th {\n        vertical-align: top;\n    }\n\n    .dataframe thead th {\n        text-align: right;\n    }\n</style>\n<table border=\"1\" class=\"dataframe\">\n  <thead>\n    <tr style=\"text-align: right;\">\n      <th></th>\n      <th>Equity</th>\n      <th>DrawdownPct</th>\n      <th>DrawdownDuration</th>\n    </tr>\n  </thead>\n  <tbody>\n    <tr>\n      <th>2004-08-19</th>\n      <td>10000.00000</td>\n      <td>0.000000</td>\n      <td>NaT</td>\n    </tr>\n    <tr>\n      <th>2004-08-20</th>\n      <td>10000.00000</td>\n      <td>0.000000</td>\n      <td>NaT</td>\n    </tr>\n    <tr>\n      <th>2004-08-23</th>\n      <td>10000.00000</td>\n      <td>0.000000</td>\n      <td>NaT</td>\n    </tr>\n    <tr>\n      <th>2004-08-24</th>\n      <td>10000.00000</td>\n      <td>0.000000</td>\n      <td>NaT</td>\n    </tr>\n    <tr>\n      <th>2004-08-25</th>\n      <td>10000.00000</td>\n      <td>0.000000</td>\n      <td>NaT</td>\n    </tr>\n    <tr>\n      <th>...</th>\n      <td>...</td>\n      <td>...</td>\n      <td>...</td>\n    </tr>\n    <tr>\n      <th>2013-02-25</th>\n      <td>103035.52612</td>\n      <td>0.048854</td>\n      <td>NaT</td>\n    </tr>\n    <tr>\n      <th>2013-02-26</th>\n      <td>102952.32612</td>\n      <td>0.049622</td>\n      <td>NaT</td>\n    </tr>\n    <tr>\n      <th>2013-02-27</th>\n      <td>104206.82612</td>\n      <td>0.038041</td>\n      <td>NaT</td>\n    </tr>\n    <tr>\n      <th>2013-02-28</th>\n      <td>104391.42612</td>\n      <td>0.036337</td>\n      <td>NaT</td>\n    </tr>\n    <tr>\n      <th>2013-03-01</th>\n      <td>103949.42612</td>\n      <td>0.040417</td>\n      <td>533 days</td>\n    </tr>\n  </tbody>\n</table>\n<p>2148 rows × 3 columns</p>\n</div>"
     },
     "execution_count": 36,
     "metadata": {},
     "output_type": "execute_result"
    }
   ],
   "source": [
    "stats['_equity_curve']  # Contains equity/drawdown curves. DrawdownDuration is only defined at ends of DD periods."
   ]
  },
  {
   "cell_type": "code",
   "execution_count": 37,
   "metadata": {},
   "outputs": [
    {
     "data": {
      "text/plain": "     Size  EntryBar  ExitBar  EntryPrice  ExitPrice         PnL  ReturnPct  \\\n0      87        20       60   114.64884     185.23  6140.56092   0.615629   \n1     -87        60       69   184.85954     175.80   788.17998   0.049008   \n2      96        69       71   176.15160     180.71   437.60640   0.025878   \n3     -96        71       75   180.34858     179.13   116.98368   0.006757   \n4      97        75       82   179.48826     177.99  -145.33122  -0.008347   \n..    ...       ...      ...         ...        ...         ...        ...   \n148   139      2085     2111   689.15556     735.54  6447.43716   0.067306   \n149  -139      2111     2113   734.06892     742.83 -1217.79012  -0.011935   \n150   136      2113     2121   744.31566     735.99 -1132.28976  -0.011186   \n151  -136      2121     2127   734.51802     750.51 -2174.90928  -0.021772   \n152   130      2127     2147   752.01102     797.80  5952.56740   0.060889   \n\n     EntryTime   ExitTime Duration  \n0   2004-09-17 2004-11-12  56 days  \n1   2004-11-12 2004-11-26  14 days  \n2   2004-11-26 2004-11-30   4 days  \n3   2004-11-30 2004-12-06   6 days  \n4   2004-12-06 2004-12-15   9 days  \n..         ...        ...      ...  \n148 2012-11-29 2013-01-08  40 days  \n149 2013-01-08 2013-01-10   2 days  \n150 2013-01-10 2013-01-23  13 days  \n151 2013-01-23 2013-01-31   8 days  \n152 2013-01-31 2013-03-01  29 days  \n\n[153 rows x 10 columns]",
      "text/html": "<div>\n<style scoped>\n    .dataframe tbody tr th:only-of-type {\n        vertical-align: middle;\n    }\n\n    .dataframe tbody tr th {\n        vertical-align: top;\n    }\n\n    .dataframe thead th {\n        text-align: right;\n    }\n</style>\n<table border=\"1\" class=\"dataframe\">\n  <thead>\n    <tr style=\"text-align: right;\">\n      <th></th>\n      <th>Size</th>\n      <th>EntryBar</th>\n      <th>ExitBar</th>\n      <th>EntryPrice</th>\n      <th>ExitPrice</th>\n      <th>PnL</th>\n      <th>ReturnPct</th>\n      <th>EntryTime</th>\n      <th>ExitTime</th>\n      <th>Duration</th>\n    </tr>\n  </thead>\n  <tbody>\n    <tr>\n      <th>0</th>\n      <td>87</td>\n      <td>20</td>\n      <td>60</td>\n      <td>114.64884</td>\n      <td>185.23</td>\n      <td>6140.56092</td>\n      <td>0.615629</td>\n      <td>2004-09-17</td>\n      <td>2004-11-12</td>\n      <td>56 days</td>\n    </tr>\n    <tr>\n      <th>1</th>\n      <td>-87</td>\n      <td>60</td>\n      <td>69</td>\n      <td>184.85954</td>\n      <td>175.80</td>\n      <td>788.17998</td>\n      <td>0.049008</td>\n      <td>2004-11-12</td>\n      <td>2004-11-26</td>\n      <td>14 days</td>\n    </tr>\n    <tr>\n      <th>2</th>\n      <td>96</td>\n      <td>69</td>\n      <td>71</td>\n      <td>176.15160</td>\n      <td>180.71</td>\n      <td>437.60640</td>\n      <td>0.025878</td>\n      <td>2004-11-26</td>\n      <td>2004-11-30</td>\n      <td>4 days</td>\n    </tr>\n    <tr>\n      <th>3</th>\n      <td>-96</td>\n      <td>71</td>\n      <td>75</td>\n      <td>180.34858</td>\n      <td>179.13</td>\n      <td>116.98368</td>\n      <td>0.006757</td>\n      <td>2004-11-30</td>\n      <td>2004-12-06</td>\n      <td>6 days</td>\n    </tr>\n    <tr>\n      <th>4</th>\n      <td>97</td>\n      <td>75</td>\n      <td>82</td>\n      <td>179.48826</td>\n      <td>177.99</td>\n      <td>-145.33122</td>\n      <td>-0.008347</td>\n      <td>2004-12-06</td>\n      <td>2004-12-15</td>\n      <td>9 days</td>\n    </tr>\n    <tr>\n      <th>...</th>\n      <td>...</td>\n      <td>...</td>\n      <td>...</td>\n      <td>...</td>\n      <td>...</td>\n      <td>...</td>\n      <td>...</td>\n      <td>...</td>\n      <td>...</td>\n      <td>...</td>\n    </tr>\n    <tr>\n      <th>148</th>\n      <td>139</td>\n      <td>2085</td>\n      <td>2111</td>\n      <td>689.15556</td>\n      <td>735.54</td>\n      <td>6447.43716</td>\n      <td>0.067306</td>\n      <td>2012-11-29</td>\n      <td>2013-01-08</td>\n      <td>40 days</td>\n    </tr>\n    <tr>\n      <th>149</th>\n      <td>-139</td>\n      <td>2111</td>\n      <td>2113</td>\n      <td>734.06892</td>\n      <td>742.83</td>\n      <td>-1217.79012</td>\n      <td>-0.011935</td>\n      <td>2013-01-08</td>\n      <td>2013-01-10</td>\n      <td>2 days</td>\n    </tr>\n    <tr>\n      <th>150</th>\n      <td>136</td>\n      <td>2113</td>\n      <td>2121</td>\n      <td>744.31566</td>\n      <td>735.99</td>\n      <td>-1132.28976</td>\n      <td>-0.011186</td>\n      <td>2013-01-10</td>\n      <td>2013-01-23</td>\n      <td>13 days</td>\n    </tr>\n    <tr>\n      <th>151</th>\n      <td>-136</td>\n      <td>2121</td>\n      <td>2127</td>\n      <td>734.51802</td>\n      <td>750.51</td>\n      <td>-2174.90928</td>\n      <td>-0.021772</td>\n      <td>2013-01-23</td>\n      <td>2013-01-31</td>\n      <td>8 days</td>\n    </tr>\n    <tr>\n      <th>152</th>\n      <td>130</td>\n      <td>2127</td>\n      <td>2147</td>\n      <td>752.01102</td>\n      <td>797.80</td>\n      <td>5952.56740</td>\n      <td>0.060889</td>\n      <td>2013-01-31</td>\n      <td>2013-03-01</td>\n      <td>29 days</td>\n    </tr>\n  </tbody>\n</table>\n<p>153 rows × 10 columns</p>\n</div>"
     },
     "execution_count": 37,
     "metadata": {},
     "output_type": "execute_result"
    }
   ],
   "source": [
    "stats['_trades']  # Contains individual trade data"
   ]
  },
  {
   "cell_type": "markdown",
   "metadata": {},
   "source": [
    "Learn more by exploring further\n",
    "[examples](https://kernc.github.io/backtesting.py/doc/backtesting/index.html#tutorials)\n",
    "or find more framework options in the\n",
    "[full API reference](https://kernc.github.io/backtesting.py/doc/backtesting/index.html#header-submodules).\n",
    "通过探索更多示例了解更多信息，或在完整的 API 参考中找到更多框架选项。"
   ]
  }
 ],
 "metadata": {
  "jupytext": {
   "text_representation": {
    "format_version": "1.1"
   }
  },
  "kernelspec": {
   "name": "python3",
   "language": "python",
   "display_name": "Python 3 (ipykernel)"
  },
  "language_info": {
   "codemirror_mode": {
    "name": "ipython",
    "version": 3
   },
   "file_extension": ".py",
   "mimetype": "text/x-python",
   "name": "python",
   "nbconvert_exporter": "python",
   "pygments_lexer": "ipython3",
   "version": "3.9.7"
  },
  "toc": {
   "base_numbering": 1,
   "nav_menu": {},
   "number_sections": true,
   "sideBar": true,
   "skip_h1_title": false,
   "title_cell": "Table of Contents",
   "title_sidebar": "Contents",
   "toc_cell": false,
   "toc_position": {},
   "toc_section_display": true,
   "toc_window_display": false
  }
 },
 "nbformat": 4,
 "nbformat_minor": 2
}