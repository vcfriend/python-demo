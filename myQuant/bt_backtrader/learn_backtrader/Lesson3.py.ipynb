{
 "cells": [
  {
   "cell_type": "code",
   "execution_count": null,
   "metadata": {
    "collapsed": true
   },
   "outputs": [],
   "source": []
  },
  {
   "cell_type": "code",
   "execution_count": null,
   "outputs": [],
   "source": [
    "# Lesson3：Backtrader来啦：指标篇\n",
    "# link: https://mp.weixin.qq.com/s/rFaU96l4mYzC0Kaua9jRJA\n",
    "\n",
    "# 官方文档：https://www.backtrader.com/docu/indautoref/\n",
    "\"\"\"\n",
    "在编写策略时，除了常规的高开低收成交量等行情数据外，还会用到各式各样的指标（变量），\n",
    "比如宏观经济指标、基本面分析指标、技术分析指标、另类数据等等。Backtrader 大致有 2 种获取指标的方式：\n",
    "\n",
    "1、直接通过 DataFeeds 模块导入已经计算好的指标，比如《数据篇》中的导入新增指标 PE、PB；\n",
    "2、在编写策略时调用 Indicators 指标模块临时计算指标，比如 5 日均线、布林带等 。\n",
    "\"\"\"\n"
   ],
   "metadata": {
    "collapsed": false,
    "pycharm": {
     "name": "#%%\n"
    }
   }
  },
  {
   "cell_type": "code",
   "execution_count": null,
   "outputs": [],
   "source": [
    "import backtrader as bt\n",
    "import backtrader.indicators as btind  # 导入策略分析模块\n",
    "import pandas as pd\n",
    "import datetime\n",
    "\n",
    "import tushare as ts\n",
    "import json\n",
    "\n",
    "with open(r'Data/tushare_token.json', 'r') as load_json:\n",
    "    token_json = json.load(load_json)\n",
    "token = token_json['token']\n",
    "ts.set_token(token)\n",
    "pro = ts.pro_api(token)"
   ],
   "metadata": {
    "collapsed": false,
    "pycharm": {
     "name": "#%%\n"
    }
   }
  },
  {
   "cell_type": "code",
   "execution_count": null,
   "outputs": [],
   "source": [
    "# 使用Tushare获取数据，要严格保持OHLC的格式\n",
    "\n",
    "def get_data_bytushare(code, start_date, end_date):\n",
    "    df = ts.pro_bar(ts_code=code, adj='qfq', start_date=start_date, end_date=end_date)\n",
    "    df = df[['trade_date', 'open', 'high', 'low', 'close', 'vol']]\n",
    "    df.columns = ['trade_date', 'open', 'high', 'low', 'close', 'volume']\n",
    "    df.trade_date = pd.to_datetime(df.trade_date)\n",
    "    df.index = df.trade_date\n",
    "    df.sort_index(inplace=True)\n",
    "    df.fillna(0.0, inplace=True)\n",
    "    return df\n",
    "\n",
    "\n",
    "# 恒瑞医药\n",
    "data1 = get_data_bytushare('600276.SH', '20200101', '20211015')\n",
    "# 贵州茅台\n",
    "data2 = get_data_bytushare('600519.SH', '20200101', '20211015')"
   ],
   "metadata": {
    "collapsed": false,
    "pycharm": {
     "name": "#%%\n"
    }
   }
  },
  {
   "cell_type": "code",
   "execution_count": null,
   "outputs": [],
   "source": [
    "\n",
    "# 第1节 建议在 __init__() 中提前计算指标\n",
    "'''\n",
    "Strategy 中的 __init__() 函数在回测过程中只会在最开始的时候调用一次，而 next() 会每个交易日依次循环调用多次，\n",
    "所以为了提高回测效率，建议先在 __init__() 中一次性计算好指标（甚至是交易信号），然后在 next() 中调用已经算好的指标，\n",
    "这样能有效避免指标的重复计算，提高回测运行速度。\n",
    "\n",
    "建议遵循“__init__() 负责指标计算，next() 负责指标调用”的原则。\n",
    "'''\n",
    "\n",
    "\n",
    "class MyStrategy(bt.Strategy):\n",
    "    # 先在 __init__ 中提前算好指标\n",
    "    def __init__(self):\n",
    "        self.sma1 = btind.SimpleMovingAverage(self.data)\n",
    "        self.ema1 = btind.ExponentialMovingAverage()\n",
    "        self.close_over_sma = self.data.close > self.sma1\n",
    "        self.close_over_ema = self.data.close > self.ema1\n",
    "        self.sma_ema_diff = self.sma1 - self.ema1\n",
    "        # 生成交易信号\n",
    "        self.buy_sig = bt.And(self.close_over_sma, self.close_over_ema, self.sma_ema_diff > 0)\n",
    "\n",
    "    # 在 next 中直接调用计算好的指标\n",
    "    def next(self):\n",
    "        if self.buy_sig:\n",
    "            self.buy()\n"
   ],
   "metadata": {
    "collapsed": false,
    "pycharm": {
     "name": "#%%\n"
    }
   }
  },
  {
   "cell_type": "code",
   "execution_count": null,
   "outputs": [],
   "source": [
    "# 第2节 计算指标时的各种简写形式\n",
    "# 默认：对 close 进行计算\n",
    "'''\n",
    "调用指标时会涉及 line 的索引和切片操作，为了使操作更加简便，在 next() 中调用当前时刻指标值时，\n",
    "可以省略索引 [0] ：即在 next() 中，\n",
    "self.sma5[0] ↔ self.sma5、self.data.close[0] ↔ self.data.close 等都是等价的，\n",
    "省略了 [0] 的简写形式 self.sma5 、 self.data.close 等都默认指向当前值，自动索引当前值。\n",
    "'''\n",
    "\n",
    "\n",
    "class TestStrategy(bt.Strategy):\n",
    "    def __init__(self):\n",
    "        # 指标函数也支持简写 SimpleMovingAverage → SMA\n",
    "        # 最简方式：直接省略指向的数据集\n",
    "        self.sma1 = btind.SimpleMovingAverage(period=5)\n",
    "        # 只指定第一个数据表格\n",
    "        self.sma2 = btind.SMA(self.data, period=5)\n",
    "        # 指定第一个数据表格的 close 线\n",
    "        self.sma3 = btind.SMA(self.data.close, period=5)\n",
    "        # 完整写法\n",
    "        self.sma4 = btind.SMA(self.datas[0].lines[0], period=5)\n",
    "\n",
    "    def next(self):\n",
    "        # 提取当前时间点\n",
    "        print('datetime', self.datas[0].datetime.date(0))\n",
    "        # 打印当日、昨日、前日的均线\n",
    "        print('sma1', self.sma1.get(ago=0, size=3))\n",
    "        print('sma2', self.sma2.get(ago=0, size=3))\n",
    "        print('sma3', self.sma3.get(ago=0, size=3))\n",
    "        print('sma4', self.sma4.get(ago=0, size=3))\n",
    "\n",
    "\n",
    "cerebro = bt.Cerebro()\n",
    "st_date = datetime.datetime(2020, 1, 1)\n",
    "end_date = datetime.datetime(2021, 10, 12)\n",
    "datafeed1 = bt.feeds.PandasData(dataname=data1, fromdate=st_date, todate=end_date)\n",
    "cerebro.adddata(datafeed1, name='600276.SH')\n",
    "datafeed2 = bt.feeds.PandasData(dataname=data2, fromdate=st_date, todate=end_date)\n",
    "cerebro.adddata(datafeed2, name='600519.SH')\n",
    "\n",
    "cerebro.addstrategy(TestStrategy)\n",
    "result = cerebro.run()\n"
   ],
   "metadata": {
    "collapsed": false,
    "pycharm": {
     "name": "#%%\n"
    }
   }
  },
  {
   "cell_type": "code",
   "execution_count": null,
   "outputs": [],
   "source": [
    "# 第3节 好用的运算函数\n",
    "'''\n",
    "在计算指标或编写策略逻辑时，离不开算术运算、关系运算、逻辑运算、条件运算......，\n",
    "为了更好的适用于Backtrader 框架的语法规则，Backtrader 的开发者还对一些常用的运算符做了优化和改进，\n",
    "使用起来更简便高效：And、Or、If、All、Any、Max、Min、Sum、Cmp...\n",
    "\n",
    "在next()中返回的结果依然是line，可以通过[num]调用各个时间节点的数值\n",
    "'''\n",
    "\n",
    "\n",
    "class TestStrategy(bt.Strategy):\n",
    "\n",
    "    def __init__(self):\n",
    "        self.sma5 = btind.SimpleMovingAverage(period=5)  # 5日均线\n",
    "        self.sma10 = btind.SimpleMovingAverage(period=10)  # 10日均线\n",
    "        # bt.And 中所有条件都满足时返回 1；有一个条件不满足就返回 0\n",
    "        self.And = bt.And(self.data > self.sma5, self.data > self.sma10, self.sma5 > self.sma10)\n",
    "        # bt.Or 中有一个条件满足时就返回 1；所有条件都不满足时返回 0\n",
    "        self.Or = bt.Or(self.data > self.sma5, self.data > self.sma10, self.sma5 > self.sma10)\n",
    "        # bt.If(a, b, c) 如果满足条件 a，就返回 b，否则返回 c\n",
    "        self.If = bt.If(self.data > self.sma5, 1000, 5000)\n",
    "        # bt.All,同 bt.And\n",
    "        self.All = bt.All(self.data > self.sma5, self.data > self.sma10, self.sma5 > self.sma10)\n",
    "        # bt.Any，同 bt.Or\n",
    "        self.Any = bt.Any(self.data > self.sma5, self.data > self.sma10, self.sma5 > self.sma10)\n",
    "        # bt.Max，返回同一时刻所有指标中的最大值\n",
    "        self.Max = bt.Max(self.data, self.sma10, self.sma5)\n",
    "        # bt.Min，返回同一时刻所有指标中的最小值\n",
    "        self.Min = bt.Min(self.data, self.sma10, self.sma5)\n",
    "        # bt.Sum，对同一时刻所有指标进行求和\n",
    "        self.Sum = bt.Sum(self.data, self.sma10, self.sma5)\n",
    "        # bt.Cmp(a,b), 如果 a>b ，返回 1；否则返回 -1\n",
    "        self.Cmp = bt.Cmp(self.data, self.sma5)\n",
    "\n",
    "    def next(self):\n",
    "        print('---------- datetime', self.data.datetime.date(0), '------------------')\n",
    "        print('close:', self.data[0], 'ma5:', self.sma5[0], 'ma10:', self.sma10[0])\n",
    "        print('close>ma5', self.data > self.sma5, 'close>ma10', self.data > self.sma10, 'ma5>ma10',\n",
    "              self.sma5 > self.sma10)\n",
    "        print('self.And', self.And[0], self.data > self.sma5 and self.data > self.sma10 and self.sma5 > self.sma10)\n",
    "        print('self.Or', self.Or[0], self.data > self.sma5 or self.data > self.sma10 or self.sma5 > self.sma10)\n",
    "        print('self.If', self.If[0], 1000 if self.data > self.sma5 else 5000)\n",
    "        print('self.All', self.All[0], self.data > self.sma5 and self.data > self.sma10 and self.sma5 > self.sma10)\n",
    "        print('self.Any', self.Any[0], self.data > self.sma5 or self.data > self.sma10 or self.sma5 > self.sma10)\n",
    "        print('self.Max', self.Max[0], max([self.data[0], self.sma10[0], self.sma5[0]]))\n",
    "        print('self.Min', self.Min[0], min([self.data[0], self.sma10[0], self.sma5[0]]))\n",
    "        print('self.Sum', self.Sum[0], sum([self.data[0], self.sma10[0], self.sma5[0]]))\n",
    "        print('self.Cmp', self.Cmp[0], 1 if self.data > self.sma5 else -1)\n",
    "\n",
    "\n",
    "cerebro = bt.Cerebro()\n",
    "st_date = datetime.datetime(2020, 1, 1)\n",
    "ed_date = datetime.datetime(2021, 10, 15)\n",
    "datafeed1 = bt.feeds.PandasData(dataname=data1, fromdate=st_date, todate=ed_date)\n",
    "cerebro.adddata(datafeed1, name='600466.SH')\n",
    "cerebro.addstrategy(TestStrategy)\n",
    "result = cerebro.run()\n"
   ],
   "metadata": {
    "collapsed": false,
    "pycharm": {
     "name": "#%%\n"
    }
   }
  },
  {
   "cell_type": "code",
   "execution_count": null,
   "outputs": [],
   "source": [
    "# 第4节 如何对齐不同周期的指标\n",
    "'''\n",
    "通常情况下，操作的都是相同周期的数据，比如日度行情数据计算返回各类日度指标、周度行情数据计算返回各类周度指标、......，\n",
    "行情数据和指标的周期是一致的，时间也是对齐的。但有时候也会遇到操作不同周期数据的情况，比如拿日度行情与月度指标作比较，\n",
    "日度行情每天都有数据，而月度指标每个月只有一个，2 条数据在时间上是没有对齐的。\n",
    "\n",
    "可以使用“ ( ) ”语法操作来对齐不同周期的数据，对齐的方向是“大周期向小周期对齐”，\n",
    "可以选择指标对象中的某条 line 进行对齐，也可以对整个指标对象进行对齐。\n",
    "\n",
    "“ ( ) ”语法类似于线的切片操作 get (ago=-1, size=1)，然后在更细的时间点上始终取当前最新的指标值。\n",
    "比如对于月度指标，向日度对齐时，月中的那些时间点的数据取得是当前最新的数据（即：月初的指标值），\n",
    "直到下个月月初新的指标值计算出来为止\n",
    "\n",
    "在使用该语法时，要将 cerebro.run() 中的 runonce 设置为 False，才能实现对齐操作。\n",
    "'''\n",
    "\n",
    "\n",
    "# 注：在 Backtrader 中，当前月计算的月度指标是存给下个月第一个交易日的，\n",
    "# 比如月度数据 2019-02-01 的指标值，就是用 1 月份数据计算出来的指标值；\n",
    "# 2019-03-01 的指标值对应的是 2 月份数据计算出来的指标值等。\n",
    "\n",
    "class TestStrategy(bt.Strategy):\n",
    "\n",
    "    def __init__(self):\n",
    "        # self.data0 是日度行情、self.data1 是月度行情\n",
    "        # 计算返回的 self.month 指标也是月度的\n",
    "        self.month = btind.xxx(self.data1)\n",
    "        # 选择指标对象中的第一条 line 进行对齐\n",
    "        self.sellsignal = self.data0.close < self.month.lines[0]()\n",
    "        # 对齐整个指标对象\n",
    "        self.month_ = self.month()\n",
    "        self.signal = self.data0.close < self.month_.lines[0]\n",
    "\n",
    "\n",
    "cerebro.run(runonce=False)\n"
   ],
   "metadata": {
    "collapsed": false,
    "pycharm": {
     "name": "#%%\n"
    }
   }
  },
  {
   "cell_type": "code",
   "execution_count": null,
   "outputs": [],
   "source": [
    "# 第5节 在 Backtrader 中调用 TA-Lib 库\n",
    "'''\n",
    "为了满足大家的使用习惯，Backtrader 还接入了 TA-Lib 技术指标库，\n",
    "具体信息可以查阅官方 document ：https://www.backtrader.com/docu/talibindautoref/\n",
    "文档中同样对各个函数的输入、输出，以及在 Backtrader 中特有的绘图参数、返回的 lines 属性等信息都做了介绍和说明。\n",
    "TA-Lib 指标函数的调用形式为 bt.talib.xxx\n",
    "'''\n",
    "\n",
    "\n",
    "class TALibStrategy(bt.Strategy):\n",
    "    def __init__(self):\n",
    "        # 计算 5 日均线\n",
    "        bt.talib.SMA(self.data.close, timeperiod=5)\n",
    "        bt.indicators.SMA(self.data, period=5)\n",
    "        # 计算布林带\n",
    "        bt.talib.BBANDS(self.data, timeperiod=25)\n",
    "        bt.indicators.BollingerBands(self.data, period=25)\n"
   ],
   "metadata": {
    "collapsed": false,
    "pycharm": {
     "name": "#%%\n"
    }
   }
  },
  {
   "cell_type": "code",
   "execution_count": null,
   "outputs": [],
   "source": [
    "# 第6节 自定义新指标\n",
    "'''\n",
    "在 Backtrader 中，如果涉及到自定义操作，一般都是通过继承原始的父类，然后在新的子类里自定义属性，\n",
    "比如之前介绍的自定义数据读取函数 class My_CSVData (bt.feeds.GenericCSVData)，就是继承了原始GenericCSVData 类，\n",
    "自定义新指标也类似，需要继承原始的 bt.Indicator 类，然后在新的子类里构建指标。\n",
    "'''\n",
    "\n",
    "\n",
    "class MyInd(bt.Indicator):\n",
    "    # 定义指标函数返回的 lines 名称，方便后面通过名称调用具体的指标，如 self.lines.xxx、self.l.xxx、self.xxx\n",
    "    lines = (xxx, xxx,)  # 最后一个 “,” 别省略\n",
    "    # 定义参数 params，方便在子类里全局调用，也方便在使用指标函数时修改参数取值；\n",
    "    params = ((xxx, n),)  # 最后一个 “,” 别省略\n",
    "\n",
    "    # __init__() 方法：同策略 Strategy 里的 __init__() 类似，对整条 line 进行运算，运算结果也以整条 line 的形式返回；\n",
    "    def __init__(self):\n",
    "        '''可选'''\n",
    "        pass\n",
    "\n",
    "    # next() 方法：同策略 Strategy 里的 next() 类似，每个 bar 都会运行一次，在 next() 中是对数据点进行运算；\n",
    "    def next(self):\n",
    "        '''可选'''\n",
    "        pass\n",
    "\n",
    "    # once() 方法：这个方法只运行一次，但是需要从头到尾循环计算指标；\n",
    "    def once(self):\n",
    "        '''可选'''\n",
    "        pass\n",
    "\n",
    "    # 指标绘图相关属性的设置：例如：plotinfo = dict() 通过字典形式修改绘图参数；plotlines = dict() 设置曲线样式等...\n",
    "    plotinfo = dict(...)\n",
    "    plotlines = dict(...)\n"
   ],
   "metadata": {
    "collapsed": false,
    "pycharm": {
     "name": "#%%\n"
    }
   }
  },
  {
   "cell_type": "code",
   "execution_count": null,
   "outputs": [],
   "source": [
    "# 第6.1节 自定义新指标：举例\n",
    "\n",
    "'重要提示：自定义指标时，建议首选 __init__()，因为 __init__() 最智能，能自动实现 next() 和 once() 的功能，计算指标一气呵成'\n",
    "\n",
    "\n",
    "class DummyInd(bt.Indicator):\n",
    "    # 将计算的指标命名为 'dummyline'，后面调用这根 line 的方式有：\n",
    "    # self.lines.dummyline 、 self.l.dummyline 、 self.dummyline\n",
    "    lines = ('dummyline',)\n",
    "    # 定义参数，后面调用这个参数的方式有：\n",
    "    # self.params.xxx 、 self.p.xxx\n",
    "    params = (('value', 5),)\n",
    "\n",
    "    def __init__(self):\n",
    "        # __init__() 中是对 line 进行运算，最终也以 line 的形式返回，所以运算结果直接赋值给了 self.l.dummyline；\n",
    "        self.l.dummyline = bt.Max(0.0, self.p.value)\n",
    "\n",
    "    def next(self):\n",
    "        # next() 中是对当前时刻的数据点进行运算（用了常规的 max() 函数），返回的运算结果也只是当前时刻的值，所以是将结果赋值给 dummyline 的当前时刻：self.l.dummyline[0]， 然后依次在每个 bar 都运算一次；\n",
    "        self.l.dummyline[0] = max(0.0, self.p.value)\n",
    "\n",
    "    def once(self, start, end):\n",
    "        # once() 也只运行一次，是更为纯粹的 python 运算，少了 Backtrader 味道，不是直接对指标 line 进行操作，而只是单纯的 python 运算和赋值；\n",
    "        dummy_array = self.l.dummyline.array\n",
    "        for i in xrange(start, end):\n",
    "            dummy_array[i] = max(0.0, self.p.value)"
   ],
   "metadata": {
    "collapsed": false,
    "pycharm": {
     "name": "#%%\n"
    }
   }
  },
  {
   "cell_type": "code",
   "execution_count": null,
   "outputs": [],
   "source": [
    "# 第6.2节 自定义新指标：以 MACD 为例\n",
    "\n",
    "class My_MACD(bt.Indicator):\n",
    "    lines = ('macd', 'signal', 'histo')\n",
    "    params = (('period_me1', 12),\n",
    "              ('period_me2', 26),\n",
    "              ('period_signal', 9),)\n",
    "\n",
    "    def __init__(self):\n",
    "        me1 = btind.EMA(self.data, period=self.p.period_me1)\n",
    "        me2 = btind.EMA(self.data, period=self.p.period_me2)\n",
    "        self.l.macd = me1 - me2\n",
    "        self.l.signal = btind.EMA(self.l.macd, period=self.p.period_signal)\n",
    "        self.l.histo = self.l.macd - self.l.signal"
   ],
   "metadata": {
    "collapsed": false,
    "pycharm": {
     "name": "#%%\n"
    }
   }
  }
 ],
 "metadata": {
  "kernelspec": {
   "display_name": "Python 3",
   "language": "python",
   "name": "python3"
  },
  "language_info": {
   "codemirror_mode": {
    "name": "ipython",
    "version": 2
   },
   "file_extension": ".py",
   "mimetype": "text/x-python",
   "name": "python",
   "nbconvert_exporter": "python",
   "pygments_lexer": "ipython2",
   "version": "2.7.6"
  }
 },
 "nbformat": 4,
 "nbformat_minor": 0
}