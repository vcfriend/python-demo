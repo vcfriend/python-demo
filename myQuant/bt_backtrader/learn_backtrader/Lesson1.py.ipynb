{
 "cells": [
  {
   "cell_type": "code",
   "execution_count": null,
   "outputs": [],
   "source": [
    "# Lesson1：Backtrader来啦\n",
    "# link: https://mp.weixin.qq.com/s/7S4AnbUfQy2kCZhuFN1dZw\n"
   ],
   "metadata": {
    "collapsed": false,
    "pycharm": {
     "name": "#%%\n"
    }
   }
  },
  {
   "cell_type": "code",
   "execution_count": null,
   "outputs": [],
   "source": [
    "import backtrader as bt\n",
    "import pandas as pd\n",
    "import datetime\n",
    "\n",
    "\n",
    "daily_price = pd.read_csv(\"Data/daily_price.csv\", parse_dates=['datetime'])  # 行情数据\n",
    "trade_info = pd.read_csv(\"Data/trade_info.csv\", parse_dates=['trade_date'])  # 调仓信息\n",
    "print(daily_price.info())\n",
    "print(trade_info.info())"
   ],
   "metadata": {
    "collapsed": false,
    "pycharm": {
     "name": "#%%\n",
     "is_executing": true
    }
   }
  },
  {
   "cell_type": "code",
   "execution_count": null,
   "outputs": [],
   "source": [
    "stock_code = ['600466.SH', '603228.SH']\n",
    "# 过滤指定股票数据\n",
    "daily_price = daily_price[daily_price['sec_code'].isin(stock_code)]\n",
    "trade_info = trade_info[trade_info['sec_code'].isin(stock_code)]\n",
    "print(daily_price.shape)\n",
    "print(trade_info.shape)"
   ],
   "metadata": {
    "collapsed": false,
    "pycharm": {
     "name": "#%%\n",
     "is_executing": true
    }
   }
  },
  {
   "cell_type": "code",
   "execution_count": 17,
   "outputs": [
    {
     "name": "stdout",
     "output_type": "stream",
     "text": [
      "<class 'pandas.core.frame.DataFrame'>\n",
      "DatetimeIndex: 506 entries, 2019-01-02 to 2021-01-28\n",
      "Data columns (total 6 columns):\n",
      " #   Column        Non-Null Count  Dtype  \n",
      "---  ------        --------------  -----  \n",
      " 0   open          506 non-null    float64\n",
      " 1   high          506 non-null    float64\n",
      " 2   low           506 non-null    float64\n",
      " 3   close         506 non-null    float64\n",
      " 4   volume        506 non-null    int64  \n",
      " 5   openinterest  506 non-null    int64  \n",
      "dtypes: float64(4), int64(2)\n",
      "memory usage: 27.7 KB\n",
      "None\n",
      "600466.SH Done !\n",
      "<class 'pandas.core.frame.DataFrame'>\n",
      "DatetimeIndex: 506 entries, 2019-01-02 to 2021-01-28\n",
      "Data columns (total 6 columns):\n",
      " #   Column        Non-Null Count  Dtype  \n",
      "---  ------        --------------  -----  \n",
      " 0   open          506 non-null    float64\n",
      " 1   high          506 non-null    float64\n",
      " 2   low           506 non-null    float64\n",
      " 3   close         506 non-null    float64\n",
      " 4   volume        506 non-null    int64  \n",
      " 5   openinterest  506 non-null    int64  \n",
      "dtypes: float64(4), int64(2)\n",
      "memory usage: 27.7 KB\n",
      "None\n",
      "603228.SH Done !\n",
      "All stock Done !\n"
     ]
    }
   ],
   "source": [
    "# 按股票代码，依次循环传入数据,并保存指定股票代码到文件\n",
    "stock_code = ['600466.SH', '603228.SH']\n",
    "for code in stock_code:\n",
    "    # 日期对齐\n",
    "    data = pd.DataFrame(daily_price['datetime'].unique(), columns=['datetime'])  # 获取回测区间内所有交易日\n",
    "    df = daily_price.query(f\"sec_code=='{code}'\")[\n",
    "        ['datetime', 'open', 'high', 'low', 'close', 'volume', 'openinterest']]\n",
    "    if df.empty:\n",
    "        print(code + \"不存在\")\n",
    "        continue\n",
    "    data_ = pd.merge(data, df, how='left', on='datetime')\n",
    "    data_ = data_.set_index(\"datetime\")\n",
    "    # print(data_.dtypes, data_.head())\n",
    "    print(data_.info())\n",
    "    # 缺失值处理：日期对齐时会使得有些交易日的数据为空，所以需要对缺失数据进行填充\n",
    "    data_.loc[:, ['open', 'high', 'low', 'close']].dropna(inplace=True)\n",
    "    data_.to_csv(\n",
    "        path_or_buf='./Data/' + code + '-day.csv',\n",
    "        sep=',',  # 分隔符\n",
    "        header=True,  # 导出列标签\n",
    "        date_format='%Y-%m-%d',  # 时期格式化字符串\n",
    "        float_format='%.2f',  # 浮点数格式化字符串\n",
    "    )\n",
    "\n",
    "    print(f\"{code} Done !\")\n",
    "\n",
    "print(\"All stock Done !\")"
   ],
   "metadata": {
    "collapsed": false,
    "pycharm": {
     "name": "#%%\n"
    }
   }
  },
  {
   "cell_type": "code",
   "execution_count": 18,
   "outputs": [
    {
     "name": "stdout",
     "output_type": "stream",
     "text": [
      "600466.SH Done !\n",
      "603228.SH Done !\n",
      "All stock Done !\n"
     ]
    }
   ],
   "source": [
    "# 实例化 cerebro\n",
    "cerebro = bt.Cerebro()\n",
    "\n",
    "# 按股票代码，依次循环传入数据\n",
    "stock_stock = ['600466.SH', '603228.SH']\n",
    "daily_price_u = daily_price['sec_code'].unique()\n",
    "for stock in stock_stock:\n",
    "    # 日期对齐\n",
    "    data = pd.DataFrame(daily_price['datetime'].unique(), columns=['datetime'])  # 获取回测区间内所有交易日\n",
    "    df = daily_price.query(f\"sec_code=='{stock}'\")[\n",
    "        ['datetime', 'open', 'high', 'low', 'close', 'volume', 'openinterest']]\n",
    "    data_ = pd.merge(data, df, how='left', on='datetime')\n",
    "    data_ = data_.set_index(\"datetime\")\n",
    "    # print(data_.dtypes)\n",
    "    # 缺失值处理：日期对齐时会使得有些交易日的数据为空，所以需要对缺失数据进行填充\n",
    "    data_.loc[:, ['volume', 'openinterest']] = data_.loc[:, ['volume', 'openinterest']].fillna(0)\n",
    "    data_.loc[:, ['open', 'high', 'low', 'close']] = data_.loc[:, ['open', 'high', 'low', 'close']].fillna(method='pad')\n",
    "    data_.loc[:, ['open', 'high', 'low', 'close']] = data_.loc[:, ['open', 'high', 'low', 'close']].fillna(0)\n",
    "    # 导入数据\n",
    "    datafeed = bt.feeds.PandasData(dataname=data_, fromdate=datetime.datetime(2019, 1, 2),\n",
    "                                   todate=datetime.datetime(2021, 1, 28))\n",
    "    cerebro.adddata(datafeed, name=stock)  # 通过 name 实现数据集与股票的一一对应\n",
    "    print(f\"{stock} Done !\")\n",
    "\n",
    "print(\"All stock Done !\")\n"
   ],
   "metadata": {
    "collapsed": false,
    "pycharm": {
     "name": "#%%\n"
    }
   }
  },
  {
   "cell_type": "code",
   "execution_count": 19,
   "outputs": [
    {
     "name": "stderr",
     "output_type": "stream",
     "text": [
      "C:\\Users\\yalin\\AppData\\Local\\Temp/ipykernel_15164/1869840904.py:17: FutureWarning: Comparison of Timestamp with datetime.date is deprecated in order to match the standard library behavior.  In a future version these will be considered non-comparable.Use 'ts == pd.Timestamp(date)' or 'ts.date() == date' instead.\n",
      "  if dt in self.trade_dates:\n"
     ]
    },
    {
     "name": "stdout",
     "output_type": "stream",
     "text": [
      "--------------2019-02-28 为调仓日----------\n",
      "long_list ['600466.SH', '603228.SH']\n",
      "sell_stock []\n",
      "-----------买入此次调仓期的股票--------------\n",
      "2019-03-01,BUY EXECUTED, ref:9467，Price: 38.68, Cost: 1564509.19, Comm 469.35, Size: 40445.00, Stock: 600466.SH\n",
      "2019-03-01,BUY EXECUTED, ref:9468，Price: 66.26, Cost: 438933.18, Comm 131.68, Size: 6624.00, Stock: 603228.SH\n",
      "--------------2019-03-29 为调仓日----------\n",
      "long_list ['600466.SH']\n",
      "sell_stock ['603228.SH']\n",
      "-----------对不再持有的股票进行平仓--------------\n",
      "-----------买入此次调仓期的股票--------------\n",
      "2019-04-01,SELL EXECUTED, ref:9469, Price: 68.36, Cost: 438933.18, Comm 135.84, Size: -6624.00, Stock: 603228.SH\n",
      "2019-04-01,SELL EXECUTED, ref:9470, Price: 46.14, Cost: 245052.93, Comm 87.69, Size: -6335.00, Stock: 600466.SH\n",
      "--------------2019-04-30 为调仓日----------\n",
      "long_list ['600466.SH']\n",
      "sell_stock []\n",
      "-----------买入此次调仓期的股票--------------\n",
      "2019-05-06,BUY EXECUTED, ref:9471，Price: 41.27, Cost: 220708.89, Comm 66.21, Size: 5348.00, Stock: 600466.SH\n",
      "--------------2019-05-31 为调仓日----------\n",
      "long_list ['600466.SH']\n",
      "sell_stock []\n",
      "-----------买入此次调仓期的股票--------------\n",
      "2019-06-03,BUY EXECUTED, ref:9472，Price: 37.79, Cost: 78669.20, Comm 23.60, Size: 2082.00, Stock: 600466.SH\n",
      "--------------2019-06-28 为调仓日----------\n",
      "long_list ['600466.SH']\n",
      "sell_stock []\n",
      "-----------买入此次调仓期的股票--------------\n",
      "2019-07-01,SELL EXECUTED, ref:9473, Price: 40.48, Cost: 199957.61, Comm 62.31, Size: -5131.00, Stock: 600466.SH\n",
      "--------------2019-07-31 为调仓日----------\n",
      "long_list ['600466.SH']\n",
      "sell_stock []\n",
      "-----------买入此次调仓期的股票--------------\n",
      "2019-08-01,BUY EXECUTED, ref:9474，Price: 39.20, Cost: 7918.23, Comm 2.38, Size: 202.00, Stock: 600466.SH\n",
      "--------------2019-08-30 为调仓日----------\n",
      "long_list ['600466.SH']\n",
      "sell_stock []\n",
      "-----------买入此次调仓期的股票--------------\n",
      "2019-09-02,SELL EXECUTED, ref:9475, Price: 36.69, Cost: 85581.98, Comm 24.17, Size: -2196.00, Stock: 600466.SH\n",
      "--------------2019-09-30 为调仓日----------\n",
      "long_list ['600466.SH']\n",
      "sell_stock []\n",
      "-----------买入此次调仓期的股票--------------\n",
      "2019-10-08,SELL EXECUTED, ref:9476, Price: 39.13, Cost: 146767.63, Comm 44.21, Size: -3766.00, Stock: 600466.SH\n",
      "--------------- AnnualReturn -----------------\n",
      "OrderedDict([(2019, 0.0032033544423550886), (2020, -0.004917946005052909), (2021, -0.0007669232595765019)])\n",
      "--------------- SharpeRatio -----------------\n",
      "OrderedDict([('sharperatio', -3.2653460931671594)])\n",
      "--------------- DrawDown -----------------\n",
      "AutoOrderedDict([('len', 442), ('drawdown', 0.7665981235537187), ('moneydown', 770592.0837812573), ('max', AutoOrderedDict([('len', 442), ('drawdown', 0.7665981235537187), ('moneydown', 770592.0837812573)]))])\n"
     ]
    }
   ],
   "source": [
    "\n",
    "# 回测策略\n",
    "class TestStrategy(bt.Strategy):\n",
    "    \"\"\"选股策略\"\"\"\n",
    "    params = (('maperiod', 15),\n",
    "              ('printlog', False),)\n",
    "\n",
    "    def __init__(self):\n",
    "        self.buy_stock = trade_info  # 保留调仓列表\n",
    "        # 读取调仓日期，即每月的最后一个交易日，回测时，会在这一天下单，然后在下一个交易日，以开盘价买入\n",
    "        self.trade_dates = pd.to_datetime(self.buy_stock['trade_date'].unique()).tolist()\n",
    "        self.order_list = []  # 记录以往订单，方便调仓日对未完成订单做处理\n",
    "        self.buy_stocks_pre = []  # 记录上一期持仓\n",
    "\n",
    "    def next(self):\n",
    "        dt = self.datas[0].datetime.date(0)  # 获取当前的回测时间点\n",
    "        # 如果是调仓日，则进行调仓操作\n",
    "        if dt in self.trade_dates:\n",
    "            print(\"--------------{} 为调仓日----------\".format(dt))\n",
    "            # 在调仓之前，取消之前所下的没成交也未到期的订单\n",
    "            if len(self.order_list) > 0:\n",
    "                for od in self.order_list:\n",
    "                    self.cancel(od)  # 如果订单未完成，则撤销订单\n",
    "                self.order_list = []  # 重置订单列表\n",
    "            # 提取当前调仓日的持仓列表\n",
    "            buy_stocks_data = self.buy_stock.query(f\"trade_date=='{dt}'\")\n",
    "            long_list = buy_stocks_data['sec_code'].tolist()\n",
    "            print('long_list', long_list)  # 打印持仓列表\n",
    "            # 对现有持仓中，调仓后不再继续持有的股票进行卖出平仓\n",
    "            sell_stock = [i for i in self.buy_stocks_pre if i not in long_list]\n",
    "            print('sell_stock', sell_stock)  # 打印平仓列表\n",
    "            if len(sell_stock) > 0:\n",
    "                print(\"-----------对不再持有的股票进行平仓--------------\")\n",
    "                for _stock in sell_stock:\n",
    "                    _data = self.getdatabyname(_stock)\n",
    "                    if self.getposition(_data).size > 0:\n",
    "                        od = self.close(data=_data)\n",
    "                        self.order_list.append(od)  # 记录卖出订单\n",
    "            # 买入此次调仓的股票：多退少补原则\n",
    "            print(\"-----------买入此次调仓期的股票--------------\")\n",
    "            for _stock in long_list:\n",
    "                w = buy_stocks_data.query(f\"sec_code=='{_stock}'\")['weight'].iloc[0]  # 提取持仓权重\n",
    "                _data = self.getdatabyname(_stock)\n",
    "                order = self.order_target_percent(data=_data, target=w * 0.95)  # 为减少可用资金不足的情况，留 5% 的现金做备用\n",
    "                self.order_list.append(order)\n",
    "\n",
    "            self.buy_stocks_pre = long_list  # 保存此次调仓的股票列表\n",
    "\n",
    "        # 交易记录日志（可省略，默认不输出结果）\n",
    "\n",
    "    def log(self, txt, dt=None, doprint=False):\n",
    "        if self.params.printlog or doprint:\n",
    "            dt = dt or self.datas[0].datetime.date(0)\n",
    "            print(f'{dt.isoformat()},{txt}')\n",
    "\n",
    "    def notify_order(self, order):\n",
    "        # 未被处理的订单\n",
    "        if order.status in [order.Submitted, order.Accepted]:\n",
    "            return\n",
    "        # 已经处理的订单\n",
    "        if order.status in [order.Completed, order.Canceled, order.Margin]:\n",
    "            if order.isbuy():\n",
    "                self.log(\n",
    "                    'BUY EXECUTED, ref:%.0f，Price: %.2f, Cost: %.2f, Comm %.2f, Size: %.2f, Stock: %s' %\n",
    "                    (order.ref,  # 订单编号\n",
    "                     order.executed.price,  # 成交价\n",
    "                     order.executed.value,  # 成交额\n",
    "                     order.executed.comm,  # 佣金\n",
    "                     order.executed.size,  # 成交量\n",
    "                     order.data._name))  # 股票名称\n",
    "            else:  # Sell\n",
    "                self.log('SELL EXECUTED, ref:%.0f, Price: %.2f, Cost: %.2f, Comm %.2f, Size: %.2f, Stock: %s' %\n",
    "                         (order.ref,\n",
    "                          order.executed.price,\n",
    "                          order.executed.value,\n",
    "                          order.executed.comm,\n",
    "                          order.executed.size,\n",
    "                          order.data._name))\n",
    "\n",
    "\n",
    "# 初始资金 100,000,000\n",
    "cerebro.broker.setcash(100000000.0)\n",
    "# 佣金，双边各 0.0003\n",
    "cerebro.broker.setcommission(commission=0.0003)\n",
    "# 滑点：双边各 0.0001\n",
    "cerebro.broker.set_slippage_perc(perc=0.0001)\n",
    "\n",
    "cerebro.addanalyzer(bt.analyzers.TimeReturn, _name='pnl')  # 返回收益率时序数据\n",
    "cerebro.addanalyzer(bt.analyzers.AnnualReturn, _name='_AnnualReturn')  # 年化收益率\n",
    "cerebro.addanalyzer(bt.analyzers.SharpeRatio, _name='_SharpeRatio')  # 夏普比率\n",
    "cerebro.addanalyzer(bt.analyzers.DrawDown, _name='_DrawDown')  # 回撤\n",
    "\n",
    "# 将编写的策略添加给大脑，别忘了 ！\n",
    "cerebro.addstrategy(TestStrategy, printlog=True)\n",
    "\n",
    "# 启动回测\n",
    "result = cerebro.run()\n",
    "# 从返回的 result 中提取回测结果\n",
    "strat = result[0]\n",
    "# 返回日度收益率序列\n",
    "daily_return = pd.Series(strat.analyzers.pnl.get_analysis())\n",
    "# 打印评价指标\n",
    "print(\"--------------- AnnualReturn -----------------\")\n",
    "print(strat.analyzers._AnnualReturn.get_analysis())\n",
    "print(\"--------------- SharpeRatio -----------------\")\n",
    "print(strat.analyzers._SharpeRatio.get_analysis())\n",
    "print(\"--------------- DrawDown -----------------\")\n",
    "print(strat.analyzers._DrawDown.get_analysis())\n",
    "\n"
   ],
   "metadata": {
    "collapsed": false,
    "pycharm": {
     "name": "#%%\n"
    }
   }
  },
  {
   "cell_type": "code",
   "execution_count": null,
   "outputs": [],
   "source": [],
   "metadata": {
    "collapsed": false,
    "pycharm": {
     "name": "#%%\n"
    }
   }
  }
 ],
 "metadata": {
  "kernelspec": {
   "name": "python3",
   "language": "python",
   "display_name": "Python 3 (ipykernel)"
  },
  "language_info": {
   "codemirror_mode": {
    "name": "ipython",
    "version": 2
   },
   "file_extension": ".py",
   "mimetype": "text/x-python",
   "name": "python",
   "nbconvert_exporter": "python",
   "pygments_lexer": "ipython2",
   "version": "2.7.6"
  }
 },
 "nbformat": 4,
 "nbformat_minor": 0
}