{
 "cells": [
  {
   "cell_type": "code",
   "execution_count": null,
   "outputs": [],
   "source": [
    "# Lesson1：Backtrader来啦\n",
    "# link: https://mp.weixin.qq.com/s/7S4AnbUfQy2kCZhuFN1dZw\n"
   ],
   "metadata": {
    "collapsed": false,
    "pycharm": {
     "name": "#%%\n"
    }
   }
  },
  {
   "cell_type": "code",
   "execution_count": null,
   "outputs": [],
   "source": [
    "import backtrader as bt\n",
    "import pandas as pd\n",
    "import datetime\n",
    "\n",
    "# 实例化 cerebro\n",
    "cerebro = bt.Cerebro()\n",
    "\n",
    "daily_price = pd.read_csv(\"Data/daily_price.csv\", parse_dates=['datetime'])\n",
    "trade_info = pd.read_csv(\"Data/trade_info.csv\", parse_dates=['trade_date'])\n"
   ],
   "metadata": {
    "collapsed": false,
    "pycharm": {
     "name": "#%%\n"
    }
   }
  },
  {
   "cell_type": "code",
   "execution_count": null,
   "outputs": [],
   "source": [
    "\n",
    "# 按股票代码，依次循环传入数据\n",
    "for stock in daily_price['sec_code'].unique():\n",
    "    # 日期对齐\n",
    "    data = pd.DataFrame(daily_price['datetime'].unique(), columns=['datetime'])  # 获取回测区间内所有交易日\n",
    "    df = daily_price.query(f\"sec_code=='{stock}'\")[\n",
    "        ['datetime', 'open', 'high', 'low', 'close', 'volume', 'openinterest']]\n",
    "    data_ = pd.merge(data, df, how='left', on='datetime')\n",
    "    data_ = data_.set_index(\"datetime\")\n",
    "    # print(data_.dtypes)\n",
    "    # 缺失值处理：日期对齐时会使得有些交易日的数据为空，所以需要对缺失数据进行填充\n",
    "    data_.loc[:, ['volume', 'openinterest']] = data_.loc[:, ['volume', 'openinterest']].fillna(0)\n",
    "    data_.loc[:, ['open', 'high', 'low', 'close']] = data_.loc[:, ['open', 'high', 'low', 'close']].fillna(method='pad')\n",
    "    data_.loc[:, ['open', 'high', 'low', 'close']] = data_.loc[:, ['open', 'high', 'low', 'close']].fillna(0)\n",
    "    # 导入数据\n",
    "    datafeed = bt.feeds.PandasData(dataname=data_, fromdate=datetime.datetime(2019, 1, 2),\n",
    "                                   todate=datetime.datetime(2021, 1, 28))\n",
    "    cerebro.adddata(datafeed, name=stock)  # 通过 name 实现数据集与股票的一一对应\n",
    "    print(f\"{stock} Done !\")\n",
    "\n",
    "print(\"All stock Done !\")\n"
   ],
   "metadata": {
    "collapsed": false,
    "pycharm": {
     "name": "#%%\n"
    }
   }
  },
  {
   "cell_type": "code",
   "execution_count": null,
   "outputs": [],
   "source": [
    "\n",
    "# 回测策略\n",
    "class TestStrategy(bt.Strategy):\n",
    "    \"\"\"选股策略\"\"\"\n",
    "    params = (('maperiod', 15),\n",
    "              ('printlog', False),)\n",
    "\n",
    "    def __init__(self):\n",
    "        self.buy_stock = trade_info  # 保留调仓列表\n",
    "        # 读取调仓日期，即每月的最后一个交易日，回测时，会在这一天下单，然后在下一个交易日，以开盘价买入\n",
    "        self.trade_dates = pd.to_datetime(self.buy_stock['trade_date'].unique()).tolist()\n",
    "        self.order_list = []  # 记录以往订单，方便调仓日对未完成订单做处理\n",
    "        self.buy_stocks_pre = []  # 记录上一期持仓\n",
    "\n",
    "    def next(self):\n",
    "        dt = self.datas[0].datetime.date(0)  # 获取当前的回测时间点\n",
    "        # 如果是调仓日，则进行调仓操作\n",
    "        if dt in self.trade_dates:\n",
    "            print(\"--------------{} 为调仓日----------\".format(dt))\n",
    "            # 在调仓之前，取消之前所下的没成交也未到期的订单\n",
    "            if len(self.order_list) > 0:\n",
    "                for od in self.order_list:\n",
    "                    self.cancel(od)  # 如果订单未完成，则撤销订单\n",
    "                self.order_list = []  # 重置订单列表\n",
    "            # 提取当前调仓日的持仓列表\n",
    "            buy_stocks_data = self.buy_stock.query(f\"trade_date=='{dt}'\")\n",
    "            long_list = buy_stocks_data['sec_code'].tolist()\n",
    "            print('long_list', long_list)  # 打印持仓列表\n",
    "            # 对现有持仓中，调仓后不再继续持有的股票进行卖出平仓\n",
    "            sell_stock = [i for i in self.buy_stocks_pre if i not in long_list]\n",
    "            print('sell_stock', sell_stock)  # 打印平仓列表\n",
    "            if len(sell_stock) > 0:\n",
    "                print(\"-----------对不再持有的股票进行平仓--------------\")\n",
    "                for stock in sell_stock:\n",
    "                    data = self.getdatabyname(stock)\n",
    "                    if self.getposition(data).size > 0:\n",
    "                        od = self.close(data=data)\n",
    "                        self.order_list.append(od)  # 记录卖出订单\n",
    "            # 买入此次调仓的股票：多退少补原则\n",
    "            print(\"-----------买入此次调仓期的股票--------------\")\n",
    "            for stock in long_list:\n",
    "                w = buy_stocks_data.query(f\"sec_code=='{stock}'\")['weight'].iloc[0]  # 提取持仓权重\n",
    "                data = self.getdatabyname(stock)\n",
    "                order = self.order_target_percent(data=data, target=w * 0.95)  # 为减少可用资金不足的情况，留 5% 的现金做备用\n",
    "                self.order_list.append(order)\n",
    "\n",
    "            self.buy_stocks_pre = long_list  # 保存此次调仓的股票列表\n",
    "\n",
    "        # 交易记录日志（可省略，默认不输出结果）\n",
    "\n",
    "    def log(self, txt, dt=None, doprint=False):\n",
    "        if self.params.printlog or doprint:\n",
    "            dt = dt or self.datas[0].datetime.date(0)\n",
    "            print(f'{dt.isoformat()},{txt}')\n",
    "\n",
    "    def notify_order(self, order):\n",
    "        # 未被处理的订单\n",
    "        if order.status in [order.Submitted, order.Accepted]:\n",
    "            return\n",
    "        # 已经处理的订单\n",
    "        if order.status in [order.Completed, order.Canceled, order.Margin]:\n",
    "            if order.isbuy():\n",
    "                self.log(\n",
    "                    'BUY EXECUTED, ref:%.0f，Price: %.2f, Cost: %.2f, Comm %.2f, Size: %.2f, Stock: %s' %\n",
    "                    (order.ref,  # 订单编号\n",
    "                     order.executed.price,  # 成交价\n",
    "                     order.executed.value,  # 成交额\n",
    "                     order.executed.comm,  # 佣金\n",
    "                     order.executed.size,  # 成交量\n",
    "                     order.data._name))  # 股票名称\n",
    "            else:  # Sell\n",
    "                self.log('SELL EXECUTED, ref:%.0f, Price: %.2f, Cost: %.2f, Comm %.2f, Size: %.2f, Stock: %s' %\n",
    "                         (order.ref,\n",
    "                          order.executed.price,\n",
    "                          order.executed.value,\n",
    "                          order.executed.comm,\n",
    "                          order.executed.size,\n",
    "                          order.data._name))\n",
    "\n",
    "\n",
    "# 初始资金 100,000,000\n",
    "cerebro.broker.setcash(100000000.0)\n",
    "# 佣金，双边各 0.0003\n",
    "cerebro.broker.setcommission(commission=0.0003)\n",
    "# 滑点：双边各 0.0001\n",
    "cerebro.broker.set_slippage_perc(perc=0.005)\n",
    "\n",
    "cerebro.addanalyzer(bt.analyzers.TimeReturn, _name='pnl')  # 返回收益率时序数据\n",
    "cerebro.addanalyzer(bt.analyzers.AnnualReturn, _name='_AnnualReturn')  # 年化收益率\n",
    "cerebro.addanalyzer(bt.analyzers.SharpeRatio, _name='_SharpeRatio')  # 夏普比率\n",
    "cerebro.addanalyzer(bt.analyzers.DrawDown, _name='_DrawDown')  # 回撤\n",
    "\n",
    "# 将编写的策略添加给大脑，别忘了 ！\n",
    "cerebro.addstrategy(TestStrategy, printlog=True)\n",
    "\n",
    "# 启动回测\n",
    "result = cerebro.run()\n",
    "# 从返回的 result 中提取回测结果\n",
    "strat = result[0]\n",
    "# 返回日度收益率序列\n",
    "daily_return = pd.Series(strat.analyzers.pnl.get_analysis())\n",
    "# 打印评价指标\n",
    "print(\"--------------- AnnualReturn -----------------\")\n",
    "print(strat.analyzers._AnnualReturn.get_analysis())\n",
    "print(\"--------------- SharpeRatio -----------------\")\n",
    "print(strat.analyzers._SharpeRatio.get_analysis())\n",
    "print(\"--------------- DrawDown -----------------\")\n",
    "print(strat.analyzers._DrawDown.get_analysis())\n",
    "\n",
    "\n"
   ],
   "metadata": {
    "collapsed": false,
    "pycharm": {
     "name": "#%%\n"
    }
   }
  }
 ],
 "metadata": {
  "kernelspec": {
   "display_name": "Python 3",
   "language": "python",
   "name": "python3"
  },
  "language_info": {
   "codemirror_mode": {
    "name": "ipython",
    "version": 2
   },
   "file_extension": ".py",
   "mimetype": "text/x-python",
   "name": "python",
   "nbconvert_exporter": "python",
   "pygments_lexer": "ipython2",
   "version": "2.7.6"
  }
 },
 "nbformat": 4,
 "nbformat_minor": 0
}