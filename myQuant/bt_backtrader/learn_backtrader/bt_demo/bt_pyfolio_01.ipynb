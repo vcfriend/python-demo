{
 "cells": [
  {
   "cell_type": "code",
   "execution_count": 21,
   "metadata": {
    "collapsed": true,
    "pycharm": {
     "name": "#%%\n"
    }
   },
   "outputs": [
    {
     "name": "stdout",
     "output_type": "stream",
     "text": [
      " Mon 2006-01-02 17:30:00 创建买单2006-01-02 17:30:00\n",
      " Mon 2006-01-02 10:10:00 订单 Canceled/Margin/Rejected\n",
      " Mon 2006-01-02 17:30:00 创建买单2006-01-02 17:30:00\n",
      " Mon 2006-01-02 10:30:00 订单 Canceled/Margin/Rejected\n",
      " Mon 2006-01-02 17:30:00 创建买单2006-01-02 17:30:00\n",
      " Mon 2006-01-02 11:40:00 订单 Canceled/Margin/Rejected\n",
      " Mon 2006-01-02 17:30:00 创建买单2006-01-02 17:30:00\n",
      " Mon 2006-01-02 12:20:00 订单 Canceled/Margin/Rejected\n",
      " Mon 2006-01-02 17:30:00 创建买单2006-01-02 17:30:00\n",
      " Mon 2006-01-02 13:35:00 订单 Canceled/Margin/Rejected\n",
      " Mon 2006-01-02 17:30:00 创建买单2006-01-02 17:30:00\n",
      " Mon 2006-01-02 14:20:00 订单 Canceled/Margin/Rejected\n",
      " Mon 2006-01-02 17:30:00 创建买单2006-01-02 17:30:00\n",
      " Mon 2006-01-02 14:35:00 订单 Canceled/Margin/Rejected\n",
      " Mon 2006-01-02 17:30:00 创建买单2006-01-02 17:30:00\n",
      " Mon 2006-01-02 16:30:00 订单 Canceled/Margin/Rejected\n",
      " Mon 2006-01-02 17:30:00 创建买单2006-01-02 17:30:00\n",
      " Mon 2006-01-02 17:10:00 订单 Canceled/Margin/Rejected\n"
     ]
    },
    {
     "data": {
      "text/plain": "<IPython.core.display.HTML object>",
      "text/html": "<table border=\"1\" class=\"dataframe\">\n  <thead>\n    <tr style=\"text-align: right;\"><th>Start date</th><td colspan=2>2006-01-02</td></tr>\n    <tr style=\"text-align: right;\"><th>End date</th><td colspan=2>2006-01-02</td></tr>\n    <tr style=\"text-align: right;\"><th>Total months</th><td colspan=2>0</td></tr>\n    <tr style=\"text-align: right;\">\n      <th></th>\n      <th>Backtest</th>\n    </tr>\n  </thead>\n  <tbody>\n    <tr>\n      <th>Annual return</th>\n      <td>0.0%</td>\n    </tr>\n    <tr>\n      <th>Cumulative returns</th>\n      <td>0.0%</td>\n    </tr>\n    <tr>\n      <th>Annual volatility</th>\n      <td>nan%</td>\n    </tr>\n    <tr>\n      <th>Sharpe ratio</th>\n      <td>NaN</td>\n    </tr>\n    <tr>\n      <th>Calmar ratio</th>\n      <td>NaN</td>\n    </tr>\n    <tr>\n      <th>Stability</th>\n      <td>NaN</td>\n    </tr>\n    <tr>\n      <th>Max drawdown</th>\n      <td>0.0%</td>\n    </tr>\n    <tr>\n      <th>Omega ratio</th>\n      <td>NaN</td>\n    </tr>\n    <tr>\n      <th>Sortino ratio</th>\n      <td>NaN</td>\n    </tr>\n    <tr>\n      <th>Skew</th>\n      <td>0.00</td>\n    </tr>\n    <tr>\n      <th>Kurtosis</th>\n      <td>-3.00</td>\n    </tr>\n    <tr>\n      <th>Tail ratio</th>\n      <td>NaN</td>\n    </tr>\n    <tr>\n      <th>Daily value at risk</th>\n      <td>nan%</td>\n    </tr>\n  </tbody>\n</table>"
     },
     "metadata": {},
     "output_type": "display_data"
    },
    {
     "ename": "IndexError",
     "evalue": "index -1 is out of bounds for axis 0 with size 0",
     "output_type": "error",
     "traceback": [
      "\u001B[1;31m---------------------------------------------------------------------------\u001B[0m",
      "\u001B[1;31mIndexError\u001B[0m                                Traceback (most recent call last)",
      "Input \u001B[1;32mIn [21]\u001B[0m, in \u001B[0;36m<cell line: 103>\u001B[1;34m()\u001B[0m\n\u001B[0;32m    101\u001B[0m pyfoliozer \u001B[38;5;241m=\u001B[39m strat\u001B[38;5;241m.\u001B[39manalyzers\u001B[38;5;241m.\u001B[39mgetbyname(\u001B[38;5;124m'\u001B[39m\u001B[38;5;124mpyfolio\u001B[39m\u001B[38;5;124m'\u001B[39m)\n\u001B[0;32m    102\u001B[0m returns, positions, transactions, gross_lev \u001B[38;5;241m=\u001B[39m pyfoliozer\u001B[38;5;241m.\u001B[39mget_pf_items()\n\u001B[1;32m--> 103\u001B[0m \u001B[43mpf\u001B[49m\u001B[38;5;241;43m.\u001B[39;49m\u001B[43mcreate_full_tear_sheet\u001B[49m\u001B[43m(\u001B[49m\u001B[43mreturns\u001B[49m\u001B[43m)\u001B[49m\n",
      "File \u001B[1;32mC:\\ProgramData\\Anaconda3\\envs\\py39\\lib\\site-packages\\pyfolio\\tears.py:201\u001B[0m, in \u001B[0;36mcreate_full_tear_sheet\u001B[1;34m(returns, positions, transactions, market_data, benchmark_rets, slippage, live_start_date, sector_mappings, bayesian, round_trips, estimate_intraday, hide_positions, cone_std, bootstrap, unadjusted_returns, style_factor_panel, sectors, caps, shares_held, volumes, percentile, turnover_denom, set_context, factor_returns, factor_loadings, pos_in_dollars, header_rows, factor_partitions)\u001B[0m\n\u001B[0;32m    195\u001B[0m     returns \u001B[38;5;241m=\u001B[39m txn\u001B[38;5;241m.\u001B[39madjust_returns_for_slippage(returns, positions,\n\u001B[0;32m    196\u001B[0m                                               transactions, slippage)\n\u001B[0;32m    198\u001B[0m positions \u001B[38;5;241m=\u001B[39m utils\u001B[38;5;241m.\u001B[39mcheck_intraday(estimate_intraday, returns,\n\u001B[0;32m    199\u001B[0m                                  positions, transactions)\n\u001B[1;32m--> 201\u001B[0m \u001B[43mcreate_returns_tear_sheet\u001B[49m\u001B[43m(\u001B[49m\n\u001B[0;32m    202\u001B[0m \u001B[43m    \u001B[49m\u001B[43mreturns\u001B[49m\u001B[43m,\u001B[49m\n\u001B[0;32m    203\u001B[0m \u001B[43m    \u001B[49m\u001B[43mpositions\u001B[49m\u001B[38;5;241;43m=\u001B[39;49m\u001B[43mpositions\u001B[49m\u001B[43m,\u001B[49m\n\u001B[0;32m    204\u001B[0m \u001B[43m    \u001B[49m\u001B[43mtransactions\u001B[49m\u001B[38;5;241;43m=\u001B[39;49m\u001B[43mtransactions\u001B[49m\u001B[43m,\u001B[49m\n\u001B[0;32m    205\u001B[0m \u001B[43m    \u001B[49m\u001B[43mlive_start_date\u001B[49m\u001B[38;5;241;43m=\u001B[39;49m\u001B[43mlive_start_date\u001B[49m\u001B[43m,\u001B[49m\n\u001B[0;32m    206\u001B[0m \u001B[43m    \u001B[49m\u001B[43mcone_std\u001B[49m\u001B[38;5;241;43m=\u001B[39;49m\u001B[43mcone_std\u001B[49m\u001B[43m,\u001B[49m\n\u001B[0;32m    207\u001B[0m \u001B[43m    \u001B[49m\u001B[43mbenchmark_rets\u001B[49m\u001B[38;5;241;43m=\u001B[39;49m\u001B[43mbenchmark_rets\u001B[49m\u001B[43m,\u001B[49m\n\u001B[0;32m    208\u001B[0m \u001B[43m    \u001B[49m\u001B[43mbootstrap\u001B[49m\u001B[38;5;241;43m=\u001B[39;49m\u001B[43mbootstrap\u001B[49m\u001B[43m,\u001B[49m\n\u001B[0;32m    209\u001B[0m \u001B[43m    \u001B[49m\u001B[43mturnover_denom\u001B[49m\u001B[38;5;241;43m=\u001B[39;49m\u001B[43mturnover_denom\u001B[49m\u001B[43m,\u001B[49m\n\u001B[0;32m    210\u001B[0m \u001B[43m    \u001B[49m\u001B[43mheader_rows\u001B[49m\u001B[38;5;241;43m=\u001B[39;49m\u001B[43mheader_rows\u001B[49m\u001B[43m,\u001B[49m\n\u001B[0;32m    211\u001B[0m \u001B[43m    \u001B[49m\u001B[43mset_context\u001B[49m\u001B[38;5;241;43m=\u001B[39;49m\u001B[43mset_context\u001B[49m\u001B[43m)\u001B[49m\n\u001B[0;32m    213\u001B[0m create_interesting_times_tear_sheet(returns,\n\u001B[0;32m    214\u001B[0m                                     benchmark_rets\u001B[38;5;241m=\u001B[39mbenchmark_rets,\n\u001B[0;32m    215\u001B[0m                                     set_context\u001B[38;5;241m=\u001B[39mset_context)\n\u001B[0;32m    217\u001B[0m \u001B[38;5;28;01mif\u001B[39;00m positions \u001B[38;5;129;01mis\u001B[39;00m \u001B[38;5;129;01mnot\u001B[39;00m \u001B[38;5;28;01mNone\u001B[39;00m:\n",
      "File \u001B[1;32mC:\\ProgramData\\Anaconda3\\envs\\py39\\lib\\site-packages\\pyfolio\\plotting.py:52\u001B[0m, in \u001B[0;36mcustomize.<locals>.call_w_context\u001B[1;34m(*args, **kwargs)\u001B[0m\n\u001B[0;32m     50\u001B[0m \u001B[38;5;28;01mif\u001B[39;00m set_context:\n\u001B[0;32m     51\u001B[0m     \u001B[38;5;28;01mwith\u001B[39;00m plotting_context(), axes_style():\n\u001B[1;32m---> 52\u001B[0m         \u001B[38;5;28;01mreturn\u001B[39;00m func(\u001B[38;5;241m*\u001B[39margs, \u001B[38;5;241m*\u001B[39m\u001B[38;5;241m*\u001B[39mkwargs)\n\u001B[0;32m     53\u001B[0m \u001B[38;5;28;01melse\u001B[39;00m:\n\u001B[0;32m     54\u001B[0m     \u001B[38;5;28;01mreturn\u001B[39;00m func(\u001B[38;5;241m*\u001B[39margs, \u001B[38;5;241m*\u001B[39m\u001B[38;5;241m*\u001B[39mkwargs)\n",
      "File \u001B[1;32mC:\\ProgramData\\Anaconda3\\envs\\py39\\lib\\site-packages\\pyfolio\\tears.py:504\u001B[0m, in \u001B[0;36mcreate_returns_tear_sheet\u001B[1;34m(returns, positions, transactions, live_start_date, cone_std, benchmark_rets, bootstrap, turnover_denom, header_rows, return_fig)\u001B[0m\n\u001B[0;32m    494\u001B[0m     returns \u001B[38;5;241m=\u001B[39m utils\u001B[38;5;241m.\u001B[39mclip_returns_to_benchmark(returns, benchmark_rets)\n\u001B[0;32m    496\u001B[0m plotting\u001B[38;5;241m.\u001B[39mshow_perf_stats(returns, benchmark_rets,\n\u001B[0;32m    497\u001B[0m                          positions\u001B[38;5;241m=\u001B[39mpositions,\n\u001B[0;32m    498\u001B[0m                          transactions\u001B[38;5;241m=\u001B[39mtransactions,\n\u001B[1;32m   (...)\u001B[0m\n\u001B[0;32m    501\u001B[0m                          live_start_date\u001B[38;5;241m=\u001B[39mlive_start_date,\n\u001B[0;32m    502\u001B[0m                          header_rows\u001B[38;5;241m=\u001B[39mheader_rows)\n\u001B[1;32m--> 504\u001B[0m \u001B[43mplotting\u001B[49m\u001B[38;5;241;43m.\u001B[39;49m\u001B[43mshow_worst_drawdown_periods\u001B[49m\u001B[43m(\u001B[49m\u001B[43mreturns\u001B[49m\u001B[43m)\u001B[49m\n\u001B[0;32m    506\u001B[0m vertical_sections \u001B[38;5;241m=\u001B[39m \u001B[38;5;241m11\u001B[39m\n\u001B[0;32m    508\u001B[0m \u001B[38;5;28;01mif\u001B[39;00m live_start_date \u001B[38;5;129;01mis\u001B[39;00m \u001B[38;5;129;01mnot\u001B[39;00m \u001B[38;5;28;01mNone\u001B[39;00m:\n",
      "File \u001B[1;32mC:\\ProgramData\\Anaconda3\\envs\\py39\\lib\\site-packages\\pyfolio\\plotting.py:1664\u001B[0m, in \u001B[0;36mshow_worst_drawdown_periods\u001B[1;34m(returns, top)\u001B[0m\n\u001B[0;32m   1648\u001B[0m \u001B[38;5;28;01mdef\u001B[39;00m \u001B[38;5;21mshow_worst_drawdown_periods\u001B[39m(returns, top\u001B[38;5;241m=\u001B[39m\u001B[38;5;241m5\u001B[39m):\n\u001B[0;32m   1649\u001B[0m     \u001B[38;5;124;03m\"\"\"\u001B[39;00m\n\u001B[0;32m   1650\u001B[0m \u001B[38;5;124;03m    Prints information about the worst drawdown periods.\u001B[39;00m\n\u001B[0;32m   1651\u001B[0m \n\u001B[1;32m   (...)\u001B[0m\n\u001B[0;32m   1661\u001B[0m \u001B[38;5;124;03m        Amount of top drawdowns periods to plot (default 5).\u001B[39;00m\n\u001B[0;32m   1662\u001B[0m \u001B[38;5;124;03m    \"\"\"\u001B[39;00m\n\u001B[1;32m-> 1664\u001B[0m     drawdown_df \u001B[38;5;241m=\u001B[39m \u001B[43mtimeseries\u001B[49m\u001B[38;5;241;43m.\u001B[39;49m\u001B[43mgen_drawdown_table\u001B[49m\u001B[43m(\u001B[49m\u001B[43mreturns\u001B[49m\u001B[43m,\u001B[49m\u001B[43m \u001B[49m\u001B[43mtop\u001B[49m\u001B[38;5;241;43m=\u001B[39;49m\u001B[43mtop\u001B[49m\u001B[43m)\u001B[49m\n\u001B[0;32m   1665\u001B[0m     utils\u001B[38;5;241m.\u001B[39mprint_table(\n\u001B[0;32m   1666\u001B[0m         drawdown_df\u001B[38;5;241m.\u001B[39msort_values(\u001B[38;5;124m'\u001B[39m\u001B[38;5;124mNet drawdown in \u001B[39m\u001B[38;5;124m%\u001B[39m\u001B[38;5;124m'\u001B[39m, ascending\u001B[38;5;241m=\u001B[39m\u001B[38;5;28;01mFalse\u001B[39;00m),\n\u001B[0;32m   1667\u001B[0m         name\u001B[38;5;241m=\u001B[39m\u001B[38;5;124m'\u001B[39m\u001B[38;5;124mWorst drawdown periods\u001B[39m\u001B[38;5;124m'\u001B[39m,\n\u001B[0;32m   1668\u001B[0m         float_format\u001B[38;5;241m=\u001B[39m\u001B[38;5;124m'\u001B[39m\u001B[38;5;132;01m{0:.2f}\u001B[39;00m\u001B[38;5;124m'\u001B[39m\u001B[38;5;241m.\u001B[39mformat,\n\u001B[0;32m   1669\u001B[0m     )\n",
      "File \u001B[1;32mC:\\ProgramData\\Anaconda3\\envs\\py39\\lib\\site-packages\\pyfolio\\timeseries.py:991\u001B[0m, in \u001B[0;36mgen_drawdown_table\u001B[1;34m(returns, top)\u001B[0m\n\u001B[0;32m    973\u001B[0m \u001B[38;5;124;03m\"\"\"\u001B[39;00m\n\u001B[0;32m    974\u001B[0m \u001B[38;5;124;03mPlaces top drawdowns in a table.\u001B[39;00m\n\u001B[0;32m    975\u001B[0m \n\u001B[1;32m   (...)\u001B[0m\n\u001B[0;32m    987\u001B[0m \u001B[38;5;124;03m    Information about top drawdowns.\u001B[39;00m\n\u001B[0;32m    988\u001B[0m \u001B[38;5;124;03m\"\"\"\u001B[39;00m\n\u001B[0;32m    990\u001B[0m df_cum \u001B[38;5;241m=\u001B[39m ep\u001B[38;5;241m.\u001B[39mcum_returns(returns, \u001B[38;5;241m1.0\u001B[39m)\n\u001B[1;32m--> 991\u001B[0m drawdown_periods \u001B[38;5;241m=\u001B[39m \u001B[43mget_top_drawdowns\u001B[49m\u001B[43m(\u001B[49m\u001B[43mreturns\u001B[49m\u001B[43m,\u001B[49m\u001B[43m \u001B[49m\u001B[43mtop\u001B[49m\u001B[38;5;241;43m=\u001B[39;49m\u001B[43mtop\u001B[49m\u001B[43m)\u001B[49m\n\u001B[0;32m    992\u001B[0m df_drawdowns \u001B[38;5;241m=\u001B[39m pd\u001B[38;5;241m.\u001B[39mDataFrame(index\u001B[38;5;241m=\u001B[39m\u001B[38;5;28mlist\u001B[39m(\u001B[38;5;28mrange\u001B[39m(top)),\n\u001B[0;32m    993\u001B[0m                             columns\u001B[38;5;241m=\u001B[39m[\u001B[38;5;124m'\u001B[39m\u001B[38;5;124mNet drawdown in \u001B[39m\u001B[38;5;124m%\u001B[39m\u001B[38;5;124m'\u001B[39m,\n\u001B[0;32m    994\u001B[0m                                      \u001B[38;5;124m'\u001B[39m\u001B[38;5;124mPeak date\u001B[39m\u001B[38;5;124m'\u001B[39m,\n\u001B[0;32m    995\u001B[0m                                      \u001B[38;5;124m'\u001B[39m\u001B[38;5;124mValley date\u001B[39m\u001B[38;5;124m'\u001B[39m,\n\u001B[0;32m    996\u001B[0m                                      \u001B[38;5;124m'\u001B[39m\u001B[38;5;124mRecovery date\u001B[39m\u001B[38;5;124m'\u001B[39m,\n\u001B[0;32m    997\u001B[0m                                      \u001B[38;5;124m'\u001B[39m\u001B[38;5;124mDuration\u001B[39m\u001B[38;5;124m'\u001B[39m])\n\u001B[0;32m    999\u001B[0m \u001B[38;5;28;01mfor\u001B[39;00m i, (peak, valley, recovery) \u001B[38;5;129;01min\u001B[39;00m \u001B[38;5;28menumerate\u001B[39m(drawdown_periods):\n",
      "File \u001B[1;32mC:\\ProgramData\\Anaconda3\\envs\\py39\\lib\\site-packages\\pyfolio\\timeseries.py:956\u001B[0m, in \u001B[0;36mget_top_drawdowns\u001B[1;34m(returns, top)\u001B[0m\n\u001B[0;32m    954\u001B[0m drawdowns \u001B[38;5;241m=\u001B[39m []\n\u001B[0;32m    955\u001B[0m \u001B[38;5;28;01mfor\u001B[39;00m t \u001B[38;5;129;01min\u001B[39;00m \u001B[38;5;28mrange\u001B[39m(top):\n\u001B[1;32m--> 956\u001B[0m     peak, valley, recovery \u001B[38;5;241m=\u001B[39m \u001B[43mget_max_drawdown_underwater\u001B[49m\u001B[43m(\u001B[49m\u001B[43munderwater\u001B[49m\u001B[43m)\u001B[49m\n\u001B[0;32m    957\u001B[0m     \u001B[38;5;66;03m# Slice out draw-down period\u001B[39;00m\n\u001B[0;32m    958\u001B[0m     \u001B[38;5;28;01mif\u001B[39;00m \u001B[38;5;129;01mnot\u001B[39;00m pd\u001B[38;5;241m.\u001B[39misnull(recovery):\n",
      "File \u001B[1;32mC:\\ProgramData\\Anaconda3\\envs\\py39\\lib\\site-packages\\pyfolio\\timeseries.py:895\u001B[0m, in \u001B[0;36mget_max_drawdown_underwater\u001B[1;34m(underwater)\u001B[0m\n\u001B[0;32m    893\u001B[0m valley \u001B[38;5;241m=\u001B[39m np\u001B[38;5;241m.\u001B[39margmin(underwater)  \u001B[38;5;66;03m# end of the period\u001B[39;00m\n\u001B[0;32m    894\u001B[0m \u001B[38;5;66;03m# Find first 0\u001B[39;00m\n\u001B[1;32m--> 895\u001B[0m peak \u001B[38;5;241m=\u001B[39m \u001B[43munderwater\u001B[49m\u001B[43m[\u001B[49m\u001B[43m:\u001B[49m\u001B[43mvalley\u001B[49m\u001B[43m]\u001B[49m\u001B[43m[\u001B[49m\u001B[43munderwater\u001B[49m\u001B[43m[\u001B[49m\u001B[43m:\u001B[49m\u001B[43mvalley\u001B[49m\u001B[43m]\u001B[49m\u001B[43m \u001B[49m\u001B[38;5;241;43m==\u001B[39;49m\u001B[43m \u001B[49m\u001B[38;5;241;43m0\u001B[39;49m\u001B[43m]\u001B[49m\u001B[38;5;241;43m.\u001B[39;49m\u001B[43mindex\u001B[49m\u001B[43m[\u001B[49m\u001B[38;5;241;43m-\u001B[39;49m\u001B[38;5;241;43m1\u001B[39;49m\u001B[43m]\u001B[49m\n\u001B[0;32m    896\u001B[0m \u001B[38;5;66;03m# Find last 0\u001B[39;00m\n\u001B[0;32m    897\u001B[0m \u001B[38;5;28;01mtry\u001B[39;00m:\n",
      "File \u001B[1;32mC:\\ProgramData\\Anaconda3\\envs\\py39\\lib\\site-packages\\pandas\\core\\indexes\\extension.py:279\u001B[0m, in \u001B[0;36mExtensionIndex.__getitem__\u001B[1;34m(self, key)\u001B[0m\n\u001B[0;32m    278\u001B[0m \u001B[38;5;28;01mdef\u001B[39;00m \u001B[38;5;21m__getitem__\u001B[39m(\u001B[38;5;28mself\u001B[39m, key):\n\u001B[1;32m--> 279\u001B[0m     result \u001B[38;5;241m=\u001B[39m \u001B[38;5;28;43mself\u001B[39;49m\u001B[38;5;241;43m.\u001B[39;49m\u001B[43m_data\u001B[49m\u001B[43m[\u001B[49m\u001B[43mkey\u001B[49m\u001B[43m]\u001B[49m\n\u001B[0;32m    280\u001B[0m     \u001B[38;5;28;01mif\u001B[39;00m \u001B[38;5;28misinstance\u001B[39m(result, \u001B[38;5;28mtype\u001B[39m(\u001B[38;5;28mself\u001B[39m\u001B[38;5;241m.\u001B[39m_data)):\n\u001B[0;32m    281\u001B[0m         \u001B[38;5;28;01mif\u001B[39;00m result\u001B[38;5;241m.\u001B[39mndim \u001B[38;5;241m==\u001B[39m \u001B[38;5;241m1\u001B[39m:\n",
      "File \u001B[1;32mC:\\ProgramData\\Anaconda3\\envs\\py39\\lib\\site-packages\\pandas\\core\\arrays\\datetimelike.py:322\u001B[0m, in \u001B[0;36mDatetimeLikeArrayMixin.__getitem__\u001B[1;34m(self, key)\u001B[0m\n\u001B[0;32m    315\u001B[0m \u001B[38;5;28;01mdef\u001B[39;00m \u001B[38;5;21m__getitem__\u001B[39m(\n\u001B[0;32m    316\u001B[0m     \u001B[38;5;28mself\u001B[39m, key: PositionalIndexer2D\n\u001B[0;32m    317\u001B[0m ) \u001B[38;5;241m-\u001B[39m\u001B[38;5;241m>\u001B[39m DatetimeLikeArrayMixin \u001B[38;5;241m|\u001B[39m DTScalarOrNaT:\n\u001B[0;32m    318\u001B[0m     \u001B[38;5;124;03m\"\"\"\u001B[39;00m\n\u001B[0;32m    319\u001B[0m \u001B[38;5;124;03m    This getitem defers to the underlying array, which by-definition can\u001B[39;00m\n\u001B[0;32m    320\u001B[0m \u001B[38;5;124;03m    only handle list-likes, slices, and integer scalars\u001B[39;00m\n\u001B[0;32m    321\u001B[0m \u001B[38;5;124;03m    \"\"\"\u001B[39;00m\n\u001B[1;32m--> 322\u001B[0m     result \u001B[38;5;241m=\u001B[39m \u001B[38;5;28;43msuper\u001B[39;49m\u001B[43m(\u001B[49m\u001B[43m)\u001B[49m\u001B[38;5;241;43m.\u001B[39;49m\u001B[38;5;21;43m__getitem__\u001B[39;49m\u001B[43m(\u001B[49m\u001B[43mkey\u001B[49m\u001B[43m)\u001B[49m\n\u001B[0;32m    323\u001B[0m     \u001B[38;5;28;01mif\u001B[39;00m lib\u001B[38;5;241m.\u001B[39mis_scalar(result):\n\u001B[0;32m    324\u001B[0m         \u001B[38;5;28;01mreturn\u001B[39;00m result\n",
      "File \u001B[1;32mC:\\ProgramData\\Anaconda3\\envs\\py39\\lib\\site-packages\\pandas\\core\\arrays\\_mixins.py:194\u001B[0m, in \u001B[0;36mNDArrayBackedExtensionArray.__getitem__\u001B[1;34m(self, key)\u001B[0m\n\u001B[0;32m    188\u001B[0m \u001B[38;5;28;01mdef\u001B[39;00m \u001B[38;5;21m__getitem__\u001B[39m(\n\u001B[0;32m    189\u001B[0m     \u001B[38;5;28mself\u001B[39m: NDArrayBackedExtensionArrayT,\n\u001B[0;32m    190\u001B[0m     key: PositionalIndexer2D,\n\u001B[0;32m    191\u001B[0m ) \u001B[38;5;241m-\u001B[39m\u001B[38;5;241m>\u001B[39m NDArrayBackedExtensionArrayT \u001B[38;5;241m|\u001B[39m Any:\n\u001B[0;32m    192\u001B[0m     \u001B[38;5;28;01mif\u001B[39;00m lib\u001B[38;5;241m.\u001B[39mis_integer(key):\n\u001B[0;32m    193\u001B[0m         \u001B[38;5;66;03m# fast-path\u001B[39;00m\n\u001B[1;32m--> 194\u001B[0m         result \u001B[38;5;241m=\u001B[39m \u001B[38;5;28;43mself\u001B[39;49m\u001B[38;5;241;43m.\u001B[39;49m\u001B[43m_ndarray\u001B[49m\u001B[43m[\u001B[49m\u001B[43mkey\u001B[49m\u001B[43m]\u001B[49m\n\u001B[0;32m    195\u001B[0m         \u001B[38;5;28;01mif\u001B[39;00m \u001B[38;5;28mself\u001B[39m\u001B[38;5;241m.\u001B[39mndim \u001B[38;5;241m==\u001B[39m \u001B[38;5;241m1\u001B[39m:\n\u001B[0;32m    196\u001B[0m             \u001B[38;5;28;01mreturn\u001B[39;00m \u001B[38;5;28mself\u001B[39m\u001B[38;5;241m.\u001B[39m_box_func(result)\n",
      "\u001B[1;31mIndexError\u001B[0m: index -1 is out of bounds for axis 0 with size 0"
     ]
    }
   ],
   "source": [
    "from datetime import datetime\n",
    "import backtrader as bt\n",
    "# 导入pyfolio 包\n",
    "import pyfolio as pf\n",
    "\n",
    "\n",
    "# 创建策略类\n",
    "class SmaCross(bt.Strategy):\n",
    "    # 定义参数\n",
    "    params = dict(period=5)  # 移动平均期数\n",
    "\n",
    "    # 日志函数\n",
    "    def log(self, txt, dt=None):\n",
    "        '''日志函数'''\n",
    "        dt = dt or self.datas[0].datetime.datetime(0)\n",
    "        t_log= ''\n",
    "        t_log += ' {:s}'.format(dt.strftime('%a %Y-%m-%d %H:%M:%S'))\n",
    "        t_log += ' '+ txt\n",
    "        print(t_log)\n",
    "\n",
    "    def notify_order(self, order):\n",
    "        if order.status in [order.Submitted, order.Accepted]:\n",
    "            # 订单状态 submitted/accepted，无动作\n",
    "            return\n",
    "        # 订单完成\n",
    "        if order.status in [order.Completed]:\n",
    "            if order.isbuy():\n",
    "                self.log('买单执行, %.2f' % order.executed.price)\n",
    "            elif order.issell():\n",
    "                self.log('卖单执行, %.2f' % order.executed.price)\n",
    "        elif order.status in [order.Canceled, order.Margin, order.Rejected]:\n",
    "            self.log('订单 Canceled/Margin/Rejected')\n",
    "\n",
    "    # 记录交易收益情况（可省略，默认不输出结果）\n",
    "    def notify_trade(self, trade):\n",
    "        if trade.isclosed:\n",
    "            print('毛收益 %0.2f, 扣佣后收益 % 0.2f, 佣金 %.2f' %\n",
    "                  (trade.pnl, trade.pnlcomm, trade.commission))\n",
    "\n",
    "    def __init__(self):\n",
    "        self.myenterdate : datetime = None  # 入场时间\n",
    "        self.dtdate = self.data.datetime.datetime(0)\n",
    "        # 移动平均线指标\n",
    "        self.move_average = bt.ind.MovingAverageSimple(\n",
    "            self.data, period=self.params.period)\n",
    "        # 交叉信号指标\n",
    "        self.crossover = bt.ind.CrossOver(self.data, self.move_average)\n",
    "\n",
    "    def next(self):\n",
    "        if not self.position:  # 还没有仓位\n",
    "            # 当日收盘价上穿5日均线，创建买单，买入100股\n",
    "            if self.crossover > 0:\n",
    "                self.myenterdate = self.dtdate\n",
    "                self.log('创建买单{:}'.format(self.myenterdate.strftime('%Y-%m-%d %H:%M:%S')), dt=self.dtdate)\n",
    "                self.buy(size=100)\n",
    "        # 有仓位，并且当日收盘价下破5日均线，创建卖单，卖出100股\n",
    "        elif self.crossover < 0:\n",
    "            self.log('创建卖单')\n",
    "            self.sell(size=100)\n",
    "\n",
    "\n",
    "##########################\n",
    "# 主程序开始\n",
    "#########################\n",
    "\n",
    "# 创建大脑引擎对象\n",
    "cerebro = bt.Cerebro()\n",
    "\n",
    "\n",
    "# 数据文件路径\n",
    "datapath = '../Data/2006-min-005.txt'\n",
    "\n",
    "# 创建行情数据对象，加载数据\n",
    "data = bt.feeds.GenericCSVData(\n",
    "    dataname=datapath,\n",
    "    datetime=0,  # 日期所在列\n",
    "    time=1,  # 时间所在列\n",
    "    open=2,  # 开盘价所在列\n",
    "    high=3,  # 最高价所在列\n",
    "    low=4,  # 最低价所在列\n",
    "    close=5,  # 收盘价价所在列\n",
    "    volume=6,  # 成交量所在列\n",
    "    openinterest=-1,  # 无未平仓量列\n",
    "    dtformat='%Y-%m-%d',  # 日期格式\n",
    "    tmformat='%H:%M:%S',  # 时间格式\n",
    "    timeframe=bt.TimeFrame.Minutes,  # 数据周期压缩周期\n",
    "    compression=5,  # 合成bar的周期数\n",
    "    fromdate=datetime(2006, 1, 2),  # 起始日\n",
    "    todate=datetime(2006, 1, 3))  # 结束日\n",
    "\n",
    "cerebro.adddata(data)  # 将行情数据对象注入引擎\n",
    "cerebro.addstrategy(SmaCross)  # 将策略注入引擎\n",
    "\n",
    "cerebro.broker.setcash(10000.0)  # 设置初始资金\n",
    "\n",
    "# 加入pyfolio分析者\n",
    "cerebro.addanalyzer(bt.analyzers.PyFolio, _name='pyfolio')\n",
    "\n",
    "results=cerebro.run()  # 运行\n",
    "strat = results[0]\n",
    "pyfoliozer = strat.analyzers.getbyname('pyfolio')\n",
    "returns, positions, transactions, gross_lev = pyfoliozer.get_pf_items()\n",
    "pf.create_full_tear_sheet(returns)"
   ]
  },
  {
   "cell_type": "code",
   "execution_count": 15,
   "outputs": [
    {
     "name": "stdout",
     "output_type": "stream",
     "text": [
      "Starting Portfolio Value: 10000.00\n",
      "Final Portfolio Value: 10496.68\n"
     ]
    },
    {
     "name": "stderr",
     "output_type": "stream",
     "text": [
      "C:\\ProgramData\\Anaconda3\\envs\\py39\\lib\\site-packages\\empyrical\\utils.py:440: UserWarning: Yahoo Finance read failed: mktime argument out of range, falling back to Google\n",
      "  warnings.warn(\n"
     ]
    },
    {
     "ename": "AttributeError",
     "evalue": "module 'pandas_datareader.data' has no attribute 'get_data_google'",
     "output_type": "error",
     "traceback": [
      "\u001B[1;31m---------------------------------------------------------------------------\u001B[0m",
      "\u001B[1;31mOverflowError\u001B[0m                             Traceback (most recent call last)",
      "\u001B[1;32mC:\\ProgramData\\Anaconda3\\envs\\py39\\lib\\site-packages\\empyrical\\utils.py\u001B[0m in \u001B[0;36mget_symbol_returns_from_yahoo\u001B[1;34m(symbol, start, end)\u001B[0m\n\u001B[0;32m    434\u001B[0m     \u001B[1;32mtry\u001B[0m\u001B[1;33m:\u001B[0m\u001B[1;33m\u001B[0m\u001B[1;33m\u001B[0m\u001B[0m\n\u001B[1;32m--> 435\u001B[1;33m         \u001B[0mpx\u001B[0m \u001B[1;33m=\u001B[0m \u001B[0mweb\u001B[0m\u001B[1;33m.\u001B[0m\u001B[0mget_data_yahoo\u001B[0m\u001B[1;33m(\u001B[0m\u001B[0msymbol\u001B[0m\u001B[1;33m,\u001B[0m \u001B[0mstart\u001B[0m\u001B[1;33m=\u001B[0m\u001B[0mstart\u001B[0m\u001B[1;33m,\u001B[0m \u001B[0mend\u001B[0m\u001B[1;33m=\u001B[0m\u001B[0mend\u001B[0m\u001B[1;33m)\u001B[0m\u001B[1;33m\u001B[0m\u001B[1;33m\u001B[0m\u001B[0m\n\u001B[0m\u001B[0;32m    436\u001B[0m         \u001B[0mpx\u001B[0m\u001B[1;33m[\u001B[0m\u001B[1;34m'date'\u001B[0m\u001B[1;33m]\u001B[0m \u001B[1;33m=\u001B[0m \u001B[0mpd\u001B[0m\u001B[1;33m.\u001B[0m\u001B[0mto_datetime\u001B[0m\u001B[1;33m(\u001B[0m\u001B[0mpx\u001B[0m\u001B[1;33m[\u001B[0m\u001B[1;34m'date'\u001B[0m\u001B[1;33m]\u001B[0m\u001B[1;33m)\u001B[0m\u001B[1;33m\u001B[0m\u001B[1;33m\u001B[0m\u001B[0m\n",
      "\u001B[1;32mC:\\ProgramData\\Anaconda3\\envs\\py39\\lib\\site-packages\\pandas_datareader\\data.py\u001B[0m in \u001B[0;36mget_data_yahoo\u001B[1;34m(*args, **kwargs)\u001B[0m\n\u001B[0;32m     79\u001B[0m \u001B[1;32mdef\u001B[0m \u001B[0mget_data_yahoo\u001B[0m\u001B[1;33m(\u001B[0m\u001B[1;33m*\u001B[0m\u001B[0margs\u001B[0m\u001B[1;33m,\u001B[0m \u001B[1;33m**\u001B[0m\u001B[0mkwargs\u001B[0m\u001B[1;33m)\u001B[0m\u001B[1;33m:\u001B[0m\u001B[1;33m\u001B[0m\u001B[1;33m\u001B[0m\u001B[0m\n\u001B[1;32m---> 80\u001B[1;33m     \u001B[1;32mreturn\u001B[0m \u001B[0mYahooDailyReader\u001B[0m\u001B[1;33m(\u001B[0m\u001B[1;33m*\u001B[0m\u001B[0margs\u001B[0m\u001B[1;33m,\u001B[0m \u001B[1;33m**\u001B[0m\u001B[0mkwargs\u001B[0m\u001B[1;33m)\u001B[0m\u001B[1;33m.\u001B[0m\u001B[0mread\u001B[0m\u001B[1;33m(\u001B[0m\u001B[1;33m)\u001B[0m\u001B[1;33m\u001B[0m\u001B[1;33m\u001B[0m\u001B[0m\n\u001B[0m\u001B[0;32m     81\u001B[0m \u001B[1;33m\u001B[0m\u001B[0m\n",
      "\u001B[1;32mC:\\ProgramData\\Anaconda3\\envs\\py39\\lib\\site-packages\\pandas_datareader\\base.py\u001B[0m in \u001B[0;36mread\u001B[1;34m(self)\u001B[0m\n\u001B[0;32m    252\u001B[0m         \u001B[1;32mif\u001B[0m \u001B[0misinstance\u001B[0m\u001B[1;33m(\u001B[0m\u001B[0mself\u001B[0m\u001B[1;33m.\u001B[0m\u001B[0msymbols\u001B[0m\u001B[1;33m,\u001B[0m \u001B[1;33m(\u001B[0m\u001B[0mstring_types\u001B[0m\u001B[1;33m,\u001B[0m \u001B[0mint\u001B[0m\u001B[1;33m)\u001B[0m\u001B[1;33m)\u001B[0m\u001B[1;33m:\u001B[0m\u001B[1;33m\u001B[0m\u001B[1;33m\u001B[0m\u001B[0m\n\u001B[1;32m--> 253\u001B[1;33m             \u001B[0mdf\u001B[0m \u001B[1;33m=\u001B[0m \u001B[0mself\u001B[0m\u001B[1;33m.\u001B[0m\u001B[0m_read_one_data\u001B[0m\u001B[1;33m(\u001B[0m\u001B[0mself\u001B[0m\u001B[1;33m.\u001B[0m\u001B[0murl\u001B[0m\u001B[1;33m,\u001B[0m \u001B[0mparams\u001B[0m\u001B[1;33m=\u001B[0m\u001B[0mself\u001B[0m\u001B[1;33m.\u001B[0m\u001B[0m_get_params\u001B[0m\u001B[1;33m(\u001B[0m\u001B[0mself\u001B[0m\u001B[1;33m.\u001B[0m\u001B[0msymbols\u001B[0m\u001B[1;33m)\u001B[0m\u001B[1;33m)\u001B[0m\u001B[1;33m\u001B[0m\u001B[1;33m\u001B[0m\u001B[0m\n\u001B[0m\u001B[0;32m    254\u001B[0m         \u001B[1;31m# Or multiple symbols, (e.g., ['GOOG', 'AAPL', 'MSFT'])\u001B[0m\u001B[1;33m\u001B[0m\u001B[1;33m\u001B[0m\u001B[0m\n",
      "\u001B[1;32mC:\\ProgramData\\Anaconda3\\envs\\py39\\lib\\site-packages\\pandas_datareader\\yahoo\\daily.py\u001B[0m in \u001B[0;36m_get_params\u001B[1;34m(self, symbol)\u001B[0m\n\u001B[0;32m    125\u001B[0m         \u001B[0mfour_hours_in_seconds\u001B[0m \u001B[1;33m=\u001B[0m \u001B[1;36m14400\u001B[0m\u001B[1;33m\u001B[0m\u001B[1;33m\u001B[0m\u001B[0m\n\u001B[1;32m--> 126\u001B[1;33m         \u001B[0munix_start\u001B[0m \u001B[1;33m=\u001B[0m \u001B[0mint\u001B[0m\u001B[1;33m(\u001B[0m\u001B[0mtime\u001B[0m\u001B[1;33m.\u001B[0m\u001B[0mmktime\u001B[0m\u001B[1;33m(\u001B[0m\u001B[0mself\u001B[0m\u001B[1;33m.\u001B[0m\u001B[0mstart\u001B[0m\u001B[1;33m.\u001B[0m\u001B[0mtimetuple\u001B[0m\u001B[1;33m(\u001B[0m\u001B[1;33m)\u001B[0m\u001B[1;33m)\u001B[0m\u001B[1;33m)\u001B[0m\u001B[1;33m\u001B[0m\u001B[1;33m\u001B[0m\u001B[0m\n\u001B[0m\u001B[0;32m    127\u001B[0m         \u001B[0munix_start\u001B[0m \u001B[1;33m+=\u001B[0m \u001B[0mfour_hours_in_seconds\u001B[0m\u001B[1;33m\u001B[0m\u001B[1;33m\u001B[0m\u001B[0m\n",
      "\u001B[1;31mOverflowError\u001B[0m: mktime argument out of range",
      "\nDuring handling of the above exception, another exception occurred:\n",
      "\u001B[1;31mAttributeError\u001B[0m                            Traceback (most recent call last)",
      "\u001B[1;32m~\\AppData\\Local\\Temp/ipykernel_2832/2540545515.py\u001B[0m in \u001B[0;36m<module>\u001B[1;34m\u001B[0m\n\u001B[0;32m     21\u001B[0m \u001B[0mreturns\u001B[0m\u001B[1;33m,\u001B[0m \u001B[0mpositions\u001B[0m\u001B[1;33m,\u001B[0m \u001B[0mtransactions\u001B[0m\u001B[1;33m,\u001B[0m \u001B[0mgross_lev\u001B[0m \u001B[1;33m=\u001B[0m \u001B[0mpyfoliozer\u001B[0m\u001B[1;33m.\u001B[0m\u001B[0mget_pf_items\u001B[0m\u001B[1;33m(\u001B[0m\u001B[1;33m)\u001B[0m\u001B[1;33m\u001B[0m\u001B[1;33m\u001B[0m\u001B[0m\n\u001B[0;32m     22\u001B[0m \u001B[1;32mimport\u001B[0m \u001B[0mpyfolio\u001B[0m \u001B[1;32mas\u001B[0m \u001B[0mpf\u001B[0m\u001B[1;33m\u001B[0m\u001B[1;33m\u001B[0m\u001B[0m\n\u001B[1;32m---> 23\u001B[1;33m pf.create_full_tear_sheet(\n\u001B[0m\u001B[0;32m     24\u001B[0m     \u001B[0mreturns\u001B[0m\u001B[1;33m,\u001B[0m\u001B[1;33m\u001B[0m\u001B[1;33m\u001B[0m\u001B[0m\n\u001B[0;32m     25\u001B[0m     \u001B[0mpositions\u001B[0m\u001B[1;33m=\u001B[0m\u001B[0mpositions\u001B[0m\u001B[1;33m,\u001B[0m\u001B[1;33m\u001B[0m\u001B[1;33m\u001B[0m\u001B[0m\n",
      "\u001B[1;32mC:\\ProgramData\\Anaconda3\\envs\\py39\\lib\\site-packages\\pyfolio\\tears.py\u001B[0m in \u001B[0;36mcreate_full_tear_sheet\u001B[1;34m(returns, positions, transactions, market_data, benchmark_rets, slippage, live_start_date, sector_mappings, bayesian, round_trips, estimate_intraday, hide_positions, cone_std, bootstrap, unadjusted_returns, risk, style_factor_panel, sectors, caps, shares_held, volumes, percentile, set_context)\u001B[0m\n\u001B[0;32m    159\u001B[0m         \u001B[0mwhere\u001B[0m \u001B[0mwe\u001B[0m \u001B[0mhave\u001B[0m \u001B[0mthe\u001B[0m \u001B[0mmost\u001B[0m\u001B[0;31m \u001B[0m\u001B[0;31m$\u001B[0m \u001B[0minvested\u001B[0m\u001B[1;33m.\u001B[0m \u001B[0mThis\u001B[0m \u001B[0mwill\u001B[0m \u001B[0madjust\u001B[0m \u001B[0mpositions\u001B[0m \u001B[0mto\u001B[0m\u001B[1;33m\u001B[0m\u001B[1;33m\u001B[0m\u001B[0m\n\u001B[0;32m    160\u001B[0m         \u001B[0mbetter\u001B[0m \u001B[0mapproximate\u001B[0m \u001B[1;32mand\u001B[0m \u001B[0mrepresent\u001B[0m \u001B[0mhow\u001B[0m \u001B[0man\u001B[0m \u001B[0mintraday\u001B[0m \u001B[0mstrategy\u001B[0m \u001B[0mbehaves\u001B[0m\u001B[1;33m.\u001B[0m\u001B[1;33m\u001B[0m\u001B[1;33m\u001B[0m\u001B[0m\n\u001B[1;32m--> 161\u001B[1;33m         \u001B[0mBy\u001B[0m \u001B[0mdefault\u001B[0m\u001B[1;33m,\u001B[0m \u001B[0mthis\u001B[0m \u001B[1;32mis\u001B[0m \u001B[1;34m'infer'\u001B[0m\u001B[1;33m,\u001B[0m \u001B[1;32mand\u001B[0m \u001B[0man\u001B[0m \u001B[0mattempt\u001B[0m \u001B[0mwill\u001B[0m \u001B[0mbe\u001B[0m \u001B[0mmade\u001B[0m \u001B[0mto\u001B[0m \u001B[0mdetect\u001B[0m\u001B[1;33m\u001B[0m\u001B[1;33m\u001B[0m\u001B[0m\n\u001B[0m\u001B[0;32m    162\u001B[0m         \u001B[0man\u001B[0m \u001B[0mintraday\u001B[0m \u001B[0mstrategy\u001B[0m\u001B[1;33m.\u001B[0m \u001B[0mSpecifying\u001B[0m \u001B[0mthis\u001B[0m \u001B[0mvalue\u001B[0m \u001B[0mwill\u001B[0m \u001B[0mprevent\u001B[0m \u001B[0mdetection\u001B[0m\u001B[1;33m.\u001B[0m\u001B[1;33m\u001B[0m\u001B[1;33m\u001B[0m\u001B[0m\n\u001B[0;32m    163\u001B[0m     \u001B[0mcone_std\u001B[0m \u001B[1;33m:\u001B[0m \u001B[0mfloat\u001B[0m\u001B[1;33m,\u001B[0m \u001B[1;32mor\u001B[0m \u001B[0mtuple\u001B[0m\u001B[1;33m,\u001B[0m \u001B[0moptional\u001B[0m\u001B[1;33m\u001B[0m\u001B[1;33m\u001B[0m\u001B[0m\n",
      "\u001B[1;32mC:\\ProgramData\\Anaconda3\\envs\\py39\\lib\\site-packages\\pyfolio\\utils.py\u001B[0m in \u001B[0;36mget_symbol_rets\u001B[1;34m(symbol, start, end)\u001B[0m\n",
      "\u001B[1;32mC:\\ProgramData\\Anaconda3\\envs\\py39\\lib\\site-packages\\pyfolio\\deprecate.py\u001B[0m in \u001B[0;36mwrapper\u001B[1;34m(*args, **kwargs)\u001B[0m\n\u001B[0;32m     41\u001B[0m                 \u001B[0mstacklevel\u001B[0m\u001B[1;33m=\u001B[0m\u001B[0mstacklevel\u001B[0m\u001B[1;33m\u001B[0m\u001B[1;33m\u001B[0m\u001B[0m\n\u001B[0;32m     42\u001B[0m             )\n\u001B[1;32m---> 43\u001B[1;33m             \u001B[1;32mreturn\u001B[0m \u001B[0mfn\u001B[0m\u001B[1;33m(\u001B[0m\u001B[1;33m*\u001B[0m\u001B[0margs\u001B[0m\u001B[1;33m,\u001B[0m \u001B[1;33m**\u001B[0m\u001B[0mkwargs\u001B[0m\u001B[1;33m)\u001B[0m\u001B[1;33m\u001B[0m\u001B[1;33m\u001B[0m\u001B[0m\n\u001B[0m\u001B[0;32m     44\u001B[0m         \u001B[1;32mreturn\u001B[0m \u001B[0mwrapper\u001B[0m\u001B[1;33m\u001B[0m\u001B[1;33m\u001B[0m\u001B[0m\n\u001B[0;32m     45\u001B[0m     \u001B[1;32mreturn\u001B[0m \u001B[0mdeprecated_dec\u001B[0m\u001B[1;33m\u001B[0m\u001B[1;33m\u001B[0m\u001B[0m\n",
      "\u001B[1;32mC:\\ProgramData\\Anaconda3\\envs\\py39\\lib\\site-packages\\pyfolio\\utils.py\u001B[0m in \u001B[0;36mdefault_returns_func\u001B[1;34m(symbol, start, end)\u001B[0m\n\u001B[0;32m    399\u001B[0m             \u001B[1;32mor\u001B[0m \u001B[1;33m(\u001B[0m\u001B[0mrets\u001B[0m\u001B[1;33m.\u001B[0m\u001B[0mindex\u001B[0m\u001B[1;33m[\u001B[0m\u001B[1;33m-\u001B[0m\u001B[1;36m1\u001B[0m\u001B[1;33m]\u001B[0m \u001B[1;33m>\u001B[0m \u001B[0mbenchmark_rets\u001B[0m\u001B[1;33m.\u001B[0m\u001B[0mindex\u001B[0m\u001B[1;33m[\u001B[0m\u001B[1;33m-\u001B[0m\u001B[1;36m1\u001B[0m\u001B[1;33m]\u001B[0m\u001B[1;33m)\u001B[0m\u001B[1;33m:\u001B[0m\u001B[1;33m\u001B[0m\u001B[1;33m\u001B[0m\u001B[0m\n\u001B[0;32m    400\u001B[0m         \u001B[0mclipped_rets\u001B[0m \u001B[1;33m=\u001B[0m \u001B[0mrets\u001B[0m\u001B[1;33m[\u001B[0m\u001B[0mbenchmark_rets\u001B[0m\u001B[1;33m.\u001B[0m\u001B[0mindex\u001B[0m\u001B[1;33m]\u001B[0m\u001B[1;33m\u001B[0m\u001B[1;33m\u001B[0m\u001B[0m\n\u001B[1;32m--> 401\u001B[1;33m     \u001B[1;32melse\u001B[0m\u001B[1;33m:\u001B[0m\u001B[1;33m\u001B[0m\u001B[1;33m\u001B[0m\u001B[0m\n\u001B[0m\u001B[0;32m    402\u001B[0m         \u001B[0mclipped_rets\u001B[0m \u001B[1;33m=\u001B[0m \u001B[0mrets\u001B[0m\u001B[1;33m\u001B[0m\u001B[1;33m\u001B[0m\u001B[0m\n\u001B[0;32m    403\u001B[0m \u001B[1;33m\u001B[0m\u001B[0m\n",
      "\u001B[1;32mC:\\ProgramData\\Anaconda3\\envs\\py39\\lib\\site-packages\\empyrical\\deprecate.py\u001B[0m in \u001B[0;36mwrapper\u001B[1;34m(*args, **kwargs)\u001B[0m\n\u001B[0;32m     41\u001B[0m                 \u001B[0mstacklevel\u001B[0m\u001B[1;33m=\u001B[0m\u001B[0mstacklevel\u001B[0m\u001B[1;33m\u001B[0m\u001B[1;33m\u001B[0m\u001B[0m\n\u001B[0;32m     42\u001B[0m             )\n\u001B[1;32m---> 43\u001B[1;33m             \u001B[1;32mreturn\u001B[0m \u001B[0mfn\u001B[0m\u001B[1;33m(\u001B[0m\u001B[1;33m*\u001B[0m\u001B[0margs\u001B[0m\u001B[1;33m,\u001B[0m \u001B[1;33m**\u001B[0m\u001B[0mkwargs\u001B[0m\u001B[1;33m)\u001B[0m\u001B[1;33m\u001B[0m\u001B[1;33m\u001B[0m\u001B[0m\n\u001B[0m\u001B[0;32m     44\u001B[0m         \u001B[1;32mreturn\u001B[0m \u001B[0mwrapper\u001B[0m\u001B[1;33m\u001B[0m\u001B[1;33m\u001B[0m\u001B[0m\n\u001B[0;32m     45\u001B[0m     \u001B[1;32mreturn\u001B[0m \u001B[0mdeprecated_dec\u001B[0m\u001B[1;33m\u001B[0m\u001B[1;33m\u001B[0m\u001B[0m\n",
      "\u001B[1;32mC:\\ProgramData\\Anaconda3\\envs\\py39\\lib\\site-packages\\empyrical\\utils.py\u001B[0m in \u001B[0;36mdefault_returns_func\u001B[1;34m(symbol, start, end)\u001B[0m\n\u001B[0;32m    483\u001B[0m     \u001B[1;32mif\u001B[0m \u001B[0msymbol\u001B[0m \u001B[1;33m==\u001B[0m \u001B[1;34m'SPY'\u001B[0m\u001B[1;33m:\u001B[0m\u001B[1;33m\u001B[0m\u001B[1;33m\u001B[0m\u001B[0m\n\u001B[0;32m    484\u001B[0m         \u001B[0mfilepath\u001B[0m \u001B[1;33m=\u001B[0m \u001B[0mdata_path\u001B[0m\u001B[1;33m(\u001B[0m\u001B[1;34m'spy.csv'\u001B[0m\u001B[1;33m)\u001B[0m\u001B[1;33m\u001B[0m\u001B[1;33m\u001B[0m\u001B[0m\n\u001B[1;32m--> 485\u001B[1;33m         rets = get_returns_cached(filepath,\n\u001B[0m\u001B[0;32m    486\u001B[0m                                   \u001B[0mget_symbol_returns_from_yahoo\u001B[0m\u001B[1;33m,\u001B[0m\u001B[1;33m\u001B[0m\u001B[1;33m\u001B[0m\u001B[0m\n\u001B[0;32m    487\u001B[0m                                   \u001B[0mend\u001B[0m\u001B[1;33m,\u001B[0m\u001B[1;33m\u001B[0m\u001B[1;33m\u001B[0m\u001B[0m\n",
      "\u001B[1;32mC:\\ProgramData\\Anaconda3\\envs\\py39\\lib\\site-packages\\empyrical\\deprecate.py\u001B[0m in \u001B[0;36mwrapper\u001B[1;34m(*args, **kwargs)\u001B[0m\n\u001B[0;32m     41\u001B[0m                 \u001B[0mstacklevel\u001B[0m\u001B[1;33m=\u001B[0m\u001B[0mstacklevel\u001B[0m\u001B[1;33m\u001B[0m\u001B[1;33m\u001B[0m\u001B[0m\n\u001B[0;32m     42\u001B[0m             )\n\u001B[1;32m---> 43\u001B[1;33m             \u001B[1;32mreturn\u001B[0m \u001B[0mfn\u001B[0m\u001B[1;33m(\u001B[0m\u001B[1;33m*\u001B[0m\u001B[0margs\u001B[0m\u001B[1;33m,\u001B[0m \u001B[1;33m**\u001B[0m\u001B[0mkwargs\u001B[0m\u001B[1;33m)\u001B[0m\u001B[1;33m\u001B[0m\u001B[1;33m\u001B[0m\u001B[0m\n\u001B[0m\u001B[0;32m     44\u001B[0m         \u001B[1;32mreturn\u001B[0m \u001B[0mwrapper\u001B[0m\u001B[1;33m\u001B[0m\u001B[1;33m\u001B[0m\u001B[0m\n\u001B[0;32m     45\u001B[0m     \u001B[1;32mreturn\u001B[0m \u001B[0mdeprecated_dec\u001B[0m\u001B[1;33m\u001B[0m\u001B[1;33m\u001B[0m\u001B[0m\n",
      "\u001B[1;32mC:\\ProgramData\\Anaconda3\\envs\\py39\\lib\\site-packages\\empyrical\\utils.py\u001B[0m in \u001B[0;36mget_returns_cached\u001B[1;34m(filepath, update_func, latest_dt, **kwargs)\u001B[0m\n\u001B[0;32m    322\u001B[0m \u001B[1;33m\u001B[0m\u001B[0m\n\u001B[0;32m    323\u001B[0m     \u001B[1;32mif\u001B[0m \u001B[0mupdate_cache\u001B[0m\u001B[1;33m:\u001B[0m\u001B[1;33m\u001B[0m\u001B[1;33m\u001B[0m\u001B[0m\n\u001B[1;32m--> 324\u001B[1;33m         \u001B[0mreturns\u001B[0m \u001B[1;33m=\u001B[0m \u001B[0mupdate_func\u001B[0m\u001B[1;33m(\u001B[0m\u001B[1;33m**\u001B[0m\u001B[0mkwargs\u001B[0m\u001B[1;33m)\u001B[0m\u001B[1;33m\u001B[0m\u001B[1;33m\u001B[0m\u001B[0m\n\u001B[0m\u001B[0;32m    325\u001B[0m         \u001B[1;32mtry\u001B[0m\u001B[1;33m:\u001B[0m\u001B[1;33m\u001B[0m\u001B[1;33m\u001B[0m\u001B[0m\n\u001B[0;32m    326\u001B[0m             \u001B[0mensure_directory\u001B[0m\u001B[1;33m(\u001B[0m\u001B[0mcache_dir\u001B[0m\u001B[1;33m(\u001B[0m\u001B[1;33m)\u001B[0m\u001B[1;33m)\u001B[0m\u001B[1;33m\u001B[0m\u001B[1;33m\u001B[0m\u001B[0m\n",
      "\u001B[1;32mC:\\ProgramData\\Anaconda3\\envs\\py39\\lib\\site-packages\\empyrical\\deprecate.py\u001B[0m in \u001B[0;36mwrapper\u001B[1;34m(*args, **kwargs)\u001B[0m\n\u001B[0;32m     41\u001B[0m                 \u001B[0mstacklevel\u001B[0m\u001B[1;33m=\u001B[0m\u001B[0mstacklevel\u001B[0m\u001B[1;33m\u001B[0m\u001B[1;33m\u001B[0m\u001B[0m\n\u001B[0;32m     42\u001B[0m             )\n\u001B[1;32m---> 43\u001B[1;33m             \u001B[1;32mreturn\u001B[0m \u001B[0mfn\u001B[0m\u001B[1;33m(\u001B[0m\u001B[1;33m*\u001B[0m\u001B[0margs\u001B[0m\u001B[1;33m,\u001B[0m \u001B[1;33m**\u001B[0m\u001B[0mkwargs\u001B[0m\u001B[1;33m)\u001B[0m\u001B[1;33m\u001B[0m\u001B[1;33m\u001B[0m\u001B[0m\n\u001B[0m\u001B[0;32m     44\u001B[0m         \u001B[1;32mreturn\u001B[0m \u001B[0mwrapper\u001B[0m\u001B[1;33m\u001B[0m\u001B[1;33m\u001B[0m\u001B[0m\n\u001B[0;32m     45\u001B[0m     \u001B[1;32mreturn\u001B[0m \u001B[0mdeprecated_dec\u001B[0m\u001B[1;33m\u001B[0m\u001B[1;33m\u001B[0m\u001B[0m\n",
      "\u001B[1;32mC:\\ProgramData\\Anaconda3\\envs\\py39\\lib\\site-packages\\empyrical\\utils.py\u001B[0m in \u001B[0;36mget_symbol_returns_from_yahoo\u001B[1;34m(symbol, start, end)\u001B[0m\n\u001B[0;32m    441\u001B[0m             \u001B[1;34m'Yahoo Finance read failed: {}, falling back to Google'\u001B[0m\u001B[1;33m.\u001B[0m\u001B[0mformat\u001B[0m\u001B[1;33m(\u001B[0m\u001B[0me\u001B[0m\u001B[1;33m)\u001B[0m\u001B[1;33m,\u001B[0m\u001B[1;33m\u001B[0m\u001B[1;33m\u001B[0m\u001B[0m\n\u001B[0;32m    442\u001B[0m             UserWarning)\n\u001B[1;32m--> 443\u001B[1;33m         \u001B[0mpx\u001B[0m \u001B[1;33m=\u001B[0m \u001B[0mweb\u001B[0m\u001B[1;33m.\u001B[0m\u001B[0mget_data_google\u001B[0m\u001B[1;33m(\u001B[0m\u001B[0msymbol\u001B[0m\u001B[1;33m,\u001B[0m \u001B[0mstart\u001B[0m\u001B[1;33m=\u001B[0m\u001B[0mstart\u001B[0m\u001B[1;33m,\u001B[0m \u001B[0mend\u001B[0m\u001B[1;33m=\u001B[0m\u001B[0mend\u001B[0m\u001B[1;33m)\u001B[0m\u001B[1;33m\u001B[0m\u001B[1;33m\u001B[0m\u001B[0m\n\u001B[0m\u001B[0;32m    444\u001B[0m         \u001B[0mrets\u001B[0m \u001B[1;33m=\u001B[0m \u001B[0mpx\u001B[0m\u001B[1;33m[\u001B[0m\u001B[1;33m[\u001B[0m\u001B[1;34m'Close'\u001B[0m\u001B[1;33m]\u001B[0m\u001B[1;33m]\u001B[0m\u001B[1;33m.\u001B[0m\u001B[0mpct_change\u001B[0m\u001B[1;33m(\u001B[0m\u001B[1;33m)\u001B[0m\u001B[1;33m.\u001B[0m\u001B[0mdropna\u001B[0m\u001B[1;33m(\u001B[0m\u001B[1;33m)\u001B[0m\u001B[1;33m\u001B[0m\u001B[1;33m\u001B[0m\u001B[0m\n\u001B[0;32m    445\u001B[0m \u001B[1;33m\u001B[0m\u001B[0m\n",
      "\u001B[1;31mAttributeError\u001B[0m: module 'pandas_datareader.data' has no attribute 'get_data_google'"
     ]
    }
   ],
   "source": [
    "import datetime\n",
    "import backtrader as bt\n",
    "import backtrader.analyzers as btanalyzers\n",
    "import backtrader.feeds as btfeeds\n",
    "import backtrader.strategies as btstrats\n",
    "\n",
    "cerebro = bt.Cerebro()\n",
    "\n",
    "dataname = '../data/2005-2006-day-001.txt'\n",
    "data = btfeeds.BacktraderCSVData(dataname=dataname)\n",
    "cerebro.adddata(data)\n",
    "cerebro.addstrategy(btstrats.SMA_CrossOver)\n",
    "\n",
    "cerebro.addanalyzer(bt.analyzers.PyFolio, _name='pyfolio')\n",
    "print('Starting Portfolio Value: %.2f' % cerebro.broker.getvalue())\n",
    "results = cerebro.run()\n",
    "print('Final Portfolio Value: %.2f' % cerebro.broker.getvalue())\n",
    "\n",
    "strat = results[0]\n",
    "pyfoliozer = strat.analyzers.getbyname('pyfolio')\n",
    "returns, positions, transactions, gross_lev = pyfoliozer.get_pf_items()\n",
    "import pyfolio as pf\n",
    "pf.create_full_tear_sheet(\n",
    "    returns,\n",
    "    positions=positions,\n",
    "    transactions=transactions,\n",
    "    live_start_date='2005-05-01',\n",
    "    )\n",
    "\n",
    "cerebro.plot()"
   ],
   "metadata": {
    "collapsed": false,
    "pycharm": {
     "name": "#%%\n"
    }
   }
  },
  {
   "cell_type": "code",
   "execution_count": 18,
   "outputs": [
    {
     "name": "stdout",
     "output_type": "stream",
     "text": [
      "index\n",
      "2005-01-03 00:00:00+00:00    0.000000\n",
      "2005-01-04 00:00:00+00:00    0.000000\n",
      "2005-01-05 00:00:00+00:00    0.000000\n",
      "2005-01-06 00:00:00+00:00    0.000000\n",
      "2005-01-07 00:00:00+00:00    0.000000\n",
      "                               ...   \n",
      "2006-12-21 00:00:00+00:00   -0.000614\n",
      "2006-12-22 00:00:00+00:00   -0.003680\n",
      "2006-12-27 00:00:00+00:00    0.005872\n",
      "2006-12-28 00:00:00+00:00   -0.000400\n",
      "2006-12-29 00:00:00+00:00   -0.001020\n",
      "Name: return, Length: 512, dtype: float64\n"
     ]
    }
   ],
   "source": [
    "import datetime\n",
    "\n",
    "import backtrader as bt\n",
    "import backtrader.analyzers as btanalyzers\n",
    "import backtrader.feeds as btfeeds\n",
    "import backtrader.strategies as btstrats\n",
    "\n",
    "cerebro = bt.Cerebro()\n",
    "\n",
    "dataname = '../data/2005-2006-day-001.txt'\n",
    "data = btfeeds.BacktraderCSVData(dataname=dataname)\n",
    "cerebro.adddata(data)\n",
    "cerebro.addstrategy(btstrats.SMA_CrossOver)\n",
    "\n",
    "\n",
    "#……策略和参数\n",
    "cerebro.addanalyzer(bt.analyzers.PyFolio, _name='PyFolio')\n",
    "back = cerebro.run()\n",
    "strat = back[0]\n",
    "portfolio_stats = strat.analyzers.getbyname('PyFolio')\n",
    "returns, positions, transactions, gross_lev = portfolio_stats.get_pf_items()\n",
    "print(returns)\n",
    "returns.index = returns.index.tz_convert(None)\n",
    "import quantstats\n",
    "quantstats.reports.html(returns, output='stats.html', title='BTC Sentiment')\n",
    "\n"
   ],
   "metadata": {
    "collapsed": false,
    "pycharm": {
     "name": "#%%\n"
    }
   }
  },
  {
   "cell_type": "code",
   "execution_count": null,
   "outputs": [],
   "source": [],
   "metadata": {
    "collapsed": false,
    "pycharm": {
     "name": "#%%\n"
    }
   }
  }
 ],
 "metadata": {
  "kernelspec": {
   "name": "py39",
   "language": "python",
   "display_name": "py39"
  },
  "language_info": {
   "codemirror_mode": {
    "name": "ipython",
    "version": 2
   },
   "file_extension": ".py",
   "mimetype": "text/x-python",
   "name": "python",
   "nbconvert_exporter": "python",
   "pygments_lexer": "ipython2",
   "version": "2.7.6"
  }
 },
 "nbformat": 4,
 "nbformat_minor": 0
}