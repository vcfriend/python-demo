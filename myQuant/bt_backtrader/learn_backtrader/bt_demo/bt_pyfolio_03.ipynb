{
 "cells": [
  {
   "cell_type": "code",
   "execution_count": 1,
   "metadata": {},
   "outputs": [],
   "source": [
    "\n",
    "global GLOBALS_DICT\n",
    "G_COUNT = 0  # jupyter运行次数统计\n",
    "G_RESULT_ONE = None  # 回测大脑返回\n",
    "G_RESULTS_OPT = None  # 参数调优大脑返回\n",
    "res_df = None  # 筛选后的参数优化结果"
   ]
  },
  {
   "cell_type": "code",
   "execution_count": 2,
   "metadata": {
    "pycharm": {
     "name": "#%%\n"
    }
   },
   "outputs": [
    {
     "name": "stdout",
     "output_type": "stream",
     "text": [
      "run time: 2022-05-10 12:30:48.691192\n",
      "dt_start: 2015-06-25 dt_end: 2016-02-01\n",
      "D:\\study\\python-demo\\myQuant\\bt_backtrader\\datas\\SQCU13-5m-20150625-20220427.hdf\n",
      "opts_kwargs: {'pw': range(2, 13), 'pl': 5}\n",
      "--------------- 参数优化结果 -----------------\n",
      "\n",
      "Time used: 9.722537500000001\n",
      "<class 'pandas.core.frame.DataFrame'>\n",
      "Int64Index: 11 entries, 3 to 2\n",
      "Data columns (total 5 columns):\n",
      " #   Column  Non-Null Count  Dtype  \n",
      "---  ------  --------------  -----  \n",
      " 0   pw      11 non-null     int32  \n",
      " 1   pl      11 non-null     int32  \n",
      " 2   total   11 non-null     int32  \n",
      " 3   sharpe  11 non-null     float64\n",
      " 4   rtot%   11 non-null     float64\n",
      "dtypes: float64(2), int32(3)\n",
      "memory usage: 396.0 bytes\n",
      "SQCU13_5m_2015-06-25_2016-02-01_{pw(2,13),pl5}_rs_opt.csv\n",
      "    pw  pl  total  sharpe  rtot%  py_rt%  won%  rnorm%  maxDD%  comm%     pnl_net\n",
      "id                                                                               \n",
      "3    5   5    145    1.04  28.39   33.45 17.93    0.21   16.88   1.57  289,749.20\n",
      "0    2   5    177    0.83  24.82   37.98 13.56    0.18   37.51   3.88  243,118.40\n",
      "4    6   5    154    0.69  17.33   21.82 16.88    0.13   24.09   2.80  150,740.80\n",
      "6    8   5    126    0.63  10.39   12.29 24.60    0.08   14.79   3.78   70,936.80\n",
      "8   10   5    119    0.40   8.32   10.15 21.85    0.06   21.53   5.04   48,231.20\n",
      "7    9   5    129    0.37   5.86    7.85 22.48    0.04   19.29   7.69   34,636.00\n",
      "5    7   5    147   -0.34   0.02    3.27 19.05    0.00   22.58 -11.64  -25,476.40\n",
      "9   11   5    134   -1.09  -4.05   -2.77 24.63   -0.03   17.43  -3.20  -65,422.80\n",
      "10  12   5    140   -1.02  -4.32   -1.88 25.00   -0.03   25.91  -3.16  -67,990.40\n",
      "1    3   5    178   -1.53 -25.21  -20.59 12.36   -0.18   31.17  -1.85 -248,513.60\n",
      "2    4   5    170   -1.42 -27.49  -24.37 14.71   -0.20   28.22  -1.36 -266,028.80\n",
      "--------------- 优化结束 -----------------\n"
     ]
    }
   ],
   "source": [
    "import re\n",
    "from datetime import datetime\n",
    "import global_variable as glv  # 全局变量模块\n",
    "import MyStrategy as ms\n",
    "\n",
    "kwargs = dict()\n",
    "# kwargs['G_FILE_PATH'] = \"datas\\\\ZJIF13-5m-20100416-20220427.csv\"\n",
    "# kwargs['G_DT_START'], kwargs['G_DT_END'] = '2013-01-01', '2016-02-01'\n",
    "# kwargs['G_FILE_PATH'] = \"datas\\\\DQC13-5m-20120709-20220330.csv\"\n",
    "# kwargs['G_DT_START'], kwargs['G_DT_END'] = '2013-01-01', '2014-02-01'\n",
    "# kwargs['G_DT_START'], kwargs['G_DT_END'] = '2017-01-01', '2022-02-01'\n",
    "# kwargs['G_DT_START'], kwargs['G_DT_END'] = '2015-01-01', '2022-02-01'\n",
    "# kwargs['G_FILE_PATH'] = \"datas\\\\ZQCF13-5m-20121224-20220415.csv\"\n",
    "# kwargs['G_DT_START'], kwargs['G_DT_END'] = '2013-01-01', '2022-02-01'\n",
    "# kwargs['G_FILE_PATH'] = \"datas\\\\SQRB13-5m-20121224-20220330.csv\"\n",
    "# kwargs['G_FILE_PATH'] = \"datas\\\\SQRB-OC-5m-20090327-20211231.csv\"\n",
    "# kwargs['G_DT_START'], kwargs['G_DT_END'] = '2009-04-01', '2013-02-01'\n",
    "kwargs['G_FILE_PATH'] = \"datas\\\\SQCU13-5m-20150625-20220427.csv\"\n",
    "# kwargs['G_DT_START'], kwargs['G_DT_END'] = '2015-06-25', '2019-02-01'\n",
    "kwargs['G_DT_START'], kwargs['G_DT_END'] = '2015-06-25', '2016-02-01'\n",
    "\n",
    "kwargs['G_DT_DTFORMAT'] = '%Y-%m-%d %H:%M:%S'\n",
    "kwargs['G_CONT_ID'] = (re.findall(r\"datas\\\\([\\w]{2,6})\", kwargs['G_FILE_PATH'])[0])  # 从文件名中提取2-6个字符由字母数字_组成的合约ID\n",
    "kwargs['G_DT_TIMEFRAME'] = 'minutes'  # 重采样更大时间周期 choices=['minutes', 'daily', 'weekly', 'monthly']\n",
    "kwargs['G_DT_COMPRESSION'] = 5  # 合成bar的周期数\n",
    "kwargs['G_INI_CASH'] = 10000 * 100  # 初始金额\n",
    "kwargs['G_PLOT'] = False  # 是否绘图,可提供绘图参数:'style=\"candle\"'\n",
    "kwargs['G_QUANTSTATS'] = True  # 是否使用 quantstats 分析测试结果\n",
    "kwargs['G_P_LOG_FILE'] = False  # 是否输出日志到文件\n",
    "kwargs['G_P_LOG_PRINT'] = False  # 是否输出日志到控制台\n",
    "kwargs['G_OPTS'] = 1  # 是否参数调优\n",
    "kwargs['G_OPTS_IS_USE'] = 10  # 是否使用上次优化结果\n",
    "G_P_PW = [10, True, 2, 13, 1]  # 参数[默认值,是否优化,最小值,最大值,步长]\n",
    "G_P_PL = [5, False, 2, 13, 1]  # 参数[默认值,是否优化,最小值,最大值,步长]\n",
    "G_P_PWL = [10, False, 2, 5, 1]  # 参数[默认值,是否优化,最小值,最大值,步长]\n",
    "G_P_OJK = [1, False, 1, 3, 1]  # 参数[默认值,是否优化,最小值,最大值,步长]\n",
    "G_P_PO = [0, False, 0, 5, 1]  # 参数[默认值,是否优化,最小值,最大值,步长]\n",
    "G_P_PP = [0, False, 0, 5, 1]  # 参数[默认值,是否优化,最小值,最大值,步长]\n",
    "G_P_KPR = [True, {  # 关键价格[是否启用, {日期1: dict({'kps':[价格区间1]},日期2: {'kps':[价格区间2]},})]\n",
    "    datetime(2013, 10, 30).date(): {'kps': [2448, 2323], },\n",
    "    datetime(2015, 4, 30).date(): {'kps': [2323, 2450], },\n",
    "}]\n",
    "kwargs['G_P_PARAM'] = {\n",
    "    'pw': (range(G_P_PW[2], G_P_PW[3], G_P_PW[4]) if kwargs['G_OPTS'] and G_P_PW[1] else G_P_PW[0]),\n",
    "    'pl': (range(G_P_PL[2], G_P_PL[3], G_P_PL[4]) if kwargs['G_OPTS'] and G_P_PL[1] else G_P_PL[0]),\n",
    "    # 'pwl': (range(G_P_PWL[2], G_P_PWL[3], G_P_PWL[4]) if G_OPTS and G_P_PWL[1] else G_P_PWL[0]),\n",
    "    # 'ojk': (range(G_P_OJK[2], G_P_OJK[3], G_P_OJK[4]) if G_OPTS and G_P_OJK[1] else G_P_OJK[0]),\n",
    "    # 'po': (range(G_P_PO[2], G_P_PO[3], G_P_PO[4]) if G_OPTS and G_P_PO[1] else G_P_PO[0]),\n",
    "    # 'pp': (range(G_P_PP[2], G_P_PP[3], G_P_PP[4]) if G_OPTS and G_P_PP[1] else G_P_PP[0]),\n",
    "    # 'kpr': G_P_KPR[1] if G_P_KPR[0] else None\n",
    "\n",
    "}\n",
    "\n",
    "\"\"\"-------主函数---------\"\"\"\n",
    "if __name__ == '__main__':\n",
    "    glv.init()\n",
    "    glv.set('kwargs', kwargs)\n",
    "    ms.runstrat()"
   ]
  },
  {
   "cell_type": "code",
   "execution_count": 4,
   "metadata": {
    "pycharm": {
     "name": "#%%\n"
    }
   },
   "outputs": [
    {
     "name": "stdout",
     "output_type": "stream",
     "text": [
      "SQCU13-5m st=2015-06-25 end=2019-02-01 pam={pw6,pl5} dt=06.31.06\n",
      "quantstats 测试分析结果已保存至目录所在文件 quantstats-tearsheet.html\n"
     ]
    }
   ],
   "source": [
    "result_one_id = 4\n",
    "G_RESULTS_OPT = glv.get('G_RESULTS_OPT')\n",
    "# 使用quantstats 分析工具并保存到HTML文件\n",
    "G_COUNT += 1\n",
    "results_opt = G_RESULTS_OPT\n",
    "result_one = results_opt[result_one_id]\n",
    "# 使用quantstats 分析工具并保存到HTML文件\n",
    "ms.quantstats_reports_html(result_one=result_one)"
   ]
  },
  {
   "cell_type": "code",
   "execution_count": 8,
   "outputs": [
    {
     "name": "stdout",
     "output_type": "stream",
     "text": [
      "run time: 2022-05-09 07:31:04.616781\n",
      "D:\\study\\python-demo\\myQuant\\bt_backtrader\\datas\\SQCU13-5m-20150625-20220427.csv\n",
      "dt_start: 2019-06-25 dt_end: 2022-02-01\n",
      "opts_kwargs: {'pw': 6, 'pl': 5, 'ok': 30, 'po': range(-5, 6)}\n",
      "--------------- 参数优化结果 -----------------\n",
      "\n",
      "Time used: 34.71247829999993\n",
      "<class 'pandas.core.frame.DataFrame'>\n",
      "Int64Index: 11 entries, 0 to 10\n",
      "Data columns (total 5 columns):\n",
      " #   Column  Non-Null Count  Dtype  \n",
      "---  ------  --------------  -----  \n",
      " 0   po      11 non-null     int32  \n",
      " 1   pw      11 non-null     int32  \n",
      " 2   pl      11 non-null     int32  \n",
      " 3   total   11 non-null     int32  \n",
      " 4   sharpe  11 non-null     float64\n",
      "dtypes: float64(1), int32(4)\n",
      "memory usage: 352.0 bytes\n",
      "datas\\SQCU13_5m_2019-06-25_2022-02-01_{pw6,pl5,ok30,po(-5,6)}_opt.csv\n",
      "    po  pw  pl  total  sharpe  rtot%    py_rt%  won%  rnorm%  maxDD%  comm%    pnl_net\n",
      "id                                                                                    \n",
      "0   -5   6   5     67    0.77 120.24 19,174.05 22.39    0.22  133.85  -0.72 -55,823.20\n",
      "1   -4   6   5     67    0.77 120.24 19,174.05 22.39    0.22  133.85  -0.72 -55,823.20\n",
      "2   -3   6   5     67    0.77 120.24 19,174.05 22.39    0.22  133.85  -0.72 -55,823.20\n",
      "3   -2   6   5     67    0.77 120.24 19,174.05 22.39    0.22  133.85  -0.72 -55,823.20\n",
      "4   -1   6   5     67    0.77 120.24 19,174.05 22.39    0.22  133.85  -0.72 -55,823.20\n",
      "5    0   6   5     67    0.77 120.24 19,174.05 22.39    0.22  133.85  -0.72 -55,823.20\n",
      "6    1   6   5     67    0.77 120.24 19,174.05 22.39    0.22  133.85  -0.72 -55,823.20\n",
      "7    2   6   5     67    0.77 120.24 19,174.05 22.39    0.22  133.85  -0.72 -55,823.20\n",
      "8    3   6   5     67    0.77 120.24 19,174.05 22.39    0.22  133.85  -0.72 -55,823.20\n",
      "9    4   6   5     67    0.77 120.24 19,174.05 22.39    0.22  133.85  -0.72 -55,823.20\n",
      "10   5   6   5     67    0.77 120.24 19,174.05 22.39    0.22  133.85  -0.72 -55,823.20\n",
      "--------------- 优化结束 -----------------\n"
     ]
    }
   ],
   "source": [
    "import re\n",
    "from datetime import datetime\n",
    "import global_variable as glv  # 全局变量模块\n",
    "import MyStrategy as ms\n",
    "\n",
    "kwargs = dict()\n",
    "# kwargs['G_FILE_PATH'] = \"datas\\\\ZJIF13-5m-20100416-20220427.csv\"\n",
    "# kwargs['G_DT_START'], kwargs['G_DT_END'] = '2013-01-01', '2016-02-01'\n",
    "# kwargs['G_FILE_PATH'] = \"datas\\\\DQC13-5m-20120709-20220330.csv\"\n",
    "# kwargs['G_DT_START'], kwargs['G_DT_END'] = '2013-01-01', '2014-02-01'\n",
    "# kwargs['G_DT_START'], kwargs['G_DT_END'] = '2017-01-01', '2022-02-01'\n",
    "# kwargs['G_DT_START'], kwargs['G_DT_END'] = '2015-01-01', '2022-02-01'\n",
    "# kwargs['G_FILE_PATH'] = \"datas\\\\ZQCF13-5m-20121224-20220415.csv\"\n",
    "# kwargs['G_DT_START'], kwargs['G_DT_END'] = '2013-01-01', '2022-02-01'\n",
    "# kwargs['G_FILE_PATH'] = \"datas\\\\SQRB13-5m-20121224-20220330.csv\"\n",
    "# kwargs['G_FILE_PATH'] = \"datas\\\\SQRB13-OC-5m-20090327-20211231.csv\"\n",
    "# kwargs['G_DT_START'], kwargs['G_DT_END'] = '2009-04-01', '2013-02-01'\n",
    "kwargs['G_FILE_PATH'] = \"datas\\\\SQCU13-5m-20150625-20220427.csv\"\n",
    "# kwargs['G_DT_START'], kwargs['G_DT_END'] = '2015-06-25', '2019-02-01'\n",
    "kwargs['G_DT_START'], kwargs['G_DT_END'] = '2019-06-25', '2022-02-01'\n",
    "\n",
    "kwargs['G_DT_DTFORMAT'] = '%Y-%m-%d %H:%M:%S'\n",
    "kwargs['G_CONT_ID'] = (re.findall(r\"datas\\\\([\\w]{2,6})\", kwargs['G_FILE_PATH'])[0])  # 从文件名中提取2-6个字符由字母数字_组成的合约ID\n",
    "kwargs['G_DT_TIMEFRAME'] = 'minutes'  # 重采样更大时间周期 choices=['minutes', 'daily', 'weekly', 'monthly']\n",
    "kwargs['G_DT_COMPRESSION'] = 5  # 合成bar的周期数\n",
    "kwargs['G_INI_CASH'] = 10000 * 10  # 初始金额\n",
    "kwargs['G_PLOT'] = False  # 是否绘图,可提供绘图参数:'style=\"candle\"'\n",
    "kwargs['G_QUANTSTATS'] = True  # 是否使用 quantstats 分析测试结果\n",
    "kwargs['G_P_LOG_FILE'] = False  # 是否输出日志到文件\n",
    "kwargs['G_P_LOG_PRINT'] = False  # 是否输出日志到控制台\n",
    "kwargs['G_OPTS'] = 1  # 是否参数调优\n",
    "kwargs['G_OPTS_IS_USE'] = 0  # 是否使用上次优化结果\n",
    "G_P_PW = [6, False, 2, 13, 1]  # 参数[默认值,是否优化,最小值,最大值,步长]\n",
    "G_P_PL = [5, False, 2, 13, 1]  # 参数[默认值,是否优化,最小值,最大值,步长]\n",
    "G_P_PWL = [10, False, 2, 5, 1]  # 参数[默认值,是否优化,最小值,最大值,步长]\n",
    "G_P_OJK = [1, False, 1, 3, 1]  # 参数[默认值,是否优化,最小值,最大值,步长]\n",
    "G_P_PO = [0, False, 0, 5, 1]  # 参数[默认值,是否优化,最小值,最大值,步长]\n",
    "G_P_PP = [0, False, 0, 5, 1]  # 参数[默认值,是否优化,最小值,最大值,步长]\n",
    "G_P_KPR = [True, {  # 关键价格[是否启用, {日期1: dict({'kps':[价格区间1]},日期2: {'kps':[价格区间2]},})]\n",
    "    datetime(2013, 10, 30).date(): {'kps': [2448, 2323], },\n",
    "    datetime(2015, 4, 30).date(): {'kps': [2323, 2450], },\n",
    "}]\n",
    "kwargs['G_P_PARAM'] = {\n",
    "    'pw': (range(G_P_PW[2], G_P_PW[3], G_P_PW[4]) if kwargs['G_OPTS'] and G_P_PW[1] else G_P_PW[0]),\n",
    "    'pl': (range(G_P_PL[2], G_P_PL[3], G_P_PL[4]) if kwargs['G_OPTS'] and G_P_PL[1] else G_P_PL[0]),\n",
    "    # 'pwl': (range(G_P_PWL[2], G_P_PWL[3], G_P_PWL[4]) if G_OPTS and G_P_PWL[1] else G_P_PWL[0]),\n",
    "    # 'ojk': (range(G_P_OJK[2], G_P_OJK[3], G_P_OJK[4]) if G_OPTS and G_P_OJK[1] else G_P_OJK[0]),\n",
    "    # 'po': (range(G_P_PO[2], G_P_PO[3], G_P_PO[4]) if G_OPTS and G_P_PO[1] else G_P_PO[0]),\n",
    "    # 'pp': (range(G_P_PP[2], G_P_PP[3], G_P_PP[4]) if G_OPTS and G_P_PP[1] else G_P_PP[0]),\n",
    "    # 'kpr': G_P_KPR[1] if G_P_KPR[0] else None\n",
    "    'ok': 30,\n",
    "    'po': range(-5,6),\n",
    "\n",
    "}\n",
    "\n",
    "\"\"\"-------主函数---------\"\"\"\n",
    "if __name__ == '__main__':\n",
    "    glv.set('kwargs', kwargs)\n",
    "    ms.runstrat()"
   ],
   "metadata": {
    "collapsed": false,
    "pycharm": {
     "name": "#%%\n"
    }
   }
  },
  {
   "cell_type": "code",
   "execution_count": null,
   "outputs": [],
   "source": [],
   "metadata": {
    "collapsed": false,
    "pycharm": {
     "name": "#%%\n"
    }
   }
  }
 ],
 "metadata": {
  "kernelspec": {
   "display_name": "Python [conda env:py39] *",
   "language": "python",
   "name": "conda-env-py39-py"
  },
  "language_info": {
   "codemirror_mode": {
    "name": "ipython",
    "version": 3
   },
   "file_extension": ".py",
   "mimetype": "text/x-python",
   "name": "python",
   "nbconvert_exporter": "python",
   "pygments_lexer": "ipython3",
   "version": "3.9.7"
  },
  "toc": {
   "base_numbering": 1,
   "nav_menu": {},
   "number_sections": true,
   "sideBar": true,
   "skip_h1_title": false,
   "title_cell": "Table of Contents",
   "title_sidebar": "Contents",
   "toc_cell": false,
   "toc_position": {},
   "toc_section_display": true,
   "toc_window_display": false
  }
 },
 "nbformat": 4,
 "nbformat_minor": 1
}