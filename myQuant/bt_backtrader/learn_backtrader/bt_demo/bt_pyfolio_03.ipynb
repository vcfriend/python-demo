{
 "cells": [
  {
   "cell_type": "code",
   "execution_count": 2,
   "metadata": {},
   "outputs": [],
   "source": [
    "\n",
    "global GLOBALS_DICT\n",
    "G_COUNT = 0  # jupyter运行次数统计\n",
    "G_RESULT_ONE = None  # 回测大脑返回\n",
    "G_RESULTS_OPT = None  # 参数调优大脑返回\n",
    "res_df = None  # 筛选后的参数优化结果"
   ]
  },
  {
   "cell_type": "code",
   "execution_count": 3,
   "metadata": {
    "pycharm": {
     "name": "#%%\n"
    }
   },
   "outputs": [
    {
     "name": "stdout",
     "output_type": "stream",
     "text": [
      "run time: 2022-05-09 06:29:36.845628\n",
      "D:\\study\\python-demo\\myQuant\\bt_backtrader\\datas\\SQCU13-5m-20150625-20220427.csv\n",
      "dt_start: 2015-06-25 dt_end: 2019-02-01\n",
      "opts_kwargs: {'pw': range(2, 13), 'pl': 5}\n",
      "--------------- 参数优化结果 -----------------\n",
      "\n",
      "Time used: 62.66711579999999\n",
      "<class 'pandas.core.frame.DataFrame'>\n",
      "Int64Index: 11 entries, 4 to 10\n",
      "Data columns (total 5 columns):\n",
      " #   Column  Non-Null Count  Dtype  \n",
      "---  ------  --------------  -----  \n",
      " 0   pw      11 non-null     int32  \n",
      " 1   pl      11 non-null     int32  \n",
      " 2   total   11 non-null     int32  \n",
      " 3   sharpe  11 non-null     float64\n",
      " 4   rtot%   11 non-null     float64\n",
      "dtypes: float64(2), int32(3)\n",
      "memory usage: 396.0 bytes\n",
      "datas\\SQCU13_5m_2015-06-25_2019-02-01_{pw(2,13),pl5}_rs_opt.csv\n",
      "    pw  pl  total  sharpe  rtot%  py_rt%  won%  rnorm%  maxDD%  comm%    pnl_net\n",
      "id                                                                              \n",
      "4    6   5    707    1.52 185.93  237.84 22.35    0.23   36.17   1.15 536,986.80\n",
      "5    7   5    681    1.24 170.85  231.17 21.73    0.21   35.76   1.26 444,418.00\n",
      "3    5   5    756    0.76 144.27  186.84 21.30    0.18   38.25   2.19 317,339.60\n",
      "0    2   5    888    0.94 139.72  228.55 18.02    0.17   59.83   3.33 302,624.40\n",
      "6    8   5    688    1.01 128.09  183.21 21.95    0.16   39.97   2.01 261,234.00\n",
      "8   10   5    616    0.81 122.66  167.93 22.89    0.15   40.09   1.89 235,930.40\n",
      "7    9   5    662    0.66  98.21  155.62 21.60    0.12   40.99   2.90 168,263.20\n",
      "1    3   5    843    0.80  73.88  236.69 26.10    0.09   75.56   5.59 108,136.80\n",
      "9   11   5    617    0.72  73.54  152.71 24.80    0.09   51.67   4.03 104,320.00\n",
      "2    4   5    801    0.74  74.34  239.64 26.22    0.09   64.76   5.33 103,054.00\n",
      "10  12   5    627    0.35  32.08  140.42 24.88    0.04   67.85  12.11  33,504.00\n",
      "--------------- 优化结束 -----------------\n"
     ]
    }
   ],
   "source": [
    "import re\n",
    "from datetime import datetime\n",
    "import global_variable as glv  # 全局变量模块\n",
    "import MyStrategy as ms\n",
    "\n",
    "kwargs = dict()\n",
    "# kwargs['G_FILE_PATH'] = \"datas\\\\ZJIF13-5m-20100416-20220427.csv\"\n",
    "# kwargs['G_DT_START'], kwargs['G_DT_END'] = '2013-01-01', '2016-02-01'\n",
    "# kwargs['G_FILE_PATH'] = \"datas\\\\DQC13-5m-20120709-20220330.csv\"\n",
    "# kwargs['G_DT_START'], kwargs['G_DT_END'] = '2013-01-01', '2014-02-01'\n",
    "# kwargs['G_DT_START'], kwargs['G_DT_END'] = '2017-01-01', '2022-02-01'\n",
    "# kwargs['G_DT_START'], kwargs['G_DT_END'] = '2015-01-01', '2022-02-01'\n",
    "# kwargs['G_FILE_PATH'] = \"datas\\\\ZQCF13-5m-20121224-20220415.csv\"\n",
    "# kwargs['G_DT_START'], kwargs['G_DT_END'] = '2013-01-01', '2022-02-01'\n",
    "# kwargs['G_FILE_PATH'] = \"datas\\\\SQRB13-5m-20121224-20220330.csv\"\n",
    "# kwargs['G_FILE_PATH'] = \"datas\\\\SQRBOC-5m-20090327-20211231.csv\"\n",
    "# kwargs['G_DT_START'], kwargs['G_DT_END'] = '2009-04-01', '2013-02-01'\n",
    "kwargs['G_FILE_PATH'] = \"datas\\\\SQCU13-5m-20150625-20220427.csv\"\n",
    "kwargs['G_DT_START'], kwargs['G_DT_END'] = '2015-06-25', '2019-02-01'\n",
    "\n",
    "kwargs['G_DT_DTFORMAT'] = '%Y-%m-%d %H:%M:%S'\n",
    "kwargs['G_COMM'] = 'comm_' + (re.findall(r\"datas\\\\([\\D]{2,4})\", kwargs['G_FILE_PATH'])[0]).lower()  # 合约信息,提前预设好 保证金,手续费率,合约乘数等\n",
    "kwargs['G_DT_TIMEFRAME'] = 'minutes'  # 重采样更大时间周期 choices=['minutes', 'daily', 'weekly', 'monthly']\n",
    "kwargs['G_DT_COMPRESSION'] = 5  # 合成bar的周期数\n",
    "kwargs['G_INI_CASH'] = 10000 * 10  # 初始金额\n",
    "kwargs['G_PLOT'] = False  # 是否绘图,可提供绘图参数:'style=\"candle\"'\n",
    "kwargs['G_QUANTSTATS'] = True  # 是否使用 quantstats 分析测试结果\n",
    "kwargs['G_P_LOG_FILE'] = False  # 是否输出日志到文件\n",
    "kwargs['G_P_LOG_PRINT'] = False  # 是否输出日志到控制台\n",
    "kwargs['G_OPTS'] = 1  # 是否参数调优\n",
    "kwargs['G_OPTS_IS_USE'] = 1  # 是否使用上次优化结果\n",
    "G_P_PW = [10, True, 2, 13, 1]  # 参数[默认值,是否优化,最小值,最大值,步长]\n",
    "G_P_PL = [5, False, 2, 13, 1]  # 参数[默认值,是否优化,最小值,最大值,步长]\n",
    "G_P_PWL = [10, False, 2, 5, 1]  # 参数[默认值,是否优化,最小值,最大值,步长]\n",
    "G_P_OJK = [1, False, 1, 3, 1]  # 参数[默认值,是否优化,最小值,最大值,步长]\n",
    "G_P_PO = [0, False, 0, 5, 1]  # 参数[默认值,是否优化,最小值,最大值,步长]\n",
    "G_P_PP = [0, False, 0, 5, 1]  # 参数[默认值,是否优化,最小值,最大值,步长]\n",
    "G_P_KPR = [True, {  # 关键价格[是否启用, {日期1: dict({'kps':[价格区间1]},日期2: {'kps':[价格区间2]},})]\n",
    "    datetime(2013, 10, 30).date(): {'kps': [2448, 2323], },\n",
    "    datetime(2015, 4, 30).date(): {'kps': [2323, 2450], },\n",
    "}]\n",
    "kwargs['G_P_PARAM'] = {\n",
    "    'pw': (range(G_P_PW[2], G_P_PW[3], G_P_PW[4]) if kwargs['G_OPTS'] and G_P_PW[1] else G_P_PW[0]),\n",
    "    'pl': (range(G_P_PL[2], G_P_PL[3], G_P_PL[4]) if kwargs['G_OPTS'] and G_P_PL[1] else G_P_PL[0]),\n",
    "    # 'pwl': (range(G_P_PWL[2], G_P_PWL[3], G_P_PWL[4]) if G_OPTS and G_P_PWL[1] else G_P_PWL[0]),\n",
    "    # 'ojk': (range(G_P_OJK[2], G_P_OJK[3], G_P_OJK[4]) if G_OPTS and G_P_OJK[1] else G_P_OJK[0]),\n",
    "    # 'po': (range(G_P_PO[2], G_P_PO[3], G_P_PO[4]) if G_OPTS and G_P_PO[1] else G_P_PO[0]),\n",
    "    # 'pp': (range(G_P_PP[2], G_P_PP[3], G_P_PP[4]) if G_OPTS and G_P_PP[1] else G_P_PP[0]),\n",
    "    # 'kpr': G_P_KPR[1] if G_P_KPR[0] else None\n",
    "\n",
    "}\n",
    "\n",
    "\"\"\"-------主函数---------\"\"\"\n",
    "if __name__ == '__main__':\n",
    "    glv.set('kwargs', kwargs)\n",
    "    ms.runstrat()"
   ]
  },
  {
   "cell_type": "code",
   "execution_count": 4,
   "metadata": {
    "pycharm": {
     "name": "#%%\n"
    }
   },
   "outputs": [
    {
     "name": "stdout",
     "output_type": "stream",
     "text": [
      "SQCU13-5m st=2015-06-25 end=2019-02-01 pam={pw6,pl5} dt=06.31.06\n",
      "quantstats 测试分析结果已保存至目录所在文件 quantstats-tearsheet.html\n"
     ]
    }
   ],
   "source": [
    "result_one_id = 4\n",
    "G_RESULTS_OPT = glv.get('G_RESULTS_OPT')\n",
    "# 使用quantstats 分析工具并保存到HTML文件\n",
    "G_COUNT += 1\n",
    "results_opt = G_RESULTS_OPT\n",
    "result_one = results_opt[result_one_id]\n",
    "# 使用quantstats 分析工具并保存到HTML文件\n",
    "ms.quantstats_reports_html(result_one=result_one)"
   ]
  },
  {
   "cell_type": "code",
   "execution_count": 2,
   "outputs": [
    {
     "name": "stdout",
     "output_type": "stream",
     "text": [
      "run time: 2022-05-09 06:41:33.594191\n",
      "D:\\study\\python-demo\\myQuant\\bt_backtrader\\datas\\SQCU13-5m-20150625-20220427.csv\n",
      "dt_start: 2015-06-25 dt_end: 2019-02-01\n",
      "test_kwargs: {'pw': 6, 'pl': 5}\n",
      "log_kwargs: {'log_logger': None, 'log_print': False, 'log_save': False}\n",
      "组合期初资金: 100,000.00\n",
      "Time used: 41.49617459999999\n",
      "\n",
      "--------------- 回测结果 -----------------\n",
      "组合期末资金: 641,943.00\n",
      "--------------- 累计收益率 -----------------\n",
      " Cumulative Return: 185.93\n",
      " pyFolio Cumulative Return%: 237.84\n",
      "\n",
      "--------------- 年度收益率 -----------------\n",
      " [2015,0.81] [2016,0.63] [2017,0.76] [2018,0.09] [2019,0.13]\n",
      "--------------- 最大回撤 -----------------\n",
      " [len,1825] [drawdown,2.92] [moneydown,19340.40] [len,27429] [drawdown,36.17] [moneydown,223878.40]\n",
      "--------------- 年化收益：日度收益 -----------------\n",
      " [rtot,1.86] [ravg,0.00] [rnorm,0.01] [rnorm100,0.58]\n",
      "--------------- 年化夏普比率：日度收益 -----------------\n",
      " [sharperatio,1.19]\n",
      "--------------- SharpeRatio_A -----------------\n",
      " [sharperatio,1.52]\n",
      "--------------- test end -----------------\n",
      "SQCU13-5m st=2015-06-25 end=2019-02-01 pam={pw6,pl5} dt=06.42.15\n",
      "quantstats 测试分析结果已保存至目录所在文件 quantstats-tearsheet.html\n"
     ]
    }
   ],
   "source": [
    "import re\n",
    "from datetime import datetime\n",
    "import global_variable as glv  # 全局变量模块\n",
    "import MyStrategy as ms\n",
    "\n",
    "kwargs = dict()\n",
    "# kwargs['G_FILE_PATH'] = \"datas\\\\ZJIF13-5m-20100416-20220427.csv\"\n",
    "# kwargs['G_DT_START'], kwargs['G_DT_END'] = '2013-01-01', '2016-02-01'\n",
    "# kwargs['G_FILE_PATH'] = \"datas\\\\DQC13-5m-20120709-20220330.csv\"\n",
    "# kwargs['G_DT_START'], kwargs['G_DT_END'] = '2013-01-01', '2014-02-01'\n",
    "# kwargs['G_DT_START'], kwargs['G_DT_END'] = '2017-01-01', '2022-02-01'\n",
    "# kwargs['G_DT_START'], kwargs['G_DT_END'] = '2015-01-01', '2022-02-01'\n",
    "# kwargs['G_FILE_PATH'] = \"datas\\\\ZQCF13-5m-20121224-20220415.csv\"\n",
    "# kwargs['G_DT_START'], kwargs['G_DT_END'] = '2013-01-01', '2022-02-01'\n",
    "# kwargs['G_FILE_PATH'] = \"datas\\\\SQRB13-5m-20121224-20220330.csv\"\n",
    "# kwargs['G_FILE_PATH'] = \"datas\\\\SQRBOC-5m-20090327-20211231.csv\"\n",
    "# kwargs['G_DT_START'], kwargs['G_DT_END'] = '2009-04-01', '2013-02-01'\n",
    "kwargs['G_FILE_PATH'] = \"datas\\\\SQCU13-5m-20150625-20220427.csv\"\n",
    "kwargs['G_DT_START'], kwargs['G_DT_END'] = '2015-06-25', '2019-02-01'\n",
    "\n",
    "kwargs['G_DT_DTFORMAT'] = '%Y-%m-%d %H:%M:%S'\n",
    "kwargs['G_COMM'] = 'comm_' + (re.findall(r\"datas\\\\([\\D]{2,4})\", kwargs['G_FILE_PATH'])[0]).lower()  # 合约信息,提前预设好 保证金,手续费率,合约乘数等\n",
    "kwargs['G_DT_TIMEFRAME'] = 'minutes'  # 重采样更大时间周期 choices=['minutes', 'daily', 'weekly', 'monthly']\n",
    "kwargs['G_DT_COMPRESSION'] = 5  # 合成bar的周期数\n",
    "kwargs['G_INI_CASH'] = 10000 * 10  # 初始金额\n",
    "kwargs['G_PLOT'] = False  # 是否绘图,可提供绘图参数:'style=\"candle\"'\n",
    "kwargs['G_QUANTSTATS'] = True  # 是否使用 quantstats 分析测试结果\n",
    "kwargs['G_P_LOG_FILE'] = False  # 是否输出日志到文件\n",
    "kwargs['G_P_LOG_PRINT'] = False  # 是否输出日志到控制台\n",
    "kwargs['G_OPTS'] = 0  # 是否参数调优\n",
    "kwargs['G_OPTS_IS_USE'] = 0  # 是否使用上次优化结果\n",
    "G_P_PW = [6, True, 2, 13, 1]  # 参数[默认值,是否优化,最小值,最大值,步长]\n",
    "G_P_PL = [5, True, 2, 13, 1]  # 参数[默认值,是否优化,最小值,最大值,步长]\n",
    "G_P_PWL = [10, False, 2, 5, 1]  # 参数[默认值,是否优化,最小值,最大值,步长]\n",
    "G_P_OJK = [1, False, 1, 3, 1]  # 参数[默认值,是否优化,最小值,最大值,步长]\n",
    "G_P_PO = [0, False, 0, 5, 1]  # 参数[默认值,是否优化,最小值,最大值,步长]\n",
    "G_P_PP = [0, False, 0, 5, 1]  # 参数[默认值,是否优化,最小值,最大值,步长]\n",
    "G_P_KPR = [True, {  # 关键价格[是否启用, {日期1: dict({'kps':[价格区间1]},日期2: {'kps':[价格区间2]},})]\n",
    "    datetime(2013, 10, 30).date(): {'kps': [2448, 2323], },\n",
    "    datetime(2015, 4, 30).date(): {'kps': [2323, 2450], },\n",
    "}]\n",
    "kwargs['G_P_PARAM'] = {\n",
    "    'pw': (range(G_P_PW[2], G_P_PW[3], G_P_PW[4]) if kwargs['G_OPTS'] and G_P_PW[1] else G_P_PW[0]),\n",
    "    'pl': (range(G_P_PL[2], G_P_PL[3], G_P_PL[4]) if kwargs['G_OPTS'] and G_P_PL[1] else G_P_PL[0]),\n",
    "    # 'pwl': (range(G_P_PWL[2], G_P_PWL[3], G_P_PWL[4]) if G_OPTS and G_P_PWL[1] else G_P_PWL[0]),\n",
    "    # 'ojk': (range(G_P_OJK[2], G_P_OJK[3], G_P_OJK[4]) if G_OPTS and G_P_OJK[1] else G_P_OJK[0]),\n",
    "    # 'po': (range(G_P_PO[2], G_P_PO[3], G_P_PO[4]) if G_OPTS and G_P_PO[1] else G_P_PO[0]),\n",
    "    # 'pp': (range(G_P_PP[2], G_P_PP[3], G_P_PP[4]) if G_OPTS and G_P_PP[1] else G_P_PP[0]),\n",
    "    # 'kpr': G_P_KPR[1] if G_P_KPR[0] else None\n",
    "\n",
    "}\n",
    "\n",
    "\"\"\"-------主函数---------\"\"\"\n",
    "if __name__ == '__main__':\n",
    "    glv.set('kwargs', kwargs)\n",
    "    ms.runstrat()"
   ],
   "metadata": {
    "collapsed": false,
    "pycharm": {
     "name": "#%%\n"
    }
   }
  },
  {
   "cell_type": "code",
   "execution_count": null,
   "outputs": [],
   "source": [],
   "metadata": {
    "collapsed": false,
    "pycharm": {
     "name": "#%%\n"
    }
   }
  }
 ],
 "metadata": {
  "kernelspec": {
   "display_name": "Python [conda env:py39] *",
   "language": "python",
   "name": "conda-env-py39-py"
  },
  "language_info": {
   "codemirror_mode": {
    "name": "ipython",
    "version": 3
   },
   "file_extension": ".py",
   "mimetype": "text/x-python",
   "name": "python",
   "nbconvert_exporter": "python",
   "pygments_lexer": "ipython3",
   "version": "3.9.7"
  },
  "toc": {
   "base_numbering": 1,
   "nav_menu": {},
   "number_sections": true,
   "sideBar": true,
   "skip_h1_title": false,
   "title_cell": "Table of Contents",
   "title_sidebar": "Contents",
   "toc_cell": false,
   "toc_position": {},
   "toc_section_display": true,
   "toc_window_display": false
  }
 },
 "nbformat": 4,
 "nbformat_minor": 1
}