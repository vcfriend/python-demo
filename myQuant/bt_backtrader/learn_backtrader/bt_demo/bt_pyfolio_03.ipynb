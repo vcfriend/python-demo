{
 "cells": [
  {
   "cell_type": "code",
   "execution_count": 1,
   "metadata": {},
   "outputs": [],
   "source": [
    "\n",
    "global GLOBALS_DICT\n",
    "G_COUNT = 0  # jupyter运行次数统计\n",
    "G_RESULT_ONE = None  # 回测大脑返回\n",
    "G_RESULTS_OPT = None  # 参数调优大脑返回\n",
    "res_df = None  # 筛选后的参数优化结果"
   ]
  },
  {
   "cell_type": "code",
   "execution_count": 1,
   "metadata": {
    "pycharm": {
     "name": "#%%\n"
    }
   },
   "outputs": [
    {
     "name": "stdout",
     "output_type": "stream",
     "text": [
      "run time: 2022-05-15 23:09:57.228402\n",
      "dt_format: %Y-%m-%d %H:%M:%S dt_start: 2015-06-25 dt_end: 2016-02-01\n",
      "D:\\study\\python-demo\\myQuant\\bt_backtrader\\datas\\SQCU13-5m-20150625-20220427.csv\n",
      "opts_kwargs: {'pw': range(2, 13), 'pl': 5, 'ok': 10}\n",
      "\n",
      "--------------- 参数优化结果 -----------------\n",
      "Optimum usage time: 10.08s\n",
      "<class 'pandas.core.frame.DataFrame'>\n",
      "Int64Index: 11 entries, 0 to 5\n",
      "Data columns (total 5 columns):\n",
      " #   Column  Non-Null Count  Dtype  \n",
      "---  ------  --------------  -----  \n",
      " 0   pw      11 non-null     int32  \n",
      " 1   pl      11 non-null     int32  \n",
      " 2   total   11 non-null     int32  \n",
      " 3   sharpe  11 non-null     float64\n",
      " 4   rtot%   11 non-null     float64\n",
      "dtypes: float64(2), int32(3)\n",
      "memory usage: 396.0 bytes\n",
      "datas\\SQCU_5m_2015-06-25_2016-02-01_{pw(2,13),pl5,ok10}_rs_opt.csv\n",
      "    pw  pl  total  sharpe  rtot%  py_rt%  won%  rnorm%  maxDD%   comm%     pnl_net\n",
      "id                                                                                \n",
      "0    2   5    177    0.89  16.29   20.64 19.77   30.11    0.00   73.48  150,346.73\n",
      "8   10   5    119    1.04  12.86   14.49 19.33   23.77    0.00   43.18  110,763.36\n",
      "3    5   5    145    0.73  10.39   13.07 20.00   19.20    0.00   87.60   82,982.10\n",
      "7    9   5    129    0.43   4.53    6.26 17.83    8.36    0.00  270.32   19,765.50\n",
      "4    6   5    154    0.36   3.80    6.55 16.88    7.02    0.00  595.00   12,245.25\n",
      "9   11   5    134   -0.01  -1.96   -0.15 16.42   -3.62    0.00 -118.46  -39,331.87\n",
      "6    8   5    126   -0.16  -3.86   -2.26 16.67   -7.12    0.00  -92.95  -57,772.60\n",
      "1    3   5    178   -0.08  -5.05   -1.67 15.73   -9.33    0.00 -123.96  -69,186.36\n",
      "10  12   5    140   -0.19  -5.77   -3.29 15.00  -10.64    0.00  -64.94  -75,949.24\n",
      "2    4   5    170   -0.54 -10.17   -8.24 17.65  -18.76    0.00  -62.59 -116,629.54\n",
      "5    7   5    147   -0.64 -13.96  -11.35 15.65  -25.74    0.00  -37.90 -150,231.88\n",
      "--------------- 优化结束 -----------------\n"
     ]
    }
   ],
   "source": [
    "import re\n",
    "from datetime import datetime\n",
    "from bt_demo.btlin import global_variable_constant as gvc  # 全局变量常量枚举管理模块\n",
    "import MyStrategy as ms\n",
    "\n",
    "kwargs = dict()\n",
    "# kwargs['G_FILE_PATH'] = \"datas\\\\ZJIF13-5m-20100416-20220427.csv\"\n",
    "# kwargs['G_DT_START'], kwargs['G_DT_END'] = '2013-01-01', '2016-02-01'\n",
    "# kwargs['G_FILE_PATH'] = \"datas\\\\DQC13-5m-20120709-20220330.csv\"\n",
    "# kwargs['G_DT_START'], kwargs['G_DT_END'] = '2013-01-01', '2014-02-01'\n",
    "# kwargs['G_DT_START'], kwargs['G_DT_END'] = '2017-01-01', '2022-02-01'\n",
    "# kwargs['G_DT_START'], kwargs['G_DT_END'] = '2015-01-01', '2022-02-01'\n",
    "# kwargs['G_FILE_PATH'] = \"datas\\\\ZQCF13-5m-20121224-20220415.csv\"\n",
    "# kwargs['G_DT_START'], kwargs['G_DT_END'] = '2013-01-01', '2022-02-01'\n",
    "# kwargs['G_FILE_PATH'] = \"datas\\\\SQRB13-5m-20121224-20220330.csv\"\n",
    "# kwargs['G_FILE_PATH'] = \"datas\\\\SQRB-OC-5m-20090327-20211231.csv\"\n",
    "# kwargs['G_DT_START'], kwargs['G_DT_END'] = '2009-04-01', '2013-02-01'\n",
    "kwargs['G_FILE_PATH'] = \"datas\\\\SQCU13-5m-20150625-20220427.csv\"\n",
    "# kwargs['G_DT_START'], kwargs['G_DT_END'] = '2015-06-25', '2019-02-01'\n",
    "kwargs['G_DT_START'], kwargs['G_DT_END'] = '2015-06-25', '2016-02-01'\n",
    "\n",
    "kwargs['G_DT_DTFORMAT'] = '%Y-%m-%d %H:%M:%S'\n",
    "kwargs['G_CONT_ID'] = (re.findall(r\"datas\\\\([\\D]{2,4})\", kwargs['G_FILE_PATH'])[0])  # 从文件名中提取2-4个非数字字符组成的合约ID\n",
    "kwargs['G_DT_TIMEFRAME'] = 'minutes'  # 重采样更大时间周期 choices=['minutes', 'daily', 'weekly', 'monthly']\n",
    "kwargs['G_DT_COMPRESSION'] = 5  # 合成bar的周期数\n",
    "kwargs['G_INI_CASH'] = 10000 * 100  # 初始金额\n",
    "kwargs['G_PLOT'] = False  # 是否绘图,可提供绘图参数:'style=\"candle\"'\n",
    "kwargs['G_QUANTSTATS'] = True  # 是否使用 quantstats 分析测试结果\n",
    "kwargs['G_P_LOG_FILE'] = False  # 是否输出日志到文件\n",
    "kwargs['G_P_LOG_PRINT'] = False  # 是否输出日志到控制台\n",
    "kwargs['G_OPTS'] = 1  # 是否参数调优\n",
    "kwargs['G_OPTS_IS_USE'] = 10  # 是否使用上次优化结果\n",
    "G_P_PW = [10, True, 2, 13, 1]  # 参数[默认值,是否优化,最小值,最大值,步长]\n",
    "G_P_PL = [5, False, 2, 13, 1]  # 参数[默认值,是否优化,最小值,最大值,步长]\n",
    "G_P_OK = [10, False, 10, 100, 10]  # 参数[默认值,是否优化,最小值,最大值,步长]\n",
    "G_P_PWL = [10, False, 2, 5, 1]  # 参数[默认值,是否优化,最小值,最大值,步长]\n",
    "G_P_OJK = [1, False, 1, 3, 1]  # 参数[默认值,是否优化,最小值,最大值,步长]\n",
    "G_P_PO = [0, False, 0, 5, 1]  # 参数[默认值,是否优化,最小值,最大值,步长]\n",
    "G_P_PP = [0, False, 0, 5, 1]  # 参数[默认值,是否优化,最小值,最大值,步长]\n",
    "G_P_KPR = [True, {  # 关键价格[是否启用, {日期1: dict({'kps':[价格区间1]},日期2: {'kps':[价格区间2]},})]\n",
    "    datetime(2013, 10, 30).date(): {'kps': [2448, 2323], },\n",
    "    datetime(2015, 4, 30).date(): {'kps': [2323, 2450], },\n",
    "}]\n",
    "kwargs['G_P_PARAM'] = {\n",
    "    'pw': (range(G_P_PW[2], G_P_PW[3], G_P_PW[4]) if kwargs['G_OPTS'] and G_P_PW[1] else G_P_PW[0]),\n",
    "    'pl': (range(G_P_PL[2], G_P_PL[3], G_P_PL[4]) if kwargs['G_OPTS'] and G_P_PL[1] else G_P_PL[0]),\n",
    "    'ok': (range(G_P_OK[2], G_P_OK[3], G_P_OK[4]) if kwargs['G_OPTS'] and G_P_OK[1] else G_P_OK[0]),\n",
    "    # 'pwl': (range(G_P_PWL[2], G_P_PWL[3], G_P_PWL[4]) if G_OPTS and G_P_PWL[1] else G_P_PWL[0]),\n",
    "    # 'ojk': (range(G_P_OJK[2], G_P_OJK[3], G_P_OJK[4]) if G_OPTS and G_P_OJK[1] else G_P_OJK[0]),\n",
    "    # 'po': (range(G_P_PO[2], G_P_PO[3], G_P_PO[4]) if G_OPTS and G_P_PO[1] else G_P_PO[0]),\n",
    "    # 'pp': (range(G_P_PP[2], G_P_PP[3], G_P_PP[4]) if G_OPTS and G_P_PP[1] else G_P_PP[0]),\n",
    "    # 'kpr': G_P_KPR[1] if G_P_KPR[0] else None\n",
    "\n",
    "}\n",
    "\n",
    "\"\"\"-------主函数---------\"\"\"\n",
    "if __name__ == '__main__':\n",
    "    gvc.init()\n",
    "    gvc.set('kwargs', kwargs)\n",
    "    ms.runstrat()"
   ]
  },
  {
   "cell_type": "code",
   "execution_count": 4,
   "metadata": {
    "pycharm": {
     "name": "#%%\n"
    }
   },
   "outputs": [
    {
     "name": "stdout",
     "output_type": "stream",
     "text": [
      "SQCU13-5m st=2015-06-25 end=2019-02-01 pam={pw6,pl5} dt=06.31.06\n",
      "quantstats 测试分析结果已保存至目录所在文件 quantstats-tearsheet.html\n"
     ]
    }
   ],
   "source": [
    "result_one_id = 4\n",
    "G_RESULTS_OPT = gvc.get('G_RESULTS_OPT')\n",
    "# 使用quantstats 分析工具并保存到HTML文件\n",
    "G_COUNT += 1\n",
    "results_opt = G_RESULTS_OPT\n",
    "result_one = results_opt[result_one_id]\n",
    "# 使用quantstats 分析工具并保存到HTML文件\n",
    "ms.quantstats_reports_html(result_one=result_one)"
   ]
  },
  {
   "cell_type": "code",
   "execution_count": 8,
   "outputs": [
    {
     "name": "stdout",
     "output_type": "stream",
     "text": [
      "run time: 2022-05-09 07:31:04.616781\n",
      "D:\\study\\python-demo\\myQuant\\bt_backtrader\\datas\\SQCU13-5m-20150625-20220427.csv\n",
      "dt_start: 2019-06-25 dt_end: 2022-02-01\n",
      "opts_kwargs: {'pw': 6, 'pl': 5, 'ok': 30, 'po': range(-5, 6)}\n",
      "--------------- 参数优化结果 -----------------\n",
      "\n",
      "Time used: 34.71247829999993\n",
      "<class 'pandas.core.frame.DataFrame'>\n",
      "Int64Index: 11 entries, 0 to 10\n",
      "Data columns (total 5 columns):\n",
      " #   Column  Non-Null Count  Dtype  \n",
      "---  ------  --------------  -----  \n",
      " 0   po      11 non-null     int32  \n",
      " 1   pw      11 non-null     int32  \n",
      " 2   pl      11 non-null     int32  \n",
      " 3   total   11 non-null     int32  \n",
      " 4   sharpe  11 non-null     float64\n",
      "dtypes: float64(1), int32(4)\n",
      "memory usage: 352.0 bytes\n",
      "datas\\SQCU13_5m_2019-06-25_2022-02-01_{pw6,pl5,ok30,po(-5,6)}_opt.csv\n",
      "    po  pw  pl  total  sharpe  rtot%    py_rt%  won%  rnorm%  maxDD%  comm%    pnl_net\n",
      "id                                                                                    \n",
      "0   -5   6   5     67    0.77 120.24 19,174.05 22.39    0.22  133.85  -0.72 -55,823.20\n",
      "1   -4   6   5     67    0.77 120.24 19,174.05 22.39    0.22  133.85  -0.72 -55,823.20\n",
      "2   -3   6   5     67    0.77 120.24 19,174.05 22.39    0.22  133.85  -0.72 -55,823.20\n",
      "3   -2   6   5     67    0.77 120.24 19,174.05 22.39    0.22  133.85  -0.72 -55,823.20\n",
      "4   -1   6   5     67    0.77 120.24 19,174.05 22.39    0.22  133.85  -0.72 -55,823.20\n",
      "5    0   6   5     67    0.77 120.24 19,174.05 22.39    0.22  133.85  -0.72 -55,823.20\n",
      "6    1   6   5     67    0.77 120.24 19,174.05 22.39    0.22  133.85  -0.72 -55,823.20\n",
      "7    2   6   5     67    0.77 120.24 19,174.05 22.39    0.22  133.85  -0.72 -55,823.20\n",
      "8    3   6   5     67    0.77 120.24 19,174.05 22.39    0.22  133.85  -0.72 -55,823.20\n",
      "9    4   6   5     67    0.77 120.24 19,174.05 22.39    0.22  133.85  -0.72 -55,823.20\n",
      "10   5   6   5     67    0.77 120.24 19,174.05 22.39    0.22  133.85  -0.72 -55,823.20\n",
      "--------------- 优化结束 -----------------\n"
     ]
    }
   ],
   "source": [
    "import re\n",
    "from datetime import datetime\n",
    "from bt_demo.btlin import global_variable_constant as gvc  # 全局变量常量枚举管理模块\n",
    "import MyStrategy as ms\n",
    "\n",
    "kwargs = dict()\n",
    "# kwargs['G_FILE_PATH'] = \"datas\\\\ZJIF13-5m-20100416-20220427.csv\"\n",
    "# kwargs['G_DT_START'], kwargs['G_DT_END'] = '2013-01-01', '2016-02-01'\n",
    "# kwargs['G_FILE_PATH'] = \"datas\\\\DQC13-5m-20120709-20220330.csv\"\n",
    "# kwargs['G_DT_START'], kwargs['G_DT_END'] = '2013-01-01', '2014-02-01'\n",
    "# kwargs['G_DT_START'], kwargs['G_DT_END'] = '2017-01-01', '2022-02-01'\n",
    "# kwargs['G_DT_START'], kwargs['G_DT_END'] = '2015-01-01', '2022-02-01'\n",
    "# kwargs['G_FILE_PATH'] = \"datas\\\\ZQCF13-5m-20121224-20220415.csv\"\n",
    "# kwargs['G_DT_START'], kwargs['G_DT_END'] = '2013-01-01', '2022-02-01'\n",
    "# kwargs['G_FILE_PATH'] = \"datas\\\\SQRB13-5m-20121224-20220330.csv\"\n",
    "# kwargs['G_FILE_PATH'] = \"datas\\\\SQRB13-OC-5m-20090327-20211231.csv\"\n",
    "# kwargs['G_DT_START'], kwargs['G_DT_END'] = '2009-04-01', '2013-02-01'\n",
    "kwargs['G_FILE_PATH'] = \"datas\\\\SQCU13-5m-20150625-20220427.csv\"\n",
    "# kwargs['G_DT_START'], kwargs['G_DT_END'] = '2015-06-25', '2019-02-01'\n",
    "kwargs['G_DT_START'], kwargs['G_DT_END'] = '2019-06-25', '2022-02-01'\n",
    "\n",
    "kwargs['G_DT_DTFORMAT'] = '%Y-%m-%d %H:%M:%S'\n",
    "kwargs['G_CONT_ID'] = (re.findall(r\"datas\\\\([\\D]{2,4})\", kwargs['G_FILE_PATH'])[0])  # 从文件名中提取2-4个非数字字符组成的合约ID\n",
    "kwargs['G_DT_TIMEFRAME'] = 'minutes'  # 重采样更大时间周期 choices=['minutes', 'daily', 'weekly', 'monthly']\n",
    "kwargs['G_DT_COMPRESSION'] = 5  # 合成bar的周期数\n",
    "kwargs['G_INI_CASH'] = 10000 * 100  # 初始金额\n",
    "kwargs['G_PLOT'] = False  # 是否绘图,可提供绘图参数:'style=\"candle\"'\n",
    "kwargs['G_QUANTSTATS'] = True  # 是否使用 quantstats 分析测试结果\n",
    "kwargs['G_P_LOG_FILE'] = False  # 是否输出日志到文件\n",
    "kwargs['G_P_LOG_PRINT'] = False  # 是否输出日志到控制台\n",
    "kwargs['G_OPTS'] = 1  # 是否参数调优\n",
    "kwargs['G_OPTS_IS_USE'] = 10  # 是否使用上次优化结果\n",
    "G_P_PW = [10, True, 2, 13, 1]  # 参数[默认值,是否优化,最小值,最大值,步长]\n",
    "G_P_PL = [5, False, 2, 13, 1]  # 参数[默认值,是否优化,最小值,最大值,步长]\n",
    "G_P_OK = [10, False, 10, 100, 10]  # 参数[默认值,是否优化,最小值,最大值,步长]\n",
    "G_P_PWL = [10, False, 2, 5, 1]  # 参数[默认值,是否优化,最小值,最大值,步长]\n",
    "G_P_OJK = [1, False, 1, 3, 1]  # 参数[默认值,是否优化,最小值,最大值,步长]\n",
    "G_P_PO = [0, False, 0, 5, 1]  # 参数[默认值,是否优化,最小值,最大值,步长]\n",
    "G_P_PP = [0, False, 0, 5, 1]  # 参数[默认值,是否优化,最小值,最大值,步长]\n",
    "G_P_KPR = [True, {  # 关键价格[是否启用, {日期1: dict({'kps':[价格区间1]},日期2: {'kps':[价格区间2]},})]\n",
    "    datetime(2013, 10, 30).date(): {'kps': [2448, 2323], },\n",
    "    datetime(2015, 4, 30).date(): {'kps': [2323, 2450], },\n",
    "}]\n",
    "kwargs['G_P_PARAM'] = {\n",
    "    'pw': (range(G_P_PW[2], G_P_PW[3], G_P_PW[4]) if kwargs['G_OPTS'] and G_P_PW[1] else G_P_PW[0]),\n",
    "    'pl': (range(G_P_PL[2], G_P_PL[3], G_P_PL[4]) if kwargs['G_OPTS'] and G_P_PL[1] else G_P_PL[0]),\n",
    "    'ok': (range(G_P_OK[2], G_P_OK[3], G_P_OK[4]) if kwargs['G_OPTS'] and G_P_OK[1] else G_P_OK[0]),\n",
    "    # 'pwl': (range(G_P_PWL[2], G_P_PWL[3], G_P_PWL[4]) if G_OPTS and G_P_PWL[1] else G_P_PWL[0]),\n",
    "    # 'ojk': (range(G_P_OJK[2], G_P_OJK[3], G_P_OJK[4]) if G_OPTS and G_P_OJK[1] else G_P_OJK[0]),\n",
    "    # 'po': (range(G_P_PO[2], G_P_PO[3], G_P_PO[4]) if G_OPTS and G_P_PO[1] else G_P_PO[0]),\n",
    "    # 'pp': (range(G_P_PP[2], G_P_PP[3], G_P_PP[4]) if G_OPTS and G_P_PP[1] else G_P_PP[0]),\n",
    "    # 'kpr': G_P_KPR[1] if G_P_KPR[0] else None\n",
    "\n",
    "}\n",
    "\n",
    "\"\"\"-------主函数---------\"\"\"\n",
    "if __name__ == '__main__':\n",
    "    gvc.set('kwargs', kwargs)\n",
    "    ms.runstrat()"
   ],
   "metadata": {
    "collapsed": false,
    "pycharm": {
     "name": "#%%\n"
    }
   }
  },
  {
   "cell_type": "code",
   "execution_count": null,
   "outputs": [],
   "source": [],
   "metadata": {
    "collapsed": false,
    "pycharm": {
     "name": "#%%\n"
    }
   }
  }
 ],
 "metadata": {
  "kernelspec": {
   "display_name": "Python [conda env:py39] *",
   "language": "python",
   "name": "conda-env-py39-py"
  },
  "language_info": {
   "codemirror_mode": {
    "name": "ipython",
    "version": 3
   },
   "file_extension": ".py",
   "mimetype": "text/x-python",
   "name": "python",
   "nbconvert_exporter": "python",
   "pygments_lexer": "ipython3",
   "version": "3.9.7"
  },
  "toc": {
   "base_numbering": 1,
   "nav_menu": {},
   "number_sections": true,
   "sideBar": true,
   "skip_h1_title": false,
   "title_cell": "Table of Contents",
   "title_sidebar": "Contents",
   "toc_cell": false,
   "toc_position": {},
   "toc_section_display": true,
   "toc_window_display": false
  }
 },
 "nbformat": 4,
 "nbformat_minor": 1
}