{
 "cells": [
  {
   "cell_type": "code",
   "execution_count": null,
   "outputs": [],
   "source": [
    "# Lesson2：Backtrader来啦：数据篇\n",
    "# link: https://mp.weixin.qq.com/s/NTct2_AYhz4Z8q5MYtBQcA"
   ],
   "metadata": {
    "collapsed": false,
    "pycharm": {
     "name": "#%%\n"
    }
   }
  },
  {
   "cell_type": "code",
   "execution_count": 1,
   "outputs": [],
   "source": [
    "import backtrader as bt\n",
    "import pandas as pd\n",
    "import datetime\n",
    "\n",
    "import tushare as ts\n",
    "import json\n",
    "\n",
    "# TOKEN = '341d66d4586929fa56f3f987e6c0d5bd23fb2a88f5a48b83904d134b'\n",
    "with open(r'Data/tushare_token.json', 'r') as load_json:\n",
    "    token_json = json.load(load_json)\n",
    "token = token_json['TOKEN']\n",
    "# token = 'cd9e075edc5e5106a21a9c38b42a4e92744e08e91405c977e52e69ff'\n",
    "ts.set_token(token)\n",
    "pro = ts.pro_api(token)\n",
    "\n"
   ],
   "metadata": {
    "collapsed": false,
    "pycharm": {
     "name": "#%%\n"
    }
   }
  },
  {
   "cell_type": "code",
   "execution_count": 171,
   "outputs": [],
   "source": [
    "\n",
    "# 使用Tushare获取数据，要严格保持OHLC的格式\n",
    "\n",
    "def get_data_bytushare(code, start_date, end_date):\n",
    "    df = ts.pro_bar(ts_code=code, adj='qfq', start_date=start_date, end_date=end_date)\n",
    "    df = df[['trade_date', 'open', 'high', 'low', 'close', 'vol']]\n",
    "    df.columns = ['trade_date', 'open', 'high', 'low', 'close', 'volume']\n",
    "    df.trade_date = pd.to_datetime(df.trade_date)\n",
    "    df.index = df.trade_date\n",
    "    df.sort_index(inplace=True)\n",
    "    df.fillna(0.0, inplace=True)\n",
    "\n",
    "    return df\n",
    "\n",
    "\n",
    "# 恒瑞医药\n",
    "data1 = pd.DataFrame(get_data_bytushare('600276.SH', '20210101', '20211015'))\n",
    "# 贵州茅台\n",
    "data2 = pd.DataFrame(get_data_bytushare('600519.SH', '20210101', '20211015'))\n",
    "# 海天味业\n",
    "data3 = pd.DataFrame(get_data_bytushare('603288.SH', '20210101', '20211015'))"
   ],
   "metadata": {
    "collapsed": false,
    "pycharm": {
     "name": "#%%\n"
    }
   }
  },
  {
   "cell_type": "code",
   "execution_count": 172,
   "outputs": [
    {
     "name": "stdout",
     "output_type": "stream",
     "text": [
      "<bound method DataFrame.info of            trade_date     open     high      low    close     volume\n",
      "trade_date                                                          \n",
      "2021-01-04 2021-01-04  93.1054  94.5188  92.2824  92.4486  363422.65\n",
      "2021-01-05 2021-01-05  92.4486  96.9879  92.4403  94.1363  417627.95\n",
      "2021-01-06 2021-01-06  94.1529  96.3311  93.1137  94.5437  283700.17\n",
      "2021-01-07 2021-01-07  95.4915  95.6079  92.9475  95.6079  329276.05\n",
      "2021-01-08 2021-01-08  95.7076  97.1625  93.2384  94.1280  307676.05\n",
      "...               ...      ...      ...      ...      ...        ...\n",
      "2021-10-11 2021-10-11  54.1900  55.5400  53.0100  53.6100  739909.26\n",
      "2021-10-12 2021-10-12  53.7500  54.7000  53.1000  53.8000  549720.50\n",
      "2021-10-13 2021-10-13  53.5500  53.5500  51.5500  52.9500  607656.13\n",
      "2021-10-14 2021-10-14  52.4500  52.6900  51.0600  51.0600  561685.08\n",
      "2021-10-15 2021-10-15  50.4000  51.3700  49.7400  50.0500  569811.51\n",
      "\n",
      "[188 rows x 6 columns]>\n"
     ]
    }
   ],
   "source": [
    "print(data1.info)"
   ],
   "metadata": {
    "collapsed": false,
    "pycharm": {
     "name": "#%%\n"
    }
   }
  },
  {
   "cell_type": "code",
   "execution_count": 265,
   "outputs": [
    {
     "name": "stdout",
     "output_type": "stream",
     "text": [
      "-------------self.datas-------------\n",
      "[<backtrader.feeds.pandafeed.PandasData object at 0x000002344BAE3730>, <backtrader.feeds.pandafeed.PandasData object at 0x000002344BA44340>]\n",
      "-------------self.data-------------\n",
      "sh600276 <backtrader.feeds.pandafeed.PandasData object at 0x000002344BAE3730>\n",
      "-------------self.data0-------------\n",
      "sh600276 <backtrader.feeds.pandafeed.PandasData object at 0x000002344BAE3730>\n",
      "-------------self.datas[0]-------------\n",
      "sh600276 <backtrader.feeds.pandafeed.PandasData object at 0x000002344BAE3730>\n",
      "-------------self.datas[1]-------------\n",
      "sh600519 <backtrader.feeds.pandafeed.PandasData object at 0x000002344BA44340>\n",
      "-------------self.datas[-1]-------------\n",
      "sh600519 <backtrader.feeds.pandafeed.PandasData object at 0x000002344BA44340>\n",
      "sh600519 array('d', [737794.0, 737795.0, 737796.0, 737797.0, 737798.0, 737801.0, 737802.0, 737803.0, 737804.0, 737805.0, 737808.0, 737809.0, 737810.0, 737811.0, 737812.0, 737815.0, 737816.0, 737817.0, 737818.0, 737819.0])\n",
      "-------------self.dnames.sh600276_1W-------------\n",
      "-------------self.datas[-2]-------------\n",
      "sh600276 <backtrader.feeds.pandafeed.PandasData object at 0x000002344BAE3730>\n",
      "sh600276 array('d', [92.4486, 94.1363, 94.5437, 95.6079, 94.128, 92.5318, 94.8596, 93.5876, 91.6006, 91.3097, 89.6469, 87.2526, 88.1006, 89.9129, 93.6126, 92.6565, 88.9569, 88.6409, 87.0115, 86.2632])\n"
     ]
    }
   ],
   "source": [
    "# 实例化策略\n",
    "cerebro = bt.Cerebro()\n",
    "\n",
    "st_date = datetime.datetime(2021, 1, 1)\n",
    "ed_date = datetime.datetime(2021, 1, 30)\n",
    "\n",
    "# 添加 600276.SH 的行情数据\n",
    "datafeed1 = bt.feeds.PandasData(dataname=data1, fromdate=st_date, todate=ed_date)\n",
    "cerebro.adddata(datafeed1, name='sh600276')\n",
    "\n",
    "# 添加 600519.SH 的行情数据\n",
    "datafeed2 = bt.feeds.PandasData(dataname=data2, fromdate=st_date, todate=ed_date)\n",
    "cerebro.adddata(datafeed2, name='sh600519')\n",
    "\n",
    "# 添加 sh600276_1W 的周线行情数据,由 sh600276日行情重新采样转换而来\n",
    "datafeed3 = cerebro.resampledata(datafeed1, name='sh600276_1W', timeframe=bt.TimeFrame.Weeks)\n",
    "\n",
    "# 第一章 DataFeed的数据结构\n",
    "\n",
    "# 第1.1节：验证 data 的结构\n",
    "class TestStrategy11(bt.Strategy):\n",
    "    def __init__(self):\n",
    "        # 打印数据集和数据集对应的名称\n",
    "        print(\"-------------self.datas-------------\")\n",
    "        print(self.datas)\n",
    "        print(\"-------------self.data-------------\")\n",
    "        print(self.data._name, self.data)  # 返回第一个导入的数据表格，缩写形式\n",
    "        print(\"-------------self.data0-------------\")\n",
    "        print(self.data0._name, self.data0)  # 返回第一个导入的数据表格，缩写形式\n",
    "        print(\"-------------self.datas[0]-------------\")\n",
    "        print(self.datas[0]._name, self.datas[0])  # 返回第一个导入的数据表格，常规形式\n",
    "        print(\"-------------self.datas[1]-------------\")\n",
    "        print(self.datas[1]._name, self.datas[1])  # 返回第二个导入的数据表格，常规形式\n",
    "        print(\"-------------self.datas[-1]-------------\")\n",
    "        print(self.datas[-1]._name, self.datas[-1])  # 返回最后一个导入的数据表格\n",
    "        print(self.datas[-1]._name, self.datas[-1].lines.datetime.array)  # 返回最后一个导入的数据表格\n",
    "        print(\"-------------self.dnames.sh600276_1W-------------\")\n",
    "        # print(self.dnames.sh600276_1W._name, self.dnames.sh600276_1W)  # 返回sh600276_1W的数据表格\n",
    "        # print(self.dnames.sh600276_1W._name, self.dnames.sh600276_1W.array)  # 返回sh600276_1W的数据表格\n",
    "        print(\"-------------self.datas[-2]-------------\")\n",
    "        print(self.datas[-2]._name, self.datas[-2])  # 返回倒数第二个导入的数据表格\n",
    "        print(self.datas[-2]._name, self.datas[-2].array)  # 返回倒数第二个导入的数据表格\n",
    "\n",
    "\n",
    "cerebro.addstrategy(TestStrategy11)\n",
    "result = cerebro.run()\n",
    "\n"
   ],
   "metadata": {
    "collapsed": false,
    "pycharm": {
     "name": "#%%\n"
    }
   }
  },
  {
   "cell_type": "code",
   "execution_count": 297,
   "outputs": [
    {
     "name": "stdout",
     "output_type": "stream",
     "text": [
      "索引: DateTime 6 Open 3 High 2 Low 1 Close 0 Volume 4 OpenInterest 5\n",
      "--------- 打印 self 策略本身的 lines ----------\n",
      "('datetime',)\n",
      "--------- 打印 self.datas[-1] 数据表格的 lines ----------\n",
      "sh600276_1W ('close', 'low', 'high', 'open', 'volume', 'openinterest', 'datetime')\n",
      "--------- 打印 indicators 对象的 lines ----------\n",
      "('sma',)\n",
      "---------- 直接打印 indicators 对象的所有 lines -------------\n",
      "<backtrader.lineseries.Lines_LineSeries_LineIterator_DataAccessor_IndicatorBase_Indicator_MovingAverageBase_MovingAverageSimple_SimpleMovingAverage object at 0x000002344BFFC940>\n",
      "---------- 直接打印 indicators 对象的 lines[-1] -------------\n",
      "<backtrader.linebuffer.LineBuffer object at 0x000002344BFFC610>\n",
      "切片访问close前10个值 array('d')\n",
      "切片访问close前10个值 array('d')\n",
      "切片访问close前10个值 array('d')\n",
      "切片访问close后10个值 array('d')\n",
      "-------------next()---------------\n",
      "索引 0 2021-03-05 2021-03-05 2021-03-05 85.4651 83.3867 83.3867 83.3867\n",
      "索引 0 2021-03-05 2021-03-05 2021-03-05 85.4651 83.3867 83.3867 83.3867\n",
      "索引 0 2021-03-05 2021-03-05 2021-03-05 85.4651 83.3867 83.3867 83.3867\n",
      "索引 0 2021-03-05 2021-03-05 2021-03-05 85.4651 83.3867 83.3867 83.3867\n",
      "索引 0 2021-03-05 2021-03-05 2021-03-05 85.4651 83.3867 83.3867 83.3867\n",
      "索引 1 2021-03-12 2021-03-12 2021-03-05 83.7275 76.6442 76.6442 76.6442\n",
      "索引 1 2021-03-12 2021-03-12 2021-03-05 83.7275 76.6442 76.6442 76.6442\n",
      "索引 1 2021-03-12 2021-03-12 2021-03-05 83.7275 76.6442 76.6442 76.6442\n",
      "索引 1 2021-03-12 2021-03-12 2021-03-05 83.7275 76.6442 76.6442 76.6442\n",
      "索引 1 2021-03-12 2021-03-12 2021-03-05 83.7275 76.6442 76.6442 76.6442\n",
      "索引 2 2021-03-19 2021-03-19 2021-03-12 75.763 73.2024 73.2024 73.2024\n",
      "索引 2 2021-03-19 2021-03-19 2021-03-12 75.763 73.2024 73.2024 73.2024\n",
      "索引 2 2021-03-19 2021-03-19 2021-03-12 75.763 73.2024 73.2024 73.2024\n",
      "索引 2 2021-03-19 2021-03-19 2021-03-12 75.763 73.2024 73.2024 73.2024\n",
      "索引 2 2021-03-19 2021-03-19 2021-03-12 75.763 73.2024 73.2024 73.2024\n",
      "索引 3 2021-03-26 2021-03-26 2021-03-19 73.2024 75.8378 75.8378 75.8378\n",
      "索引 3 2021-03-26 2021-03-26 2021-03-19 73.2024 75.8378 75.8378 75.8378\n",
      "索引 4 2021-03-30 2021-03-30 2021-03-26 75.9043 77.8165 77.8165 77.8165\n"
     ]
    }
   ],
   "source": [
    "# 实例化策略\n",
    "cerebro = bt.Cerebro()\n",
    "\n",
    "st_date = datetime.datetime(2021, 3, 1)\n",
    "ed_date = datetime.datetime(2021, 3, 30)\n",
    "\n",
    "# 添加 600276.SH 的行情数据\n",
    "datafeed1 = bt.feeds.PandasData(dataname=data1, fromdate=st_date, todate=ed_date)\n",
    "cerebro.adddata(datafeed1, name='sh600276')\n",
    "\n",
    "# 添加 600519.SH 的行情数据\n",
    "datafeed2 = bt.feeds.PandasData(dataname=data2, fromdate=st_date, todate=ed_date)\n",
    "cerebro.adddata(datafeed2, name='sh600519')\n",
    "\n",
    "# 添加 sh600276_1W 的周线行情数据,由 sh600276日行情重新采样转换而来\n",
    "datafeed3 = cerebro.resampledata(dataname=datafeed1, name='sh600276_1W', timeframe=bt.TimeFrame.Weeks)\n",
    "\n",
    "\n",
    "# 第1.2节：验证 line 的结构\n",
    "class TestStrategy12(bt.Strategy):\n",
    "    def __init__(self):\n",
    "        data = self.datas[0]\n",
    "        print(\"索引:\",\"DateTime\", data.DateTime, \"Open\", data.Open, \"High\", data.High, \"Low\", data.Low, \"Close\", data.Close,\"Volume\",data.Volume,\"OpenInterest\",data.OpenInterest)\n",
    "        print(\"--------- 打印 self 策略本身的 lines ----------\")\n",
    "        print(self.lines.getlinealiases())\n",
    "        print(\"--------- 打印 self.datas[-1] 数据表格的 lines ----------\")\n",
    "        data = self.datas[-1]\n",
    "        self.dataclose = self.datas[-1].close\n",
    "        print(self.getdatanames()[-1], data.lines.getlinealiases())\n",
    "        # 计算第一个数据集的收盘价的3日均线，返回一个 Data feed\n",
    "        self.sma = bt.indicators.SimpleMovingAverage(self.datas[0].close, period=3)\n",
    "        print(\"--------- 打印 indicators 对象的 lines ----------\")\n",
    "        print(self.sma.lines.getlinealiases())\n",
    "        print(\"---------- 直接打印 indicators 对象的所有 lines -------------\")\n",
    "        print(self.sma.lines)\n",
    "        print(\"---------- 直接打印 indicators 对象的 lines[-1] -------------\")\n",
    "        print(self.sma.lines[-1])\n",
    "        print('切片访问close前10个值', self.data0.array[:10])\n",
    "        print('切片访问close前10个值', self.data0_close.array[:10])\n",
    "        print('切片访问close前10个值', self.data0.lines.close.array[:10])\n",
    "        print('切片访问close后10个值', self.data0_close.get(ago=-1, size=10))\n",
    "        # print(\"0 索引：\", 'datetime', self.data0.lines.datetime.date(0), 'close', self.data0.lines.close[0])\n",
    "        # print(\"1 索引：\", 'datetime', self.data0.lines.datetime.date(1), 'close', self.data0.lines.close[1])\n",
    "        # print(\"-1 索引：\", 'datetime', self.data0.lines.datetime.date(-1), 'close', self.data0.lines.close[-1])\n",
    "        print(\"-------------next()---------------\")\n",
    "\n",
    "    def next(self):\n",
    "        # print('验证索引位置为 6 的线是不是 datetime')\n",
    "        # 验证索引位置为 6 的线是不是 datetime datetime 线中的时间点存的是数字形式的时间，可以通过 bt.num2date() 方法将其转为“xxxx-xx-xx xx:xx:xx”这种形式\n",
    "        data = self.datas[-1]\n",
    "        print(\"索引\",\n",
    "              data.lines[data.DateTime].idx, bt.num2date(data.lines[data.DateTime][0]).date(),  #lines[6] 是 datetime\n",
    "              data.lines[data.DateTime].date(0),\n",
    "              data.datetime.date(-1),\n",
    "              data.lines[data.Open][0],  #最新开盘价\n",
    "              data.lines.close[0],\n",
    "              data.close[0],\n",
    "              self.dataclose[0]\n",
    "              )\n",
    "\n",
    "\n",
    "cerebro.addstrategy(TestStrategy12)\n",
    "result = cerebro.run(runonce=False)\n",
    "\n"
   ],
   "metadata": {
    "collapsed": false,
    "pycharm": {
     "name": "#%%\n"
    }
   }
  },
  {
   "cell_type": "code",
   "execution_count": 296,
   "outputs": [
    {
     "name": "stdout",
     "output_type": "stream",
     "text": [
      "------------- init 中的索引位置-------------\n",
      "count:  0 getdatanames: ['sh600276', 'sh600519', 'sh600276_1W']\n",
      "切片访问close前10个值 array('d')\n",
      "切片访问close前10个值 array('d')\n",
      "切片访问close前10个值 array('d')\n",
      "切片访问close前10个值 array('d')\n",
      "切片访问close后10个值 array('d')\n"
     ]
    },
    {
     "ename": "IndexError",
     "evalue": "array index out of range",
     "output_type": "error",
     "traceback": [
      "\u001B[1;31m---------------------------------------------------------------------------\u001B[0m",
      "\u001B[1;31mIndexError\u001B[0m                                Traceback (most recent call last)",
      "\u001B[1;32m~\\AppData\\Local\\Temp/ipykernel_27680/3878180761.py\u001B[0m in \u001B[0;36m<module>\u001B[1;34m\u001B[0m\n\u001B[0;32m     59\u001B[0m \u001B[1;33m\u001B[0m\u001B[0m\n\u001B[0;32m     60\u001B[0m \u001B[0mcerebro\u001B[0m\u001B[1;33m.\u001B[0m\u001B[0maddstrategy\u001B[0m\u001B[1;33m(\u001B[0m\u001B[0mTestStrategy\u001B[0m\u001B[1;33m)\u001B[0m\u001B[1;33m\u001B[0m\u001B[1;33m\u001B[0m\u001B[0m\n\u001B[1;32m---> 61\u001B[1;33m \u001B[0mresult\u001B[0m \u001B[1;33m=\u001B[0m \u001B[0mcerebro\u001B[0m\u001B[1;33m.\u001B[0m\u001B[0mrun\u001B[0m\u001B[1;33m(\u001B[0m\u001B[1;33m)\u001B[0m\u001B[1;33m\u001B[0m\u001B[1;33m\u001B[0m\u001B[0m\n\u001B[0m\u001B[0;32m     62\u001B[0m \u001B[1;33m\u001B[0m\u001B[0m\n",
      "\u001B[1;32mC:\\ProgramData\\Anaconda3\\lib\\site-packages\\backtrader\\cerebro.py\u001B[0m in \u001B[0;36mrun\u001B[1;34m(self, **kwargs)\u001B[0m\n\u001B[0;32m   1125\u001B[0m             \u001B[1;31m# let's skip process \"spawning\"\u001B[0m\u001B[1;33m\u001B[0m\u001B[1;33m\u001B[0m\u001B[1;33m\u001B[0m\u001B[0m\n\u001B[0;32m   1126\u001B[0m             \u001B[1;32mfor\u001B[0m \u001B[0miterstrat\u001B[0m \u001B[1;32min\u001B[0m \u001B[0miterstrats\u001B[0m\u001B[1;33m:\u001B[0m\u001B[1;33m\u001B[0m\u001B[1;33m\u001B[0m\u001B[0m\n\u001B[1;32m-> 1127\u001B[1;33m                 \u001B[0mrunstrat\u001B[0m \u001B[1;33m=\u001B[0m \u001B[0mself\u001B[0m\u001B[1;33m.\u001B[0m\u001B[0mrunstrategies\u001B[0m\u001B[1;33m(\u001B[0m\u001B[0miterstrat\u001B[0m\u001B[1;33m)\u001B[0m\u001B[1;33m\u001B[0m\u001B[1;33m\u001B[0m\u001B[0m\n\u001B[0m\u001B[0;32m   1128\u001B[0m                 \u001B[0mself\u001B[0m\u001B[1;33m.\u001B[0m\u001B[0mrunstrats\u001B[0m\u001B[1;33m.\u001B[0m\u001B[0mappend\u001B[0m\u001B[1;33m(\u001B[0m\u001B[0mrunstrat\u001B[0m\u001B[1;33m)\u001B[0m\u001B[1;33m\u001B[0m\u001B[1;33m\u001B[0m\u001B[0m\n\u001B[0;32m   1129\u001B[0m                 \u001B[1;32mif\u001B[0m \u001B[0mself\u001B[0m\u001B[1;33m.\u001B[0m\u001B[0m_dooptimize\u001B[0m\u001B[1;33m:\u001B[0m\u001B[1;33m\u001B[0m\u001B[1;33m\u001B[0m\u001B[0m\n",
      "\u001B[1;32mC:\\ProgramData\\Anaconda3\\lib\\site-packages\\backtrader\\cerebro.py\u001B[0m in \u001B[0;36mrunstrategies\u001B[1;34m(self, iterstrat, predata)\u001B[0m\n\u001B[0;32m   1215\u001B[0m             \u001B[0msargs\u001B[0m \u001B[1;33m=\u001B[0m \u001B[0mself\u001B[0m\u001B[1;33m.\u001B[0m\u001B[0mdatas\u001B[0m \u001B[1;33m+\u001B[0m \u001B[0mlist\u001B[0m\u001B[1;33m(\u001B[0m\u001B[0msargs\u001B[0m\u001B[1;33m)\u001B[0m\u001B[1;33m\u001B[0m\u001B[1;33m\u001B[0m\u001B[0m\n\u001B[0;32m   1216\u001B[0m             \u001B[1;32mtry\u001B[0m\u001B[1;33m:\u001B[0m\u001B[1;33m\u001B[0m\u001B[1;33m\u001B[0m\u001B[0m\n\u001B[1;32m-> 1217\u001B[1;33m                 \u001B[0mstrat\u001B[0m \u001B[1;33m=\u001B[0m \u001B[0mstratcls\u001B[0m\u001B[1;33m(\u001B[0m\u001B[1;33m*\u001B[0m\u001B[0msargs\u001B[0m\u001B[1;33m,\u001B[0m \u001B[1;33m**\u001B[0m\u001B[0mskwargs\u001B[0m\u001B[1;33m)\u001B[0m\u001B[1;33m\u001B[0m\u001B[1;33m\u001B[0m\u001B[0m\n\u001B[0m\u001B[0;32m   1218\u001B[0m             \u001B[1;32mexcept\u001B[0m \u001B[0mbt\u001B[0m\u001B[1;33m.\u001B[0m\u001B[0merrors\u001B[0m\u001B[1;33m.\u001B[0m\u001B[0mStrategySkipError\u001B[0m\u001B[1;33m:\u001B[0m\u001B[1;33m\u001B[0m\u001B[1;33m\u001B[0m\u001B[0m\n\u001B[0;32m   1219\u001B[0m                 \u001B[1;32mcontinue\u001B[0m  \u001B[1;31m# do not add strategy to the mix\u001B[0m\u001B[1;33m\u001B[0m\u001B[1;33m\u001B[0m\u001B[0m\n",
      "\u001B[1;32mC:\\ProgramData\\Anaconda3\\lib\\site-packages\\backtrader\\metabase.py\u001B[0m in \u001B[0;36m__call__\u001B[1;34m(cls, *args, **kwargs)\u001B[0m\n\u001B[0;32m     86\u001B[0m         \u001B[0m_obj\u001B[0m\u001B[1;33m,\u001B[0m \u001B[0margs\u001B[0m\u001B[1;33m,\u001B[0m \u001B[0mkwargs\u001B[0m \u001B[1;33m=\u001B[0m \u001B[0mcls\u001B[0m\u001B[1;33m.\u001B[0m\u001B[0mdonew\u001B[0m\u001B[1;33m(\u001B[0m\u001B[1;33m*\u001B[0m\u001B[0margs\u001B[0m\u001B[1;33m,\u001B[0m \u001B[1;33m**\u001B[0m\u001B[0mkwargs\u001B[0m\u001B[1;33m)\u001B[0m\u001B[1;33m\u001B[0m\u001B[1;33m\u001B[0m\u001B[0m\n\u001B[0;32m     87\u001B[0m         \u001B[0m_obj\u001B[0m\u001B[1;33m,\u001B[0m \u001B[0margs\u001B[0m\u001B[1;33m,\u001B[0m \u001B[0mkwargs\u001B[0m \u001B[1;33m=\u001B[0m \u001B[0mcls\u001B[0m\u001B[1;33m.\u001B[0m\u001B[0mdopreinit\u001B[0m\u001B[1;33m(\u001B[0m\u001B[0m_obj\u001B[0m\u001B[1;33m,\u001B[0m \u001B[1;33m*\u001B[0m\u001B[0margs\u001B[0m\u001B[1;33m,\u001B[0m \u001B[1;33m**\u001B[0m\u001B[0mkwargs\u001B[0m\u001B[1;33m)\u001B[0m\u001B[1;33m\u001B[0m\u001B[1;33m\u001B[0m\u001B[0m\n\u001B[1;32m---> 88\u001B[1;33m         \u001B[0m_obj\u001B[0m\u001B[1;33m,\u001B[0m \u001B[0margs\u001B[0m\u001B[1;33m,\u001B[0m \u001B[0mkwargs\u001B[0m \u001B[1;33m=\u001B[0m \u001B[0mcls\u001B[0m\u001B[1;33m.\u001B[0m\u001B[0mdoinit\u001B[0m\u001B[1;33m(\u001B[0m\u001B[0m_obj\u001B[0m\u001B[1;33m,\u001B[0m \u001B[1;33m*\u001B[0m\u001B[0margs\u001B[0m\u001B[1;33m,\u001B[0m \u001B[1;33m**\u001B[0m\u001B[0mkwargs\u001B[0m\u001B[1;33m)\u001B[0m\u001B[1;33m\u001B[0m\u001B[1;33m\u001B[0m\u001B[0m\n\u001B[0m\u001B[0;32m     89\u001B[0m         \u001B[0m_obj\u001B[0m\u001B[1;33m,\u001B[0m \u001B[0margs\u001B[0m\u001B[1;33m,\u001B[0m \u001B[0mkwargs\u001B[0m \u001B[1;33m=\u001B[0m \u001B[0mcls\u001B[0m\u001B[1;33m.\u001B[0m\u001B[0mdopostinit\u001B[0m\u001B[1;33m(\u001B[0m\u001B[0m_obj\u001B[0m\u001B[1;33m,\u001B[0m \u001B[1;33m*\u001B[0m\u001B[0margs\u001B[0m\u001B[1;33m,\u001B[0m \u001B[1;33m**\u001B[0m\u001B[0mkwargs\u001B[0m\u001B[1;33m)\u001B[0m\u001B[1;33m\u001B[0m\u001B[1;33m\u001B[0m\u001B[0m\n\u001B[0;32m     90\u001B[0m         \u001B[1;32mreturn\u001B[0m \u001B[0m_obj\u001B[0m\u001B[1;33m\u001B[0m\u001B[1;33m\u001B[0m\u001B[0m\n",
      "\u001B[1;32mC:\\ProgramData\\Anaconda3\\lib\\site-packages\\backtrader\\metabase.py\u001B[0m in \u001B[0;36mdoinit\u001B[1;34m(cls, _obj, *args, **kwargs)\u001B[0m\n\u001B[0;32m     76\u001B[0m \u001B[1;33m\u001B[0m\u001B[0m\n\u001B[0;32m     77\u001B[0m     \u001B[1;32mdef\u001B[0m \u001B[0mdoinit\u001B[0m\u001B[1;33m(\u001B[0m\u001B[0mcls\u001B[0m\u001B[1;33m,\u001B[0m \u001B[0m_obj\u001B[0m\u001B[1;33m,\u001B[0m \u001B[1;33m*\u001B[0m\u001B[0margs\u001B[0m\u001B[1;33m,\u001B[0m \u001B[1;33m**\u001B[0m\u001B[0mkwargs\u001B[0m\u001B[1;33m)\u001B[0m\u001B[1;33m:\u001B[0m\u001B[1;33m\u001B[0m\u001B[1;33m\u001B[0m\u001B[0m\n\u001B[1;32m---> 78\u001B[1;33m         \u001B[0m_obj\u001B[0m\u001B[1;33m.\u001B[0m\u001B[0m__init__\u001B[0m\u001B[1;33m(\u001B[0m\u001B[1;33m*\u001B[0m\u001B[0margs\u001B[0m\u001B[1;33m,\u001B[0m \u001B[1;33m**\u001B[0m\u001B[0mkwargs\u001B[0m\u001B[1;33m)\u001B[0m\u001B[1;33m\u001B[0m\u001B[1;33m\u001B[0m\u001B[0m\n\u001B[0m\u001B[0;32m     79\u001B[0m         \u001B[1;32mreturn\u001B[0m \u001B[0m_obj\u001B[0m\u001B[1;33m,\u001B[0m \u001B[0margs\u001B[0m\u001B[1;33m,\u001B[0m \u001B[0mkwargs\u001B[0m\u001B[1;33m\u001B[0m\u001B[1;33m\u001B[0m\u001B[0m\n\u001B[0;32m     80\u001B[0m \u001B[1;33m\u001B[0m\u001B[0m\n",
      "\u001B[1;32m~\\AppData\\Local\\Temp/ipykernel_27680/3878180761.py\u001B[0m in \u001B[0;36m__init__\u001B[1;34m(self)\u001B[0m\n\u001B[0;32m     30\u001B[0m         \u001B[0mprint\u001B[0m\u001B[1;33m(\u001B[0m\u001B[1;34m'切片访问close前10个值'\u001B[0m\u001B[1;33m,\u001B[0m \u001B[0mself\u001B[0m\u001B[1;33m.\u001B[0m\u001B[0mdata0_close\u001B[0m\u001B[1;33m.\u001B[0m\u001B[0mget\u001B[0m\u001B[1;33m(\u001B[0m\u001B[0mago\u001B[0m\u001B[1;33m=\u001B[0m\u001B[1;36m10\u001B[0m\u001B[1;33m,\u001B[0m \u001B[0msize\u001B[0m\u001B[1;33m=\u001B[0m\u001B[1;36m10\u001B[0m\u001B[1;33m)\u001B[0m\u001B[1;33m)\u001B[0m\u001B[1;33m\u001B[0m\u001B[1;33m\u001B[0m\u001B[0m\n\u001B[0;32m     31\u001B[0m         \u001B[0mprint\u001B[0m\u001B[1;33m(\u001B[0m\u001B[1;34m'切片访问close后10个值'\u001B[0m\u001B[1;33m,\u001B[0m \u001B[0mself\u001B[0m\u001B[1;33m.\u001B[0m\u001B[0mdata0_close\u001B[0m\u001B[1;33m.\u001B[0m\u001B[0mget\u001B[0m\u001B[1;33m(\u001B[0m\u001B[0mago\u001B[0m\u001B[1;33m=\u001B[0m\u001B[1;33m-\u001B[0m\u001B[1;36m1\u001B[0m\u001B[1;33m,\u001B[0m \u001B[0msize\u001B[0m\u001B[1;33m=\u001B[0m\u001B[1;36m10\u001B[0m\u001B[1;33m)\u001B[0m\u001B[1;33m)\u001B[0m\u001B[1;33m\u001B[0m\u001B[1;33m\u001B[0m\u001B[0m\n\u001B[1;32m---> 32\u001B[1;33m         \u001B[0mprint\u001B[0m\u001B[1;33m(\u001B[0m\u001B[0mself\u001B[0m\u001B[1;33m.\u001B[0m\u001B[0mdata1\u001B[0m\u001B[1;33m.\u001B[0m\u001B[0m_name\u001B[0m\u001B[1;33m,\u001B[0m \u001B[1;34m\"0 索引：\"\u001B[0m\u001B[1;33m,\u001B[0m \u001B[1;34m'datetime'\u001B[0m\u001B[1;33m,\u001B[0m \u001B[0mself\u001B[0m\u001B[1;33m.\u001B[0m\u001B[0mdata1\u001B[0m\u001B[1;33m.\u001B[0m\u001B[0mlines\u001B[0m\u001B[1;33m.\u001B[0m\u001B[0mdatetime\u001B[0m\u001B[1;33m.\u001B[0m\u001B[0mdate\u001B[0m\u001B[1;33m(\u001B[0m\u001B[1;36m0\u001B[0m\u001B[1;33m)\u001B[0m\u001B[1;33m,\u001B[0m \u001B[1;34m'close'\u001B[0m\u001B[1;33m,\u001B[0m \u001B[0mself\u001B[0m\u001B[1;33m.\u001B[0m\u001B[0mdata1\u001B[0m\u001B[1;33m.\u001B[0m\u001B[0mlines\u001B[0m\u001B[1;33m.\u001B[0m\u001B[0mclose\u001B[0m\u001B[1;33m[\u001B[0m\u001B[1;36m0\u001B[0m\u001B[1;33m]\u001B[0m\u001B[1;33m)\u001B[0m\u001B[1;33m\u001B[0m\u001B[1;33m\u001B[0m\u001B[0m\n\u001B[0m\u001B[0;32m     33\u001B[0m         \u001B[0mprint\u001B[0m\u001B[1;33m(\u001B[0m\u001B[1;34m\"-1 索引：\"\u001B[0m\u001B[1;33m,\u001B[0m \u001B[1;34m'datetime'\u001B[0m\u001B[1;33m,\u001B[0m \u001B[0mself\u001B[0m\u001B[1;33m.\u001B[0m\u001B[0mdata1\u001B[0m\u001B[1;33m.\u001B[0m\u001B[0mlines\u001B[0m\u001B[1;33m.\u001B[0m\u001B[0mdatetime\u001B[0m\u001B[1;33m.\u001B[0m\u001B[0mdate\u001B[0m\u001B[1;33m(\u001B[0m\u001B[1;33m-\u001B[0m\u001B[1;36m1\u001B[0m\u001B[1;33m)\u001B[0m\u001B[1;33m,\u001B[0m \u001B[1;34m'close'\u001B[0m\u001B[1;33m,\u001B[0m \u001B[0mself\u001B[0m\u001B[1;33m.\u001B[0m\u001B[0mdata1\u001B[0m\u001B[1;33m.\u001B[0m\u001B[0mlines\u001B[0m\u001B[1;33m.\u001B[0m\u001B[0mclose\u001B[0m\u001B[1;33m[\u001B[0m\u001B[1;33m-\u001B[0m\u001B[1;36m1\u001B[0m\u001B[1;33m]\u001B[0m\u001B[1;33m)\u001B[0m\u001B[1;33m\u001B[0m\u001B[1;33m\u001B[0m\u001B[0m\n\u001B[0;32m     34\u001B[0m         \u001B[0mprint\u001B[0m\u001B[1;33m(\u001B[0m\u001B[1;34m\"-2 索引\"\u001B[0m\u001B[1;33m,\u001B[0m \u001B[1;34m'datetime'\u001B[0m\u001B[1;33m,\u001B[0m \u001B[0mself\u001B[0m\u001B[1;33m.\u001B[0m\u001B[0mdata1\u001B[0m\u001B[1;33m.\u001B[0m\u001B[0mlines\u001B[0m\u001B[1;33m.\u001B[0m\u001B[0mdatetime\u001B[0m\u001B[1;33m.\u001B[0m\u001B[0mdate\u001B[0m\u001B[1;33m(\u001B[0m\u001B[1;33m-\u001B[0m\u001B[1;36m2\u001B[0m\u001B[1;33m)\u001B[0m\u001B[1;33m,\u001B[0m \u001B[1;34m'close'\u001B[0m\u001B[1;33m,\u001B[0m \u001B[0mself\u001B[0m\u001B[1;33m.\u001B[0m\u001B[0mdata1\u001B[0m\u001B[1;33m.\u001B[0m\u001B[0mlines\u001B[0m\u001B[1;33m.\u001B[0m\u001B[0mclose\u001B[0m\u001B[1;33m[\u001B[0m\u001B[1;33m-\u001B[0m\u001B[1;36m2\u001B[0m\u001B[1;33m]\u001B[0m\u001B[1;33m)\u001B[0m\u001B[1;33m\u001B[0m\u001B[1;33m\u001B[0m\u001B[0m\n",
      "\u001B[1;32mC:\\ProgramData\\Anaconda3\\lib\\site-packages\\backtrader\\linebuffer.py\u001B[0m in \u001B[0;36mdate\u001B[1;34m(self, ago, tz, naive)\u001B[0m\n\u001B[0;32m    389\u001B[0m \u001B[1;33m\u001B[0m\u001B[0m\n\u001B[0;32m    390\u001B[0m     \u001B[1;32mdef\u001B[0m \u001B[0mdate\u001B[0m\u001B[1;33m(\u001B[0m\u001B[0mself\u001B[0m\u001B[1;33m,\u001B[0m \u001B[0mago\u001B[0m\u001B[1;33m=\u001B[0m\u001B[1;36m0\u001B[0m\u001B[1;33m,\u001B[0m \u001B[0mtz\u001B[0m\u001B[1;33m=\u001B[0m\u001B[1;32mNone\u001B[0m\u001B[1;33m,\u001B[0m \u001B[0mnaive\u001B[0m\u001B[1;33m=\u001B[0m\u001B[1;32mTrue\u001B[0m\u001B[1;33m)\u001B[0m\u001B[1;33m:\u001B[0m\u001B[1;33m\u001B[0m\u001B[1;33m\u001B[0m\u001B[0m\n\u001B[1;32m--> 391\u001B[1;33m         return num2date(self.array[self.idx + ago],\n\u001B[0m\u001B[0;32m    392\u001B[0m                         tz=tz or self._tz, naive=naive).date()\n\u001B[0;32m    393\u001B[0m \u001B[1;33m\u001B[0m\u001B[0m\n",
      "\u001B[1;31mIndexError\u001B[0m: array index out of range"
     ]
    }
   ],
   "source": [
    "# # 实例化策略\n",
    "cerebro = bt.Cerebro()\n",
    "\n",
    "st_date = datetime.datetime(2021, 3, 1)\n",
    "ed_date = datetime.datetime(2021, 3, 30)\n",
    "\n",
    "# 添加 600276.SH 的行情数据\n",
    "datafeed1 = bt.feeds.PandasData(dataname=data1, fromdate=st_date, todate=ed_date)\n",
    "cerebro.adddata(datafeed1, name='sh600276')\n",
    "\n",
    "# 添加 600519.SH 的行情数据\n",
    "datafeed2 = bt.feeds.PandasData(dataname=data2, fromdate=st_date, todate=ed_date)\n",
    "cerebro.adddata(datafeed2, name='sh600519')\n",
    "\n",
    "# 添加 sh600276_1W 的周线行情数据,由 sh600276日行情重新采样转换而来\n",
    "# datafeed3 = cerebro.resampledata(dataname=datafeed1, name='sh600276_1W', timeframe=bt.TimeFrame.Weeks)\n",
    "\n",
    "\n",
    "# 第3节：提取 line 上的数据点，使用 get(ago,size) 切片函数\n",
    "class TestStrategy(bt.Strategy):\n",
    "    def __init__(self):\n",
    "        self.count = 0  # 用于计算 next 的循环次数\n",
    "        # 打印数据集和数据集对应的名称\n",
    "        print(\"------------- init 中的索引位置-------------\")\n",
    "        print(\"count: \", self.count, \"getdatanames:\", self.getdatanames())\n",
    "        # 对 datetime 线进行索引时，xxx.date(X) 可以直接以“xxxx-xx-xx xx:xx:xx”的形式返回，X 就是索引位置，可以看做是传统 [X] 索引方式的改进版\n",
    "        print('切片访问close前10个值', self.data0.array[:10])\n",
    "        print('切片访问close前10个值', self.data0_close.array[:10])\n",
    "        print('切片访问close前10个值', self.data0.lines.close.array[:10])\n",
    "        print('切片访问close前10个值', self.data0_close.get(ago=10, size=10))\n",
    "        print('切片访问close后10个值', self.data0_close.get(ago=-1, size=10))\n",
    "        print(self.data1._name, \"0 索引：\", 'datetime', self.data1.lines.datetime.date(0), 'close', self.data1.lines.close[0])\n",
    "        print(\"-1 索引：\", 'datetime', self.data1.lines.datetime.date(-1), 'close', self.data1.lines.close[-1])\n",
    "        print(\"-2 索引\", 'datetime', self.data1.lines.datetime.date(-2), 'close', self.data1.lines.close[-2])\n",
    "        print(\"1 索引：\", 'datetime', self.data1.lines.datetime.date(1), 'close', self.data1.lines.close[1])\n",
    "        print(\"2 索引\", 'datetime', self.data1.lines.datetime.date(2), 'close', self.data1.lines.close[2])\n",
    "        # 通过 get() 切片时，如果是从 ago=0 开始取，不会返回数据，从其他索引位置开始取，能返回数据\n",
    "        print(\"从 0 开始往前取3天的收盘价：\", self.data1.lines.close.get(ago=0, size=3))\n",
    "        print(\"从-1开始往前取3天的收盘价：\", self.data1.lines.close.get(ago=-1, size=3))\n",
    "        print(\"从-2开始往前取3天的收盘价：\", self.data1.lines.close.get(ago=-2, size=3))\n",
    "        print(\"line的总长度：\", self.data1.buflen())\n",
    "\n",
    "    def next(self):\n",
    "        if self.count >= 10:\n",
    "            return\n",
    "        print(f\"------------- next 的第{self.count + 1}次循环 --------------\")\n",
    "        print(\"当前时点（今日）：\", 'datetime', self.data1.lines.datetime.date(0), 'close', self.data1.lines.close[0])\n",
    "        print(\"往前推1天（昨日）：\", 'datetime', self.data1.lines.datetime.date(-1), 'close', self.data1.lines.close[-1])\n",
    "        print(\"往前推2天（前日）\", 'datetime', self.data1.lines.datetime.date(-2), 'close', self.data1.lines.close[-2])\n",
    "        print(\"前日、昨日、今日的收盘价：\", self.data1.lines.close.get(ago=0, size=3))\n",
    "        print(\"往后推1天（明日）：\", 'datetime', self.data1.lines.datetime.date(1), 'close', self.data1.lines.close[1])\n",
    "        print(\"往后推2天（明后日）\", 'datetime', self.data1.lines.datetime.date(2), 'close', self.data1.lines.close[2])\n",
    "        # 在 next() 中调用 len(self.data0)，返回的是当前已处理（已回测）的数据长度，会随着回测的推进动态增长\n",
    "        print(\"已处理的数据点：\", len(self.data1))\n",
    "        # buflen() 返回整条线的总长度，固定不变；\n",
    "        print(\"line的总长度：\", self.data0.buflen())\n",
    "        self.count += 1\n",
    "\n",
    "\n",
    "cerebro.addstrategy(TestStrategy)\n",
    "result = cerebro.run()\n"
   ],
   "metadata": {
    "collapsed": false,
    "pycharm": {
     "name": "#%%\n"
    }
   }
  },
  {
   "cell_type": "code",
   "execution_count": null,
   "outputs": [],
   "source": [
    "\n",
    "# 第二章 DataFeeds 数据模块\n",
    "\n",
    "# 第2.1节 默认的导入方式\n",
    "'''\n",
    "Backtrader 中的数据表格默认情况下包含 7 条 line，这 7 条 line 的位置也是固定的，\n",
    "依次为 ('close', 'low', 'high', 'open', 'volume', 'openinterest', 'datetime') ，\n",
    "那导入的数据表格必须包含这 7 个指标吗？指标的排列顺序也必须一致吗？当然不是！\n",
    "其实你只要告诉 GenericCSVData、PandasData 、PandasDirectData 这 7 个指标在数据源中位于第几列，\n",
    "如果没有这个指标，那就将位置设置为 -1 （如果是dataframe，None 表示指标不存在，-1 表示按位置或名称自动匹配指标），\n",
    "所以你要做的是让 Backtrader 知道指标在数据源的哪个位置上。\n",
    "'''\n",
    "\n",
    "# 读取和导入 CSV 文件\n",
    "data = bt.feeds.GenericCSVData(dataname='filename.csv')\n",
    "cerebro.adddata(data, name='XXX')\n",
    "\n",
    "# 读取和导入 dataframe 数据框 - 方式1\n",
    "data = bt.feeds.PandasData(dataname=df)\n",
    "cerebro.adddata(data, name='XXX')\n",
    "\n",
    "# 读取和导入 dataframe 数据框 - 方式2\n",
    "data = bt.feeds.PandasDirectData(dataname=df)\n",
    "cerebro.adddata(data, name='XXX')\n",
    "\n",
    "# 以 GenericCSVData 为例进行参数说明（其他导入函数参数类似）\n",
    "bt.feeds.GenericCSVData(dataname='daily_price.csv',  # 数据源，CSV文件名 或 Dataframe对象\n",
    "                        fromdate=st_date,  # 读取的起始时间\n",
    "                        todate=ed_date,  # 读取的结束时间\n",
    "                        nullvalue=0.0,  # 缺失值填充\n",
    "                        dtformat='%Y-%m-%d',  # 日期解析的格式\n",
    "                        # 下面是数据表格默认包含的 7 个指标，取值对应指标在 daily_price.csv 中的列索引位置\n",
    "                        datetime=0,  # 告诉 GenericCSVData， datetime 在 daily_price.csv 文件的第1列\n",
    "                        high=3,\n",
    "                        low=4,\n",
    "                        open=2,\n",
    "                        close=5,\n",
    "                        volume=6,\n",
    "                        openinterest=-1)  # 如果取值为 -1 , 告诉 GenericCSVData 该指标不存在\n"
   ],
   "metadata": {
    "collapsed": false,
    "pycharm": {
     "name": "#%%\n"
    }
   }
  },
  {
   "cell_type": "code",
   "execution_count": 7,
   "outputs": [],
   "source": [
    "# 第2.2节 自定义读取函数\n",
    "'''\n",
    "如果你觉得每次都要设置这么多参数来告知指标位置很麻烦，那你也可以重新自定义数据读取函数，\n",
    "自定义的方式就是继承数据加载类 GenericCSVData、PandasData 再构建一个新的类，然后在新的类里统一设置参数。\n",
    "\n",
    "自定义的函数，不会修改 Backtrader 底层的数据表格内 lines 的排列规则。\n",
    "自定义的数据读取函数只是规定了一个新的数据读取规则，调用这个函数，就按函数里设置的规则来读数据，而不用每次都设置一堆参数。\n",
    "'''\n",
    "\n",
    "\n",
    "class My_CSVData(bt.feeds.GenericCSVData):\n",
    "    params = (\n",
    "        ('fromdate', datetime.datetime(2019, 1, 2)),\n",
    "        ('todate', datetime.datetime(2021, 1, 28)),\n",
    "        ('nullvalue', 0.0),\n",
    "        ('dtformat', '%Y-%m-%d'),\n",
    "        ('datetime', 0),\n",
    "        ('time', -1),\n",
    "        ('high', 3),\n",
    "        ('low', 4),\n",
    "        ('open', 2),\n",
    "        ('close', 5),\n",
    "        ('volume', 6),\n",
    "        ('openinterest', -1)\n",
    "    )\n",
    "\n",
    "\n",
    "cerebro = bt.Cerebro()\n",
    "data = My_CSVData(dataname='./Data/daily_price.csv')\n",
    "cerebro.adddata(data, name='600466.SH')\n",
    "result = cerebro.run()\n"
   ],
   "metadata": {
    "collapsed": false,
    "pycharm": {
     "name": "#%%\n"
    }
   }
  },
  {
   "cell_type": "code",
   "execution_count": 8,
   "outputs": [
    {
     "name": "stdout",
     "output_type": "stream",
     "text": [
      "--------- 打印 self.datas 第一个数据表格的 lines ----------\n",
      "('close', 'low', 'high', 'open', 'volume', 'openinterest', 'datetime', 'pe', 'pb')\n",
      "pe line: <backtrader.linebuffer.LineBuffer object at 0x0000026234B840A0>\n",
      "pb line: <backtrader.linebuffer.LineBuffer object at 0x0000026234B84100>\n"
     ]
    }
   ],
   "source": [
    "# 第2.3节 新增指标\n",
    "'''\n",
    "在回测时，除了常规的高开低收成交量这些行情数据外，还会用到别的指标，\n",
    "比如选股回测时会用到很多选股因子（PE、PB 、PCF、......），那这些数据又该如何添加进 Backtrader 的数据表格呢？\n",
    "往 Backtrader 的数据表格里添加指标，就是给数据表格新增列，也就是给数据表格新增 line：\n",
    "以导入 DataFrame 为例，在继承原始的数据读取类 bt.feeds.PandasData 的基础上，\n",
    "设置 lines 属性和 params 属性，新的 line 会按其在 lines 属性中的顺序依次添加进数据表格中，\n",
    "具体对照下面例子的输出部分：\n",
    "'''\n",
    "\n",
    "\n",
    "class PandasData_more(bt.feeds.PandasData):\n",
    "    lines = ('pe', 'pb',)  # 要添加的线\n",
    "    # 设置 line 在数据源上的列位置\n",
    "    params = (\n",
    "        ('pe', -1),\n",
    "        ('pb', -1),\n",
    "    )\n",
    "    # -1表示自动按列明匹配数据，也可以设置为线在数据源中列的位置索引 (('pe',6),('pb',7),)\n",
    "\n",
    "\n",
    "class TestStrategy(bt.Strategy):\n",
    "    def __init__(self):\n",
    "        print(\"--------- 打印 self.datas 第一个数据表格的 lines ----------\")\n",
    "        print(self.data0.lines.getlinealiases())\n",
    "        print(\"pe line:\", self.data0.lines.pe)\n",
    "        print(\"pb line:\", self.data0.lines.pb)\n",
    "\n",
    "\n",
    "data1['pe'] = 2  # 给原先的data1新增pe指标（简单的取值为2）\n",
    "data1['pb'] = 3  # 给原先的data1新增pb指标（简单的取值为3）\n",
    "\n",
    "# 导入的数据 data1 中\n",
    "cerebro = bt.Cerebro()\n",
    "st_date = datetime.datetime(2020, 1, 1)\n",
    "ed_date = datetime.datetime(2021, 10, 15)\n",
    "\n",
    "# 这里使用上述定义的新类PandasData_more（继承了bt.feeds.PandasData）\n",
    "datafeed1 = PandasData_more(dataname=data1, fromdate=st_date, todate=ed_date)\n",
    "cerebro.adddata(datafeed1, name='600276.SH')\n",
    "cerebro.addstrategy(TestStrategy)\n",
    "result = cerebro.run()\n"
   ],
   "metadata": {
    "collapsed": false,
    "pycharm": {
     "name": "#%%\n"
    }
   }
  }
 ],
 "metadata": {
  "kernelspec": {
   "display_name": "Python 3",
   "language": "python",
   "name": "python3"
  },
  "language_info": {
   "codemirror_mode": {
    "name": "ipython",
    "version": 2
   },
   "file_extension": ".py",
   "mimetype": "text/x-python",
   "name": "python",
   "nbconvert_exporter": "python",
   "pygments_lexer": "ipython2",
   "version": "2.7.6"
  }
 },
 "nbformat": 4,
 "nbformat_minor": 0
}