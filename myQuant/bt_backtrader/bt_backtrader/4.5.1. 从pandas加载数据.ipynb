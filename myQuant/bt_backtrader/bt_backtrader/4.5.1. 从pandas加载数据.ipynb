{
 "cells": [
  {
   "cell_type": "code",
   "execution_count": 1,
   "metadata": {
    "collapsed": true
   },
   "outputs": [],
   "source": [
    "from datetime import datetime\n",
    "import os.path  # 路径管理\n",
    "import sys  # 获取当前运行脚本的路径 (in argv[0])\n",
    "\n",
    "#导入backtrader框架\n",
    "import backtrader as bt\n",
    "import pandas as pd"
   ]
  },
  {
   "cell_type": "code",
   "execution_count": 2,
   "outputs": [
    {
     "name": "stdout",
     "output_type": "stream",
     "text": [
      "<bound method DataFrame.info of                 Open      High       Low     Close    Volume\n",
      "Date                                                        \n",
      "1995-01-03  2.179012  2.191358  2.117284  2.117284  36301200\n",
      "1995-01-04  2.123457  2.148148  2.092592  2.135803  46051600\n",
      "1995-01-05  2.141975  2.148148  2.086420  2.092592  37762800\n",
      "1995-01-06  2.092592  2.154321  2.061728  2.117284  41864400\n",
      "1995-01-09  2.135803  2.179012  2.129630  2.179012  34639200\n",
      "...              ...       ...       ...       ...       ...\n",
      "1996-12-16  4.958333  4.972222  4.708333  4.729167  67174000\n",
      "1996-12-17  4.694445  4.819445  4.611111  4.805555  69094800\n",
      "1996-12-18  4.819445  4.833333  4.666667  4.694445  67948800\n",
      "1996-12-19  4.763889  4.777778  4.638889  4.680555  70351200\n",
      "1996-12-20  4.708333  4.888889  4.583333  4.805555  67197600\n",
      "\n",
      "[500 rows x 5 columns]>\n",
      "组合期初资金: 100000.00\n",
      "组合期末资金: 100000.00\n"
     ]
    }
   ],
   "source": [
    "if __name__ == '__main__':\n",
    "    # 创建Cerebro引擎\n",
    "    cerebro = bt.Cerebro()\n",
    "    # Cerebro引擎在后台创建broker(经纪人)，系统默认资金量为10000\n",
    "\n",
    "    # 获取当前运行脚本所在目录\n",
    "    modpath = os.path.abspath('.')\n",
    "    # 拼接加载路径\n",
    "    datapath = os.path.join('../../datas/orcl-1995-2014.txt')\n",
    "\n",
    "    df = pd.read_csv(\n",
    "    #Date,Open,High,Low,Close,Adj Close,Volume\n",
    "    #1995-01-03,2.179012,2.191358,2.117284,2.117284,1.22,36301200\n",
    "    filepath_or_buffer=datapath,\n",
    "    sep=',',  #分隔符\n",
    "    nrows=500,  #读取行数\n",
    "    index_col=0,  #设置行索引\n",
    "    parse_dates=True,  #解析时间\n",
    "    date_parser=lambda x: pd.to_datetime(x, format='%Y-%m-%d'),  #时间解析的格式\n",
    "    usecols=['Date', 'Open', 'High', 'Low', 'Close', 'Volume'],  #使用的列\n",
    ")\n",
    "    print(df.info)\n",
    "\n",
    "    # 使用pandas数据源创建交易数据集\n",
    "    # 把它传递给backtrader数据源，然后添加到cerebro\n",
    "    data = bt.feeds.PandasData(dataname=df)\n",
    "\n",
    "    # 加载交易数据\n",
    "    cerebro.adddata(data)\n",
    "\n",
    "\n",
    "    # 设置投资金额100000.0\n",
    "    cerebro.broker.setcash(100000.0)\n",
    "    # 引擎运行前打印期出资金\n",
    "    print('组合期初资金: %.2f' % cerebro.broker.getvalue())\n",
    "    cerebro.run()\n",
    "    # 引擎运行后打期末资金\n",
    "    print('组合期末资金: %.2f' % cerebro.broker.getvalue())"
   ],
   "metadata": {
    "collapsed": false,
    "pycharm": {
     "name": "#%%\n"
    }
   }
  },
  {
   "cell_type": "code",
   "execution_count": 3,
   "outputs": [],
   "source": [],
   "metadata": {
    "collapsed": false,
    "pycharm": {
     "name": "#%%\n"
    }
   }
  }
 ],
 "metadata": {
  "kernelspec": {
   "name": "py39",
   "language": "python",
   "display_name": "py39"
  },
  "language_info": {
   "codemirror_mode": {
    "name": "ipython",
    "version": 2
   },
   "file_extension": ".py",
   "mimetype": "text/x-python",
   "name": "python",
   "nbconvert_exporter": "python",
   "pygments_lexer": "ipython2",
   "version": "2.7.6"
  }
 },
 "nbformat": 4,
 "nbformat_minor": 0
}