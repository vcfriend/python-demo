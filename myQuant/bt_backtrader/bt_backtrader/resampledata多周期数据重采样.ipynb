{
 "cells": [
  {
   "cell_type": "code",
   "execution_count": 20,
   "metadata": {
    "collapsed": true,
    "pycharm": {
     "name": "#%%\n"
    }
   },
   "outputs": [
    {
     "name": "stdout",
     "output_type": "stream",
     "text": [
      "组合期初资金: 100000.00\n",
      "data0  0\n",
      "data1  0\n",
      "1995-01-06, data_1W, Close, 1.55\n",
      "1995-01-06, data_1W, Close, 1.55\n",
      "1995-01-06, data_1W, Close, 1.55\n",
      "1995-01-06, data_1W, Close, 1.55\n",
      "1995-01-06, data_1W, Close, 1.55\n",
      "1995-01-13, data_1W, Close, 1.85\n",
      "1995-01-13, data_1W, Close, 1.85\n",
      "1995-01-13, data_1W, Close, 1.85\n",
      "1995-01-13, data_1W, Close, 1.85\n",
      "1995-01-13, data_1W, Close, 1.85\n",
      "1995-01-20, data_1W, Close, 1.93\n",
      "1995-01-20, data_1W, Close, 1.93\n",
      "1995-01-20, data_1W, Close, 1.93\n",
      "1995-01-20, data_1W, Close, 1.93\n",
      "1995-01-20, data_1W, Close, 1.93\n",
      "1995-01-27, data_1W, Close, 1.88\n",
      "组合期末资金: 100000.00\n"
     ]
    }
   ],
   "source": [
    "import datetime  #\n",
    "import os.path  # 路径管理\n",
    "import sys  # 获取当前运行脚本的路径 (in argv[0])\n",
    "\n",
    "import backtrader as bt\n",
    "\n",
    "# 创建策略继承bt.Strategy\n",
    "class TestStrategy(bt.Strategy):\n",
    "\n",
    "    def log(self, txt, dt=None):\n",
    "        # 记录策略的执行日志\n",
    "        dt = dt or self.datas[0].datetime.date(0)\n",
    "        print('%s, %s' % (dt.isoformat(), txt))\n",
    "\n",
    "    def __init__(self):\n",
    "        # 保存收盘价的引用\n",
    "        self.data1W_close = self.data1_close\n",
    "        # print('切片访问前3个值', self.datas[0].array[:3])\n",
    "        # print('close0',self.dataclose[0],'close1',self.dataclose[1])\n",
    "        print(\"data0 \",self.data0_close.lencount)\n",
    "        print(\"data1 \",self.data1W_close.lencount)\n",
    "\n",
    "    def next(self):\n",
    "        # 记录收盘价\n",
    "        self.log('%s, Close, %.2f' % (self.data1W_close._owner._name, self.data1W_close[0]),\n",
    "                 self.data1.datetime.date(0))\n",
    "        pass\n",
    "\n",
    "\n",
    "if __name__ == '__main__':\n",
    "    # 创建Cerebro引擎\n",
    "    cerebro = bt.Cerebro()\n",
    "    # Cerebro引擎在后台创建broker(经纪人)，系统默认资金量为10000\n",
    "\n",
    "    # 为Cerebro引擎添加策略\n",
    "    cerebro.addstrategy(TestStrategy)\n",
    "\n",
    "    # 获取当前运行脚本所在目录 modpath = os.path.dirname(os.path.abspath(sys.argv[0]))\n",
    "    modpath = os.path.abspath('.')\n",
    "    # 拼接加载路径\n",
    "    datapath = os.path.join(modpath, '../../datas/orcl-1995-2014.txt')\n",
    "\n",
    "    # 创建交易数据集\n",
    "    data = bt.feeds.YahooFinanceCSVData(\n",
    "        dataname=datapath,\n",
    "        # 数据必须大于fromdate 1995-01-03\n",
    "        fromdate=datetime.datetime(1995, 1, 3),\n",
    "        # 数据必须小于todate\n",
    "        todate=datetime.datetime(1995, 1, 30),\n",
    "        reverse=False)\n",
    "\n",
    "\n",
    "    # 加载交易数据\n",
    "    cerebro.adddata(data)\n",
    "\n",
    "    # Handy dictionary for the argument timeframe conversion\n",
    "    tframes = dict(\n",
    "        daily=bt.TimeFrame.Days,\n",
    "        weekly=bt.TimeFrame.Weeks,\n",
    "        monthly=bt.TimeFrame.Months)\n",
    "    # Add the resample data instead of the original\n",
    "    data1 = cerebro.resampledata(\n",
    "        dataname=data,\n",
    "        name=\"data_1W\",\n",
    "        timeframe=tframes['weekly'],\n",
    "        compression=1)  #重新采样后的数据会自动加载到bt系统中\n",
    "    # 加载交易数据\n",
    "    # cerebro.adddata(data1)\n",
    "\n",
    "    # 设置投资金额100000.0\n",
    "    cerebro.broker.setcash(100000.0)\n",
    "    # 引擎运行前打印期出资金\n",
    "    print('组合期初资金: %.2f' % cerebro.broker.getvalue())\n",
    "    cerebro.run()\n",
    "    # 引擎运行后打期末资金\n",
    "    print('组合期末资金: %.2f' % cerebro.broker.getvalue())"
   ]
  },
  {
   "cell_type": "code",
   "execution_count": null,
   "outputs": [],
   "source": [],
   "metadata": {
    "collapsed": false,
    "pycharm": {
     "name": "#%%\n"
    }
   }
  }
 ],
 "metadata": {
  "kernelspec": {
   "display_name": "Python 3",
   "language": "python",
   "name": "python3"
  },
  "language_info": {
   "codemirror_mode": {
    "name": "ipython",
    "version": 2
   },
   "file_extension": ".py",
   "mimetype": "text/x-python",
   "name": "python",
   "nbconvert_exporter": "python",
   "pygments_lexer": "ipython2",
   "version": "2.7.6"
  }
 },
 "nbformat": 4,
 "nbformat_minor": 0
}