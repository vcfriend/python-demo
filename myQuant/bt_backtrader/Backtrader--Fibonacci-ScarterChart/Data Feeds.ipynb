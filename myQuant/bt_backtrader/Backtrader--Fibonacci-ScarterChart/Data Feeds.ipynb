{
 "cells": [
  {
   "cell_type": "markdown",
   "metadata": {},
   "source": [
    "# Data Feeds - Multiple Timeframes"
   ]
  },
  {
   "cell_type": "code",
   "execution_count": 3,
   "metadata": {},
   "outputs": [
    {
     "name": "stderr",
     "output_type": "stream",
     "text": [
      "usage: ipykernel_launcher.py [-h] [--dataname DATANAME]\n",
      "                             [--dataname2 DATANAME2] [--noresample]\n",
      "                             [--timeframe {daily,weekly,monhtly}]\n",
      "                             [--compression COMPRESSION] [--indicators]\n",
      "                             [--onlydaily] [--period PERIOD]\n",
      "ipykernel_launcher.py: error: unrecognized arguments: -f C:\\Users\\Sela#\\AppData\\Roaming\\jupyter\\runtime\\kernel-d315769e-500d-4bf9-9de1-593d1f49645c.json\n"
     ]
    },
    {
     "ename": "SystemExit",
     "evalue": "2",
     "output_type": "error",
     "traceback": [
      "An exception has occurred, use %tb to see the full traceback.\n",
      "\u001B[1;31mSystemExit\u001B[0m\u001B[1;31m:\u001B[0m 2\n"
     ]
    },
    {
     "name": "stderr",
     "output_type": "stream",
     "text": [
      "C:\\Anaconda\\envs\\env_zipline\\lib\\site-packages\\IPython\\core\\interactiveshell.py:2969: UserWarning: To exit: use 'exit', 'quit', or Ctrl-D.\n",
      "  warn(\"To exit: use 'exit', 'quit', or Ctrl-D.\", stacklevel=1)\n"
     ]
    }
   ],
   "source": [
    "from __future__ import (absolute_import, division, print_function,\n",
    "                        unicode_literals)\n",
    "\n",
    "import argparse\n",
    "import os, sys\n",
    "import backtrader as bt\n",
    "import backtrader.feeds as btfeeds\n",
    "import backtrader.indicators as btind\n",
    "\n",
    "\n",
    "class SMAStrategy(bt.Strategy):\n",
    "    params = (\n",
    "        ('period', 10),\n",
    "        ('onlydaily', False),\n",
    "    )\n",
    "\n",
    "    def __init__(self):\n",
    "        self.sma_small_tf = btind.SMA(self.data, period=self.p.period)\n",
    "        if not self.p.onlydaily:\n",
    "            self.sma_large_tf = btind.SMA(self.data1, period=self.p.period)\n",
    "\n",
    "    def nextstart(self):\n",
    "        print('--------------------------------------------------')\n",
    "        print('nextstart called with len', len(self))\n",
    "        print('--------------------------------------------------')\n",
    "\n",
    "        super(SMAStrategy, self).nextstart()\n",
    "\n",
    "\n",
    "def runstrat():\n",
    "    args = parse_args()\n",
    "\n",
    "    # Create a cerebro entity\n",
    "    cerebro = bt.Cerebro(stdstats=False)\n",
    "\n",
    "    # Add a strategy\n",
    "    if not args.indicators:\n",
    "        cerebro.addstrategy(bt.Strategy)\n",
    "    else:\n",
    "        cerebro.addstrategy(\n",
    "            SMAStrategy,\n",
    "\n",
    "            # args for the strategy\n",
    "            period=args.period,\n",
    "            onlydaily=args.onlydaily,\n",
    "        )\n",
    "\n",
    "    modpath = os.path.dirname(os.path.abspath(sys.argv[0]))\n",
    "    datapath_day = os.path.join(modpath, '..\\..\\datas\\2006-day-001.txt')\n",
    "    datapath_week = os.path.join(modpath, '..\\..\\datas\\2006-week-001.txt')\n",
    "        \n",
    "    # Load the Data\n",
    "    datapath = args.dataname or datapath_day\n",
    "    data = btfeeds.BacktraderCSVData(dataname=datapath)\n",
    "    cerebro.adddata(data)  # First add the original data - smaller timeframe\n",
    "\n",
    "    tframes = dict(daily=bt.TimeFrame.Days, weekly=bt.TimeFrame.Weeks,\n",
    "                   monthly=bt.TimeFrame.Months)\n",
    "\n",
    "    # Handy dictionary for the argument timeframe conversion\n",
    "    # Resample the data\n",
    "    if args.noresample:\n",
    "        datapath = args.dataname2 or datapath_week\n",
    "        data2 = btfeeds.BacktraderCSVData(dataname=datapath)\n",
    "        # And then the large timeframe\n",
    "        cerebro.adddata(data2)\n",
    "    else:\n",
    "        cerebro.resampledata(data, timeframe=tframes[args.timeframe],\n",
    "                             compression=args.compression)\n",
    "\n",
    "    # Run over everything\n",
    "    cerebro.run()\n",
    "\n",
    "    # Plot the result\n",
    "    cerebro.plot(style='bar')\n",
    "\n",
    "\n",
    "def parse_args():\n",
    "    parser = argparse.ArgumentParser(\n",
    "        description='Multitimeframe test')\n",
    "\n",
    "    parser.add_argument('--dataname', default='', required=False,\n",
    "                        help='File Data to Load')\n",
    "\n",
    "    parser.add_argument('--dataname2', default='', required=False,\n",
    "                        help='Larger timeframe file to load')\n",
    "\n",
    "    parser.add_argument('--noresample', action='store_true',\n",
    "                        help='Do not resample, rather load larger timeframe')\n",
    "\n",
    "    parser.add_argument('--timeframe', default='weekly', required=False,\n",
    "                        choices=['daily', 'weekly', 'monhtly'],\n",
    "                        help='Timeframe to resample to')\n",
    "\n",
    "    parser.add_argument('--compression', default=1, required=False, type=int,\n",
    "                        help='Compress n bars into 1')\n",
    "\n",
    "    parser.add_argument('--indicators', action='store_true',\n",
    "                        help='Wether to apply Strategy with indicators')\n",
    "\n",
    "    parser.add_argument('--onlydaily', action='store_true',\n",
    "                        help='Indicator only to be applied to daily timeframe')\n",
    "\n",
    "    parser.add_argument('--period', default=10, required=False, type=int,\n",
    "                        help='Period to apply to indicator')\n",
    "\n",
    "    return parser.parse_args()\n",
    "\n",
    "\n",
    "if __name__ == '__main__':\n",
    "    runstrat()"
   ]
  },
  {
   "cell_type": "code",
   "execution_count": null,
   "metadata": {},
   "outputs": [],
   "source": []
  }
 ],
 "metadata": {
  "kernelspec": {
   "name": "pycharm-50a0962a",
   "language": "python",
   "display_name": "PyCharm (python-demo)"
  },
  "language_info": {
   "codemirror_mode": {
    "name": "ipython",
    "version": 3
   },
   "file_extension": ".py",
   "mimetype": "text/x-python",
   "name": "python",
   "nbconvert_exporter": "python",
   "pygments_lexer": "ipython3",
   "version": "3.5.6"
  }
 },
 "nbformat": 4,
 "nbformat_minor": 2
}