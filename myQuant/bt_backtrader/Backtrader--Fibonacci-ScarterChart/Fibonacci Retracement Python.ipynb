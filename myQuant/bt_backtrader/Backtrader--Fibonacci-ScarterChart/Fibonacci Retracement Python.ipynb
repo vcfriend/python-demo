{
 "cells": [
  {
   "cell_type": "code",
   "execution_count": 1,
   "metadata": {},
   "outputs": [
    {
     "ename": "ModuleNotFoundError",
     "evalue": "No module named 'pandas_datareader'",
     "output_type": "error",
     "traceback": [
      "\u001B[1;31m---------------------------------------------------------------------------\u001B[0m",
      "\u001B[1;31mModuleNotFoundError\u001B[0m                       Traceback (most recent call last)",
      "\u001B[1;32m~\\AppData\\Local\\Temp/ipykernel_4864/4191659201.py\u001B[0m in \u001B[0;36m<module>\u001B[1;34m\u001B[0m\n\u001B[0;32m      1\u001B[0m \u001B[1;31m# To import stock prices\u001B[0m\u001B[1;33m\u001B[0m\u001B[1;33m\u001B[0m\u001B[1;33m\u001B[0m\u001B[0m\n\u001B[0;32m      2\u001B[0m \u001B[1;31m# from pandas_datareader import data as pdr\u001B[0m\u001B[1;33m\u001B[0m\u001B[1;33m\u001B[0m\u001B[1;33m\u001B[0m\u001B[0m\n\u001B[1;32m----> 3\u001B[1;33m \u001B[1;32mimport\u001B[0m \u001B[0mpandas_datareader\u001B[0m \u001B[1;32mas\u001B[0m \u001B[0mpdr\u001B[0m\u001B[1;33m\u001B[0m\u001B[1;33m\u001B[0m\u001B[0m\n\u001B[0m\u001B[0;32m      4\u001B[0m \u001B[1;31m# To plot\u001B[0m\u001B[1;33m\u001B[0m\u001B[1;33m\u001B[0m\u001B[1;33m\u001B[0m\u001B[0m\n\u001B[0;32m      5\u001B[0m \u001B[1;32mimport\u001B[0m \u001B[0mmatplotlib\u001B[0m\u001B[1;33m.\u001B[0m\u001B[0mpyplot\u001B[0m \u001B[1;32mas\u001B[0m \u001B[0mplt\u001B[0m\u001B[1;33m\u001B[0m\u001B[1;33m\u001B[0m\u001B[0m\n",
      "\u001B[1;31mModuleNotFoundError\u001B[0m: No module named 'pandas_datareader'"
     ]
    }
   ],
   "source": [
    "# To import stock prices\n",
    "# from pandas_datareader import data as pdr\n",
    "import pandas_datareader as pdr\n",
    "# To plot\n",
    "import matplotlib.pyplot as plt\n",
    "df = pdr.get_data_yahoo('XOM','2017-08-01', '2017-12-31')\n",
    "fig, ax = plt.subplots()\n",
    "ax.plot(df.Close, color='black')"
   ]
  },
  {
   "cell_type": "code",
   "execution_count": 8,
   "metadata": {},
   "outputs": [],
   "source": [
    "price_min = 76 #df.Close.min()"
   ]
  },
  {
   "cell_type": "code",
   "execution_count": 9,
   "metadata": {},
   "outputs": [],
   "source": [
    "price_max = 84 #df.Close.max()"
   ]
  },
  {
   "cell_type": "code",
   "execution_count": 14,
   "metadata": {},
   "outputs": [
    {
     "name": "stderr",
     "output_type": "stream",
     "text": [
      "No handles with labels found to put in legend.\n"
     ]
    },
    {
     "name": "stdout",
     "output_type": "stream",
     "text": [
      "Level Price\n",
      "0  84\n",
      "0.236 82.112\n",
      "0.382 80.944\n",
      "0.618 79.056\n",
      "1  76\n"
     ]
    },
    {
     "data": {
      "image/png": "[encoded data removed]",
      "text/plain": [
       "<Figure size 432x288 with 1 Axes>"
      ]
     },
     "metadata": {
      "needs_background": "light"
     },
     "output_type": "display_data"
    }
   ],
   "source": [
    "# Fibonacci Levels considering original trend as upward move\n",
    "diff = price_max - price_min\n",
    "level1 = price_max - 0.236 * diff\n",
    "level2 = price_max - 0.382 * diff\n",
    "level3 = price_max - 0.618 * diff\n",
    "\n",
    "print (\"Level\", \"Price\")\n",
    "print (\"0 \", price_max)\n",
    "print (\"0.236\", level1)\n",
    "print (\"0.382\", level2)\n",
    "print (\"0.618\", level3)\n",
    "print (\"1 \", price_min)\n",
    "\n",
    "ax.axhspan(level1, price_min, alpha=0.4, color='lightsalmon')\n",
    "ax.axhspan(level2, level1, alpha=0.5, color='palegoldenrod')\n",
    "ax.axhspan(level3, level2, alpha=0.5, color='palegreen')\n",
    "ax.axhspan(price_max, level3, alpha=0.5, color='powderblue')\n",
    "\n",
    "plt.ylabel(\"Price\")\n",
    "plt.xlabel(\"Date\")\n",
    "plt.legend(loc=2)\n",
    "plt.show()"
   ]
  },
  {
   "cell_type": "code",
   "execution_count": null,
   "metadata": {},
   "outputs": [],
   "source": []
  }
 ],
 "metadata": {
  "kernelspec": {
   "name": "pycharm-50a0962a",
   "language": "python",
   "display_name": "PyCharm (python-demo)"
  },
  "language_info": {
   "codemirror_mode": {
    "name": "ipython",
    "version": 3
   },
   "file_extension": ".py",
   "mimetype": "text/x-python",
   "name": "python",
   "nbconvert_exporter": "python",
   "pygments_lexer": "ipython3",
   "version": "3.5.6"
  }
 },
 "nbformat": 4,
 "nbformat_minor": 2
}