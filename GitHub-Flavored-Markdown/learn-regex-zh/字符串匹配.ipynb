{
 "cells": [
  {
   "cell_type": "code",
   "execution_count": 1,
   "metadata": {
    "collapsed": true
   },
   "outputs": [
    {
     "name": "stdout",
     "output_type": "stream",
     "text": [
      "['123']\n"
     ]
    }
   ],
   "source": [
    "import re\n",
    "\n",
    "str = \"a123b\"\n",
    "\n",
    "print(re.findall(r\"a(.+?)b\", str))"
   ]
  },
  {
   "cell_type": "code",
   "execution_count": 72,
   "outputs": [
    {
     "data": {
      "text/plain": "['SQRB']"
     },
     "execution_count": 72,
     "metadata": {},
     "output_type": "execute_result"
    }
   ],
   "source": [
    "# G_FILE_PATH = \"datas\\\\ZQCF13-5m-20121224-20220415.csv\"\n",
    "G_FILE_PATH = \"datas\\\\SQRBOC-5m-20090327-20211231.csv\"\n",
    "# G_FILE_PATH = \"datas\\\\DQC13-5m-20120709-20220330.csv\"\n",
    "re.findall(r\"\\\\([\\D]*)\", G_FILE_PATH)[0]\n",
    "# 匹配datas\\\\开始的2-4个字符\n",
    "re.findall(r\"datas\\\\([a-zA-Z]{2,4})\", G_FILE_PATH)"
   ],
   "metadata": {
    "collapsed": false,
    "pycharm": {
     "name": "#%%\n"
    }
   }
  },
  {
   "cell_type": "code",
   "execution_count": 48,
   "outputs": [
    {
     "data": {
      "text/plain": "['ZQCF']"
     },
     "execution_count": 48,
     "metadata": {},
     "output_type": "execute_result"
    }
   ],
   "source": [
    "import re\n",
    "\n",
    "line = \"datas\\\\ZQCF13-5m-20121224-20220415.csv\"\n",
    "patt = r\"\\\\([\\D]*)\"\n",
    "pattern = re.compile(patt)\n",
    "pattern.findall(line)"
   ],
   "metadata": {
    "collapsed": false,
    "pycharm": {
     "name": "#%%\n"
    }
   }
  },
  {
   "cell_type": "code",
   "execution_count": 27,
   "outputs": [
    {
     "name": "stdout",
     "output_type": "stream",
     "text": [
      "True\n",
      "False\n"
     ]
    },
    {
     "data": {
      "text/plain": "5"
     },
     "execution_count": 27,
     "metadata": {},
     "output_type": "execute_result"
    }
   ],
   "source": [
    "text = 'datas\\\\ZQCF13-5m'\n",
    "# 匹配开头或结尾\n",
    "print(text.startswith('datas'))\n",
    "print(text.endswith('123'))\n",
    "# 搜索第一次出现位置\n",
    "text.find('\\\\')\n"
   ],
   "metadata": {
    "collapsed": false,
    "pycharm": {
     "name": "#%%\n"
    }
   }
  }
 ],
 "metadata": {
  "kernelspec": {
   "display_name": "Python 3",
   "language": "python",
   "name": "python3"
  },
  "language_info": {
   "codemirror_mode": {
    "name": "ipython",
    "version": 2
   },
   "file_extension": ".py",
   "mimetype": "text/x-python",
   "name": "python",
   "nbconvert_exporter": "python",
   "pygments_lexer": "ipython2",
   "version": "2.7.6"
  }
 },
 "nbformat": 4,
 "nbformat_minor": 0
}