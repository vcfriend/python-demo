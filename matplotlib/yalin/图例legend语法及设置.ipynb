{
 "cells": [
  {
   "cell_type": "markdown",
   "metadata": {
    "collapsed": true,
    "pycharm": {
     "name": "#%% md\n"
    }
   },
   "source": [
    "## 1.图例legend基础语法及用法\n",
    "\n",
    "legend语法参数如下: matplotlib.pyplot.legend(*args, **kwargs)\n",
    "\n",
    "| Keyword | Description |\n",
    "| :- | :- |\n",
    "|loc | Location code string, or tuple (see below).图例所有figure位置 |\n",
    "prop | the font property字体参数\n",
    "fontsize | the font size (used only if prop is not specified)\n",
    "markerscale |the relative size of legend markers vs. original 图例标记与原始标记的相对大小\n",
    "markerfirst |If True (default), marker is to left of the label.如果为True，则图例标记位于图例标签的左侧\n",
    "numpoints |the number of points in the legend for line 为线条图图例条目创建的标记点数\n",
    "scatterpoints| the number of points in the legend for scatter plot 为散点图图例条目创建的标记点数\n",
    "scatteryoffsets| a list of yoffsets for scatter symbols in legend 为散点图图例条目创建的标记的垂直偏移量\n",
    "frameon| If True, draw the legend on a patch (frame). 控制是否应在图例周围绘制框架\n",
    "fancybox| If True, draw the frame with a round fancybox. 控制是否应在构成图例背景的FancyBboxPatch周围启用圆边\n",
    "shadow| If True, draw a shadow behind legend.控制是否在图例后面画一个阴影\n",
    "framealpha| Transparency of the frame.控制图例框架的 Alpha 透明度\n",
    "edgecolor| Frame edgecolor.\n",
    "facecolor| Frame facecolor.\n",
    "ncol| number of columns 设置图例分为n列展示\n",
    "borderpad| the fractional whitespace inside the legend border 图例边框的内边距\n",
    "labelspacing| the vertical space between the legend entries 图例条目之间的垂直间距\n",
    "handlelength| the length of the legend handles 图例句柄的长度\n",
    "handleheight| the height of the legend handles图例句柄的高度\n",
    "handletextpad| the pad between the legend handle and text 图例句柄和文本之间的间距\n",
    "borderaxespad| the pad between the axes and legend border 轴与图例边框之间的距离\n",
    "columnspacing| the spacing between columns 列间距\n",
    "title| the legend title\n",
    "bbox_to_anchor| the bbox that the legend will be anchored.指定图例在轴的位置\n",
    "bbox_transform| the transform for the bbox. transAxes if None."
   ]
  },
  {
   "cell_type": "markdown",
   "source": [
    "### (1)设置图例位置\n",
    "使用loc参数\n",
    "plt.legend(loc='lower left')\n",
    "0: ‘best'\n",
    "1: ‘upper right'\n",
    "2: ‘upper left'\n",
    "3: ‘lower left'\n",
    "4: ‘lower right'\n",
    "5: ‘right'\n",
    "6: ‘center left'\n",
    "7: ‘center right'\n",
    "8: ‘lower center'\n",
    "9: ‘upper center'\n",
    "10: ‘center'\n",
    "\n",
    "\n",
    "### (2)设置图例字体\n",
    "#设置字体大小\n",
    "fontsize : int or float or {‘xx-small’, ‘x-small’, ‘small’, ‘medium’, ‘large’, ‘x-large’, ‘xx-large’}\n",
    "\n",
    "### (3)设置图例边框及背景\n",
    "plt.legend(loc='best',frameon=False) #去掉图例边框\n",
    "plt.legend(loc='best',edgecolor='blue') #设置图例边框颜色\n",
    "plt.legend(loc='best',facecolor='blue') #设置图例背景颜色,若无边框,参数无效\n",
    "\n",
    "### (4)设置图例标题\n",
    "plt.legend(loc='best',title='figure 1 legend') #去掉图例边框\n",
    "\n",
    "\n",
    "————————————————\n",
    "版权声明：本文为CSDN博主「开码牛」的原创文章，遵循CC 4.0 BY-SA版权协议，转载请附上原文出处链接及本声明。\n",
    "原文链接：https://blog.csdn.net/helunqu2017/article/details/78641290"
   ],
   "metadata": {
    "collapsed": false,
    "pycharm": {
     "name": "#%% md\n"
    }
   }
  },
  {
   "cell_type": "markdown",
   "source": [
    "## 2.legend面向对象命令\n",
    "### (1)获取并设置legend图例\n",
    "plt.legend(loc=0, numpoints=1)\n",
    "leg = plt.gca().get_legend() #或leg=ax.get_legend()\n",
    "ltext = leg.get_texts()\n",
    "plt.setp(ltext, fontsize=12,fontweight='bold')\n",
    "\n",
    "### (2)设置图例\n",
    "legend = ax.legend((rectsTest1, rectsTest2, rectsTest3), ('test1', 'test2', 'test3'))\n",
    "legend = ax.legend(loc='upper center', shadow=True, fontsize='x-large')\n",
    "legend.get_frame().set_facecolor('red') #设置图例legend背景为红色\n",
    "frame = legend.get_frame()\n",
    "frame.set_alpha(1)\n",
    "frame.set_facecolor('none')  #设置图例legend背景透明\n",
    "\n",
    "###n(3)移除图例\n",
    "ax1.legend_.remove() ##移除子图ax1中的图例\n",
    "ax2.legend_.remove() ##移除子图ax2中的图例\n",
    "ax3.legend_.remove() ##移除子图ax3中的图例"
   ],
   "metadata": {
    "collapsed": false,
    "pycharm": {
     "name": "#%% md\n"
    }
   }
  },
  {
   "cell_type": "markdown",
   "source": [
    "## 3.案例：设置图例legend到图形边界外\n",
    "\n",
    " 主要是bbox_to_anchor的使用\n",
    "\n",
    "box = ax1.get_position()\n",
    "\n",
    "ax1.set_position([box.x0, box.y0, box.width , box.height* 0.8])\n",
    "\n",
    "ax1.legend(loc='center', bbox_to_anchor=(0.5, 1.2),ncol=3)"
   ],
   "metadata": {
    "collapsed": false,
    "pycharm": {
     "name": "#%% md\n"
    }
   }
  },
  {
   "cell_type": "markdown",
   "source": [
    "## 4.案例：显示多图例legend\n",
    "\n"
   ],
   "metadata": {
    "collapsed": false,
    "pycharm": {
     "name": "#%% md\n"
    }
   }
  },
  {
   "cell_type": "code",
   "execution_count": 18,
   "outputs": [
    {
     "name": "stdout",
     "output_type": "stream",
     "text": [
      "[-0.61726898  0.2551382   0.30478886  0.63891184]\n",
      "[ 0.78772434 -0.2271321   0.60772141  0.60524878]\n"
     ]
    },
    {
     "data": {
      "text/plain": "<matplotlib.legend.Legend at 0x2bbc0213c10>"
     },
     "execution_count": 18,
     "metadata": {},
     "output_type": "execute_result"
    },
    {
     "data": {
      "text/plain": "<Figure size 432x288 with 1 Axes>",
      "image/png": "[encoded data removed]"
     },
     "metadata": {
      "needs_background": "light"
     },
     "output_type": "display_data"
    }
   ],
   "source": [
    "import matplotlib.pyplot as plt\n",
    "import numpy as np\n",
    "\n",
    "x = np.random.uniform(-1, 1, 4)\n",
    "y = np.random.uniform(-1, 1, 4)\n",
    "print(x)\n",
    "print(y)\n",
    "p1, = plt.plot([1, 2, 3])\n",
    "p2, = plt.plot([3, 2, 1])\n",
    "\n",
    "l1 = plt.legend([p2, p1], [\"line p2\", \"line p1\"], loc='upper left')\n",
    "p3 = plt.scatter(x[0:2], y[0:2], marker='D', color='r')\n",
    "p4 = plt.scatter(x[2:], y[2:], marker='D', color='g')\n",
    "\n",
    "# This removes l1 from the axes.\n",
    "plt.legend([p3, p4], ['label p3', 'label p4'], loc='lower right', scatterpoints=1)\n",
    "\n",
    "# Add l1 as a separate artist to the axes\n",
    "plt.gca().add_artist(l1)\n"
   ],
   "metadata": {
    "collapsed": false,
    "pycharm": {
     "name": "#%%\n"
    }
   }
  },
  {
   "cell_type": "code",
   "execution_count": 21,
   "outputs": [
    {
     "data": {
      "text/plain": "<Figure size 432x288 with 1 Axes>",
      "image/png": "[encoded data removed]"
     },
     "metadata": {
      "needs_background": "light"
     },
     "output_type": "display_data"
    }
   ],
   "source": [
    "from matplotlib import pyplot as plt\n",
    "import numpy as np\n",
    "\n",
    "train_x = np.linspace(-1, 1, 10)\n",
    "train_y_1 = 2*train_x + np.random.rand(*train_x.shape)*0.3\n",
    "train_y_2 = train_x**2+np.random.randn(*train_x.shape)*0.3\n",
    "\n",
    "plt.scatter(train_x, train_y_1, c='red', marker='v' )\n",
    "plt.scatter(train_x, train_y_2, c='blue', marker='o' )\n",
    "plt.legend([\"red\",\"Blue\"])\n",
    "plt.show()"
   ],
   "metadata": {
    "collapsed": false,
    "pycharm": {
     "name": "#%%\n"
    }
   }
  },
  {
   "cell_type": "code",
   "execution_count": 31,
   "outputs": [
    {
     "ename": "SyntaxError",
     "evalue": "can't use starred expression here (Temp/ipykernel_23564/864610255.py, line 3)",
     "output_type": "error",
     "traceback": [
      "\u001B[1;36m  File \u001B[1;32m\"C:\\Users\\yalin\\AppData\\Local\\Temp/ipykernel_23564/864610255.py\"\u001B[1;36m, line \u001B[1;32m3\u001B[0m\n\u001B[1;33m    *d\u001B[0m\n\u001B[1;37m    ^\u001B[0m\n\u001B[1;31mSyntaxError\u001B[0m\u001B[1;31m:\u001B[0m can't use starred expression here\n"
     ]
    }
   ],
   "source": [
    "d = train_x.shape\n",
    "type(d)\n",
    "# np.random.rand(*d)"
   ],
   "metadata": {
    "collapsed": false,
    "pycharm": {
     "name": "#%%\n"
    }
   }
  }
 ],
 "metadata": {
  "kernelspec": {
   "name": "pycharm-50a0962a",
   "language": "python",
   "display_name": "PyCharm (python-demo)"
  },
  "language_info": {
   "codemirror_mode": {
    "name": "ipython",
    "version": 2
   },
   "file_extension": ".py",
   "mimetype": "text/x-python",
   "name": "python",
   "nbconvert_exporter": "python",
   "pygments_lexer": "ipython2",
   "version": "2.7.6"
  }
 },
 "nbformat": 4,
 "nbformat_minor": 0
}