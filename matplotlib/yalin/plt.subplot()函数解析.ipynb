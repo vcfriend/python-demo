{
 "cells": [
  {
   "cell_type": "markdown",
   "metadata": {
    "collapsed": true,
    "pycharm": {
     "name": "#%% md\n"
    }
   },
   "source": [
    "# plt.subplot()函数解析（最清晰的解释）\n",
    "https://blog.csdn.net/TeFuirnever/article/details/89842795\n",
    "\n",
    "plt.subplot()函数用于直接指定划分方式和位置进行绘图。\n",
    "MATLAB和 pyplot 有当前的图形（f i g u r e）和当前的轴（axes）的概念，所有的作图命令都是对当前的对象作用。可以通过gca()获得当前的轴（a x e s），通过g c f ( ) 获得当前的图形（f i g u r e）。"
   ]
  },
  {
   "cell_type": "code",
   "execution_count": 3,
   "outputs": [
    {
     "ename": "ImportError",
     "evalue": "DLL load failed while importing _imaging: 找不到指定的模块。",
     "output_type": "error",
     "traceback": [
      "\u001B[1;31m---------------------------------------------------------------------------\u001B[0m",
      "\u001B[1;31mImportError\u001B[0m                               Traceback (most recent call last)",
      "\u001B[1;32m~\\AppData\\Local\\Temp/ipykernel_17676/2461551761.py\u001B[0m in \u001B[0;36m<module>\u001B[1;34m\u001B[0m\n\u001B[0;32m      2\u001B[0m \u001B[1;32mimport\u001B[0m \u001B[0mnumpy\u001B[0m \u001B[1;32mas\u001B[0m \u001B[0mnp\u001B[0m\u001B[1;33m\u001B[0m\u001B[1;33m\u001B[0m\u001B[0m\n\u001B[0;32m      3\u001B[0m \u001B[1;32mimport\u001B[0m \u001B[0mpandas\u001B[0m \u001B[1;32mas\u001B[0m \u001B[0mpd\u001B[0m\u001B[1;33m\u001B[0m\u001B[1;33m\u001B[0m\u001B[0m\n\u001B[1;32m----> 4\u001B[1;33m \u001B[1;32mimport\u001B[0m \u001B[0mmatplotlib\u001B[0m\u001B[1;33m.\u001B[0m\u001B[0mpyplot\u001B[0m \u001B[1;32mas\u001B[0m \u001B[0mplt\u001B[0m\u001B[1;33m\u001B[0m\u001B[1;33m\u001B[0m\u001B[0m\n\u001B[0m\u001B[0;32m      5\u001B[0m \u001B[1;32mfrom\u001B[0m \u001B[0mjupyterthemes\u001B[0m \u001B[1;32mimport\u001B[0m \u001B[0mjtplot\u001B[0m\u001B[1;33m\u001B[0m\u001B[1;33m\u001B[0m\u001B[0m\n\u001B[0;32m      6\u001B[0m \u001B[0mjtplot\u001B[0m\u001B[1;33m.\u001B[0m\u001B[0mstyle\u001B[0m\u001B[1;33m(\u001B[0m\u001B[0mtheme\u001B[0m\u001B[1;33m=\u001B[0m\u001B[1;34m'onedork'\u001B[0m\u001B[1;33m)\u001B[0m \u001B[1;31m#深色背景下选择一个绘图主题 monokai 或 onedork\u001B[0m\u001B[1;33m\u001B[0m\u001B[1;33m\u001B[0m\u001B[0m\n",
      "\u001B[1;32mC:\\ProgramData\\Anaconda3\\envs\\py39\\lib\\site-packages\\matplotlib\\__init__.py\u001B[0m in \u001B[0;36m<module>\u001B[1;34m\u001B[0m\n\u001B[0;32m    107\u001B[0m \u001B[1;31m# cbook must import matplotlib only within function\u001B[0m\u001B[1;33m\u001B[0m\u001B[1;33m\u001B[0m\u001B[0m\n\u001B[0;32m    108\u001B[0m \u001B[1;31m# definitions, so it is safe to import from it here.\u001B[0m\u001B[1;33m\u001B[0m\u001B[1;33m\u001B[0m\u001B[0m\n\u001B[1;32m--> 109\u001B[1;33m \u001B[1;32mfrom\u001B[0m \u001B[1;33m.\u001B[0m \u001B[1;32mimport\u001B[0m \u001B[0m_api\u001B[0m\u001B[1;33m,\u001B[0m \u001B[0m_version\u001B[0m\u001B[1;33m,\u001B[0m \u001B[0mcbook\u001B[0m\u001B[1;33m,\u001B[0m \u001B[0mdocstring\u001B[0m\u001B[1;33m,\u001B[0m \u001B[0mrcsetup\u001B[0m\u001B[1;33m\u001B[0m\u001B[1;33m\u001B[0m\u001B[0m\n\u001B[0m\u001B[0;32m    110\u001B[0m \u001B[1;32mfrom\u001B[0m \u001B[0mmatplotlib\u001B[0m\u001B[1;33m.\u001B[0m\u001B[0mcbook\u001B[0m \u001B[1;32mimport\u001B[0m \u001B[0mMatplotlibDeprecationWarning\u001B[0m\u001B[1;33m,\u001B[0m \u001B[0msanitize_sequence\u001B[0m\u001B[1;33m\u001B[0m\u001B[1;33m\u001B[0m\u001B[0m\n\u001B[0;32m    111\u001B[0m \u001B[1;32mfrom\u001B[0m \u001B[0mmatplotlib\u001B[0m\u001B[1;33m.\u001B[0m\u001B[0mcbook\u001B[0m \u001B[1;32mimport\u001B[0m \u001B[0mmplDeprecation\u001B[0m  \u001B[1;31m# deprecated\u001B[0m\u001B[1;33m\u001B[0m\u001B[1;33m\u001B[0m\u001B[0m\n",
      "\u001B[1;32mC:\\ProgramData\\Anaconda3\\envs\\py39\\lib\\site-packages\\matplotlib\\rcsetup.py\u001B[0m in \u001B[0;36m<module>\u001B[1;34m\u001B[0m\n\u001B[0;32m     25\u001B[0m \u001B[1;32mfrom\u001B[0m \u001B[0mmatplotlib\u001B[0m \u001B[1;32mimport\u001B[0m \u001B[0m_api\u001B[0m\u001B[1;33m,\u001B[0m \u001B[0mcbook\u001B[0m\u001B[1;33m\u001B[0m\u001B[1;33m\u001B[0m\u001B[0m\n\u001B[0;32m     26\u001B[0m \u001B[1;32mfrom\u001B[0m \u001B[0mmatplotlib\u001B[0m\u001B[1;33m.\u001B[0m\u001B[0mcbook\u001B[0m \u001B[1;32mimport\u001B[0m \u001B[0mls_mapper\u001B[0m\u001B[1;33m\u001B[0m\u001B[1;33m\u001B[0m\u001B[0m\n\u001B[1;32m---> 27\u001B[1;33m \u001B[1;32mfrom\u001B[0m \u001B[0mmatplotlib\u001B[0m\u001B[1;33m.\u001B[0m\u001B[0mcolors\u001B[0m \u001B[1;32mimport\u001B[0m \u001B[0mColormap\u001B[0m\u001B[1;33m,\u001B[0m \u001B[0mis_color_like\u001B[0m\u001B[1;33m\u001B[0m\u001B[1;33m\u001B[0m\u001B[0m\n\u001B[0m\u001B[0;32m     28\u001B[0m \u001B[1;32mfrom\u001B[0m \u001B[0mmatplotlib\u001B[0m\u001B[1;33m.\u001B[0m\u001B[0mfontconfig_pattern\u001B[0m \u001B[1;32mimport\u001B[0m \u001B[0mparse_fontconfig_pattern\u001B[0m\u001B[1;33m\u001B[0m\u001B[1;33m\u001B[0m\u001B[0m\n\u001B[0;32m     29\u001B[0m \u001B[1;32mfrom\u001B[0m \u001B[0mmatplotlib\u001B[0m\u001B[1;33m.\u001B[0m\u001B[0m_enums\u001B[0m \u001B[1;32mimport\u001B[0m \u001B[0mJoinStyle\u001B[0m\u001B[1;33m,\u001B[0m \u001B[0mCapStyle\u001B[0m\u001B[1;33m\u001B[0m\u001B[1;33m\u001B[0m\u001B[0m\n",
      "\u001B[1;32mC:\\ProgramData\\Anaconda3\\envs\\py39\\lib\\site-packages\\matplotlib\\colors.py\u001B[0m in \u001B[0;36m<module>\u001B[1;34m\u001B[0m\n\u001B[0;32m     49\u001B[0m \u001B[1;32mfrom\u001B[0m \u001B[0mnumbers\u001B[0m \u001B[1;32mimport\u001B[0m \u001B[0mNumber\u001B[0m\u001B[1;33m\u001B[0m\u001B[1;33m\u001B[0m\u001B[0m\n\u001B[0;32m     50\u001B[0m \u001B[1;32mimport\u001B[0m \u001B[0mre\u001B[0m\u001B[1;33m\u001B[0m\u001B[1;33m\u001B[0m\u001B[0m\n\u001B[1;32m---> 51\u001B[1;33m \u001B[1;32mfrom\u001B[0m \u001B[0mPIL\u001B[0m \u001B[1;32mimport\u001B[0m \u001B[0mImage\u001B[0m\u001B[1;33m\u001B[0m\u001B[1;33m\u001B[0m\u001B[0m\n\u001B[0m\u001B[0;32m     52\u001B[0m \u001B[1;32mfrom\u001B[0m \u001B[0mPIL\u001B[0m\u001B[1;33m.\u001B[0m\u001B[0mPngImagePlugin\u001B[0m \u001B[1;32mimport\u001B[0m \u001B[0mPngInfo\u001B[0m\u001B[1;33m\u001B[0m\u001B[1;33m\u001B[0m\u001B[0m\n\u001B[0;32m     53\u001B[0m \u001B[1;33m\u001B[0m\u001B[0m\n",
      "\u001B[1;32mC:\\ProgramData\\Anaconda3\\envs\\py39\\lib\\site-packages\\PIL\\Image.py\u001B[0m in \u001B[0;36m<module>\u001B[1;34m\u001B[0m\n\u001B[0;32m    112\u001B[0m     \u001B[1;31m# Also note that Image.core is not a publicly documented interface,\u001B[0m\u001B[1;33m\u001B[0m\u001B[1;33m\u001B[0m\u001B[0m\n\u001B[0;32m    113\u001B[0m     \u001B[1;31m# and should be considered private and subject to change.\u001B[0m\u001B[1;33m\u001B[0m\u001B[1;33m\u001B[0m\u001B[0m\n\u001B[1;32m--> 114\u001B[1;33m     \u001B[1;32mfrom\u001B[0m \u001B[1;33m.\u001B[0m \u001B[1;32mimport\u001B[0m \u001B[0m_imaging\u001B[0m \u001B[1;32mas\u001B[0m \u001B[0mcore\u001B[0m\u001B[1;33m\u001B[0m\u001B[1;33m\u001B[0m\u001B[0m\n\u001B[0m\u001B[0;32m    115\u001B[0m \u001B[1;33m\u001B[0m\u001B[0m\n\u001B[0;32m    116\u001B[0m     \u001B[1;32mif\u001B[0m \u001B[0m__version__\u001B[0m \u001B[1;33m!=\u001B[0m \u001B[0mgetattr\u001B[0m\u001B[1;33m(\u001B[0m\u001B[0mcore\u001B[0m\u001B[1;33m,\u001B[0m \u001B[1;34m\"PILLOW_VERSION\"\u001B[0m\u001B[1;33m,\u001B[0m \u001B[1;32mNone\u001B[0m\u001B[1;33m)\u001B[0m\u001B[1;33m:\u001B[0m\u001B[1;33m\u001B[0m\u001B[1;33m\u001B[0m\u001B[0m\n",
      "\u001B[1;31mImportError\u001B[0m: DLL load failed while importing _imaging: 找不到指定的模块。"
     ]
    }
   ],
   "source": [
    "# coding=utf8\n",
    "import numpy as np\n",
    "import pandas as pd\n",
    "import matplotlib.pyplot as plt\n",
    "from jupyterthemes import jtplot\n",
    "jtplot.style(theme='onedork') #深色背景下选择一个绘图主题 monokai 或 onedork\n",
    "plt.rcParams['font.sans-serif'] = ['SimHei']   #指定默认字体,用来正常显示中文标签\n",
    "plt.rcParams['font.family']='sans-serif'\n",
    "plt.rcParams['axes.unicode_minus'] = False   #用来正常显示负号"
   ],
   "metadata": {
    "collapsed": false,
    "pycharm": {
     "name": "#%%\n"
    }
   }
  },
  {
   "cell_type": "code",
   "execution_count": null,
   "outputs": [],
   "source": [
    "# 使用plt.subplot来创建小图. plt.subplot(221)表示将整个图像窗口分为2行2列, 当前位置为1.\n",
    "plt.subplot(221)\n",
    "# plt.subplot(222)表示将整个图像窗口分为2行2列, 当前位置为2.\n",
    "plt.subplot(222) # 第一行的右图\n",
    "# plt.subplot(223)表示将整个图像窗口分为2行2列, 当前位置为3.\n",
    "plt.subplot(223)\n",
    "# plt.subplot(224)表示将整个图像窗口分为2行2列, 当前位置为4.\n",
    "plt.subplot(224)"
   ],
   "metadata": {
    "collapsed": false,
    "pycharm": {
     "name": "#%%\n"
    }
   }
  },
  {
   "cell_type": "markdown",
   "source": [
    "注意：其中各个参数也可以用逗号，分隔开。第一个参数代表子图的行数；第二个参数代表该行图像的列数； 第三个参数代表每行的第几个图像。\n"
   ],
   "metadata": {
    "collapsed": false,
    "pycharm": {
     "name": "#%% md\n"
    }
   }
  },
  {
   "cell_type": "code",
   "execution_count": null,
   "outputs": [],
   "source": [
    "import numpy as np\n",
    "import matplotlib.pyplot as plt\n",
    "\n",
    "def f(t):\n",
    "\treturn np.exp(-t) * np.cos(2*np.pi*t)\n",
    "\n",
    "t1 = np.arange(0.0, 5.0, 0.1)\n",
    "t2 = np.arange(0.0, 5.0, 0.02)\n",
    "plt.figure(1)\n",
    "plt.subplot(211)\n",
    "plt.plot(t1, f(t1), 'bo', t2, f(t2), 'k')\n",
    "plt.subplot(212)\n",
    "plt.plot(t2, np.cos(2*np.pi*t2), 'r--')\n",
    "plt.show()"
   ],
   "metadata": {
    "collapsed": false,
    "pycharm": {
     "name": "#%%\n"
    }
   }
  },
  {
   "cell_type": "markdown",
   "source": [
    "如果不指定figure()的轴，figure(1)命令默认会被建立，\n",
    "同样的如果你不指定subplot(numrows,numcols,fignum)的轴，subplot(111)也会自动建立。"
   ],
   "metadata": {
    "collapsed": false,
    "pycharm": {
     "name": "#%% md\n"
    }
   }
  },
  {
   "cell_type": "code",
   "execution_count": null,
   "outputs": [],
   "source": [
    "import matplotlib.pyplot as plt\n",
    "plt.figure(1) # 创建第一个画板（figure）\n",
    "plt.subplot(211) # 第一个画板的第一个子图\n",
    "plt.plot([1, 1, 3])\n",
    "plt.subplot(212) # 第二个画板的第二个子图\n",
    "plt.plot([4, 5, 6])\n",
    "\n",
    "plt.figure(2) # 创建第二个画板\n",
    "plt.plot([4, 5, 6]) # 默认子图命令是subplot(111)\n",
    "plt.figure(1) # 调取画板1; subplot(212)仍然被调用中\n",
    "plt.subplot(211) # 调用subplot(211)\n",
    "plt.title('Easy as 1, 2, 3') # 做出211的标题"
   ],
   "metadata": {
    "collapsed": false,
    "pycharm": {
     "name": "#%%\n"
    }
   }
  },
  {
   "cell_type": "code",
   "execution_count": null,
   "outputs": [],
   "source": [],
   "metadata": {
    "collapsed": false,
    "pycharm": {
     "name": "#%%\n"
    }
   }
  }
 ],
 "metadata": {
  "kernelspec": {
   "name": "pycharm-50a0962a",
   "language": "python",
   "display_name": "PyCharm (python-demo)"
  },
  "language_info": {
   "codemirror_mode": {
    "name": "ipython",
    "version": 2
   },
   "file_extension": ".py",
   "mimetype": "text/x-python",
   "name": "python",
   "nbconvert_exporter": "python",
   "pygments_lexer": "ipython2",
   "version": "2.7.6"
  }
 },
 "nbformat": 4,
 "nbformat_minor": 0
}