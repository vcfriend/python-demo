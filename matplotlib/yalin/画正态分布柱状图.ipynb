{
 "cells": [
  {
   "cell_type": "code",
   "execution_count": 20,
   "metadata": {
    "collapsed": true
   },
   "outputs": [],
   "source": [
    "# -*- coding: utf-8 -*-\n",
    "import matplotlib.pyplot as plt\n",
    "import numpy as np"
   ]
  },
  {
   "cell_type": "code",
   "execution_count": 35,
   "outputs": [
    {
     "name": "stdout",
     "output_type": "stream",
     "text": [
      "[0 1 0 0 0 1 1 0 0 0]\n"
     ]
    },
    {
     "data": {
      "text/plain": "array([  0,  10,  20,  30,  40,  50,  60,  70,  80,  90, 100])"
     },
     "execution_count": 35,
     "metadata": {},
     "output_type": "execute_result"
    }
   ],
   "source": [
    "print(np.random.randint(0, 2, 10))\n",
    "np.arange(0,101,10)"
   ],
   "metadata": {
    "collapsed": false,
    "pycharm": {
     "name": "#%%\n"
    }
   }
  },
  {
   "cell_type": "markdown",
   "source": [
    "hist绘制直方图"
   ],
   "metadata": {
    "collapsed": false
   }
  },
  {
   "cell_type": "code",
   "execution_count": 37,
   "outputs": [
    {
     "name": "stdout",
     "output_type": "stream",
     "text": [
      "[-1.  -0.9 -0.8 -0.7 -0.6 -0.5 -0.4 -0.3 -0.2 -0.1 -0.   0.1  0.2  0.3\n",
      "  0.4  0.5  0.6  0.7  0.8  0.9]\n"
     ]
    },
    {
     "data": {
      "text/plain": "(array([23, 26, 32, 28, 36, 37, 42, 47, 44, 40, 39, 51, 42, 33, 40, 39, 36,\n        29, 22], dtype=int64),\n array([-1. , -0.9, -0.8, -0.7, -0.6, -0.5, -0.4, -0.3, -0.2, -0.1, -0. ,\n         0.1,  0.2,  0.3,  0.4,  0.5,  0.6,  0.7,  0.8,  0.9]))"
     },
     "execution_count": 37,
     "metadata": {},
     "output_type": "execute_result"
    }
   ],
   "source": [
    "#设定numpy显示浮点数精度的小数位数,不使用科学记数法\n",
    "np.set_printoptions(precision=3, suppress=True)\n",
    "\n",
    "# 生成一些随机数\n",
    "rng = np.random.RandomState(10)\n",
    "data1 = rng.normal(size=1000)\n",
    "data2 = rng.normal(size=1000)\n",
    "# 查看np.histogram的输出\n",
    "binRange = np.arange(-1,1,0.1)\n",
    "print(binRange)\n",
    "np.histogram(data1, bins=binRange)"
   ],
   "metadata": {
    "collapsed": false,
    "pycharm": {
     "name": "#%%\n"
    }
   }
  },
  {
   "cell_type": "code",
   "execution_count": 40,
   "outputs": [
    {
     "data": {
      "text/plain": "array([0.428, 0.286])"
     },
     "execution_count": 40,
     "metadata": {},
     "output_type": "execute_result"
    }
   ],
   "source": [
    "rng=np.random.RandomState(10)\n",
    "data1=rng.normal(size=1000)\n",
    "bin_range=[-1,0,2] # 设置区间, 分别是[-1,0]和[0,2]\n",
    "# 计算每一个区间所占的百分比\n",
    "hist,_ = np.histogram(data1, bin_range, density=True)\n",
    "hist\n"
   ],
   "metadata": {
    "collapsed": false,
    "pycharm": {
     "name": "#%%\n"
    }
   }
  },
  {
   "cell_type": "code",
   "execution_count": 42,
   "outputs": [
    {
     "data": {
      "text/plain": "<Figure size 720x432 with 1 Axes>",
      "image/png": "[encoded data removed]"
     },
     "metadata": {
      "needs_background": "light"
     },
     "output_type": "display_data"
    }
   ],
   "source": [
    "# 生成一些随机数\n",
    "rng = np.random.RandomState(10)\n",
    "data1 = rng.normal(size=1000)\n",
    "data2 = rng.normal(size=1000)\n",
    "# 查看np.histogram的输出\n",
    "binRange = np.arange(-1,1,0.1)\n",
    "\n",
    "hist1,_ = np.histogram(data1, bins=binRange)\n",
    "hist2,_ = np.histogram(data2, bins=binRange)\n",
    "# 绘制图像\n",
    "fig, ax1 = plt.subplots()\n",
    "fig.set_size_inches(10, 6)\n",
    "plt.set_cmap('RdBu')\n",
    "x = np.arange(len(binRange)-1)*3\n",
    "w=0.3\n",
    "# 绘制多个bar在同一个图中, 这里需要控制width\n",
    "plt.bar(x-w, hist1, width = 2*w, align='center')\n",
    "plt.bar(x+w, hist2, width = 2*w, align='center')\n",
    "# 设置坐标轴的标签\n",
    "ax1.yaxis.set_tick_params(labelsize=15) # 设置y轴的字体的大小\n",
    "ax1.set_xticks(x) # 设置xticks出现的位置\n",
    "# 设置坐标轴名称\n",
    "ax1.set_ylabel(\"Count\", fontsize='xx-large')\n",
    "# 设置标题\n",
    "ax1.set_title('The Distribution of Normal1 Data and Normal2 Data', fontsize='x-large')\n",
    "# 设置图例\n",
    "plt.legend(('Normal1','Nomral2'),fontsize = 'x-large', loc='upper right')\n",
    "plt.show()"
   ],
   "metadata": {
    "collapsed": false,
    "pycharm": {
     "name": "#%%\n"
    }
   }
  },
  {
   "cell_type": "code",
   "execution_count": null,
   "outputs": [],
   "source": [],
   "metadata": {
    "collapsed": false,
    "pycharm": {
     "name": "#%%\n"
    }
   }
  }
 ],
 "metadata": {
  "kernelspec": {
   "name": "pycharm-50a0962a",
   "language": "python",
   "display_name": "PyCharm (python-demo)"
  },
  "language_info": {
   "codemirror_mode": {
    "name": "ipython",
    "version": 2
   },
   "file_extension": ".py",
   "mimetype": "text/x-python",
   "name": "python",
   "nbconvert_exporter": "python",
   "pygments_lexer": "ipython2",
   "version": "2.7.6"
  }
 },
 "nbformat": 4,
 "nbformat_minor": 0
}