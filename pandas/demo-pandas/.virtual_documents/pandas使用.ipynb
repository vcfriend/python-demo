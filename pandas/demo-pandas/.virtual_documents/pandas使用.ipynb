import sys

import numpy as np

import pandas as pd


print(sys.version)


# 通过传递值列表创建
s = pd.Series([1, 3, 5, np.nan, 6, 8])
s


# 通过 NumPy 阵列创建数据帧，其中带有日期时间索引和标记列：
dates = pd.date_range("20130101", periods=6)
dates


df = pd.DataFrame(np.random.randn(6, 4), index=dates, columns=list("ABCd"))
df


# 通过传递可转换为类似系列的对象的听写来创建数据帧。
df2 = pd.DataFrame(
    {
        "A": 1.0,
        "B": pd.Timestamp("20130102"),
        "C": pd.Series(1, index=list(range(4)), dtype="float32"),
        "D": np.array([3] * 4, dtype="int32"),
        "E": pd.Categorical(["test", "train", "test", "train"]),
        "F": "foo",
    }
)
df2


# 生成的数据帧的列具有不同的 d型。
df2.dtypes


df.head(4)


df.tail(4)






