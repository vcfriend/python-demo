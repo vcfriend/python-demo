{
 "cells": [
  {
   "cell_type": "code",
   "execution_count": 2,
   "id": "0d26657e-a168-4717-93ed-c67d0bc7bab5",
   "metadata": {},
   "outputs": [
    {
     "name": "stdout",
     "output_type": "stream",
     "text": [
      "3.9.7 | packaged by conda-forge | (default, Sep 29 2021, 19:15:42) [MSC v.1916 64 bit (AMD64)]\n",
      "<module 'pandas._version' from 'C:\\\\ProgramData\\\\Anaconda3\\\\envs\\\\py39\\\\lib\\\\site-packages\\\\pandas\\\\_version.py'>\n",
      "\n",
      "INSTALLED VERSIONS\n",
      "------------------\n",
      "commit           : 945c9ed766a61c7d2c0a7cbb251b6edebf9cb7d5\n",
      "python           : 3.9.7.final.0\n",
      "python-bits      : 64\n",
      "OS               : Windows\n",
      "OS-release       : 10\n",
      "Version          : 10.0.22000\n",
      "machine          : AMD64\n",
      "processor        : AMD64 Family 23 Model 104 Stepping 1, AuthenticAMD\n",
      "byteorder        : little\n",
      "LC_ALL           : en_US.UTF-8\n",
      "LANG             : en_US.UTF-8\n",
      "LOCALE           : Chinese (Simplified)_China.936\n",
      "\n",
      "pandas           : 1.3.4\n",
      "numpy            : 1.21.4\n",
      "pytz             : 2021.3\n",
      "dateutil         : 2.8.2\n",
      "pip              : 21.3.1\n",
      "setuptools       : 58.5.3\n",
      "Cython           : 0.29.24\n",
      "pytest           : None\n",
      "hypothesis       : None\n",
      "sphinx           : None\n",
      "blosc            : None\n",
      "feather          : None\n",
      "xlsxwriter       : None\n",
      "lxml.etree       : None\n",
      "html5lib         : None\n",
      "pymysql          : None\n",
      "psycopg2         : None\n",
      "jinja2           : 3.0.3\n",
      "IPython          : 7.29.0\n",
      "pandas_datareader: None\n",
      "bs4              : None\n",
      "bottleneck       : None\n",
      "fsspec           : None\n",
      "fastparquet      : None\n",
      "gcsfs            : None\n",
      "matplotlib       : 3.4.3\n",
      "numexpr          : 2.7.3\n",
      "odfpy            : None\n",
      "openpyxl         : 3.0.9\n",
      "pandas_gbq       : None\n",
      "pyarrow          : None\n",
      "pyxlsb           : None\n",
      "s3fs             : None\n",
      "scipy            : 1.7.2\n",
      "sqlalchemy       : None\n",
      "tables           : 3.6.1\n",
      "tabulate         : None\n",
      "xarray           : None\n",
      "xlrd             : None\n",
      "xlwt             : None\n",
      "numba            : None\n",
      "None\n"
     ]
    }
   ],
   "source": [
    "# coding=utf-8\n",
    "\n",
    "import sys\n",
    "import pandas as pd\n",
    "\n",
    "print(sys.version) # 查看python版本信息\n",
    "print(pd._version)  # 查看包安装路径\n",
    "print(pd.show_versions())  # 查看系统和包版本信息"
   ]
  },
  {
   "cell_type": "code",
   "execution_count": null,
   "id": "c8c6df34-1c8b-4977-aa08-e0bdb832e285",
   "metadata": {},
   "outputs": [],
   "source": [
    "\n"
   ]
  }
 ],
 "metadata": {
  "kernelspec": {
   "name": "py39",
   "language": "python",
   "display_name": "py39"
  },
  "language_info": {
   "codemirror_mode": {
    "name": "ipython",
    "version": 3
   },
   "file_extension": ".py",
   "mimetype": "text/x-python",
   "name": "python",
   "nbconvert_exporter": "python",
   "pygments_lexer": "ipython3",
   "version": "3.8.8"
  }
 },
 "nbformat": 4,
 "nbformat_minor": 5
}