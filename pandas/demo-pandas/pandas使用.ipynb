{
 "cells": [
  {
   "cell_type": "code",
   "execution_count": 12,
   "id": "a2e723a8-aadb-4c7e-810d-0db381844efb",
   "metadata": {},
   "outputs": [
    {
     "name": "stdout",
     "output_type": "stream",
     "text": [
      "\n",
      "INSTALLED VERSIONS\n",
      "------------------\n",
      "commit           : 945c9ed766a61c7d2c0a7cbb251b6edebf9cb7d5\n",
      "python           : 3.8.12.final.0\n",
      "python-bits      : 64\n",
      "OS               : Windows\n",
      "OS-release       : 10\n",
      "Version          : 10.0.22000\n",
      "machine          : AMD64\n",
      "processor        : AMD64 Family 23 Model 104 Stepping 1, AuthenticAMD\n",
      "byteorder        : little\n",
      "LC_ALL           : en_US.UTF-8\n",
      "LANG             : en_US.UTF-8\n",
      "LOCALE           : Chinese (Simplified)_China.936\n",
      "\n",
      "pandas           : 1.3.4\n",
      "numpy            : 1.21.4\n",
      "pytz             : 2021.3\n",
      "dateutil         : 2.8.2\n",
      "pip              : 21.3.1\n",
      "setuptools       : 60.0.4\n",
      "Cython           : None\n",
      "pytest           : None\n",
      "hypothesis       : None\n",
      "sphinx           : None\n",
      "blosc            : None\n",
      "feather          : None\n",
      "xlsxwriter       : None\n",
      "lxml.etree       : 4.7.1\n",
      "html5lib         : 1.1\n",
      "pymysql          : None\n",
      "psycopg2         : None\n",
      "jinja2           : 3.0.3\n",
      "IPython          : 7.30.1\n",
      "pandas_datareader: None\n",
      "bs4              : 4.10.0\n",
      "bottleneck       : None\n",
      "fsspec           : None\n",
      "fastparquet      : None\n",
      "gcsfs            : None\n",
      "matplotlib       : 3.2.2\n",
      "numexpr          : None\n",
      "odfpy            : None\n",
      "openpyxl         : 3.0.9\n",
      "pandas_gbq       : None\n",
      "pyarrow          : None\n",
      "pyxlsb           : None\n",
      "s3fs             : None\n",
      "scipy            : 1.7.3\n",
      "sqlalchemy       : None\n",
      "tables           : None\n",
      "tabulate         : 0.8.9\n",
      "xarray           : None\n",
      "xlrd             : 2.0.1\n",
      "xlwt             : None\n",
      "numba            : None\n"
     ]
    }
   ],
   "source": [
    "import os.path\n",
    "import sys\n",
    "import numpy as np\n",
    "import pandas as pd\n",
    "pd._version  # 查看包安装路径\n",
    "pd.show_versions()  # 查看系统版本信息"
   ]
  },
  {
   "cell_type": "code",
   "execution_count": 1,
   "id": "2f9e5699-dae2-4ced-b244-637376eb33a0",
   "metadata": {},
   "outputs": [],
   "source": []
  },
  {
   "cell_type": "markdown",
   "id": "6324a1af-ed57-4e66-aeee-945dcd79c3b0",
   "metadata": {},
   "source": [
    "#### 对象创建\n"
   ]
  },
  {
   "cell_type": "code",
   "execution_count": 2,
   "id": "dc798ef2-167f-40b2-842f-9686b4ec6808",
   "metadata": {},
   "outputs": [
    {
     "data": {
      "text/plain": "0    1.0\n1    3.0\n2    5.0\n3    NaN\n4    6.0\n5    8.0\ndtype: float64"
     },
     "execution_count": 2,
     "metadata": {},
     "output_type": "execute_result"
    }
   ],
   "source": [
    "# 通过传递值列表创建\n",
    "s = pd.Series([1, 3, 5, np.nan, 6, 8])\n",
    "s"
   ]
  },
  {
   "cell_type": "code",
   "execution_count": 3,
   "id": "a44de650-346c-42d3-b71b-b558d6d7aa1a",
   "metadata": {},
   "outputs": [
    {
     "data": {
      "text/plain": "DatetimeIndex(['2013-01-01', '2013-01-02', '2013-01-03', '2013-01-04',\n               '2013-01-05', '2013-01-06'],\n              dtype='datetime64[ns]', freq='D')"
     },
     "execution_count": 3,
     "metadata": {},
     "output_type": "execute_result"
    }
   ],
   "source": [
    "# 通过 NumPy 阵列创建数据帧，其中带有日期时间索引和标记列：\n",
    "dates = pd.date_range(\"20130101\", periods=6)\n",
    "dates"
   ]
  },
  {
   "cell_type": "code",
   "execution_count": 4,
   "id": "3958e708-b980-4530-be6b-baac3779b75b",
   "metadata": {},
   "outputs": [
    {
     "data": {
      "text/plain": "                   A         B         C         d\n2013-01-01 -0.984792  0.798328  0.392502 -0.685719\n2013-01-02  0.423804 -0.348169  1.931429 -0.937928\n2013-01-03 -0.807472  0.904021 -0.065711 -1.474258\n2013-01-04  0.493133  0.914707  0.098531  0.885062\n2013-01-05 -0.294373  0.036677 -1.339970 -0.503527\n2013-01-06  0.948630  0.425396  0.864139  0.736759",
      "text/html": "<div>\n<style scoped>\n    .dataframe tbody tr th:only-of-type {\n        vertical-align: middle;\n    }\n\n    .dataframe tbody tr th {\n        vertical-align: top;\n    }\n\n    .dataframe thead th {\n        text-align: right;\n    }\n</style>\n<table border=\"1\" class=\"dataframe\">\n  <thead>\n    <tr style=\"text-align: right;\">\n      <th></th>\n      <th>A</th>\n      <th>B</th>\n      <th>C</th>\n      <th>d</th>\n    </tr>\n  </thead>\n  <tbody>\n    <tr>\n      <th>2013-01-01</th>\n      <td>-0.984792</td>\n      <td>0.798328</td>\n      <td>0.392502</td>\n      <td>-0.685719</td>\n    </tr>\n    <tr>\n      <th>2013-01-02</th>\n      <td>0.423804</td>\n      <td>-0.348169</td>\n      <td>1.931429</td>\n      <td>-0.937928</td>\n    </tr>\n    <tr>\n      <th>2013-01-03</th>\n      <td>-0.807472</td>\n      <td>0.904021</td>\n      <td>-0.065711</td>\n      <td>-1.474258</td>\n    </tr>\n    <tr>\n      <th>2013-01-04</th>\n      <td>0.493133</td>\n      <td>0.914707</td>\n      <td>0.098531</td>\n      <td>0.885062</td>\n    </tr>\n    <tr>\n      <th>2013-01-05</th>\n      <td>-0.294373</td>\n      <td>0.036677</td>\n      <td>-1.339970</td>\n      <td>-0.503527</td>\n    </tr>\n    <tr>\n      <th>2013-01-06</th>\n      <td>0.948630</td>\n      <td>0.425396</td>\n      <td>0.864139</td>\n      <td>0.736759</td>\n    </tr>\n  </tbody>\n</table>\n</div>"
     },
     "execution_count": 4,
     "metadata": {},
     "output_type": "execute_result"
    }
   ],
   "source": [
    "df = pd.DataFrame(np.random.randn(6, 4), index=dates, columns=list(\"ABCd\"))\n",
    "df"
   ]
  },
  {
   "cell_type": "code",
   "execution_count": 5,
   "id": "4c1ee31d-7753-4f36-bbe9-cf6422ff2cca",
   "metadata": {},
   "outputs": [
    {
     "data": {
      "text/plain": "          A          B    C  D      E    F\n0  1.333333 2013-01-02  1.0  3   test  foo\n1  1.333333 2013-01-02  1.0  3  train  foo\n2  1.333333 2013-01-02  1.0  3   test  foo\n3  1.333333 2013-01-02  1.0  3  train  foo",
      "text/html": "<div>\n<style scoped>\n    .dataframe tbody tr th:only-of-type {\n        vertical-align: middle;\n    }\n\n    .dataframe tbody tr th {\n        vertical-align: top;\n    }\n\n    .dataframe thead th {\n        text-align: right;\n    }\n</style>\n<table border=\"1\" class=\"dataframe\">\n  <thead>\n    <tr style=\"text-align: right;\">\n      <th></th>\n      <th>A</th>\n      <th>B</th>\n      <th>C</th>\n      <th>D</th>\n      <th>E</th>\n      <th>F</th>\n    </tr>\n  </thead>\n  <tbody>\n    <tr>\n      <th>0</th>\n      <td>1.333333</td>\n      <td>2013-01-02</td>\n      <td>1.0</td>\n      <td>3</td>\n      <td>test</td>\n      <td>foo</td>\n    </tr>\n    <tr>\n      <th>1</th>\n      <td>1.333333</td>\n      <td>2013-01-02</td>\n      <td>1.0</td>\n      <td>3</td>\n      <td>train</td>\n      <td>foo</td>\n    </tr>\n    <tr>\n      <th>2</th>\n      <td>1.333333</td>\n      <td>2013-01-02</td>\n      <td>1.0</td>\n      <td>3</td>\n      <td>test</td>\n      <td>foo</td>\n    </tr>\n    <tr>\n      <th>3</th>\n      <td>1.333333</td>\n      <td>2013-01-02</td>\n      <td>1.0</td>\n      <td>3</td>\n      <td>train</td>\n      <td>foo</td>\n    </tr>\n  </tbody>\n</table>\n</div>"
     },
     "execution_count": 5,
     "metadata": {},
     "output_type": "execute_result"
    }
   ],
   "source": [
    "# 通过传递可转换为类似系列的对象的听写来创建数据帧。\n",
    "df2 = pd.DataFrame(\n",
    "    {\n",
    "        \"A\": 1.333333,\n",
    "        \"B\": pd.Timestamp(\"20130102\"),\n",
    "        \"C\": pd.Series(1, index=list(range(4)), dtype=\"float32\"),\n",
    "        \"D\": np.array([3] * 4, dtype=\"int32\"),\n",
    "        \"E\": pd.Categorical([\"test\", \"train\", \"test\", \"train\"]),\n",
    "        \"F\": \"foo\",\n",
    "    }\n",
    ")\n",
    "df2"
   ]
  },
  {
   "cell_type": "code",
   "execution_count": 6,
   "id": "0ce56108-f878-4d90-8c67-c7f761ef8be1",
   "metadata": {},
   "outputs": [
    {
     "data": {
      "text/plain": "Timestamp('2013-01-02 00:00:00')"
     },
     "execution_count": 6,
     "metadata": {},
     "output_type": "execute_result"
    }
   ],
   "source": [
    "pd.Timestamp(\"20130102\")"
   ]
  },
  {
   "cell_type": "code",
   "execution_count": 7,
   "outputs": [
    {
     "data": {
      "text/plain": "A           float64\nB    datetime64[ns]\nC           float32\nD             int32\nE          category\nF            object\ndtype: object"
     },
     "execution_count": 7,
     "metadata": {},
     "output_type": "execute_result"
    }
   ],
   "source": [
    "# 生成的数据帧的列具有不同的 d型。\n",
    "df2.dtypes"
   ],
   "metadata": {
    "collapsed": false,
    "pycharm": {
     "name": "#%%\n"
    }
   }
  },
  {
   "cell_type": "markdown",
   "id": "a2707c62-64fe-4d01-b28c-d5bb3dd9542f",
   "metadata": {},
   "source": [
    "# 查看数据"
   ]
  },
  {
   "cell_type": "raw",
   "id": "9500162f-7a58-4678-942b-c29a8d19e00f",
   "metadata": {},
   "source": [
    "以下是如何查看框架的顶部和底部行："
   ]
  },
  {
   "cell_type": "code",
   "execution_count": 8,
   "id": "afd9d0b0-68f6-4315-a8c5-b55f22d7b244",
   "metadata": {},
   "outputs": [
    {
     "data": {
      "text/plain": "                   A         B         C         d\n2013-01-01 -0.984792  0.798328  0.392502 -0.685719\n2013-01-02  0.423804 -0.348169  1.931429 -0.937928\n2013-01-03 -0.807472  0.904021 -0.065711 -1.474258\n2013-01-04  0.493133  0.914707  0.098531  0.885062",
      "text/html": "<div>\n<style scoped>\n    .dataframe tbody tr th:only-of-type {\n        vertical-align: middle;\n    }\n\n    .dataframe tbody tr th {\n        vertical-align: top;\n    }\n\n    .dataframe thead th {\n        text-align: right;\n    }\n</style>\n<table border=\"1\" class=\"dataframe\">\n  <thead>\n    <tr style=\"text-align: right;\">\n      <th></th>\n      <th>A</th>\n      <th>B</th>\n      <th>C</th>\n      <th>d</th>\n    </tr>\n  </thead>\n  <tbody>\n    <tr>\n      <th>2013-01-01</th>\n      <td>-0.984792</td>\n      <td>0.798328</td>\n      <td>0.392502</td>\n      <td>-0.685719</td>\n    </tr>\n    <tr>\n      <th>2013-01-02</th>\n      <td>0.423804</td>\n      <td>-0.348169</td>\n      <td>1.931429</td>\n      <td>-0.937928</td>\n    </tr>\n    <tr>\n      <th>2013-01-03</th>\n      <td>-0.807472</td>\n      <td>0.904021</td>\n      <td>-0.065711</td>\n      <td>-1.474258</td>\n    </tr>\n    <tr>\n      <th>2013-01-04</th>\n      <td>0.493133</td>\n      <td>0.914707</td>\n      <td>0.098531</td>\n      <td>0.885062</td>\n    </tr>\n  </tbody>\n</table>\n</div>"
     },
     "execution_count": 8,
     "metadata": {},
     "output_type": "execute_result"
    }
   ],
   "source": [
    "df.head(4)"
   ]
  },
  {
   "cell_type": "code",
   "execution_count": 9,
   "id": "51b5bf60-b1b5-4bdc-b761-de1915a0c0ac",
   "metadata": {},
   "outputs": [
    {
     "data": {
      "text/plain": "          A          B    C  D      E    F\n0  1.333333 2013-01-02  1.0  3   test  foo\n1  1.333333 2013-01-02  1.0  3  train  foo\n2  1.333333 2013-01-02  1.0  3   test  foo\n3  1.333333 2013-01-02  1.0  3  train  foo",
      "text/html": "<div>\n<style scoped>\n    .dataframe tbody tr th:only-of-type {\n        vertical-align: middle;\n    }\n\n    .dataframe tbody tr th {\n        vertical-align: top;\n    }\n\n    .dataframe thead th {\n        text-align: right;\n    }\n</style>\n<table border=\"1\" class=\"dataframe\">\n  <thead>\n    <tr style=\"text-align: right;\">\n      <th></th>\n      <th>A</th>\n      <th>B</th>\n      <th>C</th>\n      <th>D</th>\n      <th>E</th>\n      <th>F</th>\n    </tr>\n  </thead>\n  <tbody>\n    <tr>\n      <th>0</th>\n      <td>1.333333</td>\n      <td>2013-01-02</td>\n      <td>1.0</td>\n      <td>3</td>\n      <td>test</td>\n      <td>foo</td>\n    </tr>\n    <tr>\n      <th>1</th>\n      <td>1.333333</td>\n      <td>2013-01-02</td>\n      <td>1.0</td>\n      <td>3</td>\n      <td>train</td>\n      <td>foo</td>\n    </tr>\n    <tr>\n      <th>2</th>\n      <td>1.333333</td>\n      <td>2013-01-02</td>\n      <td>1.0</td>\n      <td>3</td>\n      <td>test</td>\n      <td>foo</td>\n    </tr>\n    <tr>\n      <th>3</th>\n      <td>1.333333</td>\n      <td>2013-01-02</td>\n      <td>1.0</td>\n      <td>3</td>\n      <td>train</td>\n      <td>foo</td>\n    </tr>\n  </tbody>\n</table>\n</div>"
     },
     "execution_count": 9,
     "metadata": {},
     "output_type": "execute_result"
    }
   ],
   "source": [
    "df2.tail(4)"
   ]
  },
  {
   "cell_type": "code",
   "execution_count": 9,
   "id": "8f1a15aa-b400-42d7-b734-db18988487ad",
   "metadata": {},
   "outputs": [],
   "source": []
  },
  {
   "cell_type": "markdown",
   "id": "6824132f-a76b-4d52-a612-9f0bd29d1142",
   "metadata": {},
   "source": [
    "显示索引、列："
   ]
  },
  {
   "cell_type": "code",
   "execution_count": 10,
   "id": "b4b2acdb-034a-4807-8260-67e95cd02fb3",
   "metadata": {},
   "outputs": [
    {
     "name": "stdout",
     "output_type": "stream",
     "text": [
      "D:\\yalin\\Documents\\Weisoft Stock\\文件名.txt\n",
      "D:\\yalin\\Documents\\Weisoft Stock\\文件名.txt\n"
     ]
    }
   ],
   "source": [
    "name = \"文件名\"\n",
    "filename = r\"D:\\yalin\\Documents\\Weisoft Stock\\%s.txt\"% name\n",
    "print(filename)\n",
    "filename = r\"D:\\yalin\\Documents\\Weisoft Stock\\{}.txt\".format(name)\n",
    "print(filename)\n"
   ]
  },
  {
   "cell_type": "code",
   "execution_count": 10,
   "outputs": [],
   "source": [],
   "metadata": {
    "collapsed": false,
    "pycharm": {
     "name": "#%%\n"
    }
   }
  }
 ],
 "metadata": {
  "kernelspec": {
   "name": "python3",
   "language": "python",
   "display_name": "Python 3 (ipykernel)"
  },
  "language_info": {
   "codemirror_mode": {
    "name": "ipython",
    "version": 3
   },
   "file_extension": ".py",
   "mimetype": "text/x-python",
   "name": "python",
   "nbconvert_exporter": "python",
   "pygments_lexer": "ipython3",
   "version": "3.8.12"
  },
  "toc-autonumbering": true,
  "toc-showcode": true,
  "toc-showmarkdowntxt": true,
  "toc-showtags": true
 },
 "nbformat": 4,
 "nbformat_minor": 5
}