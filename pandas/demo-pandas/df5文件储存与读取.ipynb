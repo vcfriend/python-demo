{
 "cells": [
  {
   "cell_type": "code",
   "execution_count": 68,
   "metadata": {
    "collapsed": true
   },
   "outputs": [],
   "source": [
    "# coding:utf-8\n",
    "\n",
    "import pandas as pd"
   ]
  },
  {
   "cell_type": "code",
   "execution_count": 69,
   "outputs": [
    {
     "name": "stdout",
     "output_type": "stream",
     "text": [
      "               <DATE>  <OPEN>  <HIGH>   <LOW>  <CLOSE>\n",
      "0 2001-01-02 23:01:00  0.9507  0.9507  0.9507   0.9507\n",
      "1 2001-01-02 23:02:00  0.9506  0.9506  0.9505   0.9505\n",
      "2 2001-01-02 23:03:00  0.9505  0.9507  0.9505   0.9506\n"
     ]
    }
   ],
   "source": [
    "# 加载时间周期数据\n",
    "# 读取日期和时间数据合并到新的列'<date>'，这是最简单的方式了\n",
    "df = pd.read_csv('./data/EURUSD-100.txt', nrows=100,\n",
    "                  parse_dates={'<DATE>': ['<DTYYYYMMDD>'] + ['<TIME>']},\n",
    "                  usecols=[1,2,3,4,5,6] # 要使用的列索引从0开始\n",
    "                  )\n",
    "print(df.head(3))"
   ],
   "metadata": {
    "collapsed": false,
    "pycharm": {
     "name": "#%%\n"
    }
   }
  },
  {
   "cell_type": "code",
   "execution_count": 70,
   "outputs": [
    {
     "name": "stdout",
     "output_type": "stream",
     "text": [
      "h5_store中的key=  ['/EURUSD_1M']\n"
     ]
    }
   ],
   "source": [
    "# 创建hdf文件\n",
    "h5_store = pd.HDFStore('./data/EURUSD-Data.h5', mode='w')\n",
    "# 存储数据到hdf\n",
    "h5_store['EURUSD_1M'] = df\n",
    "print('h5_store中的key= ',h5_store.keys())\n",
    "# 关闭hdf文件\n",
    "h5_store.close()\n"
   ],
   "metadata": {
    "collapsed": false,
    "pycharm": {
     "name": "#%%\n"
    }
   }
  },
  {
   "cell_type": "code",
   "execution_count": 72,
   "outputs": [
    {
     "name": "stdout",
     "output_type": "stream",
     "text": [
      "                <DATE>  <OPEN>  <HIGH>   <LOW>  <CLOSE>\n",
      "0  2001-01-02 23:01:00  0.9507  0.9507  0.9507   0.9507\n",
      "1  2001-01-02 23:02:00  0.9506  0.9506  0.9505   0.9505\n",
      "2  2001-01-02 23:03:00  0.9505  0.9507  0.9505   0.9506\n",
      "3  2001-01-02 23:04:00  0.9506  0.9506  0.9506   0.9506\n",
      "4  2001-01-02 23:05:00  0.9506  0.9506  0.9506   0.9506\n",
      "..                 ...     ...     ...     ...      ...\n",
      "94 2001-01-03 00:52:00  0.9496  0.9496  0.9496   0.9496\n",
      "95 2001-01-03 00:53:00  0.9495  0.9495  0.9495   0.9495\n",
      "96 2001-01-03 00:54:00  0.9494  0.9494  0.9492   0.9492\n",
      "97 2001-01-03 00:55:00  0.9492  0.9493  0.9492   0.9493\n",
      "98 2001-01-03 00:56:00  0.9493  0.9497  0.9493   0.9497\n",
      "\n",
      "[99 rows x 5 columns]\n"
     ]
    }
   ],
   "source": [
    "# =====读取hdf数据\n",
    "# 创建hdf文件\n",
    "h5_store = pd.HDFStore('./data/EURUSD-Data.h5', mode='r')\n",
    "\n",
    "# 读取某个key指向的数据\n",
    "print(h5_store.get('EURUSD_1M'))\n",
    "# print(h5_store['EURUSD_1M'])\n",
    "# 关闭hdf文件\n",
    "h5_store.close()"
   ],
   "metadata": {
    "collapsed": false,
    "pycharm": {
     "name": "#%%\n"
    }
   }
  },
  {
   "cell_type": "code",
   "execution_count": 71,
   "outputs": [],
   "source": [],
   "metadata": {
    "collapsed": false,
    "pycharm": {
     "name": "#%%\n"
    }
   }
  }
 ],
 "metadata": {
  "kernelspec": {
   "name": "pycharm-a57ffa67",
   "language": "python",
   "display_name": "PyCharm (yalin-scikit-learn)"
  },
  "language_info": {
   "codemirror_mode": {
    "name": "ipython",
    "version": 2
   },
   "file_extension": ".py",
   "mimetype": "text/x-python",
   "name": "python",
   "nbconvert_exporter": "python",
   "pygments_lexer": "ipython2",
   "version": "2.7.6"
  }
 },
 "nbformat": 4,
 "nbformat_minor": 0
}