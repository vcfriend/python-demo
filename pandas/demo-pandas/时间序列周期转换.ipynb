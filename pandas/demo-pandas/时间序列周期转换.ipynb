{
 "cells": [
  {
   "cell_type": "code",
   "execution_count": 50,
   "metadata": {
    "collapsed": true
   },
   "outputs": [],
   "source": [
    "# coding: utf-8\n",
    "import pandas as pd"
   ]
  },
  {
   "cell_type": "code",
   "execution_count": 51,
   "outputs": [
    {
     "name": "stdout",
     "output_type": "stream",
     "text": [
      "                <DATE>  <OPEN>  <HIGH>   <LOW>  <CLOSE>\n",
      "0  2001-01-02 23:01:00  0.9507  0.9507  0.9507   0.9507\n",
      "1  2001-01-02 23:02:00  0.9506  0.9506  0.9505   0.9505\n",
      "2  2001-01-02 23:03:00  0.9505  0.9507  0.9505   0.9506\n",
      "3  2001-01-02 23:04:00  0.9506  0.9506  0.9506   0.9506\n",
      "4  2001-01-02 23:05:00  0.9506  0.9506  0.9506   0.9506\n",
      "..                 ...     ...     ...     ...      ...\n",
      "94 2001-01-03 00:52:00  0.9496  0.9496  0.9496   0.9496\n",
      "95 2001-01-03 00:53:00  0.9495  0.9495  0.9495   0.9495\n",
      "96 2001-01-03 00:54:00  0.9494  0.9494  0.9492   0.9492\n",
      "97 2001-01-03 00:55:00  0.9492  0.9493  0.9492   0.9493\n",
      "98 2001-01-03 00:56:00  0.9493  0.9497  0.9493   0.9497\n",
      "\n",
      "[99 rows x 5 columns]\n"
     ]
    }
   ],
   "source": [
    "# =====读取hdf数据\n",
    "# 创建hdf文件\n",
    "df = pd.read_hdf('./data/EURUSD-Data.h5', key='EURUSD_1M')\n",
    "\n",
    "# 读取某个key指向的数据\n",
    "print(df)"
   ],
   "metadata": {
    "collapsed": false,
    "pycharm": {
     "name": "#%%\n"
    }
   }
  },
  {
   "cell_type": "code",
   "execution_count": 54,
   "outputs": [],
   "source": [],
   "metadata": {
    "collapsed": false,
    "pycharm": {
     "name": "#%%\n"
    }
   }
  },
  {
   "cell_type": "code",
   "execution_count": 45,
   "outputs": [
    {
     "data": {
      "text/plain": "                     <OPEN>  <HIGH>   <LOW>  <CLOSE>\n<DATE>                                              \n2001-01-02 23:00:00  0.9507  0.9507  0.9505   0.9506\n2001-01-02 23:05:00  0.9506  0.9507  0.9505   0.9507\n2001-01-02 23:10:00  0.9507  0.9507  0.9506   0.9507\n2001-01-02 23:15:00  0.9507  0.9507  0.9506   0.9506\n2001-01-02 23:20:00  0.9507  0.9507  0.9507   0.9507\n2001-01-02 23:25:00     NaN     NaN     NaN      NaN\n2001-01-02 23:30:00  0.9507  0.9508  0.9507   0.9508\n2001-01-02 23:35:00  0.9507  0.9509  0.9507   0.9509\n2001-01-02 23:40:00  0.9509  0.9509  0.9508   0.9508\n2001-01-02 23:45:00  0.9508  0.9508  0.9507   0.9507\n2001-01-02 23:50:00  0.9507  0.9508  0.9506   0.9506\n2001-01-02 23:55:00  0.9507  0.9507  0.9506   0.9506\n2001-01-03 00:00:00  0.9506  0.9507  0.9506   0.9507\n2001-01-03 00:05:00  0.9507  0.9507  0.9506   0.9506\n2001-01-03 00:10:00  0.9506  0.9506  0.9505   0.9506\n2001-01-03 00:15:00  0.9506  0.9506  0.9506   0.9506\n2001-01-03 00:20:00  0.9506  0.9508  0.9506   0.9507\n2001-01-03 00:25:00  0.9508  0.9510  0.9507   0.9507\n2001-01-03 00:30:00  0.9508  0.9508  0.9506   0.9506\n2001-01-03 00:35:00  0.9506  0.9507  0.9506   0.9507\n2001-01-03 00:40:00  0.9507  0.9507  0.9500   0.9500\n2001-01-03 00:45:00  0.9500  0.9500  0.9495   0.9495\n2001-01-03 00:50:00  0.9495  0.9496  0.9492   0.9492\n2001-01-03 00:55:00  0.9492  0.9497  0.9492   0.9497",
      "text/html": "<div>\n<style scoped>\n    .dataframe tbody tr th:only-of-type {\n        vertical-align: middle;\n    }\n\n    .dataframe tbody tr th {\n        vertical-align: top;\n    }\n\n    .dataframe thead th {\n        text-align: right;\n    }\n</style>\n<table border=\"1\" class=\"dataframe\">\n  <thead>\n    <tr style=\"text-align: right;\">\n      <th></th>\n      <th>&lt;OPEN&gt;</th>\n      <th>&lt;HIGH&gt;</th>\n      <th>&lt;LOW&gt;</th>\n      <th>&lt;CLOSE&gt;</th>\n    </tr>\n    <tr>\n      <th>&lt;DATE&gt;</th>\n      <th></th>\n      <th></th>\n      <th></th>\n      <th></th>\n    </tr>\n  </thead>\n  <tbody>\n    <tr>\n      <th>2001-01-02 23:00:00</th>\n      <td>0.9507</td>\n      <td>0.9507</td>\n      <td>0.9505</td>\n      <td>0.9506</td>\n    </tr>\n    <tr>\n      <th>2001-01-02 23:05:00</th>\n      <td>0.9506</td>\n      <td>0.9507</td>\n      <td>0.9505</td>\n      <td>0.9507</td>\n    </tr>\n    <tr>\n      <th>2001-01-02 23:10:00</th>\n      <td>0.9507</td>\n      <td>0.9507</td>\n      <td>0.9506</td>\n      <td>0.9507</td>\n    </tr>\n    <tr>\n      <th>2001-01-02 23:15:00</th>\n      <td>0.9507</td>\n      <td>0.9507</td>\n      <td>0.9506</td>\n      <td>0.9506</td>\n    </tr>\n    <tr>\n      <th>2001-01-02 23:20:00</th>\n      <td>0.9507</td>\n      <td>0.9507</td>\n      <td>0.9507</td>\n      <td>0.9507</td>\n    </tr>\n    <tr>\n      <th>2001-01-02 23:25:00</th>\n      <td>NaN</td>\n      <td>NaN</td>\n      <td>NaN</td>\n      <td>NaN</td>\n    </tr>\n    <tr>\n      <th>2001-01-02 23:30:00</th>\n      <td>0.9507</td>\n      <td>0.9508</td>\n      <td>0.9507</td>\n      <td>0.9508</td>\n    </tr>\n    <tr>\n      <th>2001-01-02 23:35:00</th>\n      <td>0.9507</td>\n      <td>0.9509</td>\n      <td>0.9507</td>\n      <td>0.9509</td>\n    </tr>\n    <tr>\n      <th>2001-01-02 23:40:00</th>\n      <td>0.9509</td>\n      <td>0.9509</td>\n      <td>0.9508</td>\n      <td>0.9508</td>\n    </tr>\n    <tr>\n      <th>2001-01-02 23:45:00</th>\n      <td>0.9508</td>\n      <td>0.9508</td>\n      <td>0.9507</td>\n      <td>0.9507</td>\n    </tr>\n    <tr>\n      <th>2001-01-02 23:50:00</th>\n      <td>0.9507</td>\n      <td>0.9508</td>\n      <td>0.9506</td>\n      <td>0.9506</td>\n    </tr>\n    <tr>\n      <th>2001-01-02 23:55:00</th>\n      <td>0.9507</td>\n      <td>0.9507</td>\n      <td>0.9506</td>\n      <td>0.9506</td>\n    </tr>\n    <tr>\n      <th>2001-01-03 00:00:00</th>\n      <td>0.9506</td>\n      <td>0.9507</td>\n      <td>0.9506</td>\n      <td>0.9507</td>\n    </tr>\n    <tr>\n      <th>2001-01-03 00:05:00</th>\n      <td>0.9507</td>\n      <td>0.9507</td>\n      <td>0.9506</td>\n      <td>0.9506</td>\n    </tr>\n    <tr>\n      <th>2001-01-03 00:10:00</th>\n      <td>0.9506</td>\n      <td>0.9506</td>\n      <td>0.9505</td>\n      <td>0.9506</td>\n    </tr>\n    <tr>\n      <th>2001-01-03 00:15:00</th>\n      <td>0.9506</td>\n      <td>0.9506</td>\n      <td>0.9506</td>\n      <td>0.9506</td>\n    </tr>\n    <tr>\n      <th>2001-01-03 00:20:00</th>\n      <td>0.9506</td>\n      <td>0.9508</td>\n      <td>0.9506</td>\n      <td>0.9507</td>\n    </tr>\n    <tr>\n      <th>2001-01-03 00:25:00</th>\n      <td>0.9508</td>\n      <td>0.9510</td>\n      <td>0.9507</td>\n      <td>0.9507</td>\n    </tr>\n    <tr>\n      <th>2001-01-03 00:30:00</th>\n      <td>0.9508</td>\n      <td>0.9508</td>\n      <td>0.9506</td>\n      <td>0.9506</td>\n    </tr>\n    <tr>\n      <th>2001-01-03 00:35:00</th>\n      <td>0.9506</td>\n      <td>0.9507</td>\n      <td>0.9506</td>\n      <td>0.9507</td>\n    </tr>\n    <tr>\n      <th>2001-01-03 00:40:00</th>\n      <td>0.9507</td>\n      <td>0.9507</td>\n      <td>0.9500</td>\n      <td>0.9500</td>\n    </tr>\n    <tr>\n      <th>2001-01-03 00:45:00</th>\n      <td>0.9500</td>\n      <td>0.9500</td>\n      <td>0.9495</td>\n      <td>0.9495</td>\n    </tr>\n    <tr>\n      <th>2001-01-03 00:50:00</th>\n      <td>0.9495</td>\n      <td>0.9496</td>\n      <td>0.9492</td>\n      <td>0.9492</td>\n    </tr>\n    <tr>\n      <th>2001-01-03 00:55:00</th>\n      <td>0.9492</td>\n      <td>0.9497</td>\n      <td>0.9492</td>\n      <td>0.9497</td>\n    </tr>\n  </tbody>\n</table>\n</div>"
     },
     "execution_count": 45,
     "metadata": {},
     "output_type": "execute_result"
    }
   ],
   "source": [
    "# ===第一种方法：将1分钟数据转为5分钟数据\n",
    "# 将DATE设定为index\n",
    "df.set_index('<DATE>', inplace=True)\n",
    "\n",
    "# 周期转换方法：resample\n",
    "rule_type = '5T'  # 周期单位: 5T=5分钟 1H=1小时 1D=1天 1W=1周\n",
    "period_df = df[['<CLOSE>']].resample(rule=rule_type).last()  # last：取这5分钟的最后一行数据\n",
    "\n",
    "# 开、高、低的价格，成交量\n",
    "period_df['<OPEN>'] = df['<OPEN>'].resample(rule=rule_type).first()\n",
    "period_df['<HIGH>'] = df['<HIGH>'].resample(rule=rule_type).max()\n",
    "period_df['<LOW>'] = df['<LOW>'].resample(rule=rule_type).min()\n",
    "period_df = period_df[['<OPEN>','<HIGH>','<LOW>','<CLOSE>']]\n",
    "period_df"
   ],
   "metadata": {
    "collapsed": false,
    "pycharm": {
     "name": "#%%\n"
    }
   }
  },
  {
   "cell_type": "code",
   "execution_count": 58,
   "outputs": [
    {
     "ename": "KeyError",
     "evalue": "\"None of ['<DATE>'] are in the columns\"",
     "output_type": "error",
     "traceback": [
      "\u001B[1;31m---------------------------------------------------------------------------\u001B[0m",
      "\u001B[1;31mKeyError\u001B[0m                                  Traceback (most recent call last)",
      "\u001B[1;32m~\\AppData\\Local\\Temp/ipykernel_16172/2513315432.py\u001B[0m in \u001B[0;36m<module>\u001B[1;34m\u001B[0m\n\u001B[0;32m      2\u001B[0m \u001B[1;33m\u001B[0m\u001B[0m\n\u001B[0;32m      3\u001B[0m \u001B[1;31m# 将DATE设定为index\u001B[0m\u001B[1;33m\u001B[0m\u001B[1;33m\u001B[0m\u001B[0m\n\u001B[1;32m----> 4\u001B[1;33m \u001B[0mdf\u001B[0m\u001B[1;33m.\u001B[0m\u001B[0mset_index\u001B[0m\u001B[1;33m(\u001B[0m\u001B[1;34m'<DATE>'\u001B[0m\u001B[1;33m,\u001B[0m \u001B[0minplace\u001B[0m\u001B[1;33m=\u001B[0m\u001B[1;32mTrue\u001B[0m\u001B[1;33m)\u001B[0m\u001B[1;33m\u001B[0m\u001B[1;33m\u001B[0m\u001B[0m\n\u001B[0m",
      "\u001B[1;32mC:\\ProgramData\\Anaconda3\\envs\\py39\\lib\\site-packages\\pandas\\util\\_decorators.py\u001B[0m in \u001B[0;36mwrapper\u001B[1;34m(*args, **kwargs)\u001B[0m\n\u001B[0;32m    309\u001B[0m                     \u001B[0mstacklevel\u001B[0m\u001B[1;33m=\u001B[0m\u001B[0mstacklevel\u001B[0m\u001B[1;33m,\u001B[0m\u001B[1;33m\u001B[0m\u001B[1;33m\u001B[0m\u001B[0m\n\u001B[0;32m    310\u001B[0m                 )\n\u001B[1;32m--> 311\u001B[1;33m             \u001B[1;32mreturn\u001B[0m \u001B[0mfunc\u001B[0m\u001B[1;33m(\u001B[0m\u001B[1;33m*\u001B[0m\u001B[0margs\u001B[0m\u001B[1;33m,\u001B[0m \u001B[1;33m**\u001B[0m\u001B[0mkwargs\u001B[0m\u001B[1;33m)\u001B[0m\u001B[1;33m\u001B[0m\u001B[1;33m\u001B[0m\u001B[0m\n\u001B[0m\u001B[0;32m    312\u001B[0m \u001B[1;33m\u001B[0m\u001B[0m\n\u001B[0;32m    313\u001B[0m         \u001B[1;32mreturn\u001B[0m \u001B[0mwrapper\u001B[0m\u001B[1;33m\u001B[0m\u001B[1;33m\u001B[0m\u001B[0m\n",
      "\u001B[1;32mC:\\ProgramData\\Anaconda3\\envs\\py39\\lib\\site-packages\\pandas\\core\\frame.py\u001B[0m in \u001B[0;36mset_index\u001B[1;34m(self, keys, drop, append, inplace, verify_integrity)\u001B[0m\n\u001B[0;32m   5449\u001B[0m \u001B[1;33m\u001B[0m\u001B[0m\n\u001B[0;32m   5450\u001B[0m         \u001B[1;32mif\u001B[0m \u001B[0mmissing\u001B[0m\u001B[1;33m:\u001B[0m\u001B[1;33m\u001B[0m\u001B[1;33m\u001B[0m\u001B[0m\n\u001B[1;32m-> 5451\u001B[1;33m             \u001B[1;32mraise\u001B[0m \u001B[0mKeyError\u001B[0m\u001B[1;33m(\u001B[0m\u001B[1;34mf\"None of {missing} are in the columns\"\u001B[0m\u001B[1;33m)\u001B[0m\u001B[1;33m\u001B[0m\u001B[1;33m\u001B[0m\u001B[0m\n\u001B[0m\u001B[0;32m   5452\u001B[0m \u001B[1;33m\u001B[0m\u001B[0m\n\u001B[0;32m   5453\u001B[0m         \u001B[1;32mif\u001B[0m \u001B[0minplace\u001B[0m\u001B[1;33m:\u001B[0m\u001B[1;33m\u001B[0m\u001B[1;33m\u001B[0m\u001B[0m\n",
      "\u001B[1;31mKeyError\u001B[0m: \"None of ['<DATE>'] are in the columns\""
     ]
    }
   ],
   "source": [
    "# ===第二种方法：将1分钟数据转为5分钟数据\n",
    "\n",
    "# 将DATE设定为index 执行一遍就好了\n",
    "df.set_index('<DATE>', inplace=True)"
   ],
   "metadata": {
    "collapsed": false,
    "pycharm": {
     "name": "#%%\n"
    }
   }
  },
  {
   "cell_type": "code",
   "execution_count": 56,
   "outputs": [
    {
     "name": "stderr",
     "output_type": "stream",
     "text": [
      "C:\\Users\\yalin\\AppData\\Local\\Temp/ipykernel_16172/2263685002.py:2: FutureWarning: 'base' in .resample() and in Grouper() is deprecated.\n",
      "The new arguments that you should use are 'offset' or 'origin'.\n",
      "\n",
      ">>> df.resample(freq=\"3s\", base=2)\n",
      "\n",
      "becomes:\n",
      "\n",
      ">>> df.resample(freq=\"3s\", offset=\"2s\")\n",
      "\n",
      "  period_df = df.resample(rule=rule_type, base=0, label='left', closed='left').agg(\n"
     ]
    },
    {
     "data": {
      "text/plain": "                     <OPEN>  <HIGH>   <LOW>  <CLOSE>\n<DATE>                                              \n2001-01-02 23:00:00  0.9507  0.9507  0.9505   0.9506\n2001-01-02 23:05:00  0.9506  0.9507  0.9505   0.9507\n2001-01-02 23:10:00  0.9507  0.9507  0.9506   0.9507\n2001-01-02 23:15:00  0.9507  0.9507  0.9506   0.9506\n2001-01-02 23:20:00  0.9507  0.9507  0.9507   0.9507\n2001-01-02 23:30:00  0.9507  0.9508  0.9507   0.9508\n2001-01-02 23:35:00  0.9507  0.9509  0.9507   0.9509\n2001-01-02 23:40:00  0.9509  0.9509  0.9508   0.9508\n2001-01-02 23:45:00  0.9508  0.9508  0.9507   0.9507\n2001-01-02 23:50:00  0.9507  0.9508  0.9506   0.9506\n2001-01-02 23:55:00  0.9507  0.9507  0.9506   0.9506\n2001-01-03 00:00:00  0.9506  0.9507  0.9506   0.9507\n2001-01-03 00:05:00  0.9507  0.9507  0.9506   0.9506\n2001-01-03 00:10:00  0.9506  0.9506  0.9505   0.9506\n2001-01-03 00:15:00  0.9506  0.9506  0.9506   0.9506\n2001-01-03 00:20:00  0.9506  0.9508  0.9506   0.9507\n2001-01-03 00:25:00  0.9508  0.9510  0.9507   0.9507\n2001-01-03 00:30:00  0.9508  0.9508  0.9506   0.9506\n2001-01-03 00:35:00  0.9506  0.9507  0.9506   0.9507\n2001-01-03 00:40:00  0.9507  0.9507  0.9500   0.9500\n2001-01-03 00:45:00  0.9500  0.9500  0.9495   0.9495\n2001-01-03 00:50:00  0.9495  0.9496  0.9492   0.9492\n2001-01-03 00:55:00  0.9492  0.9497  0.9492   0.9497",
      "text/html": "<div>\n<style scoped>\n    .dataframe tbody tr th:only-of-type {\n        vertical-align: middle;\n    }\n\n    .dataframe tbody tr th {\n        vertical-align: top;\n    }\n\n    .dataframe thead th {\n        text-align: right;\n    }\n</style>\n<table border=\"1\" class=\"dataframe\">\n  <thead>\n    <tr style=\"text-align: right;\">\n      <th></th>\n      <th>&lt;OPEN&gt;</th>\n      <th>&lt;HIGH&gt;</th>\n      <th>&lt;LOW&gt;</th>\n      <th>&lt;CLOSE&gt;</th>\n    </tr>\n    <tr>\n      <th>&lt;DATE&gt;</th>\n      <th></th>\n      <th></th>\n      <th></th>\n      <th></th>\n    </tr>\n  </thead>\n  <tbody>\n    <tr>\n      <th>2001-01-02 23:00:00</th>\n      <td>0.9507</td>\n      <td>0.9507</td>\n      <td>0.9505</td>\n      <td>0.9506</td>\n    </tr>\n    <tr>\n      <th>2001-01-02 23:05:00</th>\n      <td>0.9506</td>\n      <td>0.9507</td>\n      <td>0.9505</td>\n      <td>0.9507</td>\n    </tr>\n    <tr>\n      <th>2001-01-02 23:10:00</th>\n      <td>0.9507</td>\n      <td>0.9507</td>\n      <td>0.9506</td>\n      <td>0.9507</td>\n    </tr>\n    <tr>\n      <th>2001-01-02 23:15:00</th>\n      <td>0.9507</td>\n      <td>0.9507</td>\n      <td>0.9506</td>\n      <td>0.9506</td>\n    </tr>\n    <tr>\n      <th>2001-01-02 23:20:00</th>\n      <td>0.9507</td>\n      <td>0.9507</td>\n      <td>0.9507</td>\n      <td>0.9507</td>\n    </tr>\n    <tr>\n      <th>2001-01-02 23:30:00</th>\n      <td>0.9507</td>\n      <td>0.9508</td>\n      <td>0.9507</td>\n      <td>0.9508</td>\n    </tr>\n    <tr>\n      <th>2001-01-02 23:35:00</th>\n      <td>0.9507</td>\n      <td>0.9509</td>\n      <td>0.9507</td>\n      <td>0.9509</td>\n    </tr>\n    <tr>\n      <th>2001-01-02 23:40:00</th>\n      <td>0.9509</td>\n      <td>0.9509</td>\n      <td>0.9508</td>\n      <td>0.9508</td>\n    </tr>\n    <tr>\n      <th>2001-01-02 23:45:00</th>\n      <td>0.9508</td>\n      <td>0.9508</td>\n      <td>0.9507</td>\n      <td>0.9507</td>\n    </tr>\n    <tr>\n      <th>2001-01-02 23:50:00</th>\n      <td>0.9507</td>\n      <td>0.9508</td>\n      <td>0.9506</td>\n      <td>0.9506</td>\n    </tr>\n    <tr>\n      <th>2001-01-02 23:55:00</th>\n      <td>0.9507</td>\n      <td>0.9507</td>\n      <td>0.9506</td>\n      <td>0.9506</td>\n    </tr>\n    <tr>\n      <th>2001-01-03 00:00:00</th>\n      <td>0.9506</td>\n      <td>0.9507</td>\n      <td>0.9506</td>\n      <td>0.9507</td>\n    </tr>\n    <tr>\n      <th>2001-01-03 00:05:00</th>\n      <td>0.9507</td>\n      <td>0.9507</td>\n      <td>0.9506</td>\n      <td>0.9506</td>\n    </tr>\n    <tr>\n      <th>2001-01-03 00:10:00</th>\n      <td>0.9506</td>\n      <td>0.9506</td>\n      <td>0.9505</td>\n      <td>0.9506</td>\n    </tr>\n    <tr>\n      <th>2001-01-03 00:15:00</th>\n      <td>0.9506</td>\n      <td>0.9506</td>\n      <td>0.9506</td>\n      <td>0.9506</td>\n    </tr>\n    <tr>\n      <th>2001-01-03 00:20:00</th>\n      <td>0.9506</td>\n      <td>0.9508</td>\n      <td>0.9506</td>\n      <td>0.9507</td>\n    </tr>\n    <tr>\n      <th>2001-01-03 00:25:00</th>\n      <td>0.9508</td>\n      <td>0.9510</td>\n      <td>0.9507</td>\n      <td>0.9507</td>\n    </tr>\n    <tr>\n      <th>2001-01-03 00:30:00</th>\n      <td>0.9508</td>\n      <td>0.9508</td>\n      <td>0.9506</td>\n      <td>0.9506</td>\n    </tr>\n    <tr>\n      <th>2001-01-03 00:35:00</th>\n      <td>0.9506</td>\n      <td>0.9507</td>\n      <td>0.9506</td>\n      <td>0.9507</td>\n    </tr>\n    <tr>\n      <th>2001-01-03 00:40:00</th>\n      <td>0.9507</td>\n      <td>0.9507</td>\n      <td>0.9500</td>\n      <td>0.9500</td>\n    </tr>\n    <tr>\n      <th>2001-01-03 00:45:00</th>\n      <td>0.9500</td>\n      <td>0.9500</td>\n      <td>0.9495</td>\n      <td>0.9495</td>\n    </tr>\n    <tr>\n      <th>2001-01-03 00:50:00</th>\n      <td>0.9495</td>\n      <td>0.9496</td>\n      <td>0.9492</td>\n      <td>0.9492</td>\n    </tr>\n    <tr>\n      <th>2001-01-03 00:55:00</th>\n      <td>0.9492</td>\n      <td>0.9497</td>\n      <td>0.9492</td>\n      <td>0.9497</td>\n    </tr>\n  </tbody>\n</table>\n</div>"
     },
     "execution_count": 56,
     "metadata": {},
     "output_type": "execute_result"
    }
   ],
   "source": [
    "rule_type = '5T'\n",
    "period_df = df.resample(rule=rule_type, base=0, label='left', closed='left').agg(\n",
    "    {'<OPEN>': 'first',\n",
    "     '<HIGH>': 'max',\n",
    "     '<LOW>': 'min',\n",
    "     '<CLOSE>': 'last',\n",
    "     })\n",
    "period_df = period_df[['<OPEN>', '<HIGH>', '<LOW>', '<CLOSE>']]\n",
    "# base参数：帮助确定转换周期开始的时间\n",
    "# label='left', closed='left'，建议统一设置成'left'\n",
    "\n",
    "# ===去除不必要的数据\n",
    "# 去除一天都没有交易的周\n",
    "period_df.dropna(subset=['<OPEN>'], inplace=True)\n",
    "period_df"
   ],
   "metadata": {
    "collapsed": false,
    "pycharm": {
     "name": "#%%\n"
    }
   }
  },
  {
   "cell_type": "code",
   "execution_count": null,
   "outputs": [],
   "source": [],
   "metadata": {
    "collapsed": false,
    "pycharm": {
     "name": "#%%\n"
    }
   }
  },
  {
   "cell_type": "code",
   "execution_count": 47,
   "outputs": [
    {
     "name": "stdout",
     "output_type": "stream",
     "text": [
      "h5_store中的key=  ['/EURUSD_1M', '/EURUSD_5M']\n"
     ]
    }
   ],
   "source": [
    "# 创建hdf文件 mode='a' 追加模式\n",
    "h5_store = pd.HDFStore('./data/EURUSD-Data.h5', mode='a')\n",
    "# 存储数据到hdf\n",
    "h5_store['EURUSD_5M'] = period_df\n",
    "print('h5_store中的key= ',h5_store.keys())\n",
    "# 关闭hdf文件\n",
    "h5_store.close()\n"
   ],
   "metadata": {
    "collapsed": false,
    "pycharm": {
     "name": "#%%\n"
    }
   }
  },
  {
   "cell_type": "markdown",
   "source": [
    "### rule的取值"
   ],
   "metadata": {
    "collapsed": false,
    "pycharm": {
     "name": "#%% md\n"
    }
   }
  },
  {
   "cell_type": "code",
   "execution_count": null,
   "outputs": [],
   "source": [
    "\n",
    "\"\"\"\n",
    "    B       business day frequency\n",
    "    C       custom business day frequency (experimental)\n",
    "    D       calendar day frequency\n",
    "    W       weekly frequency\n",
    "    M       month end frequency\n",
    "    SM      semi-month end frequency (15th and end of month)\n",
    "    BM      business month end frequency\n",
    "    CBM     custom business month end frequency\n",
    "    MS      month start frequency\n",
    "    SMS     semi-month start frequency (1st and 15th)\n",
    "    BMS     business month start frequency\n",
    "    CBMS    custom business month start frequency\n",
    "    Q       quarter end frequency\n",
    "    BQ      business quarter endfrequency\n",
    "    QS      quarter start frequency\n",
    "    BQS     business quarter start frequency\n",
    "    A       year end frequency\n",
    "    BA      business year end frequency\n",
    "    AS      year start frequency\n",
    "    BAS     business year start frequency\n",
    "    BH      business hour frequency\n",
    "    H       hourly frequency\n",
    "    T       minutely frequency\n",
    "    S       secondly frequency\n",
    "    L       milliseonds\n",
    "    U       microseconds\n",
    "    N       nanoseconds\n",
    "\"\"\"\n",
    "\n",
    "\n"
   ],
   "metadata": {
    "collapsed": false,
    "pycharm": {
     "name": "#%%%\n"
    }
   }
  }
 ],
 "metadata": {
  "kernelspec": {
   "name": "pycharm-a57ffa67",
   "language": "python",
   "display_name": "PyCharm (yalin-scikit-learn)"
  },
  "language_info": {
   "codemirror_mode": {
    "name": "ipython",
    "version": 2
   },
   "file_extension": ".py",
   "mimetype": "text/x-python",
   "name": "python",
   "nbconvert_exporter": "python",
   "pygments_lexer": "ipython2",
   "version": "2.7.6"
  }
 },
 "nbformat": 4,
 "nbformat_minor": 0
}