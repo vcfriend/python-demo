{
 "cells": [
  {
   "cell_type": "code",
   "execution_count": 2,
   "id": "a2e723a8-aadb-4c7e-810d-0db381844efb",
   "metadata": {},
   "outputs": [
    {
     "name": "stdout",
     "output_type": "stream",
     "text": [
      "\n",
      "INSTALLED VERSIONS\n",
      "------------------\n",
      "commit           : 945c9ed766a61c7d2c0a7cbb251b6edebf9cb7d5\n",
      "python           : 3.7.12.final.0\n",
      "python-bits      : 64\n",
      "OS               : Windows\n",
      "OS-release       : 10\n",
      "Version          : 10.0.22000\n",
      "machine          : AMD64\n",
      "processor        : AMD64 Family 23 Model 104 Stepping 1, AuthenticAMD\n",
      "byteorder        : little\n",
      "LC_ALL           : en_US.UTF-8\n",
      "LANG             : en_US.UTF-8\n",
      "LOCALE           : None.None\n",
      "\n",
      "pandas           : 1.3.4\n",
      "numpy            : 1.21.4\n",
      "pytz             : 2021.3\n",
      "dateutil         : 2.8.2\n",
      "pip              : 21.3.1\n",
      "setuptools       : 59.1.0\n",
      "Cython           : 0.29.24\n",
      "pytest           : None\n",
      "hypothesis       : None\n",
      "sphinx           : None\n",
      "blosc            : None\n",
      "feather          : None\n",
      "xlsxwriter       : None\n",
      "lxml.etree       : None\n",
      "html5lib         : None\n",
      "pymysql          : None\n",
      "psycopg2         : None\n",
      "jinja2           : 3.0.3\n",
      "IPython          : 7.30.1\n",
      "pandas_datareader: None\n",
      "bs4              : None\n",
      "bottleneck       : None\n",
      "fsspec           : None\n",
      "fastparquet      : None\n",
      "gcsfs            : None\n",
      "matplotlib       : 3.2.2\n",
      "numexpr          : None\n",
      "odfpy            : None\n",
      "openpyxl         : None\n",
      "pandas_gbq       : None\n",
      "pyarrow          : None\n",
      "pyxlsb           : None\n",
      "s3fs             : None\n",
      "scipy            : 1.7.2\n",
      "sqlalchemy       : None\n",
      "tables           : None\n",
      "tabulate         : None\n",
      "xarray           : None\n",
      "xlrd             : None\n",
      "xlwt             : None\n",
      "numba            : None\n"
     ]
    }
   ],
   "source": [
    "import os.path\n",
    "import sys\n",
    "import numpy as np\n",
    "import pandas as pd\n",
    "\n",
    "pd._version  # 查看包安装路径\n",
    "pd.show_versions()  # 查看系统版本信息"
   ]
  },
  {
   "cell_type": "code",
   "execution_count": 2,
   "id": "2f9e5699-dae2-4ced-b244-637376eb33a0",
   "metadata": {},
   "outputs": [
    {
     "name": "stdout",
     "output_type": "stream",
     "text": [
      "['D:\\\\study\\\\python-demo\\\\pandas\\\\demo-pandas', 'D:\\\\study\\\\python-demo', 'D:\\\\Weisoft Stock(x64)\\\\Document\\\\Python', 'C:\\\\ProgramData\\\\Anaconda3\\\\envs\\\\py37\\\\python37.zip', 'C:\\\\ProgramData\\\\Anaconda3\\\\envs\\\\py37\\\\DLLs', 'C:\\\\ProgramData\\\\Anaconda3\\\\envs\\\\py37\\\\lib', 'C:\\\\ProgramData\\\\Anaconda3\\\\envs\\\\py37', '', 'C:\\\\ProgramData\\\\Anaconda3\\\\envs\\\\py37\\\\lib\\\\site-packages', 'C:\\\\ProgramData\\\\Anaconda3\\\\envs\\\\py37\\\\lib\\\\site-packages\\\\win32', 'C:\\\\ProgramData\\\\Anaconda3\\\\envs\\\\py37\\\\lib\\\\site-packages\\\\win32\\\\lib', 'C:\\\\ProgramData\\\\Anaconda3\\\\envs\\\\py37\\\\lib\\\\site-packages\\\\Pythonwin', 'C:\\\\ProgramData\\\\Anaconda3\\\\envs\\\\py37\\\\lib\\\\site-packages\\\\IPython\\\\extensions', 'C:\\\\Users\\\\yalin\\\\.ipython']\n"
     ]
    }
   ],
   "source": [
    "print(sys.path)"
   ]
  },
  {
   "cell_type": "markdown",
   "id": "6324a1af-ed57-4e66-aeee-945dcd79c3b0",
   "metadata": {},
   "source": [
    "### 对象创建\n"
   ]
  },
  {
   "cell_type": "code",
   "execution_count": 2,
   "id": "dc798ef2-167f-40b2-842f-9686b4ec6808",
   "metadata": {},
   "outputs": [
    {
     "data": {
      "text/plain": "0    1.0\n1    3.0\n2    5.0\n3    NaN\n4    6.0\n5    8.0\ndtype: float64"
     },
     "execution_count": 2,
     "metadata": {},
     "output_type": "execute_result"
    }
   ],
   "source": [
    "# 通过传递值列表创建\n",
    "s = pd.Series([1, 3, 5, np.nan, 6, 8])\n",
    "s"
   ]
  },
  {
   "cell_type": "code",
   "execution_count": 3,
   "id": "a44de650-346c-42d3-b71b-b558d6d7aa1a",
   "metadata": {},
   "outputs": [
    {
     "data": {
      "text/plain": "DatetimeIndex(['2013-01-01', '2013-01-02', '2013-01-03', '2013-01-04',\n               '2013-01-05', '2013-01-06'],\n              dtype='datetime64[ns]', freq='D')"
     },
     "execution_count": 3,
     "metadata": {},
     "output_type": "execute_result"
    }
   ],
   "source": [
    "# 通过 NumPy 阵列创建数据帧，其中带有日期时间索引和标记列：\n",
    "dates = pd.date_range(\"20130101\", periods=6)\n",
    "dates"
   ]
  },
  {
   "cell_type": "code",
   "execution_count": 4,
   "id": "3958e708-b980-4530-be6b-baac3779b75b",
   "metadata": {},
   "outputs": [
    {
     "data": {
      "text/plain": "                   A         B         C         d\n2013-01-01 -0.984792  0.798328  0.392502 -0.685719\n2013-01-02  0.423804 -0.348169  1.931429 -0.937928\n2013-01-03 -0.807472  0.904021 -0.065711 -1.474258\n2013-01-04  0.493133  0.914707  0.098531  0.885062\n2013-01-05 -0.294373  0.036677 -1.339970 -0.503527\n2013-01-06  0.948630  0.425396  0.864139  0.736759",
      "text/html": "<div>\n<style scoped>\n    .dataframe tbody tr th:only-of-type {\n        vertical-align: middle;\n    }\n\n    .dataframe tbody tr th {\n        vertical-align: top;\n    }\n\n    .dataframe thead th {\n        text-align: right;\n    }\n</style>\n<table border=\"1\" class=\"dataframe\">\n  <thead>\n    <tr style=\"text-align: right;\">\n      <th></th>\n      <th>A</th>\n      <th>B</th>\n      <th>C</th>\n      <th>d</th>\n    </tr>\n  </thead>\n  <tbody>\n    <tr>\n      <th>2013-01-01</th>\n      <td>-0.984792</td>\n      <td>0.798328</td>\n      <td>0.392502</td>\n      <td>-0.685719</td>\n    </tr>\n    <tr>\n      <th>2013-01-02</th>\n      <td>0.423804</td>\n      <td>-0.348169</td>\n      <td>1.931429</td>\n      <td>-0.937928</td>\n    </tr>\n    <tr>\n      <th>2013-01-03</th>\n      <td>-0.807472</td>\n      <td>0.904021</td>\n      <td>-0.065711</td>\n      <td>-1.474258</td>\n    </tr>\n    <tr>\n      <th>2013-01-04</th>\n      <td>0.493133</td>\n      <td>0.914707</td>\n      <td>0.098531</td>\n      <td>0.885062</td>\n    </tr>\n    <tr>\n      <th>2013-01-05</th>\n      <td>-0.294373</td>\n      <td>0.036677</td>\n      <td>-1.339970</td>\n      <td>-0.503527</td>\n    </tr>\n    <tr>\n      <th>2013-01-06</th>\n      <td>0.948630</td>\n      <td>0.425396</td>\n      <td>0.864139</td>\n      <td>0.736759</td>\n    </tr>\n  </tbody>\n</table>\n</div>"
     },
     "execution_count": 4,
     "metadata": {},
     "output_type": "execute_result"
    }
   ],
   "source": [
    "df = pd.DataFrame(np.random.randn(6, 4), index=dates, columns=list(\"ABCd\"))\n",
    "df"
   ]
  },
  {
   "cell_type": "code",
   "execution_count": 5,
   "id": "4c1ee31d-7753-4f36-bbe9-cf6422ff2cca",
   "metadata": {},
   "outputs": [
    {
     "data": {
      "text/plain": "          A          B    C  D      E    F\n0  1.333333 2013-01-02  1.0  3   test  foo\n1  1.333333 2013-01-02  1.0  3  train  foo\n2  1.333333 2013-01-02  1.0  3   test  foo\n3  1.333333 2013-01-02  1.0  3  train  foo",
      "text/html": "<div>\n<style scoped>\n    .dataframe tbody tr th:only-of-type {\n        vertical-align: middle;\n    }\n\n    .dataframe tbody tr th {\n        vertical-align: top;\n    }\n\n    .dataframe thead th {\n        text-align: right;\n    }\n</style>\n<table border=\"1\" class=\"dataframe\">\n  <thead>\n    <tr style=\"text-align: right;\">\n      <th></th>\n      <th>A</th>\n      <th>B</th>\n      <th>C</th>\n      <th>D</th>\n      <th>E</th>\n      <th>F</th>\n    </tr>\n  </thead>\n  <tbody>\n    <tr>\n      <th>0</th>\n      <td>1.333333</td>\n      <td>2013-01-02</td>\n      <td>1.0</td>\n      <td>3</td>\n      <td>test</td>\n      <td>foo</td>\n    </tr>\n    <tr>\n      <th>1</th>\n      <td>1.333333</td>\n      <td>2013-01-02</td>\n      <td>1.0</td>\n      <td>3</td>\n      <td>train</td>\n      <td>foo</td>\n    </tr>\n    <tr>\n      <th>2</th>\n      <td>1.333333</td>\n      <td>2013-01-02</td>\n      <td>1.0</td>\n      <td>3</td>\n      <td>test</td>\n      <td>foo</td>\n    </tr>\n    <tr>\n      <th>3</th>\n      <td>1.333333</td>\n      <td>2013-01-02</td>\n      <td>1.0</td>\n      <td>3</td>\n      <td>train</td>\n      <td>foo</td>\n    </tr>\n  </tbody>\n</table>\n</div>"
     },
     "execution_count": 5,
     "metadata": {},
     "output_type": "execute_result"
    }
   ],
   "source": [
    "# 通过传递可转换为类似系列的对象的听写来创建数据帧。\n",
    "df2 = pd.DataFrame(\n",
    "    {\n",
    "        \"A\": 1.333333,\n",
    "        \"B\": pd.Timestamp(\"20130102\"),\n",
    "        \"C\": pd.Series(1, index=list(range(4)), dtype=\"float32\"),\n",
    "        \"D\": np.array([3] * 4, dtype=\"int32\"),\n",
    "        \"E\": pd.Categorical([\"test\", \"train\", \"test\", \"train\"]),\n",
    "        \"F\": \"foo\",\n",
    "    }\n",
    ")\n",
    "df2"
   ]
  },
  {
   "cell_type": "code",
   "execution_count": 6,
   "id": "0ce56108-f878-4d90-8c67-c7f761ef8be1",
   "metadata": {},
   "outputs": [
    {
     "data": {
      "text/plain": "Timestamp('2013-01-02 00:00:00')"
     },
     "execution_count": 6,
     "metadata": {},
     "output_type": "execute_result"
    }
   ],
   "source": [
    "pd.Timestamp(\"20130102\")"
   ]
  },
  {
   "cell_type": "code",
   "execution_count": 7,
   "outputs": [
    {
     "data": {
      "text/plain": "A           float64\nB    datetime64[ns]\nC           float32\nD             int32\nE          category\nF            object\ndtype: object"
     },
     "execution_count": 7,
     "metadata": {},
     "output_type": "execute_result"
    }
   ],
   "source": [
    "# 生成的数据帧的列具有不同的 d型。\n",
    "df2.dtypes"
   ],
   "metadata": {
    "collapsed": false,
    "pycharm": {
     "name": "#%%\n"
    }
   }
  },
  {
   "cell_type": "code",
   "execution_count": 92,
   "outputs": [
    {
     "name": "stdout",
     "output_type": "stream",
     "text": [
      "         date      time  open\n",
      "0  2022-01-04  13:05:00  2671\n",
      "1  2022-01-04  13:10:00  2679\n",
      "2  2022-01-04  13:15:00  2669\n",
      "3  2022-01-05  13:20:00  2675\n",
      "4  2022-01-06  13:25:00  2678\n"
     ]
    }
   ],
   "source": [
    "df3 = pd.DataFrame(\n",
    "    {\n",
    "        \"date\": ['2022-01-04', '2022-01-04', '2022-01-04', '2022-01-05', '2022-01-06'],\n",
    "        \"time\": ['13:05:00', '13:10:00', '13:15:00', '13:20:00', '13:25:00', ],\n",
    "        \"open\": [2671, 2679, 2669, 2675, 2678],\n",
    "        \"close\": [2689, 2694, 2688, 2691, 2691],\n",
    "    },\n",
    "    # index=[1, 3, 5, 7, 9],\n",
    ")\n",
    "df4 = df3[['date','time','open']]\n",
    "# df3.set_index(['date','time'], drop=True, inplace=True, append=True)\n",
    "df3.set_index(['date','time'], drop=True, inplace=True, append=True)\n",
    "# df4.set_index(['date','time'])\n",
    "print(df4)"
   ],
   "metadata": {
    "collapsed": false,
    "pycharm": {
     "name": "#%%\n"
    }
   }
  },
  {
   "cell_type": "markdown",
   "source": [
    "## 查看数据"
   ],
   "metadata": {
    "collapsed": false
   }
  },
  {
   "cell_type": "raw",
   "id": "9500162f-7a58-4678-942b-c29a8d19e00f",
   "metadata": {},
   "source": [
    "以下是如何查看框架的顶部和底部行："
   ]
  },
  {
   "cell_type": "code",
   "execution_count": 8,
   "id": "afd9d0b0-68f6-4315-a8c5-b55f22d7b244",
   "metadata": {},
   "outputs": [
    {
     "data": {
      "text/plain": "                   A         B         C         d\n2013-01-01 -0.984792  0.798328  0.392502 -0.685719\n2013-01-02  0.423804 -0.348169  1.931429 -0.937928\n2013-01-03 -0.807472  0.904021 -0.065711 -1.474258\n2013-01-04  0.493133  0.914707  0.098531  0.885062",
      "text/html": "<div>\n<style scoped>\n    .dataframe tbody tr th:only-of-type {\n        vertical-align: middle;\n    }\n\n    .dataframe tbody tr th {\n        vertical-align: top;\n    }\n\n    .dataframe thead th {\n        text-align: right;\n    }\n</style>\n<table border=\"1\" class=\"dataframe\">\n  <thead>\n    <tr style=\"text-align: right;\">\n      <th></th>\n      <th>A</th>\n      <th>B</th>\n      <th>C</th>\n      <th>d</th>\n    </tr>\n  </thead>\n  <tbody>\n    <tr>\n      <th>2013-01-01</th>\n      <td>-0.984792</td>\n      <td>0.798328</td>\n      <td>0.392502</td>\n      <td>-0.685719</td>\n    </tr>\n    <tr>\n      <th>2013-01-02</th>\n      <td>0.423804</td>\n      <td>-0.348169</td>\n      <td>1.931429</td>\n      <td>-0.937928</td>\n    </tr>\n    <tr>\n      <th>2013-01-03</th>\n      <td>-0.807472</td>\n      <td>0.904021</td>\n      <td>-0.065711</td>\n      <td>-1.474258</td>\n    </tr>\n    <tr>\n      <th>2013-01-04</th>\n      <td>0.493133</td>\n      <td>0.914707</td>\n      <td>0.098531</td>\n      <td>0.885062</td>\n    </tr>\n  </tbody>\n</table>\n</div>"
     },
     "execution_count": 8,
     "metadata": {},
     "output_type": "execute_result"
    }
   ],
   "source": [
    "df.head(4)"
   ]
  },
  {
   "cell_type": "code",
   "execution_count": 9,
   "id": "51b5bf60-b1b5-4bdc-b761-de1915a0c0ac",
   "metadata": {},
   "outputs": [
    {
     "data": {
      "text/plain": "          A          B    C  D      E    F\n0  1.333333 2013-01-02  1.0  3   test  foo\n1  1.333333 2013-01-02  1.0  3  train  foo\n2  1.333333 2013-01-02  1.0  3   test  foo\n3  1.333333 2013-01-02  1.0  3  train  foo",
      "text/html": "<div>\n<style scoped>\n    .dataframe tbody tr th:only-of-type {\n        vertical-align: middle;\n    }\n\n    .dataframe tbody tr th {\n        vertical-align: top;\n    }\n\n    .dataframe thead th {\n        text-align: right;\n    }\n</style>\n<table border=\"1\" class=\"dataframe\">\n  <thead>\n    <tr style=\"text-align: right;\">\n      <th></th>\n      <th>A</th>\n      <th>B</th>\n      <th>C</th>\n      <th>D</th>\n      <th>E</th>\n      <th>F</th>\n    </tr>\n  </thead>\n  <tbody>\n    <tr>\n      <th>0</th>\n      <td>1.333333</td>\n      <td>2013-01-02</td>\n      <td>1.0</td>\n      <td>3</td>\n      <td>test</td>\n      <td>foo</td>\n    </tr>\n    <tr>\n      <th>1</th>\n      <td>1.333333</td>\n      <td>2013-01-02</td>\n      <td>1.0</td>\n      <td>3</td>\n      <td>train</td>\n      <td>foo</td>\n    </tr>\n    <tr>\n      <th>2</th>\n      <td>1.333333</td>\n      <td>2013-01-02</td>\n      <td>1.0</td>\n      <td>3</td>\n      <td>test</td>\n      <td>foo</td>\n    </tr>\n    <tr>\n      <th>3</th>\n      <td>1.333333</td>\n      <td>2013-01-02</td>\n      <td>1.0</td>\n      <td>3</td>\n      <td>train</td>\n      <td>foo</td>\n    </tr>\n  </tbody>\n</table>\n</div>"
     },
     "execution_count": 9,
     "metadata": {},
     "output_type": "execute_result"
    }
   ],
   "source": [
    "df2.tail(4)"
   ]
  },
  {
   "cell_type": "code",
   "execution_count": 9,
   "id": "8f1a15aa-b400-42d7-b734-db18988487ad",
   "metadata": {},
   "outputs": [],
   "source": []
  },
  {
   "cell_type": "markdown",
   "id": "6824132f-a76b-4d52-a612-9f0bd29d1142",
   "metadata": {
    "pycharm": {
     "name": "#%% md\n"
    }
   },
   "source": [
    "显示索引、列："
   ]
  },
  {
   "cell_type": "code",
   "execution_count": null,
   "outputs": [],
   "source": [
    "name = \"文件名\"\n",
    "filename = r\"D:\\yalin\\Documents\\Weisoft Stock\\%s.txt\" % name\n",
    "print(filename)\n",
    "filename = r\"D:\\yalin\\Documents\\Weisoft Stock\\{}.txt\".format(name)\n",
    "print(filename)\n"
   ],
   "metadata": {
    "collapsed": false,
    "pycharm": {
     "name": "#%%\n"
    }
   }
  },
  {
   "cell_type": "code",
   "execution_count": 8,
   "outputs": [
    {
     "data": {
      "text/plain": "          a         b         c         D\n1       NaN       NaN       NaN  0.044281\n2       NaN       NaN       NaN  0.762817\n3  0.108640 -0.242814  0.019110  1.364499\n4  0.532870  0.670488 -0.727511 -0.605476\n5  0.907558 -0.667310  0.356394  0.192299\n6  2.197425  0.832174 -0.535955  0.560034",
      "text/html": "<div>\n<style scoped>\n    .dataframe tbody tr th:only-of-type {\n        vertical-align: middle;\n    }\n\n    .dataframe tbody tr th {\n        vertical-align: top;\n    }\n\n    .dataframe thead th {\n        text-align: right;\n    }\n</style>\n<table border=\"1\" class=\"dataframe\">\n  <thead>\n    <tr style=\"text-align: right;\">\n      <th></th>\n      <th>a</th>\n      <th>b</th>\n      <th>c</th>\n      <th>D</th>\n    </tr>\n  </thead>\n  <tbody>\n    <tr>\n      <th>1</th>\n      <td>NaN</td>\n      <td>NaN</td>\n      <td>NaN</td>\n      <td>0.044281</td>\n    </tr>\n    <tr>\n      <th>2</th>\n      <td>NaN</td>\n      <td>NaN</td>\n      <td>NaN</td>\n      <td>0.762817</td>\n    </tr>\n    <tr>\n      <th>3</th>\n      <td>0.108640</td>\n      <td>-0.242814</td>\n      <td>0.019110</td>\n      <td>1.364499</td>\n    </tr>\n    <tr>\n      <th>4</th>\n      <td>0.532870</td>\n      <td>0.670488</td>\n      <td>-0.727511</td>\n      <td>-0.605476</td>\n    </tr>\n    <tr>\n      <th>5</th>\n      <td>0.907558</td>\n      <td>-0.667310</td>\n      <td>0.356394</td>\n      <td>0.192299</td>\n    </tr>\n    <tr>\n      <th>6</th>\n      <td>2.197425</td>\n      <td>0.832174</td>\n      <td>-0.535955</td>\n      <td>0.560034</td>\n    </tr>\n  </tbody>\n</table>\n</div>"
     },
     "execution_count": 8,
     "metadata": {},
     "output_type": "execute_result"
    }
   ],
   "source": [
    "df0 = pd.DataFrame(np.random.randn(6, 4), index=range(1, 7), columns=list(\"abcD\"))\n",
    "df0.loc[1:2, 'a':'c'] = None\n",
    "df0"
   ],
   "metadata": {
    "collapsed": false,
    "pycharm": {
     "name": "#%%\n"
    }
   }
  },
  {
   "cell_type": "markdown",
   "source": [
    "## 缺失值处理"
   ],
   "metadata": {
    "collapsed": false,
    "pycharm": {
     "name": "#%% md\n"
    }
   }
  },
  {
   "cell_type": "code",
   "execution_count": null,
   "outputs": [],
   "source": [
    "# 检查数据中是否有缺失值，以下两种方式均可\n",
    "# #Flase:无缺失值 #True：有缺失值\n",
    "print('返回每一列缺失值统计个数:', df0.isnull().sum())\n",
    "df0 = df0.dropna(axis=0, how='any')  #删除包含缺失值的行\n",
    "print('检查数据中是否有缺失值:', df0.isnull().any())\n",
    "print(df0)"
   ],
   "metadata": {
    "collapsed": false,
    "pycharm": {
     "name": "#%%\n"
    }
   }
  },
  {
   "cell_type": "markdown",
   "source": [
    "# 时间格式转换"
   ],
   "metadata": {
    "collapsed": false,
    "pycharm": {
     "name": "#%% md\n"
    }
   }
  },
  {
   "cell_type": "code",
   "execution_count": 25,
   "outputs": [
    {
     "data": {
      "text/plain": "  Alfa Bravo             Datetime\nA    1     4  2022/01/11 21:36:15\nB    2     5  2022/01/10 21:36:15\nC    3     6  2022/01/09 21:36:15",
      "text/html": "<div>\n<style scoped>\n    .dataframe tbody tr th:only-of-type {\n        vertical-align: middle;\n    }\n\n    .dataframe tbody tr th {\n        vertical-align: top;\n    }\n\n    .dataframe thead th {\n        text-align: right;\n    }\n</style>\n<table border=\"1\" class=\"dataframe\">\n  <thead>\n    <tr style=\"text-align: right;\">\n      <th></th>\n      <th>Alfa</th>\n      <th>Bravo</th>\n      <th>Datetime</th>\n    </tr>\n  </thead>\n  <tbody>\n    <tr>\n      <th>A</th>\n      <td>1</td>\n      <td>4</td>\n      <td>2022/01/11 21:36:15</td>\n    </tr>\n    <tr>\n      <th>B</th>\n      <td>2</td>\n      <td>5</td>\n      <td>2022/01/10 21:36:15</td>\n    </tr>\n    <tr>\n      <th>C</th>\n      <td>3</td>\n      <td>6</td>\n      <td>2022/01/09 21:36:15</td>\n    </tr>\n  </tbody>\n</table>\n</div>"
     },
     "execution_count": 25,
     "metadata": {},
     "output_type": "execute_result"
    }
   ],
   "source": [
    "from datetime import datetime, timedelta\n",
    "\n",
    "# 生成带有时间序列的DataFrame\n",
    "df = pd.DataFrame.from_dict(\n",
    "    dict(Alfa=[1, 2, 3],\n",
    "         Bravo=[4, 5, 6],\n",
    "         Datetime=[datetime.strftime(datetime.now() - timedelta(days=_), \"%Y/%m/%d %H:%M:%S\") for _ in range(3)]),\n",
    "    orient='index',\n",
    "    columns=['A', 'B', 'C']).T\n",
    "df"
   ],
   "metadata": {
    "collapsed": false,
    "pycharm": {
     "name": "#%%\n"
    }
   }
  },
  {
   "cell_type": "code",
   "execution_count": 23,
   "outputs": [
    {
     "data": {
      "text/plain": "  Alfa Bravo             Datetime            datetime\nA    1     4  2022/01/11 21:04:04 2022-01-11 21:04:04\nB    2     5  2022/01/10 21:04:04 2022-01-10 21:04:04\nC    3     6  2022/01/09 21:04:04 2022-01-09 21:04:04",
      "text/html": "<div>\n<style scoped>\n    .dataframe tbody tr th:only-of-type {\n        vertical-align: middle;\n    }\n\n    .dataframe tbody tr th {\n        vertical-align: top;\n    }\n\n    .dataframe thead th {\n        text-align: right;\n    }\n</style>\n<table border=\"1\" class=\"dataframe\">\n  <thead>\n    <tr style=\"text-align: right;\">\n      <th></th>\n      <th>Alfa</th>\n      <th>Bravo</th>\n      <th>Datetime</th>\n      <th>datetime</th>\n    </tr>\n  </thead>\n  <tbody>\n    <tr>\n      <th>A</th>\n      <td>1</td>\n      <td>4</td>\n      <td>2022/01/11 21:04:04</td>\n      <td>2022-01-11 21:04:04</td>\n    </tr>\n    <tr>\n      <th>B</th>\n      <td>2</td>\n      <td>5</td>\n      <td>2022/01/10 21:04:04</td>\n      <td>2022-01-10 21:04:04</td>\n    </tr>\n    <tr>\n      <th>C</th>\n      <td>3</td>\n      <td>6</td>\n      <td>2022/01/09 21:04:04</td>\n      <td>2022-01-09 21:04:04</td>\n    </tr>\n  </tbody>\n</table>\n</div>"
     },
     "execution_count": 23,
     "metadata": {},
     "output_type": "execute_result"
    }
   ],
   "source": [
    "\n",
    "df['datetime'] = pd.to_datetime(df['Datetime'], format=\"%Y/%m/%d %H:%M:%S\")  # date转为时间格式\n",
    "df"
   ],
   "metadata": {
    "collapsed": false,
    "pycharm": {
     "name": "#%%\n"
    }
   }
  },
  {
   "cell_type": "code",
   "execution_count": 17,
   "outputs": [
    {
     "data": {
      "text/plain": "  Alfa Bravo             Datetime            datetime\nA    1     4  2022/01/11 20:22:11 2022-01-11 20:22:11\nB    2     5  2022/01/10 20:22:11 2022-01-10 20:22:11\nC    3     6  2022/01/09 20:22:11 2022-01-09 20:22:11",
      "text/html": "<div>\n<style scoped>\n    .dataframe tbody tr th:only-of-type {\n        vertical-align: middle;\n    }\n\n    .dataframe tbody tr th {\n        vertical-align: top;\n    }\n\n    .dataframe thead th {\n        text-align: right;\n    }\n</style>\n<table border=\"1\" class=\"dataframe\">\n  <thead>\n    <tr style=\"text-align: right;\">\n      <th></th>\n      <th>Alfa</th>\n      <th>Bravo</th>\n      <th>Datetime</th>\n      <th>datetime</th>\n    </tr>\n  </thead>\n  <tbody>\n    <tr>\n      <th>A</th>\n      <td>1</td>\n      <td>4</td>\n      <td>2022/01/11 20:22:11</td>\n      <td>2022-01-11 20:22:11</td>\n    </tr>\n    <tr>\n      <th>B</th>\n      <td>2</td>\n      <td>5</td>\n      <td>2022/01/10 20:22:11</td>\n      <td>2022-01-10 20:22:11</td>\n    </tr>\n    <tr>\n      <th>C</th>\n      <td>3</td>\n      <td>6</td>\n      <td>2022/01/09 20:22:11</td>\n      <td>2022-01-09 20:22:11</td>\n    </tr>\n  </tbody>\n</table>\n</div>"
     },
     "execution_count": 17,
     "metadata": {},
     "output_type": "execute_result"
    }
   ],
   "source": [
    "df['datetime'] = df['Datetime'].astype('datetime64[ns]')  # date转为时间格式\n",
    "df"
   ],
   "metadata": {
    "collapsed": false,
    "pycharm": {
     "name": "#%%\n"
    }
   }
  },
  {
   "cell_type": "code",
   "execution_count": 26,
   "outputs": [
    {
     "data": {
      "text/plain": "  Alfa Bravo            Datetime\nA    1     4 2022-01-11 21:36:15\nB    2     5 2022-01-10 21:36:15\nC    3     6 2022-01-09 21:36:15",
      "text/html": "<div>\n<style scoped>\n    .dataframe tbody tr th:only-of-type {\n        vertical-align: middle;\n    }\n\n    .dataframe tbody tr th {\n        vertical-align: top;\n    }\n\n    .dataframe thead th {\n        text-align: right;\n    }\n</style>\n<table border=\"1\" class=\"dataframe\">\n  <thead>\n    <tr style=\"text-align: right;\">\n      <th></th>\n      <th>Alfa</th>\n      <th>Bravo</th>\n      <th>Datetime</th>\n    </tr>\n  </thead>\n  <tbody>\n    <tr>\n      <th>A</th>\n      <td>1</td>\n      <td>4</td>\n      <td>2022-01-11 21:36:15</td>\n    </tr>\n    <tr>\n      <th>B</th>\n      <td>2</td>\n      <td>5</td>\n      <td>2022-01-10 21:36:15</td>\n    </tr>\n    <tr>\n      <th>C</th>\n      <td>3</td>\n      <td>6</td>\n      <td>2022-01-09 21:36:15</td>\n    </tr>\n  </tbody>\n</table>\n</div>"
     },
     "execution_count": 26,
     "metadata": {},
     "output_type": "execute_result"
    }
   ],
   "source": [
    "df['Datetime'] = pd.to_datetime(df['Datetime'])  # date转为时间格式\n",
    "df"
   ],
   "metadata": {
    "collapsed": false,
    "pycharm": {
     "name": "#%%\n"
    }
   }
  },
  {
   "cell_type": "code",
   "execution_count": 27,
   "outputs": [
    {
     "data": {
      "text/plain": "                    Alfa Bravo\nDatetime                      \n2022-01-11 21:36:15    1     4\n2022-01-10 21:36:15    2     5\n2022-01-09 21:36:15    3     6",
      "text/html": "<div>\n<style scoped>\n    .dataframe tbody tr th:only-of-type {\n        vertical-align: middle;\n    }\n\n    .dataframe tbody tr th {\n        vertical-align: top;\n    }\n\n    .dataframe thead th {\n        text-align: right;\n    }\n</style>\n<table border=\"1\" class=\"dataframe\">\n  <thead>\n    <tr style=\"text-align: right;\">\n      <th></th>\n      <th>Alfa</th>\n      <th>Bravo</th>\n    </tr>\n    <tr>\n      <th>Datetime</th>\n      <th></th>\n      <th></th>\n    </tr>\n  </thead>\n  <tbody>\n    <tr>\n      <th>2022-01-11 21:36:15</th>\n      <td>1</td>\n      <td>4</td>\n    </tr>\n    <tr>\n      <th>2022-01-10 21:36:15</th>\n      <td>2</td>\n      <td>5</td>\n    </tr>\n    <tr>\n      <th>2022-01-09 21:36:15</th>\n      <td>3</td>\n      <td>6</td>\n    </tr>\n  </tbody>\n</table>\n</div>"
     },
     "execution_count": 27,
     "metadata": {},
     "output_type": "execute_result"
    }
   ],
   "source": [
    "df.set_index(\"Datetime\", inplace=True)\n",
    "df"
   ],
   "metadata": {
    "collapsed": false,
    "pycharm": {
     "name": "#%%\n"
    }
   }
  },
  {
   "cell_type": "code",
   "execution_count": 1,
   "outputs": [
    {
     "ename": "NameError",
     "evalue": "name 'df' is not defined",
     "output_type": "error",
     "traceback": [
      "\u001B[1;31m---------------------------------------------------------------------------\u001B[0m",
      "\u001B[1;31mNameError\u001B[0m                                 Traceback (most recent call last)",
      "\u001B[1;32m~\\AppData\\Local\\Temp/ipykernel_11844/1554240100.py\u001B[0m in \u001B[0;36m<module>\u001B[1;34m\u001B[0m\n\u001B[0;32m      1\u001B[0m \u001B[1;31m# 统一设置小数位数\u001B[0m\u001B[1;33m\u001B[0m\u001B[1;33m\u001B[0m\u001B[1;33m\u001B[0m\u001B[0m\n\u001B[1;32m----> 2\u001B[1;33m \u001B[0mdf\u001B[0m\u001B[1;33m.\u001B[0m\u001B[0mround\u001B[0m\u001B[1;33m(\u001B[0m\u001B[1;36m0\u001B[0m\u001B[1;33m)\u001B[0m\u001B[1;33m\u001B[0m\u001B[1;33m\u001B[0m\u001B[0m\n\u001B[0m",
      "\u001B[1;31mNameError\u001B[0m: name 'df' is not defined"
     ]
    }
   ],
   "source": [
    "# pd.reset_option('display.float_format')  # 重置\n",
    "pd.set_option('precision', 2)  # 显示小数点后的位数\n",
    "pd.set_option('expand_frame_repr', False)  # True就是可以换行显示。设置成False的时候不允许换行\n",
    "pd.set_option('display.max_rows', 300)  # 控制显示的最大行数\n",
    "pd.set_option('display.min_rows', 20)  # 确定显示的部分有多少行\n",
    "pd.set_option('display.max_columns', 10)  # 控制显示的最大列数\n",
    "# pd.set_option('display.float_format',  '{:,.2f}'.format) # 数字格式化显示 用逗号格式化大值数字 设置数字精度\n",
    "# 指定列名设置计算精确度，未指定的保持原样\n",
    "df.round({'open': 0, 'high': 0, 'low': 0, 'close': 0})\n",
    "# 统一保持1位小数\n",
    "df.round(0)\n",
    "# 设置np输出精度\n",
    "#设定numpy显示浮点数精度的小数位数,不使用科学记数法\n",
    "np.set_printoptions(precision=2, suppress=True)"
   ],
   "metadata": {
    "collapsed": false,
    "pycharm": {
     "name": "#%%\n"
    }
   }
  },
  {
   "cell_type": "code",
   "execution_count": null,
   "outputs": [],
   "source": [],
   "metadata": {
    "collapsed": false,
    "pycharm": {
     "name": "#%%\n"
    }
   }
  }
 ],
 "metadata": {
  "kernelspec": {
   "name": "pycharm-50a0962a",
   "language": "python",
   "display_name": "PyCharm (python-demo)"
  },
  "language_info": {
   "codemirror_mode": {
    "name": "ipython",
    "version": 3
   },
   "file_extension": ".py",
   "mimetype": "text/x-python",
   "name": "python",
   "nbconvert_exporter": "python",
   "pygments_lexer": "ipython3",
   "version": "3.8.12"
  },
  "toc-autonumbering": true,
  "toc-showcode": true,
  "toc-showmarkdowntxt": true,
  "toc-showtags": true
 },
 "nbformat": 4,
 "nbformat_minor": 5
}