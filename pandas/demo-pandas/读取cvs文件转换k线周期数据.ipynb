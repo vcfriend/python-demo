{
 "cells": [
  {
   "cell_type": "code",
   "execution_count": 45,
   "metadata": {
    "collapsed": true
   },
   "outputs": [
    {
     "name": "stdout",
     "output_type": "stream",
     "text": [
      "<module 'numpy._version' from 'C:\\\\ProgramData\\\\Anaconda3\\\\envs\\\\py39\\\\lib\\\\site-packages\\\\numpy\\\\_version.py'>\n"
     ]
    }
   ],
   "source": [
    "# coding=utf-8\n",
    "import pandas as pd\n",
    "\n",
    "import numpy as np\n",
    "print(np._version)"
   ]
  },
  {
   "cell_type": "code",
   "execution_count": null,
   "outputs": [],
   "source": [
    "from datetime import datetime\n",
    "\n",
    "# 加载cvs文件\n",
    "\"\"\"\n",
    "TestTime.csv文件：\n",
    "\"name\",\"time\",\"date\"\n",
    "'Bob',21:33:30,2019-10-10\n",
    "'Jerry',21:30:15,2019-10-10\n",
    "'Tom',21:25:30,2019-10-10\n",
    "'Vince',21:20:10,2019-10-10\n",
    "'Hank',21:40:15,2019-10-10\n",
    "\n",
    "指定parse_dates = [ ['time', 'date'] ]，即将[ ['time', 'date'] ]两列的字符串先合并后解析方可。合并后的新列会以下划线'_'连接原列名命名\n",
    "本例中解析后的命名为：time_date,解析得到的日期格式列会作为DataFrame的第一列。\n",
    "\n",
    "如果写成了parse_dates=['time', 'date'] ，pd.read_csv()会分别对'time', 'date'进行字符串转日期，此外还会造成一个小小的麻烦。\n",
    "由于本例中的Time时间列格式为'HH:MM:SS'，\n",
    "parse_dates默认调用dateutil.parser.parse解析为Datetime格式，在解析time这一列时，会自作主张在前面加上一个当前日期。\n",
    "结果：\n",
    "      name                time         date\n",
    "0    'Bob' 2019-10-17 21:33:30   2019-10-10\n",
    "1  'Jerry' 2019-10-17 21:30:15   2019-10-10\n",
    "2    'Tom' 2019-10-17 21:25:30   2019-10-10\n",
    "3  'Vince' 2019-10-17 21:20:10   2019-10-10\n",
    "4   'Hank' 2019-10-17 21:40:15   2019-10-10\n",
    "\n",
    "\"\"\""
   ],
   "metadata": {
    "collapsed": false,
    "pycharm": {
     "name": "#%%\n"
    }
   }
  },
  {
   "cell_type": "code",
   "execution_count": 24,
   "outputs": [
    {
     "name": "stdout",
     "output_type": "stream",
     "text": [
      "  <TICKER> <DTYYYYMMDD>  <TIME>  <OPEN>  <HIGH>   <LOW>  <CLOSE>  <VOL>\n",
      "0   EURUSD   2001-01-02  230100  0.9507  0.9507  0.9507   0.9507      4\n",
      "1   EURUSD   2001-01-02  230200  0.9506  0.9506  0.9505   0.9505      4\n",
      "2   EURUSD   2001-01-02  230300  0.9505  0.9507  0.9505   0.9506      4\n"
     ]
    },
    {
     "data": {
      "text/plain": "<TICKER>                object\n<DTYYYYMMDD>    datetime64[ns]\n<TIME>                  object\n<OPEN>                 float64\n<HIGH>                 float64\n<LOW>                  float64\n<CLOSE>                float64\n<VOL>                    int64\ndtype: object"
     },
     "execution_count": 24,
     "metadata": {},
     "output_type": "execute_result"
    }
   ],
   "source": [
    "df = pd.read_csv('./data/EURUSD-100.txt',\n",
    "                 parse_dates=['<DTYYYYMMDD>', '<TIME>'])\n",
    "print(df.head(3))\n",
    "df.dtypes"
   ],
   "metadata": {
    "collapsed": false,
    "pycharm": {
     "name": "#%%\n"
    }
   }
  },
  {
   "cell_type": "code",
   "execution_count": 28,
   "outputs": [
    {
     "name": "stdout",
     "output_type": "stream",
     "text": [
      "  <DTYYYYMMDD>_<TIME> <TICKER>  <OPEN>  <HIGH>   <LOW>  <CLOSE>  <VOL>\n",
      "0 2001-01-02 23:01:00   EURUSD  0.9507  0.9507  0.9507   0.9507      4\n",
      "1 2001-01-02 23:02:00   EURUSD  0.9506  0.9506  0.9505   0.9505      4\n",
      "2 2001-01-02 23:03:00   EURUSD  0.9505  0.9507  0.9505   0.9506      4\n"
     ]
    },
    {
     "data": {
      "text/plain": "<DTYYYYMMDD>_<TIME>    datetime64[ns]\n<TICKER>                       object\n<OPEN>                        float64\n<HIGH>                        float64\n<LOW>                         float64\n<CLOSE>                       float64\n<VOL>                           int64\ndtype: object"
     },
     "execution_count": 28,
     "metadata": {},
     "output_type": "execute_result"
    }
   ],
   "source": [
    "df = pd.read_csv('./data/EURUSD-100.txt',\n",
    "                 parse_dates=[['<DTYYYYMMDD>', '<TIME>']])\n",
    "print(df.head(3))\n",
    "df.dtypes"
   ],
   "metadata": {
    "collapsed": false,
    "pycharm": {
     "name": "#%%\n"
    }
   }
  },
  {
   "cell_type": "code",
   "execution_count": 29,
   "outputs": [],
   "source": [
    "# 将DATE设定为index 执行一遍就好了\n",
    "df.set_index('<DTYYYYMMDD>_<TIME>', inplace=True)"
   ],
   "metadata": {
    "collapsed": false,
    "pycharm": {
     "name": "#%%\n"
    }
   }
  },
  {
   "cell_type": "code",
   "execution_count": 38,
   "outputs": [
    {
     "name": "stderr",
     "output_type": "stream",
     "text": [
      "C:\\Users\\yalin\\AppData\\Local\\Temp/ipykernel_25992/1385777546.py:2: FutureWarning: 'base' in .resample() and in Grouper() is deprecated.\n",
      "The new arguments that you should use are 'offset' or 'origin'.\n",
      "\n",
      ">>> df.resample(freq=\"3s\", base=2)\n",
      "\n",
      "becomes:\n",
      "\n",
      ">>> df.resample(freq=\"3s\", offset=\"2s\")\n",
      "\n",
      "  period_df = df.resample(rule=rule_type, base=0, label='left', closed='left').agg(\n"
     ]
    },
    {
     "ename": "KeyError",
     "evalue": "'<DTYYYYMMDD>_<TIME>'",
     "output_type": "error",
     "traceback": [
      "\u001B[1;31m---------------------------------------------------------------------------\u001B[0m",
      "\u001B[1;31mKeyError\u001B[0m                                  Traceback (most recent call last)",
      "\u001B[1;32mC:\\ProgramData\\Anaconda3\\envs\\py39\\lib\\site-packages\\pandas\\core\\indexes\\base.py\u001B[0m in \u001B[0;36mget_loc\u001B[1;34m(self, key, method, tolerance)\u001B[0m\n\u001B[0;32m   3360\u001B[0m             \u001B[1;32mtry\u001B[0m\u001B[1;33m:\u001B[0m\u001B[1;33m\u001B[0m\u001B[1;33m\u001B[0m\u001B[0m\n\u001B[1;32m-> 3361\u001B[1;33m                 \u001B[1;32mreturn\u001B[0m \u001B[0mself\u001B[0m\u001B[1;33m.\u001B[0m\u001B[0m_engine\u001B[0m\u001B[1;33m.\u001B[0m\u001B[0mget_loc\u001B[0m\u001B[1;33m(\u001B[0m\u001B[0mcasted_key\u001B[0m\u001B[1;33m)\u001B[0m\u001B[1;33m\u001B[0m\u001B[1;33m\u001B[0m\u001B[0m\n\u001B[0m\u001B[0;32m   3362\u001B[0m             \u001B[1;32mexcept\u001B[0m \u001B[0mKeyError\u001B[0m \u001B[1;32mas\u001B[0m \u001B[0merr\u001B[0m\u001B[1;33m:\u001B[0m\u001B[1;33m\u001B[0m\u001B[1;33m\u001B[0m\u001B[0m\n",
      "\u001B[1;32mC:\\ProgramData\\Anaconda3\\envs\\py39\\lib\\site-packages\\pandas\\_libs\\index.pyx\u001B[0m in \u001B[0;36mpandas._libs.index.IndexEngine.get_loc\u001B[1;34m()\u001B[0m\n",
      "\u001B[1;32mC:\\ProgramData\\Anaconda3\\envs\\py39\\lib\\site-packages\\pandas\\_libs\\index.pyx\u001B[0m in \u001B[0;36mpandas._libs.index.IndexEngine.get_loc\u001B[1;34m()\u001B[0m\n",
      "\u001B[1;32mpandas\\_libs\\hashtable_class_helper.pxi\u001B[0m in \u001B[0;36mpandas._libs.hashtable.PyObjectHashTable.get_item\u001B[1;34m()\u001B[0m\n",
      "\u001B[1;32mpandas\\_libs\\hashtable_class_helper.pxi\u001B[0m in \u001B[0;36mpandas._libs.hashtable.PyObjectHashTable.get_item\u001B[1;34m()\u001B[0m\n",
      "\u001B[1;31mKeyError\u001B[0m: '<DTYYYYMMDD>_<TIME>'",
      "\nThe above exception was the direct cause of the following exception:\n",
      "\u001B[1;31mKeyError\u001B[0m                                  Traceback (most recent call last)",
      "\u001B[1;32m~\\AppData\\Local\\Temp/ipykernel_25992/1385777546.py\u001B[0m in \u001B[0;36m<module>\u001B[1;34m\u001B[0m\n\u001B[0;32m      8\u001B[0m      })\n\u001B[0;32m      9\u001B[0m \u001B[1;33m\u001B[0m\u001B[0m\n\u001B[1;32m---> 10\u001B[1;33m \u001B[0mperiod_df\u001B[0m\u001B[1;33m[\u001B[0m\u001B[1;34m'<DTYYYYMMDD>'\u001B[0m\u001B[1;33m]\u001B[0m \u001B[1;33m=\u001B[0m \u001B[0mperiod_df\u001B[0m\u001B[1;33m[\u001B[0m\u001B[1;34m'<DTYYYYMMDD>_<TIME>'\u001B[0m\u001B[1;33m]\u001B[0m\u001B[1;33m.\u001B[0m\u001B[0mdt\u001B[0m\u001B[1;33m.\u001B[0m\u001B[0mdate\u001B[0m\u001B[1;33m\u001B[0m\u001B[1;33m\u001B[0m\u001B[0m\n\u001B[0m\u001B[0;32m     11\u001B[0m \u001B[0mprint\u001B[0m\u001B[1;33m(\u001B[0m\u001B[0mperiod_df\u001B[0m\u001B[1;33m.\u001B[0m\u001B[0mhead\u001B[0m\u001B[1;33m(\u001B[0m\u001B[1;36m3\u001B[0m\u001B[1;33m)\u001B[0m\u001B[1;33m)\u001B[0m\u001B[1;33m\u001B[0m\u001B[1;33m\u001B[0m\u001B[0m\n\u001B[0;32m     12\u001B[0m \u001B[1;33m\u001B[0m\u001B[0m\n",
      "\u001B[1;32mC:\\ProgramData\\Anaconda3\\envs\\py39\\lib\\site-packages\\pandas\\core\\frame.py\u001B[0m in \u001B[0;36m__getitem__\u001B[1;34m(self, key)\u001B[0m\n\u001B[0;32m   3456\u001B[0m             \u001B[1;32mif\u001B[0m \u001B[0mself\u001B[0m\u001B[1;33m.\u001B[0m\u001B[0mcolumns\u001B[0m\u001B[1;33m.\u001B[0m\u001B[0mnlevels\u001B[0m \u001B[1;33m>\u001B[0m \u001B[1;36m1\u001B[0m\u001B[1;33m:\u001B[0m\u001B[1;33m\u001B[0m\u001B[1;33m\u001B[0m\u001B[0m\n\u001B[0;32m   3457\u001B[0m                 \u001B[1;32mreturn\u001B[0m \u001B[0mself\u001B[0m\u001B[1;33m.\u001B[0m\u001B[0m_getitem_multilevel\u001B[0m\u001B[1;33m(\u001B[0m\u001B[0mkey\u001B[0m\u001B[1;33m)\u001B[0m\u001B[1;33m\u001B[0m\u001B[1;33m\u001B[0m\u001B[0m\n\u001B[1;32m-> 3458\u001B[1;33m             \u001B[0mindexer\u001B[0m \u001B[1;33m=\u001B[0m \u001B[0mself\u001B[0m\u001B[1;33m.\u001B[0m\u001B[0mcolumns\u001B[0m\u001B[1;33m.\u001B[0m\u001B[0mget_loc\u001B[0m\u001B[1;33m(\u001B[0m\u001B[0mkey\u001B[0m\u001B[1;33m)\u001B[0m\u001B[1;33m\u001B[0m\u001B[1;33m\u001B[0m\u001B[0m\n\u001B[0m\u001B[0;32m   3459\u001B[0m             \u001B[1;32mif\u001B[0m \u001B[0mis_integer\u001B[0m\u001B[1;33m(\u001B[0m\u001B[0mindexer\u001B[0m\u001B[1;33m)\u001B[0m\u001B[1;33m:\u001B[0m\u001B[1;33m\u001B[0m\u001B[1;33m\u001B[0m\u001B[0m\n\u001B[0;32m   3460\u001B[0m                 \u001B[0mindexer\u001B[0m \u001B[1;33m=\u001B[0m \u001B[1;33m[\u001B[0m\u001B[0mindexer\u001B[0m\u001B[1;33m]\u001B[0m\u001B[1;33m\u001B[0m\u001B[1;33m\u001B[0m\u001B[0m\n",
      "\u001B[1;32mC:\\ProgramData\\Anaconda3\\envs\\py39\\lib\\site-packages\\pandas\\core\\indexes\\base.py\u001B[0m in \u001B[0;36mget_loc\u001B[1;34m(self, key, method, tolerance)\u001B[0m\n\u001B[0;32m   3361\u001B[0m                 \u001B[1;32mreturn\u001B[0m \u001B[0mself\u001B[0m\u001B[1;33m.\u001B[0m\u001B[0m_engine\u001B[0m\u001B[1;33m.\u001B[0m\u001B[0mget_loc\u001B[0m\u001B[1;33m(\u001B[0m\u001B[0mcasted_key\u001B[0m\u001B[1;33m)\u001B[0m\u001B[1;33m\u001B[0m\u001B[1;33m\u001B[0m\u001B[0m\n\u001B[0;32m   3362\u001B[0m             \u001B[1;32mexcept\u001B[0m \u001B[0mKeyError\u001B[0m \u001B[1;32mas\u001B[0m \u001B[0merr\u001B[0m\u001B[1;33m:\u001B[0m\u001B[1;33m\u001B[0m\u001B[1;33m\u001B[0m\u001B[0m\n\u001B[1;32m-> 3363\u001B[1;33m                 \u001B[1;32mraise\u001B[0m \u001B[0mKeyError\u001B[0m\u001B[1;33m(\u001B[0m\u001B[0mkey\u001B[0m\u001B[1;33m)\u001B[0m \u001B[1;32mfrom\u001B[0m \u001B[0merr\u001B[0m\u001B[1;33m\u001B[0m\u001B[1;33m\u001B[0m\u001B[0m\n\u001B[0m\u001B[0;32m   3364\u001B[0m \u001B[1;33m\u001B[0m\u001B[0m\n\u001B[0;32m   3365\u001B[0m         \u001B[1;32mif\u001B[0m \u001B[0mis_scalar\u001B[0m\u001B[1;33m(\u001B[0m\u001B[0mkey\u001B[0m\u001B[1;33m)\u001B[0m \u001B[1;32mand\u001B[0m \u001B[0misna\u001B[0m\u001B[1;33m(\u001B[0m\u001B[0mkey\u001B[0m\u001B[1;33m)\u001B[0m \u001B[1;32mand\u001B[0m \u001B[1;32mnot\u001B[0m \u001B[0mself\u001B[0m\u001B[1;33m.\u001B[0m\u001B[0mhasnans\u001B[0m\u001B[1;33m:\u001B[0m\u001B[1;33m\u001B[0m\u001B[1;33m\u001B[0m\u001B[0m\n",
      "\u001B[1;31mKeyError\u001B[0m: '<DTYYYYMMDD>_<TIME>'"
     ]
    }
   ],
   "source": [
    "\n",
    "rule_type = '1D'  # 周期单位: 5T=5分钟 1H=1小时 1D=1天 1W=1周\n",
    "period_df = df.resample(rule=rule_type, base=0, label='left', closed='left').agg(\n",
    "    {'<OPEN>': 'first',\n",
    "     '<HIGH>': 'max',\n",
    "     '<LOW>': 'min',\n",
    "     '<CLOSE>': 'last',\n",
    "     '<VOL>': 'sum'\n",
    "     })\n",
    "\n",
    "# period_df['<DTYYYYMMDD>'] = period_df['<DTYYYYMMDD>_<TIME>'].dt.date\n",
    "print(period_df.head(3))\n",
    "\n",
    "period_df = period_df[['<OPEN>', '<HIGH>', '<LOW>', '<CLOSE>', '<VOL>']]\n",
    "# base参数：帮助确定转换周期开始的时间\n",
    "# label='left', closed='left'，建议统一设置成'left'\n",
    "\n",
    "# ===去除不必要的数据\n",
    "# 去除一天都没有交易的周\n",
    "period_df.dropna(subset=['<OPEN>'], inplace=True)\n",
    "period_df\n"
   ],
   "metadata": {
    "collapsed": false,
    "pycharm": {
     "name": "#%%\n"
    }
   }
  },
  {
   "cell_type": "code",
   "execution_count": 32,
   "outputs": [],
   "source": [
    "# 保存文件\n",
    "\n",
    "df.to_csv('./data/EURUSD-1D.csv')\n"
   ],
   "metadata": {
    "collapsed": false,
    "pycharm": {
     "name": "#%%\n"
    }
   }
  },
  {
   "cell_type": "code",
   "execution_count": null,
   "outputs": [],
   "source": [
    "# ===rule的取值\n",
    "\"\"\"\n",
    "    B       business day frequency\n",
    "    C       custom business day frequency (experimental)\n",
    "    D       calendar day frequency\n",
    "    W       weekly frequency\n",
    "    M       month end frequency\n",
    "    SM      semi-month end frequency (15th and end of month)\n",
    "    BM      business month end frequency\n",
    "    CBM     custom business month end frequency\n",
    "    MS      month start frequency\n",
    "    SMS     semi-month start frequency (1st and 15th)\n",
    "    BMS     business month start frequency\n",
    "    CBMS    custom business month start frequency\n",
    "    Q       quarter end frequency\n",
    "    BQ      business quarter endfrequency\n",
    "    QS      quarter start frequency\n",
    "    BQS     business quarter start frequency\n",
    "    A       year end frequency\n",
    "    BA      business year end frequency\n",
    "    AS      year start frequency\n",
    "    BAS     business year start frequency\n",
    "    BH      business hour frequency\n",
    "    H       hourly frequency\n",
    "    T       minutely frequency\n",
    "    S       secondly frequency\n",
    "    L       milliseonds\n",
    "    U       microseconds\n",
    "    N       nanoseconds\n",
    "\"\"\"\n"
   ],
   "metadata": {
    "collapsed": false,
    "pycharm": {
     "name": "#%%\n"
    }
   }
  }
 ],
 "metadata": {
  "kernelspec": {
   "name": "pycharm-a57ffa67",
   "language": "python",
   "display_name": "PyCharm (yalin-scikit-learn)"
  },
  "language_info": {
   "codemirror_mode": {
    "name": "ipython",
    "version": 2
   },
   "file_extension": ".py",
   "mimetype": "text/x-python",
   "name": "python",
   "nbconvert_exporter": "python",
   "pygments_lexer": "ipython2",
   "version": "2.7.6"
  }
 },
 "nbformat": 4,
 "nbformat_minor": 0
}