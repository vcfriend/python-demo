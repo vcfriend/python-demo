{
 "cells": [
  {
   "cell_type": "code",
   "execution_count": 15,
   "metadata": {
    "collapsed": true
   },
   "outputs": [
    {
     "ename": "ImportError",
     "evalue": "DLL load failed while importing _imaging: 找不到指定的模块。",
     "output_type": "error",
     "traceback": [
      "\u001B[1;31m---------------------------------------------------------------------------\u001B[0m",
      "\u001B[1;31mImportError\u001B[0m                               Traceback (most recent call last)",
      "\u001B[1;32m~\\AppData\\Local\\Temp/ipykernel_30580/2596351520.py\u001B[0m in \u001B[0;36m<module>\u001B[1;34m\u001B[0m\n\u001B[0;32m      1\u001B[0m \u001B[1;31m# coding: utf-8\u001B[0m\u001B[1;33m\u001B[0m\u001B[1;33m\u001B[0m\u001B[0m\n\u001B[0;32m      2\u001B[0m \u001B[1;32mimport\u001B[0m \u001B[0mpandas\u001B[0m \u001B[1;32mas\u001B[0m \u001B[0mpd\u001B[0m\u001B[1;33m\u001B[0m\u001B[1;33m\u001B[0m\u001B[0m\n\u001B[1;32m----> 3\u001B[1;33m \u001B[1;32mimport\u001B[0m \u001B[0mmatplotlib\u001B[0m\u001B[1;33m.\u001B[0m\u001B[0mpyplot\u001B[0m \u001B[1;32mas\u001B[0m \u001B[0mplt\u001B[0m\u001B[1;33m\u001B[0m\u001B[1;33m\u001B[0m\u001B[0m\n\u001B[0m\u001B[0;32m      4\u001B[0m \u001B[1;33m\u001B[0m\u001B[0m\n",
      "\u001B[1;32mC:\\ProgramData\\Anaconda3\\envs\\py39\\lib\\site-packages\\matplotlib\\__init__.py\u001B[0m in \u001B[0;36m<module>\u001B[1;34m\u001B[0m\n\u001B[0;32m    107\u001B[0m \u001B[1;31m# cbook must import matplotlib only within function\u001B[0m\u001B[1;33m\u001B[0m\u001B[1;33m\u001B[0m\u001B[0m\n\u001B[0;32m    108\u001B[0m \u001B[1;31m# definitions, so it is safe to import from it here.\u001B[0m\u001B[1;33m\u001B[0m\u001B[1;33m\u001B[0m\u001B[0m\n\u001B[1;32m--> 109\u001B[1;33m \u001B[1;32mfrom\u001B[0m \u001B[1;33m.\u001B[0m \u001B[1;32mimport\u001B[0m \u001B[0m_api\u001B[0m\u001B[1;33m,\u001B[0m \u001B[0m_version\u001B[0m\u001B[1;33m,\u001B[0m \u001B[0mcbook\u001B[0m\u001B[1;33m,\u001B[0m \u001B[0mdocstring\u001B[0m\u001B[1;33m,\u001B[0m \u001B[0mrcsetup\u001B[0m\u001B[1;33m\u001B[0m\u001B[1;33m\u001B[0m\u001B[0m\n\u001B[0m\u001B[0;32m    110\u001B[0m \u001B[1;32mfrom\u001B[0m \u001B[0mmatplotlib\u001B[0m\u001B[1;33m.\u001B[0m\u001B[0mcbook\u001B[0m \u001B[1;32mimport\u001B[0m \u001B[0mMatplotlibDeprecationWarning\u001B[0m\u001B[1;33m,\u001B[0m \u001B[0msanitize_sequence\u001B[0m\u001B[1;33m\u001B[0m\u001B[1;33m\u001B[0m\u001B[0m\n\u001B[0;32m    111\u001B[0m \u001B[1;32mfrom\u001B[0m \u001B[0mmatplotlib\u001B[0m\u001B[1;33m.\u001B[0m\u001B[0mcbook\u001B[0m \u001B[1;32mimport\u001B[0m \u001B[0mmplDeprecation\u001B[0m  \u001B[1;31m# deprecated\u001B[0m\u001B[1;33m\u001B[0m\u001B[1;33m\u001B[0m\u001B[0m\n",
      "\u001B[1;32mC:\\ProgramData\\Anaconda3\\envs\\py39\\lib\\site-packages\\matplotlib\\rcsetup.py\u001B[0m in \u001B[0;36m<module>\u001B[1;34m\u001B[0m\n\u001B[0;32m     25\u001B[0m \u001B[1;32mfrom\u001B[0m \u001B[0mmatplotlib\u001B[0m \u001B[1;32mimport\u001B[0m \u001B[0m_api\u001B[0m\u001B[1;33m,\u001B[0m \u001B[0mcbook\u001B[0m\u001B[1;33m\u001B[0m\u001B[1;33m\u001B[0m\u001B[0m\n\u001B[0;32m     26\u001B[0m \u001B[1;32mfrom\u001B[0m \u001B[0mmatplotlib\u001B[0m\u001B[1;33m.\u001B[0m\u001B[0mcbook\u001B[0m \u001B[1;32mimport\u001B[0m \u001B[0mls_mapper\u001B[0m\u001B[1;33m\u001B[0m\u001B[1;33m\u001B[0m\u001B[0m\n\u001B[1;32m---> 27\u001B[1;33m \u001B[1;32mfrom\u001B[0m \u001B[0mmatplotlib\u001B[0m\u001B[1;33m.\u001B[0m\u001B[0mcolors\u001B[0m \u001B[1;32mimport\u001B[0m \u001B[0mColormap\u001B[0m\u001B[1;33m,\u001B[0m \u001B[0mis_color_like\u001B[0m\u001B[1;33m\u001B[0m\u001B[1;33m\u001B[0m\u001B[0m\n\u001B[0m\u001B[0;32m     28\u001B[0m \u001B[1;32mfrom\u001B[0m \u001B[0mmatplotlib\u001B[0m\u001B[1;33m.\u001B[0m\u001B[0mfontconfig_pattern\u001B[0m \u001B[1;32mimport\u001B[0m \u001B[0mparse_fontconfig_pattern\u001B[0m\u001B[1;33m\u001B[0m\u001B[1;33m\u001B[0m\u001B[0m\n\u001B[0;32m     29\u001B[0m \u001B[1;32mfrom\u001B[0m \u001B[0mmatplotlib\u001B[0m\u001B[1;33m.\u001B[0m\u001B[0m_enums\u001B[0m \u001B[1;32mimport\u001B[0m \u001B[0mJoinStyle\u001B[0m\u001B[1;33m,\u001B[0m \u001B[0mCapStyle\u001B[0m\u001B[1;33m\u001B[0m\u001B[1;33m\u001B[0m\u001B[0m\n",
      "\u001B[1;32mC:\\ProgramData\\Anaconda3\\envs\\py39\\lib\\site-packages\\matplotlib\\colors.py\u001B[0m in \u001B[0;36m<module>\u001B[1;34m\u001B[0m\n\u001B[0;32m     49\u001B[0m \u001B[1;32mfrom\u001B[0m \u001B[0mnumbers\u001B[0m \u001B[1;32mimport\u001B[0m \u001B[0mNumber\u001B[0m\u001B[1;33m\u001B[0m\u001B[1;33m\u001B[0m\u001B[0m\n\u001B[0;32m     50\u001B[0m \u001B[1;32mimport\u001B[0m \u001B[0mre\u001B[0m\u001B[1;33m\u001B[0m\u001B[1;33m\u001B[0m\u001B[0m\n\u001B[1;32m---> 51\u001B[1;33m \u001B[1;32mfrom\u001B[0m \u001B[0mPIL\u001B[0m \u001B[1;32mimport\u001B[0m \u001B[0mImage\u001B[0m\u001B[1;33m\u001B[0m\u001B[1;33m\u001B[0m\u001B[0m\n\u001B[0m\u001B[0;32m     52\u001B[0m \u001B[1;32mfrom\u001B[0m \u001B[0mPIL\u001B[0m\u001B[1;33m.\u001B[0m\u001B[0mPngImagePlugin\u001B[0m \u001B[1;32mimport\u001B[0m \u001B[0mPngInfo\u001B[0m\u001B[1;33m\u001B[0m\u001B[1;33m\u001B[0m\u001B[0m\n\u001B[0;32m     53\u001B[0m \u001B[1;33m\u001B[0m\u001B[0m\n",
      "\u001B[1;32mC:\\ProgramData\\Anaconda3\\envs\\py39\\lib\\site-packages\\PIL\\Image.py\u001B[0m in \u001B[0;36m<module>\u001B[1;34m\u001B[0m\n\u001B[0;32m    112\u001B[0m     \u001B[1;31m# Also note that Image.core is not a publicly documented interface,\u001B[0m\u001B[1;33m\u001B[0m\u001B[1;33m\u001B[0m\u001B[0m\n\u001B[0;32m    113\u001B[0m     \u001B[1;31m# and should be considered private and subject to change.\u001B[0m\u001B[1;33m\u001B[0m\u001B[1;33m\u001B[0m\u001B[0m\n\u001B[1;32m--> 114\u001B[1;33m     \u001B[1;32mfrom\u001B[0m \u001B[1;33m.\u001B[0m \u001B[1;32mimport\u001B[0m \u001B[0m_imaging\u001B[0m \u001B[1;32mas\u001B[0m \u001B[0mcore\u001B[0m\u001B[1;33m\u001B[0m\u001B[1;33m\u001B[0m\u001B[0m\n\u001B[0m\u001B[0;32m    115\u001B[0m \u001B[1;33m\u001B[0m\u001B[0m\n\u001B[0;32m    116\u001B[0m     \u001B[1;32mif\u001B[0m \u001B[0m__version__\u001B[0m \u001B[1;33m!=\u001B[0m \u001B[0mgetattr\u001B[0m\u001B[1;33m(\u001B[0m\u001B[0mcore\u001B[0m\u001B[1;33m,\u001B[0m \u001B[1;34m\"PILLOW_VERSION\"\u001B[0m\u001B[1;33m,\u001B[0m \u001B[1;32mNone\u001B[0m\u001B[1;33m)\u001B[0m\u001B[1;33m:\u001B[0m\u001B[1;33m\u001B[0m\u001B[1;33m\u001B[0m\u001B[0m\n",
      "\u001B[1;31mImportError\u001B[0m: DLL load failed while importing _imaging: 找不到指定的模块。"
     ]
    }
   ],
   "source": [
    "# coding: utf-8\n",
    "import pandas as pd\n",
    "import matplotlib.pyplot as plt"
   ]
  },
  {
   "cell_type": "code",
   "execution_count": null,
   "outputs": [],
   "source": [
    "# 加载空气质量数据\n",
    "air_quality = pd.read_csv(\"data/air_quality_no2_long.csv\")\n",
    "air_quality.head()"
   ],
   "metadata": {
    "collapsed": false,
    "pycharm": {
     "name": "#%%\n"
    }
   }
  },
  {
   "cell_type": "code",
   "execution_count": null,
   "outputs": [],
   "source": [
    "air_quality.dtypes"
   ],
   "metadata": {
    "collapsed": false,
    "pycharm": {
     "name": "#%%\n"
    }
   }
  },
  {
   "cell_type": "code",
   "execution_count": null,
   "outputs": [],
   "source": [
    "# 列名更改为datetime\n",
    "air_quality = air_quality.rename(columns={\"date.utc\": \"datetime\"})\n",
    "air_quality.head()"
   ],
   "metadata": {
    "collapsed": false,
    "pycharm": {
     "name": "#%%\n"
    }
   }
  },
  {
   "cell_type": "code",
   "execution_count": null,
   "outputs": [],
   "source": [
    "air_quality.city.unique()"
   ],
   "metadata": {
    "collapsed": false,
    "pycharm": {
     "name": "#%%\n"
    }
   }
  },
  {
   "cell_type": "code",
   "execution_count": null,
   "outputs": [],
   "source": [],
   "metadata": {
    "collapsed": false,
    "pycharm": {
     "name": "#%%\n"
    }
   }
  },
  {
   "cell_type": "markdown",
   "source": [
    "#### 空气质量数据"
   ],
   "metadata": {
    "collapsed": false
   }
  },
  {
   "cell_type": "code",
   "execution_count": null,
   "outputs": [],
   "source": [
    "# 我想将列中的日期作为日期对象而不是纯文本datetime\n",
    "air_quality[\"datetime\"] = pd.to_datetime(air_quality[\"datetime\"])\n",
    "air_quality[\"datetime\"]"
   ],
   "metadata": {
    "collapsed": false,
    "pycharm": {
     "name": "#%%\n"
    }
   }
  },
  {
   "cell_type": "code",
   "execution_count": null,
   "outputs": [],
   "source": [
    "# 最初，其中的值是字符串，不提供任何datetime操作(例如，提取年份、星期几……)。\n",
    "# 通过应用该函数，pandas解释字符串并将其转换为datetime(即)对象。在pandas中，\n",
    "# 我们将这些datetime对象称为panda . timestamp，类似于标准库中的对象。\n",
    "# datetimeto_datetimedatetime64 datetime.datetime (ns, UTC)\n",
    "air_quality.head(1)"
   ],
   "metadata": {
    "collapsed": false,
    "pycharm": {
     "name": "#%%\n"
    }
   }
  },
  {
   "cell_type": "code",
   "execution_count": null,
   "outputs": [],
   "source": [
    "# 尽可能多的数据集包含在一个datetime信息列,熊猫输入函数像pandas.read_csv()\n",
    "# 和可以转换日期在读取数据时使用的参数列表的列读取时间戳:\n",
    "# pandas.read_json parse_dates (\"读取文件列名\")\n",
    "pd.read_csv(filepath_or_buffer=\"./data/air_quality_no2_long.csv\",\n",
    "            parse_dates=[\"date.utc\"])"
   ],
   "metadata": {
    "collapsed": false,
    "pycharm": {
     "name": "#%%\n"
    }
   }
  },
  {
   "cell_type": "code",
   "execution_count": null,
   "outputs": [],
   "source": [
    "# 为什么这些熊猫。时间戳对象有用吗?让我们用一些示例案例来说明附加价值。\n",
    "# 我们正在处理的时间序列数据集的开始和结束日期是什么?\n",
    "air_quality[\"datetime\"].min(), air_quality[\"datetime\"].max()"
   ],
   "metadata": {
    "collapsed": false,
    "pycharm": {
     "name": "#%%\n"
    }
   }
  },
  {
   "cell_type": "code",
   "execution_count": null,
   "outputs": [],
   "source": [
    "# 使用熊猫。用于datetimes的时间戳使我们能够使用日期信息进行计算，并使它们具有可比性。\n",
    "# 因此，我们可以使用它来得到时间序列的长度:\n",
    "air_quality[\"datetime\"].max() - air_quality[\"datetime\"].min()\n"
   ],
   "metadata": {
    "collapsed": false,
    "pycharm": {
     "name": "#%%\n"
    }
   }
  },
  {
   "cell_type": "code",
   "execution_count": null,
   "outputs": [],
   "source": [
    "# 结果是一只熊猫。对象，类似于标准Python库中的对象，并定义了一个持续时间\n",
    "print(air_quality.head())"
   ],
   "metadata": {
    "collapsed": false,
    "pycharm": {
     "name": "#%%\n"
    }
   }
  },
  {
   "cell_type": "markdown",
   "source": [
    "#### 我想在仅包含测量月份的列中添加一个新列DataFrame"
   ],
   "metadata": {
    "collapsed": false,
    "pycharm": {
     "name": "#%% md\n"
    }
   }
  },
  {
   "cell_type": "code",
   "execution_count": null,
   "outputs": [],
   "source": [
    "# 我想在仅包含测量月份的列中添加一个新列DataFrame\n",
    "air_quality[\"month\"] = air_quality[\"datetime\"].dt.month\n",
    "air_quality.head()"
   ],
   "metadata": {
    "collapsed": false,
    "pycharm": {
     "name": "#%%\n"
    }
   }
  },
  {
   "cell_type": "markdown",
   "source": [
    "#### 每个测量地点每周每一天的平均浓度是什么？\n"
   ],
   "metadata": {
    "collapsed": false,
    "pycharm": {
     "name": "#%% md\n"
    }
   }
  },
  {
   "cell_type": "code",
   "execution_count": null,
   "outputs": [],
   "source": [
    "# 每个测量地点每周每一天的平均浓度是什么？\n",
    "air_quality.groupby(\n",
    "    [air_quality[\"datetime\"].dt.weekday, \"location\"]\n",
    ")[\"value\"].mean()"
   ],
   "metadata": {
    "collapsed": false,
    "pycharm": {
     "name": "#%%\n"
    }
   }
  },
  {
   "cell_type": "code",
   "execution_count": null,
   "outputs": [],
   "source": [
    "# 将所有站的时间系列中的典型模式绘制在一起。\n",
    "# 换句话说，一天中每小时的平均值是怎样的？\n",
    "fig, axs = plt.subplots(figsize=(12, 4))\n",
    "air_quality.groupby(\n",
    "    air_quality[\"datetime\"].dt.hour\n",
    ")[\"value\"].mean().plot(kind='bar', rot=0, ax=axs)"
   ],
   "metadata": {
    "collapsed": false,
    "pycharm": {
     "name": "#%%\n"
    }
   }
  },
  {
   "cell_type": "code",
   "execution_count": null,
   "outputs": [],
   "source": [
    "plt.xlabel(\"Hour of the day\")\n",
    "plt.ylabel(\"$NO_2 (µg/m^3)\")"
   ],
   "metadata": {
    "collapsed": false,
    "pycharm": {
     "name": "#%%\n"
    }
   }
  },
  {
   "cell_type": "markdown",
   "source": [
    "#### 日期时间作为索引\n"
   ],
   "metadata": {
    "collapsed": false,
    "pycharm": {
     "name": "#%% md\n"
    }
   }
  },
  {
   "cell_type": "code",
   "execution_count": null,
   "outputs": [],
   "source": [
    "# 在关于重塑的教程中，引入枢轴（）来重塑数据表，每个测量位置作为一个单独的列：\n",
    "no_2 = air_quality.pivot(index=\"datetime\",\n",
    "                         columns=\"location\",\n",
    "                         values=\"value\")\n",
    "no_2.head()"
   ],
   "metadata": {
    "collapsed": false,
    "pycharm": {
     "name": "#%%\n"
    }
   }
  },
  {
   "cell_type": "code",
   "execution_count": null,
   "outputs": [],
   "source": [
    "# 过旋转数据，日期时间信息成为表的索引。一般来说，将列设置为索引可以通过该函数实现。set_index\n",
    "# 与日期时间索引（即）配合用，可提供强大的功能。例如，我们不需要访问者来获取时间系列属性，但直接在索引上提供以下属性：DatetimeIndexdt\n",
    "no_2.index.year, no_2.index.weekday"
   ],
   "metadata": {
    "collapsed": false,
    "pycharm": {
     "name": "#%%\n"
    }
   }
  },
  {
   "cell_type": "code",
   "execution_count": null,
   "outputs": [],
   "source": [
    "# 其他一些优点是方便的时间段子集或地块上的调整时间尺度。让我们将此应用到我们的数据中。"
   ],
   "metadata": {
    "collapsed": false,
    "pycharm": {
     "name": "#%%\n"
    }
   }
  },
  {
   "cell_type": "markdown",
   "source": [
    "#### 从 5 月 20 日到 5 月 21 日结束，在不同的车站创建值图 NO2"
   ],
   "metadata": {
    "collapsed": false
   }
  },
  {
   "cell_type": "code",
   "execution_count": null,
   "outputs": [],
   "source": [
    "no_2[\"2019-05-20\": \"2019-05-21\"].plot()"
   ],
   "metadata": {
    "collapsed": false,
    "pycharm": {
     "name": "#%%\n"
    }
   }
  },
  {
   "cell_type": "markdown",
   "source": [
    "#### 将时间序列重新采样到另一个频率"
   ],
   "metadata": {
    "collapsed": false,
    "pycharm": {
     "name": "#%% md\n"
    }
   }
  },
  {
   "cell_type": "code",
   "execution_count": null,
   "outputs": [],
   "source": [
    "# 将当前每小时时间序列的值合计为每个站点的月最大值。\n",
    "monthly_max = no_2.resample(\"M\").max()\n",
    "monthly_max"
   ],
   "metadata": {
    "collapsed": false,
    "pycharm": {
     "name": "#%%\n"
    }
   }
  },
  {
   "cell_type": "code",
   "execution_count": null,
   "outputs": [],
   "source": [
    "\"\"\"\n",
    "使用日期时间索引的时间串联数据的一个非常强大的方法是能够将时间串联重新调到另一个频率（例如，将次要数据转换为 5 分钟数据）。\n",
    "\n",
    "重合（）方法类似于组比操作：\n",
    "\n",
    "它通过使用定义目标频率的字符串（例如,...）提供基于时间的分组M5H\n",
    "\n",
    "它需要一个聚合函数，如，,...meanmax\n",
    "\"\"\""
   ],
   "metadata": {
    "collapsed": false,
    "pycharm": {
     "name": "#%%\n"
    }
   }
  },
  {
   "cell_type": "code",
   "execution_count": null,
   "outputs": [],
   "source": [
    "# 定义时，时间系列的频率由属性提供：freq\n",
    "monthly_max.index.freq"
   ],
   "metadata": {
    "collapsed": false,
    "pycharm": {
     "name": "#%%\n"
    }
   }
  },
  {
   "cell_type": "markdown",
   "source": [
    "#### 绘制每个站的每日平均值图 NO2\n"
   ],
   "metadata": {
    "collapsed": false,
    "pycharm": {
     "name": "#%% md\n"
    }
   }
  },
  {
   "cell_type": "code",
   "execution_count": null,
   "outputs": [],
   "source": [
    "no_2.resample(\"D\").mean()\\\n",
    "    .plot(style=\"-0\", figsize=(10, 5))"
   ],
   "metadata": {
    "collapsed": false,
    "pycharm": {
     "name": "#%%\n"
    }
   }
  },
  {
   "cell_type": "code",
   "execution_count": null,
   "outputs": [],
   "source": [
    "\"\"\"\n",
    "有关时间系列功率的更多详细信息，请在用户指南部分提供。resampling\n",
    "\n",
    "记得\n",
    "\n",
    "有效的日期字符串可以使用函数转换为日期时间对象，或作为读取函数的一部分。to_datetime\n",
    "\n",
    "熊猫中的日期对象支持使用访问器进行计算、逻辑操作和方便的日期相关属性。dt\n",
    "\n",
    "A 包含这些与日期相关的属性，并支持方便的切片。DatetimeIndex\n",
    "\n",
    "Resample是改变时间系列频率的有力方法。\n",
    "\"\"\""
   ],
   "metadata": {
    "collapsed": false,
    "pycharm": {
     "name": "#%%\n"
    }
   }
  }
 ],
 "metadata": {
  "kernelspec": {
   "name": "pycharm-50a0962a",
   "language": "python",
   "display_name": "PyCharm (python-demo)"
  },
  "language_info": {
   "codemirror_mode": {
    "name": "ipython",
    "version": 2
   },
   "file_extension": ".py",
   "mimetype": "text/x-python",
   "name": "python",
   "nbconvert_exporter": "python",
   "pygments_lexer": "ipython2",
   "version": "2.7.6"
  }
 },
 "nbformat": 4,
 "nbformat_minor": 0
}