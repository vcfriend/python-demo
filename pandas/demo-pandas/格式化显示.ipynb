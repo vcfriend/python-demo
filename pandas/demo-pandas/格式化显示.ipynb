{
 "cells": [
  {
   "cell_type": "code",
   "execution_count": null,
   "metadata": {
    "collapsed": true
   },
   "outputs": [],
   "source": []
  },
  {
   "cell_type": "code",
   "execution_count": 36,
   "outputs": [
    {
     "data": {
      "text/plain": "     AB    BC         B         C         D\n0  1.00  1.00  1.329212 -0.770033 -0.316280\n1  1.75  1.25 -0.990810 -1.070816 -1.438713\n2  2.50  1.50  0.564417  0.295722 -1.626404\n3  3.25  1.75  0.219565  0.678805  1.889273\n4  4.00  2.00  0.961538  0.104011 -0.481165",
      "text/html": "<div>\n<style scoped>\n    .dataframe tbody tr th:only-of-type {\n        vertical-align: middle;\n    }\n\n    .dataframe tbody tr th {\n        vertical-align: top;\n    }\n\n    .dataframe thead th {\n        text-align: right;\n    }\n</style>\n<table border=\"1\" class=\"dataframe\">\n  <thead>\n    <tr style=\"text-align: right;\">\n      <th></th>\n      <th>AB</th>\n      <th>BC</th>\n      <th>B</th>\n      <th>C</th>\n      <th>D</th>\n    </tr>\n  </thead>\n  <tbody>\n    <tr>\n      <th>0</th>\n      <td>1.00</td>\n      <td>1.00</td>\n      <td>1.329212</td>\n      <td>-0.770033</td>\n      <td>-0.316280</td>\n    </tr>\n    <tr>\n      <th>1</th>\n      <td>1.75</td>\n      <td>1.25</td>\n      <td>-0.990810</td>\n      <td>-1.070816</td>\n      <td>-1.438713</td>\n    </tr>\n    <tr>\n      <th>2</th>\n      <td>2.50</td>\n      <td>1.50</td>\n      <td>0.564417</td>\n      <td>0.295722</td>\n      <td>-1.626404</td>\n    </tr>\n    <tr>\n      <th>3</th>\n      <td>3.25</td>\n      <td>1.75</td>\n      <td>0.219565</td>\n      <td>0.678805</td>\n      <td>1.889273</td>\n    </tr>\n    <tr>\n      <th>4</th>\n      <td>4.00</td>\n      <td>2.00</td>\n      <td>0.961538</td>\n      <td>0.104011</td>\n      <td>-0.481165</td>\n    </tr>\n  </tbody>\n</table>\n</div>"
     },
     "execution_count": 36,
     "metadata": {},
     "output_type": "execute_result"
    }
   ],
   "source": [
    "import pandas as pd\n",
    "import numpy as np\n",
    "np.random.seed(24)\n",
    "df = pd.DataFrame({'AB': np.linspace(1, 4, 5),\n",
    "                   'BC': np.linspace(1, 2, 5)})\n",
    "\n",
    "df = pd.concat([df, pd.DataFrame(np.random.randn(5, 3), columns=list('BCD'))],\n",
    "               axis=1)\n",
    "# df.iloc[3, 3] = np.nan\n",
    "# df.iloc[0, 2] = np.nan\n",
    "df"
   ],
   "metadata": {
    "collapsed": false,
    "pycharm": {
     "name": "#%%\n"
    }
   }
  },
  {
   "cell_type": "code",
   "execution_count": 37,
   "outputs": [
    {
     "data": {
      "text/plain": "array([ True, False,  True, False, False])"
     },
     "execution_count": 37,
     "metadata": {},
     "output_type": "execute_result"
    }
   ],
   "source": [
    "df.columns.str.endswith('B')"
   ],
   "metadata": {
    "collapsed": false,
    "pycharm": {
     "name": "#%%\n"
    }
   }
  },
  {
   "cell_type": "code",
   "execution_count": 38,
   "outputs": [
    {
     "data": {
      "text/plain": "     AB         B\n0  1.00  1.329212\n1  1.75 -0.990810\n2  2.50  0.564417\n3  3.25  0.219565\n4  4.00  0.961538",
      "text/html": "<div>\n<style scoped>\n    .dataframe tbody tr th:only-of-type {\n        vertical-align: middle;\n    }\n\n    .dataframe tbody tr th {\n        vertical-align: top;\n    }\n\n    .dataframe thead th {\n        text-align: right;\n    }\n</style>\n<table border=\"1\" class=\"dataframe\">\n  <thead>\n    <tr style=\"text-align: right;\">\n      <th></th>\n      <th>AB</th>\n      <th>B</th>\n    </tr>\n  </thead>\n  <tbody>\n    <tr>\n      <th>0</th>\n      <td>1.00</td>\n      <td>1.329212</td>\n    </tr>\n    <tr>\n      <th>1</th>\n      <td>1.75</td>\n      <td>-0.990810</td>\n    </tr>\n    <tr>\n      <th>2</th>\n      <td>2.50</td>\n      <td>0.564417</td>\n    </tr>\n    <tr>\n      <th>3</th>\n      <td>3.25</td>\n      <td>0.219565</td>\n    </tr>\n    <tr>\n      <th>4</th>\n      <td>4.00</td>\n      <td>0.961538</td>\n    </tr>\n  </tbody>\n</table>\n</div>"
     },
     "execution_count": 38,
     "metadata": {},
     "output_type": "execute_result"
    }
   ],
   "source": [
    "df.loc[:,df.columns.str.endswith('B')]"
   ],
   "metadata": {
    "collapsed": false,
    "pycharm": {
     "name": "#%%\n"
    }
   }
  },
  {
   "cell_type": "code",
   "execution_count": 39,
   "outputs": [
    {
     "data": {
      "text/plain": "<pandas.io.formats.style.Styler at 0x28d10c81c70>",
      "text/html": "<style type=\"text/css\">\n</style>\n<table id=\"T_eed69_\">\n  <thead>\n    <tr>\n      <th class=\"blank level0\" >&nbsp;</th>\n      <th class=\"col_heading level0 col0\" >AB</th>\n      <th class=\"col_heading level0 col1\" >B</th>\n    </tr>\n  </thead>\n  <tbody>\n    <tr>\n      <th id=\"T_eed69_level0_row0\" class=\"row_heading level0 row0\" >0</th>\n      <td id=\"T_eed69_row0_col0\" class=\"data row0 col0\" >100.00%</td>\n      <td id=\"T_eed69_row0_col1\" class=\"data row0 col1\" >132.92%</td>\n    </tr>\n    <tr>\n      <th id=\"T_eed69_level0_row1\" class=\"row_heading level0 row1\" >1</th>\n      <td id=\"T_eed69_row1_col0\" class=\"data row1 col0\" >175.00%</td>\n      <td id=\"T_eed69_row1_col1\" class=\"data row1 col1\" >-99.08%</td>\n    </tr>\n    <tr>\n      <th id=\"T_eed69_level0_row2\" class=\"row_heading level0 row2\" >2</th>\n      <td id=\"T_eed69_row2_col0\" class=\"data row2 col0\" >250.00%</td>\n      <td id=\"T_eed69_row2_col1\" class=\"data row2 col1\" >56.44%</td>\n    </tr>\n    <tr>\n      <th id=\"T_eed69_level0_row3\" class=\"row_heading level0 row3\" >3</th>\n      <td id=\"T_eed69_row3_col0\" class=\"data row3 col0\" >325.00%</td>\n      <td id=\"T_eed69_row3_col1\" class=\"data row3 col1\" >21.96%</td>\n    </tr>\n    <tr>\n      <th id=\"T_eed69_level0_row4\" class=\"row_heading level0 row4\" >4</th>\n      <td id=\"T_eed69_row4_col0\" class=\"data row4 col0\" >400.00%</td>\n      <td id=\"T_eed69_row4_col1\" class=\"data row4 col1\" >96.15%</td>\n    </tr>\n  </tbody>\n</table>\n"
     },
     "execution_count": 39,
     "metadata": {},
     "output_type": "execute_result"
    }
   ],
   "source": [
    "df2 = df.loc[:,df.columns.str.endswith('B')].style.format(\"{:.2%}\")\n",
    "df2"
   ],
   "metadata": {
    "collapsed": false,
    "pycharm": {
     "name": "#%%\n"
    }
   }
  },
  {
   "cell_type": "code",
   "execution_count": 40,
   "outputs": [
    {
     "data": {
      "text/plain": "     AB     B\n0  1.00  1.33\n1  1.75 -0.99\n2  2.50  0.56\n3  3.25  0.22\n4  4.00  0.96",
      "text/html": "<div>\n<style scoped>\n    .dataframe tbody tr th:only-of-type {\n        vertical-align: middle;\n    }\n\n    .dataframe tbody tr th {\n        vertical-align: top;\n    }\n\n    .dataframe thead th {\n        text-align: right;\n    }\n</style>\n<table border=\"1\" class=\"dataframe\">\n  <thead>\n    <tr style=\"text-align: right;\">\n      <th></th>\n      <th>AB</th>\n      <th>B</th>\n    </tr>\n  </thead>\n  <tbody>\n    <tr>\n      <th>0</th>\n      <td>1.00</td>\n      <td>1.33</td>\n    </tr>\n    <tr>\n      <th>1</th>\n      <td>1.75</td>\n      <td>-0.99</td>\n    </tr>\n    <tr>\n      <th>2</th>\n      <td>2.50</td>\n      <td>0.56</td>\n    </tr>\n    <tr>\n      <th>3</th>\n      <td>3.25</td>\n      <td>0.22</td>\n    </tr>\n    <tr>\n      <th>4</th>\n      <td>4.00</td>\n      <td>0.96</td>\n    </tr>\n  </tbody>\n</table>\n</div>"
     },
     "execution_count": 40,
     "metadata": {},
     "output_type": "execute_result"
    }
   ],
   "source": [
    "# 配置列名后是B的列,设置小数位数\n",
    "df.loc[:,df.columns.str.endswith('B')].round(2)\n"
   ],
   "metadata": {
    "collapsed": false,
    "pycharm": {
     "name": "#%%\n"
    }
   }
  },
  {
   "cell_type": "code",
   "execution_count": 42,
   "outputs": [
    {
     "data": {
      "text/plain": "<pandas.io.formats.style.Styler at 0x28d10af94f0>",
      "text/html": "<style type=\"text/css\">\n</style>\n<table id=\"T_841c2_\">\n  <thead>\n    <tr>\n      <th class=\"blank level0\" >&nbsp;</th>\n      <th class=\"col_heading level0 col0\" >AB</th>\n      <th class=\"col_heading level0 col1\" >BC</th>\n      <th class=\"col_heading level0 col2\" >B</th>\n      <th class=\"col_heading level0 col3\" >C</th>\n      <th class=\"col_heading level0 col4\" >D</th>\n    </tr>\n  </thead>\n  <tbody>\n    <tr>\n      <th id=\"T_841c2_level0_row0\" class=\"row_heading level0 row0\" >0</th>\n      <td id=\"T_841c2_row0_col0\" class=\"data row0 col0\" >100.00%</td>\n      <td id=\"T_841c2_row0_col1\" class=\"data row0 col1\" >100.00%</td>\n      <td id=\"T_841c2_row0_col2\" class=\"data row0 col2\" >132.92%</td>\n      <td id=\"T_841c2_row0_col3\" class=\"data row0 col3\" >-77.00%</td>\n      <td id=\"T_841c2_row0_col4\" class=\"data row0 col4\" >-31.63%</td>\n    </tr>\n    <tr>\n      <th id=\"T_841c2_level0_row1\" class=\"row_heading level0 row1\" >1</th>\n      <td id=\"T_841c2_row1_col0\" class=\"data row1 col0\" >175.00%</td>\n      <td id=\"T_841c2_row1_col1\" class=\"data row1 col1\" >125.00%</td>\n      <td id=\"T_841c2_row1_col2\" class=\"data row1 col2\" >-99.08%</td>\n      <td id=\"T_841c2_row1_col3\" class=\"data row1 col3\" >-107.08%</td>\n      <td id=\"T_841c2_row1_col4\" class=\"data row1 col4\" >-143.87%</td>\n    </tr>\n    <tr>\n      <th id=\"T_841c2_level0_row2\" class=\"row_heading level0 row2\" >2</th>\n      <td id=\"T_841c2_row2_col0\" class=\"data row2 col0\" >250.00%</td>\n      <td id=\"T_841c2_row2_col1\" class=\"data row2 col1\" >150.00%</td>\n      <td id=\"T_841c2_row2_col2\" class=\"data row2 col2\" >56.44%</td>\n      <td id=\"T_841c2_row2_col3\" class=\"data row2 col3\" >29.57%</td>\n      <td id=\"T_841c2_row2_col4\" class=\"data row2 col4\" >-162.64%</td>\n    </tr>\n    <tr>\n      <th id=\"T_841c2_level0_row3\" class=\"row_heading level0 row3\" >3</th>\n      <td id=\"T_841c2_row3_col0\" class=\"data row3 col0\" >325.00%</td>\n      <td id=\"T_841c2_row3_col1\" class=\"data row3 col1\" >175.00%</td>\n      <td id=\"T_841c2_row3_col2\" class=\"data row3 col2\" >21.96%</td>\n      <td id=\"T_841c2_row3_col3\" class=\"data row3 col3\" >67.88%</td>\n      <td id=\"T_841c2_row3_col4\" class=\"data row3 col4\" >188.93%</td>\n    </tr>\n    <tr>\n      <th id=\"T_841c2_level0_row4\" class=\"row_heading level0 row4\" >4</th>\n      <td id=\"T_841c2_row4_col0\" class=\"data row4 col0\" >400.00%</td>\n      <td id=\"T_841c2_row4_col1\" class=\"data row4 col1\" >200.00%</td>\n      <td id=\"T_841c2_row4_col2\" class=\"data row4 col2\" >96.15%</td>\n      <td id=\"T_841c2_row4_col3\" class=\"data row4 col3\" >10.40%</td>\n      <td id=\"T_841c2_row4_col4\" class=\"data row4 col4\" >-48.12%</td>\n    </tr>\n  </tbody>\n</table>\n"
     },
     "execution_count": 42,
     "metadata": {},
     "output_type": "execute_result"
    }
   ],
   "source": [
    "# 所有列格式化为2位小数，并转为百分数\n",
    "df.style.format(\"{:.2%}\")"
   ],
   "metadata": {
    "collapsed": false,
    "pycharm": {
     "name": "#%%\n"
    }
   }
  },
  {
   "cell_type": "code",
   "execution_count": 43,
   "outputs": [
    {
     "data": {
      "text/plain": "     AB    BC         B         C         D\n0  1.00  1.00  1.329212 -0.770033 -0.316280\n1  1.75  1.25 -0.990810 -1.070816 -1.438713\n2  2.50  1.50  0.564417  0.295722 -1.626404\n3  3.25  1.75  0.219565  0.678805  1.889273\n4  4.00  2.00  0.961538  0.104011 -0.481165",
      "text/html": "<div>\n<style scoped>\n    .dataframe tbody tr th:only-of-type {\n        vertical-align: middle;\n    }\n\n    .dataframe tbody tr th {\n        vertical-align: top;\n    }\n\n    .dataframe thead th {\n        text-align: right;\n    }\n</style>\n<table border=\"1\" class=\"dataframe\">\n  <thead>\n    <tr style=\"text-align: right;\">\n      <th></th>\n      <th>AB</th>\n      <th>BC</th>\n      <th>B</th>\n      <th>C</th>\n      <th>D</th>\n    </tr>\n  </thead>\n  <tbody>\n    <tr>\n      <th>0</th>\n      <td>1.00</td>\n      <td>1.00</td>\n      <td>1.329212</td>\n      <td>-0.770033</td>\n      <td>-0.316280</td>\n    </tr>\n    <tr>\n      <th>1</th>\n      <td>1.75</td>\n      <td>1.25</td>\n      <td>-0.990810</td>\n      <td>-1.070816</td>\n      <td>-1.438713</td>\n    </tr>\n    <tr>\n      <th>2</th>\n      <td>2.50</td>\n      <td>1.50</td>\n      <td>0.564417</td>\n      <td>0.295722</td>\n      <td>-1.626404</td>\n    </tr>\n    <tr>\n      <th>3</th>\n      <td>3.25</td>\n      <td>1.75</td>\n      <td>0.219565</td>\n      <td>0.678805</td>\n      <td>1.889273</td>\n    </tr>\n    <tr>\n      <th>4</th>\n      <td>4.00</td>\n      <td>2.00</td>\n      <td>0.961538</td>\n      <td>0.104011</td>\n      <td>-0.481165</td>\n    </tr>\n  </tbody>\n</table>\n</div>"
     },
     "execution_count": 43,
     "metadata": {},
     "output_type": "execute_result"
    }
   ],
   "source": [
    "df"
   ],
   "metadata": {
    "collapsed": false,
    "pycharm": {
     "name": "#%%\n"
    }
   }
  }
 ],
 "metadata": {
  "kernelspec": {
   "name": "py39",
   "language": "python",
   "display_name": "py39"
  },
  "language_info": {
   "codemirror_mode": {
    "name": "ipython",
    "version": 2
   },
   "file_extension": ".py",
   "mimetype": "text/x-python",
   "name": "python",
   "nbconvert_exporter": "python",
   "pygments_lexer": "ipython2",
   "version": "2.7.6"
  }
 },
 "nbformat": 4,
 "nbformat_minor": 0
}