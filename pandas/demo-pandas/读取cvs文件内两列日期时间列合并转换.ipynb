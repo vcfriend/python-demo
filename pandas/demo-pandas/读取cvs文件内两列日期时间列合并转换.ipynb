{
 "cells": [
  {
   "cell_type": "code",
   "execution_count": 23,
   "id": "b278bed2-61ba-41bb-aad3-4829811d5c50",
   "metadata": {},
   "outputs": [],
   "source": [
    "# coding:utf-8\n",
    "import datetime\n",
    "\n",
    "import pandas as pd\n",
    "import numpy as np"
   ]
  },
  {
   "cell_type": "code",
   "execution_count": 24,
   "id": "d399673a-3bab-44d5-81f9-d3448fe92365",
   "metadata": {},
   "outputs": [
    {
     "name": "stdout",
     "output_type": "stream",
     "text": [
      "  <TICKER>  <DTYYYYMMDD>  <TIME>  <OPEN>  <HIGH>   <LOW>  <CLOSE>  <VOL>\n",
      "0   EURUSD      20010102  230100  0.9507  0.9507  0.9507   0.9507      4\n",
      "1   EURUSD      20010102  230200  0.9506  0.9506  0.9505   0.9505      4\n",
      "2   EURUSD      20010102  230300  0.9505  0.9507  0.9505   0.9506      4\n"
     ]
    },
    {
     "data": {
      "text/plain": "<TICKER>         object\n<DTYYYYMMDD>      int64\n<TIME>            int64\n<OPEN>          float64\n<HIGH>          float64\n<LOW>           float64\n<CLOSE>         float64\n<VOL>             int64\ndtype: object"
     },
     "execution_count": 24,
     "metadata": {},
     "output_type": "execute_result"
    }
   ],
   "source": [
    "# 加载时间周期数据\n",
    "df = pd.read_csv('./data/EURUSD-100.txt', nrows=50, )\n",
    "\n",
    "print(df.head(3))\n",
    "df.dtypes"
   ]
  },
  {
   "cell_type": "code",
   "execution_count": 25,
   "outputs": [
    {
     "name": "stdout",
     "output_type": "stream",
     "text": [
      "               <date> <TICKER>  <OPEN>  <HIGH>   <LOW>  <CLOSE>  <VOL>\n",
      "0 2001-01-02 23:01:00   EURUSD  0.9507  0.9507  0.9507   0.9507      4\n",
      "1 2001-01-02 23:02:00   EURUSD  0.9506  0.9506  0.9505   0.9505      4\n",
      "2 2001-01-02 23:03:00   EURUSD  0.9505  0.9507  0.9505   0.9506      4\n"
     ]
    }
   ],
   "source": [
    "# 加载时间周期数据\n",
    "# 读取日期和时间数据合并到新的列'<date>'，这是最简单的方式了\n",
    "df2 = pd.read_csv('./data/EURUSD-100.txt', nrows=50,\n",
    "                 parse_dates={'<DATE>': ['<DTYYYYMMDD>'] + ['<TIME>']})\n",
    "print(df2.head(3))"
   ],
   "metadata": {
    "collapsed": false,
    "pycharm": {
     "name": "#%%\n"
    }
   }
  },
  {
   "cell_type": "code",
   "execution_count": 26,
   "outputs": [
    {
     "data": {
      "text/plain": "<date>      datetime64[ns]\n<TICKER>            object\n<OPEN>             float64\n<HIGH>             float64\n<LOW>              float64\n<CLOSE>            float64\n<VOL>                int64\ndtype: object"
     },
     "execution_count": 26,
     "metadata": {},
     "output_type": "execute_result"
    }
   ],
   "source": [
    "df2.dtypes"
   ],
   "metadata": {
    "collapsed": false,
    "pycharm": {
     "name": "#%%\n"
    }
   }
  },
  {
   "cell_type": "code",
   "execution_count": 28,
   "outputs": [
    {
     "name": "stdout",
     "output_type": "stream",
     "text": [
      "20010102\n",
      "object\n"
     ]
    },
    {
     "data": {
      "text/plain": "0   2001-01-02\n1   2001-01-02\n2   2001-01-02\n3   2001-01-02\n4   2001-01-02\n5   2001-01-02\nName: <DTYYYYMMDD>, dtype: datetime64[ns]"
     },
     "execution_count": 28,
     "metadata": {},
     "output_type": "execute_result"
    }
   ],
   "source": [
    "# 将数字日期类型 转换为时间类型\n",
    "\n",
    "print(df['<DTYYYYMMDD>'][0])\n",
    "print(df['<DTYYYYMMDD>'].dtypes)\n",
    "# 先将数字日期类型转换成字符串，再转换成时间类型\n",
    "pd.to_datetime(df['<DTYYYYMMDD>'].astype(str))"
   ],
   "metadata": {
    "collapsed": false,
    "pycharm": {
     "name": "#%%\n"
    }
   }
  },
  {
   "cell_type": "code",
   "execution_count": 29,
   "outputs": [
    {
     "name": "stdout",
     "output_type": "stream",
     "text": [
      "  <DTYYYYMMDD>  <TIME>\n",
      "0     20010102  230100\n",
      "1     20010102  230200\n",
      "2     20010102  230300\n"
     ]
    }
   ],
   "source": [
    "# 将数字类型时间 转换成时间类型\n",
    "# 第一种方法\n",
    "print(df.head(3).iloc[:, 1:3])\n",
    "# pd.to_datetime(df['<TIME>'].astype(str))\n",
    "\n",
    "# df['<DTYYYYMMDD>'].astype(str)+df['<TIME>'].astype(str)\n",
    "# 将两列数字时间先转换成字符串 拼接后 转换成datetime64时间类型数据\n",
    "# pd.to_datetime(df['<DTYYYYMMDD>'].astype(str) + df['<TIME>'].astype(str))"
   ],
   "metadata": {
    "collapsed": false,
    "pycharm": {
     "name": "#%%\n"
    }
   }
  },
  {
   "cell_type": "code",
   "execution_count": 30,
   "outputs": [],
   "source": [
    "# 第二种拼接方法\n",
    "# 将两列数字时间先转换成字符串，拼接后 转换成datetime64时间类型数据\n",
    "# pd.to_datetime(df['<DTYYYYMMDD>'].astype(str).str.cat(df['<TIME>'].astype(str)))\n"
   ],
   "metadata": {
    "collapsed": false,
    "pycharm": {
     "name": "#%%\n"
    }
   }
  },
  {
   "cell_type": "code",
   "execution_count": 31,
   "outputs": [
    {
     "data": {
      "text/plain": "0   2001-01-02 23:01:00\n1   2001-01-02 23:02:00\n2   2001-01-02 23:03:00\nName: dateTime, dtype: datetime64[ns]"
     },
     "execution_count": 31,
     "metadata": {},
     "output_type": "execute_result"
    }
   ],
   "source": [
    "# 将前两列数字类型的日期和时间列数据，转换合并成新的一列 datetime64时间类型数据\n",
    "df['dateTime'] = pd.to_datetime(df['<DTYYYYMMDD>'].astype(str) + df['<TIME>'].astype(str))\n",
    "df['dateTime'].head(3)"
   ],
   "metadata": {
    "collapsed": false,
    "pycharm": {
     "name": "#%%\n"
    }
   }
  },
  {
   "cell_type": "code",
   "execution_count": 32,
   "outputs": [
    {
     "name": "stdout",
     "output_type": "stream",
     "text": [
      "<TICKER>                object\n",
      "<DTYYYYMMDD>            object\n",
      "<TIME>                   int64\n",
      "<OPEN>                 float64\n",
      "<HIGH>                 float64\n",
      "<LOW>                  float64\n",
      "<CLOSE>                float64\n",
      "<VOL>                    int64\n",
      "dateTime        datetime64[ns]\n",
      "dtype: object\n"
     ]
    },
    {
     "data": {
      "text/plain": "  <TICKER> <DTYYYYMMDD>  <TIME>  <OPEN>  <HIGH>   <LOW>  <CLOSE>  <VOL>  \\\n0   EURUSD     20010102  230100  0.9507  0.9507  0.9507   0.9507      4   \n1   EURUSD     20010102  230200  0.9506  0.9506  0.9505   0.9505      4   \n2   EURUSD     20010102  230300  0.9505  0.9507  0.9505   0.9506      4   \n\n             dateTime  \n0 2001-01-02 23:01:00  \n1 2001-01-02 23:02:00  \n2 2001-01-02 23:03:00  ",
      "text/html": "<div>\n<style scoped>\n    .dataframe tbody tr th:only-of-type {\n        vertical-align: middle;\n    }\n\n    .dataframe tbody tr th {\n        vertical-align: top;\n    }\n\n    .dataframe thead th {\n        text-align: right;\n    }\n</style>\n<table border=\"1\" class=\"dataframe\">\n  <thead>\n    <tr style=\"text-align: right;\">\n      <th></th>\n      <th>&lt;TICKER&gt;</th>\n      <th>&lt;DTYYYYMMDD&gt;</th>\n      <th>&lt;TIME&gt;</th>\n      <th>&lt;OPEN&gt;</th>\n      <th>&lt;HIGH&gt;</th>\n      <th>&lt;LOW&gt;</th>\n      <th>&lt;CLOSE&gt;</th>\n      <th>&lt;VOL&gt;</th>\n      <th>dateTime</th>\n    </tr>\n  </thead>\n  <tbody>\n    <tr>\n      <th>0</th>\n      <td>EURUSD</td>\n      <td>20010102</td>\n      <td>230100</td>\n      <td>0.9507</td>\n      <td>0.9507</td>\n      <td>0.9507</td>\n      <td>0.9507</td>\n      <td>4</td>\n      <td>2001-01-02 23:01:00</td>\n    </tr>\n    <tr>\n      <th>1</th>\n      <td>EURUSD</td>\n      <td>20010102</td>\n      <td>230200</td>\n      <td>0.9506</td>\n      <td>0.9506</td>\n      <td>0.9505</td>\n      <td>0.9505</td>\n      <td>4</td>\n      <td>2001-01-02 23:02:00</td>\n    </tr>\n    <tr>\n      <th>2</th>\n      <td>EURUSD</td>\n      <td>20010102</td>\n      <td>230300</td>\n      <td>0.9505</td>\n      <td>0.9507</td>\n      <td>0.9505</td>\n      <td>0.9506</td>\n      <td>4</td>\n      <td>2001-01-02 23:03:00</td>\n    </tr>\n  </tbody>\n</table>\n</div>"
     },
     "execution_count": 32,
     "metadata": {},
     "output_type": "execute_result"
    }
   ],
   "source": [
    "# 查看df数据类型\n",
    "print(df.dtypes)\n",
    "df.head(3)"
   ],
   "metadata": {
    "collapsed": false,
    "pycharm": {
     "name": "#%%\n"
    }
   }
  },
  {
   "cell_type": "code",
   "execution_count": 33,
   "outputs": [],
   "source": [
    "# 第三种方法\n",
    "# 使用to_datetime转换日期类型的数据\n",
    "# datetime.datetime.combine()\n",
    "\n",
    "# pd.to_datetime(df[['<DTYYYYMMDD>', '<TIME>']])"
   ],
   "metadata": {
    "collapsed": false,
    "pycharm": {
     "name": "#%%\n"
    }
   }
  },
  {
   "cell_type": "code",
   "execution_count": 34,
   "outputs": [
    {
     "name": "stdout",
     "output_type": "stream",
     "text": [
      "  <TICKER> <DTYYYYMMDD>  <TIME>  <OPEN>  <HIGH>   <LOW>  <CLOSE>  <VOL>  \\\n",
      "0   EURUSD     20010102  230100  0.9507  0.9507  0.9507   0.9507      4   \n",
      "1   EURUSD     20010102  230200  0.9506  0.9506  0.9505   0.9505      4   \n",
      "2   EURUSD     20010102  230300  0.9505  0.9507  0.9505   0.9506      4   \n",
      "\n",
      "             dateTime  \n",
      "0 2001-01-02 23:01:00  \n",
      "1 2001-01-02 23:02:00  \n",
      "2 2001-01-02 23:03:00  \n"
     ]
    }
   ],
   "source": [
    "# 查看df数据类型\n",
    "df.dtypes\n",
    "print(df.head(3))"
   ],
   "metadata": {
    "collapsed": false,
    "pycharm": {
     "name": "#%%\n"
    }
   }
  },
  {
   "cell_type": "code",
   "execution_count": 35,
   "outputs": [
    {
     "data": {
      "text/plain": "  <TICKER>  <OPEN>  <HIGH>   <LOW>  <CLOSE>  <VOL>            dateTime\n0   EURUSD  0.9507  0.9507  0.9507   0.9507      4 2001-01-02 23:01:00\n1   EURUSD  0.9506  0.9506  0.9505   0.9505      4 2001-01-02 23:02:00\n2   EURUSD  0.9505  0.9507  0.9505   0.9506      4 2001-01-02 23:03:00\n3   EURUSD  0.9506  0.9506  0.9506   0.9506      4 2001-01-02 23:04:00\n4   EURUSD  0.9506  0.9506  0.9506   0.9506      4 2001-01-02 23:05:00\n5   EURUSD  0.9506  0.9506  0.9506   0.9506      4 2001-01-02 23:06:00",
      "text/html": "<div>\n<style scoped>\n    .dataframe tbody tr th:only-of-type {\n        vertical-align: middle;\n    }\n\n    .dataframe tbody tr th {\n        vertical-align: top;\n    }\n\n    .dataframe thead th {\n        text-align: right;\n    }\n</style>\n<table border=\"1\" class=\"dataframe\">\n  <thead>\n    <tr style=\"text-align: right;\">\n      <th></th>\n      <th>&lt;TICKER&gt;</th>\n      <th>&lt;OPEN&gt;</th>\n      <th>&lt;HIGH&gt;</th>\n      <th>&lt;LOW&gt;</th>\n      <th>&lt;CLOSE&gt;</th>\n      <th>&lt;VOL&gt;</th>\n      <th>dateTime</th>\n    </tr>\n  </thead>\n  <tbody>\n    <tr>\n      <th>0</th>\n      <td>EURUSD</td>\n      <td>0.9507</td>\n      <td>0.9507</td>\n      <td>0.9507</td>\n      <td>0.9507</td>\n      <td>4</td>\n      <td>2001-01-02 23:01:00</td>\n    </tr>\n    <tr>\n      <th>1</th>\n      <td>EURUSD</td>\n      <td>0.9506</td>\n      <td>0.9506</td>\n      <td>0.9505</td>\n      <td>0.9505</td>\n      <td>4</td>\n      <td>2001-01-02 23:02:00</td>\n    </tr>\n    <tr>\n      <th>2</th>\n      <td>EURUSD</td>\n      <td>0.9505</td>\n      <td>0.9507</td>\n      <td>0.9505</td>\n      <td>0.9506</td>\n      <td>4</td>\n      <td>2001-01-02 23:03:00</td>\n    </tr>\n    <tr>\n      <th>3</th>\n      <td>EURUSD</td>\n      <td>0.9506</td>\n      <td>0.9506</td>\n      <td>0.9506</td>\n      <td>0.9506</td>\n      <td>4</td>\n      <td>2001-01-02 23:04:00</td>\n    </tr>\n    <tr>\n      <th>4</th>\n      <td>EURUSD</td>\n      <td>0.9506</td>\n      <td>0.9506</td>\n      <td>0.9506</td>\n      <td>0.9506</td>\n      <td>4</td>\n      <td>2001-01-02 23:05:00</td>\n    </tr>\n    <tr>\n      <th>5</th>\n      <td>EURUSD</td>\n      <td>0.9506</td>\n      <td>0.9506</td>\n      <td>0.9506</td>\n      <td>0.9506</td>\n      <td>4</td>\n      <td>2001-01-02 23:06:00</td>\n    </tr>\n  </tbody>\n</table>\n</div>"
     },
     "execution_count": 35,
     "metadata": {},
     "output_type": "execute_result"
    }
   ],
   "source": [
    "# inplace=False 时不改变内存，再次输入df的时候，它还是显示原数据\n",
    "# 删除列标为<DTYYYYMMDD> 的一列\n",
    "df.drop(['<DTYYYYMMDD>'], axis=1, inplace=False)\n",
    "# 同时删除两列\n",
    "df.drop(['<DTYYYYMMDD>', '<TIME>'], axis=1, inplace=False)"
   ],
   "metadata": {
    "collapsed": false,
    "pycharm": {
     "name": "#%%\n"
    }
   }
  },
  {
   "cell_type": "code",
   "execution_count": 36,
   "outputs": [
    {
     "data": {
      "text/plain": "  <TICKER> <DTYYYYMMDD>  <TIME>  <OPEN>  <HIGH>   <LOW>  <CLOSE>  <VOL>  \\\n0   EURUSD     20010102  230100  0.9507  0.9507  0.9507   0.9507      4   \n1   EURUSD     20010102  230200  0.9506  0.9506  0.9505   0.9505      4   \n2   EURUSD     20010102  230300  0.9505  0.9507  0.9505   0.9506      4   \n\n             dateTime  \n0 2001-01-02 23:01:00  \n1 2001-01-02 23:02:00  \n2 2001-01-02 23:03:00  ",
      "text/html": "<div>\n<style scoped>\n    .dataframe tbody tr th:only-of-type {\n        vertical-align: middle;\n    }\n\n    .dataframe tbody tr th {\n        vertical-align: top;\n    }\n\n    .dataframe thead th {\n        text-align: right;\n    }\n</style>\n<table border=\"1\" class=\"dataframe\">\n  <thead>\n    <tr style=\"text-align: right;\">\n      <th></th>\n      <th>&lt;TICKER&gt;</th>\n      <th>&lt;DTYYYYMMDD&gt;</th>\n      <th>&lt;TIME&gt;</th>\n      <th>&lt;OPEN&gt;</th>\n      <th>&lt;HIGH&gt;</th>\n      <th>&lt;LOW&gt;</th>\n      <th>&lt;CLOSE&gt;</th>\n      <th>&lt;VOL&gt;</th>\n      <th>dateTime</th>\n    </tr>\n  </thead>\n  <tbody>\n    <tr>\n      <th>0</th>\n      <td>EURUSD</td>\n      <td>20010102</td>\n      <td>230100</td>\n      <td>0.9507</td>\n      <td>0.9507</td>\n      <td>0.9507</td>\n      <td>0.9507</td>\n      <td>4</td>\n      <td>2001-01-02 23:01:00</td>\n    </tr>\n    <tr>\n      <th>1</th>\n      <td>EURUSD</td>\n      <td>20010102</td>\n      <td>230200</td>\n      <td>0.9506</td>\n      <td>0.9506</td>\n      <td>0.9505</td>\n      <td>0.9505</td>\n      <td>4</td>\n      <td>2001-01-02 23:02:00</td>\n    </tr>\n    <tr>\n      <th>2</th>\n      <td>EURUSD</td>\n      <td>20010102</td>\n      <td>230300</td>\n      <td>0.9505</td>\n      <td>0.9507</td>\n      <td>0.9505</td>\n      <td>0.9506</td>\n      <td>4</td>\n      <td>2001-01-02 23:03:00</td>\n    </tr>\n  </tbody>\n</table>\n</div>"
     },
     "execution_count": 36,
     "metadata": {},
     "output_type": "execute_result"
    }
   ],
   "source": [
    "df.head(3)"
   ],
   "metadata": {
    "collapsed": false,
    "pycharm": {
     "name": "#%%\n"
    }
   }
  },
  {
   "cell_type": "code",
   "execution_count": 37,
   "outputs": [
    {
     "name": "stderr",
     "output_type": "stream",
     "text": [
      "C:\\Users\\yalin\\AppData\\Local\\Temp/ipykernel_27728/3937243134.py:1: FutureWarning: In a future version of pandas all arguments of DataFrame.drop except for the argument 'labels' will be keyword-only\n",
      "  df.drop(['<DTYYYYMMDD>', '<TIME>'], 1, inplace=True)\n"
     ]
    }
   ],
   "source": [
    "df.drop(['<DTYYYYMMDD>', '<TIME>'], 1, inplace=True)\n"
   ],
   "metadata": {
    "collapsed": false,
    "pycharm": {
     "name": "#%%\n"
    }
   }
  },
  {
   "cell_type": "code",
   "execution_count": 38,
   "outputs": [
    {
     "data": {
      "text/plain": "  <TICKER>  <OPEN>  <HIGH>   <LOW>  <CLOSE>  <VOL>            dateTime\n0   EURUSD  0.9507  0.9507  0.9507   0.9507      4 2001-01-02 23:01:00\n1   EURUSD  0.9506  0.9506  0.9505   0.9505      4 2001-01-02 23:02:00\n2   EURUSD  0.9505  0.9507  0.9505   0.9506      4 2001-01-02 23:03:00",
      "text/html": "<div>\n<style scoped>\n    .dataframe tbody tr th:only-of-type {\n        vertical-align: middle;\n    }\n\n    .dataframe tbody tr th {\n        vertical-align: top;\n    }\n\n    .dataframe thead th {\n        text-align: right;\n    }\n</style>\n<table border=\"1\" class=\"dataframe\">\n  <thead>\n    <tr style=\"text-align: right;\">\n      <th></th>\n      <th>&lt;TICKER&gt;</th>\n      <th>&lt;OPEN&gt;</th>\n      <th>&lt;HIGH&gt;</th>\n      <th>&lt;LOW&gt;</th>\n      <th>&lt;CLOSE&gt;</th>\n      <th>&lt;VOL&gt;</th>\n      <th>dateTime</th>\n    </tr>\n  </thead>\n  <tbody>\n    <tr>\n      <th>0</th>\n      <td>EURUSD</td>\n      <td>0.9507</td>\n      <td>0.9507</td>\n      <td>0.9507</td>\n      <td>0.9507</td>\n      <td>4</td>\n      <td>2001-01-02 23:01:00</td>\n    </tr>\n    <tr>\n      <th>1</th>\n      <td>EURUSD</td>\n      <td>0.9506</td>\n      <td>0.9506</td>\n      <td>0.9505</td>\n      <td>0.9505</td>\n      <td>4</td>\n      <td>2001-01-02 23:02:00</td>\n    </tr>\n    <tr>\n      <th>2</th>\n      <td>EURUSD</td>\n      <td>0.9505</td>\n      <td>0.9507</td>\n      <td>0.9505</td>\n      <td>0.9506</td>\n      <td>4</td>\n      <td>2001-01-02 23:03:00</td>\n    </tr>\n  </tbody>\n</table>\n</div>"
     },
     "execution_count": 38,
     "metadata": {},
     "output_type": "execute_result"
    }
   ],
   "source": [
    "df.head(3)"
   ],
   "metadata": {
    "collapsed": false,
    "pycharm": {
     "name": "#%%\n"
    }
   }
  },
  {
   "cell_type": "code",
   "execution_count": 38,
   "outputs": [],
   "source": [],
   "metadata": {
    "collapsed": false,
    "pycharm": {
     "name": "#%%\n"
    }
   }
  }
 ],
 "metadata": {
  "kernelspec": {
   "name": "pycharm-a57ffa67",
   "language": "python",
   "display_name": "PyCharm (yalin-scikit-learn)"
  },
  "language_info": {
   "codemirror_mode": {
    "name": "ipython",
    "version": 3
   },
   "file_extension": ".py",
   "mimetype": "text/x-python",
   "name": "python",
   "nbconvert_exporter": "python",
   "pygments_lexer": "ipython3",
   "version": "3.8.12"
  }
 },
 "nbformat": 4,
 "nbformat_minor": 5
}