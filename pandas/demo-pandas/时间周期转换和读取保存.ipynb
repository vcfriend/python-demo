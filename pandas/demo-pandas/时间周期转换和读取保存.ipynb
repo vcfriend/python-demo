{
 "cells": [
  {
   "cell_type": "code",
   "execution_count": 5,
   "outputs": [],
   "source": [
    "import pandas as pd"
   ],
   "metadata": {
    "collapsed": false,
    "pycharm": {
     "name": "#%%\n"
    }
   }
  },
  {
   "cell_type": "code",
   "execution_count": 6,
   "metadata": {
    "collapsed": true
   },
   "outputs": [
    {
     "data": {
      "text/plain": "                  1        2        3        4        5\n0                                                      \n2007-01-01  1.31908  1.31985  1.31650  1.31931   728451\n2007-01-02  1.31916  1.32951  1.31837  1.32754  2024367\n2007-01-03  1.32743  1.32903  1.31761  1.31925  2005667\n2007-01-04  1.31935  1.31954  1.30823  1.30876  2011064\n2007-01-05  1.30871  1.31029  1.29883  1.29909  2011796",
      "text/html": "<div>\n<style scoped>\n    .dataframe tbody tr th:only-of-type {\n        vertical-align: middle;\n    }\n\n    .dataframe tbody tr th {\n        vertical-align: top;\n    }\n\n    .dataframe thead th {\n        text-align: right;\n    }\n</style>\n<table border=\"1\" class=\"dataframe\">\n  <thead>\n    <tr style=\"text-align: right;\">\n      <th></th>\n      <th>1</th>\n      <th>2</th>\n      <th>3</th>\n      <th>4</th>\n      <th>5</th>\n    </tr>\n    <tr>\n      <th>0</th>\n      <th></th>\n      <th></th>\n      <th></th>\n      <th></th>\n      <th></th>\n    </tr>\n  </thead>\n  <tbody>\n    <tr>\n      <th>2007-01-01</th>\n      <td>1.31908</td>\n      <td>1.31985</td>\n      <td>1.31650</td>\n      <td>1.31931</td>\n      <td>728451</td>\n    </tr>\n    <tr>\n      <th>2007-01-02</th>\n      <td>1.31916</td>\n      <td>1.32951</td>\n      <td>1.31837</td>\n      <td>1.32754</td>\n      <td>2024367</td>\n    </tr>\n    <tr>\n      <th>2007-01-03</th>\n      <td>1.32743</td>\n      <td>1.32903</td>\n      <td>1.31761</td>\n      <td>1.31925</td>\n      <td>2005667</td>\n    </tr>\n    <tr>\n      <th>2007-01-04</th>\n      <td>1.31935</td>\n      <td>1.31954</td>\n      <td>1.30823</td>\n      <td>1.30876</td>\n      <td>2011064</td>\n    </tr>\n    <tr>\n      <th>2007-01-05</th>\n      <td>1.30871</td>\n      <td>1.31029</td>\n      <td>1.29883</td>\n      <td>1.29909</td>\n      <td>2011796</td>\n    </tr>\n  </tbody>\n</table>\n</div>"
     },
     "execution_count": 6,
     "metadata": {},
     "output_type": "execute_result"
    }
   ],
   "source": [
    "df = pd.read_csv('./data/EURUSD1440.csv',\n",
    "                 sep='\\t',\n",
    "                 header=None,\n",
    "                 index_col=[0],  #设置行索引\n",
    "                 parse_dates=[0],  #解析时间\n",
    "                 date_parser=lambda x: pd.to_datetime(x, format='%Y-%m-%d %H:%M'),  #时间解析的格式\n",
    "                 )\n",
    "# 将日期列，设置成index\n",
    "# df.index = pd.to_datetime(df.iloc[:,0], format='%Y-%m-%d')\n",
    "df.head()"
   ]
  },
  {
   "cell_type": "code",
   "execution_count": 10,
   "outputs": [
    {
     "data": {
      "text/plain": "                  1        2        3        4         5\n0                                                       \n2006-12-31  1.31908  1.32951  1.29804  1.29995   9946097\n2007-01-07  1.30097  1.30517  1.28668  1.29212  10037663\n2007-01-14  1.29219  1.29998  1.28971  1.29536  10024435\n2007-01-21  1.29592  1.30423  1.28807  1.29144  10019581\n2007-01-28  1.29147  1.30615  1.28948  1.29562  10024377",
      "text/html": "<div>\n<style scoped>\n    .dataframe tbody tr th:only-of-type {\n        vertical-align: middle;\n    }\n\n    .dataframe tbody tr th {\n        vertical-align: top;\n    }\n\n    .dataframe thead th {\n        text-align: right;\n    }\n</style>\n<table border=\"1\" class=\"dataframe\">\n  <thead>\n    <tr style=\"text-align: right;\">\n      <th></th>\n      <th>1</th>\n      <th>2</th>\n      <th>3</th>\n      <th>4</th>\n      <th>5</th>\n    </tr>\n    <tr>\n      <th>0</th>\n      <th></th>\n      <th></th>\n      <th></th>\n      <th></th>\n      <th></th>\n    </tr>\n  </thead>\n  <tbody>\n    <tr>\n      <th>2006-12-31</th>\n      <td>1.31908</td>\n      <td>1.32951</td>\n      <td>1.29804</td>\n      <td>1.29995</td>\n      <td>9946097</td>\n    </tr>\n    <tr>\n      <th>2007-01-07</th>\n      <td>1.30097</td>\n      <td>1.30517</td>\n      <td>1.28668</td>\n      <td>1.29212</td>\n      <td>10037663</td>\n    </tr>\n    <tr>\n      <th>2007-01-14</th>\n      <td>1.29219</td>\n      <td>1.29998</td>\n      <td>1.28971</td>\n      <td>1.29536</td>\n      <td>10024435</td>\n    </tr>\n    <tr>\n      <th>2007-01-21</th>\n      <td>1.29592</td>\n      <td>1.30423</td>\n      <td>1.28807</td>\n      <td>1.29144</td>\n      <td>10019581</td>\n    </tr>\n    <tr>\n      <th>2007-01-28</th>\n      <td>1.29147</td>\n      <td>1.30615</td>\n      <td>1.28948</td>\n      <td>1.29562</td>\n      <td>10024377</td>\n    </tr>\n  </tbody>\n</table>\n</div>"
     },
     "execution_count": 10,
     "metadata": {},
     "output_type": "execute_result"
    }
   ],
   "source": [
    "rule_type = '1W'  # 周期单位: 5T=5分钟 1H=1小时 1D=1天 1W=1周\n",
    "period_df = df.resample(rule=rule_type, label='left', closed='left').agg(\n",
    "    {1: 'first',\n",
    "     2: 'max',\n",
    "     3: 'min',\n",
    "     4: 'last',\n",
    "     5: 'sum'\n",
    "     })\n",
    "\n",
    "# 保存文件\n",
    "period_df.to_csv('./data/EURUSD10080.csv',\n",
    "                 sep=f'\\t',\n",
    "                 header=False,  #不导出列标签\n",
    "                 date_format='%Y-%m-%d %H:%M',\n",
    "                 )\n",
    "period_df.head()"
   ],
   "metadata": {
    "collapsed": false,
    "pycharm": {
     "name": "#%%\n"
    }
   }
  },
  {
   "cell_type": "code",
   "execution_count": 7,
   "outputs": [],
   "source": [],
   "metadata": {
    "collapsed": false,
    "pycharm": {
     "name": "#%%\n"
    }
   }
  }
 ],
 "metadata": {
  "kernelspec": {
   "display_name": "Python 3",
   "language": "python",
   "name": "python3"
  },
  "language_info": {
   "codemirror_mode": {
    "name": "ipython",
    "version": 2
   },
   "file_extension": ".py",
   "mimetype": "text/x-python",
   "name": "python",
   "nbconvert_exporter": "python",
   "pygments_lexer": "ipython2",
   "version": "2.7.6"
  }
 },
 "nbformat": 4,
 "nbformat_minor": 0
}