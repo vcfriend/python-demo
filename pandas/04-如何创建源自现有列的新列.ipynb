{
 "cells": [
  {
   "cell_type": "code",
   "execution_count": 1,
   "metadata": {
    "collapsed": true
   },
   "outputs": [],
   "source": [
    "# coding: utf-8\n",
    "import pandas as pd"
   ]
  },
  {
   "cell_type": "code",
   "execution_count": 2,
   "outputs": [],
   "source": [
    "air_quality = pd.read_csv(\"data/air_quality_no2.csv\",\n",
    "                          index_col=0, parse_dates=True)"
   ],
   "metadata": {
    "collapsed": false,
    "pycharm": {
     "name": "#%%\n"
    }
   }
  },
  {
   "cell_type": "code",
   "execution_count": 3,
   "outputs": [
    {
     "data": {
      "text/plain": "                     station_antwerp  station_paris  station_london\ndatetime                                                           \n2019-05-07 02:00:00              NaN            NaN            23.0\n2019-05-07 03:00:00             50.5           25.0            19.0\n2019-05-07 04:00:00             45.0           27.7            19.0\n2019-05-07 05:00:00              NaN           50.4            16.0\n2019-05-07 06:00:00              NaN           61.9             NaN",
      "text/html": "<div>\n<style scoped>\n    .dataframe tbody tr th:only-of-type {\n        vertical-align: middle;\n    }\n\n    .dataframe tbody tr th {\n        vertical-align: top;\n    }\n\n    .dataframe thead th {\n        text-align: right;\n    }\n</style>\n<table border=\"1\" class=\"dataframe\">\n  <thead>\n    <tr style=\"text-align: right;\">\n      <th></th>\n      <th>station_antwerp</th>\n      <th>station_paris</th>\n      <th>station_london</th>\n    </tr>\n    <tr>\n      <th>datetime</th>\n      <th></th>\n      <th></th>\n      <th></th>\n    </tr>\n  </thead>\n  <tbody>\n    <tr>\n      <th>2019-05-07 02:00:00</th>\n      <td>NaN</td>\n      <td>NaN</td>\n      <td>23.0</td>\n    </tr>\n    <tr>\n      <th>2019-05-07 03:00:00</th>\n      <td>50.5</td>\n      <td>25.0</td>\n      <td>19.0</td>\n    </tr>\n    <tr>\n      <th>2019-05-07 04:00:00</th>\n      <td>45.0</td>\n      <td>27.7</td>\n      <td>19.0</td>\n    </tr>\n    <tr>\n      <th>2019-05-07 05:00:00</th>\n      <td>NaN</td>\n      <td>50.4</td>\n      <td>16.0</td>\n    </tr>\n    <tr>\n      <th>2019-05-07 06:00:00</th>\n      <td>NaN</td>\n      <td>61.9</td>\n      <td>NaN</td>\n    </tr>\n  </tbody>\n</table>\n</div>"
     },
     "execution_count": 3,
     "metadata": {},
     "output_type": "execute_result"
    }
   ],
   "source": [
    "air_quality.head()"
   ],
   "metadata": {
    "collapsed": false,
    "pycharm": {
     "name": "#%%\n"
    }
   }
  },
  {
   "cell_type": "code",
   "execution_count": 4,
   "outputs": [],
   "source": [
    "# 我想用毫克/米来表达伦敦车站的浓度\n",
    "# (如果我们假设温度为 25 摄氏度，压力为 1013 hPa，则转换因子为 1.882)\n",
    "air_quality[\"london_mg_per_cubic\"] = air_quality[\"station_london\"] * 1.882\n"
   ],
   "metadata": {
    "collapsed": false,
    "pycharm": {
     "name": "#%%\n"
    }
   }
  },
  {
   "cell_type": "code",
   "execution_count": 5,
   "outputs": [
    {
     "data": {
      "text/plain": "                     station_antwerp  station_paris  station_london  \\\ndatetime                                                              \n2019-05-07 02:00:00              NaN            NaN            23.0   \n2019-05-07 03:00:00             50.5           25.0            19.0   \n2019-05-07 04:00:00             45.0           27.7            19.0   \n\n                     london_mg_per_cubic  \ndatetime                                  \n2019-05-07 02:00:00               43.286  \n2019-05-07 03:00:00               35.758  \n2019-05-07 04:00:00               35.758  ",
      "text/html": "<div>\n<style scoped>\n    .dataframe tbody tr th:only-of-type {\n        vertical-align: middle;\n    }\n\n    .dataframe tbody tr th {\n        vertical-align: top;\n    }\n\n    .dataframe thead th {\n        text-align: right;\n    }\n</style>\n<table border=\"1\" class=\"dataframe\">\n  <thead>\n    <tr style=\"text-align: right;\">\n      <th></th>\n      <th>station_antwerp</th>\n      <th>station_paris</th>\n      <th>station_london</th>\n      <th>london_mg_per_cubic</th>\n    </tr>\n    <tr>\n      <th>datetime</th>\n      <th></th>\n      <th></th>\n      <th></th>\n      <th></th>\n    </tr>\n  </thead>\n  <tbody>\n    <tr>\n      <th>2019-05-07 02:00:00</th>\n      <td>NaN</td>\n      <td>NaN</td>\n      <td>23.0</td>\n      <td>43.286</td>\n    </tr>\n    <tr>\n      <th>2019-05-07 03:00:00</th>\n      <td>50.5</td>\n      <td>25.0</td>\n      <td>19.0</td>\n      <td>35.758</td>\n    </tr>\n    <tr>\n      <th>2019-05-07 04:00:00</th>\n      <td>45.0</td>\n      <td>27.7</td>\n      <td>19.0</td>\n      <td>35.758</td>\n    </tr>\n  </tbody>\n</table>\n</div>"
     },
     "execution_count": 5,
     "metadata": {},
     "output_type": "execute_result"
    }
   ],
   "source": [
    "air_quality.head(3)"
   ],
   "metadata": {
    "collapsed": false,
    "pycharm": {
     "name": "#%%\n"
    }
   }
  },
  {
   "cell_type": "code",
   "execution_count": 6,
   "outputs": [],
   "source": [
    "# 要创建新列，请使用作业左侧带有新列名的括号。[]\n",
    "# 我想检查巴黎与安特卫普的值比率，并将结果保存在新的列中\n",
    "air_quality[\"ratio_paris_antwerp\"] = (\n",
    "        air_quality[\"station_paris\"] / air_quality[\"station_antwerp\"]\n",
    ")\n"
   ],
   "metadata": {
    "collapsed": false,
    "pycharm": {
     "name": "#%%\n"
    }
   }
  },
  {
   "cell_type": "code",
   "execution_count": 8,
   "outputs": [
    {
     "data": {
      "text/plain": "                     station_antwerp  station_paris  station_london  \\\ndatetime                                                              \n2019-05-07 02:00:00              NaN            NaN            23.0   \n2019-05-07 03:00:00             50.5           25.0            19.0   \n2019-05-07 04:00:00             45.0           27.7            19.0   \n2019-05-07 05:00:00              NaN           50.4            16.0   \n2019-05-07 06:00:00              NaN           61.9             NaN   \n\n                     london_mg_per_cubic  ratio_paris_antwerp  \ndatetime                                                       \n2019-05-07 02:00:00               43.286                  NaN  \n2019-05-07 03:00:00               35.758             0.495050  \n2019-05-07 04:00:00               35.758             0.615556  \n2019-05-07 05:00:00               30.112                  NaN  \n2019-05-07 06:00:00                  NaN                  NaN  ",
      "text/html": "<div>\n<style scoped>\n    .dataframe tbody tr th:only-of-type {\n        vertical-align: middle;\n    }\n\n    .dataframe tbody tr th {\n        vertical-align: top;\n    }\n\n    .dataframe thead th {\n        text-align: right;\n    }\n</style>\n<table border=\"1\" class=\"dataframe\">\n  <thead>\n    <tr style=\"text-align: right;\">\n      <th></th>\n      <th>station_antwerp</th>\n      <th>station_paris</th>\n      <th>station_london</th>\n      <th>london_mg_per_cubic</th>\n      <th>ratio_paris_antwerp</th>\n    </tr>\n    <tr>\n      <th>datetime</th>\n      <th></th>\n      <th></th>\n      <th></th>\n      <th></th>\n      <th></th>\n    </tr>\n  </thead>\n  <tbody>\n    <tr>\n      <th>2019-05-07 02:00:00</th>\n      <td>NaN</td>\n      <td>NaN</td>\n      <td>23.0</td>\n      <td>43.286</td>\n      <td>NaN</td>\n    </tr>\n    <tr>\n      <th>2019-05-07 03:00:00</th>\n      <td>50.5</td>\n      <td>25.0</td>\n      <td>19.0</td>\n      <td>35.758</td>\n      <td>0.495050</td>\n    </tr>\n    <tr>\n      <th>2019-05-07 04:00:00</th>\n      <td>45.0</td>\n      <td>27.7</td>\n      <td>19.0</td>\n      <td>35.758</td>\n      <td>0.615556</td>\n    </tr>\n    <tr>\n      <th>2019-05-07 05:00:00</th>\n      <td>NaN</td>\n      <td>50.4</td>\n      <td>16.0</td>\n      <td>30.112</td>\n      <td>NaN</td>\n    </tr>\n    <tr>\n      <th>2019-05-07 06:00:00</th>\n      <td>NaN</td>\n      <td>61.9</td>\n      <td>NaN</td>\n      <td>NaN</td>\n      <td>NaN</td>\n    </tr>\n  </tbody>\n</table>\n</div>"
     },
     "execution_count": 8,
     "metadata": {},
     "output_type": "execute_result"
    }
   ],
   "source": [
    "air_quality.head()"
   ],
   "metadata": {
    "collapsed": false,
    "pycharm": {
     "name": "#%%\n"
    }
   }
  },
  {
   "cell_type": "code",
   "execution_count": 9,
   "outputs": [],
   "source": [
    "# 我想将数据列重命名为 openAQ 使用的相应站标识符\n",
    "air_quality_renamed = air_quality.rename(\n",
    "    columns={\n",
    "        \"station_antwerp\": \"BETR801\",\n",
    "        \"station_paris\": \"FR04014\",\n",
    "        \"station_london\": \"London Westminster\",\n",
    "    }\n",
    ")"
   ],
   "metadata": {
    "collapsed": false,
    "pycharm": {
     "name": "#%%\n"
    }
   }
  },
  {
   "cell_type": "code",
   "execution_count": 10,
   "outputs": [
    {
     "data": {
      "text/plain": "                     BETR801  FR04014  London Westminster  \\\ndatetime                                                    \n2019-05-07 02:00:00      NaN      NaN                23.0   \n2019-05-07 03:00:00     50.5     25.0                19.0   \n2019-05-07 04:00:00     45.0     27.7                19.0   \n2019-05-07 05:00:00      NaN     50.4                16.0   \n2019-05-07 06:00:00      NaN     61.9                 NaN   \n\n                     london_mg_per_cubic  ratio_paris_antwerp  \ndatetime                                                       \n2019-05-07 02:00:00               43.286                  NaN  \n2019-05-07 03:00:00               35.758             0.495050  \n2019-05-07 04:00:00               35.758             0.615556  \n2019-05-07 05:00:00               30.112                  NaN  \n2019-05-07 06:00:00                  NaN                  NaN  ",
      "text/html": "<div>\n<style scoped>\n    .dataframe tbody tr th:only-of-type {\n        vertical-align: middle;\n    }\n\n    .dataframe tbody tr th {\n        vertical-align: top;\n    }\n\n    .dataframe thead th {\n        text-align: right;\n    }\n</style>\n<table border=\"1\" class=\"dataframe\">\n  <thead>\n    <tr style=\"text-align: right;\">\n      <th></th>\n      <th>BETR801</th>\n      <th>FR04014</th>\n      <th>London Westminster</th>\n      <th>london_mg_per_cubic</th>\n      <th>ratio_paris_antwerp</th>\n    </tr>\n    <tr>\n      <th>datetime</th>\n      <th></th>\n      <th></th>\n      <th></th>\n      <th></th>\n      <th></th>\n    </tr>\n  </thead>\n  <tbody>\n    <tr>\n      <th>2019-05-07 02:00:00</th>\n      <td>NaN</td>\n      <td>NaN</td>\n      <td>23.0</td>\n      <td>43.286</td>\n      <td>NaN</td>\n    </tr>\n    <tr>\n      <th>2019-05-07 03:00:00</th>\n      <td>50.5</td>\n      <td>25.0</td>\n      <td>19.0</td>\n      <td>35.758</td>\n      <td>0.495050</td>\n    </tr>\n    <tr>\n      <th>2019-05-07 04:00:00</th>\n      <td>45.0</td>\n      <td>27.7</td>\n      <td>19.0</td>\n      <td>35.758</td>\n      <td>0.615556</td>\n    </tr>\n    <tr>\n      <th>2019-05-07 05:00:00</th>\n      <td>NaN</td>\n      <td>50.4</td>\n      <td>16.0</td>\n      <td>30.112</td>\n      <td>NaN</td>\n    </tr>\n    <tr>\n      <th>2019-05-07 06:00:00</th>\n      <td>NaN</td>\n      <td>61.9</td>\n      <td>NaN</td>\n      <td>NaN</td>\n      <td>NaN</td>\n    </tr>\n  </tbody>\n</table>\n</div>"
     },
     "execution_count": 10,
     "metadata": {},
     "output_type": "execute_result"
    }
   ],
   "source": [
    "# 重命名（）功能可用于行标签和列标签。提供字典，其中键为当前名称和新名称的值，以更新相应的名称。\n",
    "air_quality_renamed.head()"
   ],
   "metadata": {
    "collapsed": false,
    "pycharm": {
     "name": "#%%\n"
    }
   }
  },
  {
   "cell_type": "code",
   "execution_count": 14,
   "outputs": [],
   "source": [
    "# 映射不应仅限于固定名称，而应是映射功能。例如，也可以使用一个函数将列名转换为小写字母\n",
    "air_quality_renamed = air_quality_renamed.rename(columns=str.lower)"
   ],
   "metadata": {
    "collapsed": false,
    "pycharm": {
     "name": "#%%\n"
    }
   }
  },
  {
   "cell_type": "code",
   "execution_count": 15,
   "outputs": [
    {
     "data": {
      "text/plain": "                     betr801  fr04014  london westminster  \\\ndatetime                                                    \n2019-05-07 02:00:00      NaN      NaN                23.0   \n2019-05-07 03:00:00     50.5     25.0                19.0   \n2019-05-07 04:00:00     45.0     27.7                19.0   \n2019-05-07 05:00:00      NaN     50.4                16.0   \n2019-05-07 06:00:00      NaN     61.9                 NaN   \n\n                     london_mg_per_cubic  ratio_paris_antwerp  \ndatetime                                                       \n2019-05-07 02:00:00               43.286                  NaN  \n2019-05-07 03:00:00               35.758             0.495050  \n2019-05-07 04:00:00               35.758             0.615556  \n2019-05-07 05:00:00               30.112                  NaN  \n2019-05-07 06:00:00                  NaN                  NaN  ",
      "text/html": "<div>\n<style scoped>\n    .dataframe tbody tr th:only-of-type {\n        vertical-align: middle;\n    }\n\n    .dataframe tbody tr th {\n        vertical-align: top;\n    }\n\n    .dataframe thead th {\n        text-align: right;\n    }\n</style>\n<table border=\"1\" class=\"dataframe\">\n  <thead>\n    <tr style=\"text-align: right;\">\n      <th></th>\n      <th>betr801</th>\n      <th>fr04014</th>\n      <th>london westminster</th>\n      <th>london_mg_per_cubic</th>\n      <th>ratio_paris_antwerp</th>\n    </tr>\n    <tr>\n      <th>datetime</th>\n      <th></th>\n      <th></th>\n      <th></th>\n      <th></th>\n      <th></th>\n    </tr>\n  </thead>\n  <tbody>\n    <tr>\n      <th>2019-05-07 02:00:00</th>\n      <td>NaN</td>\n      <td>NaN</td>\n      <td>23.0</td>\n      <td>43.286</td>\n      <td>NaN</td>\n    </tr>\n    <tr>\n      <th>2019-05-07 03:00:00</th>\n      <td>50.5</td>\n      <td>25.0</td>\n      <td>19.0</td>\n      <td>35.758</td>\n      <td>0.495050</td>\n    </tr>\n    <tr>\n      <th>2019-05-07 04:00:00</th>\n      <td>45.0</td>\n      <td>27.7</td>\n      <td>19.0</td>\n      <td>35.758</td>\n      <td>0.615556</td>\n    </tr>\n    <tr>\n      <th>2019-05-07 05:00:00</th>\n      <td>NaN</td>\n      <td>50.4</td>\n      <td>16.0</td>\n      <td>30.112</td>\n      <td>NaN</td>\n    </tr>\n    <tr>\n      <th>2019-05-07 06:00:00</th>\n      <td>NaN</td>\n      <td>61.9</td>\n      <td>NaN</td>\n      <td>NaN</td>\n      <td>NaN</td>\n    </tr>\n  </tbody>\n</table>\n</div>"
     },
     "execution_count": 15,
     "metadata": {},
     "output_type": "execute_result"
    }
   ],
   "source": [
    "air_quality_renamed.head()"
   ],
   "metadata": {
    "collapsed": false,
    "pycharm": {
     "name": "#%%\n"
    }
   }
  },
  {
   "cell_type": "code",
   "execution_count": null,
   "outputs": [],
   "source": [
    "\"\"\"\n",
    "内容要点：\n",
    "\n",
    "通过将输出分配到数据帧，并在数据帧之间分配新的列名来创建新列。[]\n",
    "\n",
    "操作是元素方面，无需在行中循环。\n",
    "\n",
    "使用字典或功能重命名行标签或列名。rename\n",
    "\"\"\"\n"
   ],
   "metadata": {
    "collapsed": false,
    "pycharm": {
     "name": "#%%\n"
    }
   }
  }
 ],
 "metadata": {
  "kernelspec": {
   "name": "pycharm-a57ffa67",
   "language": "python",
   "display_name": "PyCharm (yalin-scikit-learn)"
  },
  "language_info": {
   "codemirror_mode": {
    "name": "ipython",
    "version": 2
   },
   "file_extension": ".py",
   "mimetype": "text/x-python",
   "name": "python",
   "nbconvert_exporter": "python",
   "pygments_lexer": "ipython2",
   "version": "2.7.6"
  }
 },
 "nbformat": 4,
 "nbformat_minor": 0
}