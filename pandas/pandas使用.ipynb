{
 "cells": [
  {
   "cell_type": "code",
   "execution_count": 6,
   "id": "a2e723a8-aadb-4c7e-810d-0db381844efb",
   "metadata": {},
   "outputs": [],
   "source": [
    "import sys\n",
    "\n",
    "import numpy as np\n",
    "\n",
    "import pandas as pd"
   ]
  },
  {
   "cell_type": "code",
   "execution_count": 7,
   "id": "2f9e5699-dae2-4ced-b244-637376eb33a0",
   "metadata": {},
   "outputs": [
    {
     "name": "stdout",
     "output_type": "stream",
     "text": [
      "3.9.7 | packaged by conda-forge | (default, Sep 29 2021, 19:15:42) [MSC v.1916 64 bit (AMD64)]\n"
     ]
    }
   ],
   "source": [
    "print(sys.version)"
   ]
  },
  {
   "cell_type": "markdown",
   "id": "6324a1af-ed57-4e66-aeee-945dcd79c3b0",
   "metadata": {},
   "source": [
    "#### 对象创建\n"
   ]
  },
  {
   "cell_type": "code",
   "execution_count": 8,
   "id": "dc798ef2-167f-40b2-842f-9686b4ec6808",
   "metadata": {},
   "outputs": [
    {
     "data": {
      "text/plain": "0    1.0\n1    3.0\n2    5.0\n3    NaN\n4    6.0\n5    8.0\ndtype: float64"
     },
     "execution_count": 8,
     "metadata": {},
     "output_type": "execute_result"
    }
   ],
   "source": [
    "# 通过传递值列表创建\n",
    "s = pd.Series([1, 3, 5, np.nan, 6, 8])\n",
    "s"
   ]
  },
  {
   "cell_type": "code",
   "execution_count": 9,
   "id": "a44de650-346c-42d3-b71b-b558d6d7aa1a",
   "metadata": {},
   "outputs": [
    {
     "data": {
      "text/plain": "DatetimeIndex(['2013-01-01', '2013-01-02', '2013-01-03', '2013-01-04',\n               '2013-01-05', '2013-01-06'],\n              dtype='datetime64[ns]', freq='D')"
     },
     "execution_count": 9,
     "metadata": {},
     "output_type": "execute_result"
    }
   ],
   "source": [
    "# 通过 NumPy 阵列创建数据帧，其中带有日期时间索引和标记列：\n",
    "dates = pd.date_range(\"20130101\", periods=6)\n",
    "dates"
   ]
  },
  {
   "cell_type": "code",
   "execution_count": 10,
   "id": "3958e708-b980-4530-be6b-baac3779b75b",
   "metadata": {},
   "outputs": [
    {
     "data": {
      "text/plain": "                   A         B         C         d\n2013-01-01  1.479098 -1.963024  0.607703  0.454752\n2013-01-02  0.891101  1.385257 -1.291298  0.955918\n2013-01-03  0.260225 -0.222421  0.460448 -1.363150\n2013-01-04  0.679520 -0.214220  0.749371 -0.411783\n2013-01-05  1.707891  0.091873  0.387497 -0.675916\n2013-01-06  0.752734  1.562349  1.347751 -0.109075",
      "text/html": "<div>\n<style scoped>\n    .dataframe tbody tr th:only-of-type {\n        vertical-align: middle;\n    }\n\n    .dataframe tbody tr th {\n        vertical-align: top;\n    }\n\n    .dataframe thead th {\n        text-align: right;\n    }\n</style>\n<table border=\"1\" class=\"dataframe\">\n  <thead>\n    <tr style=\"text-align: right;\">\n      <th></th>\n      <th>A</th>\n      <th>B</th>\n      <th>C</th>\n      <th>d</th>\n    </tr>\n  </thead>\n  <tbody>\n    <tr>\n      <th>2013-01-01</th>\n      <td>1.479098</td>\n      <td>-1.963024</td>\n      <td>0.607703</td>\n      <td>0.454752</td>\n    </tr>\n    <tr>\n      <th>2013-01-02</th>\n      <td>0.891101</td>\n      <td>1.385257</td>\n      <td>-1.291298</td>\n      <td>0.955918</td>\n    </tr>\n    <tr>\n      <th>2013-01-03</th>\n      <td>0.260225</td>\n      <td>-0.222421</td>\n      <td>0.460448</td>\n      <td>-1.363150</td>\n    </tr>\n    <tr>\n      <th>2013-01-04</th>\n      <td>0.679520</td>\n      <td>-0.214220</td>\n      <td>0.749371</td>\n      <td>-0.411783</td>\n    </tr>\n    <tr>\n      <th>2013-01-05</th>\n      <td>1.707891</td>\n      <td>0.091873</td>\n      <td>0.387497</td>\n      <td>-0.675916</td>\n    </tr>\n    <tr>\n      <th>2013-01-06</th>\n      <td>0.752734</td>\n      <td>1.562349</td>\n      <td>1.347751</td>\n      <td>-0.109075</td>\n    </tr>\n  </tbody>\n</table>\n</div>"
     },
     "execution_count": 10,
     "metadata": {},
     "output_type": "execute_result"
    }
   ],
   "source": [
    "df = pd.DataFrame(np.random.randn(6, 4), index=dates, columns=list(\"ABCd\"))\n",
    "df"
   ]
  },
  {
   "cell_type": "code",
   "execution_count": 11,
   "id": "4c1ee31d-7753-4f36-bbe9-cf6422ff2cca",
   "metadata": {},
   "outputs": [
    {
     "data": {
      "text/plain": "     A          B    C  D      E    F\n0  1.0 2013-01-02  1.0  3   test  foo\n1  1.0 2013-01-02  1.0  3  train  foo\n2  1.0 2013-01-02  1.0  3   test  foo\n3  1.0 2013-01-02  1.0  3  train  foo",
      "text/html": "<div>\n<style scoped>\n    .dataframe tbody tr th:only-of-type {\n        vertical-align: middle;\n    }\n\n    .dataframe tbody tr th {\n        vertical-align: top;\n    }\n\n    .dataframe thead th {\n        text-align: right;\n    }\n</style>\n<table border=\"1\" class=\"dataframe\">\n  <thead>\n    <tr style=\"text-align: right;\">\n      <th></th>\n      <th>A</th>\n      <th>B</th>\n      <th>C</th>\n      <th>D</th>\n      <th>E</th>\n      <th>F</th>\n    </tr>\n  </thead>\n  <tbody>\n    <tr>\n      <th>0</th>\n      <td>1.0</td>\n      <td>2013-01-02</td>\n      <td>1.0</td>\n      <td>3</td>\n      <td>test</td>\n      <td>foo</td>\n    </tr>\n    <tr>\n      <th>1</th>\n      <td>1.0</td>\n      <td>2013-01-02</td>\n      <td>1.0</td>\n      <td>3</td>\n      <td>train</td>\n      <td>foo</td>\n    </tr>\n    <tr>\n      <th>2</th>\n      <td>1.0</td>\n      <td>2013-01-02</td>\n      <td>1.0</td>\n      <td>3</td>\n      <td>test</td>\n      <td>foo</td>\n    </tr>\n    <tr>\n      <th>3</th>\n      <td>1.0</td>\n      <td>2013-01-02</td>\n      <td>1.0</td>\n      <td>3</td>\n      <td>train</td>\n      <td>foo</td>\n    </tr>\n  </tbody>\n</table>\n</div>"
     },
     "execution_count": 11,
     "metadata": {},
     "output_type": "execute_result"
    }
   ],
   "source": [
    "# 通过传递可转换为类似系列的对象的听写来创建数据帧。\n",
    "df2 = pd.DataFrame(\n",
    "    {\n",
    "        \"A\": 1.0,\n",
    "        \"B\": pd.Timestamp(\"20130102\"),\n",
    "        \"C\": pd.Series(1, index=list(range(4)), dtype=\"float32\"),\n",
    "        \"D\": np.array([3] * 4, dtype=\"int32\"),\n",
    "        \"E\": pd.Categorical([\"test\", \"train\", \"test\", \"train\"]),\n",
    "        \"F\": \"foo\",\n",
    "    }\n",
    ")\n",
    "df2"
   ]
  },
  {
   "cell_type": "code",
   "execution_count": 12,
   "id": "0ce56108-f878-4d90-8c67-c7f761ef8be1",
   "metadata": {},
   "outputs": [
    {
     "data": {
      "text/plain": "Timestamp('2013-01-02 00:00:00')"
     },
     "execution_count": 12,
     "metadata": {},
     "output_type": "execute_result"
    }
   ],
   "source": [
    "pd.Timestamp(\"20130102\")"
   ]
  },
  {
   "cell_type": "code",
   "execution_count": 13,
   "outputs": [
    {
     "data": {
      "text/plain": "A           float64\nB    datetime64[ns]\nC           float32\nD             int32\nE          category\nF            object\ndtype: object"
     },
     "execution_count": 13,
     "metadata": {},
     "output_type": "execute_result"
    }
   ],
   "source": [
    "# 生成的数据帧的列具有不同的 d型。\n",
    "df2.dtypes"
   ],
   "metadata": {
    "collapsed": false,
    "pycharm": {
     "name": "#%%\n"
    }
   }
  },
  {
   "cell_type": "markdown",
   "id": "a2707c62-64fe-4d01-b28c-d5bb3dd9542f",
   "metadata": {},
   "source": [
    "# 查看数据"
   ]
  },
  {
   "cell_type": "raw",
   "id": "9500162f-7a58-4678-942b-c29a8d19e00f",
   "metadata": {},
   "source": [
    "以下是如何查看框架的顶部和底部行："
   ]
  },
  {
   "cell_type": "code",
   "execution_count": 14,
   "id": "afd9d0b0-68f6-4315-a8c5-b55f22d7b244",
   "metadata": {},
   "outputs": [
    {
     "data": {
      "text/plain": "                   A         B         C         d\n2013-01-01  1.479098 -1.963024  0.607703  0.454752\n2013-01-02  0.891101  1.385257 -1.291298  0.955918\n2013-01-03  0.260225 -0.222421  0.460448 -1.363150\n2013-01-04  0.679520 -0.214220  0.749371 -0.411783",
      "text/html": "<div>\n<style scoped>\n    .dataframe tbody tr th:only-of-type {\n        vertical-align: middle;\n    }\n\n    .dataframe tbody tr th {\n        vertical-align: top;\n    }\n\n    .dataframe thead th {\n        text-align: right;\n    }\n</style>\n<table border=\"1\" class=\"dataframe\">\n  <thead>\n    <tr style=\"text-align: right;\">\n      <th></th>\n      <th>A</th>\n      <th>B</th>\n      <th>C</th>\n      <th>d</th>\n    </tr>\n  </thead>\n  <tbody>\n    <tr>\n      <th>2013-01-01</th>\n      <td>1.479098</td>\n      <td>-1.963024</td>\n      <td>0.607703</td>\n      <td>0.454752</td>\n    </tr>\n    <tr>\n      <th>2013-01-02</th>\n      <td>0.891101</td>\n      <td>1.385257</td>\n      <td>-1.291298</td>\n      <td>0.955918</td>\n    </tr>\n    <tr>\n      <th>2013-01-03</th>\n      <td>0.260225</td>\n      <td>-0.222421</td>\n      <td>0.460448</td>\n      <td>-1.363150</td>\n    </tr>\n    <tr>\n      <th>2013-01-04</th>\n      <td>0.679520</td>\n      <td>-0.214220</td>\n      <td>0.749371</td>\n      <td>-0.411783</td>\n    </tr>\n  </tbody>\n</table>\n</div>"
     },
     "execution_count": 14,
     "metadata": {},
     "output_type": "execute_result"
    }
   ],
   "source": [
    "df.head(4)"
   ]
  },
  {
   "cell_type": "code",
   "execution_count": 15,
   "id": "51b5bf60-b1b5-4bdc-b761-de1915a0c0ac",
   "metadata": {},
   "outputs": [
    {
     "data": {
      "text/plain": "     A          B    C  D      E    F\n0  1.0 2013-01-02  1.0  3   test  foo\n1  1.0 2013-01-02  1.0  3  train  foo\n2  1.0 2013-01-02  1.0  3   test  foo\n3  1.0 2013-01-02  1.0  3  train  foo",
      "text/html": "<div>\n<style scoped>\n    .dataframe tbody tr th:only-of-type {\n        vertical-align: middle;\n    }\n\n    .dataframe tbody tr th {\n        vertical-align: top;\n    }\n\n    .dataframe thead th {\n        text-align: right;\n    }\n</style>\n<table border=\"1\" class=\"dataframe\">\n  <thead>\n    <tr style=\"text-align: right;\">\n      <th></th>\n      <th>A</th>\n      <th>B</th>\n      <th>C</th>\n      <th>D</th>\n      <th>E</th>\n      <th>F</th>\n    </tr>\n  </thead>\n  <tbody>\n    <tr>\n      <th>0</th>\n      <td>1.0</td>\n      <td>2013-01-02</td>\n      <td>1.0</td>\n      <td>3</td>\n      <td>test</td>\n      <td>foo</td>\n    </tr>\n    <tr>\n      <th>1</th>\n      <td>1.0</td>\n      <td>2013-01-02</td>\n      <td>1.0</td>\n      <td>3</td>\n      <td>train</td>\n      <td>foo</td>\n    </tr>\n    <tr>\n      <th>2</th>\n      <td>1.0</td>\n      <td>2013-01-02</td>\n      <td>1.0</td>\n      <td>3</td>\n      <td>test</td>\n      <td>foo</td>\n    </tr>\n    <tr>\n      <th>3</th>\n      <td>1.0</td>\n      <td>2013-01-02</td>\n      <td>1.0</td>\n      <td>3</td>\n      <td>train</td>\n      <td>foo</td>\n    </tr>\n  </tbody>\n</table>\n</div>"
     },
     "execution_count": 15,
     "metadata": {},
     "output_type": "execute_result"
    }
   ],
   "source": [
    "df2.tail(4)"
   ]
  },
  {
   "cell_type": "code",
   "execution_count": 15,
   "id": "8f1a15aa-b400-42d7-b734-db18988487ad",
   "metadata": {},
   "outputs": [],
   "source": []
  },
  {
   "cell_type": "markdown",
   "id": "6824132f-a76b-4d52-a612-9f0bd29d1142",
   "metadata": {},
   "source": [
    "显示索引、列："
   ]
  },
  {
   "cell_type": "code",
   "execution_count": 15,
   "id": "b4b2acdb-034a-4807-8260-67e95cd02fb3",
   "metadata": {},
   "outputs": [],
   "source": []
  }
 ],
 "metadata": {
  "kernelspec": {
   "name": "pycharm-a57ffa67",
   "language": "python",
   "display_name": "PyCharm (yalin-scikit-learn)"
  },
  "language_info": {
   "codemirror_mode": {
    "name": "ipython",
    "version": 3
   },
   "file_extension": ".py",
   "mimetype": "text/x-python",
   "name": "python",
   "nbconvert_exporter": "python",
   "pygments_lexer": "ipython3",
   "version": "3.8.12"
  },
  "toc-autonumbering": true,
  "toc-showcode": true,
  "toc-showmarkdowntxt": true,
  "toc-showtags": true
 },
 "nbformat": 4,
 "nbformat_minor": 5
}