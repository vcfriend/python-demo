{
 "cells": [
  {
   "cell_type": "code",
   "execution_count": 101,
   "metadata": {
    "collapsed": true
   },
   "outputs": [],
   "source": [
    "# coding: utf-8\n",
    "import pandas as pd\n",
    "import matplotlib.pyplot as plt"
   ]
  },
  {
   "cell_type": "code",
   "execution_count": 102,
   "outputs": [
    {
     "data": {
      "text/plain": "    city country                   date.utc location parameter  value   unit\n0  Paris      FR  2019-06-21 00:00:00+00:00  FR04014       no2   20.0  µg/m³\n1  Paris      FR  2019-06-20 23:00:00+00:00  FR04014       no2   21.8  µg/m³\n2  Paris      FR  2019-06-20 22:00:00+00:00  FR04014       no2   26.5  µg/m³\n3  Paris      FR  2019-06-20 21:00:00+00:00  FR04014       no2   24.9  µg/m³\n4  Paris      FR  2019-06-20 20:00:00+00:00  FR04014       no2   21.4  µg/m³",
      "text/html": "<div>\n<style scoped>\n    .dataframe tbody tr th:only-of-type {\n        vertical-align: middle;\n    }\n\n    .dataframe tbody tr th {\n        vertical-align: top;\n    }\n\n    .dataframe thead th {\n        text-align: right;\n    }\n</style>\n<table border=\"1\" class=\"dataframe\">\n  <thead>\n    <tr style=\"text-align: right;\">\n      <th></th>\n      <th>city</th>\n      <th>country</th>\n      <th>date.utc</th>\n      <th>location</th>\n      <th>parameter</th>\n      <th>value</th>\n      <th>unit</th>\n    </tr>\n  </thead>\n  <tbody>\n    <tr>\n      <th>0</th>\n      <td>Paris</td>\n      <td>FR</td>\n      <td>2019-06-21 00:00:00+00:00</td>\n      <td>FR04014</td>\n      <td>no2</td>\n      <td>20.0</td>\n      <td>µg/m³</td>\n    </tr>\n    <tr>\n      <th>1</th>\n      <td>Paris</td>\n      <td>FR</td>\n      <td>2019-06-20 23:00:00+00:00</td>\n      <td>FR04014</td>\n      <td>no2</td>\n      <td>21.8</td>\n      <td>µg/m³</td>\n    </tr>\n    <tr>\n      <th>2</th>\n      <td>Paris</td>\n      <td>FR</td>\n      <td>2019-06-20 22:00:00+00:00</td>\n      <td>FR04014</td>\n      <td>no2</td>\n      <td>26.5</td>\n      <td>µg/m³</td>\n    </tr>\n    <tr>\n      <th>3</th>\n      <td>Paris</td>\n      <td>FR</td>\n      <td>2019-06-20 21:00:00+00:00</td>\n      <td>FR04014</td>\n      <td>no2</td>\n      <td>24.9</td>\n      <td>µg/m³</td>\n    </tr>\n    <tr>\n      <th>4</th>\n      <td>Paris</td>\n      <td>FR</td>\n      <td>2019-06-20 20:00:00+00:00</td>\n      <td>FR04014</td>\n      <td>no2</td>\n      <td>21.4</td>\n      <td>µg/m³</td>\n    </tr>\n  </tbody>\n</table>\n</div>"
     },
     "execution_count": 102,
     "metadata": {},
     "output_type": "execute_result"
    }
   ],
   "source": [
    "# 加载空气质量数据\n",
    "air_quality = pd.read_csv(\"data/air_quality_no2_long.csv\")\n",
    "air_quality.head()"
   ],
   "metadata": {
    "collapsed": false,
    "pycharm": {
     "name": "#%%\n"
    }
   }
  },
  {
   "cell_type": "code",
   "execution_count": 124,
   "outputs": [
    {
     "data": {
      "text/plain": "city                      object\ncountry                   object\ndatetime     datetime64[ns, UTC]\nlocation                  object\nparameter                 object\nvalue                    float64\nunit                      object\nmonth                      int64\ndtype: object"
     },
     "execution_count": 124,
     "metadata": {},
     "output_type": "execute_result"
    }
   ],
   "source": [
    "air_quality.dtypes"
   ],
   "metadata": {
    "collapsed": false,
    "pycharm": {
     "name": "#%%\n"
    }
   }
  },
  {
   "cell_type": "code",
   "execution_count": 103,
   "outputs": [
    {
     "data": {
      "text/plain": "    city country                   datetime location parameter  value   unit\n0  Paris      FR  2019-06-21 00:00:00+00:00  FR04014       no2   20.0  µg/m³\n1  Paris      FR  2019-06-20 23:00:00+00:00  FR04014       no2   21.8  µg/m³\n2  Paris      FR  2019-06-20 22:00:00+00:00  FR04014       no2   26.5  µg/m³\n3  Paris      FR  2019-06-20 21:00:00+00:00  FR04014       no2   24.9  µg/m³\n4  Paris      FR  2019-06-20 20:00:00+00:00  FR04014       no2   21.4  µg/m³",
      "text/html": "<div>\n<style scoped>\n    .dataframe tbody tr th:only-of-type {\n        vertical-align: middle;\n    }\n\n    .dataframe tbody tr th {\n        vertical-align: top;\n    }\n\n    .dataframe thead th {\n        text-align: right;\n    }\n</style>\n<table border=\"1\" class=\"dataframe\">\n  <thead>\n    <tr style=\"text-align: right;\">\n      <th></th>\n      <th>city</th>\n      <th>country</th>\n      <th>datetime</th>\n      <th>location</th>\n      <th>parameter</th>\n      <th>value</th>\n      <th>unit</th>\n    </tr>\n  </thead>\n  <tbody>\n    <tr>\n      <th>0</th>\n      <td>Paris</td>\n      <td>FR</td>\n      <td>2019-06-21 00:00:00+00:00</td>\n      <td>FR04014</td>\n      <td>no2</td>\n      <td>20.0</td>\n      <td>µg/m³</td>\n    </tr>\n    <tr>\n      <th>1</th>\n      <td>Paris</td>\n      <td>FR</td>\n      <td>2019-06-20 23:00:00+00:00</td>\n      <td>FR04014</td>\n      <td>no2</td>\n      <td>21.8</td>\n      <td>µg/m³</td>\n    </tr>\n    <tr>\n      <th>2</th>\n      <td>Paris</td>\n      <td>FR</td>\n      <td>2019-06-20 22:00:00+00:00</td>\n      <td>FR04014</td>\n      <td>no2</td>\n      <td>26.5</td>\n      <td>µg/m³</td>\n    </tr>\n    <tr>\n      <th>3</th>\n      <td>Paris</td>\n      <td>FR</td>\n      <td>2019-06-20 21:00:00+00:00</td>\n      <td>FR04014</td>\n      <td>no2</td>\n      <td>24.9</td>\n      <td>µg/m³</td>\n    </tr>\n    <tr>\n      <th>4</th>\n      <td>Paris</td>\n      <td>FR</td>\n      <td>2019-06-20 20:00:00+00:00</td>\n      <td>FR04014</td>\n      <td>no2</td>\n      <td>21.4</td>\n      <td>µg/m³</td>\n    </tr>\n  </tbody>\n</table>\n</div>"
     },
     "execution_count": 103,
     "metadata": {},
     "output_type": "execute_result"
    }
   ],
   "source": [
    "# 列名更改为datetime\n",
    "air_quality = air_quality.rename(columns={\"date.utc\": \"datetime\"})\n",
    "air_quality.head()"
   ],
   "metadata": {
    "collapsed": false,
    "pycharm": {
     "name": "#%%\n"
    }
   }
  },
  {
   "cell_type": "code",
   "execution_count": 104,
   "outputs": [
    {
     "data": {
      "text/plain": "array(['Paris', 'Antwerpen', 'London'], dtype=object)"
     },
     "execution_count": 104,
     "metadata": {},
     "output_type": "execute_result"
    }
   ],
   "source": [
    "air_quality.city.unique()"
   ],
   "metadata": {
    "collapsed": false,
    "pycharm": {
     "name": "#%%\n"
    }
   }
  },
  {
   "cell_type": "code",
   "execution_count": 104,
   "outputs": [],
   "source": [],
   "metadata": {
    "collapsed": false,
    "pycharm": {
     "name": "#%%\n"
    }
   }
  },
  {
   "cell_type": "markdown",
   "source": [
    "#### 空气质量数据"
   ],
   "metadata": {
    "collapsed": false
   }
  },
  {
   "cell_type": "code",
   "execution_count": 105,
   "outputs": [
    {
     "data": {
      "text/plain": "0      2019-06-21 00:00:00+00:00\n1      2019-06-20 23:00:00+00:00\n2      2019-06-20 22:00:00+00:00\n3      2019-06-20 21:00:00+00:00\n4      2019-06-20 20:00:00+00:00\n                  ...           \n2063   2019-05-07 06:00:00+00:00\n2064   2019-05-07 04:00:00+00:00\n2065   2019-05-07 03:00:00+00:00\n2066   2019-05-07 02:00:00+00:00\n2067   2019-05-07 01:00:00+00:00\nName: datetime, Length: 2068, dtype: datetime64[ns, UTC]"
     },
     "execution_count": 105,
     "metadata": {},
     "output_type": "execute_result"
    }
   ],
   "source": [
    "# 我想将列中的日期作为日期对象而不是纯文本datetime\n",
    "air_quality[\"datetime\"] = pd.to_datetime(air_quality[\"datetime\"])\n",
    "air_quality[\"datetime\"]"
   ],
   "metadata": {
    "collapsed": false,
    "pycharm": {
     "name": "#%%\n"
    }
   }
  },
  {
   "cell_type": "code",
   "execution_count": 106,
   "outputs": [
    {
     "data": {
      "text/plain": "    city country                  datetime location parameter  value   unit\n0  Paris      FR 2019-06-21 00:00:00+00:00  FR04014       no2   20.0  µg/m³",
      "text/html": "<div>\n<style scoped>\n    .dataframe tbody tr th:only-of-type {\n        vertical-align: middle;\n    }\n\n    .dataframe tbody tr th {\n        vertical-align: top;\n    }\n\n    .dataframe thead th {\n        text-align: right;\n    }\n</style>\n<table border=\"1\" class=\"dataframe\">\n  <thead>\n    <tr style=\"text-align: right;\">\n      <th></th>\n      <th>city</th>\n      <th>country</th>\n      <th>datetime</th>\n      <th>location</th>\n      <th>parameter</th>\n      <th>value</th>\n      <th>unit</th>\n    </tr>\n  </thead>\n  <tbody>\n    <tr>\n      <th>0</th>\n      <td>Paris</td>\n      <td>FR</td>\n      <td>2019-06-21 00:00:00+00:00</td>\n      <td>FR04014</td>\n      <td>no2</td>\n      <td>20.0</td>\n      <td>µg/m³</td>\n    </tr>\n  </tbody>\n</table>\n</div>"
     },
     "execution_count": 106,
     "metadata": {},
     "output_type": "execute_result"
    }
   ],
   "source": [
    "# 最初，其中的值是字符串，不提供任何datetime操作(例如，提取年份、星期几……)。\n",
    "# 通过应用该函数，pandas解释字符串并将其转换为datetime(即)对象。在pandas中，\n",
    "# 我们将这些datetime对象称为panda . timestamp，类似于标准库中的对象。\n",
    "# datetimeto_datetimedatetime64 datetime.datetime (ns, UTC)\n",
    "air_quality.head(1)"
   ],
   "metadata": {
    "collapsed": false,
    "pycharm": {
     "name": "#%%\n"
    }
   }
  },
  {
   "cell_type": "code",
   "execution_count": 107,
   "outputs": [
    {
     "data": {
      "text/plain": "        city country                  date.utc            location parameter  \\\n0      Paris      FR 2019-06-21 00:00:00+00:00             FR04014       no2   \n1      Paris      FR 2019-06-20 23:00:00+00:00             FR04014       no2   \n2      Paris      FR 2019-06-20 22:00:00+00:00             FR04014       no2   \n3      Paris      FR 2019-06-20 21:00:00+00:00             FR04014       no2   \n4      Paris      FR 2019-06-20 20:00:00+00:00             FR04014       no2   \n...      ...     ...                       ...                 ...       ...   \n2063  London      GB 2019-05-07 06:00:00+00:00  London Westminster       no2   \n2064  London      GB 2019-05-07 04:00:00+00:00  London Westminster       no2   \n2065  London      GB 2019-05-07 03:00:00+00:00  London Westminster       no2   \n2066  London      GB 2019-05-07 02:00:00+00:00  London Westminster       no2   \n2067  London      GB 2019-05-07 01:00:00+00:00  London Westminster       no2   \n\n      value   unit  \n0      20.0  µg/m³  \n1      21.8  µg/m³  \n2      26.5  µg/m³  \n3      24.9  µg/m³  \n4      21.4  µg/m³  \n...     ...    ...  \n2063   26.0  µg/m³  \n2064   16.0  µg/m³  \n2065   19.0  µg/m³  \n2066   19.0  µg/m³  \n2067   23.0  µg/m³  \n\n[2068 rows x 7 columns]",
      "text/html": "<div>\n<style scoped>\n    .dataframe tbody tr th:only-of-type {\n        vertical-align: middle;\n    }\n\n    .dataframe tbody tr th {\n        vertical-align: top;\n    }\n\n    .dataframe thead th {\n        text-align: right;\n    }\n</style>\n<table border=\"1\" class=\"dataframe\">\n  <thead>\n    <tr style=\"text-align: right;\">\n      <th></th>\n      <th>city</th>\n      <th>country</th>\n      <th>date.utc</th>\n      <th>location</th>\n      <th>parameter</th>\n      <th>value</th>\n      <th>unit</th>\n    </tr>\n  </thead>\n  <tbody>\n    <tr>\n      <th>0</th>\n      <td>Paris</td>\n      <td>FR</td>\n      <td>2019-06-21 00:00:00+00:00</td>\n      <td>FR04014</td>\n      <td>no2</td>\n      <td>20.0</td>\n      <td>µg/m³</td>\n    </tr>\n    <tr>\n      <th>1</th>\n      <td>Paris</td>\n      <td>FR</td>\n      <td>2019-06-20 23:00:00+00:00</td>\n      <td>FR04014</td>\n      <td>no2</td>\n      <td>21.8</td>\n      <td>µg/m³</td>\n    </tr>\n    <tr>\n      <th>2</th>\n      <td>Paris</td>\n      <td>FR</td>\n      <td>2019-06-20 22:00:00+00:00</td>\n      <td>FR04014</td>\n      <td>no2</td>\n      <td>26.5</td>\n      <td>µg/m³</td>\n    </tr>\n    <tr>\n      <th>3</th>\n      <td>Paris</td>\n      <td>FR</td>\n      <td>2019-06-20 21:00:00+00:00</td>\n      <td>FR04014</td>\n      <td>no2</td>\n      <td>24.9</td>\n      <td>µg/m³</td>\n    </tr>\n    <tr>\n      <th>4</th>\n      <td>Paris</td>\n      <td>FR</td>\n      <td>2019-06-20 20:00:00+00:00</td>\n      <td>FR04014</td>\n      <td>no2</td>\n      <td>21.4</td>\n      <td>µg/m³</td>\n    </tr>\n    <tr>\n      <th>...</th>\n      <td>...</td>\n      <td>...</td>\n      <td>...</td>\n      <td>...</td>\n      <td>...</td>\n      <td>...</td>\n      <td>...</td>\n    </tr>\n    <tr>\n      <th>2063</th>\n      <td>London</td>\n      <td>GB</td>\n      <td>2019-05-07 06:00:00+00:00</td>\n      <td>London Westminster</td>\n      <td>no2</td>\n      <td>26.0</td>\n      <td>µg/m³</td>\n    </tr>\n    <tr>\n      <th>2064</th>\n      <td>London</td>\n      <td>GB</td>\n      <td>2019-05-07 04:00:00+00:00</td>\n      <td>London Westminster</td>\n      <td>no2</td>\n      <td>16.0</td>\n      <td>µg/m³</td>\n    </tr>\n    <tr>\n      <th>2065</th>\n      <td>London</td>\n      <td>GB</td>\n      <td>2019-05-07 03:00:00+00:00</td>\n      <td>London Westminster</td>\n      <td>no2</td>\n      <td>19.0</td>\n      <td>µg/m³</td>\n    </tr>\n    <tr>\n      <th>2066</th>\n      <td>London</td>\n      <td>GB</td>\n      <td>2019-05-07 02:00:00+00:00</td>\n      <td>London Westminster</td>\n      <td>no2</td>\n      <td>19.0</td>\n      <td>µg/m³</td>\n    </tr>\n    <tr>\n      <th>2067</th>\n      <td>London</td>\n      <td>GB</td>\n      <td>2019-05-07 01:00:00+00:00</td>\n      <td>London Westminster</td>\n      <td>no2</td>\n      <td>23.0</td>\n      <td>µg/m³</td>\n    </tr>\n  </tbody>\n</table>\n<p>2068 rows × 7 columns</p>\n</div>"
     },
     "execution_count": 107,
     "metadata": {},
     "output_type": "execute_result"
    }
   ],
   "source": [
    "# 尽可能多的数据集包含在一个datetime信息列,熊猫输入函数像pandas.read_csv()\n",
    "# 和可以转换日期在读取数据时使用的参数列表的列读取时间戳:\n",
    "# pandas.read_json parse_dates (\"读取文件列名\")\n",
    "pd.read_csv(filepath_or_buffer=\"./data/air_quality_no2_long.csv\",\n",
    "            parse_dates=[\"date.utc\"])"
   ],
   "metadata": {
    "collapsed": false,
    "pycharm": {
     "name": "#%%\n"
    }
   }
  },
  {
   "cell_type": "code",
   "execution_count": 108,
   "outputs": [
    {
     "data": {
      "text/plain": "(Timestamp('2019-05-07 01:00:00+0000', tz='UTC'),\n Timestamp('2019-06-21 00:00:00+0000', tz='UTC'))"
     },
     "execution_count": 108,
     "metadata": {},
     "output_type": "execute_result"
    }
   ],
   "source": [
    "# 为什么这些熊猫。时间戳对象有用吗?让我们用一些示例案例来说明附加价值。\n",
    "# 我们正在处理的时间序列数据集的开始和结束日期是什么?\n",
    "air_quality[\"datetime\"].min(), air_quality[\"datetime\"].max()"
   ],
   "metadata": {
    "collapsed": false,
    "pycharm": {
     "name": "#%%\n"
    }
   }
  },
  {
   "cell_type": "code",
   "execution_count": 109,
   "outputs": [
    {
     "data": {
      "text/plain": "Timedelta('44 days 23:00:00')"
     },
     "execution_count": 109,
     "metadata": {},
     "output_type": "execute_result"
    }
   ],
   "source": [
    "# 使用熊猫。用于datetimes的时间戳使我们能够使用日期信息进行计算，并使它们具有可比性。\n",
    "# 因此，我们可以使用它来得到时间序列的长度:\n",
    "air_quality[\"datetime\"].max() - air_quality[\"datetime\"].min()\n"
   ],
   "metadata": {
    "collapsed": false,
    "pycharm": {
     "name": "#%%\n"
    }
   }
  },
  {
   "cell_type": "code",
   "execution_count": 110,
   "outputs": [
    {
     "name": "stdout",
     "output_type": "stream",
     "text": [
      "    city country                  datetime location parameter  value   unit\n",
      "0  Paris      FR 2019-06-21 00:00:00+00:00  FR04014       no2   20.0  µg/m³\n",
      "1  Paris      FR 2019-06-20 23:00:00+00:00  FR04014       no2   21.8  µg/m³\n",
      "2  Paris      FR 2019-06-20 22:00:00+00:00  FR04014       no2   26.5  µg/m³\n",
      "3  Paris      FR 2019-06-20 21:00:00+00:00  FR04014       no2   24.9  µg/m³\n",
      "4  Paris      FR 2019-06-20 20:00:00+00:00  FR04014       no2   21.4  µg/m³\n"
     ]
    }
   ],
   "source": [
    "# 结果是一只熊猫。对象，类似于标准Python库中的对象，并定义了一个持续时间\n",
    "print(air_quality.head())"
   ],
   "metadata": {
    "collapsed": false,
    "pycharm": {
     "name": "#%%\n"
    }
   }
  },
  {
   "cell_type": "markdown",
   "source": [
    "#### 我想在仅包含测量月份的列中添加一个新列DataFrame"
   ],
   "metadata": {
    "collapsed": false,
    "pycharm": {
     "name": "#%% md\n"
    }
   }
  },
  {
   "cell_type": "code",
   "execution_count": 111,
   "outputs": [
    {
     "data": {
      "text/plain": "    city country                  datetime location parameter  value   unit  \\\n0  Paris      FR 2019-06-21 00:00:00+00:00  FR04014       no2   20.0  µg/m³   \n1  Paris      FR 2019-06-20 23:00:00+00:00  FR04014       no2   21.8  µg/m³   \n2  Paris      FR 2019-06-20 22:00:00+00:00  FR04014       no2   26.5  µg/m³   \n3  Paris      FR 2019-06-20 21:00:00+00:00  FR04014       no2   24.9  µg/m³   \n4  Paris      FR 2019-06-20 20:00:00+00:00  FR04014       no2   21.4  µg/m³   \n\n   month  \n0      6  \n1      6  \n2      6  \n3      6  \n4      6  ",
      "text/html": "<div>\n<style scoped>\n    .dataframe tbody tr th:only-of-type {\n        vertical-align: middle;\n    }\n\n    .dataframe tbody tr th {\n        vertical-align: top;\n    }\n\n    .dataframe thead th {\n        text-align: right;\n    }\n</style>\n<table border=\"1\" class=\"dataframe\">\n  <thead>\n    <tr style=\"text-align: right;\">\n      <th></th>\n      <th>city</th>\n      <th>country</th>\n      <th>datetime</th>\n      <th>location</th>\n      <th>parameter</th>\n      <th>value</th>\n      <th>unit</th>\n      <th>month</th>\n    </tr>\n  </thead>\n  <tbody>\n    <tr>\n      <th>0</th>\n      <td>Paris</td>\n      <td>FR</td>\n      <td>2019-06-21 00:00:00+00:00</td>\n      <td>FR04014</td>\n      <td>no2</td>\n      <td>20.0</td>\n      <td>µg/m³</td>\n      <td>6</td>\n    </tr>\n    <tr>\n      <th>1</th>\n      <td>Paris</td>\n      <td>FR</td>\n      <td>2019-06-20 23:00:00+00:00</td>\n      <td>FR04014</td>\n      <td>no2</td>\n      <td>21.8</td>\n      <td>µg/m³</td>\n      <td>6</td>\n    </tr>\n    <tr>\n      <th>2</th>\n      <td>Paris</td>\n      <td>FR</td>\n      <td>2019-06-20 22:00:00+00:00</td>\n      <td>FR04014</td>\n      <td>no2</td>\n      <td>26.5</td>\n      <td>µg/m³</td>\n      <td>6</td>\n    </tr>\n    <tr>\n      <th>3</th>\n      <td>Paris</td>\n      <td>FR</td>\n      <td>2019-06-20 21:00:00+00:00</td>\n      <td>FR04014</td>\n      <td>no2</td>\n      <td>24.9</td>\n      <td>µg/m³</td>\n      <td>6</td>\n    </tr>\n    <tr>\n      <th>4</th>\n      <td>Paris</td>\n      <td>FR</td>\n      <td>2019-06-20 20:00:00+00:00</td>\n      <td>FR04014</td>\n      <td>no2</td>\n      <td>21.4</td>\n      <td>µg/m³</td>\n      <td>6</td>\n    </tr>\n  </tbody>\n</table>\n</div>"
     },
     "execution_count": 111,
     "metadata": {},
     "output_type": "execute_result"
    }
   ],
   "source": [
    "# 我想在仅包含测量月份的列中添加一个新列DataFrame\n",
    "air_quality[\"month\"] = air_quality[\"datetime\"].dt.month\n",
    "air_quality.head()"
   ],
   "metadata": {
    "collapsed": false,
    "pycharm": {
     "name": "#%%\n"
    }
   }
  },
  {
   "cell_type": "markdown",
   "source": [
    "#### 每个测量地点每周每一天的平均浓度是什么？\n"
   ],
   "metadata": {
    "collapsed": false,
    "pycharm": {
     "name": "#%% md\n"
    }
   }
  },
  {
   "cell_type": "code",
   "execution_count": 112,
   "outputs": [
    {
     "data": {
      "text/plain": "datetime  location          \n0         BETR801               27.875000\n          FR04014               24.856250\n          London Westminster    23.969697\n1         BETR801               22.214286\n          FR04014               30.999359\n          London Westminster    24.885714\n2         BETR801               21.125000\n          FR04014               29.165753\n          London Westminster    23.460432\n3         BETR801               27.500000\n          FR04014               28.600690\n          London Westminster    24.780142\n4         BETR801               28.400000\n          FR04014               31.617986\n          London Westminster    26.446809\n5         BETR801               33.500000\n          FR04014               25.266154\n          London Westminster    24.977612\n6         BETR801               21.896552\n          FR04014               23.274306\n          London Westminster    24.859155\nName: value, dtype: float64"
     },
     "execution_count": 112,
     "metadata": {},
     "output_type": "execute_result"
    }
   ],
   "source": [
    "# 每个测量地点每周每一天的平均浓度是什么？\n",
    "air_quality.groupby(\n",
    "    [air_quality[\"datetime\"].dt.weekday, \"location\"]\n",
    ")[\"value\"].mean()"
   ],
   "metadata": {
    "collapsed": false,
    "pycharm": {
     "name": "#%%\n"
    }
   }
  },
  {
   "cell_type": "code",
   "execution_count": 113,
   "outputs": [
    {
     "data": {
      "text/plain": "<AxesSubplot:xlabel='datetime'>"
     },
     "execution_count": 113,
     "metadata": {},
     "output_type": "execute_result"
    },
    {
     "data": {
      "text/plain": "<Figure size 864x288 with 1 Axes>",
      "image/png": "[encoded data removed]"
     },
     "metadata": {
      "needs_background": "light"
     },
     "output_type": "display_data"
    }
   ],
   "source": [
    "# 将所有站的时间系列中的典型模式绘制在一起。\n",
    "# 换句话说，一天中每小时的平均值是怎样的？\n",
    "fig, axs = plt.subplots(figsize=(12, 4))\n",
    "air_quality.groupby(\n",
    "    air_quality[\"datetime\"].dt.hour\n",
    ")[\"value\"].mean().plot(kind='bar', rot=0, ax=axs)"
   ],
   "metadata": {
    "collapsed": false,
    "pycharm": {
     "name": "#%%\n"
    }
   }
  },
  {
   "cell_type": "code",
   "execution_count": 114,
   "outputs": [
    {
     "data": {
      "text/plain": "Text(0, 0.5, '$NO_2 (µg/m^3)')"
     },
     "execution_count": 114,
     "metadata": {},
     "output_type": "execute_result"
    },
    {
     "data": {
      "text/plain": "<Figure size 432x288 with 1 Axes>",
      "image/png": "[encoded data removed]"
     },
     "metadata": {
      "needs_background": "light"
     },
     "output_type": "display_data"
    }
   ],
   "source": [
    "plt.xlabel(\"Hour of the day\")\n",
    "plt.ylabel(\"$NO_2 (µg/m^3)\")"
   ],
   "metadata": {
    "collapsed": false,
    "pycharm": {
     "name": "#%%\n"
    }
   }
  },
  {
   "cell_type": "markdown",
   "source": [
    "#### 日期时间作为索引\n"
   ],
   "metadata": {
    "collapsed": false,
    "pycharm": {
     "name": "#%% md\n"
    }
   }
  },
  {
   "cell_type": "code",
   "execution_count": 115,
   "outputs": [
    {
     "data": {
      "text/plain": "location                   BETR801  FR04014  London Westminster\ndatetime                                                       \n2019-05-07 01:00:00+00:00     50.5     25.0                23.0\n2019-05-07 02:00:00+00:00     45.0     27.7                19.0\n2019-05-07 03:00:00+00:00      NaN     50.4                19.0\n2019-05-07 04:00:00+00:00      NaN     61.9                16.0\n2019-05-07 05:00:00+00:00      NaN     72.4                 NaN",
      "text/html": "<div>\n<style scoped>\n    .dataframe tbody tr th:only-of-type {\n        vertical-align: middle;\n    }\n\n    .dataframe tbody tr th {\n        vertical-align: top;\n    }\n\n    .dataframe thead th {\n        text-align: right;\n    }\n</style>\n<table border=\"1\" class=\"dataframe\">\n  <thead>\n    <tr style=\"text-align: right;\">\n      <th>location</th>\n      <th>BETR801</th>\n      <th>FR04014</th>\n      <th>London Westminster</th>\n    </tr>\n    <tr>\n      <th>datetime</th>\n      <th></th>\n      <th></th>\n      <th></th>\n    </tr>\n  </thead>\n  <tbody>\n    <tr>\n      <th>2019-05-07 01:00:00+00:00</th>\n      <td>50.5</td>\n      <td>25.0</td>\n      <td>23.0</td>\n    </tr>\n    <tr>\n      <th>2019-05-07 02:00:00+00:00</th>\n      <td>45.0</td>\n      <td>27.7</td>\n      <td>19.0</td>\n    </tr>\n    <tr>\n      <th>2019-05-07 03:00:00+00:00</th>\n      <td>NaN</td>\n      <td>50.4</td>\n      <td>19.0</td>\n    </tr>\n    <tr>\n      <th>2019-05-07 04:00:00+00:00</th>\n      <td>NaN</td>\n      <td>61.9</td>\n      <td>16.0</td>\n    </tr>\n    <tr>\n      <th>2019-05-07 05:00:00+00:00</th>\n      <td>NaN</td>\n      <td>72.4</td>\n      <td>NaN</td>\n    </tr>\n  </tbody>\n</table>\n</div>"
     },
     "execution_count": 115,
     "metadata": {},
     "output_type": "execute_result"
    }
   ],
   "source": [
    "# 在关于重塑的教程中，引入枢轴（）来重塑数据表，每个测量位置作为一个单独的列：\n",
    "no_2 = air_quality.pivot(index=\"datetime\",\n",
    "                         columns=\"location\",\n",
    "                         values=\"value\")\n",
    "no_2.head()"
   ],
   "metadata": {
    "collapsed": false,
    "pycharm": {
     "name": "#%%\n"
    }
   }
  },
  {
   "cell_type": "code",
   "execution_count": 116,
   "outputs": [
    {
     "data": {
      "text/plain": "(Int64Index([2019, 2019, 2019, 2019, 2019, 2019, 2019, 2019, 2019, 2019,\n             ...\n             2019, 2019, 2019, 2019, 2019, 2019, 2019, 2019, 2019, 2019],\n            dtype='int64', name='datetime', length=1033),\n Int64Index([1, 1, 1, 1, 1, 1, 1, 1, 1, 1,\n             ...\n             3, 3, 3, 3, 3, 3, 3, 3, 3, 4],\n            dtype='int64', name='datetime', length=1033))"
     },
     "execution_count": 116,
     "metadata": {},
     "output_type": "execute_result"
    }
   ],
   "source": [
    "# 过旋转数据，日期时间信息成为表的索引。一般来说，将列设置为索引可以通过该函数实现。set_index\n",
    "# 与日期时间索引（即）配合用，可提供强大的功能。例如，我们不需要访问者来获取时间系列属性，但直接在索引上提供以下属性：DatetimeIndexdt\n",
    "no_2.index.year, no_2.index.weekday"
   ],
   "metadata": {
    "collapsed": false,
    "pycharm": {
     "name": "#%%\n"
    }
   }
  },
  {
   "cell_type": "code",
   "execution_count": 117,
   "outputs": [],
   "source": [
    "# 其他一些优点是方便的时间段子集或地块上的调整时间尺度。让我们将此应用到我们的数据中。"
   ],
   "metadata": {
    "collapsed": false,
    "pycharm": {
     "name": "#%%\n"
    }
   }
  },
  {
   "cell_type": "markdown",
   "source": [
    "#### 从 5 月 20 日到 5 月 21 日结束，在不同的车站创建值图 NO2"
   ],
   "metadata": {
    "collapsed": false
   }
  },
  {
   "cell_type": "code",
   "execution_count": 118,
   "outputs": [
    {
     "data": {
      "text/plain": "<AxesSubplot:xlabel='datetime'>"
     },
     "execution_count": 118,
     "metadata": {},
     "output_type": "execute_result"
    },
    {
     "data": {
      "text/plain": "<Figure size 432x288 with 1 Axes>",
      "image/png": "[encoded data removed]"
     },
     "metadata": {
      "needs_background": "light"
     },
     "output_type": "display_data"
    }
   ],
   "source": [
    "no_2[\"2019-05-20\": \"2019-05-21\"].plot()"
   ],
   "metadata": {
    "collapsed": false,
    "pycharm": {
     "name": "#%%\n"
    }
   }
  },
  {
   "cell_type": "markdown",
   "source": [
    "#### 将时间序列重新采样到另一个频率"
   ],
   "metadata": {
    "collapsed": false,
    "pycharm": {
     "name": "#%% md\n"
    }
   }
  },
  {
   "cell_type": "code",
   "execution_count": 119,
   "outputs": [
    {
     "data": {
      "text/plain": "location                   BETR801  FR04014  London Westminster\ndatetime                                                       \n2019-05-31 00:00:00+00:00     74.5     97.0                97.0\n2019-06-30 00:00:00+00:00     52.5     84.7                52.0",
      "text/html": "<div>\n<style scoped>\n    .dataframe tbody tr th:only-of-type {\n        vertical-align: middle;\n    }\n\n    .dataframe tbody tr th {\n        vertical-align: top;\n    }\n\n    .dataframe thead th {\n        text-align: right;\n    }\n</style>\n<table border=\"1\" class=\"dataframe\">\n  <thead>\n    <tr style=\"text-align: right;\">\n      <th>location</th>\n      <th>BETR801</th>\n      <th>FR04014</th>\n      <th>London Westminster</th>\n    </tr>\n    <tr>\n      <th>datetime</th>\n      <th></th>\n      <th></th>\n      <th></th>\n    </tr>\n  </thead>\n  <tbody>\n    <tr>\n      <th>2019-05-31 00:00:00+00:00</th>\n      <td>74.5</td>\n      <td>97.0</td>\n      <td>97.0</td>\n    </tr>\n    <tr>\n      <th>2019-06-30 00:00:00+00:00</th>\n      <td>52.5</td>\n      <td>84.7</td>\n      <td>52.0</td>\n    </tr>\n  </tbody>\n</table>\n</div>"
     },
     "execution_count": 119,
     "metadata": {},
     "output_type": "execute_result"
    }
   ],
   "source": [
    "# 将当前每小时时间序列的值合计为每个站点的月最大值。\n",
    "monthly_max = no_2.resample(\"M\").max()\n",
    "monthly_max"
   ],
   "metadata": {
    "collapsed": false,
    "pycharm": {
     "name": "#%%\n"
    }
   }
  },
  {
   "cell_type": "code",
   "execution_count": 120,
   "outputs": [
    {
     "data": {
      "text/plain": "'\\n使用日期时间索引的时间串联数据的一个非常强大的方法是能够将时间串联重新调到另一个频率（例如，将次要数据转换为 5 分钟数据）。\\n\\n重合（）方法类似于组比操作：\\n\\n它通过使用定义目标频率的字符串（例如,...）提供基于时间的分组M5H\\n\\n它需要一个聚合函数，如，,...meanmax\\n'"
     },
     "execution_count": 120,
     "metadata": {},
     "output_type": "execute_result"
    }
   ],
   "source": [
    "\"\"\"\n",
    "使用日期时间索引的时间串联数据的一个非常强大的方法是能够将时间串联重新调到另一个频率（例如，将次要数据转换为 5 分钟数据）。\n",
    "\n",
    "重合（）方法类似于组比操作：\n",
    "\n",
    "它通过使用定义目标频率的字符串（例如,...）提供基于时间的分组M5H\n",
    "\n",
    "它需要一个聚合函数，如，,...meanmax\n",
    "\"\"\""
   ],
   "metadata": {
    "collapsed": false,
    "pycharm": {
     "name": "#%%\n"
    }
   }
  },
  {
   "cell_type": "code",
   "execution_count": 121,
   "outputs": [
    {
     "data": {
      "text/plain": "<MonthEnd>"
     },
     "execution_count": 121,
     "metadata": {},
     "output_type": "execute_result"
    }
   ],
   "source": [
    "# 定义时，时间系列的频率由属性提供：freq\n",
    "monthly_max.index.freq"
   ],
   "metadata": {
    "collapsed": false,
    "pycharm": {
     "name": "#%%\n"
    }
   }
  },
  {
   "cell_type": "markdown",
   "source": [
    "#### 绘制每个站的每日平均值图 NO2\n"
   ],
   "metadata": {
    "collapsed": false,
    "pycharm": {
     "name": "#%% md\n"
    }
   }
  },
  {
   "cell_type": "code",
   "execution_count": 122,
   "outputs": [
    {
     "data": {
      "text/plain": "<AxesSubplot:xlabel='datetime'>"
     },
     "execution_count": 122,
     "metadata": {},
     "output_type": "execute_result"
    },
    {
     "data": {
      "text/plain": "<Figure size 720x360 with 1 Axes>",
      "image/png": "[encoded data removed]"
     },
     "metadata": {
      "needs_background": "light"
     },
     "output_type": "display_data"
    }
   ],
   "source": [
    "no_2.resample(\"D\").mean()\\\n",
    "    .plot(style=\"-0\", figsize=(10, 5))"
   ],
   "metadata": {
    "collapsed": false,
    "pycharm": {
     "name": "#%%\n"
    }
   }
  },
  {
   "cell_type": "code",
   "execution_count": 123,
   "outputs": [
    {
     "data": {
      "text/plain": "'\\n有关时间系列功率的更多详细信息，请在用户指南部分提供。resampling\\n\\n记得\\n\\n有效的日期字符串可以使用函数转换为日期时间对象，或作为读取函数的一部分。to_datetime\\n\\n熊猫中的日期对象支持使用访问器进行计算、逻辑操作和方便的日期相关属性。dt\\n\\nA 包含这些与日期相关的属性，并支持方便的切片。DatetimeIndex\\n\\nResample是改变时间系列频率的有力方法。\\n'"
     },
     "execution_count": 123,
     "metadata": {},
     "output_type": "execute_result"
    }
   ],
   "source": [
    "\"\"\"\n",
    "有关时间系列功率的更多详细信息，请在用户指南部分提供。resampling\n",
    "\n",
    "记得\n",
    "\n",
    "有效的日期字符串可以使用函数转换为日期时间对象，或作为读取函数的一部分。to_datetime\n",
    "\n",
    "熊猫中的日期对象支持使用访问器进行计算、逻辑操作和方便的日期相关属性。dt\n",
    "\n",
    "A 包含这些与日期相关的属性，并支持方便的切片。DatetimeIndex\n",
    "\n",
    "Resample是改变时间系列频率的有力方法。\n",
    "\"\"\""
   ],
   "metadata": {
    "collapsed": false,
    "pycharm": {
     "name": "#%%\n"
    }
   }
  }
 ],
 "metadata": {
  "kernelspec": {
   "name": "pycharm-a57ffa67",
   "language": "python",
   "display_name": "PyCharm (yalin-scikit-learn)"
  },
  "language_info": {
   "codemirror_mode": {
    "name": "ipython",
    "version": 2
   },
   "file_extension": ".py",
   "mimetype": "text/x-python",
   "name": "python",
   "nbconvert_exporter": "python",
   "pygments_lexer": "ipython2",
   "version": "2.7.6"
  }
 },
 "nbformat": 4,
 "nbformat_minor": 0
}