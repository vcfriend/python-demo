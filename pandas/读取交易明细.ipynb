{
 "cells": [
  {
   "cell_type": "code",
   "execution_count": 39,
   "metadata": {
    "collapsed": true
   },
   "outputs": [],
   "source": [
    "# coding=utf-8\n",
    "import pandas as pd\n"
   ]
  },
  {
   "cell_type": "code",
   "execution_count": 41,
   "outputs": [
    {
     "data": {
      "text/plain": "    序号 交易类型          时间       时间2  数量       开仓价格 平仓价格/均价    盈亏%      盈亏金额  \\\n0    1   开空  2017/08/21  18:15:00   1       1722   0.00%    2.4  1,722.00   \n1    2   平空  2017/08/22  18:15:00   1  1737/1722  -0.90% -154.8     0.80%   \n2    3   开多  2017/08/22  18:15:00   1       1737   0.00%    2.4  1,737.00   \n3    4   平多  2017/08/24  13:15:00   1  1721/1737  -0.95% -164.8     1.05%   \n4    5   开空  2017/08/24  13:15:00   1       1721   0.00%    2.4  1,721.00   \n5    6   平空  2017/09/04  13:30:00   1  1700/1721   1.19%  205.2     1.50%   \n6    7   开多  2017/09/04  13:30:00   1       1700   0.00%    2.4  1,700.00   \n7    8   平多  2017/09/08  14:15:00   1  1714/1700   0.80%  135.2     1.50%   \n8    9   开空  2017/09/08  14:15:00   1       1714   0.00%    2.4  1,714.00   \n9   10   平空  2017/09/13  18:15:00   1  1691/1714   1.31%  225.2     1.50%   \n10  11   开多  2017/09/13  18:15:00   1       1691   0.00%    2.4  1,691.00   \n11  12   平多  2017/09/15  17:45:00   1  1696/1691   0.27%   45.2     1.50%   \n12  13   开空  2017/09/15  17:45:00   1       1696   0.00%    2.4  1,696.00   \n13  14   平空  2017/09/19  18:30:00   1  1698/1696  -0.15%  -24.8     1.50%   \n14  15   开多  2017/09/19  18:30:00   1       1698   0.00%    2.4  1,698.00   \n\n    最大回撤(单品种)  累计盈亏金额    手续费   最大浮亏  持仓周期  保证金占用  \n0         NaN     NaN    NaN    NaN   NaN    NaN  \n1      -154.8     2.4 -192.4   15.0   0.0    NaN  \n2         NaN     NaN    NaN    NaN   NaN    NaN  \n3      -319.6     2.4 -162.4   19.0   0.0    NaN  \n4         NaN     NaN    NaN    NaN   NaN    NaN  \n5      -114.4     2.4  -82.4  106.0   0.0    NaN  \n6         NaN     NaN    NaN    NaN   NaN    NaN  \n7        20.8     2.4  -42.4   63.0   0.0    NaN  \n8         NaN     NaN    NaN    NaN   NaN    NaN  \n9       246.0     2.4  -42.4   52.0   0.0    NaN  \n10        NaN     NaN    NaN    NaN   NaN    NaN  \n11      291.2     2.4  -32.4   28.0   0.0    NaN  \n12        NaN     NaN    NaN    NaN   NaN    NaN  \n13      266.4     2.4  -62.4   33.0   0.0    NaN  \n14        NaN     NaN    NaN    NaN   NaN    NaN  ",
      "text/html": "<div>\n<style scoped>\n    .dataframe tbody tr th:only-of-type {\n        vertical-align: middle;\n    }\n\n    .dataframe tbody tr th {\n        vertical-align: top;\n    }\n\n    .dataframe thead th {\n        text-align: right;\n    }\n</style>\n<table border=\"1\" class=\"dataframe\">\n  <thead>\n    <tr style=\"text-align: right;\">\n      <th></th>\n      <th>序号</th>\n      <th>交易类型</th>\n      <th>时间</th>\n      <th>时间2</th>\n      <th>数量</th>\n      <th>开仓价格</th>\n      <th>平仓价格/均价</th>\n      <th>盈亏%</th>\n      <th>盈亏金额</th>\n      <th>最大回撤(单品种)</th>\n      <th>累计盈亏金额</th>\n      <th>手续费</th>\n      <th>最大浮亏</th>\n      <th>持仓周期</th>\n      <th>保证金占用</th>\n    </tr>\n  </thead>\n  <tbody>\n    <tr>\n      <th>0</th>\n      <td>1</td>\n      <td>开空</td>\n      <td>2017/08/21</td>\n      <td>18:15:00</td>\n      <td>1</td>\n      <td>1722</td>\n      <td>0.00%</td>\n      <td>2.4</td>\n      <td>1,722.00</td>\n      <td>NaN</td>\n      <td>NaN</td>\n      <td>NaN</td>\n      <td>NaN</td>\n      <td>NaN</td>\n      <td>NaN</td>\n    </tr>\n    <tr>\n      <th>1</th>\n      <td>2</td>\n      <td>平空</td>\n      <td>2017/08/22</td>\n      <td>18:15:00</td>\n      <td>1</td>\n      <td>1737/1722</td>\n      <td>-0.90%</td>\n      <td>-154.8</td>\n      <td>0.80%</td>\n      <td>-154.8</td>\n      <td>2.4</td>\n      <td>-192.4</td>\n      <td>15.0</td>\n      <td>0.0</td>\n      <td>NaN</td>\n    </tr>\n    <tr>\n      <th>2</th>\n      <td>3</td>\n      <td>开多</td>\n      <td>2017/08/22</td>\n      <td>18:15:00</td>\n      <td>1</td>\n      <td>1737</td>\n      <td>0.00%</td>\n      <td>2.4</td>\n      <td>1,737.00</td>\n      <td>NaN</td>\n      <td>NaN</td>\n      <td>NaN</td>\n      <td>NaN</td>\n      <td>NaN</td>\n      <td>NaN</td>\n    </tr>\n    <tr>\n      <th>3</th>\n      <td>4</td>\n      <td>平多</td>\n      <td>2017/08/24</td>\n      <td>13:15:00</td>\n      <td>1</td>\n      <td>1721/1737</td>\n      <td>-0.95%</td>\n      <td>-164.8</td>\n      <td>1.05%</td>\n      <td>-319.6</td>\n      <td>2.4</td>\n      <td>-162.4</td>\n      <td>19.0</td>\n      <td>0.0</td>\n      <td>NaN</td>\n    </tr>\n    <tr>\n      <th>4</th>\n      <td>5</td>\n      <td>开空</td>\n      <td>2017/08/24</td>\n      <td>13:15:00</td>\n      <td>1</td>\n      <td>1721</td>\n      <td>0.00%</td>\n      <td>2.4</td>\n      <td>1,721.00</td>\n      <td>NaN</td>\n      <td>NaN</td>\n      <td>NaN</td>\n      <td>NaN</td>\n      <td>NaN</td>\n      <td>NaN</td>\n    </tr>\n    <tr>\n      <th>5</th>\n      <td>6</td>\n      <td>平空</td>\n      <td>2017/09/04</td>\n      <td>13:30:00</td>\n      <td>1</td>\n      <td>1700/1721</td>\n      <td>1.19%</td>\n      <td>205.2</td>\n      <td>1.50%</td>\n      <td>-114.4</td>\n      <td>2.4</td>\n      <td>-82.4</td>\n      <td>106.0</td>\n      <td>0.0</td>\n      <td>NaN</td>\n    </tr>\n    <tr>\n      <th>6</th>\n      <td>7</td>\n      <td>开多</td>\n      <td>2017/09/04</td>\n      <td>13:30:00</td>\n      <td>1</td>\n      <td>1700</td>\n      <td>0.00%</td>\n      <td>2.4</td>\n      <td>1,700.00</td>\n      <td>NaN</td>\n      <td>NaN</td>\n      <td>NaN</td>\n      <td>NaN</td>\n      <td>NaN</td>\n      <td>NaN</td>\n    </tr>\n    <tr>\n      <th>7</th>\n      <td>8</td>\n      <td>平多</td>\n      <td>2017/09/08</td>\n      <td>14:15:00</td>\n      <td>1</td>\n      <td>1714/1700</td>\n      <td>0.80%</td>\n      <td>135.2</td>\n      <td>1.50%</td>\n      <td>20.8</td>\n      <td>2.4</td>\n      <td>-42.4</td>\n      <td>63.0</td>\n      <td>0.0</td>\n      <td>NaN</td>\n    </tr>\n    <tr>\n      <th>8</th>\n      <td>9</td>\n      <td>开空</td>\n      <td>2017/09/08</td>\n      <td>14:15:00</td>\n      <td>1</td>\n      <td>1714</td>\n      <td>0.00%</td>\n      <td>2.4</td>\n      <td>1,714.00</td>\n      <td>NaN</td>\n      <td>NaN</td>\n      <td>NaN</td>\n      <td>NaN</td>\n      <td>NaN</td>\n      <td>NaN</td>\n    </tr>\n    <tr>\n      <th>9</th>\n      <td>10</td>\n      <td>平空</td>\n      <td>2017/09/13</td>\n      <td>18:15:00</td>\n      <td>1</td>\n      <td>1691/1714</td>\n      <td>1.31%</td>\n      <td>225.2</td>\n      <td>1.50%</td>\n      <td>246.0</td>\n      <td>2.4</td>\n      <td>-42.4</td>\n      <td>52.0</td>\n      <td>0.0</td>\n      <td>NaN</td>\n    </tr>\n    <tr>\n      <th>10</th>\n      <td>11</td>\n      <td>开多</td>\n      <td>2017/09/13</td>\n      <td>18:15:00</td>\n      <td>1</td>\n      <td>1691</td>\n      <td>0.00%</td>\n      <td>2.4</td>\n      <td>1,691.00</td>\n      <td>NaN</td>\n      <td>NaN</td>\n      <td>NaN</td>\n      <td>NaN</td>\n      <td>NaN</td>\n      <td>NaN</td>\n    </tr>\n    <tr>\n      <th>11</th>\n      <td>12</td>\n      <td>平多</td>\n      <td>2017/09/15</td>\n      <td>17:45:00</td>\n      <td>1</td>\n      <td>1696/1691</td>\n      <td>0.27%</td>\n      <td>45.2</td>\n      <td>1.50%</td>\n      <td>291.2</td>\n      <td>2.4</td>\n      <td>-32.4</td>\n      <td>28.0</td>\n      <td>0.0</td>\n      <td>NaN</td>\n    </tr>\n    <tr>\n      <th>12</th>\n      <td>13</td>\n      <td>开空</td>\n      <td>2017/09/15</td>\n      <td>17:45:00</td>\n      <td>1</td>\n      <td>1696</td>\n      <td>0.00%</td>\n      <td>2.4</td>\n      <td>1,696.00</td>\n      <td>NaN</td>\n      <td>NaN</td>\n      <td>NaN</td>\n      <td>NaN</td>\n      <td>NaN</td>\n      <td>NaN</td>\n    </tr>\n    <tr>\n      <th>13</th>\n      <td>14</td>\n      <td>平空</td>\n      <td>2017/09/19</td>\n      <td>18:30:00</td>\n      <td>1</td>\n      <td>1698/1696</td>\n      <td>-0.15%</td>\n      <td>-24.8</td>\n      <td>1.50%</td>\n      <td>266.4</td>\n      <td>2.4</td>\n      <td>-62.4</td>\n      <td>33.0</td>\n      <td>0.0</td>\n      <td>NaN</td>\n    </tr>\n    <tr>\n      <th>14</th>\n      <td>15</td>\n      <td>开多</td>\n      <td>2017/09/19</td>\n      <td>18:30:00</td>\n      <td>1</td>\n      <td>1698</td>\n      <td>0.00%</td>\n      <td>2.4</td>\n      <td>1,698.00</td>\n      <td>NaN</td>\n      <td>NaN</td>\n      <td>NaN</td>\n      <td>NaN</td>\n      <td>NaN</td>\n      <td>NaN</td>\n    </tr>\n  </tbody>\n</table>\n</div>"
     },
     "execution_count": 41,
     "metadata": {},
     "output_type": "execute_result"
    }
   ],
   "source": [
    "df = pd.read_csv('./data/ma550公式测试系统.txt',\n",
    "                 sep='\\s+',  # 使用多个空格作为分隔符\n",
    "                 nrows=15,\n",
    "                 # usecols=['序号','时间','开仓价格','平仓价格/均价'],\n",
    "                 encoding='gb2312')\n",
    "\n",
    "# df = df[['序号','时间','开仓价格','平仓价格/均价']]\n",
    "df.head()\n",
    "#%\n",
    "\n"
   ],
   "metadata": {
    "collapsed": false,
    "pycharm": {
     "name": "#%%\n"
    }
   }
  },
  {
   "cell_type": "code",
   "execution_count": null,
   "outputs": [],
   "source": [],
   "metadata": {
    "collapsed": false,
    "pycharm": {
     "name": "#%%\n"
    }
   }
  }
 ],
 "metadata": {
  "kernelspec": {
   "name": "py39",
   "language": "python",
   "display_name": "py39"
  },
  "language_info": {
   "codemirror_mode": {
    "name": "ipython",
    "version": 2
   },
   "file_extension": ".py",
   "mimetype": "text/x-python",
   "name": "python",
   "nbconvert_exporter": "python",
   "pygments_lexer": "ipython2",
   "version": "2.7.6"
  }
 },
 "nbformat": 4,
 "nbformat_minor": 0
}